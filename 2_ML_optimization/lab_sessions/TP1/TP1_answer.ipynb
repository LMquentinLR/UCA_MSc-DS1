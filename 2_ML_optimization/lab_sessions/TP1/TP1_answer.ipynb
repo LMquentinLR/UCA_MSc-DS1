{
  "nbformat": 4,
  "nbformat_minor": 0,
  "metadata": {
    "colab": {
      "name": "TP1_answer.ipynb",
      "provenance": [],
      "collapsed_sections": []
    },
    "kernelspec": {
      "name": "python3",
      "display_name": "Python 3"
    }
  },
  "cells": [
    {
      "cell_type": "code",
      "metadata": {
        "colab": {
          "base_uri": "https://localhost:8080/"
        },
        "id": "xSYlUhwwZzH2",
        "outputId": "a42728a5-6c40-4d5b-9fc0-fd65c1ab070d"
      },
      "source": [
        "import os\r\n",
        "import torch\r\n",
        "import torch.distributed as dist\r\n",
        "from torch.multiprocessing import Process\r\n",
        "\r\n",
        "\r\n",
        "def print_rank():\r\n",
        "    print('Hello from process {} (out of {})!'.format(dist.get_rank(), dist.get_world_size()))\r\n",
        "\r\n",
        "def init_process(rank, size, fn, backend='gloo'):\r\n",
        "    \"\"\" Initialize the distributed environment. \"\"\"\r\n",
        "    os.environ['MASTER_ADDR'] = '127.0.0.1'\r\n",
        "    os.environ['MASTER_PORT'] = '21'\r\n",
        "    dist.init_process_group(backend, rank=rank, world_size=size)\r\n",
        "    fn()\r\n",
        "\r\n",
        "def main(fn, size=4):\r\n",
        "    processes = []\r\n",
        "    for rank in range(size):\r\n",
        "        p = Process(target=init_process, args=(rank, size, fn))\r\n",
        "        p.start()\r\n",
        "        processes.append(p)\r\n",
        "\r\n",
        "    for p in processes:\r\n",
        "        p.join()\r\n",
        "\r\n",
        "\r\n",
        "main(print_rank, size=4)"
      ],
      "execution_count": null,
      "outputs": [
        {
          "output_type": "stream",
          "text": [
            "Hello from process 0 (out of 4)!\n",
            "Hello from process 2 (out of 4)!\n",
            "Hello from process 3 (out of 4)!\n",
            "Hello from process 1 (out of 4)!\n"
          ],
          "name": "stdout"
        }
      ]
    },
    {
      "cell_type": "code",
      "metadata": {
        "colab": {
          "base_uri": "https://localhost:8080/"
        },
        "id": "einNJUh8Zy-Z",
        "outputId": "e3352404-39e7-438f-c3e5-9121b3d30630"
      },
      "source": [
        "#Answer for Task 1\r\n",
        "import random\r\n",
        "\r\n",
        "def broadcast_random(seed=1234):\r\n",
        "    rank = dist.get_rank()\r\n",
        "    size = dist.get_world_size()\r\n",
        "    tensor = torch.tensor(rank)\r\n",
        "    #print(f\"I am {rank} of {size} with a tensor {tensor}\")\r\n",
        "    \r\n",
        "    random.seed(seed)\r\n",
        "    random_group = random.sample([i for i in range(1,size)], 2)\r\n",
        "    random_group = random_group + [0]\r\n",
        "    print(f\"Rank 0 broadcasts to the group {random_group}\")\r\n",
        "    group = dist.new_group(random_group)\r\n",
        "\r\n",
        "    if rank == 0 : print(\"**********\\nStarting Communication\\n************\")\r\n",
        "    dist.broadcast(tensor=tensor, src=0, group=group)\r\n",
        "    print('Rank ', rank, ' has data ', tensor)\r\n",
        "\r\n",
        "main(broadcast_random, size=4)"
      ],
      "execution_count": null,
      "outputs": [
        {
          "output_type": "stream",
          "text": [
            "Rank 0 broadcasts to the group [2, 1, 0]\n",
            "Rank 0 broadcasts to the group [2, 1, 0]\n",
            "Rank 0 broadcasts to the group [2, 1, 0]\n",
            "Rank 0 broadcasts to the group [2, 1, 0]\n",
            "**********\n",
            "Starting Communication\n",
            "************\n",
            "Rank  3  has data  tensor(3)\n",
            "Rank  1  has data  tensor(0)\n",
            "Rank  2  has data  tensor(0)\n",
            "Rank  0  has data  tensor(0)\n"
          ],
          "name": "stdout"
        }
      ]
    },
    {
      "cell_type": "code",
      "metadata": {
        "colab": {
          "base_uri": "https://localhost:8080/"
        },
        "id": "eE0mRYiZZ7TG",
        "outputId": "5bb2a05f-b922-4113-b619-e005ddd3f70c"
      },
      "source": [
        "#Answer for Task 2\r\n",
        "\r\n",
        "def server_client_communication():\r\n",
        "    rank = dist.get_rank()\r\n",
        "    size = dist.get_world_size()\r\n",
        "    tensor = torch.tensor(rank)\r\n",
        "    iterations = 10\r\n",
        "    random.seed(0)\r\n",
        "    seeds = [random.randint(0,10000) for i in range(iterations)]\r\n",
        "    for i, sd in zip(range(iterations), seeds):\r\n",
        "        # Step 1\r\n",
        "        random.seed(sd)\r\n",
        "        random_group = random.sample([i for i in range(1,size)], 2)\r\n",
        "        random_group = random_group + [0]\r\n",
        "        if rank == 0: print(f\"Iter {i}: Rank 0 broadcasts to the group {random_group}\")\r\n",
        "        random_group_dist = dist.new_group(random_group)\r\n",
        "        dist.broadcast(tensor=tensor, src=0, group=random_group_dist)\r\n",
        "        \r\n",
        "        # Step 2\r\n",
        "        if rank in random_group and rank != 0: \r\n",
        "            tensor += 1\r\n",
        "\r\n",
        "        # Step 3\r\n",
        "        if rank == 0: tensor_old = tensor.clone()\r\n",
        "        dist.reduce(tensor=tensor, dst=0, op=dist.ReduceOp.SUM, group=random_group_dist)\r\n",
        "        if rank == 0: tensor -= tensor_old\r\n",
        "        tensor = tensor/2\r\n",
        "\r\n",
        "    if rank == 0: print(f\"The final value of Rank {0} is {tensor}\")\r\n",
        "\r\n",
        "main(server_client_communication, size=4)"
      ],
      "execution_count": null,
      "outputs": [
        {
          "output_type": "stream",
          "text": [
            "Iter 0: Rank 0 broadcasts to the group [2, 1, 0]\n",
            "Iter 1: Rank 0 broadcasts to the group [3, 2, 0]\n",
            "Iter 2: Rank 0 broadcasts to the group [3, 1, 0]\n",
            "Iter 3: Rank 0 broadcasts to the group [2, 1, 0]\n",
            "Iter 4: Rank 0 broadcasts to the group [3, 1, 0]\n",
            "Iter 5: Rank 0 broadcasts to the group [3, 2, 0]\n",
            "Iter 6: Rank 0 broadcasts to the group [3, 2, 0]\n",
            "Iter 7: Rank 0 broadcasts to the group [3, 1, 0]\n",
            "Iter 8: Rank 0 broadcasts to the group [2, 3, 0]\n",
            "Iter 9: Rank 0 broadcasts to the group [2, 1, 0]\n",
            "The final value of Rank 0 is 10.0\n"
          ],
          "name": "stdout"
        }
      ]
    },
    {
      "cell_type": "code",
      "metadata": {
        "id": "UNZsKk7KglPN",
        "colab": {
          "base_uri": "https://localhost:8080/"
        },
        "outputId": "ffe328c5-bbf0-4acf-babf-ebe4fd6a4e0f"
      },
      "source": [
        "# Task 3: Use \"send\" and \"receive\" to achieve the goal of reduce that rank 0 has the sum of all the values from rank 1 to 3\r\n",
        "def collect_sum():\r\n",
        "    rank = dist.get_rank()\r\n",
        "    size = dist.get_world_size()\r\n",
        "    tensor = torch.tensor(rank+1)\r\n",
        "    print(f\"I am {rank} of {size} with a tensor {tensor}\")\r\n",
        "    if rank == 0:\r\n",
        "        print(\"**********\\nStarting Communication\\n************\")\r\n",
        "        received_time = 0\r\n",
        "        tensor_sum = 0\r\n",
        "        while received_time < size-1:\r\n",
        "            dist.recv(tensor)\r\n",
        "            tensor_sum += tensor\r\n",
        "            received_time += 1\r\n",
        "        tensor = tensor_sum\r\n",
        "    else:\r\n",
        "        dist.send(tensor, dst=0)\r\n",
        "    print('Rank ', rank, ' has data ', tensor.item())\r\n",
        "\r\n",
        "main(collect_sum, size=4)"
      ],
      "execution_count": null,
      "outputs": [
        {
          "output_type": "stream",
          "text": [
            "I am 3 of 4 with a tensor 4\n",
            "I am 2 of 4 with a tensor 3\n",
            "I am 0 of 4 with a tensor 1\n",
            "I am 1 of 4 with a tensor 2\n",
            "**********\n",
            "Starting Communication\n",
            "************\n",
            "Rank  3  has data  4\n",
            "Rank  2  has data  3\n",
            "Rank  1  has data  2\n",
            "Rank  0  has data  9\n"
          ],
          "name": "stdout"
        }
      ]
    },
    {
      "cell_type": "code",
      "metadata": {
        "id": "o06LhSo9ac0B"
      },
      "source": [
        ""
      ],
      "execution_count": null,
      "outputs": []
    }
  ]
}