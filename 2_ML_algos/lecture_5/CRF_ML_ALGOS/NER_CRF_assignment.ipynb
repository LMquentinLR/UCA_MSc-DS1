{
 "cells": [
  {
   "cell_type": "markdown",
   "metadata": {},
   "source": [
    "**In this assignment you will be guided to add more features in order to get better performance!**"
   ]
  },
  {
   "cell_type": "code",
   "execution_count": 1,
   "metadata": {},
   "outputs": [],
   "source": [
    "import os\n",
    "path = os.getcwd() + \"/\""
   ]
  },
  {
   "cell_type": "code",
   "execution_count": 2,
   "metadata": {},
   "outputs": [],
   "source": [
    "import matplotlib.pyplot as plt"
   ]
  },
  {
   "cell_type": "code",
   "execution_count": 3,
   "metadata": {},
   "outputs": [],
   "source": [
    "from nltk.corpus import stopwords"
   ]
  },
  {
   "cell_type": "code",
   "execution_count": 4,
   "metadata": {},
   "outputs": [],
   "source": [
    "from itertools import chain\n",
    "\n",
    "import nltk\n",
    "import sklearn\n",
    "import scipy.stats\n",
    "from sklearn.metrics import make_scorer\n",
    "from sklearn.model_selection import cross_val_score\n",
    "from sklearn.model_selection import RandomizedSearchCV\n",
    "\n",
    "import sklearn_crfsuite\n",
    "from sklearn_crfsuite import scorers\n",
    "from sklearn_crfsuite import metrics"
   ]
  },
  {
   "cell_type": "markdown",
   "metadata": {},
   "source": [
    "A simple sentence NER example:\n",
    "\n",
    "[**ORG** U.N. ] official [**PER** Ekeus ] heads for [**LOC** Baghdad ] \n",
    "\n",
    "We will concentrate on four types of named entities:\n",
    " * persons (**PER**), \n",
    " * locations (**LOC**) \n",
    " * organizations (**ORG**)\n",
    " * Others (**O**)"
   ]
  },
  {
   "cell_type": "code",
   "execution_count": 5,
   "metadata": {},
   "outputs": [],
   "source": [
    "def _generate_examples(filepath):\n",
    "        with open(filepath, encoding=\"utf-8\") as f:\n",
    "            sent = []\n",
    "            for line in f:\n",
    "                if line.startswith(\"-DOCSTART-\") or line == \"\" or line == \"\\n\":\n",
    "                    if sent:\n",
    "                        yield sent\n",
    "                        sent = []\n",
    "                else:\n",
    "                    splits = line.split(\" \")\n",
    "                    token = splits[0]\n",
    "                    pos_tag = splits[1]\n",
    "                    ner_tag = splits[3].rstrip()\n",
    "                    if 'MISC' in ner_tag:\n",
    "                        ner_tag = 'O'\n",
    "                    \n",
    "                    sent.append((token, pos_tag, ner_tag))"
   ]
  },
  {
   "cell_type": "code",
   "execution_count": 7,
   "metadata": {},
   "outputs": [
    {
     "name": "stdout",
     "output_type": "stream",
     "text": [
      "CPU times: user 242 ms, sys: 19.1 ms, total: 261 ms\n",
      "Wall time: 262 ms\n"
     ]
    }
   ],
   "source": [
    "%%time\n",
    "train_sents = list(_generate_examples(path + 'train.txt'))\n",
    "test_sents = list(_generate_examples(path + 'test.txt'))"
   ]
  },
  {
   "cell_type": "markdown",
   "metadata": {},
   "source": [
    "Here we have succesfully loaded the trianing and test data.\n",
    "_________________"
   ]
  },
  {
   "cell_type": "markdown",
   "metadata": {},
   "source": [
    "Here is a list of english stopwords, and we would like to include it as a feature"
   ]
  },
  {
   "cell_type": "code",
   "execution_count": 8,
   "metadata": {},
   "outputs": [
    {
     "name": "stderr",
     "output_type": "stream",
     "text": [
      "[nltk_data] Downloading package stopwords to /home/qlr/nltk_data...\n",
      "[nltk_data]   Package stopwords is already up-to-date!\n"
     ]
    }
   ],
   "source": [
    "nltk.download('stopwords')\n",
    "stop_words = set(stopwords.words('english'))"
   ]
  },
  {
   "cell_type": "markdown",
   "metadata": {},
   "source": [
    "Here is a list of names, and we would like to include it as a feature"
   ]
  },
  {
   "cell_type": "code",
   "execution_count": 9,
   "metadata": {},
   "outputs": [],
   "source": [
    "names = set()\n",
    "with open(path + 'names.txt') as f:\n",
    "    for l in f:\n",
    "        names.add(l[:-1].lower())"
   ]
  },
  {
   "cell_type": "markdown",
   "metadata": {},
   "source": [
    "_____________________________________________________"
   ]
  },
  {
   "cell_type": "markdown",
   "metadata": {},
   "source": [
    "You are asked to change the `word2features` function to add the following features:\n",
    "\n",
    "**For the current word**:\n",
    "1. Add a feature named `word.isupper()` that tells if the word is in upper case (you can your the `isupper()` function in python)\n",
    "2. Add a feature named `word.isdigit()` that tells if the word is all digits (similarility you can use the `isdigit()` built-in python function)\n",
    "3. Add a feature named `word.l1_is_capital` that tells if the word starts with a capital letter\n",
    "4. Add a feature named `word.ends_in_dot` that tells if the word has lenght > 1 and ends with a dot (`.`)\n",
    "5. Add a feature named `word.is_stop_word` that tells is the word belongs to the list of stop words defined previously `stop_words` (don't forget to convert the word into lower case before testing, just to be case insensitive)\n",
    "6. Add a feature named `word.constains_digits` that tells if the word contains a digit or not\n",
    "7. Add a feature names `word.figures_in_names_list` that tells if the word belongs to the list of names we defined previously `names`. Again don't forget to change the word into lower case first.\n",
    "\n",
    "**For the previous word**: (BE CAREFUL, YOU SHOULD NOT USE `word`, USE `word1` instead):\n",
    "\n",
    "Add the same features. Just prepend the name of features with `-1:` (It's important for the different features to be of different names)\n",
    "\n",
    "**Add infomration about nextword**: (BE CAREFUL, YOU SHOULD NOT USE `word`, USE `word1` instead):\n",
    "\n",
    "* Add the same features. Just prepend the name of features with `+1:` (It's important for the different features to be of different names)\n",
    "\n",
    "* **PS**: If the word is the last one in the sentence (no next word), just add a feature named `EOS` = True to tell that the word is in the last position. JUst as we've did with `BOS`\n",
    "\n"
   ]
  },
  {
   "cell_type": "code",
   "execution_count": 30,
   "metadata": {},
   "outputs": [],
   "source": [
    "import re\n",
    "\n",
    "def contains(d, shape):\n",
    "    _digits = re.compile(shape)\n",
    "    return bool(_digits.search(d))"
   ]
  },
  {
   "cell_type": "code",
   "execution_count": 41,
   "metadata": {},
   "outputs": [],
   "source": [
    "def word2features(sent, i):\n",
    "    word = sent[i][0]\n",
    "    postag = sent[i][1]\n",
    "\n",
    "    features = {\n",
    "        'bias': 1.0,\n",
    "        'word.lower()': word.lower(),\n",
    "        'word.isupper()': word.isupper(),\n",
    "        'word.isdigit()': word.isdigit(),\n",
    "        'word.l1_is_capital': word[0].isupper(),\n",
    "        'word.ends_in_dot': (len(word)>1 and word[-1]=='.'),\n",
    "        'word.is_stop_word': word in stop_words,\n",
    "        'word.contains_digits': contains(word, '\\d'),\n",
    "        'word.figures_in_names_list': word in names,\n",
    "        'postag': postag,\n",
    "        # Add features of the current word here\n",
    "    }\n",
    "    \n",
    "    if i > 0:\n",
    "        word1 = sent[i-1][0]\n",
    "        postag1 = sent[i-1][1]\n",
    "        features.update({\n",
    "            '-1:word.lower()': word1.lower(),\n",
    "            '-1:word.isupper()': word1.isupper(),\n",
    "            '-1:word.isdigit()': word1.isdigit(),\n",
    "            '-1:word.l1_is_capital': word1[0].isupper(),\n",
    "            '-1:word.ends_in_dot': (len(word1)>1 and word1[-1]=='.'),\n",
    "            '-1:word.is_stop_word': word1 in stop_words,\n",
    "            '-1:word.contains_digits': contains(word1, '\\d'),\n",
    "            '-1:word.figures_in_names_list': word1 in names,\n",
    "            '-1:postag': postag1,\n",
    "            # Add features of previous word here\n",
    "        })\n",
    "    else:\n",
    "        features['BOS'] = True\n",
    "        \n",
    "    if i < len(sent)-1:\n",
    "        word1 = sent[i+1][0]\n",
    "        postag1 = sent[i+1][1]\n",
    "        features.update({\n",
    "            '+1:word.lower()': word1.lower(),\n",
    "            '+1:word.isupper()': word1.isupper(),\n",
    "            '+1:word.isdigit()': word1.isdigit(),\n",
    "            '+1:word.l1_is_capital': word1[0].isupper(),\n",
    "            '+1:word.ends_in_dot': (len(word1)>1 and word1[-1]=='.'),\n",
    "            '+1:word.is_stop_word': word1 in stop_words,\n",
    "            '+1:word.contains_digits': contains(word1, '\\d'),\n",
    "            '+1:word.figures_in_names_list': word1 in names,\n",
    "            '+1:postag': postag1,\n",
    "            # Add features of previous word here\n",
    "        })\n",
    "    else:\n",
    "        features['EOS'] = True\n",
    "        \n",
    "    return features"
   ]
  },
  {
   "cell_type": "code",
   "execution_count": 42,
   "metadata": {},
   "outputs": [],
   "source": [
    "def sent2features(sent):\n",
    "    return [word2features(sent, i) for i in range(len(sent))]\n",
    "\n",
    "def sent2labels(sent):\n",
    "    return [label for token, postag, label in sent]"
   ]
  },
  {
   "cell_type": "code",
   "execution_count": 43,
   "metadata": {},
   "outputs": [
    {
     "data": {
      "text/plain": [
       "[('SOCCER', 'NN', 'O'),\n",
       " ('-', ':', 'O'),\n",
       " ('JAPAN', 'NNP', 'B-LOC'),\n",
       " ('GET', 'VB', 'O'),\n",
       " ('LUCKY', 'NNP', 'O'),\n",
       " ('WIN', 'NNP', 'O'),\n",
       " (',', ',', 'O'),\n",
       " ('CHINA', 'NNP', 'B-LOC'),\n",
       " ('IN', 'IN', 'O'),\n",
       " ('SURPRISE', 'DT', 'O'),\n",
       " ('DEFEAT', 'NN', 'O'),\n",
       " ('.', '.', 'O')]"
      ]
     },
     "execution_count": 43,
     "metadata": {},
     "output_type": "execute_result"
    }
   ],
   "source": [
    "test_sents[0]"
   ]
  },
  {
   "cell_type": "code",
   "execution_count": 44,
   "metadata": {
    "scrolled": true
   },
   "outputs": [
    {
     "data": {
      "text/plain": [
       "[{'bias': 1.0,\n",
       "  'word.lower()': 'soccer',\n",
       "  'word.isupper()': True,\n",
       "  'word.isdigit()': False,\n",
       "  'word.l1_is_capital': True,\n",
       "  'word.ends_in_dot': False,\n",
       "  'word.is_stop_word': False,\n",
       "  'word.contains_digits': False,\n",
       "  'word.figures_in_names_list': False,\n",
       "  'postag': 'NN',\n",
       "  'BOS': True,\n",
       "  '+1:word.lower()': '-',\n",
       "  '+1:word.isupper()': False,\n",
       "  '+1:word.isdigit()': False,\n",
       "  '+1:word.l1_is_capital': False,\n",
       "  '+1:word.ends_in_dot': False,\n",
       "  '+1:word.is_stop_word': False,\n",
       "  '+1:word.contains_digits': False,\n",
       "  '+1:word.figures_in_names_list': False,\n",
       "  '+1:postag': ':'},\n",
       " {'bias': 1.0,\n",
       "  'word.lower()': '-',\n",
       "  'word.isupper()': False,\n",
       "  'word.isdigit()': False,\n",
       "  'word.l1_is_capital': False,\n",
       "  'word.ends_in_dot': False,\n",
       "  'word.is_stop_word': False,\n",
       "  'word.contains_digits': False,\n",
       "  'word.figures_in_names_list': False,\n",
       "  'postag': ':',\n",
       "  '-1:word.lower()': 'soccer',\n",
       "  '-1:word.isupper()': True,\n",
       "  '-1:word.isdigit()': False,\n",
       "  '-1:word.l1_is_capital': True,\n",
       "  '-1:word.ends_in_dot': False,\n",
       "  '-1:word.is_stop_word': False,\n",
       "  '-1:word.contains_digits': False,\n",
       "  '-1:word.figures_in_names_list': False,\n",
       "  '-1:postag': 'NN',\n",
       "  '+1:word.lower()': 'japan',\n",
       "  '+1:word.isupper()': True,\n",
       "  '+1:word.isdigit()': False,\n",
       "  '+1:word.l1_is_capital': True,\n",
       "  '+1:word.ends_in_dot': False,\n",
       "  '+1:word.is_stop_word': False,\n",
       "  '+1:word.contains_digits': False,\n",
       "  '+1:word.figures_in_names_list': False,\n",
       "  '+1:postag': 'NNP'},\n",
       " {'bias': 1.0,\n",
       "  'word.lower()': 'japan',\n",
       "  'word.isupper()': True,\n",
       "  'word.isdigit()': False,\n",
       "  'word.l1_is_capital': True,\n",
       "  'word.ends_in_dot': False,\n",
       "  'word.is_stop_word': False,\n",
       "  'word.contains_digits': False,\n",
       "  'word.figures_in_names_list': False,\n",
       "  'postag': 'NNP',\n",
       "  '-1:word.lower()': '-',\n",
       "  '-1:word.isupper()': False,\n",
       "  '-1:word.isdigit()': False,\n",
       "  '-1:word.l1_is_capital': False,\n",
       "  '-1:word.ends_in_dot': False,\n",
       "  '-1:word.is_stop_word': False,\n",
       "  '-1:word.contains_digits': False,\n",
       "  '-1:word.figures_in_names_list': False,\n",
       "  '-1:postag': ':',\n",
       "  '+1:word.lower()': 'get',\n",
       "  '+1:word.isupper()': True,\n",
       "  '+1:word.isdigit()': False,\n",
       "  '+1:word.l1_is_capital': True,\n",
       "  '+1:word.ends_in_dot': False,\n",
       "  '+1:word.is_stop_word': False,\n",
       "  '+1:word.contains_digits': False,\n",
       "  '+1:word.figures_in_names_list': False,\n",
       "  '+1:postag': 'VB'},\n",
       " {'bias': 1.0,\n",
       "  'word.lower()': 'get',\n",
       "  'word.isupper()': True,\n",
       "  'word.isdigit()': False,\n",
       "  'word.l1_is_capital': True,\n",
       "  'word.ends_in_dot': False,\n",
       "  'word.is_stop_word': False,\n",
       "  'word.contains_digits': False,\n",
       "  'word.figures_in_names_list': False,\n",
       "  'postag': 'VB',\n",
       "  '-1:word.lower()': 'japan',\n",
       "  '-1:word.isupper()': True,\n",
       "  '-1:word.isdigit()': False,\n",
       "  '-1:word.l1_is_capital': True,\n",
       "  '-1:word.ends_in_dot': False,\n",
       "  '-1:word.is_stop_word': False,\n",
       "  '-1:word.contains_digits': False,\n",
       "  '-1:word.figures_in_names_list': False,\n",
       "  '-1:postag': 'NNP',\n",
       "  '+1:word.lower()': 'lucky',\n",
       "  '+1:word.isupper()': True,\n",
       "  '+1:word.isdigit()': False,\n",
       "  '+1:word.l1_is_capital': True,\n",
       "  '+1:word.ends_in_dot': False,\n",
       "  '+1:word.is_stop_word': False,\n",
       "  '+1:word.contains_digits': False,\n",
       "  '+1:word.figures_in_names_list': False,\n",
       "  '+1:postag': 'NNP'},\n",
       " {'bias': 1.0,\n",
       "  'word.lower()': 'lucky',\n",
       "  'word.isupper()': True,\n",
       "  'word.isdigit()': False,\n",
       "  'word.l1_is_capital': True,\n",
       "  'word.ends_in_dot': False,\n",
       "  'word.is_stop_word': False,\n",
       "  'word.contains_digits': False,\n",
       "  'word.figures_in_names_list': False,\n",
       "  'postag': 'NNP',\n",
       "  '-1:word.lower()': 'get',\n",
       "  '-1:word.isupper()': True,\n",
       "  '-1:word.isdigit()': False,\n",
       "  '-1:word.l1_is_capital': True,\n",
       "  '-1:word.ends_in_dot': False,\n",
       "  '-1:word.is_stop_word': False,\n",
       "  '-1:word.contains_digits': False,\n",
       "  '-1:word.figures_in_names_list': False,\n",
       "  '-1:postag': 'VB',\n",
       "  '+1:word.lower()': 'win',\n",
       "  '+1:word.isupper()': True,\n",
       "  '+1:word.isdigit()': False,\n",
       "  '+1:word.l1_is_capital': True,\n",
       "  '+1:word.ends_in_dot': False,\n",
       "  '+1:word.is_stop_word': False,\n",
       "  '+1:word.contains_digits': False,\n",
       "  '+1:word.figures_in_names_list': False,\n",
       "  '+1:postag': 'NNP'},\n",
       " {'bias': 1.0,\n",
       "  'word.lower()': 'win',\n",
       "  'word.isupper()': True,\n",
       "  'word.isdigit()': False,\n",
       "  'word.l1_is_capital': True,\n",
       "  'word.ends_in_dot': False,\n",
       "  'word.is_stop_word': False,\n",
       "  'word.contains_digits': False,\n",
       "  'word.figures_in_names_list': False,\n",
       "  'postag': 'NNP',\n",
       "  '-1:word.lower()': 'lucky',\n",
       "  '-1:word.isupper()': True,\n",
       "  '-1:word.isdigit()': False,\n",
       "  '-1:word.l1_is_capital': True,\n",
       "  '-1:word.ends_in_dot': False,\n",
       "  '-1:word.is_stop_word': False,\n",
       "  '-1:word.contains_digits': False,\n",
       "  '-1:word.figures_in_names_list': False,\n",
       "  '-1:postag': 'NNP',\n",
       "  '+1:word.lower()': ',',\n",
       "  '+1:word.isupper()': False,\n",
       "  '+1:word.isdigit()': False,\n",
       "  '+1:word.l1_is_capital': False,\n",
       "  '+1:word.ends_in_dot': False,\n",
       "  '+1:word.is_stop_word': False,\n",
       "  '+1:word.contains_digits': False,\n",
       "  '+1:word.figures_in_names_list': False,\n",
       "  '+1:postag': ','},\n",
       " {'bias': 1.0,\n",
       "  'word.lower()': ',',\n",
       "  'word.isupper()': False,\n",
       "  'word.isdigit()': False,\n",
       "  'word.l1_is_capital': False,\n",
       "  'word.ends_in_dot': False,\n",
       "  'word.is_stop_word': False,\n",
       "  'word.contains_digits': False,\n",
       "  'word.figures_in_names_list': False,\n",
       "  'postag': ',',\n",
       "  '-1:word.lower()': 'win',\n",
       "  '-1:word.isupper()': True,\n",
       "  '-1:word.isdigit()': False,\n",
       "  '-1:word.l1_is_capital': True,\n",
       "  '-1:word.ends_in_dot': False,\n",
       "  '-1:word.is_stop_word': False,\n",
       "  '-1:word.contains_digits': False,\n",
       "  '-1:word.figures_in_names_list': False,\n",
       "  '-1:postag': 'NNP',\n",
       "  '+1:word.lower()': 'china',\n",
       "  '+1:word.isupper()': True,\n",
       "  '+1:word.isdigit()': False,\n",
       "  '+1:word.l1_is_capital': True,\n",
       "  '+1:word.ends_in_dot': False,\n",
       "  '+1:word.is_stop_word': False,\n",
       "  '+1:word.contains_digits': False,\n",
       "  '+1:word.figures_in_names_list': False,\n",
       "  '+1:postag': 'NNP'},\n",
       " {'bias': 1.0,\n",
       "  'word.lower()': 'china',\n",
       "  'word.isupper()': True,\n",
       "  'word.isdigit()': False,\n",
       "  'word.l1_is_capital': True,\n",
       "  'word.ends_in_dot': False,\n",
       "  'word.is_stop_word': False,\n",
       "  'word.contains_digits': False,\n",
       "  'word.figures_in_names_list': False,\n",
       "  'postag': 'NNP',\n",
       "  '-1:word.lower()': ',',\n",
       "  '-1:word.isupper()': False,\n",
       "  '-1:word.isdigit()': False,\n",
       "  '-1:word.l1_is_capital': False,\n",
       "  '-1:word.ends_in_dot': False,\n",
       "  '-1:word.is_stop_word': False,\n",
       "  '-1:word.contains_digits': False,\n",
       "  '-1:word.figures_in_names_list': False,\n",
       "  '-1:postag': ',',\n",
       "  '+1:word.lower()': 'in',\n",
       "  '+1:word.isupper()': True,\n",
       "  '+1:word.isdigit()': False,\n",
       "  '+1:word.l1_is_capital': True,\n",
       "  '+1:word.ends_in_dot': False,\n",
       "  '+1:word.is_stop_word': False,\n",
       "  '+1:word.contains_digits': False,\n",
       "  '+1:word.figures_in_names_list': False,\n",
       "  '+1:postag': 'IN'},\n",
       " {'bias': 1.0,\n",
       "  'word.lower()': 'in',\n",
       "  'word.isupper()': True,\n",
       "  'word.isdigit()': False,\n",
       "  'word.l1_is_capital': True,\n",
       "  'word.ends_in_dot': False,\n",
       "  'word.is_stop_word': False,\n",
       "  'word.contains_digits': False,\n",
       "  'word.figures_in_names_list': False,\n",
       "  'postag': 'IN',\n",
       "  '-1:word.lower()': 'china',\n",
       "  '-1:word.isupper()': True,\n",
       "  '-1:word.isdigit()': False,\n",
       "  '-1:word.l1_is_capital': True,\n",
       "  '-1:word.ends_in_dot': False,\n",
       "  '-1:word.is_stop_word': False,\n",
       "  '-1:word.contains_digits': False,\n",
       "  '-1:word.figures_in_names_list': False,\n",
       "  '-1:postag': 'NNP',\n",
       "  '+1:word.lower()': 'surprise',\n",
       "  '+1:word.isupper()': True,\n",
       "  '+1:word.isdigit()': False,\n",
       "  '+1:word.l1_is_capital': True,\n",
       "  '+1:word.ends_in_dot': False,\n",
       "  '+1:word.is_stop_word': False,\n",
       "  '+1:word.contains_digits': False,\n",
       "  '+1:word.figures_in_names_list': False,\n",
       "  '+1:postag': 'DT'},\n",
       " {'bias': 1.0,\n",
       "  'word.lower()': 'surprise',\n",
       "  'word.isupper()': True,\n",
       "  'word.isdigit()': False,\n",
       "  'word.l1_is_capital': True,\n",
       "  'word.ends_in_dot': False,\n",
       "  'word.is_stop_word': False,\n",
       "  'word.contains_digits': False,\n",
       "  'word.figures_in_names_list': False,\n",
       "  'postag': 'DT',\n",
       "  '-1:word.lower()': 'in',\n",
       "  '-1:word.isupper()': True,\n",
       "  '-1:word.isdigit()': False,\n",
       "  '-1:word.l1_is_capital': True,\n",
       "  '-1:word.ends_in_dot': False,\n",
       "  '-1:word.is_stop_word': False,\n",
       "  '-1:word.contains_digits': False,\n",
       "  '-1:word.figures_in_names_list': False,\n",
       "  '-1:postag': 'IN',\n",
       "  '+1:word.lower()': 'defeat',\n",
       "  '+1:word.isupper()': True,\n",
       "  '+1:word.isdigit()': False,\n",
       "  '+1:word.l1_is_capital': True,\n",
       "  '+1:word.ends_in_dot': False,\n",
       "  '+1:word.is_stop_word': False,\n",
       "  '+1:word.contains_digits': False,\n",
       "  '+1:word.figures_in_names_list': False,\n",
       "  '+1:postag': 'NN'},\n",
       " {'bias': 1.0,\n",
       "  'word.lower()': 'defeat',\n",
       "  'word.isupper()': True,\n",
       "  'word.isdigit()': False,\n",
       "  'word.l1_is_capital': True,\n",
       "  'word.ends_in_dot': False,\n",
       "  'word.is_stop_word': False,\n",
       "  'word.contains_digits': False,\n",
       "  'word.figures_in_names_list': False,\n",
       "  'postag': 'NN',\n",
       "  '-1:word.lower()': 'surprise',\n",
       "  '-1:word.isupper()': True,\n",
       "  '-1:word.isdigit()': False,\n",
       "  '-1:word.l1_is_capital': True,\n",
       "  '-1:word.ends_in_dot': False,\n",
       "  '-1:word.is_stop_word': False,\n",
       "  '-1:word.contains_digits': False,\n",
       "  '-1:word.figures_in_names_list': False,\n",
       "  '-1:postag': 'DT',\n",
       "  '+1:word.lower()': '.',\n",
       "  '+1:word.isupper()': False,\n",
       "  '+1:word.isdigit()': False,\n",
       "  '+1:word.l1_is_capital': False,\n",
       "  '+1:word.ends_in_dot': False,\n",
       "  '+1:word.is_stop_word': False,\n",
       "  '+1:word.contains_digits': False,\n",
       "  '+1:word.figures_in_names_list': False,\n",
       "  '+1:postag': '.'},\n",
       " {'bias': 1.0,\n",
       "  'word.lower()': '.',\n",
       "  'word.isupper()': False,\n",
       "  'word.isdigit()': False,\n",
       "  'word.l1_is_capital': False,\n",
       "  'word.ends_in_dot': False,\n",
       "  'word.is_stop_word': False,\n",
       "  'word.contains_digits': False,\n",
       "  'word.figures_in_names_list': False,\n",
       "  'postag': '.',\n",
       "  '-1:word.lower()': 'defeat',\n",
       "  '-1:word.isupper()': True,\n",
       "  '-1:word.isdigit()': False,\n",
       "  '-1:word.l1_is_capital': True,\n",
       "  '-1:word.ends_in_dot': False,\n",
       "  '-1:word.is_stop_word': False,\n",
       "  '-1:word.contains_digits': False,\n",
       "  '-1:word.figures_in_names_list': False,\n",
       "  '-1:postag': 'NN',\n",
       "  'EOS': True}]"
      ]
     },
     "execution_count": 44,
     "metadata": {},
     "output_type": "execute_result"
    }
   ],
   "source": [
    "[word2features(test_sents[0], i) for i in range(len(test_sents[0]))]"
   ]
  },
  {
   "cell_type": "markdown",
   "metadata": {},
   "source": [
    "Construct the features for the training and test test\n",
    "_________________________"
   ]
  },
  {
   "cell_type": "code",
   "execution_count": 45,
   "metadata": {},
   "outputs": [
    {
     "name": "stdout",
     "output_type": "stream",
     "text": [
      "CPU times: user 1.55 s, sys: 39 ms, total: 1.59 s\n",
      "Wall time: 1.6 s\n"
     ]
    }
   ],
   "source": [
    "%%time\n",
    "X_train = [sent2features(s) for s in train_sents]\n",
    "y_train = [sent2labels(s) for s in train_sents]\n",
    "\n",
    "X_test = [sent2features(s) for s in test_sents]\n",
    "y_test = [sent2labels(s) for s in test_sents]"
   ]
  },
  {
   "cell_type": "markdown",
   "metadata": {},
   "source": [
    "Train your CRF\n",
    "______________________________"
   ]
  },
  {
   "cell_type": "code",
   "execution_count": 46,
   "metadata": {},
   "outputs": [
    {
     "name": "stdout",
     "output_type": "stream",
     "text": [
      "CPU times: user 26.9 s, sys: 78 ms, total: 27 s\n",
      "Wall time: 27.2 s\n"
     ]
    },
    {
     "name": "stderr",
     "output_type": "stream",
     "text": [
      "/home/qlr/anaconda3/lib/python3.8/site-packages/sklearn/base.py:209: FutureWarning: From version 0.24, get_params will raise an AttributeError if a parameter cannot be retrieved as an instance attribute. Previously it would return None.\n",
      "  warnings.warn('From version 0.24, get_params will raise an '\n"
     ]
    },
    {
     "data": {
      "text/plain": [
       "CRF(algorithm='lbfgs', all_possible_transitions=True, c1=0.1, c2=0.1,\n",
       "    keep_tempfiles=None, max_iterations=100)"
      ]
     },
     "execution_count": 46,
     "metadata": {},
     "output_type": "execute_result"
    }
   ],
   "source": [
    "%%time\n",
    "crf = sklearn_crfsuite.CRF(\n",
    "    algorithm='lbfgs',\n",
    "    c1=0.1,\n",
    "    c2=0.1,\n",
    "    max_iterations=100,\n",
    "    all_possible_transitions=True\n",
    ")\n",
    "crf.fit(X_train, y_train)"
   ]
  },
  {
   "cell_type": "code",
   "execution_count": 47,
   "metadata": {},
   "outputs": [],
   "source": [
    "labels = list(crf.classes_)"
   ]
  },
  {
   "cell_type": "code",
   "execution_count": 48,
   "metadata": {},
   "outputs": [
    {
     "data": {
      "text/plain": [
       "['B-ORG', 'O', 'B-PER', 'I-PER', 'B-LOC', 'I-ORG', 'I-LOC']"
      ]
     },
     "execution_count": 48,
     "metadata": {},
     "output_type": "execute_result"
    }
   ],
   "source": [
    "labels"
   ]
  },
  {
   "cell_type": "code",
   "execution_count": 49,
   "metadata": {},
   "outputs": [],
   "source": [
    "labels.remove('O')"
   ]
  },
  {
   "cell_type": "markdown",
   "metadata": {},
   "source": [
    "Compute F1 score for different labels. Remove the 'O' label before that\n",
    "______________________"
   ]
  },
  {
   "cell_type": "code",
   "execution_count": 50,
   "metadata": {},
   "outputs": [
    {
     "data": {
      "text/plain": [
       "0.8252704236583717"
      ]
     },
     "execution_count": 50,
     "metadata": {},
     "output_type": "execute_result"
    }
   ],
   "source": [
    "y_pred = crf.predict(X_test)\n",
    "metrics.flat_f1_score(y_test, y_pred, average='weighted', labels=labels)"
   ]
  },
  {
   "cell_type": "code",
   "execution_count": 51,
   "metadata": {},
   "outputs": [],
   "source": [
    "# group B and I results\n",
    "sorted_labels = sorted(\n",
    "    labels,\n",
    "    key=lambda name: (name[1:], name[0])\n",
    ")"
   ]
  },
  {
   "cell_type": "code",
   "execution_count": 52,
   "metadata": {
    "scrolled": true
   },
   "outputs": [
    {
     "name": "stderr",
     "output_type": "stream",
     "text": [
      "/home/qlr/anaconda3/lib/python3.8/site-packages/sklearn/utils/validation.py:67: FutureWarning: Pass labels=['B-LOC', 'I-LOC', 'B-ORG', 'I-ORG', 'B-PER', 'I-PER'] as keyword args. From version 0.25 passing these as positional arguments will result in an error\n",
      "  warnings.warn(\"Pass {} as keyword args. From version 0.25 \"\n"
     ]
    },
    {
     "name": "stdout",
     "output_type": "stream",
     "text": [
      "              precision    recall  f1-score   support\n",
      "\n",
      "       B-LOC      0.867     0.853     0.860      1667\n",
      "       I-LOC      0.823     0.724     0.770       257\n",
      "       B-ORG      0.827     0.719     0.769      1660\n",
      "       I-ORG      0.740     0.733     0.736       834\n",
      "       B-PER      0.834     0.846     0.840      1615\n",
      "       I-PER      0.876     0.950     0.912      1156\n",
      "\n",
      "   micro avg      0.836     0.818     0.827      7189\n",
      "   macro avg      0.828     0.804     0.815      7189\n",
      "weighted avg      0.835     0.818     0.825      7189\n",
      "\n"
     ]
    }
   ],
   "source": [
    "print(metrics.flat_classification_report(\n",
    "    y_test, y_pred, labels=sorted_labels, digits=3\n",
    "))"
   ]
  },
  {
   "cell_type": "code",
   "execution_count": 53,
   "metadata": {},
   "outputs": [
    {
     "data": {
      "text/plain": [
       "49"
      ]
     },
     "execution_count": 53,
     "metadata": {},
     "output_type": "execute_result"
    }
   ],
   "source": [
    "len(crf.transition_features_)"
   ]
  },
  {
   "cell_type": "markdown",
   "metadata": {},
   "source": [
    "Show the 20 top and 20 least likely transitions between labels \n",
    "_________________"
   ]
  },
  {
   "cell_type": "code",
   "execution_count": 54,
   "metadata": {
    "scrolled": false
   },
   "outputs": [
    {
     "name": "stdout",
     "output_type": "stream",
     "text": [
      "Top likely transitions:\n",
      "B-ORG  -> I-ORG   5.827193\n",
      "B-PER  -> I-PER   4.684174\n",
      "I-ORG  -> I-ORG   4.547670\n",
      "B-LOC  -> I-LOC   3.857031\n",
      "I-LOC  -> I-LOC   3.762733\n",
      "O      -> O       3.723489\n",
      "I-PER  -> I-PER   3.021489\n",
      "O      -> B-PER   1.652605\n",
      "O      -> B-ORG   1.266949\n",
      "O      -> B-LOC   0.780464\n",
      "B-ORG  -> O       0.293434\n",
      "B-LOC  -> O       0.004557\n",
      "I-PER  -> O       -0.287651\n",
      "I-LOC  -> O       -0.324062\n",
      "B-PER  -> O       -0.341121\n",
      "I-ORG  -> O       -0.941013\n",
      "I-LOC  -> B-LOC   -1.430664\n",
      "I-LOC  -> B-ORG   -1.680629\n",
      "I-PER  -> I-ORG   -1.954587\n",
      "B-LOC  -> B-ORG   -1.968002\n",
      "\n",
      "Top unlikely transitions:\n",
      "B-PER  -> I-LOC   -2.609454\n",
      "I-PER  -> B-LOC   -2.703711\n",
      "B-ORG  -> I-LOC   -2.880424\n",
      "I-LOC  -> B-PER   -2.893446\n",
      "I-ORG  -> I-LOC   -2.940391\n",
      "B-ORG  -> I-PER   -3.300197\n",
      "B-LOC  -> B-PER   -3.323175\n",
      "B-ORG  -> B-LOC   -3.359997\n",
      "I-PER  -> B-PER   -3.391003\n",
      "B-LOC  -> I-ORG   -3.459021\n",
      "B-LOC  -> I-PER   -3.583470\n",
      "I-ORG  -> B-ORG   -3.634410\n",
      "I-ORG  -> B-LOC   -3.695969\n",
      "B-PER  -> B-ORG   -3.742814\n",
      "I-ORG  -> B-PER   -3.767966\n",
      "I-ORG  -> I-PER   -3.862416\n",
      "B-PER  -> B-PER   -4.520016\n",
      "O      -> I-PER   -4.729994\n",
      "O      -> I-LOC   -5.399466\n",
      "O      -> I-ORG   -5.822702\n"
     ]
    }
   ],
   "source": [
    "from collections import Counter\n",
    "\n",
    "def print_transitions(trans_features):\n",
    "    for (label_from, label_to), weight in trans_features:\n",
    "        print(\"%-6s -> %-7s %0.6f\" % (label_from, label_to, weight))\n",
    "\n",
    "print(\"Top likely transitions:\")\n",
    "print_transitions(Counter(crf.transition_features_).most_common(20))\n",
    "\n",
    "print(\"\\nTop unlikely transitions:\")\n",
    "print_transitions(Counter(crf.transition_features_).most_common()[-20:])"
   ]
  },
  {
   "cell_type": "code",
   "execution_count": 55,
   "metadata": {},
   "outputs": [
    {
     "data": {
      "text/plain": [
       "17919"
      ]
     },
     "execution_count": 55,
     "metadata": {},
     "output_type": "execute_result"
    }
   ],
   "source": [
    "len(crf.state_features_)"
   ]
  },
  {
   "cell_type": "markdown",
   "metadata": {},
   "source": [
    "Show the 50 top and 50 least likely state features (compatibility between features and labels)\n",
    "_______________"
   ]
  },
  {
   "cell_type": "code",
   "execution_count": 56,
   "metadata": {},
   "outputs": [
    {
     "name": "stdout",
     "output_type": "stream",
     "text": [
      "Top positive:\n",
      "6.780963 O        word.lower():september\n",
      "6.733413 B-LOC    word.lower():england\n",
      "6.639222 O        word.lower():june\n",
      "6.436755 B-LOC    word.lower():pakistan\n",
      "6.431660 O        word.lower():august\n",
      "6.408326 O        word.lower():july\n",
      "6.204839 O        +1:word.lower():open\n",
      "6.166702 O        word.lower():tuesday\n",
      "5.996229 O        word.lower():friday\n",
      "5.991452 B-LOC    word.lower():germany\n",
      "5.989684 O        word.lower():may\n",
      "5.968940 O        word.lower():thursday\n",
      "5.886973 O        word.lower():aug\n",
      "5.874153 O        word.lower():monday\n",
      "5.842614 O        word.lower():wednesday\n",
      "5.838268 B-ORG    -1:word.lower():v\n",
      "5.756147 I-ORG    word.lower():newsroom\n",
      "5.671975 O        word.lower():minister\n",
      "5.646289 B-PER    word.lower():clinton\n",
      "5.618795 B-LOC    word.lower():iraq\n",
      "5.572124 B-ORG    word.lower():u.n.\n",
      "5.571144 O        word.lower():march\n",
      "5.562797 B-LOC    word.lower():britain\n",
      "5.541021 O        word.lower():october\n",
      "5.513678 I-LOC    -1:word.lower():colo\n",
      "5.498038 I-LOC    -1:word.lower():wisc\n",
      "5.403695 O        word.lower():sunday\n",
      "5.336094 O        word.lower():saturday\n",
      "5.264802 O        word.lower():november\n",
      "5.181280 B-LOC    word.lower():china\n",
      "5.110877 B-LOC    word.lower():sweden\n",
      "5.093314 O        word.lower():april\n",
      "5.067647 B-LOC    word.lower():israel\n",
      "5.052301 B-LOC    word.lower():u.s.\n",
      "4.957986 B-LOC    word.lower():zimbabwe\n",
      "4.956016 O        word.lower():february\n",
      "4.949395 B-ORG    word.lower():rtrs\n",
      "4.938589 O        word.lower():january\n",
      "4.931753 B-LOC    word.lower():russia\n",
      "4.923124 B-ORG    word.lower():reuters\n",
      "4.854925 B-LOC    word.lower():australia\n",
      "4.835366 B-PER    word.lower():inzamam-ul-haq\n",
      "4.833449 B-LOC    word.lower():india\n",
      "4.806289 B-LOC    word.lower():brazil\n",
      "4.805293 B-ORG    word.lower():interfax\n",
      "4.796123 B-ORG    word.lower():ajax\n",
      "4.780387 B-LOC    word.lower():italy\n",
      "4.774472 B-PER    word.lower():yeltsin\n",
      "4.733870 B-ORG    word.lower():senate\n",
      "4.718627 B-PER    word.lower():lebed\n",
      "\n",
      "Top negative:\n",
      "-1.711133 I-ORG    word.contains_digits\n",
      "-1.715172 O        +1:word.lower():free\n",
      "-1.722410 O        word.lower():justice\n",
      "-1.728397 O        word.lower():s&p\n",
      "-1.734706 O        +1:word.lower():york\n",
      "-1.751179 O        +1:word.lower():india\n",
      "-1.773215 O        +1:word.lower():beat\n",
      "-1.780925 O        -1:word.lower():trainer\n",
      "-1.781475 O        -1:word.lower():cooperation\n",
      "-1.792439 B-LOC    -1:word.lower():new\n",
      "-1.827902 O        +1:word.lower():restaurant\n",
      "-1.841406 I-PER    postag:VBD\n",
      "-1.855854 O        +1:word.lower():munich\n",
      "-1.857414 O        word.lower():nice\n",
      "-1.899334 I-LOC    -1:word.lower():u.s.\n",
      "-1.905413 B-LOC    -1:postag:FW\n",
      "-1.919676 O        word.lower():de\n",
      "-1.933748 O        word.lower():31\n",
      "-1.962550 I-LOC    postag:NNS\n",
      "-1.997241 B-ORG    word.is_stop_word\n",
      "-2.013197 I-PER    word.contains_digits\n",
      "-2.046405 O        +1:word.lower():union\n",
      "-2.051477 O        word.lower():tankan\n",
      "-2.054306 O        +1:word.lower():v\n",
      "-2.055362 O        +1:word.lower():street\n",
      "-2.077365 O        +1:word.lower():d.c.\n",
      "-2.086055 I-LOC    postag:NN\n",
      "-2.101691 O        -1:word.lower():past\n",
      "-2.174001 O        -1:word.lower():2000\n",
      "-2.198006 O        -1:word.lower():200\n",
      "-2.201296 O        -1:word.lower():base\n",
      "-2.241966 O        +1:word.lower():yr\n",
      "-2.249713 B-LOC    +1:word.isdigit()\n",
      "-2.276598 O        -1:word.lower():diario\n",
      "-2.327118 O        -1:word.lower():official\n",
      "-2.336040 O        word.lower():16\n",
      "-2.350375 O        word.lower():wall\n",
      "-2.618207 I-PER    bias\n",
      "-2.747554 O        -1:word.lower():cdu\n",
      "-2.772147 O        word.lower():2000\n",
      "-3.019515 O        -1:word.lower():queen\n",
      "-3.069147 O        -1:word.lower():beat\n",
      "-3.113206 O        +1:word.lower():libor\n",
      "-3.231131 O        -1:word.lower():interior\n",
      "-3.458669 I-PER    word.isupper()\n",
      "-3.460476 O        +1:word.lower():arose\n",
      "-3.875223 O        -1:word.lower():lloyd\n",
      "-4.169736 O        -1:word.lower():moody\n",
      "-4.189990 I-LOC    +1:word.isdigit()\n",
      "-5.550985 O        word.l1_is_capital\n"
     ]
    }
   ],
   "source": [
    "def print_state_features(state_features):\n",
    "    for (attr, label), weight in state_features:\n",
    "        print(\"%0.6f %-8s %s\" % (weight, label, attr))\n",
    "\n",
    "print(\"Top positive:\")\n",
    "print_state_features(Counter(crf.state_features_).most_common(50))\n",
    "\n",
    "print(\"\\nTop negative:\")\n",
    "print_state_features(Counter(crf.state_features_).most_common()[-50:])"
   ]
  },
  {
   "cell_type": "markdown",
   "metadata": {},
   "source": [
    "See if you can spot some interesting features (both with positive and negative coefficients)"
   ]
  },
  {
   "cell_type": "raw",
   "metadata": {},
   "source": [
    "> 5.838268 B-ORG -1:word.lower():v\n",
    "\n",
    "In legal and news texts, the 'v' is often used to represent a judgement by a court/ongoing trial between two parties (such as the Supreme Court judgement in favor of abortion: Roe v Wade). It happens that it is likely the representation of a [something] v [ORG] such as [Shaw v United States](https://www.law.cornell.edu/supremecourt/text/15-5991).\n",
    "\n",
    "\n",
    "> -5.101840 O word.l1_is_capital \n",
    "\n",
    "There is a high likelihood that words starting with a capital are not just BOS words, but names, organisation abbreviations, etc.\n",
    "\n",
    "\n",
    "> -1.711133 I-ORG word.contains_digits\n",
    "\n",
    "It is unlikely that an organization has a digit in its name. \n",
    "\n",
    "\n",
    "> -2.013197 I-PER word.contains_digits\n",
    "\n",
    "It is unlikely that a person has a digit in its name"
   ]
  },
  {
   "cell_type": "code",
   "execution_count": null,
   "metadata": {},
   "outputs": [],
   "source": []
  }
 ],
 "metadata": {
  "kernelspec": {
   "display_name": "Python 3",
   "language": "python",
   "name": "python3"
  },
  "language_info": {
   "codemirror_mode": {
    "name": "ipython",
    "version": 3
   },
   "file_extension": ".py",
   "mimetype": "text/x-python",
   "name": "python",
   "nbconvert_exporter": "python",
   "pygments_lexer": "ipython3",
   "version": "3.8.5"
  }
 },
 "nbformat": 4,
 "nbformat_minor": 5
}
