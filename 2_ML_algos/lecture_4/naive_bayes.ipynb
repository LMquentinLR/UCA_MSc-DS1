{
 "cells": [
  {
   "cell_type": "markdown",
   "metadata": {},
   "source": [
    "Let's try to implement a simple naive bayes classifier"
   ]
  },
  {
   "cell_type": "code",
   "execution_count": 1,
   "metadata": {},
   "outputs": [],
   "source": [
    "import numpy as np\n",
    "import pandas as pd\n",
    "import seaborn as sns\n",
    "from matplotlib import pyplot as plt\n",
    "from sklearn.naive_bayes import GaussianNB\n",
    "from sklearn.model_selection import train_test_split\n",
    "RND_SEED = 241096\n",
    "np.random.seed(RND_SEED)"
   ]
  },
  {
   "cell_type": "code",
   "execution_count": 2,
   "metadata": {},
   "outputs": [],
   "source": [
    "NB_MALES = 1000\n",
    "MALES_MEAN_HEIGHT = 178.50 # cm\n",
    "MALES_STD_HEIGHT = 11 # cm\n",
    "MALES_MEAN_WEIGHT = 80 # kg\n",
    "MALES_STD_WEIGHT = 13 # kg\n",
    "MALES_MEAN_FOOT_SIZE = 28.5 # cm\n",
    "MALES_STD_FOOT_SIZE = 2.4 # cm"
   ]
  },
  {
   "cell_type": "markdown",
   "metadata": {},
   "source": [
    "Generate data (height, weight and foot size) on males."
   ]
  },
  {
   "cell_type": "code",
   "execution_count": 3,
   "metadata": {},
   "outputs": [],
   "source": [
    "males_height = np.random.normal(MALES_MEAN_HEIGHT, MALES_STD_HEIGHT, NB_MALES)\n",
    "males_weight = np.random.normal(MALES_MEAN_WEIGHT, MALES_STD_WEIGHT, NB_MALES)\n",
    "males_footsize = np.random.normal(MALES_MEAN_FOOT_SIZE, MALES_STD_FOOT_SIZE, NB_MALES)\n",
    "X_males, y_males = np.column_stack((males_height, males_weight, males_footsize)), np.zeros(NB_MALES)"
   ]
  },
  {
   "cell_type": "code",
   "execution_count": 4,
   "metadata": {},
   "outputs": [],
   "source": [
    "NB_FEMALES = 1000\n",
    "FEMALES_MEAN_HEIGHT = 165.1 # cm\n",
    "FEMALES_STD_HEIGHT = 6.35 # cm\n",
    "FEMALES_MEAN_WEIGHT = 60.1 # kg\n",
    "FEMALES_STD_WEIGHT = 10.4 # kg\n",
    "FEMALES_MEAN_FOOT_SIZE = 19. # cm\n",
    "FEMALES_STD_FOOT_SIZE = 2.27 # cm"
   ]
  },
  {
   "cell_type": "markdown",
   "metadata": {},
   "source": [
    "Generate data (height, weight and foot size) on females."
   ]
  },
  {
   "cell_type": "code",
   "execution_count": 5,
   "metadata": {},
   "outputs": [],
   "source": [
    "females_height = np.random.normal(FEMALES_MEAN_HEIGHT, FEMALES_STD_HEIGHT, NB_FEMALES)\n",
    "females_weight = np.random.normal(FEMALES_MEAN_WEIGHT, FEMALES_STD_WEIGHT, NB_FEMALES)\n",
    "females_footsize = np.random.normal(FEMALES_MEAN_FOOT_SIZE, FEMALES_STD_FOOT_SIZE, NB_FEMALES)\n",
    "X_females, y_females = np.column_stack([females_height, females_weight, females_footsize]), np.ones(NB_FEMALES)"
   ]
  },
  {
   "cell_type": "markdown",
   "metadata": {},
   "source": [
    "Plot features for both genders."
   ]
  },
  {
   "cell_type": "code",
   "execution_count": 6,
   "metadata": {},
   "outputs": [
    {
     "data": {
      "text/plain": [
       "<AxesSubplot:ylabel='Count'>"
      ]
     },
     "execution_count": 6,
     "metadata": {},
     "output_type": "execute_result"
    },
    {
     "data": {
      "image/png": "[encoded data removed]",
      "text/plain": [
       "<Figure size 1080x360 with 3 Axes>"
      ]
     },
     "metadata": {
      "needs_background": "light"
     },
     "output_type": "display_data"
    }
   ],
   "source": [
    "plt.figure(figsize=(15,5))\n",
    "plt.subplot(1,3,1)\n",
    "sns.histplot({'males':males_height, 'females':females_height})\n",
    "plt.subplot(1,3,2)\n",
    "sns.histplot({'males':males_weight, 'females':females_weight})\n",
    "plt.subplot(1,3,3)\n",
    "sns.histplot({'males':males_footsize, 'females':females_footsize})"
   ]
  },
  {
   "cell_type": "code",
   "execution_count": 9,
   "metadata": {},
   "outputs": [],
   "source": [
    "X, y = np.concatenate([X_males, X_females]), np.concatenate([y_males, y_females])"
   ]
  },
  {
   "cell_type": "code",
   "execution_count": 10,
   "metadata": {},
   "outputs": [],
   "source": [
    "X_train, X_test, y_train, y_test = train_test_split(X, y, test_size=0.2, random_state=RND_SEED)"
   ]
  },
  {
   "cell_type": "markdown",
   "metadata": {},
   "source": [
    "Instantiate a naive bayes classifier where features likelihood given a gender is maudeled using a gaussian. "
   ]
  },
  {
   "cell_type": "code",
   "execution_count": 11,
   "metadata": {},
   "outputs": [],
   "source": [
    "nbc = GaussianNB()"
   ]
  },
  {
   "cell_type": "markdown",
   "metadata": {},
   "source": [
    "Fit the classifier"
   ]
  },
  {
   "cell_type": "code",
   "execution_count": 12,
   "metadata": {},
   "outputs": [
    {
     "data": {
      "text/plain": [
       "GaussianNB()"
      ]
     },
     "execution_count": 12,
     "metadata": {},
     "output_type": "execute_result"
    }
   ],
   "source": [
    "nbc.fit(X_train, y_train)"
   ]
  },
  {
   "cell_type": "markdown",
   "metadata": {},
   "source": [
    "Score the classifier on using training data points."
   ]
  },
  {
   "cell_type": "code",
   "execution_count": 13,
   "metadata": {},
   "outputs": [
    {
     "data": {
      "text/plain": [
       "0.99"
      ]
     },
     "execution_count": 13,
     "metadata": {},
     "output_type": "execute_result"
    }
   ],
   "source": [
    "nbc.score(X_train, y_train)"
   ]
  },
  {
   "cell_type": "markdown",
   "metadata": {},
   "source": [
    "Score the classifier using test set"
   ]
  },
  {
   "cell_type": "code",
   "execution_count": 14,
   "metadata": {},
   "outputs": [
    {
     "data": {
      "text/plain": [
       "0.9875"
      ]
     },
     "execution_count": 14,
     "metadata": {},
     "output_type": "execute_result"
    }
   ],
   "source": [
    "nbc.score(X_test, y_test)"
   ]
  },
  {
   "cell_type": "markdown",
   "metadata": {},
   "source": [
    "Print class priors, as expected P(male) = P(female) = 0.5"
   ]
  },
  {
   "cell_type": "code",
   "execution_count": 15,
   "metadata": {},
   "outputs": [
    {
     "data": {
      "text/plain": [
       "array([0.5025, 0.4975])"
      ]
     },
     "execution_count": 15,
     "metadata": {},
     "output_type": "execute_result"
    }
   ],
   "source": [
    "nbc.class_prior_"
   ]
  },
  {
   "cell_type": "markdown",
   "metadata": {},
   "source": [
    "For each feature given a class print the mean (μ) of the corresponding normal distribution."
   ]
  },
  {
   "cell_type": "code",
   "execution_count": 16,
   "metadata": {},
   "outputs": [
    {
     "data": {
      "text/plain": [
       "array([[178.41080202,  80.83553806,  28.61855661],\n",
       "       [165.20225803,  60.53435096,  18.96931048]])"
      ]
     },
     "execution_count": 16,
     "metadata": {},
     "output_type": "execute_result"
    }
   ],
   "source": [
    "nbc.theta_"
   ]
  },
  {
   "cell_type": "markdown",
   "metadata": {},
   "source": [
    "For each feature given a class print the standard deviation (σ) of the corresponding normal distribution."
   ]
  },
  {
   "cell_type": "code",
   "execution_count": 15,
   "metadata": {},
   "outputs": [
    {
     "data": {
      "text/plain": [
       "array([[11.33461887, 13.13309089,  2.34549968],\n",
       "       [ 6.47824503, 10.5019695 ,  2.25783434]])"
      ]
     },
     "execution_count": 15,
     "metadata": {},
     "output_type": "execute_result"
    }
   ],
   "source": [
    "np.sqrt(nbc.sigma_)"
   ]
  }
 ],
 "metadata": {
  "kernelspec": {
   "display_name": "Python 3",
   "language": "python",
   "name": "python3"
  },
  "language_info": {
   "codemirror_mode": {
    "name": "ipython",
    "version": 3
   },
   "file_extension": ".py",
   "mimetype": "text/x-python",
   "name": "python",
   "nbconvert_exporter": "python",
   "pygments_lexer": "ipython3",
   "version": "3.8.5"
  }
 },
 "nbformat": 4,
 "nbformat_minor": 5
}
