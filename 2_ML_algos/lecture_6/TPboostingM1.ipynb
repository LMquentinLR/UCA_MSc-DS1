{
 "cells": [
  {
   "cell_type": "markdown",
   "metadata": {},
   "source": [
    "# TP boosting\n",
    "## dataset: MNIST"
   ]
  },
  {
   "cell_type": "code",
   "execution_count": 1,
   "metadata": {},
   "outputs": [
    {
     "name": "stdout",
     "output_type": "stream",
     "text": [
      "nb of train samples 60000\n"
     ]
    }
   ],
   "source": [
    "from tensorflow.keras.datasets import mnist\n",
    "(x_train, y_train), (x_test, y_test) = mnist.load_data()\n",
    "\n",
    "print(\"nb of train samples\",len(y_train))"
   ]
  },
  {
   "cell_type": "code",
   "execution_count": 2,
   "metadata": {},
   "outputs": [],
   "source": [
    "#quelques imports pour la suite\n",
    "import numpy as np\n",
    "from sklearn.utils import shuffle"
   ]
  },
  {
   "cell_type": "markdown",
   "metadata": {},
   "source": [
    "We choose 2 classes only for the binary classification: '4' and '8'. You can make another choice."
   ]
  },
  {
   "cell_type": "code",
   "execution_count": 17,
   "metadata": {},
   "outputs": [
    {
     "name": "stdout",
     "output_type": "stream",
     "text": [
      "(11693, 28, 28) (11693,)\n"
     ]
    }
   ],
   "source": [
    "# class of '4'\n",
    "x_train4 = x_train[y_train==4,:]\n",
    "# class of '8'\n",
    "x_train8 = x_train[y_train==8,:]\n",
    "\n",
    "# together\n",
    "x_trainBinaire = np.append(x_train4,x_train8,axis=0)\n",
    "# positive class: '8' ; negative class: '4' \n",
    "y_trainBinaire = np.append(np.full(len(x_train4),-1), np.full(len(x_train8),1))\n",
    "\n",
    "print(x_trainBinaire.shape, y_trainBinaire.shape)\n",
    "\n",
    "# shuffle together\n",
    "(x_trainBinaire,y_trainBinaire) = shuffle(x_trainBinaire,y_trainBinaire,random_state=0)"
   ]
  },
  {
   "cell_type": "markdown",
   "metadata": {},
   "source": [
    "## simple boosting on the data\n"
   ]
  },
  {
   "cell_type": "code",
   "execution_count": 4,
   "metadata": {},
   "outputs": [
    {
     "name": "stdout",
     "output_type": "stream",
     "text": [
      "(11693, 784)\n"
     ]
    }
   ],
   "source": [
    "n = x_trainBinaire.shape[0]\n",
    "x_trainBinaire = x_trainBinaire.reshape(n,-1)\n",
    "print(x_trainBinaire.shape)"
   ]
  },
  {
   "cell_type": "code",
   "execution_count": 5,
   "metadata": {},
   "outputs": [],
   "source": [
    "from sklearn import ensemble\n",
    "from sklearn.metrics import confusion_matrix\n",
    "from sklearn.utils import shuffle"
   ]
  },
  {
   "cell_type": "code",
   "execution_count": 6,
   "metadata": {},
   "outputs": [
    {
     "name": "stdout",
     "output_type": "stream",
     "text": [
      "confusion matrix on train data [[5809   33]\n",
      " [  49 5802]]\n"
     ]
    }
   ],
   "source": [
    "## boosting (Adaboost)\n",
    "# object boosting\n",
    "myboosting = ensemble.AdaBoostClassifier(n_estimators=50, learning_rate=1, algorithm='SAMME.R')\n",
    "# learning on the training dataset\n",
    "myboosting.fit(x_trainBinaire,y_trainBinaire)\n",
    "# prediction\n",
    "y_predBinaire = myboosting.predict(x_trainBinaire)\n",
    "print('confusion matrix on train data',confusion_matrix(y_trainBinaire,y_predBinaire))"
   ]
  },
  {
   "cell_type": "markdown",
   "metadata": {},
   "source": [
    "We printed the confusion matrix on train dataset. What is the influence of the varaible n_estimators ?\n",
    "\n",
    "**Performance increases**."
   ]
  },
  {
   "cell_type": "markdown",
   "metadata": {},
   "source": [
    "It is possible to display nicely the confusion matrix. For that, read the documentation: https://scikit-learn.org/stable/auto_examples/model_selection/plot_confusion_matrix.html."
   ]
  },
  {
   "cell_type": "markdown",
   "metadata": {},
   "source": [
    "Now compute the confusion matrix on the test dataset"
   ]
  },
  {
   "cell_type": "code",
   "execution_count": 7,
   "metadata": {},
   "outputs": [
    {
     "name": "stdout",
     "output_type": "stream",
     "text": [
      "(1956, 28, 28) (1956,)\n",
      "(1956, 784)\n"
     ]
    }
   ],
   "source": [
    "# pre-processing of test dataset (2 classes ....)\n",
    "\n",
    "# class of '4'\n",
    "x_test4 = x_test[y_test==4,:]\n",
    "# class of '8'\n",
    "x_test8 = x_test[y_test==8,:]\n",
    "\n",
    "# together\n",
    "x_testBinaire = np.append(x_test4,x_test8,axis=0)\n",
    "# positive class: '8' ; negative class: '4' \n",
    "y_testBinaire = np.append(np.full(len(x_test4),-1), np.full(len(x_test8),1))\n",
    "\n",
    "print(x_testBinaire.shape, y_testBinaire.shape)\n",
    "\n",
    "# shuffle together\n",
    "(x_testBinaire,y_testBinaire) = shuffle(x_testBinaire,y_testBinaire,random_state=0)\n",
    "\n",
    "n = x_testBinaire.shape[0]\n",
    "x_testBinaire = x_testBinaire.reshape(n,-1)\n",
    "print(x_testBinaire.shape)"
   ]
  },
  {
   "cell_type": "code",
   "execution_count": 8,
   "metadata": {},
   "outputs": [
    {
     "name": "stdout",
     "output_type": "stream",
     "text": [
      "confusion matrix on test data\n",
      " [[974   8]\n",
      " [ 13 961]]\n"
     ]
    }
   ],
   "source": [
    "# confusion matrix computation and display\n",
    "\n",
    "y_predBinaire = myboosting.predict(x_testBinaire)\n",
    "print('confusion matrix on test data\\n',confusion_matrix(y_testBinaire,y_predBinaire))"
   ]
  },
  {
   "cell_type": "markdown",
   "metadata": {},
   "source": [
    "## boosting on the 10 classes from MNIST:\n"
   ]
  },
  {
   "cell_type": "code",
   "execution_count": 9,
   "metadata": {},
   "outputs": [
    {
     "name": "stdout",
     "output_type": "stream",
     "text": [
      "confusion matrix on train data:\n",
      "\n",
      " [[5350    1   33   10    7  258  203   10   35   16]\n",
      " [   0 6356   48   21    8   36   30  157   80    6]\n",
      " [ 211  306 3288  139  121   91 1328  136  288   50]\n",
      " [ 313  232   96 3563   24  818  174  117  637  157]\n",
      " [  52   34  123   41 4563   55   95  341  158  380]\n",
      " [ 268  111   42  479   52 3469  374   52  433  141]\n",
      " [  89   57  269   14  213   77 5143    7   48    1]\n",
      " [  91   87  100   47  126   25    0 4486   66 1237]\n",
      " [ 119  442  124  380   86  204  183   78 4124  111]\n",
      " [  86   76  100  102  855   80    5  718  327 3600]]\n",
      "\n",
      "confusion matrix on train data:\n",
      "\n",
      " [[ 884    0    7    2    1   43   37    2    2    2]\n",
      " [   0 1076    5    5    3    5    2   22   17    0]\n",
      " [  35   59  564   25   16   14  230   27   56    6]\n",
      " [  52   34   17  590    0  140   23   18  114   22]\n",
      " [   4    0   16   10  774    9    7   56   31   75]\n",
      " [  44   23    4   75   15  558   68   12   74   19]\n",
      " [  16    3   44    3   37   29  816    2    8    0]\n",
      " [  12   18   24   10   14    3    0  727   15  205]\n",
      " [  27   49    8   63   24   33   47   11  689   23]\n",
      " [   9   14   18   14  152   11    0  110   63  618]]\n"
     ]
    }
   ],
   "source": [
    "## boosting (Adaboost)\n",
    "\n",
    "n = x_train.shape[0]\n",
    "x_train_reshaped = x_train.reshape(n,-1)\n",
    "(x_train_reshaped,y_train) = shuffle(x_train_reshaped,y_train,random_state=0)\n",
    "\n",
    "n = x_test.shape[0]\n",
    "x_test_reshaped = x_test.reshape(n,-1)\n",
    "(x_test_reshaped,y_test) = shuffle(x_test_reshaped,y_test,random_state=0)\n",
    "\n",
    "# object boosting\n",
    "myboosting = ensemble.AdaBoostClassifier(n_estimators=100, learning_rate=1, algorithm='SAMME.R')\n",
    "# learning on the training dataset\n",
    "myboosting.fit(x_train_reshaped,y_train)\n",
    "# prediction\n",
    "\n",
    "y_pred = myboosting.predict(x_train_reshaped)\n",
    "print('confusion matrix on train data:\\n\\n',confusion_matrix(y_train, y_pred))\n",
    "\n",
    "y_pred = myboosting.predict(x_test_reshaped)\n",
    "print('\\nconfusion matrix on train data:\\n\\n',confusion_matrix(y_test, y_pred))"
   ]
  },
  {
   "cell_type": "code",
   "execution_count": 10,
   "metadata": {},
   "outputs": [
    {
     "data": {
      "image/png": "[encoded data removed]",
      "text/plain": [
       "<Figure size 504x504 with 2 Axes>"
      ]
     },
     "metadata": {
      "needs_background": "light"
     },
     "output_type": "display_data"
    }
   ],
   "source": [
    "from sklearn.metrics import plot_confusion_matrix\n",
    "import matplotlib.pyplot as plt\n",
    "\n",
    "fig, ax = plt.subplots(figsize=(7, 7))\n",
    "plot_confusion_matrix(myboosting, x_test_reshaped, y_test,\n",
    "                      cmap=plt.cm.Blues,\n",
    "                      normalize='true', \n",
    "                      ax=ax)\n",
    "plt.title(\"Test Set Prediction Confusion Matrix\")\n",
    "plt.tight_layout()\n",
    "plt.grid(False)\n",
    "plt.show()"
   ]
  },
  {
   "cell_type": "markdown",
   "metadata": {},
   "source": [
    "## binary boosting using Haar filters\n",
    "The first step is the preparation of the data."
   ]
  },
  {
   "cell_type": "markdown",
   "metadata": {},
   "source": [
    "### Haar filters"
   ]
  },
  {
   "cell_type": "code",
   "execution_count": 51,
   "metadata": {},
   "outputs": [],
   "source": [
    "from skimage import feature\n",
    "from skimage import transform"
   ]
  },
  {
   "cell_type": "code",
   "execution_count": 52,
   "metadata": {},
   "outputs": [
    {
     "name": "stdout",
     "output_type": "stream",
     "text": [
      "(11693, 28, 28) (11693,)\n"
     ]
    }
   ],
   "source": [
    "# class of '4'\n",
    "x_train4 = x_train[y_train==4,:]\n",
    "# class of '8'\n",
    "x_train8 = x_train[y_train==8,:]\n",
    "\n",
    "# together\n",
    "x_trainBinaire = np.append(x_train4,x_train8,axis=0)\n",
    "# positive class: '8' ; negative class: '4' \n",
    "y_trainBinaire = np.append(np.full(len(x_train4),-1), np.full(len(x_train8),1))\n",
    "\n",
    "print(x_trainBinaire.shape, y_trainBinaire.shape)\n",
    "\n",
    "# shuffle together\n",
    "(x_trainBinaire,y_trainBinaire) = shuffle(x_trainBinaire,y_trainBinaire,random_state=0)"
   ]
  },
  {
   "cell_type": "markdown",
   "metadata": {},
   "source": [
    "For Haar filters, it is possible to generate them from the library tools or to build them by hand."
   ]
  },
  {
   "cell_type": "code",
   "execution_count": 53,
   "metadata": {},
   "outputs": [],
   "source": [
    "# automatic generation from:\n",
    "#       'type-2-x' and 'type-2-y'\n",
    "# and images dimension: 28x28\n",
    "feat_coord, feat_type = feature.haar_like_feature_coord(28, 28, ['type-2-x','type-2-y'])"
   ]
  },
  {
   "cell_type": "markdown",
   "metadata": {},
   "source": [
    "How many filters ? And compared to pixels number ?"
   ]
  },
  {
   "cell_type": "code",
   "execution_count": 54,
   "metadata": {
    "scrolled": true
   },
   "outputs": [
    {
     "name": "stdout",
     "output_type": "stream",
     "text": [
      "[list([[(0, 0), (0, 0)], [(0, 1), (0, 1)]])\n",
      " list([[(0, 0), (0, 1)], [(0, 2), (0, 3)]])\n",
      " list([[(0, 0), (0, 2)], [(0, 3), (0, 5)]]) ...\n",
      " list([[(26, 26), (26, 26)], [(27, 26), (27, 26)]])\n",
      " list([[(26, 26), (26, 27)], [(27, 26), (27, 27)]])\n",
      " list([[(26, 27), (26, 27)], [(27, 27), (27, 27)]])]\n",
      "\n",
      "['type-2-x' 'type-2-x' 'type-2-x' ... 'type-2-y' 'type-2-y' 'type-2-y']\n"
     ]
    }
   ],
   "source": [
    "print(feat_coord, feat_type, sep=\"\\n\\n\")"
   ]
  },
  {
   "cell_type": "code",
   "execution_count": null,
   "metadata": {},
   "outputs": [],
   "source": [
    "# images transformation: we apply all filters\n",
    "cpt=0\n",
    "\n",
    "for image in x_trainBinaire:\n",
    "    # integral image computation\n",
    "    int_image = transform.integral_image(image)\n",
    "#     print(int_image.shape)\n",
    "    # Haar filters computation\n",
    "    features = feature.haar_like_feature(int_image, \n",
    "                                         0, 0, 28, 28, \n",
    "                                         feature_type=feat_type,\n",
    "                                         feature_coord=feat_coord)\n",
    "    if cpt%1000 == 0:\n",
    "        ftrain = [features]\n",
    "    else:\n",
    "        ftrain = np.append(ftrain,[features],axis=0)\n",
    "    cpt += 1"
   ]
  },
  {
   "cell_type": "markdown",
   "metadata": {},
   "source": [
    "Applying Haar filters can take some time. Don't hesitate to save the results."
   ]
  },
  {
   "cell_type": "code",
   "execution_count": null,
   "metadata": {},
   "outputs": [],
   "source": [
    "# code for saving and loading python object\n",
    "import pickle\n",
    "# save ftrain in the file 'features.bin'\n",
    "with open('features.bin', 'wb') as output:\n",
    "        pickle.dump(ftrain, output, pickle.HIGHEST_PROTOCOL)\n",
    "# load ftrain from the saved file\n",
    "with open('features.bin', 'rb') as output:\n",
    "        ftrain = pickle.load(output)"
   ]
  },
  {
   "cell_type": "markdown",
   "metadata": {},
   "source": [
    "## binary boosting with Haar filters\n",
    "Compare the different options for the filters. Compare with the first boosting in this notebook. "
   ]
  },
  {
   "cell_type": "code",
   "execution_count": null,
   "metadata": {},
   "outputs": [],
   "source": [
    "ftrain.shape"
   ]
  },
  {
   "cell_type": "code",
   "execution_count": 46,
   "metadata": {},
   "outputs": [
    {
     "name": "stdout",
     "output_type": "stream",
     "text": [
      "(11693, 784)\n"
     ]
    }
   ],
   "source": [
    "n = x_trainBinaire.shape[0]\n",
    "x_trainBinaire = x_trainBinaire.reshape(n,-1)\n",
    "print(x_trainBinaire.shape)"
   ]
  },
  {
   "cell_type": "code",
   "execution_count": 47,
   "metadata": {},
   "outputs": [
    {
     "name": "stdout",
     "output_type": "stream",
     "text": [
      "confusion matrix on train data [[3300 2542]\n",
      " [2553 3298]]\n"
     ]
    }
   ],
   "source": [
    "## boosting (Adaboost)\n",
    "# object boosting\n",
    "myboosting = ensemble.AdaBoostClassifier(n_estimators=50, learning_rate=1, algorithm='SAMME.R')\n",
    "# learning on the training dataset\n",
    "myboosting.fit(x_trainBinaire,y_trainBinaire)\n",
    "# prediction\n",
    "y_predBinaire = myboosting.predict(x_trainBinaire)\n",
    "print('confusion matrix on train data',confusion_matrix(y_trainBinaire,y_predBinaire))"
   ]
  },
  {
   "cell_type": "markdown",
   "metadata": {},
   "source": [
    "## 10 classes boosting with Haar filters\n",
    "Same questions"
   ]
  },
  {
   "cell_type": "code",
   "execution_count": null,
   "metadata": {},
   "outputs": [],
   "source": []
  }
 ],
 "metadata": {
  "kernelspec": {
   "display_name": "Python 3",
   "language": "python",
   "name": "python3"
  },
  "language_info": {
   "codemirror_mode": {
    "name": "ipython",
    "version": 3
   },
   "file_extension": ".py",
   "mimetype": "text/x-python",
   "name": "python",
   "nbconvert_exporter": "python",
   "pygments_lexer": "ipython3",
   "version": "3.8.5"
  }
 },
 "nbformat": 4,
 "nbformat_minor": 2
}
