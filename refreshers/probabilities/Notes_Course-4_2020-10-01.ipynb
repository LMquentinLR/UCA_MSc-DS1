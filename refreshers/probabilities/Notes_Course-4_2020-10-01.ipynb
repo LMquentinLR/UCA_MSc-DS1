{
 "cells": [
  {
   "cell_type": "markdown",
   "metadata": {},
   "source": [
    "# COURSE 4 - Basic Probabilities"
   ]
  },
  {
   "cell_type": "markdown",
   "metadata": {},
   "source": [
    "*October 1st, 2020*\n",
    "\n",
    "**Teacher**: Christine Malot"
   ]
  },
  {
   "cell_type": "code",
   "execution_count": 2,
   "metadata": {},
   "outputs": [],
   "source": [
    "from IPython.display import Image"
   ]
  },
  {
   "cell_type": "markdown",
   "metadata": {},
   "source": [
    "**Remark**: When using capital letters, it references a Random Variable. When using a small cap letter, it references an observation."
   ]
  },
  {
   "cell_type": "markdown",
   "metadata": {},
   "source": [
    "## Convergence\n",
    "\n",
    "/!\\ *Convergence in probability is different from analysis*.\n",
    "\n",
    "There are four types of convergence to consider: \n",
    "\n",
    "1. In **probability**\n",
    "2. **Almost surely**\n",
    "3. in **distribution**\n",
    "4. in **$L^p$**\n",
    "\n",
    "We will need to introduce 2 main tools: **notion of limit of events&& and the **Borel-Cantelli** theorem.\n",
    "\n",
    "### Proposition:\n",
    "\n",
    "> we consider q sequence of events. $\\forall(A_i)_{i\\in I}$ a family of events. We assume that $\\forall i\\in I, P(A_i)=1$. It is an **almost surely event**. I.e. $\\exists$ event $N$ such that $P(N)=0$.\n",
    "\n",
    "**remark**: Imagine we have a rv. $X$, we have $P(X\\in A)=1$. $\\exists N \\in \\Omega$ such that $P(N)=0$. $\\forall w \\in \\Omega_N$, $X(\\omega)\\in A$"
   ]
  },
  {
   "cell_type": "markdown",
   "metadata": {},
   "source": [
    "## Convergence for a sequence of Random Variables\n",
    "\n",
    "We consider $(X_n)$ a sequence of real rv., and X a real rv."
   ]
  },
  {
   "cell_type": "markdown",
   "metadata": {},
   "source": [
    "If I is countable, $\\exists$ a bijection between I and N then $P(\\bigcap_{i\\in I}A_i) = 1$.\n",
    "\n",
    "**remark**. if $\\forall i \\in I$, $A_i$ is almost surely convergent and if I is countable, then almost surely $\\forall i \\in I$, $A_i$ is true.\n",
    "\n",
    "### Proof\n",
    "\n",
    "> $0 \\le P((\\bigcap_{i\\in I}A_i)^c) = P(\\bigcup_{i\\in I}A_i^c) \\le \\sum_{i\\in I} P(A_i^c) = 0$\n",
    ">\n",
    "> we deduce $P((\\bigcap_{i\\in I}A_i)^c) = 0 \\Rightarrow P(\\bigcap_{i\\in I}A_i)=1$\n",
    "\n",
    "**remark**: A is an event in $\\Omega$ such that $A^c=\\bar{A}$. $A^c$ is called the complementary event of $A$. i.e. {all element in $\\Omega$ that are not in $A$} and $P(A)+P(\\bar{A})=1$\n",
    "\n",
    "### Definition\n",
    "\n",
    "Let $(A_i)_{i \\ge 0}$ a sequence of events.\n",
    "\n",
    "1. $\\lim_k$ $sup$ $A_k = \\bigcap_{k\\ge0}\\bigcup_{i\\ge k} A_i$ | **interpretation**: $\\exists$ an infinite number of indices $i$ such that $A_i$ is true\n",
    "\n",
    "2. $\\lim_k$ $inf$ $A_k = \\bigcap_{k\\ge0}\\bigcup_{n\\ge k} A_i$ | **interpretation**: $\\exists N \\ge 0$ such that $\\forall i \\ge N$, $A_i$ is true\n",
    "\n",
    "**1** and **2** are also events.\n",
    "\n",
    "> **property**: $(\\lim_k$ $sup$ $A_k)^c = (\\lim_k$ $inf$ $A_k^c$)\n",
    "> \n",
    "> **theorem** (Borel-Cantelli theorem): Let $A_{i \\ge 0}$ a sequence of events then:\n",
    "1. if $\\sum_{n \\ge 0} P(A_n) \\lt +\\infty \\Rightarrow P(\\lim_k$ $sup$ $A_k)=0$\n",
    "2. if If we now assume that the $A_k$ are independent $\\perp$ and if $\\sum_{n \\ge 0} P(A_n) = 0 \\Rightarrow P(\\lim_k$ $sup$ $A_k)=1$\n",
    "\n",
    "This proves convergence almost surely."
   ]
  },
  {
   "cell_type": "markdown",
   "metadata": {},
   "source": [
    "## Convergence - In Probability\n",
    "\n",
    "We say that $X_n \\rightarrow_p X$ if $\\forall \\epsilon \\gt 0$, $\\lim_{n\\rightarrow+\\infty}P(|X_n-X|\\gt\\epsilon) = 0$\n",
    "\n",
    "### Bienaymé-Tchevichev Inequality\n",
    "Let T a rv. with a variance then:\n",
    "> $\\forall \\epsilon$, $P(|T-E[T]| \\gt \\epsilon) \\le \\frac{V[T]}{\\epsilon^2}$"
   ]
  },
  {
   "cell_type": "markdown",
   "metadata": {},
   "source": [
    "## Convergence - Almost Surely\n",
    "\n",
    "**definition**: We say that $(X_n) \\rightarrow_{as} X$ if $P(X_n\\rightarrow X)=1$\n",
    "\n",
    "**remark**: \n",
    "1. $X_{N_p} \\rightarrow_p$, $\\forall \\epsilon \\gt 0$, $\\forall \\eta \\gt 0$, $\\exists N \\in \\mathbb{N}$ such that $\\forall n \\ge N$, $0\\le P(|X_n-X|\\gt\\epsilon)\\le\\eta$\n",
    "2. $X\\rightarrow_{as}X$, $P(\\forall\\eta\\gt0,\\exists N\\in\\mathbb{N}$,$\\forall n\\ge N$,$0\\ge|X_n-X|\\ge\\eta)$\n",
    "\n",
    "**properties**: Their inverse are not true\n",
    "1. If $(X_n)\\rightarrow_{as}X$ then $(X_n)\\rightarrow_pX$\n",
    "2. If $(X_n)\\rightarrow_{p}X$ then $\\exists$ a subsequence $(X_{\\phi_n})\\rightarrow_{as}X$\n",
    "\n",
    "**remark**:\n",
    "> If $(X_n)\\rightarrow_{as}X$ is equivalent to $\\forall \\delta \\gt 0$, $P(\\lim sup \\{|X_n-X|\\gt\\delta\\})=0$\n",
    "> \n",
    "> In particular, if $\\sum_{n\\ge0}P({|X_n-X|\\gt\\delta}) \\gt \\infty$, then $X_n\\rightarrow_{as}X$ (consequence of Borel-Cantelli theorem)"
   ]
  },
  {
   "cell_type": "markdown",
   "metadata": {},
   "source": [
    "## Convergence in subspace $L^P$\n",
    "\n",
    "We say that $(X_n)\\rightarrow_{L^p}X$ if $\\lim_{n\\rightarrow +\\infty}E(|X_n-X|^p) = 0$\n",
    "\n",
    "We find a connexion with convergence in probability again.\n",
    "\n",
    "**properties**:\n",
    "1. if $(X_n)\\rightarrow_{L^p}X\\Rightarrow(X_n)\\rightarrow_pX$<p>if $(X_n)\\rightarrow_{L^p}X\\Rightarrow(X_n)\\rightarrow_LX$ if $p\\lt q$\n",
    "   <p>\n",
    "2. if $(X_n)\\rightarrow_{as}X$ and if $\\forall n \\in \\mathbb{N}$, $|X_n|\\lt Z$ with $E[Z] \\lt \\infty$ ($E[Z^n] \\lt \\infty$<p> $\\Rightarrow(X_n)\\rightarrow_{L^1}X$<p>"
   ]
  },
  {
   "cell_type": "markdown",
   "metadata": {},
   "source": [
    "## Convergence in distribution\n",
    "\n",
    "We say that $(X_n)\\rightarrow_{+\\infty}X$ if for all continuous and bounded function $\\phi$, $E[\\phi(X_n)]\\rightarrow_{n\\rightarrow+\\infty}E[\\phi(X)]$\n",
    "\n",
    "**theorem**: It is equivalent to say $X_n\\rightarrow_\\infty X$ for all continuous and bounded function $\\phi$ such that $E[\\phi(X_n)]\\rightarrow_\\infty E[\\phi(X)]$\n",
    "\n",
    "For all continuous function $\\phi$ defined on a **compact** ([...] or [...]U[...]), $E[\\phi(X_n)] \\rightarrow E[\\phi(X)]$.\n",
    "\n",
    "> $\\forall t \\in \\mathbb{R}$ where $F_\\lambda$ is continuous $F_{X_n}\\rightarrow_{n\\rightarrow\\infty}F_X(t)$\n",
    "> \n",
    "> $\\forall t \\in \\mathbb{R}$, $\\phi_{X_n}(t)\\rightarrow_{n\\rightarrow\\infty}\\phi_X(t)$\n",
    "\n",
    "### Link between convergence in distribution and other convergences\n",
    "\n",
    "> if $(X_n) \\rightarrow_p X \\Rightarrow (X_n) \\rightarrow_\\infty X$ inverse is not true except for $(X_n) \\rightarrow_p Constant \\Rightarrow (X_n) \\rightarrow_p X$"
   ]
  },
  {
   "cell_type": "markdown",
   "metadata": {},
   "source": [
    "## Summary\n",
    "\n",
    "1. $X_n\\rightarrow_{as}X \\Rightarrow X_n\\rightarrow_pX \\Rightarrow X_n\\rightarrow_\\infty X$ (only if X is a constant)\n",
    "<p>\n",
    "2. $X_n\\rightarrow_{L^p}X \\Rightarrow X_n\\rightarrow_{L^1}X \\Rightarrow X_n\\rightarrow_p X$"
   ]
  },
  {
   "cell_type": "markdown",
   "metadata": {},
   "source": [
    "## Law of Long Numbers\n",
    "\n",
    "Given $\\bar{X_n} = \\frac{X_1+X_2...+X_n}{n}$"
   ]
  },
  {
   "cell_type": "markdown",
   "metadata": {},
   "source": [
    "Let $(X_n)$ a sequence of random variables(independent and identically distributed, i.e. IDD), we assume that $E[X_1^2] \\lt \\infty$. Then:\n",
    "\n",
    "> **empirical mean**: $\\bar{X_n}\\rightarrow_pE[X]$\n",
    "\n",
    "### Proof\n",
    "\n",
    "We use Bienaymé-Tchebichev:  $E[\\bar{X_n}]=E[X_1]+V[\\frac{X_1+X_2...+X_n}{n}]$\n",
    "\n",
    "**remark on notation**:\n",
    "1. $S_n=X_1+X_2+...+X_n$\n",
    "2. $\\bar{X_n}=\\frac{X_1+X_2...+X_n}{n}$\n",
    "\n",
    "$E[\\bar{X_n}]=\\frac{E[X_1+X_2...+X_n]}{n} = n.\\frac{E[X_1]+E[X_2]...+E[X_n]}{n}=E[X_1]$\n",
    "\n",
    "$V[\\bar{X_n}] = V[\\frac{X_1+X_2...+X_n}{n}] = \\frac{1}{n^2}*V[X_1+X_2...+X_n]$ because of the independence of $X_i$ we have:\n",
    "<p>$V[\\bar{X_n}] = \\frac{1}{n^2}*(V[X_1]+V[X_2]+...+V[X_n]) = \\frac{n}{n^2}*v[X_1]$\n",
    "<p>$V[\\bar{X_n}] = \\frac{1}{n}.V[X_1]$"
   ]
  },
  {
   "cell_type": "markdown",
   "metadata": {},
   "source": [
    "## Central Limit Theorem\n",
    "\n",
    "Let $(X_n)$ a sequence of IDD rv. we assume these rv. have a variance. We denote\n",
    "\n",
    "> $\\mu = E[X_1]$ and $\\sigma^2 = V[X]$\n",
    ">\n",
    "> $\\sqrt{n}*\\frac{\\frac{S_n}{n}-\\mu}{\\sigma}\\rightarrow_\\infty N(0,1)$\n",
    ">\n",
    "> $\\sqrt{n}*\\frac{\\frac{S_n}{n}-\\mu}{\\sigma}$ can be approximated to $\\frac{1}{\\sqrt{n}}*\\frac{S_n-n.\\mu}{\\sigma}$"
   ]
  }
 ],
 "metadata": {
  "kernelspec": {
   "display_name": "Python 3",
   "language": "python",
   "name": "python3"
  },
  "language_info": {
   "codemirror_mode": {
    "name": "ipython",
    "version": 3
   },
   "file_extension": ".py",
   "mimetype": "text/x-python",
   "name": "python",
   "nbconvert_exporter": "python",
   "pygments_lexer": "ipython3",
   "version": "3.8.3"
  }
 },
 "nbformat": 4,
 "nbformat_minor": 4
}
