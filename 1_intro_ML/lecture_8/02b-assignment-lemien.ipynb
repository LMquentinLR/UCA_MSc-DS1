{
 "cells": [
  {
   "cell_type": "markdown",
   "metadata": {},
   "source": [
    "# Assignment: regression\n",
    "\n",
    "Regression is a predictive modeling task that involves predicting a numerical output given some input. It is different from classification tasks that involve predicting a class label.\n",
    "\n",
    "Typically, a regression task involves predicting a single numeric value. Although, some tasks require predicting more than one numeric value. These tasks are referred to as multiple-output regression, or multi-output regression for short.\n",
    "\n",
    "In multi-output regression, two or more outputs are required for each input sample, and the outputs are required simultaneously. The assumption is that the outputs are a function of the inputs.\n",
    "\n"
   ]
  },
  {
   "cell_type": "markdown",
   "metadata": {
    "toc": true
   },
   "source": [
    "<h1>Table of Contents<span class=\"tocSkip\"></span></h1>\n",
    "<div class=\"toc\"><ul class=\"toc-item\"><li><span><a href=\"#Train-with-a-real-dataset\" data-toc-modified-id=\"Train-with-a-real-dataset-1\"><span class=\"toc-item-num\">1&nbsp;&nbsp;</span>Train with a real dataset</a></span><ul class=\"toc-item\"><li><span><a href=\"#Preprocess-the-data-(outlier-?-missing-value-?)\" data-toc-modified-id=\"Preprocess-the-data-(outlier-?-missing-value-?)-1.1\"><span class=\"toc-item-num\">1.1&nbsp;&nbsp;</span>Preprocess the data (outlier ? missing value ?)</a></span></li><li><span><a href=\"#Build-and-fit-the-model\" data-toc-modified-id=\"Build-and-fit-the-model-1.2\"><span class=\"toc-item-num\">1.2&nbsp;&nbsp;</span>Build and fit the model</a></span></li><li><span><a href=\"#Predict-insurance-charge-on-new-data\" data-toc-modified-id=\"Predict-insurance-charge-on-new-data-1.3\"><span class=\"toc-item-num\">1.3&nbsp;&nbsp;</span>Predict insurance charge on new data</a></span></li></ul></li></ul></div>"
   ]
  },
  {
   "cell_type": "markdown",
   "metadata": {},
   "source": [
    "## Train with a real dataset\n",
    "\n",
    "Understanding the data\n",
    "* Age: insurance contractor age, years\n",
    "* Sex: insurance contractor gender, [female, male]\n",
    "* BMI: Body mass index, providing an understanding of body, weights that are relatively high or low relative to height, objective index of body weight (kg / m ^ 2) using the ratio of height to weight, ideally 18.5 to 24.9\n",
    "* Children: number of children covered by health insurance / Number of dependents\n",
    "* Smoker: smoking, [yes, no]\n",
    "* Region: the beneficiary’s residential area in the US, [northeast, southeast, southwest, northwest]\n",
    "\n",
    "You have to predict the charges\n",
    "* Charges: Individual medical costs billed by health insurance, $ #predicted value"
   ]
  },
  {
   "cell_type": "code",
   "execution_count": 1,
   "metadata": {
    "ExecuteTime": {
     "end_time": "2020-11-30T09:39:10.027117Z",
     "start_time": "2020-11-30T09:39:09.969737Z"
    }
   },
   "outputs": [
    {
     "data": {
      "text/html": [
       "<div>\n",
       "<style scoped>\n",
       "    .dataframe tbody tr th:only-of-type {\n",
       "        vertical-align: middle;\n",
       "    }\n",
       "\n",
       "    .dataframe tbody tr th {\n",
       "        vertical-align: top;\n",
       "    }\n",
       "\n",
       "    .dataframe thead th {\n",
       "        text-align: right;\n",
       "    }\n",
       "</style>\n",
       "<table border=\"1\" class=\"dataframe\">\n",
       "  <thead>\n",
       "    <tr style=\"text-align: right;\">\n",
       "      <th></th>\n",
       "      <th>age</th>\n",
       "      <th>sex</th>\n",
       "      <th>bmi</th>\n",
       "      <th>children</th>\n",
       "      <th>smoker</th>\n",
       "      <th>region</th>\n",
       "      <th>charges</th>\n",
       "    </tr>\n",
       "  </thead>\n",
       "  <tbody>\n",
       "    <tr>\n",
       "      <th>0</th>\n",
       "      <td>19</td>\n",
       "      <td>female</td>\n",
       "      <td>27.900</td>\n",
       "      <td>0</td>\n",
       "      <td>yes</td>\n",
       "      <td>southwest</td>\n",
       "      <td>16884.92400</td>\n",
       "    </tr>\n",
       "    <tr>\n",
       "      <th>1</th>\n",
       "      <td>18</td>\n",
       "      <td>male</td>\n",
       "      <td>33.770</td>\n",
       "      <td>1</td>\n",
       "      <td>no</td>\n",
       "      <td>southeast</td>\n",
       "      <td>1725.55230</td>\n",
       "    </tr>\n",
       "    <tr>\n",
       "      <th>2</th>\n",
       "      <td>28</td>\n",
       "      <td>male</td>\n",
       "      <td>33.000</td>\n",
       "      <td>3</td>\n",
       "      <td>no</td>\n",
       "      <td>southeast</td>\n",
       "      <td>4449.46200</td>\n",
       "    </tr>\n",
       "    <tr>\n",
       "      <th>3</th>\n",
       "      <td>33</td>\n",
       "      <td>male</td>\n",
       "      <td>22.705</td>\n",
       "      <td>0</td>\n",
       "      <td>no</td>\n",
       "      <td>northwest</td>\n",
       "      <td>21984.47061</td>\n",
       "    </tr>\n",
       "    <tr>\n",
       "      <th>4</th>\n",
       "      <td>32</td>\n",
       "      <td>male</td>\n",
       "      <td>28.880</td>\n",
       "      <td>0</td>\n",
       "      <td>no</td>\n",
       "      <td>northwest</td>\n",
       "      <td>3866.85520</td>\n",
       "    </tr>\n",
       "  </tbody>\n",
       "</table>\n",
       "</div>"
      ],
      "text/plain": [
       "   age     sex     bmi  children smoker     region      charges\n",
       "0   19  female  27.900         0    yes  southwest  16884.92400\n",
       "1   18    male  33.770         1     no  southeast   1725.55230\n",
       "2   28    male  33.000         3     no  southeast   4449.46200\n",
       "3   33    male  22.705         0     no  northwest  21984.47061\n",
       "4   32    male  28.880         0     no  northwest   3866.85520"
      ]
     },
     "execution_count": 1,
     "metadata": {},
     "output_type": "execute_result"
    }
   ],
   "source": [
    "import pandas as pd\n",
    "\n",
    "df = pd.read_csv(\"http://www.i3s.unice.fr/~riveill/dataset/insurance.csv\")\n",
    "df.head()"
   ]
  },
  {
   "cell_type": "code",
   "execution_count": 2,
   "metadata": {
    "ExecuteTime": {
     "end_time": "2020-11-30T09:39:11.207241Z",
     "start_time": "2020-11-30T09:39:10.656088Z"
    }
   },
   "outputs": [],
   "source": [
    "from sklearn.model_selection import train_test_split\n",
    "\n",
    "''' Split dataset '''\n",
    "df_train, df_test = train_test_split(df, test_size=0.2)"
   ]
  },
  {
   "cell_type": "markdown",
   "metadata": {},
   "source": [
    "### Preprocess the data (outlier ? missing value ?)"
   ]
  },
  {
   "cell_type": "code",
   "execution_count": 5,
   "metadata": {
    "ExecuteTime": {
     "end_time": "2020-11-30T09:40:56.342476Z",
     "start_time": "2020-11-30T09:40:56.337285Z"
    }
   },
   "outputs": [
    {
     "name": "stdout",
     "output_type": "stream",
     "text": [
      "There is no missing value on train\n",
      "There is no missing value on test\n"
     ]
    }
   ],
   "source": [
    "''' Check for missing value '''\n",
    "def missing_value(df, txt):\n",
    "    if df.isna().any().any():\n",
    "        print(\"Replace missing value on %s\" % txt)\n",
    "    else:\n",
    "        print(\"There is no missing value on %s\" % txt)\n",
    "        \n",
    "missing_value(df_train, \"train\")\n",
    "missing_value(df_test, \"test\")"
   ]
  },
  {
   "cell_type": "code",
   "execution_count": 7,
   "metadata": {
    "ExecuteTime": {
     "end_time": "2020-11-30T09:44:23.623397Z",
     "start_time": "2020-11-30T09:44:23.601224Z"
    }
   },
   "outputs": [],
   "source": [
    "from sklearn.preprocessing import OneHotEncoder, MinMaxScaler\n",
    "\n",
    "numerical = [\"age\", \"bmi\", \"children\"]\n",
    "categorical = [\"sex\", \"smoker\", \"region\"]\n",
    "target = ['charges']\n",
    "\n",
    "''' Normalize numerical features '''\n",
    "scalarX = MinMaxScaler()\n",
    "scalarX.fit(df_train[numerical])\n",
    "X_train = scalarX.transform(df_train[numerical])\n",
    "X_test = scalarX.transform(df_test[numerical])\n",
    "\n",
    "''' OneHotEncode categorical features '''\n",
    "ohe = OneHotEncoder(sparse=False)\n",
    "ohe.fit(df_train[categorical])\n",
    "X_train = np.concatenate((X_train, ohe.transform(df_train[categorical])), axis=1)\n",
    "X_test = np.concatenate((X_test, ohe.transform(df_test[categorical])), axis=1)\n",
    "\n",
    "''' Normalize labels '''\n",
    "scalarY = MinMaxScaler()\n",
    "scalarY.fit(df_train[target])\n",
    "y_train = scalarY.transform(df_train[target])\n",
    "y_test = scalarY.transform(df_test[target])"
   ]
  },
  {
   "cell_type": "code",
   "execution_count": 9,
   "metadata": {
    "ExecuteTime": {
     "end_time": "2020-11-30T09:44:38.083324Z",
     "start_time": "2020-11-30T09:44:38.080756Z"
    }
   },
   "outputs": [],
   "source": [
    "N_features = X_train.shape[1]\n",
    "N_targets = y_train.shape[1]"
   ]
  },
  {
   "cell_type": "markdown",
   "metadata": {},
   "source": [
    "### Build and fit the model"
   ]
  },
  {
   "cell_type": "code",
   "execution_count": 10,
   "metadata": {
    "ExecuteTime": {
     "end_time": "2020-11-30T09:44:54.282012Z",
     "start_time": "2020-11-30T09:44:51.887964Z"
    }
   },
   "outputs": [
    {
     "name": "stdout",
     "output_type": "stream",
     "text": [
      "Model: \"model\"\n",
      "_________________________________________________________________\n",
      "Layer (type)                 Output Shape              Param #   \n",
      "=================================================================\n",
      "input_1 (InputLayer)         [(None, 11)]              0         \n",
      "_________________________________________________________________\n",
      "dense (Dense)                (None, 16)                192       \n",
      "_________________________________________________________________\n",
      "dense_1 (Dense)              (None, 8)                 136       \n",
      "_________________________________________________________________\n",
      "dense_2 (Dense)              (None, 1)                 9         \n",
      "=================================================================\n",
      "Total params: 337\n",
      "Trainable params: 337\n",
      "Non-trainable params: 0\n",
      "_________________________________________________________________\n"
     ]
    }
   ],
   "source": [
    "''' Define and compile the model '''\n",
    "import tensorflow as tf\n",
    "from tensorflow import keras\n",
    "from keras.models import Model\n",
    "from keras.layers import Input, Dense\n",
    "from keras.metrics import RootMeanSquaredError\n",
    "\n",
    "optimizer = 'adam'\n",
    "loss = 'mean_squared_error'\n",
    "metrics = [RootMeanSquaredError()]\n",
    "\n",
    "# This returns a tensor\n",
    "inputs = Input(shape=(N_features,))\n",
    "\n",
    "# a layer instance is callable on a tensor, and returns a tensor\n",
    "output_1 = Dense(16, activation='relu')(inputs)\n",
    "output_2 = Dense(8, activation='relu')(output_1)\n",
    "predictions = Dense(N_targets, activation='linear')(output_2)\n",
    "\n",
    "# This creates a model that includes\n",
    "# the Input layer and three Dense layers\n",
    "model = Model(inputs=inputs, outputs=predictions)\n",
    "\n",
    "model.compile(optimizer=optimizer,\n",
    "              loss=loss,\n",
    "              metrics=metrics)\n",
    "\n",
    "model.summary()"
   ]
  },
  {
   "cell_type": "code",
   "execution_count": 11,
   "metadata": {
    "ExecuteTime": {
     "end_time": "2020-11-30T09:44:58.000393Z",
     "start_time": "2020-11-30T09:44:56.584383Z"
    }
   },
   "outputs": [
    {
     "name": "stdout",
     "output_type": "stream",
     "text": [
      "Epoch 1/20\n",
      "31/31 [==============================] - 0s 5ms/step - loss: 0.0804 - root_mean_squared_error: 0.2835 - val_loss: 0.0442 - val_root_mean_squared_error: 0.2103\n",
      "Epoch 2/20\n",
      "31/31 [==============================] - 0s 2ms/step - loss: 0.0465 - root_mean_squared_error: 0.2156 - val_loss: 0.0232 - val_root_mean_squared_error: 0.1523\n",
      "Epoch 3/20\n",
      "31/31 [==============================] - 0s 2ms/step - loss: 0.0303 - root_mean_squared_error: 0.1742 - val_loss: 0.0171 - val_root_mean_squared_error: 0.1306\n",
      "Epoch 4/20\n",
      "31/31 [==============================] - 0s 2ms/step - loss: 0.0217 - root_mean_squared_error: 0.1472 - val_loss: 0.0142 - val_root_mean_squared_error: 0.1192\n",
      "Epoch 5/20\n",
      "31/31 [==============================] - 0s 1ms/step - loss: 0.0158 - root_mean_squared_error: 0.1258 - val_loss: 0.0129 - val_root_mean_squared_error: 0.1134\n",
      "Epoch 6/20\n",
      "31/31 [==============================] - 0s 1ms/step - loss: 0.0129 - root_mean_squared_error: 0.1134 - val_loss: 0.0125 - val_root_mean_squared_error: 0.1118\n",
      "Epoch 7/20\n",
      "31/31 [==============================] - 0s 2ms/step - loss: 0.0118 - root_mean_squared_error: 0.1085 - val_loss: 0.0119 - val_root_mean_squared_error: 0.1093\n",
      "Epoch 8/20\n",
      "31/31 [==============================] - 0s 1ms/step - loss: 0.0112 - root_mean_squared_error: 0.1058 - val_loss: 0.0117 - val_root_mean_squared_error: 0.1083\n",
      "Epoch 9/20\n",
      "31/31 [==============================] - 0s 1ms/step - loss: 0.0108 - root_mean_squared_error: 0.1038 - val_loss: 0.0118 - val_root_mean_squared_error: 0.1085\n",
      "Epoch 10/20\n",
      "31/31 [==============================] - 0s 2ms/step - loss: 0.0104 - root_mean_squared_error: 0.1020 - val_loss: 0.0111 - val_root_mean_squared_error: 0.1054\n",
      "Epoch 11/20\n",
      "31/31 [==============================] - 0s 1ms/step - loss: 0.0102 - root_mean_squared_error: 0.1011 - val_loss: 0.0113 - val_root_mean_squared_error: 0.1062\n",
      "Epoch 12/20\n",
      "31/31 [==============================] - 0s 2ms/step - loss: 0.0101 - root_mean_squared_error: 0.1005 - val_loss: 0.0111 - val_root_mean_squared_error: 0.1054\n",
      "Epoch 13/20\n",
      "31/31 [==============================] - 0s 1ms/step - loss: 0.0098 - root_mean_squared_error: 0.0992 - val_loss: 0.0108 - val_root_mean_squared_error: 0.1039\n",
      "Epoch 14/20\n",
      "31/31 [==============================] - 0s 2ms/step - loss: 0.0097 - root_mean_squared_error: 0.0986 - val_loss: 0.0104 - val_root_mean_squared_error: 0.1018\n",
      "Epoch 15/20\n",
      "31/31 [==============================] - 0s 1ms/step - loss: 0.0096 - root_mean_squared_error: 0.0979 - val_loss: 0.0106 - val_root_mean_squared_error: 0.1029\n",
      "Epoch 16/20\n",
      "31/31 [==============================] - 0s 2ms/step - loss: 0.0095 - root_mean_squared_error: 0.0973 - val_loss: 0.0108 - val_root_mean_squared_error: 0.1041\n",
      "Epoch 17/20\n",
      "31/31 [==============================] - 0s 1ms/step - loss: 0.0093 - root_mean_squared_error: 0.0963 - val_loss: 0.0104 - val_root_mean_squared_error: 0.1018\n",
      "Epoch 18/20\n",
      "31/31 [==============================] - 0s 2ms/step - loss: 0.0091 - root_mean_squared_error: 0.0956 - val_loss: 0.0098 - val_root_mean_squared_error: 0.0990\n",
      "Epoch 19/20\n",
      "31/31 [==============================] - 0s 1ms/step - loss: 0.0090 - root_mean_squared_error: 0.0951 - val_loss: 0.0103 - val_root_mean_squared_error: 0.1015\n",
      "Epoch 20/20\n",
      "31/31 [==============================] - 0s 1ms/step - loss: 0.0089 - root_mean_squared_error: 0.0946 - val_loss: 0.0100 - val_root_mean_squared_error: 0.0998\n"
     ]
    }
   ],
   "source": [
    "N_epochs = 20\n",
    "validation_split = 0.1\n",
    "\n",
    "history = model.fit(X_train, y_train, epochs=N_epochs, validation_split=validation_split)"
   ]
  },
  {
   "cell_type": "code",
   "execution_count": 12,
   "metadata": {
    "ExecuteTime": {
     "end_time": "2020-11-30T09:45:01.289687Z",
     "start_time": "2020-11-30T09:45:01.120210Z"
    }
   },
   "outputs": [
    {
     "name": "stdout",
     "output_type": "stream",
     "text": [
      "dict_keys(['loss', 'root_mean_squared_error', 'val_loss', 'val_root_mean_squared_error'])\n"
     ]
    },
    {
     "data": {
      "image/png": "[encoded data removed]",
      "text/plain": [
       "<Figure size 432x288 with 1 Axes>"
      ]
     },
     "metadata": {
      "needs_background": "light"
     },
     "output_type": "display_data"
    }
   ],
   "source": [
    "import matplotlib.pyplot as plt\n",
    "%matplotlib inline\n",
    "\n",
    "# plot history\n",
    "# list all data in history\n",
    "print(history.history.keys())\n",
    "# summarize history for loss\n",
    "plt.plot(history.history['loss'])\n",
    "plt.plot(history.history['val_loss'])\n",
    "plt.title('model loss')\n",
    "plt.ylabel('loss')\n",
    "plt.xlabel('epoch')\n",
    "plt.legend(['loss train', 'loss val'], loc='upper left')\n",
    "plt.show()"
   ]
  },
  {
   "cell_type": "markdown",
   "metadata": {},
   "source": [
    "### Predict insurance charge on new data\n",
    "\n",
    "Let’s imagine 3 different people and see what charges on health care will be for them.\n",
    "\n",
    "* Bob: 19 years old, BMI 27.9, has no children, smokes, from northwest region.\n",
    "* Lisa: 40 years old, BMI 50, 2 children, doesn’t smoke, from southeast region.\n",
    "* John: 30 years old. BMI 31.2, no children, doesn’t smoke, from northeast region."
   ]
  },
  {
   "cell_type": "code",
   "execution_count": 13,
   "metadata": {
    "ExecuteTime": {
     "end_time": "2020-11-30T09:45:07.877395Z",
     "start_time": "2020-11-30T09:45:07.871901Z"
    }
   },
   "outputs": [
    {
     "data": {
      "text/plain": [
       "(3, 6)"
      ]
     },
     "execution_count": 13,
     "metadata": {},
     "output_type": "execute_result"
    }
   ],
   "source": [
    "Bob=np.array([19, 27.9, 0, 'male', 'yes', 'northwest'])\n",
    "Lisa=np.array([40, 50, 2, 'female', 'no', 'southeast'])\n",
    "John=np.array([30, 31.2, 0, 'male', 'yes', 'northwest'])\n",
    "\n",
    "peoples = np.array((Bob, Lisa, John))\n",
    "peoples.shape"
   ]
  },
  {
   "cell_type": "code",
   "execution_count": 14,
   "metadata": {
    "ExecuteTime": {
     "end_time": "2020-11-30T09:45:08.423322Z",
     "start_time": "2020-11-30T09:45:08.416195Z"
    }
   },
   "outputs": [
    {
     "data": {
      "text/plain": [
       "(3, 11)"
      ]
     },
     "execution_count": 14,
     "metadata": {},
     "output_type": "execute_result"
    }
   ],
   "source": [
    "''' One Hot Encode and Normalize '''\n",
    "to_predict = []\n",
    "for i in range(len(peoples)):\n",
    "    to_predict.append(np.concatenate((scalarX.transform(peoples[i,:3].reshape(1,-1)),\n",
    "                      ohe.transform(peoples[i,3:].reshape(1,-1))),\n",
    "                      axis=1).reshape(-1))\n",
    "to_predict = np.array(to_predict)\n",
    "to_predict.shape"
   ]
  },
  {
   "cell_type": "code",
   "execution_count": 15,
   "metadata": {
    "ExecuteTime": {
     "end_time": "2020-11-30T09:45:09.181666Z",
     "start_time": "2020-11-30T09:45:09.071978Z"
    }
   },
   "outputs": [
    {
     "data": {
      "text/plain": [
       "array([[26406.271],\n",
       "       [14519.946],\n",
       "       [29272.072]], dtype=float32)"
      ]
     },
     "execution_count": 15,
     "metadata": {},
     "output_type": "execute_result"
    }
   ],
   "source": [
    "''' Predict'''\n",
    "charges = model.predict(to_predict)\n",
    "charges = scalarY.inverse_transform(charges)\n",
    "charges"
   ]
  },
  {
   "cell_type": "code",
   "execution_count": 16,
   "metadata": {
    "ExecuteTime": {
     "end_time": "2020-11-30T09:45:10.075528Z",
     "start_time": "2020-11-30T09:45:10.072231Z"
    }
   },
   "outputs": [
    {
     "name": "stdout",
     "output_type": "stream",
     "text": [
      "Insurance charge for Bob is 26406.27\n",
      "Insurance charge for Lisa is 14519.95\n",
      "Insurance charge for John is 29272.07\n"
     ]
    }
   ],
   "source": [
    "''' Transform the prediction '''\n",
    "for i, n in enumerate([\"Bob\", \"Lisa\", \"John\"]):\n",
    "    print(\"Insurance charge for %s is %.2f\" % (n, charges[i]))"
   ]
  },
  {
   "cell_type": "code",
   "execution_count": null,
   "metadata": {},
   "outputs": [],
   "source": []
  }
 ],
 "metadata": {
  "kernelspec": {
   "display_name": "Python 3",
   "language": "python",
   "name": "python3"
  },
  "language_info": {
   "codemirror_mode": {
    "name": "ipython",
    "version": 3
   },
   "file_extension": ".py",
   "mimetype": "text/x-python",
   "name": "python",
   "nbconvert_exporter": "python",
   "pygments_lexer": "ipython3",
   "version": "3.8.5"
  },
  "latex_envs": {
   "LaTeX_envs_menu_present": true,
   "autoclose": true,
   "autocomplete": true,
   "bibliofile": "biblio.bib",
   "cite_by": "apalike",
   "current_citInitial": 1,
   "eqLabelWithNumbers": true,
   "eqNumInitial": 1,
   "hotkeys": {
    "equation": "Ctrl-E",
    "itemize": "Ctrl-I"
   },
   "labels_anchors": false,
   "latex_user_defs": false,
   "report_style_numbering": false,
   "user_envs_cfg": false
  },
  "nbTranslate": {
   "displayLangs": [
    "*"
   ],
   "hotkey": "alt-t",
   "langInMainMenu": true,
   "sourceLang": "en",
   "targetLang": "fr",
   "useGoogleTranslate": true
  },
  "toc": {
   "base_numbering": 1,
   "nav_menu": {},
   "number_sections": true,
   "sideBar": true,
   "skip_h1_title": true,
   "title_cell": "Table of Contents",
   "title_sidebar": "Contents",
   "toc_cell": true,
   "toc_position": {},
   "toc_section_display": true,
   "toc_window_display": false
  }
 },
 "nbformat": 4,
 "nbformat_minor": 2
}
