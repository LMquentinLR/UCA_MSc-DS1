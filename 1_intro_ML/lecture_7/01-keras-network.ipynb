{
 "cells": [
  {
   "cell_type": "markdown",
   "metadata": {
    "ExecuteTime": {
     "end_time": "2020-11-29T07:27:45.267854Z",
     "start_time": "2020-11-29T07:27:45.264457Z"
    }
   },
   "source": [
    "# First contact with Keras/Tensorflow"
   ]
  },
  {
   "cell_type": "markdown",
   "metadata": {
    "toc": true
   },
   "source": [
    "<h1>Table of Contents<span class=\"tocSkip\"></span></h1>\n",
    "<div class=\"toc\"><ul class=\"toc-item\"><li><span><a href=\"#Tensorflow-and-Keras-installation\" data-toc-modified-id=\"Tensorflow-and-Keras-installation-1\"><span class=\"toc-item-num\">1&nbsp;&nbsp;</span>Tensorflow and Keras installation</a></span></li><li><span><a href=\"#A-full-Keras-example-for-regression\" data-toc-modified-id=\"A-full-Keras-example-for-regression-2\"><span class=\"toc-item-num\">2&nbsp;&nbsp;</span>A full Keras example for regression</a></span></li><li><span><a href=\"#A-full-Keras-example-for-classification\" data-toc-modified-id=\"A-full-Keras-example-for-classification-3\"><span class=\"toc-item-num\">3&nbsp;&nbsp;</span>A full Keras example for classification</a></span></li></ul></div>"
   ]
  },
  {
   "cell_type": "markdown",
   "metadata": {},
   "source": [
    "## Tensorflow and Keras installation\n",
    "\n",
    "2 solutions:\n",
    "* use Google Colab notebook: all is installed\n",
    "* try to install on your computer: https://www.tensorflow.org/install/\n",
    "    * before starting the installation: check before the requirement)\n",
    "    * install tensorflow >= 2.0"
   ]
  },
  {
   "cell_type": "code",
   "execution_count": 1,
   "metadata": {
    "ExecuteTime": {
     "end_time": "2020-11-29T11:37:00.356917Z",
     "start_time": "2020-11-29T11:36:57.263610Z"
    }
   },
   "outputs": [],
   "source": [
    "import tensorflow as tf\n",
    "from tensorflow import keras\n",
    "import numpy as np"
   ]
  },
  {
   "cell_type": "code",
   "execution_count": 2,
   "metadata": {
    "ExecuteTime": {
     "end_time": "2020-11-29T11:37:00.359757Z",
     "start_time": "2020-11-29T11:37:00.358255Z"
    }
   },
   "outputs": [],
   "source": [
    "# install tensorflow\n",
    "#!pip install --upgrade tensorflow"
   ]
  },
  {
   "cell_type": "code",
   "execution_count": 3,
   "metadata": {
    "ExecuteTime": {
     "end_time": "2020-11-29T11:37:00.499983Z",
     "start_time": "2020-11-29T11:37:00.361890Z"
    }
   },
   "outputs": [],
   "source": [
    "# test your keras/tensorflow installation\n",
    "from keras.models import Sequential\n",
    "\n",
    "model = Sequential()\n",
    "model.compile(optimizer=\"sgd\")"
   ]
  },
  {
   "cell_type": "markdown",
   "metadata": {},
   "source": [
    "## A full Keras example for regression"
   ]
  },
  {
   "cell_type": "code",
   "execution_count": 4,
   "metadata": {
    "ExecuteTime": {
     "end_time": "2020-11-29T11:37:00.831655Z",
     "start_time": "2020-11-29T11:37:00.501788Z"
    }
   },
   "outputs": [
    {
     "data": {
      "text/plain": [
       "((160, 10), (160, 1))"
      ]
     },
     "execution_count": 4,
     "metadata": {},
     "output_type": "execute_result"
    }
   ],
   "source": [
    "from sklearn.datasets import make_regression\n",
    "from sklearn.preprocessing import MinMaxScaler\n",
    "from sklearn.model_selection import train_test_split\n",
    "\n",
    "# Generate regression dataset\n",
    "N_items = 200\n",
    "N_features = 10\n",
    "X, y = make_regression(n_samples=N_items, n_features=N_features, noise=0.1, random_state=1)\n",
    "\n",
    "# Normalize features\n",
    "scalarX = MinMaxScaler()\n",
    "scalarX.fit(X)\n",
    "X = scalarX.transform(X)\n",
    "\n",
    "# Normalize target value\n",
    "scalarY = MinMaxScaler()\n",
    "scalarY.fit(y.reshape(N_items,1))\n",
    "y = scalarY.transform(y.reshape(N_items,1))\n",
    "\n",
    "# Split dataset into train and test part\n",
    "X_train, X_test, y_train, y_test = train_test_split(X, y, test_size=0.2)\n",
    "\n",
    "X_train.shape, y_train.shape"
   ]
  },
  {
   "cell_type": "code",
   "execution_count": 5,
   "metadata": {
    "ExecuteTime": {
     "end_time": "2020-11-29T11:37:00.867972Z",
     "start_time": "2020-11-29T11:37:00.833149Z"
    }
   },
   "outputs": [
    {
     "name": "stdout",
     "output_type": "stream",
     "text": [
      "Model: \"functional_1\"\n",
      "_________________________________________________________________\n",
      "Layer (type)                 Output Shape              Param #   \n",
      "=================================================================\n",
      "input_1 (InputLayer)         [(None, 10)]              0         \n",
      "_________________________________________________________________\n",
      "dense (Dense)                (None, 16)                176       \n",
      "_________________________________________________________________\n",
      "dense_1 (Dense)              (None, 8)                 136       \n",
      "_________________________________________________________________\n",
      "dense_2 (Dense)              (None, 1)                 9         \n",
      "=================================================================\n",
      "Total params: 321\n",
      "Trainable params: 321\n",
      "Non-trainable params: 0\n",
      "_________________________________________________________________\n"
     ]
    }
   ],
   "source": [
    "''' define and compile the model '''\n",
    "import tensorflow as tf\n",
    "from tensorflow import keras\n",
    "from keras.models import Model\n",
    "from keras.layers import Input, Dense\n",
    "\n",
    "\n",
    "# This returns a tensor\n",
    "inputs = Input(shape=(N_features,))\n",
    "\n",
    "# a layer instance is callable on a tensor, and returns a tensor\n",
    "output_1 = Dense(16, activation='relu')(inputs)\n",
    "output_2 = Dense(8, activation='relu')(output_1)\n",
    "predictions = Dense(1, activation='linear')(output_2)\n",
    "\n",
    "# This creates a model that includes\n",
    "# the Input layer and three Dense layers\n",
    "model = Model(inputs=inputs, outputs=predictions)\n",
    "\n",
    "model.compile(optimizer='sgd',\n",
    "              loss='mean_squared_error',\n",
    "              metrics=['mean_absolute_error'])\n",
    "\n",
    "model.summary()"
   ]
  },
  {
   "cell_type": "code",
   "execution_count": 6,
   "metadata": {
    "ExecuteTime": {
     "end_time": "2020-11-29T11:37:04.122597Z",
     "start_time": "2020-11-29T11:37:00.869735Z"
    },
    "scrolled": false
   },
   "outputs": [
    {
     "name": "stdout",
     "output_type": "stream",
     "text": [
      "Epoch 1/100\n",
      "4/4 [==============================] - 0s 46ms/step - loss: 0.1903 - mean_absolute_error: 0.3970 - val_loss: 0.1657 - val_mean_absolute_error: 0.3541\n",
      "Epoch 2/100\n",
      "4/4 [==============================] - 0s 8ms/step - loss: 0.1381 - mean_absolute_error: 0.3273 - val_loss: 0.1244 - val_mean_absolute_error: 0.2963\n",
      "Epoch 3/100\n",
      "4/4 [==============================] - 0s 8ms/step - loss: 0.1051 - mean_absolute_error: 0.2798 - val_loss: 0.0962 - val_mean_absolute_error: 0.2517\n",
      "Epoch 4/100\n",
      "4/4 [==============================] - 0s 8ms/step - loss: 0.0828 - mean_absolute_error: 0.2427 - val_loss: 0.0773 - val_mean_absolute_error: 0.2206\n",
      "Epoch 5/100\n",
      "4/4 [==============================] - 0s 8ms/step - loss: 0.0677 - mean_absolute_error: 0.2175 - val_loss: 0.0642 - val_mean_absolute_error: 0.1989\n",
      "Epoch 6/100\n",
      "4/4 [==============================] - 0s 8ms/step - loss: 0.0568 - mean_absolute_error: 0.1973 - val_loss: 0.0548 - val_mean_absolute_error: 0.1807\n",
      "Epoch 7/100\n",
      "4/4 [==============================] - 0s 8ms/step - loss: 0.0492 - mean_absolute_error: 0.1816 - val_loss: 0.0498 - val_mean_absolute_error: 0.1709\n",
      "Epoch 8/100\n",
      "4/4 [==============================] - 0s 8ms/step - loss: 0.0450 - mean_absolute_error: 0.1737 - val_loss: 0.0463 - val_mean_absolute_error: 0.1651\n",
      "Epoch 9/100\n",
      "4/4 [==============================] - 0s 7ms/step - loss: 0.0420 - mean_absolute_error: 0.1698 - val_loss: 0.0441 - val_mean_absolute_error: 0.1617\n",
      "Epoch 10/100\n",
      "4/4 [==============================] - 0s 8ms/step - loss: 0.0401 - mean_absolute_error: 0.1667 - val_loss: 0.0424 - val_mean_absolute_error: 0.1592\n",
      "Epoch 11/100\n",
      "4/4 [==============================] - 0s 8ms/step - loss: 0.0386 - mean_absolute_error: 0.1644 - val_loss: 0.0415 - val_mean_absolute_error: 0.1578\n",
      "Epoch 12/100\n",
      "4/4 [==============================] - 0s 8ms/step - loss: 0.0378 - mean_absolute_error: 0.1641 - val_loss: 0.0411 - val_mean_absolute_error: 0.1570\n",
      "Epoch 13/100\n",
      "4/4 [==============================] - 0s 8ms/step - loss: 0.0373 - mean_absolute_error: 0.1633 - val_loss: 0.0407 - val_mean_absolute_error: 0.1565\n",
      "Epoch 14/100\n",
      "4/4 [==============================] - 0s 8ms/step - loss: 0.0370 - mean_absolute_error: 0.1628 - val_loss: 0.0403 - val_mean_absolute_error: 0.1559\n",
      "Epoch 15/100\n",
      "4/4 [==============================] - 0s 8ms/step - loss: 0.0366 - mean_absolute_error: 0.1622 - val_loss: 0.0401 - val_mean_absolute_error: 0.1553\n",
      "Epoch 16/100\n",
      "4/4 [==============================] - 0s 7ms/step - loss: 0.0364 - mean_absolute_error: 0.1616 - val_loss: 0.0399 - val_mean_absolute_error: 0.1550\n",
      "Epoch 17/100\n",
      "4/4 [==============================] - 0s 8ms/step - loss: 0.0363 - mean_absolute_error: 0.1614 - val_loss: 0.0398 - val_mean_absolute_error: 0.1548\n",
      "Epoch 18/100\n",
      "4/4 [==============================] - 0s 8ms/step - loss: 0.0359 - mean_absolute_error: 0.1608 - val_loss: 0.0397 - val_mean_absolute_error: 0.1547\n",
      "Epoch 19/100\n",
      "4/4 [==============================] - 0s 8ms/step - loss: 0.0359 - mean_absolute_error: 0.1606 - val_loss: 0.0396 - val_mean_absolute_error: 0.1548\n",
      "Epoch 20/100\n",
      "4/4 [==============================] - 0s 8ms/step - loss: 0.0357 - mean_absolute_error: 0.1604 - val_loss: 0.0395 - val_mean_absolute_error: 0.1544\n",
      "Epoch 21/100\n",
      "4/4 [==============================] - 0s 8ms/step - loss: 0.0355 - mean_absolute_error: 0.1598 - val_loss: 0.0394 - val_mean_absolute_error: 0.1543\n",
      "Epoch 22/100\n",
      "4/4 [==============================] - 0s 8ms/step - loss: 0.0353 - mean_absolute_error: 0.1596 - val_loss: 0.0392 - val_mean_absolute_error: 0.1541\n",
      "Epoch 23/100\n",
      "4/4 [==============================] - 0s 7ms/step - loss: 0.0352 - mean_absolute_error: 0.1591 - val_loss: 0.0391 - val_mean_absolute_error: 0.1540\n",
      "Epoch 24/100\n",
      "4/4 [==============================] - 0s 7ms/step - loss: 0.0352 - mean_absolute_error: 0.1590 - val_loss: 0.0391 - val_mean_absolute_error: 0.1539\n",
      "Epoch 25/100\n",
      "4/4 [==============================] - 0s 8ms/step - loss: 0.0351 - mean_absolute_error: 0.1593 - val_loss: 0.0390 - val_mean_absolute_error: 0.1537\n",
      "Epoch 26/100\n",
      "4/4 [==============================] - ETA: 0s - loss: 0.0452 - mean_absolute_error: 0.183 - 0s 8ms/step - loss: 0.0348 - mean_absolute_error: 0.1584 - val_loss: 0.0389 - val_mean_absolute_error: 0.1536\n",
      "Epoch 27/100\n",
      "4/4 [==============================] - 0s 7ms/step - loss: 0.0346 - mean_absolute_error: 0.1581 - val_loss: 0.0388 - val_mean_absolute_error: 0.1534\n",
      "Epoch 28/100\n",
      "4/4 [==============================] - 0s 7ms/step - loss: 0.0345 - mean_absolute_error: 0.1576 - val_loss: 0.0387 - val_mean_absolute_error: 0.1533\n",
      "Epoch 29/100\n",
      "4/4 [==============================] - ETA: 0s - loss: 0.0354 - mean_absolute_error: 0.162 - 0s 8ms/step - loss: 0.0343 - mean_absolute_error: 0.1572 - val_loss: 0.0386 - val_mean_absolute_error: 0.1531\n",
      "Epoch 30/100\n",
      "4/4 [==============================] - 0s 8ms/step - loss: 0.0342 - mean_absolute_error: 0.1570 - val_loss: 0.0385 - val_mean_absolute_error: 0.1529\n",
      "Epoch 31/100\n",
      "4/4 [==============================] - 0s 7ms/step - loss: 0.0341 - mean_absolute_error: 0.1567 - val_loss: 0.0384 - val_mean_absolute_error: 0.1528\n",
      "Epoch 32/100\n",
      "4/4 [==============================] - 0s 8ms/step - loss: 0.0339 - mean_absolute_error: 0.1564 - val_loss: 0.0383 - val_mean_absolute_error: 0.1526\n",
      "Epoch 33/100\n",
      "4/4 [==============================] - 0s 8ms/step - loss: 0.0338 - mean_absolute_error: 0.1561 - val_loss: 0.0382 - val_mean_absolute_error: 0.1524\n",
      "Epoch 34/100\n",
      "4/4 [==============================] - ETA: 0s - loss: 0.0373 - mean_absolute_error: 0.168 - 0s 8ms/step - loss: 0.0338 - mean_absolute_error: 0.1562 - val_loss: 0.0381 - val_mean_absolute_error: 0.1522\n",
      "Epoch 35/100\n",
      "4/4 [==============================] - 0s 8ms/step - loss: 0.0336 - mean_absolute_error: 0.1556 - val_loss: 0.0380 - val_mean_absolute_error: 0.1520\n",
      "Epoch 36/100\n",
      "4/4 [==============================] - 0s 8ms/step - loss: 0.0334 - mean_absolute_error: 0.1553 - val_loss: 0.0379 - val_mean_absolute_error: 0.1520\n",
      "Epoch 37/100\n",
      "4/4 [==============================] - 0s 8ms/step - loss: 0.0333 - mean_absolute_error: 0.1549 - val_loss: 0.0378 - val_mean_absolute_error: 0.1519\n",
      "Epoch 38/100\n",
      "4/4 [==============================] - 0s 7ms/step - loss: 0.0332 - mean_absolute_error: 0.1546 - val_loss: 0.0377 - val_mean_absolute_error: 0.1520\n",
      "Epoch 39/100\n",
      "4/4 [==============================] - 0s 8ms/step - loss: 0.0331 - mean_absolute_error: 0.1542 - val_loss: 0.0377 - val_mean_absolute_error: 0.1518\n",
      "Epoch 40/100\n",
      "4/4 [==============================] - 0s 7ms/step - loss: 0.0330 - mean_absolute_error: 0.1538 - val_loss: 0.0376 - val_mean_absolute_error: 0.1518\n",
      "Epoch 41/100\n",
      "4/4 [==============================] - 0s 8ms/step - loss: 0.0330 - mean_absolute_error: 0.1537 - val_loss: 0.0375 - val_mean_absolute_error: 0.1517\n",
      "Epoch 42/100\n",
      "4/4 [==============================] - 0s 7ms/step - loss: 0.0328 - mean_absolute_error: 0.1533 - val_loss: 0.0374 - val_mean_absolute_error: 0.1513\n",
      "Epoch 43/100\n",
      "4/4 [==============================] - 0s 7ms/step - loss: 0.0327 - mean_absolute_error: 0.1535 - val_loss: 0.0373 - val_mean_absolute_error: 0.1515\n",
      "Epoch 44/100\n",
      "4/4 [==============================] - 0s 7ms/step - loss: 0.0326 - mean_absolute_error: 0.1528 - val_loss: 0.0372 - val_mean_absolute_error: 0.1514\n",
      "Epoch 45/100\n",
      "4/4 [==============================] - 0s 8ms/step - loss: 0.0324 - mean_absolute_error: 0.1524 - val_loss: 0.0371 - val_mean_absolute_error: 0.1510\n",
      "Epoch 46/100\n",
      "4/4 [==============================] - 0s 7ms/step - loss: 0.0323 - mean_absolute_error: 0.1522 - val_loss: 0.0371 - val_mean_absolute_error: 0.1507\n",
      "Epoch 47/100\n",
      "4/4 [==============================] - 0s 7ms/step - loss: 0.0322 - mean_absolute_error: 0.1521 - val_loss: 0.0370 - val_mean_absolute_error: 0.1506\n",
      "Epoch 48/100\n",
      "4/4 [==============================] - 0s 8ms/step - loss: 0.0321 - mean_absolute_error: 0.1518 - val_loss: 0.0369 - val_mean_absolute_error: 0.1503\n",
      "Epoch 49/100\n",
      "4/4 [==============================] - 0s 8ms/step - loss: 0.0320 - mean_absolute_error: 0.1515 - val_loss: 0.0368 - val_mean_absolute_error: 0.1500\n",
      "Epoch 50/100\n"
     ]
    },
    {
     "name": "stdout",
     "output_type": "stream",
     "text": [
      "4/4 [==============================] - 0s 8ms/step - loss: 0.0319 - mean_absolute_error: 0.1513 - val_loss: 0.0367 - val_mean_absolute_error: 0.1499\n",
      "Epoch 51/100\n",
      "4/4 [==============================] - 0s 8ms/step - loss: 0.0319 - mean_absolute_error: 0.1513 - val_loss: 0.0367 - val_mean_absolute_error: 0.1497\n",
      "Epoch 52/100\n",
      "4/4 [==============================] - 0s 8ms/step - loss: 0.0317 - mean_absolute_error: 0.1510 - val_loss: 0.0366 - val_mean_absolute_error: 0.1496\n",
      "Epoch 53/100\n",
      "4/4 [==============================] - 0s 7ms/step - loss: 0.0316 - mean_absolute_error: 0.1507 - val_loss: 0.0365 - val_mean_absolute_error: 0.1495\n",
      "Epoch 54/100\n",
      "4/4 [==============================] - 0s 8ms/step - loss: 0.0315 - mean_absolute_error: 0.1502 - val_loss: 0.0364 - val_mean_absolute_error: 0.1493\n",
      "Epoch 55/100\n",
      "4/4 [==============================] - 0s 9ms/step - loss: 0.0314 - mean_absolute_error: 0.1501 - val_loss: 0.0363 - val_mean_absolute_error: 0.1491\n",
      "Epoch 56/100\n",
      "4/4 [==============================] - 0s 8ms/step - loss: 0.0313 - mean_absolute_error: 0.1497 - val_loss: 0.0362 - val_mean_absolute_error: 0.1490\n",
      "Epoch 57/100\n",
      "4/4 [==============================] - 0s 8ms/step - loss: 0.0312 - mean_absolute_error: 0.1495 - val_loss: 0.0362 - val_mean_absolute_error: 0.1488\n",
      "Epoch 58/100\n",
      "4/4 [==============================] - 0s 8ms/step - loss: 0.0311 - mean_absolute_error: 0.1493 - val_loss: 0.0361 - val_mean_absolute_error: 0.1485\n",
      "Epoch 59/100\n",
      "4/4 [==============================] - 0s 8ms/step - loss: 0.0311 - mean_absolute_error: 0.1493 - val_loss: 0.0360 - val_mean_absolute_error: 0.1484\n",
      "Epoch 60/100\n",
      "4/4 [==============================] - 0s 8ms/step - loss: 0.0309 - mean_absolute_error: 0.1489 - val_loss: 0.0359 - val_mean_absolute_error: 0.1484\n",
      "Epoch 61/100\n",
      "4/4 [==============================] - 0s 8ms/step - loss: 0.0308 - mean_absolute_error: 0.1483 - val_loss: 0.0359 - val_mean_absolute_error: 0.1481\n",
      "Epoch 62/100\n",
      "4/4 [==============================] - 0s 8ms/step - loss: 0.0307 - mean_absolute_error: 0.1481 - val_loss: 0.0357 - val_mean_absolute_error: 0.1481\n",
      "Epoch 63/100\n",
      "4/4 [==============================] - 0s 7ms/step - loss: 0.0305 - mean_absolute_error: 0.1477 - val_loss: 0.0357 - val_mean_absolute_error: 0.1479\n",
      "Epoch 64/100\n",
      "4/4 [==============================] - 0s 8ms/step - loss: 0.0305 - mean_absolute_error: 0.1474 - val_loss: 0.0356 - val_mean_absolute_error: 0.1477\n",
      "Epoch 65/100\n",
      "4/4 [==============================] - 0s 8ms/step - loss: 0.0304 - mean_absolute_error: 0.1474 - val_loss: 0.0355 - val_mean_absolute_error: 0.1476\n",
      "Epoch 66/100\n",
      "4/4 [==============================] - 0s 8ms/step - loss: 0.0303 - mean_absolute_error: 0.1470 - val_loss: 0.0354 - val_mean_absolute_error: 0.1476\n",
      "Epoch 67/100\n",
      "4/4 [==============================] - 0s 8ms/step - loss: 0.0302 - mean_absolute_error: 0.1466 - val_loss: 0.0354 - val_mean_absolute_error: 0.1472\n",
      "Epoch 68/100\n",
      "4/4 [==============================] - 0s 7ms/step - loss: 0.0301 - mean_absolute_error: 0.1466 - val_loss: 0.0353 - val_mean_absolute_error: 0.1470\n",
      "Epoch 69/100\n",
      "4/4 [==============================] - 0s 8ms/step - loss: 0.0300 - mean_absolute_error: 0.1462 - val_loss: 0.0353 - val_mean_absolute_error: 0.1468\n",
      "Epoch 70/100\n",
      "4/4 [==============================] - 0s 8ms/step - loss: 0.0299 - mean_absolute_error: 0.1461 - val_loss: 0.0353 - val_mean_absolute_error: 0.1465\n",
      "Epoch 71/100\n",
      "4/4 [==============================] - 0s 8ms/step - loss: 0.0298 - mean_absolute_error: 0.1458 - val_loss: 0.0352 - val_mean_absolute_error: 0.1464\n",
      "Epoch 72/100\n",
      "4/4 [==============================] - 0s 8ms/step - loss: 0.0297 - mean_absolute_error: 0.1457 - val_loss: 0.0350 - val_mean_absolute_error: 0.1463\n",
      "Epoch 73/100\n",
      "4/4 [==============================] - 0s 8ms/step - loss: 0.0296 - mean_absolute_error: 0.1453 - val_loss: 0.0350 - val_mean_absolute_error: 0.1461\n",
      "Epoch 74/100\n",
      "4/4 [==============================] - 0s 7ms/step - loss: 0.0295 - mean_absolute_error: 0.1451 - val_loss: 0.0349 - val_mean_absolute_error: 0.1459\n",
      "Epoch 75/100\n",
      "4/4 [==============================] - 0s 9ms/step - loss: 0.0294 - mean_absolute_error: 0.1448 - val_loss: 0.0349 - val_mean_absolute_error: 0.1457\n",
      "Epoch 76/100\n",
      "4/4 [==============================] - 0s 8ms/step - loss: 0.0293 - mean_absolute_error: 0.1446 - val_loss: 0.0348 - val_mean_absolute_error: 0.1456\n",
      "Epoch 77/100\n",
      "4/4 [==============================] - 0s 7ms/step - loss: 0.0292 - mean_absolute_error: 0.1443 - val_loss: 0.0347 - val_mean_absolute_error: 0.1454\n",
      "Epoch 78/100\n",
      "4/4 [==============================] - 0s 7ms/step - loss: 0.0292 - mean_absolute_error: 0.1441 - val_loss: 0.0347 - val_mean_absolute_error: 0.1452\n",
      "Epoch 79/100\n",
      "4/4 [==============================] - 0s 8ms/step - loss: 0.0290 - mean_absolute_error: 0.1438 - val_loss: 0.0345 - val_mean_absolute_error: 0.1451\n",
      "Epoch 80/100\n",
      "4/4 [==============================] - 0s 7ms/step - loss: 0.0289 - mean_absolute_error: 0.1435 - val_loss: 0.0344 - val_mean_absolute_error: 0.1450\n",
      "Epoch 81/100\n",
      "4/4 [==============================] - 0s 8ms/step - loss: 0.0288 - mean_absolute_error: 0.1431 - val_loss: 0.0343 - val_mean_absolute_error: 0.1449\n",
      "Epoch 82/100\n",
      "4/4 [==============================] - 0s 8ms/step - loss: 0.0287 - mean_absolute_error: 0.1428 - val_loss: 0.0342 - val_mean_absolute_error: 0.1448\n",
      "Epoch 83/100\n",
      "4/4 [==============================] - 0s 8ms/step - loss: 0.0287 - mean_absolute_error: 0.1426 - val_loss: 0.0342 - val_mean_absolute_error: 0.1446\n",
      "Epoch 84/100\n",
      "4/4 [==============================] - 0s 8ms/step - loss: 0.0286 - mean_absolute_error: 0.1423 - val_loss: 0.0341 - val_mean_absolute_error: 0.1444\n",
      "Epoch 85/100\n",
      "4/4 [==============================] - 0s 8ms/step - loss: 0.0284 - mean_absolute_error: 0.1420 - val_loss: 0.0340 - val_mean_absolute_error: 0.1443\n",
      "Epoch 86/100\n",
      "4/4 [==============================] - 0s 8ms/step - loss: 0.0283 - mean_absolute_error: 0.1417 - val_loss: 0.0339 - val_mean_absolute_error: 0.1442\n",
      "Epoch 87/100\n",
      "4/4 [==============================] - 0s 8ms/step - loss: 0.0283 - mean_absolute_error: 0.1414 - val_loss: 0.0339 - val_mean_absolute_error: 0.1440\n",
      "Epoch 88/100\n",
      "4/4 [==============================] - 0s 8ms/step - loss: 0.0282 - mean_absolute_error: 0.1413 - val_loss: 0.0337 - val_mean_absolute_error: 0.1441\n",
      "Epoch 89/100\n",
      "4/4 [==============================] - 0s 8ms/step - loss: 0.0281 - mean_absolute_error: 0.1407 - val_loss: 0.0337 - val_mean_absolute_error: 0.1438\n",
      "Epoch 90/100\n",
      "4/4 [==============================] - 0s 8ms/step - loss: 0.0280 - mean_absolute_error: 0.1404 - val_loss: 0.0336 - val_mean_absolute_error: 0.1436\n",
      "Epoch 91/100\n",
      "4/4 [==============================] - 0s 7ms/step - loss: 0.0279 - mean_absolute_error: 0.1403 - val_loss: 0.0335 - val_mean_absolute_error: 0.1438\n",
      "Epoch 92/100\n",
      "4/4 [==============================] - 0s 7ms/step - loss: 0.0278 - mean_absolute_error: 0.1398 - val_loss: 0.0334 - val_mean_absolute_error: 0.1437\n",
      "Epoch 93/100\n",
      "4/4 [==============================] - 0s 8ms/step - loss: 0.0278 - mean_absolute_error: 0.1394 - val_loss: 0.0333 - val_mean_absolute_error: 0.1435\n",
      "Epoch 94/100\n",
      "4/4 [==============================] - 0s 8ms/step - loss: 0.0277 - mean_absolute_error: 0.1394 - val_loss: 0.0332 - val_mean_absolute_error: 0.1433\n",
      "Epoch 95/100\n",
      "4/4 [==============================] - 0s 8ms/step - loss: 0.0275 - mean_absolute_error: 0.1389 - val_loss: 0.0332 - val_mean_absolute_error: 0.1429\n",
      "Epoch 96/100\n",
      "4/4 [==============================] - 0s 8ms/step - loss: 0.0274 - mean_absolute_error: 0.1389 - val_loss: 0.0331 - val_mean_absolute_error: 0.1429\n",
      "Epoch 97/100\n",
      "4/4 [==============================] - 0s 8ms/step - loss: 0.0273 - mean_absolute_error: 0.1384 - val_loss: 0.0330 - val_mean_absolute_error: 0.1428\n",
      "Epoch 98/100\n",
      "4/4 [==============================] - 0s 8ms/step - loss: 0.0273 - mean_absolute_error: 0.1381 - val_loss: 0.0329 - val_mean_absolute_error: 0.1427\n",
      "Epoch 99/100\n",
      "4/4 [==============================] - 0s 7ms/step - loss: 0.0273 - mean_absolute_error: 0.1380 - val_loss: 0.0329 - val_mean_absolute_error: 0.1428\n",
      "Epoch 100/100\n",
      "4/4 [==============================] - 0s 8ms/step - loss: 0.0271 - mean_absolute_error: 0.1376 - val_loss: 0.0328 - val_mean_absolute_error: 0.1424\n"
     ]
    }
   ],
   "source": [
    "# fit the model\n",
    "history = model.fit(X_train, y_train, epochs=100, validation_split=0.33)"
   ]
  },
  {
   "cell_type": "code",
   "execution_count": 7,
   "metadata": {
    "ExecuteTime": {
     "end_time": "2020-11-29T11:37:04.127304Z",
     "start_time": "2020-11-29T11:37:04.124417Z"
    }
   },
   "outputs": [
    {
     "data": {
      "text/plain": [
       "['loss', 'mean_absolute_error']"
      ]
     },
     "execution_count": 7,
     "metadata": {},
     "output_type": "execute_result"
    }
   ],
   "source": [
    "model. metrics_names"
   ]
  },
  {
   "cell_type": "code",
   "execution_count": 8,
   "metadata": {
    "ExecuteTime": {
     "end_time": "2020-11-29T11:37:04.293131Z",
     "start_time": "2020-11-29T11:37:04.130534Z"
    }
   },
   "outputs": [
    {
     "name": "stdout",
     "output_type": "stream",
     "text": [
      "dict_keys(['loss', 'mean_absolute_error', 'val_loss', 'val_mean_absolute_error'])\n"
     ]
    },
    {
     "data": {
      "image/png": "[encoded data removed]",
      "text/plain": [
       "<Figure size 432x288 with 1 Axes>"
      ]
     },
     "metadata": {
      "needs_background": "light"
     },
     "output_type": "display_data"
    }
   ],
   "source": [
    "''' Plot learning curve '''\n",
    "import matplotlib.pyplot as plt\n",
    "%matplotlib inline\n",
    "\n",
    "# list all data in history\n",
    "print(history.history.keys())\n",
    "\n",
    "# summarize history for loss\n",
    "plt.plot(history.history['loss'])\n",
    "plt.plot(history.history['val_loss'])\n",
    "plt.title('model loss [MSE]')\n",
    "plt.ylabel('loss')\n",
    "plt.xlabel('epoch')\n",
    "plt.legend(['MSE train', 'MSE val'], loc='upper left')\n",
    "plt.show()"
   ]
  },
  {
   "cell_type": "code",
   "execution_count": 9,
   "metadata": {
    "ExecuteTime": {
     "end_time": "2020-11-29T11:37:04.386682Z",
     "start_time": "2020-11-29T11:37:04.295613Z"
    }
   },
   "outputs": [],
   "source": [
    "y_pred = model.predict(X_test)"
   ]
  },
  {
   "cell_type": "code",
   "execution_count": 10,
   "metadata": {
    "ExecuteTime": {
     "end_time": "2020-11-29T11:37:04.390596Z",
     "start_time": "2020-11-29T11:37:04.387970Z"
    }
   },
   "outputs": [
    {
     "data": {
      "text/plain": [
       "['loss', 'mean_absolute_error']"
      ]
     },
     "execution_count": 10,
     "metadata": {},
     "output_type": "execute_result"
    }
   ],
   "source": [
    "model.metrics_names"
   ]
  },
  {
   "cell_type": "code",
   "execution_count": 11,
   "metadata": {
    "ExecuteTime": {
     "end_time": "2020-11-29T11:37:04.465529Z",
     "start_time": "2020-11-29T11:37:04.391907Z"
    }
   },
   "outputs": [
    {
     "name": "stdout",
     "output_type": "stream",
     "text": [
      "2/2 [==============================] - 0s 2ms/step - loss: 0.0306 - mean_absolute_error: 0.1319\n"
     ]
    },
    {
     "data": {
      "text/plain": [
       "[0.030582109466195107, 0.13186155259609222]"
      ]
     },
     "execution_count": 11,
     "metadata": {},
     "output_type": "execute_result"
    }
   ],
   "source": [
    "model.evaluate(X_test, y_test)"
   ]
  },
  {
   "cell_type": "markdown",
   "metadata": {},
   "source": [
    "## A full Keras example for classification"
   ]
  },
  {
   "cell_type": "code",
   "execution_count": 12,
   "metadata": {
    "ExecuteTime": {
     "end_time": "2020-11-29T11:37:04.473210Z",
     "start_time": "2020-11-29T11:37:04.466869Z"
    }
   },
   "outputs": [
    {
     "data": {
      "text/plain": [
       "((160, 20), (160, 3))"
      ]
     },
     "execution_count": 12,
     "metadata": {},
     "output_type": "execute_result"
    }
   ],
   "source": [
    "from sklearn.datasets import make_classification\n",
    "from sklearn.preprocessing import MinMaxScaler\n",
    "from sklearn.model_selection import train_test_split\n",
    "\n",
    "# generate regression dataset\n",
    "N_items = 200\n",
    "N_features = 20\n",
    "N_classes = 3\n",
    "X, y = make_classification(n_samples=N_items, n_features=N_features, n_classes=N_classes, n_informative=3, random_state=1)\n",
    "\n",
    "# Normalize features\n",
    "scalarX = MinMaxScaler()\n",
    "scalarX.fit(X)\n",
    "X = scalarX.transform(X)\n",
    "\n",
    "# One Hot Encode labels\n",
    "y = np.eye(N_classes)[y]\n",
    "\n",
    "# Split dataset into train and test part\n",
    "X_train, X_test, y_train, y_test = train_test_split(X, y, test_size=0.2)\n",
    "\n",
    "X_train.shape, y_train.shape"
   ]
  },
  {
   "cell_type": "code",
   "execution_count": 13,
   "metadata": {
    "ExecuteTime": {
     "end_time": "2020-11-29T11:37:04.504622Z",
     "start_time": "2020-11-29T11:37:04.474408Z"
    }
   },
   "outputs": [
    {
     "name": "stdout",
     "output_type": "stream",
     "text": [
      "Model: \"functional_3\"\n",
      "_________________________________________________________________\n",
      "Layer (type)                 Output Shape              Param #   \n",
      "=================================================================\n",
      "input_2 (InputLayer)         [(None, 20)]              0         \n",
      "_________________________________________________________________\n",
      "dense_3 (Dense)              (None, 16)                336       \n",
      "_________________________________________________________________\n",
      "dense_4 (Dense)              (None, 8)                 136       \n",
      "_________________________________________________________________\n",
      "dense_5 (Dense)              (None, 3)                 27        \n",
      "=================================================================\n",
      "Total params: 499\n",
      "Trainable params: 499\n",
      "Non-trainable params: 0\n",
      "_________________________________________________________________\n"
     ]
    }
   ],
   "source": [
    "import tensorflow as tf\n",
    "from tensorflow import keras\n",
    "from keras.models import Model\n",
    "from keras.layers import Input, Dense\n",
    "from keras.metrics import Recall\n",
    "\n",
    "''' define and compile the model '''\n",
    "\n",
    "# This returns a tensor\n",
    "inputs = Input(shape=(N_features,))\n",
    "\n",
    "# a layer instance is callable on a tensor, and returns a tensor\n",
    "output_1 = Dense(16, activation='relu')(inputs)\n",
    "output_2 = Dense(8, activation='relu')(output_1)\n",
    "predictions = Dense(N_classes, activation='softmax')(output_2)\n",
    "\n",
    "# This creates a model that includes\n",
    "# the Input layer and three Dense layers\n",
    "model = Model(inputs=inputs, outputs=predictions)\n",
    "\n",
    "model.compile(optimizer='sgd',\n",
    "              loss='categorical_crossentropy',\n",
    "                  metrics=['accuracy', Recall()])\n",
    "\n",
    "model.summary()"
   ]
  },
  {
   "cell_type": "code",
   "execution_count": 14,
   "metadata": {
    "ExecuteTime": {
     "end_time": "2020-11-29T11:37:38.910296Z",
     "start_time": "2020-11-29T11:37:36.166821Z"
    },
    "scrolled": false
   },
   "outputs": [
    {
     "name": "stdout",
     "output_type": "stream",
     "text": [
      "Epoch 1/100\n",
      "4/4 [==============================] - 0s 113ms/step - loss: 1.1076 - accuracy: 0.2897 - recall: 0.0187 - val_loss: 1.1241 - val_accuracy: 0.2830 - val_recall: 0.0000e+00\n",
      "Epoch 2/100\n",
      "4/4 [==============================] - 0s 10ms/step - loss: 1.1052 - accuracy: 0.3458 - recall: 0.0093 - val_loss: 1.1206 - val_accuracy: 0.3019 - val_recall: 0.0000e+00\n",
      "Epoch 3/100\n",
      "4/4 [==============================] - 0s 9ms/step - loss: 1.1018 - accuracy: 0.3832 - recall: 0.0093 - val_loss: 1.1152 - val_accuracy: 0.3208 - val_recall: 0.0000e+00\n",
      "Epoch 4/100\n",
      "4/4 [==============================] - 0s 10ms/step - loss: 1.0993 - accuracy: 0.3645 - recall: 0.0000e+00 - val_loss: 1.1144 - val_accuracy: 0.3208 - val_recall: 0.0000e+00\n",
      "Epoch 5/100\n",
      "4/4 [==============================] - 0s 9ms/step - loss: 1.0985 - accuracy: 0.3645 - recall: 0.0000e+00 - val_loss: 1.1125 - val_accuracy: 0.3396 - val_recall: 0.0000e+00\n",
      "Epoch 6/100\n",
      "4/4 [==============================] - 0s 9ms/step - loss: 1.0975 - accuracy: 0.3645 - recall: 0.0000e+00 - val_loss: 1.1101 - val_accuracy: 0.3208 - val_recall: 0.0000e+00\n",
      "Epoch 7/100\n",
      "4/4 [==============================] - 0s 9ms/step - loss: 1.0962 - accuracy: 0.3458 - recall: 0.0000e+00 - val_loss: 1.1079 - val_accuracy: 0.3396 - val_recall: 0.0000e+00\n",
      "Epoch 8/100\n",
      "4/4 [==============================] - 0s 9ms/step - loss: 1.0950 - accuracy: 0.3551 - recall: 0.0000e+00 - val_loss: 1.1066 - val_accuracy: 0.3585 - val_recall: 0.0000e+00\n",
      "Epoch 9/100\n",
      "4/4 [==============================] - 0s 10ms/step - loss: 1.0946 - accuracy: 0.3551 - recall: 0.0000e+00 - val_loss: 1.1049 - val_accuracy: 0.3585 - val_recall: 0.0000e+00\n",
      "Epoch 10/100\n",
      "4/4 [==============================] - 0s 8ms/step - loss: 1.0943 - accuracy: 0.3458 - recall: 0.0000e+00 - val_loss: 1.1039 - val_accuracy: 0.3585 - val_recall: 0.0000e+00\n",
      "Epoch 11/100\n",
      "4/4 [==============================] - 0s 9ms/step - loss: 1.0933 - accuracy: 0.3458 - recall: 0.0000e+00 - val_loss: 1.1014 - val_accuracy: 0.3396 - val_recall: 0.0000e+00\n",
      "Epoch 12/100\n",
      "4/4 [==============================] - 0s 9ms/step - loss: 1.0921 - accuracy: 0.3645 - recall: 0.0000e+00 - val_loss: 1.1008 - val_accuracy: 0.3396 - val_recall: 0.0000e+00\n",
      "Epoch 13/100\n",
      "4/4 [==============================] - 0s 9ms/step - loss: 1.0912 - accuracy: 0.3738 - recall: 0.0000e+00 - val_loss: 1.0997 - val_accuracy: 0.3774 - val_recall: 0.0000e+00\n",
      "Epoch 14/100\n",
      "4/4 [==============================] - 0s 9ms/step - loss: 1.0909 - accuracy: 0.3832 - recall: 0.0000e+00 - val_loss: 1.0995 - val_accuracy: 0.3585 - val_recall: 0.0000e+00\n",
      "Epoch 15/100\n",
      "4/4 [==============================] - 0s 9ms/step - loss: 1.0907 - accuracy: 0.3645 - recall: 0.0000e+00 - val_loss: 1.0979 - val_accuracy: 0.3774 - val_recall: 0.0000e+00\n",
      "Epoch 16/100\n",
      "4/4 [==============================] - 0s 9ms/step - loss: 1.0901 - accuracy: 0.3738 - recall: 0.0000e+00 - val_loss: 1.0976 - val_accuracy: 0.3774 - val_recall: 0.0000e+00\n",
      "Epoch 17/100\n",
      "4/4 [==============================] - 0s 9ms/step - loss: 1.0898 - accuracy: 0.3832 - recall: 0.0000e+00 - val_loss: 1.0970 - val_accuracy: 0.3774 - val_recall: 0.0000e+00\n",
      "Epoch 18/100\n",
      "4/4 [==============================] - 0s 9ms/step - loss: 1.0890 - accuracy: 0.3832 - recall: 0.0000e+00 - val_loss: 1.0951 - val_accuracy: 0.3962 - val_recall: 0.0000e+00\n",
      "Epoch 19/100\n",
      "4/4 [==============================] - 0s 9ms/step - loss: 1.0888 - accuracy: 0.3925 - recall: 0.0000e+00 - val_loss: 1.0936 - val_accuracy: 0.4151 - val_recall: 0.0000e+00\n",
      "Epoch 20/100\n",
      "4/4 [==============================] - 0s 9ms/step - loss: 1.0877 - accuracy: 0.4019 - recall: 0.0000e+00 - val_loss: 1.0933 - val_accuracy: 0.4151 - val_recall: 0.0000e+00\n",
      "Epoch 21/100\n",
      "4/4 [==============================] - 0s 9ms/step - loss: 1.0876 - accuracy: 0.4112 - recall: 0.0000e+00 - val_loss: 1.0928 - val_accuracy: 0.4151 - val_recall: 0.0000e+00\n",
      "Epoch 22/100\n",
      "4/4 [==============================] - 0s 9ms/step - loss: 1.0873 - accuracy: 0.3925 - recall: 0.0000e+00 - val_loss: 1.0915 - val_accuracy: 0.3962 - val_recall: 0.0000e+00\n",
      "Epoch 23/100\n",
      "4/4 [==============================] - 0s 10ms/step - loss: 1.0867 - accuracy: 0.4019 - recall: 0.0000e+00 - val_loss: 1.0910 - val_accuracy: 0.3962 - val_recall: 0.0000e+00\n",
      "Epoch 24/100\n",
      "4/4 [==============================] - 0s 10ms/step - loss: 1.0867 - accuracy: 0.4019 - recall: 0.0000e+00 - val_loss: 1.0908 - val_accuracy: 0.4340 - val_recall: 0.0000e+00\n",
      "Epoch 25/100\n",
      "4/4 [==============================] - 0s 9ms/step - loss: 1.0862 - accuracy: 0.4019 - recall: 0.0000e+00 - val_loss: 1.0909 - val_accuracy: 0.4151 - val_recall: 0.0000e+00\n",
      "Epoch 26/100\n",
      "4/4 [==============================] - 0s 9ms/step - loss: 1.0864 - accuracy: 0.4112 - recall: 0.0000e+00 - val_loss: 1.0903 - val_accuracy: 0.4340 - val_recall: 0.0000e+00\n",
      "Epoch 27/100\n",
      "4/4 [==============================] - 0s 10ms/step - loss: 1.0853 - accuracy: 0.4019 - recall: 0.0000e+00 - val_loss: 1.0894 - val_accuracy: 0.4340 - val_recall: 0.0000e+00\n",
      "Epoch 28/100\n",
      "4/4 [==============================] - 0s 10ms/step - loss: 1.0850 - accuracy: 0.4112 - recall: 0.0000e+00 - val_loss: 1.0883 - val_accuracy: 0.4151 - val_recall: 0.0000e+00\n",
      "Epoch 29/100\n",
      "4/4 [==============================] - 0s 9ms/step - loss: 1.0848 - accuracy: 0.4112 - recall: 0.0000e+00 - val_loss: 1.0874 - val_accuracy: 0.4528 - val_recall: 0.0000e+00\n",
      "Epoch 30/100\n",
      "4/4 [==============================] - 0s 10ms/step - loss: 1.0844 - accuracy: 0.4019 - recall: 0.0000e+00 - val_loss: 1.0868 - val_accuracy: 0.4340 - val_recall: 0.0000e+00\n",
      "Epoch 31/100\n",
      "4/4 [==============================] - 0s 10ms/step - loss: 1.0839 - accuracy: 0.4019 - recall: 0.0000e+00 - val_loss: 1.0862 - val_accuracy: 0.4528 - val_recall: 0.0000e+00\n",
      "Epoch 32/100\n",
      "4/4 [==============================] - 0s 9ms/step - loss: 1.0836 - accuracy: 0.4019 - recall: 0.0000e+00 - val_loss: 1.0858 - val_accuracy: 0.4340 - val_recall: 0.0000e+00\n",
      "Epoch 33/100\n",
      "4/4 [==============================] - 0s 9ms/step - loss: 1.0832 - accuracy: 0.4019 - recall: 0.0000e+00 - val_loss: 1.0856 - val_accuracy: 0.4528 - val_recall: 0.0000e+00\n",
      "Epoch 34/100\n",
      "4/4 [==============================] - 0s 10ms/step - loss: 1.0830 - accuracy: 0.4206 - recall: 0.0000e+00 - val_loss: 1.0854 - val_accuracy: 0.4528 - val_recall: 0.0000e+00\n",
      "Epoch 35/100\n",
      "4/4 [==============================] - 0s 8ms/step - loss: 1.0824 - accuracy: 0.4112 - recall: 0.0000e+00 - val_loss: 1.0852 - val_accuracy: 0.4151 - val_recall: 0.0000e+00\n",
      "Epoch 36/100\n",
      "4/4 [==============================] - 0s 10ms/step - loss: 1.0820 - accuracy: 0.4112 - recall: 0.0000e+00 - val_loss: 1.0848 - val_accuracy: 0.4340 - val_recall: 0.0000e+00\n",
      "Epoch 37/100\n",
      "4/4 [==============================] - 0s 10ms/step - loss: 1.0826 - accuracy: 0.4112 - recall: 0.0000e+00 - val_loss: 1.0835 - val_accuracy: 0.4717 - val_recall: 0.0000e+00\n",
      "Epoch 38/100\n",
      "4/4 [==============================] - 0s 10ms/step - loss: 1.0814 - accuracy: 0.4019 - recall: 0.0000e+00 - val_loss: 1.0831 - val_accuracy: 0.4717 - val_recall: 0.0000e+00\n",
      "Epoch 39/100\n",
      "4/4 [==============================] - 0s 9ms/step - loss: 1.0812 - accuracy: 0.4486 - recall: 0.0000e+00 - val_loss: 1.0831 - val_accuracy: 0.4528 - val_recall: 0.0000e+00\n",
      "Epoch 40/100\n",
      "4/4 [==============================] - 0s 9ms/step - loss: 1.0811 - accuracy: 0.4486 - recall: 0.0000e+00 - val_loss: 1.0825 - val_accuracy: 0.4528 - val_recall: 0.0000e+00\n",
      "Epoch 41/100\n",
      "4/4 [==============================] - 0s 9ms/step - loss: 1.0805 - accuracy: 0.4299 - recall: 0.0000e+00 - val_loss: 1.0814 - val_accuracy: 0.4717 - val_recall: 0.0000e+00\n",
      "Epoch 42/100\n",
      "4/4 [==============================] - 0s 9ms/step - loss: 1.0797 - accuracy: 0.4486 - recall: 0.0000e+00 - val_loss: 1.0812 - val_accuracy: 0.4717 - val_recall: 0.0000e+00\n",
      "Epoch 43/100\n",
      "4/4 [==============================] - 0s 8ms/step - loss: 1.0802 - accuracy: 0.4393 - recall: 0.0000e+00 - val_loss: 1.0799 - val_accuracy: 0.4717 - val_recall: 0.0000e+00\n",
      "Epoch 44/100\n",
      "4/4 [==============================] - 0s 9ms/step - loss: 1.0796 - accuracy: 0.4579 - recall: 0.0000e+00 - val_loss: 1.0793 - val_accuracy: 0.4717 - val_recall: 0.0000e+00\n",
      "Epoch 45/100\n"
     ]
    },
    {
     "name": "stdout",
     "output_type": "stream",
     "text": [
      "4/4 [==============================] - 0s 9ms/step - loss: 1.0791 - accuracy: 0.4673 - recall: 0.0000e+00 - val_loss: 1.0791 - val_accuracy: 0.4717 - val_recall: 0.0000e+00\n",
      "Epoch 46/100\n",
      "4/4 [==============================] - 0s 9ms/step - loss: 1.0788 - accuracy: 0.4673 - recall: 0.0000e+00 - val_loss: 1.0792 - val_accuracy: 0.4717 - val_recall: 0.0000e+00\n",
      "Epoch 47/100\n",
      "4/4 [==============================] - 0s 9ms/step - loss: 1.0784 - accuracy: 0.4579 - recall: 0.0000e+00 - val_loss: 1.0786 - val_accuracy: 0.4528 - val_recall: 0.0000e+00\n",
      "Epoch 48/100\n",
      "4/4 [==============================] - 0s 9ms/step - loss: 1.0781 - accuracy: 0.4766 - recall: 0.0000e+00 - val_loss: 1.0792 - val_accuracy: 0.4528 - val_recall: 0.0000e+00\n",
      "Epoch 49/100\n",
      "4/4 [==============================] - 0s 10ms/step - loss: 1.0784 - accuracy: 0.4673 - recall: 0.0000e+00 - val_loss: 1.0786 - val_accuracy: 0.4528 - val_recall: 0.0000e+00\n",
      "Epoch 50/100\n",
      "4/4 [==============================] - 0s 8ms/step - loss: 1.0773 - accuracy: 0.4673 - recall: 0.0000e+00 - val_loss: 1.0790 - val_accuracy: 0.4717 - val_recall: 0.0000e+00\n",
      "Epoch 51/100\n",
      "4/4 [==============================] - 0s 9ms/step - loss: 1.0770 - accuracy: 0.4766 - recall: 0.0000e+00 - val_loss: 1.0774 - val_accuracy: 0.4717 - val_recall: 0.0000e+00\n",
      "Epoch 52/100\n",
      "4/4 [==============================] - 0s 10ms/step - loss: 1.0766 - accuracy: 0.4766 - recall: 0.0000e+00 - val_loss: 1.0776 - val_accuracy: 0.4717 - val_recall: 0.0000e+00\n",
      "Epoch 53/100\n",
      "4/4 [==============================] - 0s 9ms/step - loss: 1.0763 - accuracy: 0.4766 - recall: 0.0000e+00 - val_loss: 1.0764 - val_accuracy: 0.4717 - val_recall: 0.0000e+00\n",
      "Epoch 54/100\n",
      "4/4 [==============================] - 0s 9ms/step - loss: 1.0757 - accuracy: 0.4673 - recall: 0.0000e+00 - val_loss: 1.0770 - val_accuracy: 0.4717 - val_recall: 0.0000e+00\n",
      "Epoch 55/100\n",
      "4/4 [==============================] - 0s 10ms/step - loss: 1.0756 - accuracy: 0.4766 - recall: 0.0000e+00 - val_loss: 1.0762 - val_accuracy: 0.4906 - val_recall: 0.0000e+00\n",
      "Epoch 56/100\n",
      "4/4 [==============================] - 0s 10ms/step - loss: 1.0755 - accuracy: 0.4860 - recall: 0.0000e+00 - val_loss: 1.0756 - val_accuracy: 0.4906 - val_recall: 0.0000e+00\n",
      "Epoch 57/100\n",
      "4/4 [==============================] - 0s 8ms/step - loss: 1.0744 - accuracy: 0.4860 - recall: 0.0000e+00 - val_loss: 1.0751 - val_accuracy: 0.4906 - val_recall: 0.0000e+00\n",
      "Epoch 58/100\n",
      "4/4 [==============================] - 0s 9ms/step - loss: 1.0744 - accuracy: 0.4766 - recall: 0.0000e+00 - val_loss: 1.0753 - val_accuracy: 0.4906 - val_recall: 0.0000e+00\n",
      "Epoch 59/100\n",
      "4/4 [==============================] - 0s 9ms/step - loss: 1.0741 - accuracy: 0.4766 - recall: 0.0000e+00 - val_loss: 1.0749 - val_accuracy: 0.4906 - val_recall: 0.0000e+00\n",
      "Epoch 60/100\n",
      "4/4 [==============================] - 0s 9ms/step - loss: 1.0740 - accuracy: 0.4766 - recall: 0.0000e+00 - val_loss: 1.0744 - val_accuracy: 0.4717 - val_recall: 0.0000e+00\n",
      "Epoch 61/100\n",
      "4/4 [==============================] - 0s 9ms/step - loss: 1.0737 - accuracy: 0.4860 - recall: 0.0000e+00 - val_loss: 1.0737 - val_accuracy: 0.4717 - val_recall: 0.0000e+00\n",
      "Epoch 62/100\n",
      "4/4 [==============================] - 0s 10ms/step - loss: 1.0729 - accuracy: 0.4860 - recall: 0.0000e+00 - val_loss: 1.0728 - val_accuracy: 0.4717 - val_recall: 0.0000e+00\n",
      "Epoch 63/100\n",
      "4/4 [==============================] - 0s 9ms/step - loss: 1.0725 - accuracy: 0.4953 - recall: 0.0000e+00 - val_loss: 1.0730 - val_accuracy: 0.4717 - val_recall: 0.0000e+00\n",
      "Epoch 64/100\n",
      "4/4 [==============================] - 0s 10ms/step - loss: 1.0725 - accuracy: 0.4860 - recall: 0.0000e+00 - val_loss: 1.0730 - val_accuracy: 0.4528 - val_recall: 0.0000e+00\n",
      "Epoch 65/100\n",
      "4/4 [==============================] - 0s 9ms/step - loss: 1.0717 - accuracy: 0.4953 - recall: 0.0000e+00 - val_loss: 1.0727 - val_accuracy: 0.4717 - val_recall: 0.0000e+00\n",
      "Epoch 66/100\n",
      "4/4 [==============================] - 0s 9ms/step - loss: 1.0715 - accuracy: 0.5047 - recall: 0.0000e+00 - val_loss: 1.0731 - val_accuracy: 0.4906 - val_recall: 0.0000e+00\n",
      "Epoch 67/100\n",
      "4/4 [==============================] - 0s 10ms/step - loss: 1.0713 - accuracy: 0.5140 - recall: 0.0000e+00 - val_loss: 1.0723 - val_accuracy: 0.4906 - val_recall: 0.0000e+00\n",
      "Epoch 68/100\n",
      "4/4 [==============================] - 0s 10ms/step - loss: 1.0713 - accuracy: 0.5047 - recall: 0.0000e+00 - val_loss: 1.0722 - val_accuracy: 0.4717 - val_recall: 0.0000e+00\n",
      "Epoch 69/100\n",
      "4/4 [==============================] - 0s 10ms/step - loss: 1.0711 - accuracy: 0.5047 - recall: 0.0000e+00 - val_loss: 1.0709 - val_accuracy: 0.4717 - val_recall: 0.0000e+00\n",
      "Epoch 70/100\n",
      "4/4 [==============================] - 0s 9ms/step - loss: 1.0714 - accuracy: 0.5047 - recall: 0.0000e+00 - val_loss: 1.0698 - val_accuracy: 0.4717 - val_recall: 0.0000e+00\n",
      "Epoch 71/100\n",
      "4/4 [==============================] - 0s 9ms/step - loss: 1.0696 - accuracy: 0.5140 - recall: 0.0000e+00 - val_loss: 1.0682 - val_accuracy: 0.4528 - val_recall: 0.0000e+00\n",
      "Epoch 72/100\n",
      "4/4 [==============================] - 0s 10ms/step - loss: 1.0696 - accuracy: 0.5234 - recall: 0.0000e+00 - val_loss: 1.0691 - val_accuracy: 0.4528 - val_recall: 0.0000e+00\n",
      "Epoch 73/100\n",
      "4/4 [==============================] - 0s 10ms/step - loss: 1.0690 - accuracy: 0.5047 - recall: 0.0000e+00 - val_loss: 1.0689 - val_accuracy: 0.4717 - val_recall: 0.0000e+00\n",
      "Epoch 74/100\n",
      "4/4 [==============================] - 0s 10ms/step - loss: 1.0686 - accuracy: 0.5140 - recall: 0.0000e+00 - val_loss: 1.0684 - val_accuracy: 0.4528 - val_recall: 0.0000e+00\n",
      "Epoch 75/100\n",
      "4/4 [==============================] - 0s 9ms/step - loss: 1.0683 - accuracy: 0.5140 - recall: 0.0000e+00 - val_loss: 1.0679 - val_accuracy: 0.4528 - val_recall: 0.0000e+00\n",
      "Epoch 76/100\n",
      "4/4 [==============================] - 0s 9ms/step - loss: 1.0681 - accuracy: 0.4953 - recall: 0.0000e+00 - val_loss: 1.0682 - val_accuracy: 0.4717 - val_recall: 0.0000e+00\n",
      "Epoch 77/100\n",
      "4/4 [==============================] - 0s 10ms/step - loss: 1.0675 - accuracy: 0.5234 - recall: 0.0000e+00 - val_loss: 1.0675 - val_accuracy: 0.4717 - val_recall: 0.0000e+00\n",
      "Epoch 78/100\n",
      "4/4 [==============================] - ETA: 0s - loss: 1.0812 - accuracy: 0.5000 - recall: 0.0000e+0 - 0s 10ms/step - loss: 1.0667 - accuracy: 0.5327 - recall: 0.0000e+00 - val_loss: 1.0671 - val_accuracy: 0.4528 - val_recall: 0.0000e+00\n",
      "Epoch 79/100\n",
      "4/4 [==============================] - ETA: 0s - loss: 1.0689 - accuracy: 0.5312 - recall: 0.0000e+0 - 0s 10ms/step - loss: 1.0664 - accuracy: 0.5327 - recall: 0.0000e+00 - val_loss: 1.0661 - val_accuracy: 0.4528 - val_recall: 0.0000e+00\n",
      "Epoch 80/100\n",
      "4/4 [==============================] - 0s 9ms/step - loss: 1.0665 - accuracy: 0.5327 - recall: 0.0000e+00 - val_loss: 1.0642 - val_accuracy: 0.4340 - val_recall: 0.0000e+00\n",
      "Epoch 81/100\n",
      "4/4 [==============================] - 0s 9ms/step - loss: 1.0654 - accuracy: 0.5140 - recall: 0.0000e+00 - val_loss: 1.0636 - val_accuracy: 0.4340 - val_recall: 0.0000e+00\n",
      "Epoch 82/100\n",
      "4/4 [==============================] - 0s 10ms/step - loss: 1.0649 - accuracy: 0.5234 - recall: 0.0000e+00 - val_loss: 1.0630 - val_accuracy: 0.4528 - val_recall: 0.0000e+00\n",
      "Epoch 83/100\n",
      "4/4 [==============================] - 0s 9ms/step - loss: 1.0648 - accuracy: 0.5234 - recall: 0.0000e+00 - val_loss: 1.0627 - val_accuracy: 0.4340 - val_recall: 0.0000e+00\n",
      "Epoch 84/100\n",
      "4/4 [==============================] - 0s 9ms/step - loss: 1.0643 - accuracy: 0.5327 - recall: 0.0000e+00 - val_loss: 1.0626 - val_accuracy: 0.4528 - val_recall: 0.0000e+00\n",
      "Epoch 85/100\n",
      "4/4 [==============================] - 0s 9ms/step - loss: 1.0635 - accuracy: 0.5327 - recall: 0.0000e+00 - val_loss: 1.0622 - val_accuracy: 0.4717 - val_recall: 0.0000e+00\n",
      "Epoch 86/100\n",
      "4/4 [==============================] - 0s 9ms/step - loss: 1.0632 - accuracy: 0.5514 - recall: 0.0000e+00 - val_loss: 1.0622 - val_accuracy: 0.4717 - val_recall: 0.0000e+00\n",
      "Epoch 87/100\n",
      "4/4 [==============================] - 0s 8ms/step - loss: 1.0629 - accuracy: 0.5327 - recall: 0.0000e+00 - val_loss: 1.0625 - val_accuracy: 0.4717 - val_recall: 0.0000e+00\n",
      "Epoch 88/100\n"
     ]
    },
    {
     "name": "stdout",
     "output_type": "stream",
     "text": [
      "4/4 [==============================] - 0s 9ms/step - loss: 1.0625 - accuracy: 0.5327 - recall: 0.0000e+00 - val_loss: 1.0612 - val_accuracy: 0.4717 - val_recall: 0.0000e+00\n",
      "Epoch 89/100\n",
      "4/4 [==============================] - 0s 8ms/step - loss: 1.0620 - accuracy: 0.5421 - recall: 0.0000e+00 - val_loss: 1.0613 - val_accuracy: 0.4717 - val_recall: 0.0000e+00\n",
      "Epoch 90/100\n",
      "4/4 [==============================] - 0s 8ms/step - loss: 1.0619 - accuracy: 0.5421 - recall: 0.0000e+00 - val_loss: 1.0600 - val_accuracy: 0.4906 - val_recall: 0.0000e+00\n",
      "Epoch 91/100\n",
      "4/4 [==============================] - 0s 8ms/step - loss: 1.0611 - accuracy: 0.5514 - recall: 0.0000e+00 - val_loss: 1.0589 - val_accuracy: 0.4906 - val_recall: 0.0000e+00\n",
      "Epoch 92/100\n",
      "4/4 [==============================] - 0s 8ms/step - loss: 1.0611 - accuracy: 0.5421 - recall: 0.0000e+00 - val_loss: 1.0584 - val_accuracy: 0.4717 - val_recall: 0.0000e+00\n",
      "Epoch 93/100\n",
      "4/4 [==============================] - 0s 9ms/step - loss: 1.0607 - accuracy: 0.5421 - recall: 0.0000e+00 - val_loss: 1.0583 - val_accuracy: 0.4906 - val_recall: 0.0000e+00\n",
      "Epoch 94/100\n",
      "4/4 [==============================] - 0s 8ms/step - loss: 1.0600 - accuracy: 0.5514 - recall: 0.0000e+00 - val_loss: 1.0577 - val_accuracy: 0.4906 - val_recall: 0.0000e+00\n",
      "Epoch 95/100\n",
      "4/4 [==============================] - 0s 9ms/step - loss: 1.0599 - accuracy: 0.5514 - recall: 0.0000e+00 - val_loss: 1.0573 - val_accuracy: 0.4906 - val_recall: 0.0000e+00\n",
      "Epoch 96/100\n",
      "4/4 [==============================] - 0s 9ms/step - loss: 1.0595 - accuracy: 0.5607 - recall: 0.0000e+00 - val_loss: 1.0576 - val_accuracy: 0.5094 - val_recall: 0.0000e+00\n",
      "Epoch 97/100\n",
      "4/4 [==============================] - 0s 9ms/step - loss: 1.0586 - accuracy: 0.5701 - recall: 0.0000e+00 - val_loss: 1.0566 - val_accuracy: 0.5283 - val_recall: 0.0000e+00\n",
      "Epoch 98/100\n",
      "4/4 [==============================] - 0s 8ms/step - loss: 1.0583 - accuracy: 0.5514 - recall: 0.0000e+00 - val_loss: 1.0564 - val_accuracy: 0.5094 - val_recall: 0.0000e+00\n",
      "Epoch 99/100\n",
      "4/4 [==============================] - 0s 8ms/step - loss: 1.0581 - accuracy: 0.5701 - recall: 0.0000e+00 - val_loss: 1.0553 - val_accuracy: 0.4717 - val_recall: 0.0000e+00\n",
      "Epoch 100/100\n",
      "4/4 [==============================] - 0s 8ms/step - loss: 1.0575 - accuracy: 0.5607 - recall: 0.0000e+00 - val_loss: 1.0547 - val_accuracy: 0.4906 - val_recall: 0.0000e+00\n"
     ]
    }
   ],
   "source": [
    "# fit the model\n",
    "history = model.fit(X_train, y_train, epochs=100, validation_split=0.33)"
   ]
  },
  {
   "cell_type": "code",
   "execution_count": 15,
   "metadata": {
    "ExecuteTime": {
     "end_time": "2020-11-29T11:37:39.029365Z",
     "start_time": "2020-11-29T11:37:38.911752Z"
    }
   },
   "outputs": [
    {
     "name": "stdout",
     "output_type": "stream",
     "text": [
      "dict_keys(['loss', 'accuracy', 'recall', 'val_loss', 'val_accuracy', 'val_recall'])\n"
     ]
    },
    {
     "data": {
      "image/png": "[encoded data removed]",
      "text/plain": [
       "<Figure size 432x288 with 1 Axes>"
      ]
     },
     "metadata": {
      "needs_background": "light"
     },
     "output_type": "display_data"
    }
   ],
   "source": [
    "''' Plot learning curve '''\n",
    "import matplotlib.pyplot as plt\n",
    "%matplotlib inline\n",
    "\n",
    "# list all data in history\n",
    "print(history.history.keys())\n",
    "\n",
    "# summarize history for loss\n",
    "plt.plot(history.history['loss'])\n",
    "plt.plot(history.history['val_loss'])\n",
    "plt.title('model loss [Cross Entropy]')\n",
    "plt.ylabel('loss')\n",
    "plt.xlabel('epoch')\n",
    "plt.legend(['train', 'val'], loc='upper left')\n",
    "plt.show()"
   ]
  },
  {
   "cell_type": "code",
   "execution_count": 16,
   "metadata": {
    "ExecuteTime": {
     "end_time": "2020-11-29T11:37:08.203900Z",
     "start_time": "2020-11-29T11:37:08.164040Z"
    }
   },
   "outputs": [],
   "source": [
    "y_pred = model.predict(X_test)"
   ]
  },
  {
   "cell_type": "code",
   "execution_count": 17,
   "metadata": {
    "ExecuteTime": {
     "end_time": "2020-11-29T11:37:08.208703Z",
     "start_time": "2020-11-29T11:37:08.205391Z"
    }
   },
   "outputs": [
    {
     "data": {
      "text/plain": [
       "['loss', 'accuracy', 'recall']"
      ]
     },
     "execution_count": 17,
     "metadata": {},
     "output_type": "execute_result"
    }
   ],
   "source": [
    "model.metrics_names"
   ]
  },
  {
   "cell_type": "code",
   "execution_count": 18,
   "metadata": {
    "ExecuteTime": {
     "end_time": "2020-11-29T11:37:08.377421Z",
     "start_time": "2020-11-29T11:37:08.210395Z"
    }
   },
   "outputs": [
    {
     "name": "stdout",
     "output_type": "stream",
     "text": [
      "2/2 [==============================] - 0s 2ms/step - loss: 1.0508 - accuracy: 0.3750 - recall: 0.0250\n"
     ]
    },
    {
     "data": {
      "text/plain": [
       "[1.0507551431655884, 0.375, 0.02500000037252903]"
      ]
     },
     "execution_count": 18,
     "metadata": {},
     "output_type": "execute_result"
    }
   ],
   "source": [
    "model.evaluate(X_test, y_test)"
   ]
  },
  {
   "cell_type": "code",
   "execution_count": null,
   "metadata": {},
   "outputs": [],
   "source": []
  }
 ],
 "metadata": {
  "kernelspec": {
   "display_name": "Python 3",
   "language": "python",
   "name": "python3"
  },
  "language_info": {
   "codemirror_mode": {
    "name": "ipython",
    "version": 3
   },
   "file_extension": ".py",
   "mimetype": "text/x-python",
   "name": "python",
   "nbconvert_exporter": "python",
   "pygments_lexer": "ipython3",
   "version": "3.8.3"
  },
  "latex_envs": {
   "LaTeX_envs_menu_present": true,
   "autoclose": true,
   "autocomplete": true,
   "bibliofile": "biblio.bib",
   "cite_by": "apalike",
   "current_citInitial": 1,
   "eqLabelWithNumbers": true,
   "eqNumInitial": 1,
   "hotkeys": {
    "equation": "Ctrl-E",
    "itemize": "Ctrl-I"
   },
   "labels_anchors": false,
   "latex_user_defs": false,
   "report_style_numbering": false,
   "user_envs_cfg": false
  },
  "nbTranslate": {
   "displayLangs": [
    "*"
   ],
   "hotkey": "alt-t",
   "langInMainMenu": true,
   "sourceLang": "en",
   "targetLang": "fr",
   "useGoogleTranslate": true
  },
  "toc": {
   "base_numbering": 1,
   "nav_menu": {},
   "number_sections": true,
   "sideBar": true,
   "skip_h1_title": true,
   "title_cell": "Table of Contents",
   "title_sidebar": "Contents",
   "toc_cell": true,
   "toc_position": {},
   "toc_section_display": true,
   "toc_window_display": false
  }
 },
 "nbformat": 4,
 "nbformat_minor": 2
}
