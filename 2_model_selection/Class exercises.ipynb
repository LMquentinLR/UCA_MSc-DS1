{
 "cells": [
  {
   "cell_type": "markdown",
   "metadata": {},
   "source": [
    "# Class exercises\n",
    "\n",
    "<hr>\n",
    "\n",
    "__Exercise 1.__ Suppose a coin is weighted such that, when tossed it comes up heads 70% of times. What is the entropy of this coin?"
   ]
  },
  {
   "cell_type": "code",
   "execution_count": 1,
   "metadata": {},
   "outputs": [],
   "source": [
    "# Library imports\n",
    "\n",
    "import math as m\n",
    "import numpy as np\n",
    "import random as rd\n",
    "\n",
    "from collections import Counter"
   ]
  },
  {
   "cell_type": "code",
   "execution_count": 2,
   "metadata": {},
   "outputs": [],
   "source": [
    "# Global variable & function declaration\n",
    "\n",
    "n_samples = 1000\n",
    "p = 0.7\n",
    "\n",
    "def entropy(p):\n",
    "    \"\"\"\n",
    "    Computes the entropy of a Bernouilli distribution\n",
    "    \"\"\"\n",
    "    if p==0 or p==1: H = 0\n",
    "    else: H = p * m.log(p)/m.log(2) + (1-p) * m.log(1-p)/m.log(2)\n",
    "    return -H\n",
    "\n",
    "def empirical_entropy_coin(p, n_samples):\n",
    "    \"\"\"\n",
    "    Performs 10000 times the calculation\n",
    "    of the entropy of a biased coin toss\n",
    "    with p(heads)=p\n",
    "    \"\"\"\n",
    "    average_entropy = []\n",
    "    for i in range(10000):\n",
    "        # Performs biased coin toss\n",
    "        coin_toss = [1 if rd.randint(1,10)>p*10 else 0 \n",
    "                     for _ in range(n_samples)]\n",
    "        # Counts elements and records empirical entropy\n",
    "        count = Counter(coin_toss)\n",
    "        average_entropy.append(entropy(count[0]/len(coin_toss)))\n",
    "        # Prints an example draw\n",
    "        if i==0:\n",
    "            print(f\"Draw {i+1}: Heads (0) represent \" + \n",
    "                  f\"{count[0]/len(coin_toss)*100:.2f}% of the tosses.\")\n",
    "    print(f\"Empirical entropy after 10,000 draws: {np.mean(average_entropy):.2f}\")\n",
    "    return np.mean(average_entropy)"
   ]
  },
  {
   "cell_type": "code",
   "execution_count": 3,
   "metadata": {},
   "outputs": [
    {
     "name": "stdout",
     "output_type": "stream",
     "text": [
      "Draw 1: Heads (0) represent 69.00% of the tosses.\n",
      "Empirical entropy after 10,000 draws: 0.88\n"
     ]
    },
    {
     "data": {
      "text/plain": [
       "0.8809147498801642"
      ]
     },
     "execution_count": 3,
     "metadata": {},
     "output_type": "execute_result"
    }
   ],
   "source": [
    "# Computes empirical entropy\n",
    "\n",
    "empirical_entropy_coin(p, n_samples)"
   ]
  },
  {
   "cell_type": "code",
   "execution_count": 4,
   "metadata": {},
   "outputs": [
    {
     "data": {
      "text/plain": [
       "0.8812908992306927"
      ]
     },
     "execution_count": 4,
     "metadata": {},
     "output_type": "execute_result"
    }
   ],
   "source": [
    "# Computes expected entropy\n",
    "\n",
    "entropy(0.7)"
   ]
  },
  {
   "cell_type": "markdown",
   "metadata": {},
   "source": [
    "<u>Observations:</u>\n",
    "    \n",
    "We can infer that with p=0.7, the entropy converges towards 0.881."
   ]
  },
  {
   "cell_type": "markdown",
   "metadata": {},
   "source": [
    "<hr>\n",
    "\n",
    "__Exercise 2.__ What is the entropy of a fair dice? "
   ]
  },
  {
   "cell_type": "code",
   "execution_count": 5,
   "metadata": {},
   "outputs": [],
   "source": [
    "# Global variable & function declaration\n",
    "\n",
    "def expected_entropy_die():\n",
    "    \"\"\"\n",
    "    Computes the expected entropy of a die roll\n",
    "    \"\"\"\n",
    "    H=0\n",
    "    for i in range(1, 7):\n",
    "        H += 1/6 * m.log(1/6)/m.log(2)\n",
    "    return -H\n",
    "\n",
    "def entropy_die(count, length):\n",
    "    \"\"\"\n",
    "    Computes the entropy of a die roll\n",
    "    \"\"\"\n",
    "    H=0\n",
    "    for i in range(1, 7):\n",
    "        p =  count[i]/length\n",
    "        H += p * m.log(p)/m.log(2)\n",
    "    return -H\n",
    "\n",
    "def empirical_entropy_die(n_samples):\n",
    "    \"\"\"\n",
    "    Performs 10000 times the calculation\n",
    "    of the entropy of a fair dice\n",
    "    \"\"\"\n",
    "    average_entropy = []\n",
    "    for i in range(10000):\n",
    "        # Performs biased coin toss\n",
    "        die = [rd.randint(1,6) for _ in range(n_samples)]\n",
    "        # Counts elements and records empirical entropy\n",
    "        count = Counter(die)\n",
    "        average_entropy.append(entropy_die(count, len(die)))\n",
    "        # Prints an example draw\n",
    "        if i==0:\n",
    "            print(f\"Draw {i+1}: '1s' represent \" + \n",
    "                  f\"{count[1]/len(die)*100:.2f}% of the tosses.\")\n",
    "    print(f\"Empirical entropy after 10,000 draws: {np.mean(average_entropy):.2f}\")\n",
    "    return np.mean(average_entropy)"
   ]
  },
  {
   "cell_type": "code",
   "execution_count": 6,
   "metadata": {},
   "outputs": [
    {
     "name": "stdout",
     "output_type": "stream",
     "text": [
      "Draw 1: '1s' represent 15.00% of the tosses.\n",
      "Empirical entropy after 10,000 draws: 2.58\n"
     ]
    },
    {
     "data": {
      "text/plain": [
       "2.581385288645799"
      ]
     },
     "execution_count": 6,
     "metadata": {},
     "output_type": "execute_result"
    }
   ],
   "source": [
    "# Computes empirical entropy\n",
    "\n",
    "empirical_entropy_die(n_samples)"
   ]
  },
  {
   "cell_type": "code",
   "execution_count": 7,
   "metadata": {},
   "outputs": [
    {
     "data": {
      "text/plain": [
       "2.584962500721156"
      ]
     },
     "execution_count": 7,
     "metadata": {},
     "output_type": "execute_result"
    }
   ],
   "source": [
    "# Computes expected entropy\n",
    "\n",
    "expected_entropy_die()"
   ]
  },
  {
   "cell_type": "markdown",
   "metadata": {},
   "source": [
    "<u>Observations:</u>\n",
    "    \n",
    "We can infer that with a fair die, the entropy converges towards 2.58."
   ]
  },
  {
   "cell_type": "markdown",
   "metadata": {},
   "source": [
    "<hr>\n",
    "\n",
    "__Exercise 3.__ What is the entropy of a dice that shows \n",
    "- \"1\": 20% of times, \n",
    "- \"2\": 10% of times,\n",
    "- \"3\": 5% of times,\n",
    "- \"4\": 20% of times,\n",
    "- \"5\": 30% of times,\n",
    "- \"6\": 15% of times    "
   ]
  },
  {
   "cell_type": "code",
   "execution_count": 8,
   "metadata": {},
   "outputs": [],
   "source": [
    "# Global variable & function declaration\n",
    "\n",
    "unfair = {1: 0.2,\n",
    "          2: 0.1,\n",
    "          3: 0.05,\n",
    "          4: 0.2,\n",
    "          5: 0.3,\n",
    "          6: 0.15}\n",
    "\n",
    "def expected_entropy_die(probabilities):\n",
    "    \"\"\"\n",
    "    Computes the expected entropy of an unfair die roll\n",
    "    \"\"\"\n",
    "    H=0\n",
    "    for i in range(1, 7):\n",
    "        H += probabilities[i] * m.log(probabilities[i])/m.log(2)\n",
    "    print(f\"The entropy of the unfair die is: {-H:.2f}.\")\n",
    "    return -H"
   ]
  },
  {
   "cell_type": "code",
   "execution_count": 9,
   "metadata": {
    "scrolled": true
   },
   "outputs": [
    {
     "name": "stdout",
     "output_type": "stream",
     "text": [
      "The entropy of the unfair die is: 2.41.\n"
     ]
    },
    {
     "data": {
      "text/plain": [
       "2.408694969562842"
      ]
     },
     "execution_count": 9,
     "metadata": {},
     "output_type": "execute_result"
    }
   ],
   "source": [
    "# Computes expected entropy\n",
    "\n",
    "expected_entropy_die(unfair)"
   ]
  },
  {
   "cell_type": "markdown",
   "metadata": {},
   "source": [
    "<u>Observations:</u>\n",
    "    \n",
    "We can infer that with the unfair die, the entropy should converge towards 2.41."
   ]
  },
  {
   "cell_type": "markdown",
   "metadata": {},
   "source": [
    "<hr>\n",
    "\n",
    "__Exercise 4.__ Compute the Kullback-Leibler divergence between the dice of Exercise 2 and the dice of Exercise 3."
   ]
  },
  {
   "cell_type": "code",
   "execution_count": 10,
   "metadata": {},
   "outputs": [],
   "source": [
    "# Global variable & function declaration\n",
    "\n",
    "probas = {1: [1/6, 0.2],\n",
    "          2: [1/6, 0.1],\n",
    "          3: [1/6, 0.05],\n",
    "          4: [1/6, 0.2],\n",
    "          5: [1/6, 0.3],\n",
    "          6: [1/6, 0.15]}\n",
    "\n",
    "def kullback_leibler(probas):\n",
    "    \"\"\"\n",
    "    computes the kullback leibler\n",
    "    divergence of two dice\n",
    "    \"\"\"\n",
    "    KL=0\n",
    "    for i in range(1, 7):\n",
    "        KL += probas[i][0] * np.log(probas[i][0])/np.log(2) - (probas[i][0])*np.log(probas[i][1])/np.log(2)\n",
    "    print(f\"The KL divergence of the two dice are: {KL:.2f}.\")\n",
    "    return KL"
   ]
  },
  {
   "cell_type": "code",
   "execution_count": 11,
   "metadata": {},
   "outputs": [
    {
     "name": "stdout",
     "output_type": "stream",
     "text": [
      "The KL divergence of the two dice are: 0.21.\n"
     ]
    },
    {
     "data": {
      "text/plain": [
       "0.20864476059248738"
      ]
     },
     "execution_count": 11,
     "metadata": {},
     "output_type": "execute_result"
    }
   ],
   "source": [
    "# Computes the KL divergence\n",
    "\n",
    "kullback_leibler(probas)"
   ]
  },
  {
   "cell_type": "markdown",
   "metadata": {},
   "source": [
    "# Assignment 4.2\n",
    "\n",
    "This time we are going to work with the diabetes dataset.\n"
   ]
  },
  {
   "cell_type": "code",
   "execution_count": 12,
   "metadata": {},
   "outputs": [
    {
     "name": "stdout",
     "output_type": "stream",
     "text": [
      ".. _diabetes_dataset:\n",
      "\n",
      "Diabetes dataset\n",
      "----------------\n",
      "\n",
      "Ten baseline variables, age, sex, body mass index, average blood\n",
      "pressure, and six blood serum measurements were obtained for each of n =\n",
      "442 diabetes patients, as well as the response of interest, a\n",
      "quantitative measure of disease progression one year after baseline.\n",
      "\n",
      "**Data Set Characteristics:**\n",
      "\n",
      "  :Number of Instances: 442\n",
      "\n",
      "  :Number of Attributes: First 10 columns are numeric predictive values\n",
      "\n",
      "  :Target: Column 11 is a quantitative measure of disease progression one year after baseline\n",
      "\n",
      "  :Attribute Information:\n",
      "      - age     age in years\n",
      "      - sex\n",
      "      - bmi     body mass index\n",
      "      - bp      average blood pressure\n",
      "      - s1      tc, T-Cells (a type of white blood cells)\n",
      "      - s2      ldl, low-density lipoproteins\n",
      "      - s3      hdl, high-density lipoproteins\n",
      "      - s4      tch, thyroid stimulating hormone\n",
      "      - s5      ltg, lamotrigine\n",
      "      - s6      glu, blood sugar level\n",
      "\n",
      "Note: Each of these 10 feature variables have been mean centered and scaled by the standard deviation times `n_samples` (i.e. the sum of squares of each column totals 1).\n",
      "\n",
      "Source URL:\n",
      "https://www4.stat.ncsu.edu/~boos/var.select/diabetes.html\n",
      "\n",
      "For more information see:\n",
      "Bradley Efron, Trevor Hastie, Iain Johnstone and Robert Tibshirani (2004) \"Least Angle Regression,\" Annals of Statistics (with discussion), 407-499.\n",
      "(https://web.stanford.edu/~hastie/Papers/LARS/LeastAngle_2002.pdf)\n"
     ]
    }
   ],
   "source": [
    "from sklearn import datasets \n",
    "import numpy as np\n",
    "import matplotlib.pyplot as plt\n",
    "\n",
    "dataset = datasets.load_diabetes(return_X_y=False)\n",
    "print(dataset.DESCR)"
   ]
  },
  {
   "cell_type": "code",
   "execution_count": 13,
   "metadata": {},
   "outputs": [],
   "source": [
    "# Define the feature matrix\n",
    "data = dataset.data\n",
    "# Define the target\n",
    "target = dataset.target"
   ]
  },
  {
   "cell_type": "code",
   "execution_count": 14,
   "metadata": {},
   "outputs": [
    {
     "data": {
      "image/png": "[encoded data removed]",
      "text/plain": [
       "<Figure size 432x288 with 1 Axes>"
      ]
     },
     "metadata": {
      "needs_background": "light"
     },
     "output_type": "display_data"
    }
   ],
   "source": [
    "plt.scatter(data[:,2], data[:,9])\n",
    "plt.xlabel('BMI')\n",
    "plt.ylabel('S6')\n",
    "plt.show()"
   ]
  },
  {
   "cell_type": "markdown",
   "metadata": {},
   "source": [
    "<hr>\n",
    "\n",
    "__Exercise 1.__ Investigate the relationship between body mass index (data[:,2]) and S6 (data[:,9]). By using the AIC score seen during lesson, can you verify which hypothesis is better supported by the data?\n",
    "\n",
    "- there is no relationship (constant)\n",
    "- the relationship is linear\n",
    "- the relationship is quadratic\n",
    "- the relationship is cubic\n",
    "- the relationship is polynomial of order 4"
   ]
  },
  {
   "cell_type": "code",
   "execution_count": 15,
   "metadata": {},
   "outputs": [],
   "source": [
    "# Global variable declaration\n",
    "\n",
    "x = data[:,2]\n",
    "y  = data[:,9]\n",
    "\n",
    "# degrees = list(range(0,5))"
   ]
  },
  {
   "cell_type": "raw",
   "metadata": {},
   "source": [
    "def compute_relationships(bmi, s6, degrees):\n",
    "    \"\"\"\n",
    "    Computes constant to polynomial of order 4 relationships\n",
    "    \"\"\"\n",
    "x_poly = []\n",
    "w_ml = []\n",
    "for d in degrees:\n",
    "    current_xpoly = np.array([bmi**i for i in range(d)]).T\n",
    "    current_wml =   np.linalg.solve(current_xpoly.T.dot(current_xpoly),\n",
    "                                    current_xpoly.T.dot(s6))\n",
    "    current_wml =   current_wml.reshape(1, (len(current_wml)))\n",
    "    x_poly.append(current_xpoly)\n",
    "    w_ml.append(current_wml)\n",
    "    sigma2_ml = np.mean((s6-current_xpoly.dot(current_wml.T))**2)\n",
    "    print(f\"The {d}-degree ML coefficients are: {current_wml[0]}\\nand the variance is: {sigma2_ml:.4f}\")"
   ]
  },
  {
   "cell_type": "code",
   "execution_count": 16,
   "metadata": {},
   "outputs": [
    {
     "data": {
      "image/png": "[encoded data removed]",
      "text/plain": [
       "<Figure size 432x288 with 1 Axes>"
      ]
     },
     "metadata": {
      "needs_background": "light"
     },
     "output_type": "display_data"
    }
   ],
   "source": [
    "def Gaussian_loglik(x,y,w,sigma2):\n",
    "    \"\"\"\n",
    "    Computes the Gaussian log-likelihood\n",
    "    \"\"\"\n",
    "    N = len(y)\n",
    "    ll = -N/2 * np.log(2*np.pi*sigma2) - 1/(2*sigma2) * np.sum((y-x.dot(w.T))**2)\n",
    "    return ll\n",
    "\n",
    "def fit_poly(x,y,d):\n",
    "    \"\"\"\n",
    "    Fits a polynomial model\n",
    "    \"\"\"\n",
    "    w_ml = np.linalg.solve(x.T.dot(x),x.T.dot(y))\n",
    "    w_ml.reshape(1,(len(w_ml)))\n",
    "    sigma2_ml = np.mean((y-x.dot(w_ml.T))**2)\n",
    "    return w_ml, sigma2_ml\n",
    "\n",
    "loglik = []\n",
    "AIC = []\n",
    "for d in range(1,5):\n",
    "    x_poly = np.array([x**i for i in range(d)]).T\n",
    "    w_ml, sigma2_ml = fit_poly(x_poly,y,d)\n",
    "    loglik.append(Gaussian_loglik(x_poly,y,w_ml,sigma2_ml))\n",
    "    dev = -2*np.array(Gaussian_loglik(x_poly, y, w_ml, sigma2_ml))\n",
    "    AIC.append(dev+2*len(w_ml))\n",
    "\n",
    "plt.plot(range(1,5), AIC)\n",
    "plt.ylabel('AIC')\n",
    "plt.xlabel('polynomial degree')\n",
    "plt.show()"
   ]
  },
  {
   "cell_type": "markdown",
   "metadata": {},
   "source": [
    "<hr>\n",
    "\n",
    "__Exercise 2.__ Repeat the exercise by using the BIC. Discuss the differences in the results, if any."
   ]
  },
  {
   "cell_type": "code",
   "execution_count": 17,
   "metadata": {
    "scrolled": false
   },
   "outputs": [
    {
     "data": {
      "image/png": "[encoded data removed]",
      "text/plain": [
       "<Figure size 432x288 with 1 Axes>"
      ]
     },
     "metadata": {
      "needs_background": "light"
     },
     "output_type": "display_data"
    }
   ],
   "source": [
    "def Gaussian_loglik(x,y,w,sigma2):\n",
    "    \"\"\"\n",
    "    Computes the Gaussian log-likelihood\n",
    "    \"\"\"\n",
    "    N = len(y)\n",
    "    ll = -N/2 * np.log(2*np.pi*sigma2) - 1/(2*sigma2) * np.sum((y-x.dot(w.T))**2)\n",
    "    return ll\n",
    "\n",
    "def fit_poly(x,y,d):\n",
    "    \"\"\"\n",
    "    Fits a polynomial model\n",
    "    \"\"\"\n",
    "    w_ml = np.linalg.solve(x.T.dot(x),x.T.dot(y))\n",
    "    w_ml.reshape(1,(len(w_ml)))\n",
    "    sigma2_ml = np.mean((y-x.dot(w_ml.T))**2)\n",
    "    return w_ml, sigma2_ml\n",
    "\n",
    "loglik = []\n",
    "BIC = []\n",
    "for d in range(1,5):\n",
    "    x_poly = np.array([x**i for i in range(d)]).T\n",
    "    w_ml, sigma2_ml = fit_poly(x_poly,y,d)\n",
    "    loglik.append(Gaussian_loglik(x_poly,y,w_ml,sigma2_ml))\n",
    "    dev = -2*np.array(Gaussian_loglik(x_poly, y, w_ml, sigma2_ml))\n",
    "    BIC.append(dev+2*len(w_ml)*np.log(len(x)))\n",
    "\n",
    "plt.plot(range(1,5), BIC)\n",
    "plt.ylabel('BIC')\n",
    "plt.xlabel('polynomial degree')\n",
    "plt.show()"
   ]
  },
  {
   "cell_type": "code",
   "execution_count": 18,
   "metadata": {},
   "outputs": [
    {
     "name": "stdout",
     "output_type": "stream",
     "text": [
      "3\n"
     ]
    }
   ],
   "source": [
    "def fit_poly(x,y):\n",
    "    w_ml = np.linalg.solve(x.T.dot(x),x.T.dot(y))\n",
    "    w_ml.reshape(1,(len(w_ml)))\n",
    "    sigma2_ml = np.mean((y-x.dot(w_ml.T))**2)\n",
    "    return w_ml, sigma2_ml\n",
    "\n",
    "poly_order=list(range(1, 6))\n",
    "\n",
    "model = poly_order[np.argmin(AIC)]\n",
    "print(model)"
   ]
  },
  {
   "cell_type": "code",
   "execution_count": 19,
   "metadata": {},
   "outputs": [
    {
     "name": "stdout",
     "output_type": "stream",
     "text": [
      "[-1436.0173045253575, -1506.4085348469357, -1509.367540400094, -1507.6167371574688]\n"
     ]
    },
    {
     "data": {
      "text/plain": [
       "<function matplotlib.pyplot.show(close=None, block=None)>"
      ]
     },
     "execution_count": 19,
     "metadata": {},
     "output_type": "execute_result"
    },
    {
     "data": {
      "image/png": "[encoded data removed]",
      "text/plain": [
       "<Figure size 432x288 with 1 Axes>"
      ]
     },
     "metadata": {
      "needs_background": "light"
     },
     "output_type": "display_data"
    }
   ],
   "source": [
    "print(AIC)\n",
    "\n",
    "x_poly = np.array([x**i for i in range(model)]).T\n",
    "w_ml, sigma2_ml = fit_poly(x_poly, y)\n",
    "\n",
    "x_plot = np.arange(-0.1, 0.15, 0.01)\n",
    "x_poly_plot = np.array([x_plot**i for i in range(model)]).T\n",
    "\n",
    "plt.scatter(x, y)\n",
    "plt.plot(x_plot, x_poly_plot.dot(w_ml), color=\"black\")\n",
    "plt.show"
   ]
  },
  {
   "cell_type": "code",
   "execution_count": 20,
   "metadata": {},
   "outputs": [
    {
     "name": "stdout",
     "output_type": "stream",
     "text": [
      "2\n"
     ]
    }
   ],
   "source": [
    "poly_order=list(range(1, 6))\n",
    "\n",
    "model = poly_order[np.argmin(BIC)]\n",
    "print(model)"
   ]
  },
  {
   "cell_type": "code",
   "execution_count": 21,
   "metadata": {},
   "outputs": [
    {
     "name": "stdout",
     "output_type": "stream",
     "text": [
      "[-1425.8346847612022, -1486.0432953186248, -1478.8196811076277, -1466.8862581008473]\n"
     ]
    },
    {
     "data": {
      "text/plain": [
       "<function matplotlib.pyplot.show(close=None, block=None)>"
      ]
     },
     "execution_count": 21,
     "metadata": {},
     "output_type": "execute_result"
    },
    {
     "data": {
      "image/png": "[encoded data removed]",
      "text/plain": [
       "<Figure size 432x288 with 1 Axes>"
      ]
     },
     "metadata": {
      "needs_background": "light"
     },
     "output_type": "display_data"
    }
   ],
   "source": [
    "print(BIC)\n",
    "\n",
    "x_poly = np.array([x**i for i in range(model)]).T\n",
    "w_ml, sigma2_ml = fit_poly(x_poly, y)\n",
    "\n",
    "x_plot = np.arange(-0.1, 0.15, 0.01)\n",
    "x_poly_plot = np.array([x_plot**i for i in range(model)]).T\n",
    "\n",
    "plt.scatter(x, y)\n",
    "plt.plot(x_plot, x_poly_plot.dot(w_ml), color=\"black\")\n",
    "plt.show"
   ]
  },
  {
   "cell_type": "markdown",
   "metadata": {},
   "source": [
    "<hr>\n",
    "\n",
    "__Exercise 3.__ Which model would you support between the following:\n",
    "\n",
    "- target depends on _Age_\n",
    "- target depends on _Age_ and _Sex_\n",
    "- target depends on _Age_ and _Body mass index_ \n",
    "- target depends on _Age_ and _Body mass index_ and _Average blood pressure_\n",
    "- target depends on _Age_ and _Sex_ and _Body mass index_ \n",
    "- target depends on _Age_ and _Sex_ and _Body mass index_ and _Average blood pressure_\n",
    "- target depends on  _Body mass index_ and _Average blood pressure_\n",
    "\n",
    "Use any metric (or more metrics) at your discretion, and comment the results"
   ]
  },
  {
   "cell_type": "code",
   "execution_count": 22,
   "metadata": {},
   "outputs": [],
   "source": [
    "import itertools\n",
    "import pandas as pd\n",
    "\n",
    "# Supporting functions for model fitting\n",
    "def Gaussian_loglik(x,y,w,sigma2):\n",
    "    N = len(y)\n",
    "    ll = -N/2 * np.log(2*np.pi*sigma2) - 1/(2*sigma2) * np.sum((y-x.dot(w.T))**2)\n",
    "    return ll\n",
    "\n",
    "def fit_poly(x,y):\n",
    "    w_ml = np.linalg.solve(x.T.dot(x),x.T.dot(y))\n",
    "    w_ml.reshape(1,(len(w_ml)))\n",
    "    sigma2_ml = np.mean((y-x.dot(w_ml.T))**2)\n",
    "    return w_ml, sigma2_ml"
   ]
  },
  {
   "cell_type": "code",
   "execution_count": 23,
   "metadata": {},
   "outputs": [
    {
     "name": "stderr",
     "output_type": "stream",
     "text": [
      "<ipython-input-23-ad666ad24666>:26: FutureWarning: Using a non-tuple sequence for multidimensional indexing is deprecated; use `arr[tuple(seq)]` instead of `arr[seq]`. In the future this will be interpreted as an array index, `arr[np.array(seq)]`, which will result either in an error or a different result.\n",
      "  coefficients[[indices]] = w_ml\n"
     ]
    }
   ],
   "source": [
    "AIC = []\n",
    "AICc = []\n",
    "BIC = []\n",
    "model = []\n",
    "ll = []\n",
    "coef = []\n",
    "sigma2 = []\n",
    "\n",
    "# For each number of parameters in the model\n",
    "for n_elements in range(1,10+1):\n",
    "    # For each combination of variables\n",
    "    for indices in itertools.combinations(range(d),n_elements):\n",
    "\n",
    "        # Store the indices corresponding to the parameters\n",
    "        model.append(indices)\n",
    "        \n",
    "        # Fit the model\n",
    "        x_train = data[:,indices].reshape(data.shape[0],n_elements)\n",
    "        w_ml, sigma2_ml = fit_poly(x_train, target)\n",
    "        \n",
    "        # compute the log-likelihhod\n",
    "        training_ll = Gaussian_loglik(x_train,target,w_ml,sigma2_ml)\n",
    "        \n",
    "        # store the coefficients\n",
    "        coefficients = np.zeros(d)\n",
    "        coefficients[[indices]] = w_ml        \n",
    "        coef.append(coefficients)\n",
    "        sigma2.append(sigma2_ml)\n",
    "        \n",
    "        # store all the metrics\n",
    "        ll.append( -training_ll)\n",
    "        AIC.append(-2*training_ll + 2*n_elements)\n",
    "        AICc.append(-2*training_ll + 2*n_elements + 2.*n_elements*(n_elements+1)/(x.shape[0]-n_elements-1))\n",
    "        BIC.append(-2*training_ll + 2*n_elements*np.log(x.shape[0]))\n",
    " \n",
    "\n",
    "\n",
    "results = pd.DataFrame({'model': model, 'AIC': AIC, 'AICc': AICc, 'BIC' :BIC, \n",
    "                                 'neg_loglik' : ll, 'coef' : coef, 'sigma2' : sigma2})  \n",
    "results.sort_values('AIC', ascending = True, inplace = True)\n",
    "results.reset_index(inplace = True)\n",
    "model_comparison = results[['model', 'AIC', 'AICc', 'BIC', 'neg_loglik']]\n",
    "\n",
    "fitted_models = results[['model', 'coef', 'sigma2']]"
   ]
  },
  {
   "cell_type": "code",
   "execution_count": 24,
   "metadata": {},
   "outputs": [
    {
     "data": {
      "text/html": [
       "<div>\n",
       "<style scoped>\n",
       "    .dataframe tbody tr th:only-of-type {\n",
       "        vertical-align: middle;\n",
       "    }\n",
       "\n",
       "    .dataframe tbody tr th {\n",
       "        vertical-align: top;\n",
       "    }\n",
       "\n",
       "    .dataframe thead th {\n",
       "        text-align: right;\n",
       "    }\n",
       "</style>\n",
       "<table border=\"1\" class=\"dataframe\">\n",
       "  <thead>\n",
       "    <tr style=\"text-align: right;\">\n",
       "      <th></th>\n",
       "      <th>model</th>\n",
       "      <th>AIC</th>\n",
       "      <th>AICc</th>\n",
       "      <th>BIC</th>\n",
       "      <th>neg_loglik</th>\n",
       "      <th>d</th>\n",
       "    </tr>\n",
       "  </thead>\n",
       "  <tbody>\n",
       "    <tr>\n",
       "      <th>0</th>\n",
       "      <td>(2, 3)</td>\n",
       "      <td>5763.825662</td>\n",
       "      <td>5763.852997</td>\n",
       "      <td>5784.190902</td>\n",
       "      <td>2879.912831</td>\n",
       "      <td>0.000000</td>\n",
       "    </tr>\n",
       "    <tr>\n",
       "      <th>1</th>\n",
       "      <td>(1, 2, 3)</td>\n",
       "      <td>5765.452457</td>\n",
       "      <td>5765.507252</td>\n",
       "      <td>5796.000317</td>\n",
       "      <td>2879.726229</td>\n",
       "      <td>1.626795</td>\n",
       "    </tr>\n",
       "    <tr>\n",
       "      <th>2</th>\n",
       "      <td>(0, 2, 3)</td>\n",
       "      <td>5765.803312</td>\n",
       "      <td>5765.858107</td>\n",
       "      <td>5796.351172</td>\n",
       "      <td>2879.901656</td>\n",
       "      <td>1.977650</td>\n",
       "    </tr>\n",
       "    <tr>\n",
       "      <th>3</th>\n",
       "      <td>(2,)</td>\n",
       "      <td>5766.902859</td>\n",
       "      <td>5766.911950</td>\n",
       "      <td>5777.085479</td>\n",
       "      <td>2882.451430</td>\n",
       "      <td>3.077197</td>\n",
       "    </tr>\n",
       "    <tr>\n",
       "      <th>4</th>\n",
       "      <td>(0, 1, 2, 3)</td>\n",
       "      <td>5767.407011</td>\n",
       "      <td>5767.498545</td>\n",
       "      <td>5808.137490</td>\n",
       "      <td>2879.703506</td>\n",
       "      <td>3.581349</td>\n",
       "    </tr>\n",
       "    <tr>\n",
       "      <th>5</th>\n",
       "      <td>(0, 2)</td>\n",
       "      <td>5768.270392</td>\n",
       "      <td>5768.297727</td>\n",
       "      <td>5788.635631</td>\n",
       "      <td>2882.135196</td>\n",
       "      <td>4.444730</td>\n",
       "    </tr>\n",
       "    <tr>\n",
       "      <th>6</th>\n",
       "      <td>(1, 2)</td>\n",
       "      <td>5768.895565</td>\n",
       "      <td>5768.922900</td>\n",
       "      <td>5789.260805</td>\n",
       "      <td>2882.447783</td>\n",
       "      <td>5.069903</td>\n",
       "    </tr>\n",
       "    <tr>\n",
       "      <th>7</th>\n",
       "      <td>(0, 1, 2)</td>\n",
       "      <td>5770.223639</td>\n",
       "      <td>5770.278433</td>\n",
       "      <td>5800.771498</td>\n",
       "      <td>2882.111819</td>\n",
       "      <td>6.397976</td>\n",
       "    </tr>\n",
       "    <tr>\n",
       "      <th>8</th>\n",
       "      <td>(3,)</td>\n",
       "      <td>5781.118644</td>\n",
       "      <td>5781.127735</td>\n",
       "      <td>5791.301264</td>\n",
       "      <td>2889.559322</td>\n",
       "      <td>17.292982</td>\n",
       "    </tr>\n",
       "    <tr>\n",
       "      <th>9</th>\n",
       "      <td>(1, 3)</td>\n",
       "      <td>5782.718575</td>\n",
       "      <td>5782.745910</td>\n",
       "      <td>5803.083815</td>\n",
       "      <td>2889.359288</td>\n",
       "      <td>18.892913</td>\n",
       "    </tr>\n",
       "  </tbody>\n",
       "</table>\n",
       "</div>"
      ],
      "text/plain": [
       "          model          AIC         AICc          BIC   neg_loglik          d\n",
       "0        (2, 3)  5763.825662  5763.852997  5784.190902  2879.912831   0.000000\n",
       "1     (1, 2, 3)  5765.452457  5765.507252  5796.000317  2879.726229   1.626795\n",
       "2     (0, 2, 3)  5765.803312  5765.858107  5796.351172  2879.901656   1.977650\n",
       "3          (2,)  5766.902859  5766.911950  5777.085479  2882.451430   3.077197\n",
       "4  (0, 1, 2, 3)  5767.407011  5767.498545  5808.137490  2879.703506   3.581349\n",
       "5        (0, 2)  5768.270392  5768.297727  5788.635631  2882.135196   4.444730\n",
       "6        (1, 2)  5768.895565  5768.922900  5789.260805  2882.447783   5.069903\n",
       "7     (0, 1, 2)  5770.223639  5770.278433  5800.771498  2882.111819   6.397976\n",
       "8          (3,)  5781.118644  5781.127735  5791.301264  2889.559322  17.292982\n",
       "9        (1, 3)  5782.718575  5782.745910  5803.083815  2889.359288  18.892913"
      ]
     },
     "execution_count": 24,
     "metadata": {},
     "output_type": "execute_result"
    }
   ],
   "source": [
    "differences_wrt_minimum = model_comparison.AIC - model_comparison.AIC[0]\n",
    "model_comparison.insert(len(model_comparison.columns), 'd', differences_wrt_minimum)\n",
    "model_comparison[:10]"
   ]
  },
  {
   "cell_type": "code",
   "execution_count": 25,
   "metadata": {},
   "outputs": [
    {
     "data": {
      "text/html": [
       "<div>\n",
       "<style scoped>\n",
       "    .dataframe tbody tr th:only-of-type {\n",
       "        vertical-align: middle;\n",
       "    }\n",
       "\n",
       "    .dataframe tbody tr th {\n",
       "        vertical-align: top;\n",
       "    }\n",
       "\n",
       "    .dataframe thead th {\n",
       "        text-align: right;\n",
       "    }\n",
       "</style>\n",
       "<table border=\"1\" class=\"dataframe\">\n",
       "  <thead>\n",
       "    <tr style=\"text-align: right;\">\n",
       "      <th></th>\n",
       "      <th>model</th>\n",
       "      <th>AIC</th>\n",
       "      <th>AICc</th>\n",
       "      <th>BIC</th>\n",
       "      <th>neg_loglik</th>\n",
       "      <th>d</th>\n",
       "      <th>AW</th>\n",
       "    </tr>\n",
       "  </thead>\n",
       "  <tbody>\n",
       "    <tr>\n",
       "      <th>0</th>\n",
       "      <td>(2, 3)</td>\n",
       "      <td>5763.825662</td>\n",
       "      <td>5763.852997</td>\n",
       "      <td>5784.190902</td>\n",
       "      <td>2879.912831</td>\n",
       "      <td>0.000000</td>\n",
       "      <td>4.122570e-01</td>\n",
       "    </tr>\n",
       "    <tr>\n",
       "      <th>1</th>\n",
       "      <td>(1, 2, 3)</td>\n",
       "      <td>5765.452457</td>\n",
       "      <td>5765.507252</td>\n",
       "      <td>5796.000317</td>\n",
       "      <td>2879.726229</td>\n",
       "      <td>1.626795</td>\n",
       "      <td>1.827738e-01</td>\n",
       "    </tr>\n",
       "    <tr>\n",
       "      <th>2</th>\n",
       "      <td>(0, 2, 3)</td>\n",
       "      <td>5765.803312</td>\n",
       "      <td>5765.858107</td>\n",
       "      <td>5796.351172</td>\n",
       "      <td>2879.901656</td>\n",
       "      <td>1.977650</td>\n",
       "      <td>1.533652e-01</td>\n",
       "    </tr>\n",
       "    <tr>\n",
       "      <th>3</th>\n",
       "      <td>(2,)</td>\n",
       "      <td>5766.902859</td>\n",
       "      <td>5766.911950</td>\n",
       "      <td>5777.085479</td>\n",
       "      <td>2882.451430</td>\n",
       "      <td>3.077197</td>\n",
       "      <td>8.850405e-02</td>\n",
       "    </tr>\n",
       "    <tr>\n",
       "      <th>4</th>\n",
       "      <td>(0, 1, 2, 3)</td>\n",
       "      <td>5767.407011</td>\n",
       "      <td>5767.498545</td>\n",
       "      <td>5808.137490</td>\n",
       "      <td>2879.703506</td>\n",
       "      <td>3.581349</td>\n",
       "      <td>6.878408e-02</td>\n",
       "    </tr>\n",
       "    <tr>\n",
       "      <th>5</th>\n",
       "      <td>(0, 2)</td>\n",
       "      <td>5768.270392</td>\n",
       "      <td>5768.297727</td>\n",
       "      <td>5788.635631</td>\n",
       "      <td>2882.135196</td>\n",
       "      <td>4.444730</td>\n",
       "      <td>4.466911e-02</td>\n",
       "    </tr>\n",
       "    <tr>\n",
       "      <th>6</th>\n",
       "      <td>(1, 2)</td>\n",
       "      <td>5768.895565</td>\n",
       "      <td>5768.922900</td>\n",
       "      <td>5789.260805</td>\n",
       "      <td>2882.447783</td>\n",
       "      <td>5.069903</td>\n",
       "      <td>3.267779e-02</td>\n",
       "    </tr>\n",
       "    <tr>\n",
       "      <th>7</th>\n",
       "      <td>(0, 1, 2)</td>\n",
       "      <td>5770.223639</td>\n",
       "      <td>5770.278433</td>\n",
       "      <td>5800.771498</td>\n",
       "      <td>2882.111819</td>\n",
       "      <td>6.397976</td>\n",
       "      <td>1.682152e-02</td>\n",
       "    </tr>\n",
       "    <tr>\n",
       "      <th>8</th>\n",
       "      <td>(3,)</td>\n",
       "      <td>5781.118644</td>\n",
       "      <td>5781.127735</td>\n",
       "      <td>5791.301264</td>\n",
       "      <td>2889.559322</td>\n",
       "      <td>17.292982</td>\n",
       "      <td>7.245106e-05</td>\n",
       "    </tr>\n",
       "    <tr>\n",
       "      <th>9</th>\n",
       "      <td>(1, 3)</td>\n",
       "      <td>5782.718575</td>\n",
       "      <td>5782.745910</td>\n",
       "      <td>5803.083815</td>\n",
       "      <td>2889.359288</td>\n",
       "      <td>18.892913</td>\n",
       "      <td>3.255548e-05</td>\n",
       "    </tr>\n",
       "    <tr>\n",
       "      <th>10</th>\n",
       "      <td>(0, 3)</td>\n",
       "      <td>5782.951022</td>\n",
       "      <td>5782.978357</td>\n",
       "      <td>5803.316262</td>\n",
       "      <td>2889.475511</td>\n",
       "      <td>19.125360</td>\n",
       "      <td>2.898337e-05</td>\n",
       "    </tr>\n",
       "    <tr>\n",
       "      <th>11</th>\n",
       "      <td>(0, 1, 3)</td>\n",
       "      <td>5784.491649</td>\n",
       "      <td>5784.546443</td>\n",
       "      <td>5815.039508</td>\n",
       "      <td>2889.245824</td>\n",
       "      <td>20.665986</td>\n",
       "      <td>1.341548e-05</td>\n",
       "    </tr>\n",
       "    <tr>\n",
       "      <th>12</th>\n",
       "      <td>(0,)</td>\n",
       "      <td>5795.854069</td>\n",
       "      <td>5795.863159</td>\n",
       "      <td>5806.036688</td>\n",
       "      <td>2896.927034</td>\n",
       "      <td>32.028406</td>\n",
       "      <td>4.573914e-08</td>\n",
       "    </tr>\n",
       "    <tr>\n",
       "      <th>13</th>\n",
       "      <td>(0, 1)</td>\n",
       "      <td>5797.843905</td>\n",
       "      <td>5797.871240</td>\n",
       "      <td>5818.209145</td>\n",
       "      <td>2896.921953</td>\n",
       "      <td>34.018243</td>\n",
       "      <td>1.691221e-08</td>\n",
       "    </tr>\n",
       "    <tr>\n",
       "      <th>14</th>\n",
       "      <td>(1,)</td>\n",
       "      <td>5798.880809</td>\n",
       "      <td>5798.889900</td>\n",
       "      <td>5809.063428</td>\n",
       "      <td>2898.440404</td>\n",
       "      <td>35.055146</td>\n",
       "      <td>1.007024e-08</td>\n",
       "    </tr>\n",
       "  </tbody>\n",
       "</table>\n",
       "</div>"
      ],
      "text/plain": [
       "           model          AIC         AICc          BIC   neg_loglik  \\\n",
       "0         (2, 3)  5763.825662  5763.852997  5784.190902  2879.912831   \n",
       "1      (1, 2, 3)  5765.452457  5765.507252  5796.000317  2879.726229   \n",
       "2      (0, 2, 3)  5765.803312  5765.858107  5796.351172  2879.901656   \n",
       "3           (2,)  5766.902859  5766.911950  5777.085479  2882.451430   \n",
       "4   (0, 1, 2, 3)  5767.407011  5767.498545  5808.137490  2879.703506   \n",
       "5         (0, 2)  5768.270392  5768.297727  5788.635631  2882.135196   \n",
       "6         (1, 2)  5768.895565  5768.922900  5789.260805  2882.447783   \n",
       "7      (0, 1, 2)  5770.223639  5770.278433  5800.771498  2882.111819   \n",
       "8           (3,)  5781.118644  5781.127735  5791.301264  2889.559322   \n",
       "9         (1, 3)  5782.718575  5782.745910  5803.083815  2889.359288   \n",
       "10        (0, 3)  5782.951022  5782.978357  5803.316262  2889.475511   \n",
       "11     (0, 1, 3)  5784.491649  5784.546443  5815.039508  2889.245824   \n",
       "12          (0,)  5795.854069  5795.863159  5806.036688  2896.927034   \n",
       "13        (0, 1)  5797.843905  5797.871240  5818.209145  2896.921953   \n",
       "14          (1,)  5798.880809  5798.889900  5809.063428  2898.440404   \n",
       "\n",
       "            d            AW  \n",
       "0    0.000000  4.122570e-01  \n",
       "1    1.626795  1.827738e-01  \n",
       "2    1.977650  1.533652e-01  \n",
       "3    3.077197  8.850405e-02  \n",
       "4    3.581349  6.878408e-02  \n",
       "5    4.444730  4.466911e-02  \n",
       "6    5.069903  3.267779e-02  \n",
       "7    6.397976  1.682152e-02  \n",
       "8   17.292982  7.245106e-05  \n",
       "9   18.892913  3.255548e-05  \n",
       "10  19.125360  2.898337e-05  \n",
       "11  20.665986  1.341548e-05  \n",
       "12  32.028406  4.573914e-08  \n",
       "13  34.018243  1.691221e-08  \n",
       "14  35.055146  1.007024e-08  "
      ]
     },
     "execution_count": 25,
     "metadata": {},
     "output_type": "execute_result"
    }
   ],
   "source": [
    "Akaike_weights = np.exp(-0.5 * model_comparison['d'])/np.sum(np.exp(-0.5 * model_comparison['d']))\n",
    "model_comparison.insert(len(model_comparison.columns), 'AW', Akaike_weights)\n",
    "model_comparison[:20]"
   ]
  },
  {
   "cell_type": "code",
   "execution_count": 26,
   "metadata": {},
   "outputs": [
    {
     "data": {
      "text/plain": [
       "['age', 'sex', 'bmi', 'bp', 's1', 's2', 's3', 's4', 's5', 's6']"
      ]
     },
     "execution_count": 26,
     "metadata": {},
     "output_type": "execute_result"
    }
   ],
   "source": [
    "dataset.feature_names"
   ]
  },
  {
   "cell_type": "markdown",
   "metadata": {},
   "source": [
    "| Dependence | Ranking | \n",
    "| :--- | --- |\n",
    "| _Age_ | 12 |\n",
    "| _Age_ and _Sex_ | 13 | \n",
    "| _Age_ and _Body mass index_ | 5 | \n",
    "| _Age_ and _Body mass index_ and _Average blood pressure_ | 2 |\n",
    "| _Age_ and _Sex_ and _Body mass index_ | 7 |\n",
    "| _Age_ and _Sex_ and _Body mass index_ and _Average blood pressure_ | 4 |\n",
    "| _Body mass index_ and _Average blood pressure_ | **1** |"
   ]
  },
  {
   "cell_type": "code",
   "execution_count": null,
   "metadata": {},
   "outputs": [],
   "source": []
  }
 ],
 "metadata": {
  "anaconda-cloud": {},
  "kernelspec": {
   "display_name": "Python 3",
   "language": "python",
   "name": "python3"
  },
  "language_info": {
   "codemirror_mode": {
    "name": "ipython",
    "version": 3
   },
   "file_extension": ".py",
   "mimetype": "text/x-python",
   "name": "python",
   "nbconvert_exporter": "python",
   "pygments_lexer": "ipython3",
   "version": "3.8.5"
  }
 },
 "nbformat": 4,
 "nbformat_minor": 1
}
