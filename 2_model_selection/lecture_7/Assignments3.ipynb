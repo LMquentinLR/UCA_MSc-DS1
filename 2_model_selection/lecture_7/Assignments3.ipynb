{
 "cells": [
  {
   "cell_type": "markdown",
   "metadata": {},
   "source": [
    "# Assigments 3.1\n",
    "\n",
    "Quentin Le Roux\n",
    "\n",
    "This first part of the assignment requires to implement yourself basic cross-validation strategies."
   ]
  },
  {
   "cell_type": "code",
   "execution_count": 1,
   "metadata": {},
   "outputs": [],
   "source": [
    "# Library imports\n",
    "\n",
    "import matplotlib.pyplot as plt\n",
    "import numpy as np\n",
    "\n",
    "from sklearn.datasets import make_classification\n",
    "from sklearn.metrics import roc_curve, auc, accuracy_score\n",
    "from sklearn.model_selection import cross_val_score, StratifiedKFold, train_test_split\n",
    "from sklearn.discriminant_analysis import LinearDiscriminantAnalysis\n",
    "\n",
    "import warnings\n",
    "warnings.filterwarnings('ignore')"
   ]
  },
  {
   "cell_type": "markdown",
   "metadata": {},
   "source": [
    "<hr>\n",
    "\n",
    "## Exercise 1\n",
    "\n",
    "Define a 10-fold classification strategy to test the accuracy of a Linear Discriminant Analysis (LDA) classifier for the data created as follows:"
   ]
  },
  {
   "cell_type": "code",
   "execution_count": 2,
   "metadata": {},
   "outputs": [],
   "source": [
    "# Global variable declaration\n",
    "\n",
    "folds = 10\n",
    "n_samples = 100\n",
    "n_features = 2"
   ]
  },
  {
   "cell_type": "code",
   "execution_count": 3,
   "metadata": {},
   "outputs": [],
   "source": [
    "# Dataset generation\n",
    "\n",
    "X, y = make_classification(n_samples=n_samples, \n",
    "                           n_features=n_features, \n",
    "                           n_redundant=0, \n",
    "                           n_informative=2,\n",
    "                           random_state=0, \n",
    "                           n_clusters_per_class=1, \n",
    "                           weights = [0.5])"
   ]
  },
  {
   "cell_type": "markdown",
   "metadata": {},
   "source": [
    "We test a simple LDA analysis with a 10-fold cross-validation analysis as a preamble."
   ]
  },
  {
   "cell_type": "code",
   "execution_count": 4,
   "metadata": {},
   "outputs": [],
   "source": [
    "# Model declaration & Cross-Validation process\n",
    "\n",
    "model = LinearDiscriminantAnalysis()\n",
    "sklearn_accuracy = cross_val_score(model, \n",
    "                                   X, y, \n",
    "                                   scoring = 'accuracy', \n",
    "                                   cv=folds)"
   ]
  },
  {
   "cell_type": "code",
   "execution_count": 5,
   "metadata": {
    "scrolled": true
   },
   "outputs": [
    {
     "name": "stdout",
     "output_type": "stream",
     "text": [
      "The accuracies yielded by a 10-fold cross-validation process are:\n",
      "[0.9 1.  1.  0.9 1.  1.  1.  1.  0.9 0.7]\n",
      "\n",
      "The average accuracy yielded by a 10-fold cross validation process is:\n",
      "0.94\n"
     ]
    }
   ],
   "source": [
    "# Prints results\n",
    "\n",
    "print(f\"The accuracies yielded by a {folds}-fold cross-validation process are:\",\n",
    "      f\"{sklearn_accuracy}\", sep=\"\\n\")\n",
    "print(f\"\\nThe average accuracy yielded by a {folds}-fold cross validation process is:\",\n",
    "      f\"{np.mean(sklearn_accuracy):.2f}\", sep=\"\\n\")"
   ]
  },
  {
   "cell_type": "markdown",
   "metadata": {},
   "source": [
    "Next, given a 10-fold cross validation, we are looking for the best mix of hyperparameters for the LDA model. As such, we perform a grid search over the model."
   ]
  },
  {
   "cell_type": "code",
   "execution_count": 6,
   "metadata": {},
   "outputs": [],
   "source": [
    "# Global variable declaration\n",
    "\n",
    "solvers = [\"svd\", \"lsqr\", \"eigen\"]\n",
    "n_components = [None] + list(range(n_features))\n",
    "n_items = np.array(list(range(len(solvers)*len(n_components))))\n",
    "\n",
    "Mean_Acc = []\n",
    "Std_Acc = []"
   ]
  },
  {
   "cell_type": "code",
   "execution_count": 7,
   "metadata": {
    "scrolled": true
   },
   "outputs": [],
   "source": [
    "# Pseudo-Grid Search over solver and n_component parameters\n",
    "\n",
    "for solv in solvers:\n",
    "    for comp in n_components:\n",
    "        # Model declaration\n",
    "        model = LinearDiscriminantAnalysis(solver=solv, \n",
    "                                           n_components=comp)\n",
    "        # Computes cross-validation accuracies\n",
    "        sklearn_accuracy = cross_val_score(model, \n",
    "                                           X, y, \n",
    "                                           scoring = 'accuracy', \n",
    "                                           cv=folds)\n",
    "        # Records results\n",
    "        Mean_Acc.append(np.mean(sklearn_accuracy))\n",
    "        Std_Acc.append(np.sqrt(np.var(sklearn_accuracy)))\n",
    "\n",
    "# Formats\n",
    "Mean_Acc = np.asarray(Mean_Acc)\n",
    "Std_Acc = np.asarray(Std_Acc)"
   ]
  },
  {
   "cell_type": "code",
   "execution_count": 8,
   "metadata": {},
   "outputs": [
    {
     "data": {
      "image/png": "[encoded data removed]",
      "text/plain": [
       "<Figure size 576x432 with 1 Axes>"
      ]
     },
     "metadata": {
      "needs_background": "light"
     },
     "output_type": "display_data"
    }
   ],
   "source": [
    "#Plots results\n",
    "\n",
    "fig = plt.figure(figsize=(8,6))\n",
    "\n",
    "plt.fill_between(n_items, \n",
    "                 Mean_Acc - Std_Acc,\n",
    "                 1, #Accuracy cannot go above 1\n",
    "                 alpha=0.1, \n",
    "                 color=\"g\", \n",
    "                 label = '$\\pm 1$ std')\n",
    "\n",
    "plt.plot(n_items, \n",
    "         Mean_Acc, \n",
    "         'o-', \n",
    "         color=\"g\",\n",
    "         label=\"Cross-validation mean\")\n",
    "\n",
    "plt.ylim(0.7,1.1)\n",
    "plt.ylabel('1 - Accuracy')\n",
    "plt.xlabel('Parameter Mix #')\n",
    "\n",
    "plt.legend(loc=\"lower right\")\n",
    "plt.title('Accuracy per hyperparameter mix')\n",
    "\n",
    "plt.show()"
   ]
  },
  {
   "cell_type": "markdown",
   "metadata": {},
   "source": [
    "We see that for all hyperparameter mixes, we get the same results.\n",
    "\n",
    "<hr>"
   ]
  },
  {
   "cell_type": "markdown",
   "metadata": {},
   "source": [
    "## Exercise 2\n",
    "\n",
    "Use the previous 10-fold cross-validation to plot and compute the average area under the curve of the LDA classifier. You can use the built in method *predict_proba(X)*"
   ]
  },
  {
   "cell_type": "code",
   "execution_count": 9,
   "metadata": {},
   "outputs": [],
   "source": [
    "# Global variable declaration\n",
    "\n",
    "roc_sample = []\n",
    "aucs = []\n",
    "mean_fpr = np.linspace(0, 1, 100)\n",
    "i = 0"
   ]
  },
  {
   "cell_type": "code",
   "execution_count": 10,
   "metadata": {},
   "outputs": [],
   "source": [
    "# Model declaration\n",
    "\n",
    "model = LinearDiscriminantAnalysis()"
   ]
  },
  {
   "cell_type": "markdown",
   "metadata": {},
   "source": [
    "We remark that we may be facing a case of unbalanced dataset when performing a train-test split. As such k-fold cross-validation may pose problems of biased accuracy quantification."
   ]
  },
  {
   "cell_type": "code",
   "execution_count": 11,
   "metadata": {
    "scrolled": true
   },
   "outputs": [
    {
     "name": "stdout",
     "output_type": "stream",
     "text": [
      "*** Training ***\n",
      "Elements of class 0: 0.52\n",
      "Elements of class 1: 0.48\n",
      "\n",
      "*** Testing ***\n",
      "Elements of class 0: 0.48\n",
      "Elements of class 1: 0.52\n",
      "\n",
      "*** Training + Testing ***\n",
      "Elements of class 0: 0.5\n",
      "Elements of class 1: 0.5\n"
     ]
    }
   ],
   "source": [
    "# Testing consistent split\n",
    "\n",
    "X_train, X_test, y_train, y_test = train_test_split(X, y, test_size=0.5, random_state=0)\n",
    "\n",
    "print(\"*** Training ***\")\n",
    "print(\"Elements of class 0: \" + str(np.sum(y_train==0)/len(y_train)))\n",
    "print(\"Elements of class 1: \" + str(np.sum(y_train==1)/len(y_train)))\n",
    "\n",
    "print(\"\\n*** Testing ***\")\n",
    "print(\"Elements of class 0: \" + str(np.sum(y_test==0)/len(y_test)))\n",
    "print(\"Elements of class 1: \" + str(np.sum(y_test==1)/len(y_test)))\n",
    "\n",
    "print(\"\\n*** Training + Testing ***\")\n",
    "print(\"Elements of class 0: \" + str(np.sum(y==0)/len(y)))\n",
    "print(\"Elements of class 1: \" + str(np.sum(y==1)/len(y)))"
   ]
  },
  {
   "cell_type": "markdown",
   "metadata": {},
   "source": [
    "The classes are not equally represented in in the dataset (and especially between potential training and testing sets). \n",
    "\n",
    "This will likely carry over to any type of Training and Testing split. This may pose a problem in the evaluation of our LDA model as the performance is not evaluated on data with same distribution. \n",
    "\n",
    "For this reason, we would like to keep the proportion of classes constant across data split. This operation is called stratified k-fold."
   ]
  },
  {
   "cell_type": "code",
   "execution_count": 12,
   "metadata": {},
   "outputs": [
    {
     "name": "stdout",
     "output_type": "stream",
     "text": [
      "\n",
      "##### Example with fold-mix #0 #####\n",
      "\n",
      "*** Training ***\n",
      "Elements of class 0: 0.5\n",
      "Elements of class 1: 0.5\n",
      "*** Testing ***\n",
      "Elements of class 0: 0.5\n",
      "Elements of class 1: 0.5\n",
      "\n",
      "##### Example with fold-mix #1 #####\n",
      "\n",
      "*** Training ***\n",
      "Elements of class 0: 0.5\n",
      "Elements of class 1: 0.5\n",
      "*** Testing ***\n",
      "Elements of class 0: 0.5\n",
      "Elements of class 1: 0.5\n",
      "\n",
      "##### Example with fold-mix #2 #####\n",
      "\n",
      "*** Training ***\n",
      "Elements of class 0: 0.5\n",
      "Elements of class 1: 0.5\n",
      "*** Testing ***\n",
      "Elements of class 0: 0.5\n",
      "Elements of class 1: 0.5\n",
      "\n",
      "##### Example with fold-mix #3 #####\n",
      "\n",
      "*** Training ***\n",
      "Elements of class 0: 0.5\n",
      "Elements of class 1: 0.5\n",
      "*** Testing ***\n",
      "Elements of class 0: 0.5\n",
      "Elements of class 1: 0.5\n",
      "\n",
      "##### Example with fold-mix #4 #####\n",
      "\n",
      "*** Training ***\n",
      "Elements of class 0: 0.5\n",
      "Elements of class 1: 0.5\n",
      "*** Testing ***\n",
      "Elements of class 0: 0.5\n",
      "Elements of class 1: 0.5\n",
      "\n",
      "##### Example with fold-mix #5 #####\n",
      "\n",
      "*** Training ***\n",
      "Elements of class 0: 0.5\n",
      "Elements of class 1: 0.5\n",
      "*** Testing ***\n",
      "Elements of class 0: 0.5\n",
      "Elements of class 1: 0.5\n",
      "\n",
      "##### Example with fold-mix #6 #####\n",
      "\n",
      "*** Training ***\n",
      "Elements of class 0: 0.5\n",
      "Elements of class 1: 0.5\n",
      "*** Testing ***\n",
      "Elements of class 0: 0.5\n",
      "Elements of class 1: 0.5\n",
      "\n",
      "##### Example with fold-mix #7 #####\n",
      "\n",
      "*** Training ***\n",
      "Elements of class 0: 0.5\n",
      "Elements of class 1: 0.5\n",
      "*** Testing ***\n",
      "Elements of class 0: 0.5\n",
      "Elements of class 1: 0.5\n",
      "\n",
      "##### Example with fold-mix #8 #####\n",
      "\n",
      "*** Training ***\n",
      "Elements of class 0: 0.5\n",
      "Elements of class 1: 0.5\n",
      "*** Testing ***\n",
      "Elements of class 0: 0.5\n",
      "Elements of class 1: 0.5\n",
      "\n",
      "##### Example with fold-mix #9 #####\n",
      "\n",
      "*** Training ***\n",
      "Elements of class 0: 0.5\n",
      "Elements of class 1: 0.5\n",
      "*** Testing ***\n",
      "Elements of class 0: 0.5\n",
      "Elements of class 1: 0.5\n"
     ]
    }
   ],
   "source": [
    "# Testing consistent split using SKF\n",
    "\n",
    "skf = StratifiedKFold(n_splits=folds)\n",
    "for idx, (train, test) in enumerate(skf.split(X, y)):\n",
    "    print(f\"\\n##### Example with fold-mix #{idx} #####\")\n",
    "    print(\"\\n*** Training ***\")\n",
    "    print(\"Elements of class 0: \" + str(np.sum(y[train]==0)/len(y[train])))\n",
    "    print(\"Elements of class 1: \" + str(np.sum(y[train]==1)/len(y[train])))\n",
    "    print(\"*** Testing ***\")\n",
    "    print(\"Elements of class 0: \" + str(np.sum(y[test]==0)/len(y[test])))\n",
    "    print(\"Elements of class 1: \" + str(np.sum(y[test]==1)/len(y[test])))"
   ]
  },
  {
   "cell_type": "code",
   "execution_count": 13,
   "metadata": {},
   "outputs": [],
   "source": [
    "# StratifiedKFold strategy object declaration\n",
    "\n",
    "cv = StratifiedKFold(n_splits=folds)"
   ]
  },
  {
   "cell_type": "code",
   "execution_count": 14,
   "metadata": {
    "scrolled": false
   },
   "outputs": [
    {
     "name": "stdout",
     "output_type": "stream",
     "text": [
      "Test Accuracy Scores for each fold using the StratifiedKFold method:\n",
      "\n",
      "0-Fold Test Accuracy Score: 0.90\n",
      "1-Fold Test Accuracy Score: 1.00\n",
      "2-Fold Test Accuracy Score: 1.00\n",
      "3-Fold Test Accuracy Score: 0.90\n",
      "4-Fold Test Accuracy Score: 1.00\n",
      "5-Fold Test Accuracy Score: 1.00\n",
      "6-Fold Test Accuracy Score: 1.00\n",
      "7-Fold Test Accuracy Score: 1.00\n",
      "8-Fold Test Accuracy Score: 0.90\n",
      "9-Fold Test Accuracy Score: 0.70\n",
      "\n",
      "AUC plot:\n"
     ]
    },
    {
     "data": {
      "image/png": "[encoded data removed]",
      "text/plain": [
       "<Figure size 432x288 with 1 Axes>"
      ]
     },
     "metadata": {
      "needs_background": "light"
     },
     "output_type": "display_data"
    }
   ],
   "source": [
    "# Cross-validation loop: runs LDA with cross-validation and plot ROC curves\n",
    "# Loops over the cross-validation folds\n",
    "\n",
    "print(\"Test Accuracy Scores for each fold using the StratifiedKFold method:\\n\")\n",
    "\n",
    "for train, test in cv.split(X, y):\n",
    "    # Computes the predictions\n",
    "    predictions = model.fit(X[train], y[train]).predict_proba(X[test])\n",
    "    # Computes the ROC and AUC data\n",
    "    fpr, tpr, thresholds = roc_curve(y[test], predictions[:, 1])\n",
    "    roc_sample.append(np.interp(mean_fpr, fpr, tpr))\n",
    "    # ROC curve is set to start at 0\n",
    "    roc_sample[-1][0] = 0.0\n",
    "    # Computes the AUC\n",
    "    roc_auc = auc(fpr, tpr)\n",
    "    aucs.append(roc_auc)\n",
    "    # Plots the AUC\n",
    "    plt.plot(fpr, tpr, \n",
    "             lw=1, alpha=0.3,\n",
    "             label=f\"ROC fold {i} (AUC = {roc_auc:.2f})\")\n",
    "    # Prints the Accuracy score\n",
    "    acc = accuracy_score(y[test], model.predict(X[test]))\n",
    "    print(f\"{i}-Fold Test Accuracy Score: {acc:.2f}\")\n",
    "    i += 1\n",
    "\n",
    "print(\"\\nAUC plot:\")\n",
    "plt.legend()\n",
    "plt.title(\"Average AUC = \" + str(np.mean(aucs)))\n",
    "plt.show()"
   ]
  },
  {
   "cell_type": "markdown",
   "metadata": {},
   "source": [
    "We summarize the cross-validation results using a Receiving Operator Characteristic (ROC) curve."
   ]
  },
  {
   "cell_type": "code",
   "execution_count": 15,
   "metadata": {},
   "outputs": [
    {
     "data": {
      "image/png": "[encoded data removed]",
      "text/plain": [
       "<Figure size 432x288 with 1 Axes>"
      ]
     },
     "metadata": {
      "needs_background": "light"
     },
     "output_type": "display_data"
    }
   ],
   "source": [
    "# Summarizes the cross-validation results\n",
    "\n",
    "# Adds diagonal line of random classification \n",
    "plt.plot([0, 1], [0, 1], \n",
    "         linestyle='--', \n",
    "         lw=2, \n",
    "         color='r',\n",
    "         label='Chance', \n",
    "         alpha=.8)\n",
    "\n",
    "# Computes mean and std for the curves\n",
    "mean_tpr = np.mean(roc_sample, axis=0)\n",
    "std_tpr = np.std(roc_sample, axis=0)\n",
    "\n",
    "# Sets the end point of the average ROC to be equal to 1\n",
    "mean_tpr[-1] = 1.0\n",
    "\n",
    "# Computes the AUC of the average curves\n",
    "mean_auc = auc(mean_fpr, mean_tpr)\n",
    "\n",
    "# Computes the std of the AUCs \n",
    "std_auc = np.std(aucs)\n",
    "\n",
    "# Plots the ROC curve\n",
    "plt.plot(mean_fpr, \n",
    "         mean_tpr, \n",
    "         color='b',\n",
    "         label=f\"Mean ROC (AUC = {mean_auc:.2f} $\\pm$ {std_auc:.2f})\",\n",
    "         lw=2, \n",
    "         alpha=.8)\n",
    "\n",
    "\n",
    "# Plots the std\n",
    "tprs_upper = np.minimum(mean_tpr + std_tpr, 1)\n",
    "tprs_lower = np.maximum(mean_tpr - std_tpr, 0)\n",
    "plt.fill_between(mean_fpr, \n",
    "                 tprs_lower, \n",
    "                 tprs_upper, \n",
    "                 color='grey', \n",
    "                 alpha=.2,\n",
    "                 label=r'$\\pm$ 1 std. dev.')\n",
    "\n",
    "plt.xlim([-0.05, 1.05])\n",
    "plt.ylim([-0.05, 1.05])\n",
    "plt.xlabel('False Positive Rate')\n",
    "plt.ylabel('True Positive Rate')\n",
    "plt.title('Receiver operating characteristic example')\n",
    "plt.legend(loc=\"lower right\")\n",
    "plt.show()"
   ]
  },
  {
   "cell_type": "markdown",
   "metadata": {},
   "source": [
    "<hr>\n",
    "\n",
    "## Exercise 3\n",
    "\n",
    "Define the appropriate cross-validation strategy and measurement of the area under the curve for the data:"
   ]
  },
  {
   "cell_type": "code",
   "execution_count": 16,
   "metadata": {},
   "outputs": [],
   "source": [
    "# Global variable declaration\n",
    "\n",
    "n_samples = 200\n",
    "n_features = 5\n",
    "\n",
    "means = [] \n",
    "stdevs = []\n",
    "\n",
    "fold_range = np.array(list(range(2,\n",
    "                                 min(np.sum(y == 0), \n",
    "                                     np.sum(y == 1)))))\n",
    "\n",
    "roc_sample = [[],[]]\n",
    "aucs = [[],[]]\n",
    "mean_fpr = np.linspace(0, 1, n_samples)"
   ]
  },
  {
   "cell_type": "code",
   "execution_count": 17,
   "metadata": {},
   "outputs": [],
   "source": [
    "# Dataset generation\n",
    "\n",
    "X, y = make_classification(n_samples=n_samples, \n",
    "                           n_features=n_features, \n",
    "                           n_redundant=0, \n",
    "                           n_informative=3,\n",
    "                           random_state=0, \n",
    "                           n_clusters_per_class=1, \n",
    "                           weights = [0.9])"
   ]
  },
  {
   "cell_type": "markdown",
   "metadata": {},
   "source": [
    "We remark that we may be facing a case of unbalanced dataset when performing a train-test split. As such k-fold cross-validation may pose problems of biased accuracy quantification."
   ]
  },
  {
   "cell_type": "code",
   "execution_count": 18,
   "metadata": {
    "scrolled": true
   },
   "outputs": [
    {
     "name": "stdout",
     "output_type": "stream",
     "text": [
      "*** Training ***\n",
      "Elements of class 0: 0.9125\n",
      "Elements of class 1: 0.0875\n",
      "\n",
      "*** Testing ***\n",
      "Elements of class 0: 0.875\n",
      "Elements of class 1: 0.125\n",
      "\n",
      "*** Training + Testing ***\n",
      "Elements of class 0: 0.905\n",
      "Elements of class 1: 0.095\n"
     ]
    }
   ],
   "source": [
    "X_train, X_test, y_train, y_test = train_test_split(X, y, test_size=0.2, random_state=0)\n",
    "\n",
    "print(\"*** Training ***\")\n",
    "print(\"Elements of class 0: \" + str(np.sum(y_train==0)/len(y_train)))\n",
    "print(\"Elements of class 1: \" + str(np.sum(y_train==1)/len(y_train)))\n",
    "\n",
    "print(\"\\n*** Testing ***\")\n",
    "print(\"Elements of class 0: \" + str(np.sum(y_test==0)/len(y_test)))\n",
    "print(\"Elements of class 1: \" + str(np.sum(y_test==1)/len(y_test)))\n",
    "\n",
    "print(\"\\n*** Training + Testing ***\")\n",
    "print(\"Elements of class 0: \" + str(np.sum(y==0)/len(y)))\n",
    "print(\"Elements of class 1: \" + str(np.sum(y==1)/len(y)))"
   ]
  },
  {
   "cell_type": "markdown",
   "metadata": {},
   "source": [
    "The classes are not equally represented in in the dataset (and especially between potential training and testing sets). \n",
    "\n",
    "This will likely carry over to any type of Training and Testing split. This may pose a problem in the evaluation of our LDA model as the performance is not evaluated on data with same distribution. \n",
    "\n",
    "For this reason, we would like to keep the proportion of classes constant across data split. This operation is called stratified k-fold."
   ]
  },
  {
   "cell_type": "code",
   "execution_count": 19,
   "metadata": {},
   "outputs": [
    {
     "name": "stdout",
     "output_type": "stream",
     "text": [
      "\n",
      "##### Example with fold-mix #0 #####\n",
      "\n",
      "*** Training ***\n",
      "Elements of class 0: 0.9\n",
      "Elements of class 1: 0.1\n",
      "*** Testing ***\n",
      "Elements of class 0: 0.95\n",
      "Elements of class 1: 0.05\n",
      "\n",
      "##### Example with fold-mix #1 #####\n",
      "\n",
      "*** Training ***\n",
      "Elements of class 0: 0.9055555555555556\n",
      "Elements of class 1: 0.09444444444444444\n",
      "*** Testing ***\n",
      "Elements of class 0: 0.9\n",
      "Elements of class 1: 0.1\n",
      "\n",
      "##### Example with fold-mix #2 #####\n",
      "\n",
      "*** Training ***\n",
      "Elements of class 0: 0.9055555555555556\n",
      "Elements of class 1: 0.09444444444444444\n",
      "*** Testing ***\n",
      "Elements of class 0: 0.9\n",
      "Elements of class 1: 0.1\n",
      "\n",
      "##### Example with fold-mix #3 #####\n",
      "\n",
      "*** Training ***\n",
      "Elements of class 0: 0.9055555555555556\n",
      "Elements of class 1: 0.09444444444444444\n",
      "*** Testing ***\n",
      "Elements of class 0: 0.9\n",
      "Elements of class 1: 0.1\n",
      "\n",
      "##### Example with fold-mix #4 #####\n",
      "\n",
      "*** Training ***\n",
      "Elements of class 0: 0.9055555555555556\n",
      "Elements of class 1: 0.09444444444444444\n",
      "*** Testing ***\n",
      "Elements of class 0: 0.9\n",
      "Elements of class 1: 0.1\n",
      "\n",
      "##### Example with fold-mix #5 #####\n",
      "\n",
      "*** Training ***\n",
      "Elements of class 0: 0.9055555555555556\n",
      "Elements of class 1: 0.09444444444444444\n",
      "*** Testing ***\n",
      "Elements of class 0: 0.9\n",
      "Elements of class 1: 0.1\n",
      "\n",
      "##### Example with fold-mix #6 #####\n",
      "\n",
      "*** Training ***\n",
      "Elements of class 0: 0.9055555555555556\n",
      "Elements of class 1: 0.09444444444444444\n",
      "*** Testing ***\n",
      "Elements of class 0: 0.9\n",
      "Elements of class 1: 0.1\n",
      "\n",
      "##### Example with fold-mix #7 #####\n",
      "\n",
      "*** Training ***\n",
      "Elements of class 0: 0.9055555555555556\n",
      "Elements of class 1: 0.09444444444444444\n",
      "*** Testing ***\n",
      "Elements of class 0: 0.9\n",
      "Elements of class 1: 0.1\n",
      "\n",
      "##### Example with fold-mix #8 #####\n",
      "\n",
      "*** Training ***\n",
      "Elements of class 0: 0.9055555555555556\n",
      "Elements of class 1: 0.09444444444444444\n",
      "*** Testing ***\n",
      "Elements of class 0: 0.9\n",
      "Elements of class 1: 0.1\n",
      "\n",
      "##### Example with fold-mix #9 #####\n",
      "\n",
      "*** Training ***\n",
      "Elements of class 0: 0.9055555555555556\n",
      "Elements of class 1: 0.09444444444444444\n",
      "*** Testing ***\n",
      "Elements of class 0: 0.9\n",
      "Elements of class 1: 0.1\n"
     ]
    }
   ],
   "source": [
    "skf = StratifiedKFold(n_splits=folds)\n",
    "\n",
    "for idx, (train, test) in enumerate(skf.split(X, y)):\n",
    "    print(f\"\\n##### Example with fold-mix #{idx} #####\")\n",
    "    print(\"\\n*** Training ***\")\n",
    "    print(\"Elements of class 0: \" + str(np.sum(y[train]==0)/len(y[train])))\n",
    "    print(\"Elements of class 1: \" + str(np.sum(y[train]==1)/len(y[train])))\n",
    "    print(\"*** Testing ***\")\n",
    "    print(\"Elements of class 0: \" + str(np.sum(y[test]==0)/len(y[test])))\n",
    "    print(\"Elements of class 1: \" + str(np.sum(y[test]==1)/len(y[test])))"
   ]
  },
  {
   "cell_type": "markdown",
   "metadata": {},
   "source": [
    "Given this observation, we need to devise a k-fold cross validation strategy that can perform on such an imbalanced dataset (along with its potentially imbalanced fold-splits)."
   ]
  },
  {
   "cell_type": "code",
   "execution_count": 20,
   "metadata": {},
   "outputs": [
    {
     "name": "stdout",
     "output_type": "stream",
     "text": [
      "##### Mean test accuracies per fold #####\n",
      "### (with Stratified K-Fold strategy) ###\n",
      "\n",
      "2-fold cross-validation score: 0.97\n",
      "3-fold cross-validation score: 0.97\n",
      "4-fold cross-validation score: 0.97\n",
      "5-fold cross-validation score: 0.97\n",
      "6-fold cross-validation score: 0.97\n",
      "7-fold cross-validation score: 0.97\n",
      "8-fold cross-validation score: 0.97\n",
      "9-fold cross-validation score: 0.97\n",
      "10-fold cross-validation score: 0.97\n",
      "11-fold cross-validation score: 0.97\n",
      "12-fold cross-validation score: 0.97\n",
      "13-fold cross-validation score: 0.97\n",
      "14-fold cross-validation score: 0.97\n",
      "15-fold cross-validation score: 0.97\n",
      "16-fold cross-validation score: 0.97\n",
      "17-fold cross-validation score: 0.97\n",
      "18-fold cross-validation score: 0.97\n",
      "19-fold cross-validation score: 0.97\n",
      "20-fold cross-validation score: 0.97\n",
      "21-fold cross-validation score: 0.97\n",
      "22-fold cross-validation score: 0.97\n",
      "23-fold cross-validation score: 0.97\n",
      "24-fold cross-validation score: 0.97\n",
      "25-fold cross-validation score: 0.97\n",
      "26-fold cross-validation score: 0.97\n",
      "27-fold cross-validation score: 0.97\n",
      "28-fold cross-validation score: 0.97\n",
      "29-fold cross-validation score: 0.97\n",
      "30-fold cross-validation score: 0.97\n",
      "31-fold cross-validation score: 0.97\n",
      "32-fold cross-validation score: 0.97\n",
      "33-fold cross-validation score: 0.97\n",
      "34-fold cross-validation score: 0.97\n",
      "35-fold cross-validation score: 0.97\n",
      "36-fold cross-validation score: 0.97\n",
      "37-fold cross-validation score: 0.97\n",
      "38-fold cross-validation score: 0.97\n",
      "39-fold cross-validation score: 0.97\n",
      "40-fold cross-validation score: 0.97\n",
      "41-fold cross-validation score: 0.97\n",
      "42-fold cross-validation score: 0.97\n",
      "43-fold cross-validation score: 0.97\n",
      "44-fold cross-validation score: 0.97\n",
      "45-fold cross-validation score: 0.97\n",
      "46-fold cross-validation score: 0.97\n",
      "47-fold cross-validation score: 0.97\n",
      "48-fold cross-validation score: 0.97\n",
      "49-fold cross-validation score: 0.97\n"
     ]
    }
   ],
   "source": [
    "# Model declaration & Cross-Validation process\n",
    "\n",
    "print(\"##### Mean test accuracies per fold #####\")\n",
    "print(\"### (with Stratified K-Fold strategy) ###\\n\")\n",
    "\n",
    "for k in fold_range:\n",
    "    \n",
    "    # Resets list at start of loop\n",
    "    accuracies_within_fold = []\n",
    "    \n",
    "    # Declares the stratified folding\n",
    "    skf = StratifiedKFold(n_splits=k)\n",
    "    for train_index, test_index in skf.split(X, y):\n",
    "        X_train, X_test = X[train_index], X[test_index]\n",
    "        y_train, y_test = y[train_index], y[test_index]\n",
    "\n",
    "        #Fit model on X_train\n",
    "        model = LinearDiscriminantAnalysis()\n",
    "        model.fit(X_train,y_train)\n",
    "\n",
    "        #Store each Kfold accuracy values on X_test\n",
    "        accuracies_within_fold.append(accuracy_score(y_test, model.predict(X_test)))\n",
    "    \n",
    "    print(f\"{k}-fold cross-validation score: {np.mean(accuracies_within_fold):.2f}\")\n",
    "    \n",
    "    #Average and std for a particular k fold\n",
    "    means.append(np.mean(accuracies_within_fold))\n",
    "    stdevs.append(np.sqrt(np.var(accuracies_within_fold, ddof = 1)))\n",
    "\n",
    "\n",
    "# Formats\n",
    "means  = np.asarray(means)\n",
    "stdevs  = np.asarray(stdevs)"
   ]
  },
  {
   "cell_type": "code",
   "execution_count": 25,
   "metadata": {},
   "outputs": [
    {
     "data": {
      "image/png": "[encoded data removed]",
      "text/plain": [
       "<Figure size 1296x720 with 1 Axes>"
      ]
     },
     "metadata": {
      "needs_background": "light"
     },
     "output_type": "display_data"
    }
   ],
   "source": [
    "#Plots results for the first 20 folds\n",
    "\n",
    "fig = plt.figure(figsize=(18,10))\n",
    "fig.add_subplot(1, 2, 1)\n",
    "\n",
    "plt.fill_between(fold_range[:10], \n",
    "                 means[:10] - stdevs[:10],\n",
    "                 np.array(list(map(lambda x: 1 if x>1 else x,\n",
    "                                   means[:10] + stdevs[:10]))), #Accuracy cannot go above 1\n",
    "                 alpha=0.1, \n",
    "                 color=\"g\", \n",
    "                 label = '$\\pm 1$ std')\n",
    "\n",
    "plt.plot(fold_range[:10], \n",
    "         means[:10], \n",
    "         'o-', \n",
    "         color=\"g\",\n",
    "         label=\"Cross-validation mean\")\n",
    "\n",
    "plt.ylim(min(means[:10] - stdevs[:10])-0.05,1)\n",
    "plt.ylabel('1 - Accuracy')\n",
    "plt.xlabel('Kfolds #')\n",
    "\n",
    "plt.legend(loc=\"lower right\")\n",
    "plt.title('Accuracy vs Number of KFolds: 200 datapoints, no bootstrap')\n",
    "\n",
    "plt.show()"
   ]
  },
  {
   "cell_type": "markdown",
   "metadata": {},
   "source": [
    "We choose to study the ROC of the Stratified K-Fold method using the 3-fold and 6-fold cases, which yielded the lowest standard deviation besides the 2-fold case (which is equivalent to the Train-Test split)."
   ]
  },
  {
   "cell_type": "code",
   "execution_count": 26,
   "metadata": {},
   "outputs": [
    {
     "name": "stdout",
     "output_type": "stream",
     "text": [
      "Test Accuracy Scores for each fold using the StratifiedKFold method:\n",
      "\n",
      "\n",
      "Test Accuracy Scores with the StratifiedKFold method using 3 folds:\n",
      "\n",
      "1-Fold Test Accuracy Score: 0.97\n",
      "2-Fold Test Accuracy Score: 0.97\n",
      "3-Fold Test Accuracy Score: 0.97\n",
      "\n",
      "Test Accuracy Scores with the StratifiedKFold method using 6 folds:\n",
      "\n",
      "1-Fold Test Accuracy Score: 0.94\n",
      "2-Fold Test Accuracy Score: 1.00\n",
      "3-Fold Test Accuracy Score: 0.97\n",
      "4-Fold Test Accuracy Score: 0.97\n",
      "5-Fold Test Accuracy Score: 0.97\n",
      "6-Fold Test Accuracy Score: 0.97\n",
      "\n",
      "AUC plot:\n"
     ]
    },
    {
     "data": {
      "image/png": "[encoded data removed]",
      "text/plain": [
       "<Figure size 1152x432 with 2 Axes>"
      ]
     },
     "metadata": {
      "needs_background": "light"
     },
     "output_type": "display_data"
    }
   ],
   "source": [
    "print(\"Test Accuracy Scores for each fold using the StratifiedKFold method:\\n\")\n",
    "\n",
    "fig = plt.figure(figsize=(16,6))\n",
    "\n",
    "for idx, fold in enumerate([3, 6]):\n",
    "    print(f\"\\nTest Accuracy Scores with the StratifiedKFold method using {fold} folds:\\n\")\n",
    "    # we declare our StratifiedKFold strategy\n",
    "    cv = StratifiedKFold(n_splits=fold)\n",
    "    i=0\n",
    "    # Cross-validation loop: runs LDA with cross-validation and plot ROC curves\n",
    "    # Loops over the cross-validation folds\n",
    "    for train, test in cv.split(X, y):\n",
    "        # Computes the predictions\n",
    "        predictions = model.fit(X[train], y[train]).predict_proba(X[test])\n",
    "        # Compute the ROC curve and AUC\n",
    "        fpr, tpr, thresholds = roc_curve(y[test], predictions[:, 1])\n",
    "        roc_sample[idx].append(np.interp(mean_fpr, fpr, tpr))\n",
    "        # ROC curve is set to start at 0\n",
    "        roc_sample[idx][-1][0] = 0.0\n",
    "        # Compute the AUC\n",
    "        roc_auc = auc(fpr, tpr)\n",
    "        aucs[idx].append(roc_auc)\n",
    "        # Plots the AUC\n",
    "        plt.subplot(1,2,idx+1)\n",
    "        plt.plot(fpr, tpr, \n",
    "                 lw=1, alpha=0.3,\n",
    "                 label=f\"ROC fold {i+1} (AUC = {roc_auc:.2f})\")\n",
    "        plt.legend()\n",
    "        plt.title(f\"Average AUC with {fold} folds = {np.mean(aucs[idx])}\")\n",
    "        i += 1\n",
    "        # Prints the Accuracy score\n",
    "        acc = accuracy_score(y[test], model.predict(X[test]))\n",
    "        print(f\"{i}-Fold Test Accuracy Score: {acc:.2f}\")\n",
    "\n",
    "print(\"\\nAUC plot:\")\n",
    "    \n",
    "plt.legend()\n",
    "plt.show()"
   ]
  },
  {
   "cell_type": "code",
   "execution_count": 27,
   "metadata": {},
   "outputs": [
    {
     "data": {
      "image/png": "[encoded data removed]",
      "text/plain": [
       "<Figure size 1152x432 with 2 Axes>"
      ]
     },
     "metadata": {
      "needs_background": "light"
     },
     "output_type": "display_data"
    }
   ],
   "source": [
    "# Summarizes the cross-validation results\n",
    "\n",
    "fig = plt.figure(figsize=(16,6))\n",
    "\n",
    "for idx in [0, 1]:\n",
    "    # Adds diagonal line of random classification \n",
    "    plt.subplot(1,2,idx+1)\n",
    "    plt.plot([0, 1], \n",
    "             [0, 1], \n",
    "             linestyle='--', \n",
    "             lw=2, \n",
    "             color='r',\n",
    "             label='Chance', \n",
    "             alpha=.8)\n",
    "\n",
    "    # Computes mean and std for the curves\n",
    "    mean_tpr = np.mean(roc_sample[idx], axis=0)\n",
    "    std_tpr = np.std(roc_sample[idx], axis=0)\n",
    "\n",
    "    # Sets the end point of the average ROC to be equal to 1\n",
    "    mean_tpr[-1] = 1.0\n",
    "\n",
    "    # Computes the AUC of the average curves\n",
    "    mean_auc = auc(mean_fpr, mean_tpr)\n",
    "    \n",
    "    # Computes the std of the AUCs \n",
    "    std_auc = np.std(aucs[idx])\n",
    "    \n",
    "    # Plots the ROC curve\n",
    "    plt.plot(mean_fpr, \n",
    "             mean_tpr, \n",
    "             color='b',\n",
    "             label=r'Mean ROC (AUC = %0.2f $\\pm$ %0.2f)' % (mean_auc, std_auc),\n",
    "             lw=2, \n",
    "             alpha=.8)\n",
    "\n",
    "\n",
    "    # Plots the std\n",
    "    tprs_upper = np.minimum(mean_tpr + std_tpr, 1)\n",
    "    tprs_lower = np.maximum(mean_tpr - std_tpr, 0)\n",
    "    plt.fill_between(mean_fpr, tprs_lower, tprs_upper, color='grey', alpha=.2,\n",
    "                     label=r'$\\pm$ 1 std. dev.')\n",
    "\n",
    "    plt.xlim([-0.05, 1.05])\n",
    "    plt.ylim([-0.05, 1.05])\n",
    "    plt.xlabel('False Positive Rate')\n",
    "    plt.ylabel('True Positive Rate')\n",
    "    plt.title('Receiver operating characteristic example')\n",
    "    plt.legend(loc=\"lower right\")\n",
    "\n",
    "plt.show()"
   ]
  },
  {
   "cell_type": "code",
   "execution_count": null,
   "metadata": {},
   "outputs": [],
   "source": []
  },
  {
   "cell_type": "markdown",
   "metadata": {},
   "source": [
    "## Assigments 3.2\n",
    "\n",
    "__Exercise 1.__ During lesson we discussed the problem of _selection bias_ in cross-validation. \n",
    "This problem is nicely investigated in the paper *On the Dangers of Cross-Validation. An Experimental Evaluation*, accessible here:\n",
    "\n",
    "http://people.csail.mit.edu/romer/papers/CrossVal_SDM08.pdf\n",
    "\n",
    "\n",
    "Read  \n",
    "- Section 1 (Introduction), \n",
    "- Section 4 (Experiments on Synthetic Data), \n",
    "- Section 7 (Discussion)\n",
    "\n",
    "And write a short summary (~half a page) about these three sections (results and take home message).\n",
    "\n"
   ]
  },
  {
   "cell_type": "markdown",
   "metadata": {
    "collapsed": true
   },
   "source": [
    "In a general classification problem, the goal is to learn a\n",
    "classifier that performs well on unseen data drawn from\n",
    "the same distribution as the available data 1\n",
    "; in other\n",
    "words, to learn classifiers with good generalization. One\n",
    "common way to estimate generalization capabilities is\n",
    "to measure the performance of the learned classifier on\n",
    "test data that has not been used to train the classifier.\n",
    "When a large test data set cannot be held out or easily\n",
    "acquired, resampling methods, such as cross validation,\n",
    "are commonly used to estimate the generalization error. The resulting estimates of generalization can also\n",
    "be used for model selection by choosing from various\n",
    "possible classification algorithms (models) the one that\n",
    "has the lowest cross validation error (and hence the lowest expected generalization error).\n",
    "A strong argument in favor of using cross validation\n",
    "is the potential of using the entire training set for\n",
    "testing (albeit not at once), creating the largest possible\n",
    "test set for a fixed training data set. Essentially,\n",
    "the classifier is trained on a subset of the training\n",
    "data set, and tested on the remainder. This process\n",
    "is repeated systematically so that all the points in\n",
    "the training set are tested. There has been much\n",
    "study on the empirical behavior of cross-validation for\n",
    "error estimation and model selection, and more recently\n",
    "theoretical bounds on the error in the leave-one-out\n",
    "cross-validation (loocv) estimate. Much of the focus\n",
    "has been on the expected value of this error over all\n",
    "training sets of a given sample size and the asymptotic\n",
    "behavior as the sample size increases. In this paper we\n",
    "empirically address the pitfalls of using cross validation\n",
    "error to select among a large number of classification\n",
    "algorithms.\n",
    "Resampling methods, such as bootstrapping or\n",
    "cross validation (Stone, 1977; Kohavi, 1995a; Weiss &\n",
    "Kulikowski, 1991; Efron & Tibshirani, 1993) have typically been used to measure the generalization performance of a chosen algorithm, or possibly to select between a limited set of algorithms. Until the last decade,\n",
    "cross validation experiments could reasonable be performed only on a small set of algorithms or possible\n",
    "models; a k-fold or loocv run for a single algorithm,\n",
    "even on a small dataset, typically ran for several hours,\n",
    "if not days. As computers have become more powerful and due to recent advances regarding the computational efficiency of popular classification algorithms\n",
    "and techniques (for example: linear training time for\n",
    "SVMs (Joachims, 2006) and n log(n) kernel computation (Raykar & Duraiswami, 2005)), cross validation\n",
    "performance can be quickly computed on several thousands or even millions of algorithms. Recent developments in grid computing now allow computers distributed in a large geographic area to be harnessed for a specific task, exponentially increasing the computing power\n",
    "at hand.\n",
    "It is a commonly held believe that cross validation,\n",
    "like any other tool or metric, can be abused (Ng,\n",
    "1997). Some basic heuristic procedures have been\n",
    "employed to avoid these problems. For example, when\n",
    "possible a sequestered test set is kept aside. This\n",
    "set is finally used only after training to verify that\n",
    "the chosen classifier indeed has superior generalization.\n",
    "Any modeling decisions based upon experiments on the\n",
    "training set, even cross validation estimates, are suspect,\n",
    "until independently verified.\n",
    "Despite certain general knowledge about the drawbacks attached to cross validation, there has not been a\n",
    "sufficiently clear experimental (practical) investigation\n",
    "on the behavior of the estimate of generalization error\n",
    "for a fixed data set.\n",
    "In this paper we provide an empirical reminder\n",
    "of a fact that is known but usually underestimated:\n",
    "when the set of algorithms to be considered becomes\n",
    "large, cross validation is no longer a good measure\n",
    "of generalization performance, and accordingly can no\n",
    "longer be used for algorithm or feature selection. In\n",
    "addition we experimentally show the impact of cross\n",
    "validation as the data dimensionality increases and\n",
    "for feature selection. We provide experimental results\n",
    "on synthetic, standardized benchmark (from the UCI\n",
    "repository), and a real-world dataset related to clinical\n",
    "diagnosis in virtual colonoscopy."
   ]
  },
  {
   "cell_type": "code",
   "execution_count": null,
   "metadata": {},
   "outputs": [],
   "source": []
  }
 ],
 "metadata": {
  "kernelspec": {
   "display_name": "Python 3",
   "language": "python",
   "name": "python3"
  },
  "language_info": {
   "codemirror_mode": {
    "name": "ipython",
    "version": 3
   },
   "file_extension": ".py",
   "mimetype": "text/x-python",
   "name": "python",
   "nbconvert_exporter": "python",
   "pygments_lexer": "ipython3",
   "version": "3.8.5"
  }
 },
 "nbformat": 4,
 "nbformat_minor": 1
}
