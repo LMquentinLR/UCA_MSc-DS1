{
 "cells": [
  {
   "cell_type": "markdown",
   "metadata": {},
   "source": [
    "## Assigments 1.1\n",
    "\n",
    "This first part of the assignments is based on the iris dataset (https://en.wikipedia.org/wiki/Iris_flower_data_set)"
   ]
  },
  {
   "cell_type": "code",
   "execution_count": 161,
   "metadata": {},
   "outputs": [
    {
     "name": "stdout",
     "output_type": "stream",
     "text": [
      "There are 4 features, whose names are: \n",
      "['sepal length (cm)', 'sepal width (cm)', 'petal length (cm)', 'petal width (cm)']\n",
      "\n",
      "There are 3 classes to predict, whose names are: \n",
      "['setosa' 'versicolor' 'virginica']\n",
      "\n",
      "There are 150 observations\n"
     ]
    }
   ],
   "source": [
    "import numpy as np\n",
    "import matplotlib.pyplot as plt\n",
    "\n",
    "# importing the data from sklearn\n",
    "from sklearn.datasets import load_iris\n",
    "iris_dataset = load_iris()\n",
    "\n",
    "# extracting the relevant information\n",
    "data = iris_dataset.data\n",
    "data_feature_names = iris_dataset.feature_names\n",
    "target = iris_dataset.target\n",
    "target_names = iris_dataset.target_names\n",
    "\n",
    "print('There are ' + str(len(data_feature_names)) + ' features, whose names are: \\n' + str(data_feature_names))\n",
    "print('\\nThere are ' + str(len(target_names)) + ' classes to predict, whose names are: \\n' + str(target_names))\n",
    "print('\\nThere are ' + str(data.shape[0]) + ' observations')"
   ]
  },
  {
   "cell_type": "markdown",
   "metadata": {},
   "source": [
    "$\\mathbf{Exercise\\, 1.}$ Compute the median, mean and standard deviation for each of the 4 features in the iris dataset (don't use numpy or other pre-defined functions, write your own routine)."
   ]
  },
  {
   "cell_type": "code",
   "execution_count": 162,
   "metadata": {},
   "outputs": [],
   "source": [
    "def retrieve_feature(dataset, elem):\n",
    "    \"\"\"\n",
    "    Isolates the elements of each features\n",
    "    \"\"\"\n",
    "    return [x[elem] for x in dataset]\n",
    "\n",
    "def compute(dataset, dataset_names):\n",
    "    \"\"\"\n",
    "    Computes the basic statistics of each feature\n",
    "    \"\"\"\n",
    "    length = len(dataset)\n",
    "    results = {}\n",
    "    # Functions\n",
    "    median = lambda lst: (lst[int(length/2)] + lst[int(length/2)+1])/2\n",
    "    mean = lambda lst: sum(lst)/length\n",
    "    std_deviation = lambda lst: mean((lst-mean(lst))**2)**(1/2)\n",
    "    # IO\n",
    "    for idx, name in enumerate(dataset_names):\n",
    "        # Retrieve and sort feature\n",
    "        feature = retrieve_feature(data, idx)\n",
    "        sorted_feature = sorted(feature)\n",
    "        # Records mean and std_dev\n",
    "        mn = mean(feature)\n",
    "        std_dev = std_deviation(feature)\n",
    "        results[name] = [mn, std_dev]\n",
    "        # Prints results\n",
    "        print(f\"Statistics on {dataset_names[idx]}:\")\n",
    "        print(f\"Median: {round(median(sorted_feature),2)}\")\n",
    "        print(f\"Mean: {round(mn,2)}\")\n",
    "        print(f\"Standard Deviation: {round(std_dev,2)}\\n\")\n",
    "    return results"
   ]
  },
  {
   "cell_type": "code",
   "execution_count": 163,
   "metadata": {
    "scrolled": true
   },
   "outputs": [
    {
     "name": "stdout",
     "output_type": "stream",
     "text": [
      "Statistics on sepal length (cm):\n",
      "Median: 5.8\n",
      "Mean: 5.84\n",
      "Standard Deviation: 0.83\n",
      "\n",
      "Statistics on sepal width (cm):\n",
      "Median: 3.0\n",
      "Mean: 3.06\n",
      "Standard Deviation: 0.43\n",
      "\n",
      "Statistics on petal length (cm):\n",
      "Median: 4.4\n",
      "Mean: 3.76\n",
      "Standard Deviation: 1.76\n",
      "\n",
      "Statistics on petal width (cm):\n",
      "Median: 1.3\n",
      "Mean: 1.2\n",
      "Standard Deviation: 0.76\n",
      "\n"
     ]
    }
   ],
   "source": [
    "results = compute(data, data_feature_names)"
   ]
  },
  {
   "cell_type": "markdown",
   "metadata": {},
   "source": [
    "$\\mathbf{Exercise\\, 2.}$ For each feature, generate 150 Gaussian distributed samples with the same mean and standard_deviation computed in Exercise 1."
   ]
  },
  {
   "cell_type": "code",
   "execution_count": 164,
   "metadata": {},
   "outputs": [
    {
     "name": "stdout",
     "output_type": "stream",
     "text": [
      "Drawing samples for sepal length (cm)\n",
      "Drawing samples for sepal width (cm)\n",
      "Drawing samples for petal length (cm)\n",
      "Drawing samples for petal width (cm)\n"
     ]
    }
   ],
   "source": [
    "import random as rd\n",
    "\n",
    "for k, v in results.items():\n",
    "    # Clears old samples from results\n",
    "    if len(results[k]) > 2: results[k] = results[k][:2]\n",
    "    # Draws 150 samples\n",
    "    print(f\"Drawing samples for {k}\")\n",
    "    samples = []\n",
    "    for _ in range(150): samples.append(rd.gauss(v[0], v[1]))\n",
    "    results[k].append(samples)"
   ]
  },
  {
   "cell_type": "markdown",
   "metadata": {},
   "source": [
    "$\\mathbf{Exercise\\, 3.}$ Compute the histogram (with 30 bins) of the distribution of the generate samples and plot it together with the histogram of the original data. The histograms must be plotted on the same plot. Comment on the difference between simulations and real data: for which feature the distributions are most different? What is the reason? "
   ]
  },
  {
   "cell_type": "code",
   "execution_count": 169,
   "metadata": {
    "scrolled": false
   },
   "outputs": [
    {
     "data": {
      "image/png": "[encoded data removed]",
      "text/plain": [
       "<Figure size 1080x720 with 4 Axes>"
      ]
     },
     "metadata": {
      "needs_background": "light"
     },
     "output_type": "display_data"
    }
   ],
   "source": [
    "import seaborn as sns\n",
    "import pandas as pd\n",
    "\n",
    "fig = plt.figure(figsize=(15, 10))\n",
    "fig.subplots_adjust(hspace=0.4, wspace=0.4)\n",
    "\n",
    "for i in range(4):\n",
    "    # Creates the dataframe to plot\n",
    "    feature_data = retrieve_feature(data, i)\n",
    "    gaussian_data = results[data_feature_names[i]][2]\n",
    "    df = pd.DataFrame(list(zip(feature_data, \n",
    "                               gaussian_data)), \n",
    "                      columns=[data_feature_names[i], \"gaussian sampling\"])\n",
    "    # Sets the plot\n",
    "    ax = fig.add_subplot(2, 2, i+1)\n",
    "    sns.histplot(ax=ax, data=df, stat=\"density\", bins=30, common_norm=False)\n",
    "\n",
    "plt.show()"
   ]
  },
  {
   "cell_type": "markdown",
   "metadata": {},
   "source": [
    "**<u>Comment</u>**\n",
    "\n",
    "1. It seems that the Sepal Length and Sepal Width are gaussian distributed, as per the visual comparison with the gaussian sampling.\n",
    "2. On the contrary, Petal Length and Petal Width have two clearly distinct distributions (for instance petal length concentrates around 1.5 and 5). \n",
    "\n",
    "As such, there seems to be a different distribution when data relates to **petals** or **sepal**. It is likely that one or a few species have a different petal characteristic, creating the split in the distribution."
   ]
  },
  {
   "cell_type": "markdown",
   "metadata": {},
   "source": [
    "$\\mathbf{Exercise\\, 4.}$ Estimate and plot the probability density function of the feature $\\mbox{petal length (cm)}$.\n"
   ]
  },
  {
   "cell_type": "code",
   "execution_count": 177,
   "metadata": {},
   "outputs": [
    {
     "data": {
      "text/plain": [
       "<seaborn.axisgrid.FacetGrid at 0x7f076960f970>"
      ]
     },
     "execution_count": 177,
     "metadata": {},
     "output_type": "execute_result"
    },
    {
     "data": {
      "image/png": "[encoded data removed]",
      "text/plain": [
       "<Figure size 360x360 with 1 Axes>"
      ]
     },
     "metadata": {
      "needs_background": "light"
     },
     "output_type": "display_data"
    }
   ],
   "source": [
    "sns.displot(retrieve_feature(data, 2), kind=\"kde\", bw_adjust=.1)"
   ]
  },
  {
   "cell_type": "markdown",
   "metadata": {},
   "source": [
    "## Assigment 1.2\n",
    "\n",
    "$\\mathbf{Exercise\\, 1.}$ Create a linear benchmark, where the dimension of the input data $X$ is 2, and the dimension of the output data $y$ is 1. Choose the amount of noise and sample size.\n",
    "\n",
    "Evaluate the prediction metrics for the following regression methods:\n",
    "\n",
    "- Linear regression\n",
    "- Support Vector Regression with RBF kernel\n",
    "- Decision Tree Regression\n"
   ]
  },
  {
   "cell_type": "code",
   "execution_count": 2,
   "metadata": {
    "collapsed": true
   },
   "outputs": [],
   "source": [
    "from sklearn.svm import SVR\n",
    "from sklearn.tree import DecisionTreeRegressor"
   ]
  },
  {
   "cell_type": "markdown",
   "metadata": {},
   "source": [
    "We are interested in predicting TDP (The watt-consumption) of Graphics Cards based on memory size, and memory clock.\n",
    "\n",
    "**Original Source**: https://www.kaggle.com/iliassekkaf/computerparts"
   ]
  },
  {
   "cell_type": "code",
   "execution_count": 185,
   "metadata": {
    "scrolled": false
   },
   "outputs": [
    {
     "data": {
      "text/html": [
       "<div>\n",
       "<style scoped>\n",
       "    .dataframe tbody tr th:only-of-type {\n",
       "        vertical-align: middle;\n",
       "    }\n",
       "\n",
       "    .dataframe tbody tr th {\n",
       "        vertical-align: top;\n",
       "    }\n",
       "\n",
       "    .dataframe thead th {\n",
       "        text-align: right;\n",
       "    }\n",
       "</style>\n",
       "<table border=\"1\" class=\"dataframe\">\n",
       "  <thead>\n",
       "    <tr style=\"text-align: right;\">\n",
       "      <th></th>\n",
       "      <th>Name</th>\n",
       "      <th>max_power_watts</th>\n",
       "      <th>memory_mb</th>\n",
       "      <th>memory_speed_mhz</th>\n",
       "    </tr>\n",
       "  </thead>\n",
       "  <tbody>\n",
       "    <tr>\n",
       "      <th>0</th>\n",
       "      <td>R600 XT</td>\n",
       "      <td>215</td>\n",
       "      <td>512</td>\n",
       "      <td>828</td>\n",
       "    </tr>\n",
       "    <tr>\n",
       "      <th>1</th>\n",
       "      <td>R600 PRO</td>\n",
       "      <td>200</td>\n",
       "      <td>512</td>\n",
       "      <td>800</td>\n",
       "    </tr>\n",
       "    <tr>\n",
       "      <th>2</th>\n",
       "      <td>RV630</td>\n",
       "      <td>45</td>\n",
       "      <td>256</td>\n",
       "      <td>700</td>\n",
       "    </tr>\n",
       "    <tr>\n",
       "      <th>3</th>\n",
       "      <td>RV630</td>\n",
       "      <td>50</td>\n",
       "      <td>256</td>\n",
       "      <td>1100</td>\n",
       "    </tr>\n",
       "    <tr>\n",
       "      <th>4</th>\n",
       "      <td>R700 RV790 XT</td>\n",
       "      <td>190</td>\n",
       "      <td>2048</td>\n",
       "      <td>1050</td>\n",
       "    </tr>\n",
       "    <tr>\n",
       "      <th>...</th>\n",
       "      <td>...</td>\n",
       "      <td>...</td>\n",
       "      <td>...</td>\n",
       "      <td>...</td>\n",
       "    </tr>\n",
       "    <tr>\n",
       "      <th>2239</th>\n",
       "      <td>Kepler GK208</td>\n",
       "      <td>19</td>\n",
       "      <td>2048</td>\n",
       "      <td>900</td>\n",
       "    </tr>\n",
       "    <tr>\n",
       "      <th>2240</th>\n",
       "      <td>Fermi GF119-300-A1</td>\n",
       "      <td>30</td>\n",
       "      <td>1024</td>\n",
       "      <td>898</td>\n",
       "    </tr>\n",
       "    <tr>\n",
       "      <th>2241</th>\n",
       "      <td>Kepler GK208</td>\n",
       "      <td>19</td>\n",
       "      <td>1024</td>\n",
       "      <td>900</td>\n",
       "    </tr>\n",
       "    <tr>\n",
       "      <th>2242</th>\n",
       "      <td>Kepler GK208</td>\n",
       "      <td>25</td>\n",
       "      <td>2048</td>\n",
       "      <td>900</td>\n",
       "    </tr>\n",
       "    <tr>\n",
       "      <th>2243</th>\n",
       "      <td>Kepler GK208</td>\n",
       "      <td>25</td>\n",
       "      <td>2048</td>\n",
       "      <td>900</td>\n",
       "    </tr>\n",
       "  </tbody>\n",
       "</table>\n",
       "<p>2244 rows × 4 columns</p>\n",
       "</div>"
      ],
      "text/plain": [
       "                     Name max_power_watts memory_mb memory_speed_mhz\n",
       "0                R600 XT              215       512              828\n",
       "1               R600 PRO              200       512              800\n",
       "2                  RV630               45       256              700\n",
       "3                  RV630               50       256             1100\n",
       "4          R700 RV790 XT              190      2048             1050\n",
       "...                   ...             ...       ...              ...\n",
       "2239        Kepler GK208               19      2048              900\n",
       "2240  Fermi GF119-300-A1               30      1024              898\n",
       "2241        Kepler GK208               19      1024              900\n",
       "2242        Kepler GK208               25      2048              900\n",
       "2243        Kepler GK208               25      2048              900\n",
       "\n",
       "[2244 rows x 4 columns]"
      ]
     },
     "execution_count": 185,
     "metadata": {},
     "output_type": "execute_result"
    }
   ],
   "source": [
    "df = pd.read_csv(\"All_GPUs.csv\")\n",
    "\n",
    "remove_unit = lambda string: string.split(\" \")[0]\n",
    "df[\"Max_Power\"]=df[\"Max_Power\"].map(remove_unit)\n",
    "df[\"Memory\"]=df[\"Memory\"].map(remove_unit)\n",
    "df[\"Memory_Speed\"]=df[\"Memory_Speed\"].map(remove_unit)\n",
    "\n",
    "df.rename(columns = {\"Architecture\":\"Name\",\n",
    "                     \"Max_Power\":\"max_power_watts\", \n",
    "                     \"Memory\":\"memory_mb\", \n",
    "                     \"Memory_Speed\":\"memory_speed_mhz\"}, \n",
    "          inplace = True)\n",
    "df"
   ]
  },
  {
   "cell_type": "code",
   "execution_count": 238,
   "metadata": {},
   "outputs": [],
   "source": [
    "from sklearn.model_selection import train_test_split\n",
    "from sklearn.linear_model import LinearRegression\n",
    "from sklearn.svm import SVR\n",
    "from sklearn.tree import DecisionTreeRegressor\n",
    "from sklearn.metrics import mean_squared_error, r2_score"
   ]
  },
  {
   "cell_type": "code",
   "execution_count": 239,
   "metadata": {},
   "outputs": [],
   "source": [
    "X = df[[\"memory_mb\", \"memory_speed_mhz\"]]\n",
    "y = df[\"max_power_watts\"]\n",
    "\n",
    "X_train, X_test, y_train, y_test = train_test_split(X, y, test_size=0.33, random_state=0)"
   ]
  },
  {
   "cell_type": "code",
   "execution_count": 240,
   "metadata": {},
   "outputs": [],
   "source": [
    "def print_results(y_true, preds):\n",
    "    \"\"\"\n",
    "    Prints the result of a regression model\n",
    "    \"\"\"\n",
    "    mse = mean_squared_error(y_true, preds)\n",
    "    r = r2_score(y_true, preds)\n",
    "    print(f\"Mean Squared Error: {mse}\",\n",
    "          f\"R2 score: {r}\",\n",
    "          sep=\"\\n\")\n",
    "    return mse, r"
   ]
  },
  {
   "cell_type": "code",
   "execution_count": 241,
   "metadata": {},
   "outputs": [
    {
     "name": "stdout",
     "output_type": "stream",
     "text": [
      "Mean Squared Error: 7600.6099390653235\n",
      "R2 score: 0.3011529580291684\n"
     ]
    }
   ],
   "source": [
    "# Linear Regression\n",
    "linear_regression_model = LinearRegression()\n",
    "# Fits the model\n",
    "lrm = linear_regression_model.fit(X_train, y_train)\n",
    "# Predicts on train data\n",
    "preds = lrm.predict(X_train)\n",
    "# Accuracy\n",
    "lrm_train_results = print_results(y_train, preds)"
   ]
  },
  {
   "cell_type": "code",
   "execution_count": 260,
   "metadata": {},
   "outputs": [
    {
     "name": "stdout",
     "output_type": "stream",
     "text": [
      "Mean Squared Error: 3024.7294428298474\n",
      "R2 score: 0.7218876852212646\n"
     ]
    }
   ],
   "source": [
    "# Linear SVR\n",
    "linear_svr = SVR(kernel='rbf', C=1e3, gamma=0.1)\n",
    "# Fits the model\n",
    "lsvr = linear_svr.fit(X_train, y_train)\n",
    "# Predicts on train data\n",
    "preds = lsvr.predict(X_train)\n",
    "# Accuracy\n",
    "svr_train_results = print_results(y_train, preds)"
   ]
  },
  {
   "cell_type": "code",
   "execution_count": 261,
   "metadata": {},
   "outputs": [
    {
     "name": "stdout",
     "output_type": "stream",
     "text": [
      "Mean Squared Error: 5814.855079041651\n",
      "R2 score: 0.46534629404004746\n"
     ]
    }
   ],
   "source": [
    "# Decision Tree\n",
    "tree = DecisionTreeRegressor(max_depth=3)\n",
    "# Fits the model\n",
    "ctree = tree.fit(X_train, y_train)\n",
    "# Predicts on train data\n",
    "preds = ctree.predict(X_train)\n",
    "# Accuracy\n",
    "tree_train_results = print_results(y_train, preds)"
   ]
  },
  {
   "cell_type": "markdown",
   "metadata": {},
   "source": [
    "$\\mathbf{Exercise\\, 2.}$ Create a testing dataset and assess the testing metrics for the models."
   ]
  },
  {
   "cell_type": "code",
   "execution_count": 262,
   "metadata": {},
   "outputs": [
    {
     "name": "stdout",
     "output_type": "stream",
     "text": [
      "Mean Squared Error: 7911.125541552783\n",
      "R2 score: 0.2690339678135597\n"
     ]
    }
   ],
   "source": [
    "preds = lrm.predict(X_test)\n",
    "lrm_test_results = print_results(y_test, preds)"
   ]
  },
  {
   "cell_type": "code",
   "execution_count": 263,
   "metadata": {},
   "outputs": [
    {
     "name": "stdout",
     "output_type": "stream",
     "text": [
      "Mean Squared Error: 5587.534839203713\n",
      "R2 score: 0.4837272964935684\n"
     ]
    }
   ],
   "source": [
    "preds = lsvr.predict(X_test)\n",
    "svr_test_results = print_results(y_test, preds)"
   ]
  },
  {
   "cell_type": "code",
   "execution_count": 264,
   "metadata": {},
   "outputs": [
    {
     "name": "stdout",
     "output_type": "stream",
     "text": [
      "Mean Squared Error: 6222.748389150808\n",
      "R2 score: 0.4250353283586834\n"
     ]
    }
   ],
   "source": [
    "preds = ctree.predict(X_test)\n",
    "tree_test_results = print_results(y_test, preds)"
   ]
  },
  {
   "cell_type": "markdown",
   "metadata": {},
   "source": [
    "$\\mathbf{Exercise\\, 3.}$ Plot the regression results (training and testing) for each model"
   ]
  },
  {
   "cell_type": "code",
   "execution_count": 315,
   "metadata": {},
   "outputs": [],
   "source": [
    "def plot_results(train_data, test_data, title):\n",
    "    \"\"\"\n",
    "    Reshapes result data in plotable data\n",
    "    \"\"\"\n",
    "    d = {\"mse\":[train_data[0], test_data[0]], \"r2\": [train_data[1], test_data[1]]}\n",
    "    d = pd.DataFrame(data=d, index=[\"train\", \"test\"])\n",
    "    d.plot(kind=\"bar\",rot=1, subplots=True, title = title)"
   ]
  },
  {
   "cell_type": "code",
   "execution_count": 318,
   "metadata": {},
   "outputs": [
    {
     "data": {
      "image/png": "[encoded data removed]",
      "text/plain": [
       "<Figure size 432x288 with 2 Axes>"
      ]
     },
     "metadata": {
      "needs_background": "light"
     },
     "output_type": "display_data"
    }
   ],
   "source": [
    "plot_results(lrm_train_results, lrm_test_results, \"Linear Model Results\")"
   ]
  },
  {
   "cell_type": "code",
   "execution_count": 319,
   "metadata": {},
   "outputs": [
    {
     "data": {
      "image/png": "[encoded data removed]",
      "text/plain": [
       "<Figure size 432x288 with 2 Axes>"
      ]
     },
     "metadata": {
      "needs_background": "light"
     },
     "output_type": "display_data"
    }
   ],
   "source": [
    "plot_results(svr_train_results, svr_test_results, \"SVR Model Results\")"
   ]
  },
  {
   "cell_type": "code",
   "execution_count": 320,
   "metadata": {},
   "outputs": [
    {
     "data": {
      "image/png": "[encoded data removed]",
      "text/plain": [
       "<Figure size 432x288 with 2 Axes>"
      ]
     },
     "metadata": {
      "needs_background": "light"
     },
     "output_type": "display_data"
    }
   ],
   "source": [
    "plot_results(tree_train_results, tree_test_results, \"Decision Tree Model Results\")"
   ]
  },
  {
   "cell_type": "markdown",
   "metadata": {},
   "source": [
    "$\\mathbf{Exercise\\, 4.}$ Create a classification benchmark with 3 labels.\n",
    "\n",
    "Evaluate training and testing prediction metrics for the following classification methods:\n",
    "\n",
    "- K-nearest neighbours\n",
    "- Random Forest\n",
    "- Naive Bayes"
   ]
  },
  {
   "cell_type": "code",
   "execution_count": 3,
   "metadata": {
    "collapsed": true
   },
   "outputs": [],
   "source": [
    "from sklearn.neighbors import KNeighborsClassifier\n",
    "from sklearn.ensemble import RandomForestClassifier\n",
    "from sklearn.naive_bayes import GaussianNB"
   ]
  },
  {
   "cell_type": "code",
   "execution_count": null,
   "metadata": {
    "collapsed": true
   },
   "outputs": [],
   "source": []
  },
  {
   "cell_type": "code",
   "execution_count": null,
   "metadata": {
    "collapsed": true
   },
   "outputs": [],
   "source": []
  },
  {
   "cell_type": "code",
   "execution_count": null,
   "metadata": {
    "collapsed": true
   },
   "outputs": [],
   "source": []
  }
 ],
 "metadata": {
  "kernelspec": {
   "display_name": "Python 3",
   "language": "python",
   "name": "python3"
  },
  "language_info": {
   "codemirror_mode": {
    "name": "ipython",
    "version": 3
   },
   "file_extension": ".py",
   "mimetype": "text/x-python",
   "name": "python",
   "nbconvert_exporter": "python",
   "pygments_lexer": "ipython3",
   "version": "3.8.5"
  }
 },
 "nbformat": 4,
 "nbformat_minor": 2
}
