{
 "cells": [
  {
   "cell_type": "markdown",
   "metadata": {},
   "source": [
    "# Data leakage\n",
    "\n",
    "This lecture illustrates in more details some critical aspects of cross-validation. It is inspired by Chapter 7 of the book _Elements of Statistical Learning_ (Hastie, Tibshirani and Friedman, Springer).\n",
    "\n",
    "We define a classification pipeline composed by 1) dimensionality reduction, and 2) cross-validation.\n",
    "Dimensionality reduction is carried out by retaining only the features maximally correlated with the variable we want to predict. Afterwards, a classifier is trained and tested through 10 folds cross-validation.\n",
    "\n",
    "We test the pipeline in a  particular setting: we generate 50 random data among two classes, by assigning random labels 0,1 to each sample. We also generate random features associated to each sample, normal distributed with dimension 5000.\n",
    "\n",
    "The goal is to predict the random labels from the random features. "
   ]
  },
  {
   "cell_type": "code",
   "execution_count": 1,
   "metadata": {
    "jupyter": {
     "outputs_hidden": false
    }
   },
   "outputs": [
    {
     "data": {
      "image/png": "[encoded data removed]",
      "text/plain": [
       "<Figure size 432x288 with 1 Axes>"
      ]
     },
     "metadata": {
      "needs_background": "light"
     },
     "output_type": "display_data"
    }
   ],
   "source": [
    "import numpy as np\n",
    "import matplotlib.pyplot as plt\n",
    "\n",
    "N = 50\n",
    "N_features = 5000\n",
    "features_to_retain = 100\n",
    "\n",
    "def generate_data(N, N_features):\n",
    "    # Generating N samples from two class labels \n",
    "    y = np.random.randint(2, size = N)\n",
    "\n",
    "    # Creating fake data X associated to the variable y\n",
    "    X = np.random.randn(N*N_features).reshape(N,N_features)\n",
    "\n",
    "    return X, y\n",
    "\n",
    "# Dimensionality reduction function\n",
    "def reduce_data(X, y, features_to_retain):\n",
    "    N_features = X.shape[1]\n",
    "    # We compute the correlation between each feature and the target y\n",
    "    correlation = np.array([np.abs(np.corrcoef(X[:,i],y)[0,1]) for i in range(N_features)])\n",
    "\n",
    "    index_sorted = np.argsort(correlation)\n",
    "    # We select only the features with highest correlation\n",
    "    selected = index_sorted[-features_to_retain:]\n",
    "\n",
    "    # The output is the data matrix with reduced dimensionality    \n",
    "    reduced_X = X[:,selected]    \n",
    "    \n",
    "    return reduced_X, y, selected\n",
    "    \n",
    "# Data generation \n",
    "X_, y_ = generate_data( N, N_features)\n",
    "\n",
    "# Dimensionality reduction \n",
    "X, y, _ = reduce_data( X_, y_, features_to_retain)\n",
    "\n",
    "# Plotting the correlation between the remaining features and the outcome\n",
    "correlation = np.array([np.abs(np.corrcoef(X[:,i],y)[0,1]) for i in range(features_to_retain)])\n",
    "plt.hist(correlation, 25, histtype='step', label = 'population 2')\n",
    "plt.title('Correlation of retained features')\n",
    "plt.ylabel('counts')\n",
    "plt.show()\n"
   ]
  },
  {
   "cell_type": "markdown",
   "metadata": {},
   "source": [
    "**Exercise.** On this dataset, compute the 5-fold cross validated classification accuracy for a 2-nearest neighbours classifier."
   ]
  },
  {
   "cell_type": "code",
   "execution_count": 2,
   "metadata": {},
   "outputs": [
    {
     "name": "stdout",
     "output_type": "stream",
     "text": [
      "The accuracy from 5-fold cross validation is: \n",
      "[0.9 1.  1.  0.8 1. ]\n",
      "The average accuracy from 5-fold cross validation is: 0.9400000000000001\n"
     ]
    }
   ],
   "source": [
    "from sklearn.model_selection import cross_val_score\n",
    "from sklearn.neighbors import KNeighborsClassifier\n",
    "\n",
    "folds = 5\n",
    "\n",
    "model = KNeighborsClassifier(2)\n",
    "sklearn_accuracy = cross_val_score(model, X, y, scoring = 'accuracy', cv=folds)\n",
    "\n",
    "print(\"The accuracy from \" + str(folds) + \"-fold cross validation is: \\n\" + str(sklearn_accuracy))\n",
    "print(\"The average accuracy from \" + str(folds) + \"-fold cross validation is: \" + str(np.mean(sklearn_accuracy)))"
   ]
  },
  {
   "cell_type": "code",
   "execution_count": 3,
   "metadata": {},
   "outputs": [
    {
     "name": "stdout",
     "output_type": "stream",
     "text": [
      "[0.9, 1.0, 1.0, 0.8, 1.0]\n",
      "mean acc 0.9400000000000001\n",
      "std acc 0.07999999999999999\n"
     ]
    }
   ],
   "source": [
    "from sklearn.neighbors import KNeighborsClassifier\n",
    "from sklearn.model_selection import StratifiedKFold\n",
    "\n",
    "cv = StratifiedKFold(n_splits = 5)\n",
    "kn =  KNeighborsClassifier(2)\n",
    "cv_accuracy = []\n",
    "\n",
    "for train_idx,test_idx in cv.split(X,y):\n",
    "    kn.fit(X[train_idx],y[train_idx])\n",
    "    cv_accuracy.append(kn.score(X[test_idx],y[test_idx]))\n",
    "    \n",
    "print(cv_accuracy)\n",
    "print('mean acc', np.mean(cv_accuracy))\n",
    "print('std acc', np.std(cv_accuracy))"
   ]
  },
  {
   "cell_type": "markdown",
   "metadata": {},
   "source": [
    "What would be the expected accuracy of a classifier on this data? Since the data is random, we expect 50% chance of making a right guess, so we expect a testing error rate of 50% for any classifier. However, our cross validation accuracy is extremely high, almost 1. What is wrong in this example?\n",
    "\n",
    "> Problem with the correlation that leads to the 1-results. PCA will select elements correlated with how much it corresponds to the target. It is correlation but not causal. The change of randomly finding a correlated feature can be high.\n",
    ">\n",
    "> Here this randomness was exploited to build a **biased classifier**. $\\Rightarrow$ DATA LEAKAGE\n",
    ">\n",
    "> Every data manipulation made on the data can have a strong impact on the end data\n",
    "\n",
    "**Exercise.** Write a proper cross-validation approach.\n",
    "\n",
    "<span style=\"color:red\">One cannot fit dimensionality reduction on both training and testing data</span>"
   ]
  },
  {
   "cell_type": "code",
   "execution_count": 4,
   "metadata": {},
   "outputs": [],
   "source": [
    "from sklearn.neighbors import KNeighborsClassifier\n",
    "from sklearn.model_selection import StratifiedKFold\n",
    "    \n",
    "# Data generation \n",
    "\n",
    "cv = StratifiedKFold(n_splits = 5)\n",
    "kn =  KNeighborsClassifier(2)"
   ]
  },
  {
   "cell_type": "code",
   "execution_count": 5,
   "metadata": {},
   "outputs": [
    {
     "name": "stdout",
     "output_type": "stream",
     "text": [
      "[0.4, 0.6, 0.4, 0.5, 0.7]\n",
      "mean acc 0.5199999999999999\n",
      "std acc 0.11661903789690599\n"
     ]
    }
   ],
   "source": [
    "cv_accuracy = []\n",
    "for train_idx,test_idx in cv.split(X,y):\n",
    "    X_train, Y_train, feat = reduce_data(X[train_idx], \n",
    "                                         y[train_idx], \n",
    "                                         features_to_retain)\n",
    "    kn.fit(X_train, Y_train)\n",
    "    X_test = X_[test_idx][:,feat]\n",
    "    y_test = y[test_idx]\n",
    "    cv_accuracy.append(kn.score(X_test,y_test))\n",
    "    \n",
    "print(cv_accuracy) \n",
    "print('mean acc', np.mean(cv_accuracy))\n",
    "print('std acc', np.std(cv_accuracy))"
   ]
  },
  {
   "cell_type": "code",
   "execution_count": 6,
   "metadata": {},
   "outputs": [
    {
     "name": "stdout",
     "output_type": "stream",
     "text": [
      "The average cross-validation accuracy is 0.5152\n"
     ]
    }
   ],
   "source": [
    "from sklearn.neighbors import KNeighborsClassifier\n",
    "from sklearn.model_selection import StratifiedKFold\n",
    "cv = StratifiedKFold(n_splits = 5)\n",
    "kn =  KNeighborsClassifier(1)\n",
    "cv_accuracy = []\n",
    "# We test the pipeline 50 times\n",
    "for i in range(50):\n",
    "    # Data generation\n",
    "    X_, y_ = generate_data( N, N_features)\n",
    "    accuracy = []\n",
    "    # 5-fold cross-validation\n",
    "    for train, test in cv.split(X_, y_):\n",
    "        # Dimensionality reduction is applied on the *training data* only. This prevents the data leakage\n",
    "        X_train, y_train, indices = reduce_data( X_[train], y_[train], features_to_retain)\n",
    "        # Fitting the model on the reduced training data\n",
    "        kn.fit(X_train, y_train)\n",
    "        # Applying the model on the testing data,\n",
    "        # after reducing the dimensionality *according to the indices identified in the trainin data*\n",
    "        accuracy.append(kn.score(X_[:,indices][test], y_[test]))\n",
    "    cv_accuracy.append(accuracy)\n",
    "print('The average cross-validation accuracy is ' + str(np.mean(cv_accuracy)))"
   ]
  },
  {
   "cell_type": "markdown",
   "metadata": {},
   "source": [
    "# Cross-validation (II)\n",
    "\n",
    "### In k-fold cross validation, what value should we choose for k?\n",
    "\n",
    "The lesson is mainly based on Chapter 7 of _The Elements of Statistical Learning_ (Hastie, Tibshirani, Friedman, Springer). The code is also based on the very useful notes available at https://github.com/xavierbourretsicotte/Data-Portfolio.\n",
    "\n",
    "\n",
    "Following the previous lecture on cross-validation, in this lesson we are going to analyse in depth the bias and variance in cross-validation strategies. The questionwe want to ask is, what is the relationship between the size of a fold in cross-validation, and the reliability of the assessment of the accuracy? \n",
    "Again, there are two important concepts that must be analysed:\n",
    "\n",
    "- __bias:__ How much the average accuracy of the cross-validation differs from the expected one\n",
    "- __variance__: How much the accuracy varies with the varying of the testing sets\n",
    "\n",
    "To quantify these aspects we are going to use, again, a synthetic benchmark. We will test bias and variance in the setting of regression, although this example can be generalized in classification as well."
   ]
  },
  {
   "cell_type": "code",
   "execution_count": 13,
   "metadata": {
    "jupyter": {
     "outputs_hidden": false
    }
   },
   "outputs": [],
   "source": [
    "import numpy as np\n",
    "import matplotlib.pyplot as plt\n",
    "import pandas as pd\n",
    "from sklearn.model_selection import train_test_split, ShuffleSplit, KFold\n",
    "\n",
    "#Initializing noisy non linear data\n",
    "n = 10000\n",
    "\n",
    "# The data x is uniformly space in [0,1]\n",
    "x = np.linspace(0,1,n)\n",
    "x_plot = np.linspace(0,1,10*n)\n",
    "\n",
    "# We add uniformly distributed noise. The variance of this variable is therefore var(noise) = 1/12\n",
    "noise = np.random.uniform(-.5,.5, size = n)\n",
    "\n",
    "# Generate the ground truth function y\n",
    "y = np.sin(x * 1 * np.pi  - .5)  \n",
    "\n",
    "# Generate noisy observations\n",
    "y_noise = y + noise\n",
    "Y = (y + noise).reshape(-1,1)\n",
    "X = x.reshape(-1,1)"
   ]
  },
  {
   "cell_type": "code",
   "execution_count": 14,
   "metadata": {
    "jupyter": {
     "outputs_hidden": false
    }
   },
   "outputs": [
    {
     "data": {
      "image/png": "[encoded data removed]",
      "text/plain": [
       "<Figure size 1152x576 with 1 Axes>"
      ]
     },
     "metadata": {
      "needs_background": "light"
     },
     "output_type": "display_data"
    }
   ],
   "source": [
    "from sklearn.preprocessing import PolynomialFeatures\n",
    "from sklearn.linear_model import LinearRegression\n",
    "from sklearn.metrics import mean_squared_error \n",
    "\n",
    "##Computing MSE for train size = 15 \n",
    "# This instance of ShuffleSplit randomly samples from 15 indexes for training and 5 for testing \n",
    "\n",
    "train_size = 15\n",
    "test_size = 5\n",
    "\n",
    "samples_indices = np.random.choice(range(n), train_size + test_size)\n",
    "training_index = samples_indices[:train_size]\n",
    "testing_index = samples_indices[train_size:]\n",
    "    \n",
    "X_train, X_test, y_train, y_test = X[training_index],X[testing_index],Y[training_index], Y[testing_index]  \n",
    "    \n",
    "degs = np.arange(0,11)\n",
    "degrees = [4]\n",
    "Train_MSE_list, Test_MSE_list = [], []\n",
    "\n",
    "fig = plt.figure(figsize=(16,8))\n",
    "ax = fig.add_subplot(1, 2, 1)\n",
    "\n",
    "# Computing training and testing error and plotting the prediction\n",
    "for d in degs:\n",
    "    poly = PolynomialFeatures(degree=d)\n",
    "    model = LinearRegression()\n",
    "    model.fit(poly.fit_transform(X_train),y_train)\n",
    "    \n",
    "    Train_MSE = mean_squared_error(y_train, model.predict(poly.fit_transform(X_train)))\n",
    "    Test_MSE = mean_squared_error(y_test, model.predict(poly.fit_transform(X_test)))\n",
    "    Train_MSE_list.append(Train_MSE)\n",
    "    Test_MSE_list.append(Test_MSE)\n",
    "\n",
    "    if d in degrees: \n",
    "        plt.plot(x_plot, model.predict(poly.fit_transform(x_plot.reshape(-1,1))), label = \"d = \" + str(d) , color = 'red') \n",
    "\n",
    "\n",
    "# Plot left hand side\n",
    "ax.plot(x,y,color = 'darkblue',linestyle = '--', label = 'f(x)')\n",
    "ax.scatter(X_train,y_train, facecolors = 'none', edgecolor = 'darkblue')\n",
    "ax.set_title('Noisy sine curve, 15 data points')\n",
    "ax.set_xlabel('x')\n",
    "ax.set_ylabel('y')\n",
    "ax.set_ylim(-1.5,1.5)\n",
    "ax.legend()\n",
    "plt.show()\n",
    "\n"
   ]
  },
  {
   "cell_type": "code",
   "execution_count": 15,
   "metadata": {
    "jupyter": {
     "outputs_hidden": false
    }
   },
   "outputs": [
    {
     "data": {
      "image/png": "[encoded data removed]",
      "text/plain": [
       "<Figure size 1152x576 with 1 Axes>"
      ]
     },
     "metadata": {
      "needs_background": "light"
     },
     "output_type": "display_data"
    }
   ],
   "source": [
    "##Computing MSE for train size = 60\n",
    "# This instance of ShuffleSplit randomly samples from 60 indexes for training and 15 for testing \n",
    "\n",
    "train_size = 60\n",
    "test_size = 15\n",
    "\n",
    "samples_indices = np.random.choice(range(n), train_size + test_size)\n",
    "training_index = samples_indices[:train_size]\n",
    "testing_index = samples_indices[train_size:]\n",
    "    \n",
    "X_train, X_test, y_train, y_test = X[training_index],X[testing_index],Y[training_index], Y[testing_index]  \n",
    "\n",
    "degs = np.arange(0,11)\n",
    "degrees = [4]\n",
    "\n",
    "\n",
    "fig = plt.figure(figsize=(16,8))\n",
    "ax = fig.add_subplot(1, 2, 2)\n",
    "\n",
    "# Computing training and testing error and plotting the prediction\n",
    "for d in degs:\n",
    "    poly = PolynomialFeatures(degree=d)\n",
    "    model = LinearRegression()\n",
    "    model.fit(poly.fit_transform(X_train),y_train)\n",
    "    \n",
    "    Train_MSE = mean_squared_error(y_train, model.predict(poly.fit_transform(X_train)))\n",
    "    Test_MSE = mean_squared_error(y_test, model.predict(poly.fit_transform(X_test)))\n",
    "    Train_MSE_list.append(Train_MSE)\n",
    "    Test_MSE_list.append(Test_MSE)\n",
    "\n",
    "    if d in degrees: \n",
    "        plt.plot(x_plot, model.predict(poly.fit_transform(x_plot.reshape(-1,1))), label = \"d = \" + str(d) , color = 'red') \n",
    "\n",
    "\n",
    "# Plot right hand side\n",
    "ax.plot(x,y,color = 'darkblue',linestyle = '--', label = 'f(x)')\n",
    "ax.scatter(X_train,y_train, facecolors = 'none', edgecolor = 'darkblue')\n",
    "ax.set_title('Noisy sine curve, 60 data points')\n",
    "ax.set_xlabel('x')\n",
    "ax.set_ylabel('y')\n",
    "ax.set_ylim(-1.5,1.5)\n",
    "ax.legend()\n",
    "\n",
    "plt.show()\n"
   ]
  },
  {
   "cell_type": "markdown",
   "metadata": {},
   "source": [
    "We generated our ground truth, and we can sample noisy observations from it. \n",
    "Since the noise is sampled from a uniform distribution, $\\epsilon\\sim\\mathbf{U}[-0.5,0.5]$, the variance of the data is $Var(\\epsilon) = \\frac{1}{12}$. Therefore, the minimum squared error of a regression model can be $MSE = \\frac{1}{12}$ (remember: Bias-Variance-Noise decomposition). \n",
    "\n",
    "${ACC}^\\ast\\le 1-Var(\\epsilon)$ (when computing the error with MSE)."
   ]
  },
  {
   "cell_type": "markdown",
   "metadata": {},
   "source": [
    "**Exercise.** Write a cross-validation routine to answer the following questions:\n",
    "- Is k-fold cross validation able to correctly quantify the accuracy? \n",
    "- How does the quantification depend on the training size? \n",
    "- How does it depend on the fold size k?"
   ]
  },
  {
   "cell_type": "code",
   "execution_count": 45,
   "metadata": {
    "jupyter": {
     "outputs_hidden": false
    }
   },
   "outputs": [],
   "source": [
    "## Computing cross-validation error for different training data size\n",
    "\n",
    "CV_Mean_MSE, CV_Std_MSE = [],[]\n",
    "\n",
    "# Defining training/testing pairs, each time with ratio = 5\n",
    "train_sizes = np.array([5,10,15,20,25,30,35,40,50,60,70,80,90,100])\n",
    "test_sizes = np.array([1,2,3,4,5,6,7,8,10,12,14,16,18,20])\n",
    "sizes=list(zip(train_sizes, test_sizes))\n",
    "\n",
    "# For each training size compute cross-validated errors among 300 repeats\n",
    "# store and compare mean and standard deviation for each training size\n",
    "\n",
    "for train_size, test_size in sizes:\n",
    "    # Build dataset\n",
    "    n = train_size+test_size\n",
    "    x = np.linspace(0,1,n)\n",
    "    noise = np.random.uniform(-.5,.5, size = n)\n",
    "    y = np.sin(x * 1 * np.pi  - .5)  \n",
    "    y_noise = y + noise\n",
    "    Y = (y + noise).reshape(-1,1)\n",
    "    X = x.reshape(-1,1)\n",
    "    # Create storage value for Kfold MSE\n",
    "    Kfold_mse = []\n",
    "    for _ in range(300):\n",
    "        # Creating samples\n",
    "        shuffled_indices = np.random.choice(len(Y), len(Y), replace = False)\n",
    "        X_shuffled, Y_shuffled = X[shuffled_indices,:], Y[shuffled_indices]\n",
    "        kf = KFold(n_splits = 5, shuffle=True)\n",
    "        intermediate_Kfold_mse = []\n",
    "        # Perform Kfold\n",
    "        for train_index, test_index in kf.split(X_shuffled):\n",
    "            X_train, X_test = X_shuffled[train_index], X_shuffled[test_index]\n",
    "            y_train, y_test = Y_shuffled[train_index], Y_shuffled[test_index]\n",
    "            #Fit model on X_train\n",
    "            poly = PolynomialFeatures(degree=4)\n",
    "            model = LinearRegression()\n",
    "            model.fit(poly.fit_transform(X_train),y_train)\n",
    "            #Store each Kfold MSE values on X_test\n",
    "            intermediate_Kfold_mse.append(\n",
    "                mean_squared_error(y_test, \n",
    "                                   model.predict(poly.fit_transform(X_test))\n",
    "                                  )\n",
    "            )\n",
    "        #Store average of intermediate Kfold MSEs\n",
    "        Kfold_mse.append(np.mean(intermediate_Kfold_mse))\n",
    "    # Storing pair's mse\n",
    "    CV_Mean_MSE.append(np.mean(Kfold_mse))\n",
    "    CV_Std_MSE.append(np.var(Kfold_mse))"
   ]
  },
  {
   "cell_type": "code",
   "execution_count": 77,
   "metadata": {
    "jupyter": {
     "outputs_hidden": false
    }
   },
   "outputs": [
    {
     "data": {
      "image/png": "[encoded data removed]",
      "text/plain": [
       "<Figure size 1080x360 with 1 Axes>"
      ]
     },
     "metadata": {
      "needs_background": "light"
     },
     "output_type": "display_data"
    }
   ],
   "source": [
    "#Plotting\n",
    "import matplotlib.pyplot as plt\n",
    "\n",
    "df = pd.DataFrame({\n",
    "   'MSE - Mean': CV_Mean_MSE,\n",
    "   'MSE - Std': CV_Std_MSE\n",
    "   }, index=list(map(str, sizes)))\n",
    "\n",
    "lines = df.plot.line(figsize=(15, 5))"
   ]
  },
  {
   "cell_type": "markdown",
   "metadata": {},
   "source": [
    "From *The Elements of Statistical Learning*:\n",
    "\n",
    "*The figure shows a hypothetical “learning curve” for a classifier on a given task, a plot of 1 − Err versus the size of the training set N. The performance of the classifier improves as the training set size increases to 100 observations; increasing the number further to 100 brings only a small benefit. If our training set had 100 observations, five fold cross-validation would estimate the performance of our classifier over training sets of size 80, which from the figure is virtually the same as the performance for training set size 100. Thus cross-validation would not suffer from much bias. However if the training set had 40 observations, five fold cross-validation would estimate the performance of our classifier over training sets of size 32, and from the figure that would be an underestimate of 1 − Err. Hence as an estimate of Err, cross-validation would be biased upward.*"
   ]
  },
  {
   "cell_type": "markdown",
   "metadata": {},
   "source": [
    "## k-fold cross validation on small data sets"
   ]
  },
  {
   "cell_type": "code",
   "execution_count": 50,
   "metadata": {
    "jupyter": {
     "outputs_hidden": false
    }
   },
   "outputs": [],
   "source": [
    "## 40 Data points only\n",
    "## Computing cross-validation error for different k-fold and leave-k-out strategies\n",
    "\n",
    "CV_Mean_MSE_small, CV_Var_MSE_small = [], []\n",
    "\n",
    "k_folds_range = np.array([2,4,6,8,10,15,20,25,29,35,39])\n",
    "\n",
    "for k in k_folds_range:\n",
    "    #Reset list at start of loop\n",
    "    i_Mean_MSE = []\n",
    "    \n",
    "    #Repeat experiment i times\n",
    "    for i in range(300):\n",
    "        #Reset list at start of loop        \n",
    "        Kfold_MSE_list = []\n",
    "        # Sample from original dataset\n",
    "        shuffled_indices = np.random.choice(len(Y), 40, replace = False)\n",
    "        X_shuffled, Y_shuffled = X[shuffled_indices,:], Y[shuffled_indices]\n",
    "        #Loop over kfold splits\n",
    "        kf = KFold(n_splits = k, shuffle=True)\n",
    "        for train_index, test_index in kf.split(X_shuffled):\n",
    "            X_train, X_test = X_shuffled[train_index], X_shuffled[test_index]\n",
    "            y_train, y_test = Y_shuffled[train_index], Y_shuffled[test_index]\n",
    "\n",
    "            #Fit model on X_train\n",
    "            poly = PolynomialFeatures(degree=4)\n",
    "            model = LinearRegression()\n",
    "            model.fit(poly.fit_transform(X_train),y_train)\n",
    "            \n",
    "            #Store each Kfold MSE values on X_test\n",
    "            Kfold_MSE_list.append(mean_squared_error(y_test, model.predict(poly.fit_transform(X_test))))\n",
    "            \n",
    "        #Average over the K folds for a single \"i\" iteration\n",
    "        i_Mean_MSE.append(np.mean(Kfold_MSE_list))\n",
    "    \n",
    "    #Average and std for a particular k value over all i iterations\n",
    "    CV_Mean_MSE_small.append(np.mean(i_Mean_MSE))\n",
    "    CV_Var_MSE_small.append(np.var(i_Mean_MSE, ddof = 1))\n",
    "\n",
    "\n",
    "#Convert to numpy for convenience\n",
    "CV_Mean_MSE_small  = np.asarray(CV_Mean_MSE_small)\n",
    "CV_Var_MSE_small  = np.asarray(CV_Var_MSE_small)\n",
    "CV_Std_MSE_small = np.sqrt(CV_Var_MSE_small)\n"
   ]
  },
  {
   "cell_type": "code",
   "execution_count": 51,
   "metadata": {
    "jupyter": {
     "outputs_hidden": false
    }
   },
   "outputs": [
    {
     "data": {
      "image/png": "[encoded data removed]",
      "text/plain": [
       "<Figure size 1152x576 with 1 Axes>"
      ]
     },
     "metadata": {
      "needs_background": "light"
     },
     "output_type": "display_data"
    }
   ],
   "source": [
    "#Plotting result - LHS - 1 - MSE\n",
    "fig = plt.figure(figsize=(16,8))\n",
    "fig.add_subplot(1, 2, 1)\n",
    "\n",
    "plt.fill_between(k_folds_range, 1 - (CV_Mean_MSE_small - CV_Std_MSE_small),\n",
    "                 1 - (CV_Mean_MSE_small + CV_Std_MSE_small), alpha=0.1, color=\"g\", label = '$\\pm 1$ std')\n",
    "\n",
    "plt.plot(k_folds_range, 1 - CV_Mean_MSE_small, 'o-', color=\"g\",\n",
    "         label=\"Cross-validation mean\")\n",
    "\n",
    "plt.hlines(1 - 1.0/12 , min(k_folds_range),max(k_folds_range), linestyle = '--', color = 'gray', alpha = .5, label = 'True noise $\\epsilon$')\n",
    "plt.legend(loc=\"lower right\"), \n",
    "plt.ylim(0.7,1)\n",
    "plt.ylabel('1 - MSE'), plt.xlabel('Kfolds')\n",
    "plt.title('1 - MSE vs Number of Kfolds: 40 data points, 300 iterations bootstrap ')\n",
    "\n",
    "plt.show()"
   ]
  },
  {
   "cell_type": "code",
   "execution_count": 52,
   "metadata": {
    "jupyter": {
     "outputs_hidden": false
    }
   },
   "outputs": [
    {
     "data": {
      "text/html": [
       "<div>\n",
       "<style scoped>\n",
       "    .dataframe tbody tr th:only-of-type {\n",
       "        vertical-align: middle;\n",
       "    }\n",
       "\n",
       "    .dataframe tbody tr th {\n",
       "        vertical-align: top;\n",
       "    }\n",
       "\n",
       "    .dataframe thead th {\n",
       "        text-align: right;\n",
       "    }\n",
       "</style>\n",
       "<table border=\"1\" class=\"dataframe\">\n",
       "  <thead>\n",
       "    <tr style=\"text-align: right;\">\n",
       "      <th></th>\n",
       "      <th>K =</th>\n",
       "      <th>Mean MSE</th>\n",
       "      <th>Std MSE</th>\n",
       "    </tr>\n",
       "  </thead>\n",
       "  <tbody>\n",
       "    <tr>\n",
       "      <th>0</th>\n",
       "      <td>2</td>\n",
       "      <td>0.122515</td>\n",
       "      <td>0.080040</td>\n",
       "    </tr>\n",
       "    <tr>\n",
       "      <th>1</th>\n",
       "      <td>4</td>\n",
       "      <td>0.090762</td>\n",
       "      <td>0.018333</td>\n",
       "    </tr>\n",
       "    <tr>\n",
       "      <th>2</th>\n",
       "      <td>6</td>\n",
       "      <td>0.089801</td>\n",
       "      <td>0.019046</td>\n",
       "    </tr>\n",
       "    <tr>\n",
       "      <th>3</th>\n",
       "      <td>8</td>\n",
       "      <td>0.090246</td>\n",
       "      <td>0.017815</td>\n",
       "    </tr>\n",
       "    <tr>\n",
       "      <th>4</th>\n",
       "      <td>10</td>\n",
       "      <td>0.087708</td>\n",
       "      <td>0.015923</td>\n",
       "    </tr>\n",
       "    <tr>\n",
       "      <th>5</th>\n",
       "      <td>15</td>\n",
       "      <td>0.088641</td>\n",
       "      <td>0.016553</td>\n",
       "    </tr>\n",
       "    <tr>\n",
       "      <th>6</th>\n",
       "      <td>20</td>\n",
       "      <td>0.088402</td>\n",
       "      <td>0.015204</td>\n",
       "    </tr>\n",
       "    <tr>\n",
       "      <th>7</th>\n",
       "      <td>25</td>\n",
       "      <td>0.088934</td>\n",
       "      <td>0.016777</td>\n",
       "    </tr>\n",
       "    <tr>\n",
       "      <th>8</th>\n",
       "      <td>29</td>\n",
       "      <td>0.087688</td>\n",
       "      <td>0.015983</td>\n",
       "    </tr>\n",
       "    <tr>\n",
       "      <th>9</th>\n",
       "      <td>35</td>\n",
       "      <td>0.089379</td>\n",
       "      <td>0.016341</td>\n",
       "    </tr>\n",
       "    <tr>\n",
       "      <th>10</th>\n",
       "      <td>39</td>\n",
       "      <td>0.086989</td>\n",
       "      <td>0.015603</td>\n",
       "    </tr>\n",
       "  </tbody>\n",
       "</table>\n",
       "</div>"
      ],
      "text/plain": [
       "    K =   Mean MSE   Std MSE\n",
       "0      2  0.122515  0.080040\n",
       "1      4  0.090762  0.018333\n",
       "2      6  0.089801  0.019046\n",
       "3      8  0.090246  0.017815\n",
       "4     10  0.087708  0.015923\n",
       "5     15  0.088641  0.016553\n",
       "6     20  0.088402  0.015204\n",
       "7     25  0.088934  0.016777\n",
       "8     29  0.087688  0.015983\n",
       "9     35  0.089379  0.016341\n",
       "10    39  0.086989  0.015603"
      ]
     },
     "execution_count": 52,
     "metadata": {},
     "output_type": "execute_result"
    }
   ],
   "source": [
    "pd.DataFrame(data = {'K = ':k_folds_range,'Mean MSE': CV_Mean_MSE_small,'Std MSE': CV_Std_MSE_small })"
   ]
  },
  {
   "cell_type": "code",
   "execution_count": 53,
   "metadata": {
    "jupyter": {
     "outputs_hidden": false
    }
   },
   "outputs": [
    {
     "data": {
      "image/png": "[encoded data removed]",
      "text/plain": [
       "<Figure size 504x504 with 1 Axes>"
      ]
     },
     "metadata": {
      "needs_background": "light"
     },
     "output_type": "display_data"
    }
   ],
   "source": [
    "plt.figure(figsize = (7,7))\n",
    "\n",
    "plt.plot(k_folds_range, CV_Std_MSE_small, 'o-', color=\"g\",\n",
    "         label=\"Cross-validation Variance\")\n",
    "\n",
    "plt.legend(loc=\"best\")\n",
    "plt.ylabel('Std MSE')\n",
    "plt.xlabel('Kfolds')\n",
    "plt.ylim(0,0.05)\n",
    "plt.title('Var MSE vs Number of Kfolds: 40 data points, 100 iterations bootstrap ')\n",
    "plt.show()"
   ]
  },
  {
   "cell_type": "markdown",
   "metadata": {},
   "source": [
    "## k-fold cross validation on large data sets"
   ]
  },
  {
   "cell_type": "markdown",
   "metadata": {},
   "source": [
    "**Exercise.** Repeat the exercise above, this time by using with 200 data points."
   ]
  },
  {
   "cell_type": "code",
   "execution_count": null,
   "metadata": {
    "jupyter": {
     "outputs_hidden": true
    }
   },
   "outputs": [],
   "source": []
  },
  {
   "cell_type": "markdown",
   "metadata": {},
   "source": [
    "### Repeating the exercise above with a different strategy"
   ]
  },
  {
   "cell_type": "code",
   "execution_count": null,
   "metadata": {
    "jupyter": {
     "outputs_hidden": false
    }
   },
   "outputs": [],
   "source": [
    "## 40 Data points \n",
    "## Computing cross-validation error for different k-fold and leave-k-out strategies\n",
    "## This time the training data is fixed, but cv is performed on permuted data rows\n",
    "\n",
    "CV_Mean_MSE_small, CV_Var_MSE_small = [],[]\n",
    "k_folds_range = np.array([2,4,6,8,10,15,20,25,29,35,39])\n",
    "\n",
    "#Sample from original dataset\n",
    "shuffled_indices = np.random.choice(len(Y), 40, replace = False)\n",
    "X_subset, Y_subset = X[shuffled_indices,:], Y[shuffled_indices]  \n",
    "\n",
    "for k in k_folds_range:\n",
    "    #Reset list at start of loop\n",
    "    i_Mean_MSE = []\n",
    "    \n",
    "    #Repeat experiment i times\n",
    "    for i in range(300):\n",
    "        #Reset list at start of loop        \n",
    "        Kfold_MSE_list = []\n",
    "        \n",
    "        #Loop over kfold splits\n",
    "        kf = KFold(n_splits = k, shuffle = True)\n",
    "        for train_index, test_index in kf.split(X_subset):\n",
    "            X_train, X_test = X_subset[train_index], X_subset[test_index]\n",
    "            y_train, y_test = Y_subset[train_index], Y_subset[test_index]\n",
    "            \n",
    "            #Fit model on X_train\n",
    "            poly = PolynomialFeatures(degree=4)\n",
    "            model = LinearRegression()\n",
    "            model.fit(poly.fit_transform(X_train),y_train)\n",
    "            \n",
    "            #Store each Kfold MSE values on X_test\n",
    "            Kfold_MSE_list.append(mean_squared_error(y_test, model.predict(poly.fit_transform(X_test))))\n",
    "            \n",
    "        #Average over the K folds for a single \"i\" iteration\n",
    "        i_Mean_MSE.append(np.mean(Kfold_MSE_list))\n",
    "    \n",
    "    #Average and std for a particular k value over all i iterations\n",
    "    CV_Mean_MSE_small.append(np.mean(i_Mean_MSE))\n",
    "    CV_Var_MSE_small.append(np.var(i_Mean_MSE, ddof = 1))\n",
    "    \n",
    "#Convert to numpy for convenience\n",
    "CV_Mean_MSE_small  = np.asarray(CV_Mean_MSE_small)\n",
    "CV_Var_MSE_small  = np.asarray(CV_Var_MSE_small)\n",
    "CV_Std_MSE_small = np.sqrt(CV_Var_MSE_small)"
   ]
  },
  {
   "cell_type": "code",
   "execution_count": null,
   "metadata": {
    "jupyter": {
     "outputs_hidden": false
    }
   },
   "outputs": [],
   "source": [
    "#Plotting result - LHS - 1 - MSE\n",
    "fig = plt.figure(figsize=(16,8))\n",
    "fig.add_subplot(1, 2, 1)\n",
    "k_folds_range = np.array([2,4,6,8,10,15,20,25,30,35,39])\n",
    "\n",
    "plt.fill_between(k_folds_range, 1 - (CV_Mean_MSE_small - CV_Std_MSE_small),\n",
    "                 1 - (CV_Mean_MSE_small + CV_Std_MSE_small), alpha=0.1, color=\"g\", label = '$\\pm 1$ std')\n",
    "\n",
    "plt.plot(k_folds_range, 1 - CV_Mean_MSE_small, 'o-', color=\"g\",\n",
    "         label=\"Cross-validation mean\")\n",
    "\n",
    "plt.hlines(1 - 1.0/12 , min(k_folds_range),max(k_folds_range), linestyle = '--', color = 'gray', alpha = .5, label = 'True noise $\\epsilon$')\n",
    "plt.legend(loc=\"lower right\"), \n",
    "plt.ylim(0.7,1)\n",
    "plt.ylabel('1 - MSE'), plt.xlabel('Kfolds')\n",
    "plt.title('1 - MSE vs Number of Kfolds: 40 data points, 100 iterations bootstrap ')\n",
    "plt.show()"
   ]
  },
  {
   "cell_type": "code",
   "execution_count": null,
   "metadata": {
    "jupyter": {
     "outputs_hidden": false
    }
   },
   "outputs": [],
   "source": [
    "plt.figure(figsize = (7,7))\n",
    "\n",
    "plt.plot(k_folds_range, CV_Std_MSE_small, 'o-', color=\"g\",\n",
    "         label=\"Cross-validation Variance\")\n",
    "\n",
    "plt.legend(loc=\"best\")\n",
    "plt.ylabel('Std MSE')\n",
    "plt.xlabel('Kfolds')\n",
    "plt.ylim(0,.05)\n",
    "plt.title('Var MSE vs Number of Kfolds: 40 data points, 100 iterations bootstrap ')\n",
    "plt.show()"
   ]
  },
  {
   "cell_type": "markdown",
   "metadata": {},
   "source": [
    "**Exercise.** Repeat the exercise above, this time by using with 200 data points."
   ]
  },
  {
   "cell_type": "code",
   "execution_count": null,
   "metadata": {
    "jupyter": {
     "outputs_hidden": true
    }
   },
   "outputs": [],
   "source": []
  }
 ],
 "metadata": {
  "anaconda-cloud": {},
  "kernelspec": {
   "display_name": "Python 3",
   "language": "python",
   "name": "python3"
  },
  "language_info": {
   "codemirror_mode": {
    "name": "ipython",
    "version": 3
   },
   "file_extension": ".py",
   "mimetype": "text/x-python",
   "name": "python",
   "nbconvert_exporter": "python",
   "pygments_lexer": "ipython3",
   "version": "3.8.5"
  }
 },
 "nbformat": 4,
 "nbformat_minor": 4
}
