{
 "cells": [
  {
   "cell_type": "markdown",
   "metadata": {},
   "source": [
    "# Model Selection and resampling methods \n",
    "\n",
    "**student**: Quentin Le Roux\n",
    "\n",
    "## Exam\n",
    "\n",
    "We work with the database ADNI, containing information for a clinical cohort of healhty volunteers and patients with Alzheimer's disease."
   ]
  },
  {
   "cell_type": "code",
   "execution_count": 1,
   "metadata": {},
   "outputs": [
    {
     "data": {
      "text/html": [
       "<div>\n",
       "<style scoped>\n",
       "    .dataframe tbody tr th:only-of-type {\n",
       "        vertical-align: middle;\n",
       "    }\n",
       "\n",
       "    .dataframe tbody tr th {\n",
       "        vertical-align: top;\n",
       "    }\n",
       "\n",
       "    .dataframe thead th {\n",
       "        text-align: right;\n",
       "    }\n",
       "</style>\n",
       "<table border=\"1\" class=\"dataframe\">\n",
       "  <thead>\n",
       "    <tr style=\"text-align: right;\">\n",
       "      <th></th>\n",
       "      <th>Unnamed: 0</th>\n",
       "      <th>RID</th>\n",
       "      <th>Hippocampus_volume</th>\n",
       "      <th>AGE</th>\n",
       "      <th>PTGENDER</th>\n",
       "      <th>PTEDUCAT</th>\n",
       "      <th>ADAS11</th>\n",
       "      <th>FDG</th>\n",
       "      <th>DX</th>\n",
       "    </tr>\n",
       "  </thead>\n",
       "  <tbody>\n",
       "    <tr>\n",
       "      <th>0</th>\n",
       "      <td>1</td>\n",
       "      <td>2</td>\n",
       "      <td>0.004200</td>\n",
       "      <td>74.3</td>\n",
       "      <td>1</td>\n",
       "      <td>16</td>\n",
       "      <td>10.67</td>\n",
       "      <td>1.369264</td>\n",
       "      <td>NL</td>\n",
       "    </tr>\n",
       "    <tr>\n",
       "      <th>1</th>\n",
       "      <td>16</td>\n",
       "      <td>3</td>\n",
       "      <td>0.002769</td>\n",
       "      <td>81.3</td>\n",
       "      <td>1</td>\n",
       "      <td>18</td>\n",
       "      <td>22.00</td>\n",
       "      <td>1.090790</td>\n",
       "      <td>Dementia</td>\n",
       "    </tr>\n",
       "    <tr>\n",
       "      <th>2</th>\n",
       "      <td>27</td>\n",
       "      <td>5</td>\n",
       "      <td>0.004312</td>\n",
       "      <td>73.7</td>\n",
       "      <td>1</td>\n",
       "      <td>16</td>\n",
       "      <td>8.67</td>\n",
       "      <td>1.297990</td>\n",
       "      <td>NL</td>\n",
       "    </tr>\n",
       "    <tr>\n",
       "      <th>3</th>\n",
       "      <td>46</td>\n",
       "      <td>8</td>\n",
       "      <td>0.004355</td>\n",
       "      <td>84.5</td>\n",
       "      <td>2</td>\n",
       "      <td>18</td>\n",
       "      <td>5.00</td>\n",
       "      <td>1.276278</td>\n",
       "      <td>NL</td>\n",
       "    </tr>\n",
       "    <tr>\n",
       "      <th>4</th>\n",
       "      <td>60</td>\n",
       "      <td>10</td>\n",
       "      <td>0.003728</td>\n",
       "      <td>73.9</td>\n",
       "      <td>2</td>\n",
       "      <td>12</td>\n",
       "      <td>12.33</td>\n",
       "      <td>1.118814</td>\n",
       "      <td>Dementia</td>\n",
       "    </tr>\n",
       "    <tr>\n",
       "      <th>5</th>\n",
       "      <td>65</td>\n",
       "      <td>14</td>\n",
       "      <td>0.005301</td>\n",
       "      <td>78.5</td>\n",
       "      <td>2</td>\n",
       "      <td>12</td>\n",
       "      <td>4.33</td>\n",
       "      <td>1.256990</td>\n",
       "      <td>NL</td>\n",
       "    </tr>\n",
       "    <tr>\n",
       "      <th>6</th>\n",
       "      <td>80</td>\n",
       "      <td>16</td>\n",
       "      <td>0.005406</td>\n",
       "      <td>65.4</td>\n",
       "      <td>1</td>\n",
       "      <td>9</td>\n",
       "      <td>10.33</td>\n",
       "      <td>1.395434</td>\n",
       "      <td>NL</td>\n",
       "    </tr>\n",
       "    <tr>\n",
       "      <th>7</th>\n",
       "      <td>93</td>\n",
       "      <td>21</td>\n",
       "      <td>0.005607</td>\n",
       "      <td>72.6</td>\n",
       "      <td>2</td>\n",
       "      <td>18</td>\n",
       "      <td>6.67</td>\n",
       "      <td>1.382790</td>\n",
       "      <td>NL</td>\n",
       "    </tr>\n",
       "    <tr>\n",
       "      <th>8</th>\n",
       "      <td>114</td>\n",
       "      <td>23</td>\n",
       "      <td>0.005298</td>\n",
       "      <td>71.7</td>\n",
       "      <td>1</td>\n",
       "      <td>14</td>\n",
       "      <td>4.00</td>\n",
       "      <td>1.364222</td>\n",
       "      <td>NL</td>\n",
       "    </tr>\n",
       "    <tr>\n",
       "      <th>9</th>\n",
       "      <td>221</td>\n",
       "      <td>43</td>\n",
       "      <td>0.004564</td>\n",
       "      <td>76.2</td>\n",
       "      <td>1</td>\n",
       "      <td>16</td>\n",
       "      <td>7.00</td>\n",
       "      <td>1.308406</td>\n",
       "      <td>NL</td>\n",
       "    </tr>\n",
       "  </tbody>\n",
       "</table>\n",
       "</div>"
      ],
      "text/plain": [
       "   Unnamed: 0  RID  Hippocampus_volume   AGE  PTGENDER  PTEDUCAT  ADAS11  \\\n",
       "0           1    2            0.004200  74.3         1        16   10.67   \n",
       "1          16    3            0.002769  81.3         1        18   22.00   \n",
       "2          27    5            0.004312  73.7         1        16    8.67   \n",
       "3          46    8            0.004355  84.5         2        18    5.00   \n",
       "4          60   10            0.003728  73.9         2        12   12.33   \n",
       "5          65   14            0.005301  78.5         2        12    4.33   \n",
       "6          80   16            0.005406  65.4         1         9   10.33   \n",
       "7          93   21            0.005607  72.6         2        18    6.67   \n",
       "8         114   23            0.005298  71.7         1        14    4.00   \n",
       "9         221   43            0.004564  76.2         1        16    7.00   \n",
       "\n",
       "        FDG        DX  \n",
       "0  1.369264        NL  \n",
       "1  1.090790  Dementia  \n",
       "2  1.297990        NL  \n",
       "3  1.276278        NL  \n",
       "4  1.118814  Dementia  \n",
       "5  1.256990        NL  \n",
       "6  1.395434        NL  \n",
       "7  1.382790        NL  \n",
       "8  1.364222        NL  \n",
       "9  1.308406        NL  "
      ]
     },
     "execution_count": 1,
     "metadata": {},
     "output_type": "execute_result"
    }
   ],
   "source": [
    "import numpy as np\n",
    "import pandas as pd\n",
    "\n",
    "dataset = pd.read_csv('data.csv')\n",
    "dataset[:10]"
   ]
  },
  {
   "cell_type": "markdown",
   "metadata": {},
   "source": [
    "Data fields:\n",
    "- RID: subject's identifier\n",
    "- Hippocampus_volume = normalized volume of the brain region hippocampus\n",
    "- AGE: subject's age\n",
    "- PTGENDER: subject's sex (1 Male, 2 Female)\n",
    "- PTEDUCAT: years of education\n",
    "- ADAS11: clinical score (Alzheimer's disease assessment scale)\n",
    "- FDG: measure of average brain metabolism\n",
    "- DX: clinical diagnosis. In order to severity we have NL (normal), MCI (mild cognitive impairment), and Dementia"
   ]
  },
  {
   "cell_type": "markdown",
   "metadata": {},
   "source": [
    "__Exercise 1.__ Estimate mean and standard deviation for the classification accuracy of the algorithms Logistic Regression and Nearest Neighbours classifier for predicting clinical diagnosis based on the variables Hippocampus_volume, AGE, PTGENDER, PTEDUCAT, ADAS11, and FDG. (use at least 1000 repetitions)"
   ]
  },
  {
   "cell_type": "code",
   "execution_count": 2,
   "metadata": {},
   "outputs": [],
   "source": [
    "# Library imports\n",
    "\n",
    "from sklearn.linear_model import LogisticRegression\n",
    "from sklearn.metrics import accuracy_score\n",
    "from sklearn.neighbors import KNeighborsClassifier\n",
    "import matplotlib.pyplot as plt"
   ]
  },
  {
   "cell_type": "code",
   "execution_count": 3,
   "metadata": {},
   "outputs": [],
   "source": [
    "# Global Variable Declaration\n",
    "\n",
    "features = [\"Hippocampus_volume\", \"AGE\", \"PTGENDER\", \"PTEDUCAT\", \"ADAS11\", \"FDG\"]\n",
    "target = \"DX\"\n",
    "n_repetitions = 1000\n",
    "\n",
    "new_dataset = dataset[features+[target]]"
   ]
  },
  {
   "cell_type": "code",
   "execution_count": 4,
   "metadata": {},
   "outputs": [],
   "source": [
    "# Models Declaration\n",
    "\n",
    "LR = LogisticRegression(random_state=0, max_iter=300)\n",
    "kNN = KNeighborsClassifier(n_neighbors=3)\n",
    "\n",
    "import warnings\n",
    "warnings.filterwarnings('ignore')"
   ]
  },
  {
   "cell_type": "code",
   "execution_count": 5,
   "metadata": {
    "scrolled": false
   },
   "outputs": [],
   "source": [
    "# Training & Accuracy Processing\n",
    "\n",
    "# Declares empty array for accuracy results\n",
    "computed_accuracies_LR = []\n",
    "computed_accuracies_kNN = []\n",
    "\n",
    "# Performs n_repetitions bootstrapping\n",
    "for repetition in range(n_repetitions):\n",
    "    # bootstraps\n",
    "    bootstrapped_sample = new_dataset.sample(len(new_dataset), replace=True)\n",
    "    # Splits features and target variables\n",
    "    X = bootstrapped_sample[features]\n",
    "    y = bootstrapped_sample[target]\n",
    "    # Fits\n",
    "    LR.fit(X, y)\n",
    "    kNN.fit(X, y)\n",
    "    # Records\n",
    "    computed_accuracies_LR.append(accuracy_score(y, LR.predict(X)))\n",
    "    computed_accuracies_kNN.append(accuracy_score(y, kNN.predict(X)))"
   ]
  },
  {
   "cell_type": "code",
   "execution_count": 6,
   "metadata": {},
   "outputs": [],
   "source": [
    "# Computes mean and variance for the bootstrapped accuracies of the two models\n",
    "\n",
    "boot_mean = []\n",
    "boot_std = []\n",
    "\n",
    "# Computes means\n",
    "boot_mean.append(np.mean(computed_accuracies_LR))\n",
    "boot_mean.append(np.mean(computed_accuracies_kNN))\n",
    "# Computes stds\n",
    "boot_std.append(np.std(computed_accuracies_LR))\n",
    "boot_std.append(np.std(computed_accuracies_kNN))"
   ]
  },
  {
   "cell_type": "code",
   "execution_count": 7,
   "metadata": {},
   "outputs": [
    {
     "name": "stdout",
     "output_type": "stream",
     "text": [
      "\n",
      "#### Logistic Regression ####\n",
      "Mean accuracy: 0.6763453744493393\n",
      "St.Dev. accuracy: 0.014953254959370922\n",
      "\n",
      "#### K-NN ####\n",
      "Mean accuracy: 0.8937215859030837\n",
      "St.Dev. accuracy: 0.007691489873630406\n"
     ]
    }
   ],
   "source": [
    "# Print results\n",
    "\n",
    "for idx, name in enumerate([\"Logistic Regression\", \"K-NN\"]):\n",
    "    print(f\"\\n#### {name} ####\")\n",
    "    print(f\"Mean accuracy: {boot_mean[idx]}\")\n",
    "    print(f\"St.Dev. accuracy: {boot_std[idx]}\")"
   ]
  },
  {
   "cell_type": "markdown",
   "metadata": {},
   "source": [
    "<u>Results:</u>\n",
    "\n",
    "| Model | Mean Accuracy | Accuracy Standard Deviation | \n",
    "| :--- | --- | --- |\n",
    "| Logistic Regression (300 max iterations) | 0.67 | 0.02 |\n",
    "| K-Nearest Neighbors (k = 3) | 0.89 | 0.01 | "
   ]
  },
  {
   "cell_type": "markdown",
   "metadata": {},
   "source": [
    "<hr>\n",
    "\n",
    "__Exercise 2.__ Use boostrap to estimate the significance of the difference between the accuracy of Logistic regression and the one of Nearest Neighbours."
   ]
  },
  {
   "cell_type": "code",
   "execution_count": 8,
   "metadata": {},
   "outputs": [],
   "source": [
    "# Library Imports\n",
    "\n",
    "import copy"
   ]
  },
  {
   "cell_type": "code",
   "execution_count": 9,
   "metadata": {},
   "outputs": [],
   "source": [
    "# Reuses the boostrapped accuracies computed in exercise 1\n",
    "\n",
    "accuracies_LR = computed_accuracies_LR.copy()\n",
    "accuracies_kNN = computed_accuracies_kNN.copy()"
   ]
  },
  {
   "cell_type": "code",
   "execution_count": 10,
   "metadata": {},
   "outputs": [
    {
     "data": {
      "image/png": "[encoded data removed]",
      "text/plain": [
       "<Figure size 432x288 with 1 Axes>"
      ]
     },
     "metadata": {
      "needs_background": "light"
     },
     "output_type": "display_data"
    }
   ],
   "source": [
    "# Visualizes the distribution of the accuracies\n",
    "\n",
    "plt.hist(accuracies_LR, 10, histtype='step', label = 'Logistic Regression Accuracies')\n",
    "plt.hist(accuracies_kNN, 10, histtype='step', label = 'k-Nearest Neighbors Accuracies')\n",
    "plt.title('Histogram of Computed Accuracies')\n",
    "plt.ylabel('counts')\n",
    "plt.legend()\n",
    "plt.show()"
   ]
  },
  {
   "cell_type": "markdown",
   "metadata": {},
   "source": [
    "<u>Observations:</u>\n",
    "\n",
    "Our first observation is that the accuracies computed for the logistic regression and k-nearest neighbors models are fairly different. Our intuition is that the two distribution will be significantly different"
   ]
  },
  {
   "cell_type": "code",
   "execution_count": 11,
   "metadata": {},
   "outputs": [],
   "source": [
    "# Function declarations\n",
    "\n",
    "def compute_t(x, y):\n",
    "    \"\"\"\n",
    "    Computes the statistics t for hypothesis testing \n",
    "    between two distributions x and y\n",
    "    \"\"\"\n",
    "    # Variable declaration\n",
    "    n_x = len(x)\n",
    "    n_y = len(y)\n",
    "    # Mean and Variance calculation\n",
    "    mean_x = np.mean(x)\n",
    "    mean_y = np.mean(y)\n",
    "    sigma2_x = np.var(x)\n",
    "    sigma2_y = np.var(y)\n",
    "    return (mean_x-mean_y)/np.sqrt(sigma2_x/n_x+sigma2_y/n_y)\n",
    "\n",
    "def compute_centered_data(x, y):\n",
    "    \"\"\"\n",
    "    Computes the centered data of two distributions x and y\n",
    "    \"\"\"\n",
    "    # Computation of statistic t\n",
    "    t_obs = compute_t(x,y)\n",
    "    # Computation for centering the distributions\n",
    "    z = np.concatenate([x, y])\n",
    "    mean_x = np.mean(x)\n",
    "    mean_y = np.mean(y)\n",
    "    # Translating the data around avg(z)\n",
    "    x_tilde = x - mean_x + np.mean(z)\n",
    "    y_tilde = y - mean_y + np.mean(z)\n",
    "    return x_tilde, y_tilde\n",
    "    \n",
    "def bootstrapped_t_calculate(x, y, repetitions):\n",
    "    \"\"\"\n",
    "    Computes the bootstrapped t statistics for two distributions x and y\n",
    "    \"\"\"\n",
    "    # Variable declaration\n",
    "    n_x = len(x)\n",
    "    n_y = len(y)\n",
    "    t_bootstrapped = []\n",
    "    # Computation of centered data\n",
    "    x_tilde, y_tilde = compute_centered_data(x, y)\n",
    "    # Centered data concatenation\n",
    "    z_tilde = np.concatenate([x_tilde, y_tilde])\n",
    "    # Generation of B bootstrapped samples\n",
    "    bootstrapped_samples = np.random.choice(z_tilde, \n",
    "                                            (repetitions, n_x + n_y), \n",
    "                                            replace=True)\n",
    "    # computation of the t statistic for each bootstrapped sample\n",
    "    for i in range(repetitions):\n",
    "        x_simulated = bootstrapped_samples[i, :n_x]\n",
    "        y_simulated = bootstrapped_samples[i, n_x:]\n",
    "        t_bootstrapped.append(compute_t(x_simulated, y_simulated))\n",
    "    return t_bootstrapped\n",
    "\n",
    "def print_null_distribution(t_obs, t_boot):\n",
    "    \"\"\"\n",
    "    Plots the null hypothesis distribution\n",
    "    \"\"\"\n",
    "    plt.figure(figsize=(18,8))\n",
    "    plt.hist(t_boot, 10, histtype='step')\n",
    "    plt.title('Null distribution')\n",
    "    plt.axvline(x=t_obs)\n",
    "    plt.show()\n",
    "    \n",
    "def hypothesis_testing(t_obs, t_boot, repetitions):\n",
    "    \"\"\"\n",
    "    Computes the hypothesis testing between an observed statistic t\n",
    "    and its bootstrapped counterpart\n",
    "    \"\"\"\n",
    "    # Computes the significance of our test\n",
    "    boot_stat = np.sum(np.abs(t_obs)>np.abs(t_boot))/repetitions\n",
    "    confidence_interval = np.quantile(t_boot, [0.025, 0.975])\n",
    "    # Prints results\n",
    "    print(f\"The 2-sided bootstrapped p-value (significance of the test) is: {1-boot_stat}\")\n",
    "    print(f\"The 95% coinfidence interval for the null hypothesis: {confidence_interval}\")\n",
    "    print(f\"Observed statistic: {t_obs}\")\n",
    "    if t_obs >= confidence_interval[0] and t_obs <= confidence_interval[1]:\n",
    "        print(\"\\nWe cannot reject the null hypothesis.\")\n",
    "        print(\"The accuracy mean for the Logistic Regression model is the same \" + \n",
    "              \"as for the k-Nearest Neighbor model.\")\n",
    "    else:\n",
    "        print(\"\\nWe can reject the null hypothesis.\")\n",
    "        print(\"The accuracy mean for the Logistic Regression model is different \" + \n",
    "              \"from the k-Nearest Neighbor model.\")"
   ]
  },
  {
   "cell_type": "code",
   "execution_count": 12,
   "metadata": {},
   "outputs": [
    {
     "data": {
      "image/png": "[encoded data removed]",
      "text/plain": [
       "<Figure size 1296x576 with 1 Axes>"
      ]
     },
     "metadata": {
      "needs_background": "light"
     },
     "output_type": "display_data"
    }
   ],
   "source": [
    "# Computes the observed t statistic and its bootstrapped counterpart from the accuracies\n",
    "# computed in exercise 1 (via a bootstrapped process)\n",
    "\n",
    "t_observed = compute_t(accuracies_LR, accuracies_kNN)\n",
    "t_bootstrapped = bootstrapped_t_calculate(accuracies_LR, accuracies_kNN, n_repetitions)\n",
    "print_null_distribution(t_observed, t_bootstrapped)"
   ]
  },
  {
   "cell_type": "code",
   "execution_count": 13,
   "metadata": {},
   "outputs": [
    {
     "name": "stdout",
     "output_type": "stream",
     "text": [
      "The 2-sided bootstrapped p-value (significance of the test) is: 0.0\n",
      "The 95% coinfidence interval for the null hypothesis: [-1.87978453  2.08883103]\n",
      "Observed statistic: -408.79343415871057\n",
      "\n",
      "We can reject the null hypothesis.\n",
      "The accuracy mean for the Logistic Regression model is different from the k-Nearest Neighbor model.\n"
     ]
    }
   ],
   "source": [
    "# Performs hypothesis testing\n",
    "\n",
    "hypothesis_testing(t_observed, t_bootstrapped, n_repetitions)"
   ]
  },
  {
   "cell_type": "markdown",
   "metadata": {},
   "source": [
    "<u>Results:</u>\n",
    "\n",
    "Bootstrapping 1000 times from the accuracies we computed in exercise 1, we find that our intuition is confirmed: the distributions of the accuracies for the two models (Logistic Regression and k-Nearest Neighbors) are significantly different."
   ]
  },
  {
   "cell_type": "markdown",
   "metadata": {},
   "source": [
    "<hr>\n",
    "\n",
    "__Exercise 3__. Compute a 95% confidence interval for the median years of education in the group Dementia, and in the group healthy (NL). Are the median significantly different?  "
   ]
  },
  {
   "cell_type": "code",
   "execution_count": 14,
   "metadata": {},
   "outputs": [],
   "source": [
    "# Global Variable Declaration\n",
    "\n",
    "reduced_dataset = dataset[[\"PTEDUCAT\", \"DX\"]]\n",
    "dementia_set = reduced_dataset[reduced_dataset['DX'] == \"Dementia\"].drop(columns=[\"DX\"])\n",
    "healthy_set = reduced_dataset[reduced_dataset['DX'] == \"NL\"].drop(columns=[\"DX\"])\n",
    "\n",
    "alpha = .05\n",
    "threshold = alpha/2 * n_repetitions"
   ]
  },
  {
   "cell_type": "code",
   "execution_count": 15,
   "metadata": {},
   "outputs": [],
   "source": [
    "# Function declarations\n",
    "\n",
    "def generate_bootstrap(data, repetitions):\n",
    "    \"\"\"\n",
    "    Generates bootstrapped sets from a dataset, given a number of repetitions\n",
    "    \"\"\"\n",
    "    boot = np.random.choice(data, \n",
    "                            size=[len(data), repetitions],\n",
    "                            replace = True)\n",
    "    return boot\n",
    "\n",
    "def confidence_interval(bootstrapped_estimator, repetitions, \n",
    "                        threshold, alpha,\n",
    "                        patient = \"neurotypical patients\"):\n",
    "    \"\"\"\n",
    "    Calculates a confidence interval for a given bootstrapped estimator\n",
    "    \"\"\"\n",
    "    # Calculating lower and upper quantiles\n",
    "    print(threshold, repetitions-threshold)\n",
    "    low = np.sort(bootstrapped_estimator)[int(threshold)]\n",
    "    up = np.sort(bootstrapped_estimator)[int(repetitions-threshold)]\n",
    "    print(f\"The {100-alpha}% confidence interval for the median number of years of education of \" + \n",
    "          f\"{patient} is:\\n\",\n",
    "          f\"[{low}, {up}]\")\n",
    "    return low, up\n",
    "\n",
    "def hypothesis_testing_v2(x, y, n_repetitions):\n",
    "    \"\"\"\n",
    "    Computes the observed t statistic and its bootstrapped counterpart from the medians\n",
    "    \"\"\"\n",
    "    n = len(x)\n",
    "    m = len(y)\n",
    "    # Computes the observed statistic\n",
    "    t_stat = compute_t(x,y)\n",
    "    # Concatenates data for centering the distributions\n",
    "    z = np.concatenate([x,y])\n",
    "    mean_x = np.mean(x)\n",
    "    mean_y = np.mean(y)\n",
    "    # Translates the data around an average avg(z)\n",
    "    x_tilde = x - mean_x + np.mean(z)\n",
    "    y_tilde = y - mean_y + np.mean(z)\n",
    "    # Concatenates the centered data and sample from it\n",
    "    z_tilde = np.concatenate([x_tilde, y_tilde])\n",
    "    # We generate B samples \n",
    "    b_sample = np.random.choice(z_tilde, (n_repetitions, n+m), replace=True)\n",
    "    # For each pair of bootstrap samples, computes the associated statistic \n",
    "    t_bootstrap = []\n",
    "    for i in range(n_repetitions):\n",
    "        x_simulated = b_sample[i,:n]\n",
    "        y_simulated = b_sample[i,n:]\n",
    "        t_bootstrap.append(compute_t(x_simulated, y_simulated))\n",
    "    # Plots the null hypothesis distribution\n",
    "    plt.hist(t_bootstrap, 25, histtype='step')\n",
    "    plt.title('Null distribution')\n",
    "    plt.axvline(x = t_stat)\n",
    "    plt.show()\n",
    "    # Computes the significance of our test\n",
    "    bootstrap_stat = np.sum(np.abs(t_stat)>np.abs(t_bootstrap))/n_repetitions\n",
    "    print('The bootstrap significance of the test is: ' + str(1-bootstrap_stat))\n"
   ]
  },
  {
   "cell_type": "code",
   "execution_count": 16,
   "metadata": {},
   "outputs": [],
   "source": [
    "# Bootstraps datasets\n",
    "\n",
    "boot_dementia = generate_bootstrap(dementia_set[\"PTEDUCAT\"], n_repetitions)\n",
    "boot_healthy = generate_bootstrap(healthy_set[\"PTEDUCAT\"], n_repetitions)"
   ]
  },
  {
   "cell_type": "code",
   "execution_count": 17,
   "metadata": {},
   "outputs": [
    {
     "data": {
      "image/png": "[encoded data removed]",
      "text/plain": [
       "<Figure size 720x216 with 2 Axes>"
      ]
     },
     "metadata": {
      "needs_background": "light"
     },
     "output_type": "display_data"
    }
   ],
   "source": [
    "# Visualizes the distribution of the medians\n",
    "\n",
    "boot_median_dementia = np.median(boot_dementia, 0)\n",
    "boot_median_healthy = np.median(boot_healthy, 0)\n",
    "\n",
    "plt.figure(figsize=(10,3))\n",
    "\n",
    "plt.subplot(1,2,1)\n",
    "plt.boxplot([boot_median_dementia])\n",
    "plt.title('Bootstrap distribution of years of\\neducation (median) of patients with dementia')\n",
    "plt.subplot(1,2,2)\n",
    "plt.boxplot([boot_median_healthy])\n",
    "plt.title('Bootstrap distribution of years of\\neducation (median) of neurotypical patients')\n",
    "plt.show()"
   ]
  },
  {
   "cell_type": "code",
   "execution_count": 18,
   "metadata": {
    "scrolled": false
   },
   "outputs": [
    {
     "name": "stdout",
     "output_type": "stream",
     "text": [
      "25.0 975.0\n",
      "The 99.95% confidence interval for the median number of years of education of neurotypical patients is:\n",
      " [16.0, 17.0]\n",
      "25.0 975.0\n",
      "The 99.95% confidence interval for the median number of years of education of neurotypical patients is:\n",
      " [16.0, 16.0]\n"
     ]
    }
   ],
   "source": [
    "# Computation of a 95% confidence interval for the bootstrapped median\n",
    "\n",
    "low, up = confidence_interval(boot_median_healthy, n_repetitions, threshold, alpha)\n",
    "low, up = confidence_interval(boot_median_dementia, n_repetitions, threshold, alpha)"
   ]
  },
  {
   "cell_type": "code",
   "execution_count": 19,
   "metadata": {},
   "outputs": [
    {
     "data": {
      "image/png": "[encoded data removed]",
      "text/plain": [
       "<Figure size 432x288 with 1 Axes>"
      ]
     },
     "metadata": {
      "needs_background": "light"
     },
     "output_type": "display_data"
    },
    {
     "name": "stdout",
     "output_type": "stream",
     "text": [
      "The bootstrap significance of the test is: 0.0\n"
     ]
    }
   ],
   "source": [
    "hypothesis_testing_v2(healthy_set[\"PTEDUCAT\"], dementia_set[\"PTEDUCAT\"], n_repetitions)"
   ]
  },
  {
   "cell_type": "markdown",
   "metadata": {},
   "source": [
    "<u>Observations:</u>\n",
    "\n",
    "We can reject the hypothesis that the two median are similar. \n",
    "\n",
    "Based on the bootstrapped significance, we can say that the median for the year of educations for the patients with dementia is significantly different from the median of the neurotypical patients. "
   ]
  },
  {
   "cell_type": "markdown",
   "metadata": {},
   "source": [
    "<hr>\n",
    "\n",
    "__Exercise 4.__ Use the information criteria to decide what is the best polynomial model that explains the relatioship between FDG (predictor) and ADAS11 (target) in the group MCI? And in the group NL? "
   ]
  },
  {
   "cell_type": "markdown",
   "metadata": {},
   "source": [
    "**Assumption**: We choose to rely on the AIC, AICc and BIC as information criteria."
   ]
  },
  {
   "cell_type": "code",
   "execution_count": 20,
   "metadata": {},
   "outputs": [],
   "source": [
    "# Global variable declaration\n",
    "\n",
    "new_dataset = dataset[[\"FDG\", \"ADAS11\", \"DX\"]]\n",
    "\n",
    "MCI_set = new_dataset[new_dataset['DX'] == \"MCI\"].drop(columns=[\"DX\"])\n",
    "NL_set = new_dataset[new_dataset['DX'] == \"NL\"].drop(columns=[\"DX\"])\n",
    "\n",
    "degrees = 10"
   ]
  },
  {
   "cell_type": "code",
   "execution_count": 21,
   "metadata": {},
   "outputs": [],
   "source": [
    "# Function Declaration\n",
    "\n",
    "def Gaussian_loglik(x,y,w,sigma2):\n",
    "    \"\"\"\n",
    "    Computes the Gaussian log-likelihood\n",
    "    \"\"\"\n",
    "    N = len(y)\n",
    "    ll = -N/2 * np.log(2*np.pi*sigma2) - 1/(2*sigma2) * np.sum((y-x.dot(w.T))**2)\n",
    "    return ll\n",
    "\n",
    "def fit_poly(x,y,d):\n",
    "    \"\"\"\n",
    "    Fits a polynomial model\n",
    "    \"\"\"\n",
    "    w_ml = np.linalg.solve(x.T.dot(x),x.T.dot(y))\n",
    "    w_ml.reshape(1,(len(w_ml)))\n",
    "    sigma2_ml = np.mean((y-x.dot(w_ml.T))**2)\n",
    "    return w_ml, sigma2_ml\n",
    "\n",
    "def pseudo_gridsearch(x, y, d):\n",
    "    \"\"\"\n",
    "    Performs a pseudo-grid search on a polynomial model over a given\n",
    "    degree range\n",
    "    \"\"\"\n",
    "    loglik = []\n",
    "    AIC = []\n",
    "    AICc = []\n",
    "    BIC = []\n",
    "    for d in range(1,d):\n",
    "        x_poly = np.array([x**i for i in range(d)]).T\n",
    "        w_ml, sigma2_ml = fit_poly(x_poly,y,d)\n",
    "        loglik.append(Gaussian_loglik(x_poly,y,w_ml,sigma2_ml))\n",
    "        dev = -2*np.array(Gaussian_loglik(x_poly, y, w_ml, sigma2_ml))\n",
    "        AIC.append(dev+2*len(w_ml))\n",
    "        BIC.append(dev+2*len(w_ml)*np.log(len(x)))\n",
    "        AICc.append(dev+2*len(w_ml) + 2*d + 2.*d*(d+1)/(x.shape[0]-d-1))\n",
    "    return AIC, AICc, BIC"
   ]
  },
  {
   "cell_type": "code",
   "execution_count": 22,
   "metadata": {
    "scrolled": false
   },
   "outputs": [
    {
     "data": {
      "image/png": "[encoded data removed]",
      "text/plain": [
       "<Figure size 432x288 with 1 Axes>"
      ]
     },
     "metadata": {
      "needs_background": "light"
     },
     "output_type": "display_data"
    }
   ],
   "source": [
    "# Computes polynomial model fit results for the MCI patients\n",
    "\n",
    "AIC, AICc, BIC = pseudo_gridsearch(MCI_set[\"FDG\"], MCI_set[\"ADAS11\"], degrees)\n",
    "\n",
    "plt.plot(range(1,degrees), AIC, label = \"AIC\")\n",
    "plt.ylabel('Information Criteria')\n",
    "plt.plot(range(1,degrees), AICc, label = \"AICc\")\n",
    "plt.plot(range(1,degrees), BIC, label = \"BIC\")\n",
    "plt.xlabel('polynomial degree')\n",
    "plt.legend()\n",
    "plt.show()"
   ]
  },
  {
   "cell_type": "markdown",
   "metadata": {},
   "source": [
    "<u>Observations for MCI patients:</u>\n",
    "\n",
    "We see that the AIC find the best polynomial model to be the one with 5 degrees. However, we also see that the AICc (corrected version of the AIC) and the BIC favor the model with only 2 degress. We recall:\n",
    "\n",
    "> The rule of thumb for using AICc is when the ratio $\\frac{N}{N_{parameters}}$ is less than 40, and in general, AICc is always preferred to AIC.\n",
    "\n",
    "Since AICc is always prefered in general to AIC and that the BIC seems to side with the AICc, we should prefer using a simpler model that only has 2 degrees.\n",
    "\n",
    "Now we repeat the procedure with the neurotypical patients:"
   ]
  },
  {
   "cell_type": "code",
   "execution_count": 23,
   "metadata": {
    "scrolled": false
   },
   "outputs": [
    {
     "data": {
      "image/png": "[encoded data removed]",
      "text/plain": [
       "<Figure size 432x288 with 1 Axes>"
      ]
     },
     "metadata": {
      "needs_background": "light"
     },
     "output_type": "display_data"
    }
   ],
   "source": [
    "# Computes polynomial model fit results for the NL patients\n",
    "\n",
    "AIC, AICc, BIC = pseudo_gridsearch(NL_set[\"FDG\"], NL_set[\"ADAS11\"], degrees)\n",
    "\n",
    "plt.plot(range(1,degrees), AIC, label = \"AIC\")\n",
    "plt.ylabel('Information Criteria')\n",
    "plt.plot(range(1,degrees), AICc, label = \"AICc\")\n",
    "plt.plot(range(1,degrees), BIC, label = \"BIC\")\n",
    "plt.xlabel('polynomial degree')\n",
    "plt.legend()\n",
    "plt.show()"
   ]
  },
  {
   "cell_type": "markdown",
   "metadata": {},
   "source": [
    "<u>Observations for NL patients:</u>\n",
    "\n",
    "We find that the BIC is a constantly increasing curve while the AIC and AICc seem to favor a model with 2 degrees. As such, we would favor, like with the MCI set, a polynomial model with 2 degrees."
   ]
  },
  {
   "cell_type": "markdown",
   "metadata": {},
   "source": [
    "__Exercise 5.__ Repeat Exercise 4 by using leave one out, and compare the results."
   ]
  },
  {
   "cell_type": "code",
   "execution_count": 24,
   "metadata": {},
   "outputs": [],
   "source": [
    "# Import library\n",
    "\n",
    "from sklearn.model_selection import LeaveOneOut"
   ]
  },
  {
   "cell_type": "code",
   "execution_count": 25,
   "metadata": {},
   "outputs": [],
   "source": [
    "# Function Declaration\n",
    "\n",
    "def pseudo_gridsearch_using_LOO(data, d):\n",
    "    \"\"\"\n",
    "    Performs a pseudo-grid search on a polynomial model over a given\n",
    "    degree range using the leave-one-out\n",
    "    \"\"\"\n",
    "    # Sets \n",
    "    training_deviance = []\n",
    "    testing_deviance = []\n",
    "    training_sd = []\n",
    "    testing_sd = []\n",
    "\n",
    "    N = 100\n",
    "    max_d = 10\n",
    "\n",
    "    for d in range(1,d):\n",
    "        training_ll = []\n",
    "        testing_ll = []\n",
    "        loo = LeaveOneOut()\n",
    "        for train, test in loo.split(data):\n",
    "            # Selects the left out \n",
    "            x_train = data.iloc[train][\"FDG\"]\n",
    "            x_test = data.iloc[test][\"FDG\"]\n",
    "            y_train = data.iloc[train][\"ADAS11\"]\n",
    "            y_test = data.iloc[test][\"ADAS11\"]\n",
    "            # Fits the polynomial model\n",
    "            x_train_poly = np.array([x_train**i for i in range(d)]).T\n",
    "            w_ml, sigma2_ml = fit_poly(x_train_poly,y_train,d)\n",
    "            training_ll.append(Gaussian_loglik(x_train_poly,y_train,w_ml,sigma2_ml))\n",
    "            # Tests\n",
    "            x_test_poly = np.array([x_test**i for i in range(d)]).T\n",
    "            testing_ll.append(Gaussian_loglik(x_test_poly,y_test,w_ml,sigma2_ml))\n",
    "        # Records\n",
    "        training_deviance.append(np.mean(-2*np.array(training_ll)))\n",
    "        testing_deviance.append(np.mean(-2*np.array(testing_ll)))\n",
    "        training_sd.append(np.std(-2*np.array(training_ll)))\n",
    "        testing_sd.append(np.std(-2*np.array(training_ll)))\n",
    "\n",
    "    # Reformats\n",
    "    training_deviance = np.array(training_deviance)\n",
    "    testing_deviance = np.array(testing_deviance)\n",
    "    training_sd = np.array(training_sd)\n",
    "    testing_sd = np.array(testing_sd)\n",
    "\n",
    "    plt.title('Training and testing deviance')\n",
    "    plt.plot(range(1,max_d), training_deviance, color='blue', alpha = 0.3)\n",
    "    plt.plot(range(1,max_d), testing_deviance, color='red', alpha = 0.3)\n",
    "    plt.fill_between(range(1,max_d), training_deviance - 2*training_sd, \n",
    "                     training_deviance + 2*training_sd, \n",
    "                     label = 'training', facecolor='blue', alpha=0.2,)\n",
    "    plt.fill_between(range(1,max_d), testing_deviance - 2*testing_sd, \n",
    "                      testing_deviance + 2*testing_sd, \n",
    "                     label = 'testing', facecolor='red', alpha=0.2,)\n",
    "    plt.ylabel('Deviance')\n",
    "    plt.xlabel('polynomial degree')\n",
    "    plt.legend()\n",
    "    plt.show()\n",
    "\n",
    "    plt.title('training/testing deviance difference')\n",
    "    plt.plot(range(1,max_d), \n",
    "             [training_deviance[i] - testing_deviance[i] \n",
    "              for i in range(len(testing_deviance))], \n",
    "             label = 'deviance difference')\n",
    "    plt.plot(range(1,max_d), -2* np.array(range(1,max_d)), label = 'y = -2*x')\n",
    "    plt.ylabel('difference')\n",
    "    plt.xlabel('polynomial degree')\n",
    "    plt.legend()\n",
    "    plt.show()"
   ]
  },
  {
   "cell_type": "code",
   "execution_count": 26,
   "metadata": {},
   "outputs": [
    {
     "data": {
      "image/png": "[encoded data removed]",
      "text/plain": [
       "<Figure size 432x288 with 1 Axes>"
      ]
     },
     "metadata": {
      "needs_background": "light"
     },
     "output_type": "display_data"
    },
    {
     "data": {
      "image/png": "[encoded data removed]",
      "text/plain": [
       "<Figure size 432x288 with 1 Axes>"
      ]
     },
     "metadata": {
      "needs_background": "light"
     },
     "output_type": "display_data"
    }
   ],
   "source": [
    "# Performs the pseudo grid-search using the Leave-One-Out Method on the MCI set\n",
    "\n",
    "pseudo_gridsearch_using_LOO(MCI_set, degrees)"
   ]
  },
  {
   "cell_type": "code",
   "execution_count": 27,
   "metadata": {},
   "outputs": [
    {
     "data": {
      "image/png": "[encoded data removed]",
      "text/plain": [
       "<Figure size 432x288 with 1 Axes>"
      ]
     },
     "metadata": {
      "needs_background": "light"
     },
     "output_type": "display_data"
    },
    {
     "data": {
      "image/png": "[encoded data removed]",
      "text/plain": [
       "<Figure size 432x288 with 1 Axes>"
      ]
     },
     "metadata": {
      "needs_background": "light"
     },
     "output_type": "display_data"
    }
   ],
   "source": [
    "# Performs the pseudo grid-search using the Leave-One-Out Method on the NL set\n",
    "\n",
    "pseudo_gridsearch_using_LOO(NL_set, degrees)"
   ]
  },
  {
   "cell_type": "markdown",
   "metadata": {},
   "source": [
    "<u>Observations:</u>\n",
    "\n",
    "As of now, we see that using a leave-one-out method does not yield satisfying results compared to using the information criteria as we cannot find deviance or differences between the two models. The only element we can find is a drop in deviance on the MCI set once we cross the 2-degree threshold (which is something we would expect given the results of exercise 4)."
   ]
  },
  {
   "cell_type": "markdown",
   "metadata": {},
   "source": [
    "__Exercise 6.__ What is the best combination of variables (excluded DX) for predicting ADAS11 with a linear model?"
   ]
  },
  {
   "cell_type": "code",
   "execution_count": 28,
   "metadata": {},
   "outputs": [],
   "source": [
    "# library imports\n",
    "\n",
    "import itertools"
   ]
  },
  {
   "cell_type": "code",
   "execution_count": 29,
   "metadata": {},
   "outputs": [],
   "source": [
    "# Global variable declaration\n",
    "\n",
    "target = dataset[[\"ADAS11\"]]\n",
    "features = dataset.drop(columns=[\"ADAS11\", \"DX\"])\n",
    "\n",
    "max_number_of_columns = len(features.columns)"
   ]
  },
  {
   "cell_type": "code",
   "execution_count": 30,
   "metadata": {},
   "outputs": [],
   "source": [
    "# Function Declaration\n",
    "\n",
    "# Supporting functions for model fitting\n",
    "def Gaussian_loglik(x,y,w,sigma2):\n",
    "    N = len(y)\n",
    "    ll = -N/2 * np.log(2*np.pi*sigma2) - 1/(2*sigma2) * np.sum((y-x.dot(w))**2)\n",
    "    return ll\n",
    "\n",
    "def fit_poly(x,y):\n",
    "    w_ml = np.linalg.solve(x.T.dot(x),x.T.dot(y))\n",
    "    w_ml.reshape(1,(len(w_ml)))\n",
    "    sigma2_ml = np.mean((y-x.dot(w_ml))**2)\n",
    "    return w_ml, sigma2_ml\n",
    "\n",
    "def compute_comparative_table(features, target, max_number_of_columns):\n",
    "    \"\"\"\n",
    "    Computes a comparative table given data\n",
    "    \"\"\"\n",
    "    AIC = []\n",
    "    AICc = []\n",
    "    BIC = []\n",
    "    model = []\n",
    "    ll = []\n",
    "    coef = []\n",
    "    sigma2 = []\n",
    "\n",
    "    # For each number of parameters in the model\n",
    "    for n_elements in range(1,10):\n",
    "        # For each combination of variables\n",
    "        for indices in itertools.combinations(range(max_number_of_columns), n_elements):\n",
    "\n",
    "            # Store the indices corresponding to the parameters\n",
    "            model.append(indices)\n",
    "\n",
    "            # Fit the model\n",
    "\n",
    "            x_train = features.values[:,indices].reshape(features.values.shape[0],n_elements)\n",
    "            w_ml, sigma2_ml = fit_poly(x_train, target.values)\n",
    "\n",
    "            # compute the log-likelihhod\n",
    "            training_ll = Gaussian_loglik(x_train,target,w_ml,sigma2_ml)\n",
    "\n",
    "            # store the coefficients\n",
    "            coefficients = np.zeros(max_number_of_columns)\n",
    "            coefficients[[indices]] = w_ml.T        \n",
    "            coef.append(coefficients)\n",
    "            sigma2.append(sigma2_ml)\n",
    "\n",
    "            # store all the metrics\n",
    "            ll.append(float(-training_ll))\n",
    "            AIC.append(float(-2*training_ll + 2*n_elements))\n",
    "            AICc.append(float(-2*training_ll + 2*n_elements + 2.*n_elements*(n_elements+1)/(features.values.shape[0]-n_elements-1)))\n",
    "            BIC.append(float(-2*training_ll + 2*n_elements*np.log(features.values.shape[0])))\n",
    "\n",
    "    results = pd.DataFrame({'model': model, 'AIC': AIC, 'AICc': AICc, 'BIC' :BIC, \n",
    "                            'neg_loglik' : ll, 'coef' : coef, 'sigma2' : sigma2})  \n",
    "    return results"
   ]
  },
  {
   "cell_type": "code",
   "execution_count": 31,
   "metadata": {
    "scrolled": false
   },
   "outputs": [],
   "source": [
    "# Computes results\n",
    "\n",
    "results = compute_comparative_table(features, target, max_number_of_columns)"
   ]
  },
  {
   "cell_type": "code",
   "execution_count": 32,
   "metadata": {},
   "outputs": [],
   "source": [
    "# Process table\n",
    "\n",
    "results.sort_values('AIC', ascending = True, inplace = True)\n",
    "results.reset_index(inplace = True)\n",
    "model_comparison = results[['model', 'AIC', 'AICc', 'BIC', 'neg_loglik']]\n",
    "\n",
    "fitted_models = results[['model', 'coef', 'sigma2']]"
   ]
  },
  {
   "cell_type": "code",
   "execution_count": 33,
   "metadata": {},
   "outputs": [
    {
     "data": {
      "text/html": [
       "<div>\n",
       "<style scoped>\n",
       "    .dataframe tbody tr th:only-of-type {\n",
       "        vertical-align: middle;\n",
       "    }\n",
       "\n",
       "    .dataframe tbody tr th {\n",
       "        vertical-align: top;\n",
       "    }\n",
       "\n",
       "    .dataframe thead th {\n",
       "        text-align: right;\n",
       "    }\n",
       "</style>\n",
       "<table border=\"1\" class=\"dataframe\">\n",
       "  <thead>\n",
       "    <tr style=\"text-align: right;\">\n",
       "      <th></th>\n",
       "      <th>model</th>\n",
       "      <th>AIC</th>\n",
       "      <th>AICc</th>\n",
       "      <th>BIC</th>\n",
       "      <th>neg_loglik</th>\n",
       "      <th>d</th>\n",
       "    </tr>\n",
       "  </thead>\n",
       "  <tbody>\n",
       "    <tr>\n",
       "      <th>0</th>\n",
       "      <td>(0, 1, 2, 3, 4, 5, 6)</td>\n",
       "      <td>7263.717611</td>\n",
       "      <td>7263.816990</td>\n",
       "      <td>7348.199042</td>\n",
       "      <td>3624.858805</td>\n",
       "      <td>0.000000</td>\n",
       "    </tr>\n",
       "    <tr>\n",
       "      <th>1</th>\n",
       "      <td>(0, 2, 3, 4, 5, 6)</td>\n",
       "      <td>7270.892307</td>\n",
       "      <td>7270.966775</td>\n",
       "      <td>7343.304962</td>\n",
       "      <td>3629.446153</td>\n",
       "      <td>7.174696</td>\n",
       "    </tr>\n",
       "    <tr>\n",
       "      <th>2</th>\n",
       "      <td>(0, 1, 2, 3, 5, 6)</td>\n",
       "      <td>7272.046014</td>\n",
       "      <td>7272.120482</td>\n",
       "      <td>7344.458669</td>\n",
       "      <td>3630.023007</td>\n",
       "      <td>8.328403</td>\n",
       "    </tr>\n",
       "    <tr>\n",
       "      <th>3</th>\n",
       "      <td>(0, 1, 2, 3, 4, 6)</td>\n",
       "      <td>7275.641804</td>\n",
       "      <td>7275.716272</td>\n",
       "      <td>7348.054459</td>\n",
       "      <td>3631.820902</td>\n",
       "      <td>11.924193</td>\n",
       "    </tr>\n",
       "    <tr>\n",
       "      <th>4</th>\n",
       "      <td>(0, 1, 3, 4, 5, 6)</td>\n",
       "      <td>7277.684523</td>\n",
       "      <td>7277.758991</td>\n",
       "      <td>7350.097178</td>\n",
       "      <td>3632.842262</td>\n",
       "      <td>13.966913</td>\n",
       "    </tr>\n",
       "    <tr>\n",
       "      <th>5</th>\n",
       "      <td>(1, 2, 3, 4, 5, 6)</td>\n",
       "      <td>7279.691723</td>\n",
       "      <td>7279.766191</td>\n",
       "      <td>7352.104378</td>\n",
       "      <td>3633.845861</td>\n",
       "      <td>15.974112</td>\n",
       "    </tr>\n",
       "    <tr>\n",
       "      <th>6</th>\n",
       "      <td>(0, 2, 3, 5, 6)</td>\n",
       "      <td>7280.415060</td>\n",
       "      <td>7280.468205</td>\n",
       "      <td>7340.758940</td>\n",
       "      <td>3635.207530</td>\n",
       "      <td>16.697450</td>\n",
       "    </tr>\n",
       "    <tr>\n",
       "      <th>7</th>\n",
       "      <td>(0, 1, 2, 3, 6)</td>\n",
       "      <td>7281.158384</td>\n",
       "      <td>7281.211528</td>\n",
       "      <td>7341.502263</td>\n",
       "      <td>3635.579192</td>\n",
       "      <td>17.440773</td>\n",
       "    </tr>\n",
       "    <tr>\n",
       "      <th>8</th>\n",
       "      <td>(0, 1, 3, 5, 6)</td>\n",
       "      <td>7281.425282</td>\n",
       "      <td>7281.478426</td>\n",
       "      <td>7341.769161</td>\n",
       "      <td>3635.712641</td>\n",
       "      <td>17.707671</td>\n",
       "    </tr>\n",
       "    <tr>\n",
       "      <th>9</th>\n",
       "      <td>(0, 2, 3, 4, 6)</td>\n",
       "      <td>7282.207360</td>\n",
       "      <td>7282.260505</td>\n",
       "      <td>7342.551240</td>\n",
       "      <td>3636.103680</td>\n",
       "      <td>18.489750</td>\n",
       "    </tr>\n",
       "  </tbody>\n",
       "</table>\n",
       "</div>"
      ],
      "text/plain": [
       "                   model          AIC         AICc          BIC   neg_loglik  \\\n",
       "0  (0, 1, 2, 3, 4, 5, 6)  7263.717611  7263.816990  7348.199042  3624.858805   \n",
       "1     (0, 2, 3, 4, 5, 6)  7270.892307  7270.966775  7343.304962  3629.446153   \n",
       "2     (0, 1, 2, 3, 5, 6)  7272.046014  7272.120482  7344.458669  3630.023007   \n",
       "3     (0, 1, 2, 3, 4, 6)  7275.641804  7275.716272  7348.054459  3631.820902   \n",
       "4     (0, 1, 3, 4, 5, 6)  7277.684523  7277.758991  7350.097178  3632.842262   \n",
       "5     (1, 2, 3, 4, 5, 6)  7279.691723  7279.766191  7352.104378  3633.845861   \n",
       "6        (0, 2, 3, 5, 6)  7280.415060  7280.468205  7340.758940  3635.207530   \n",
       "7        (0, 1, 2, 3, 6)  7281.158384  7281.211528  7341.502263  3635.579192   \n",
       "8        (0, 1, 3, 5, 6)  7281.425282  7281.478426  7341.769161  3635.712641   \n",
       "9        (0, 2, 3, 4, 6)  7282.207360  7282.260505  7342.551240  3636.103680   \n",
       "\n",
       "           d  \n",
       "0   0.000000  \n",
       "1   7.174696  \n",
       "2   8.328403  \n",
       "3  11.924193  \n",
       "4  13.966913  \n",
       "5  15.974112  \n",
       "6  16.697450  \n",
       "7  17.440773  \n",
       "8  17.707671  \n",
       "9  18.489750  "
      ]
     },
     "execution_count": 33,
     "metadata": {},
     "output_type": "execute_result"
    }
   ],
   "source": [
    "# Prints best results\n",
    "\n",
    "differences_wrt_minimum = model_comparison.AIC - model_comparison.AIC[0]\n",
    "model_comparison.insert(len(model_comparison.columns), 'd', differences_wrt_minimum)\n",
    "model_comparison[:10]"
   ]
  },
  {
   "cell_type": "code",
   "execution_count": 34,
   "metadata": {},
   "outputs": [
    {
     "data": {
      "text/plain": [
       "Index(['Unnamed: 0', 'RID', 'Hippocampus_volume', 'AGE', 'PTGENDER',\n",
       "       'PTEDUCAT', 'FDG'],\n",
       "      dtype='object')"
      ]
     },
     "execution_count": 34,
     "metadata": {},
     "output_type": "execute_result"
    }
   ],
   "source": [
    "features.columns"
   ]
  },
  {
   "cell_type": "markdown",
   "metadata": {},
   "source": [
    "<u>Observations:</u>\n",
    "\n",
    "The best combination of features to predict ADAS11 is \"Unnamed:0\", \"RID\", \"Hippocampus_volume\", \"AGE\", \"PTGENDER\", and \"PTEDUCAT\"."
   ]
  },
  {
   "cell_type": "markdown",
   "metadata": {},
   "source": [
    "<hr>\n",
    "\n",
    "__Exercise 7.__ Consider only the healtiest subjects for which diagnosis == NL and ADAS11 < 5. Compare the performance of the classifiers of Exercise 1 for discriminating this group from the group MCI."
   ]
  },
  {
   "cell_type": "code",
   "execution_count": null,
   "metadata": {},
   "outputs": [],
   "source": []
  },
  {
   "cell_type": "markdown",
   "metadata": {},
   "source": [
    "<u>Observations:</u>"
   ]
  },
  {
   "cell_type": "markdown",
   "metadata": {},
   "source": [
    "<hr>\n",
    "\n",
    "__Exercise 8.__ Is it true that a model with the lowest AIC is the best one? "
   ]
  },
  {
   "cell_type": "markdown",
   "metadata": {
    "collapsed": true
   },
   "source": [
    "It is not always the best one. We recall the general rule of thumb we cited in exercise 4:\n",
    "    \n",
    "> The rule of thumb for using AICc is when the ratio $\\frac{N}{N_{parameters}}$ is less than 40, and in general, AICc is always preferred to AIC.\n",
    "\n",
    "The lowest AIC might not correspond to the lowest AICc for instance. \n",
    "\n",
    "Furthermore, we may want to penalise some terms (such as the increase of the likelihood by the number of parameters used to fit the model). We would then use the Bayesian Information Criterion (BIC) as the penalty term is much larger for BIC than for AIC."
   ]
  },
  {
   "cell_type": "markdown",
   "metadata": {},
   "source": [
    "<hr>\n",
    "\n",
    "__Exercise 9.__ Explain the concept of bias-variance decomposition"
   ]
  },
  {
   "cell_type": "markdown",
   "metadata": {
    "collapsed": true
   },
   "source": [
    "The stability of a model with respect to the variation that is latent in the data consistently decreases as the model's complexity increases. This leads to a risk of overfitting, and therefore losing the generalization we want to yield from the model (i.e. high sensitivity to the training data will decrease the ability of the model to apply to unseen data (e.g. test)).\n",
    "\n",
    "As seen during the class:\n",
    "\n",
    "> This aspect is formalized in statistics as the __bias-variance trade-off__. To illustrate this concept we follow a derivation adapted from the book _Pattern Recognition and Machine Learning_ (C.M. Bishop, Springer, 2006).\n",
    "\n",
    "The bias corresponds to the difference between the average predictions over the possible datasets and our objective function. Meanwhile, the variance measures the variability in the predictions given the data from the possible datasets.\n",
    "\n",
    "Bias and Variance are two of the three elements that compose the loss of a model. We recall from the course: \n",
    "\n",
    "> $$\\textbf{Loss}  =  \\mathbf{Noise} + \\mathbf{Bias}^2 + \\mathbf{Variance},$$\n",
    "> \n",
    "> where,\n",
    "> \n",
    "> \\begin{align*}\n",
    "> \\mathbf{Noise}    &=  \\int_x Var(y | x) \\, p(x)dx\\\\\n",
    "> \\mathbf{Bias}^2   &= \\int_x (f(x) - \\mathbf{E}_\\mathcal{D}[\\hat{y\\,}])^2 \\, p(x)dx\\\\\n",
    "> \\mathbf{Variance} &=  \\int_x \\mathbf{E}_\\mathcal{D}[(\\mathbf{E}_\\mathcal{D}[\\hat{y\\,}] -\\hat{y\\,})^2] \\, p(x)dx\n",
    "> \\end{align*}\n",
    "\n",
    "As such, there is a trade-off to be had between the two (we can't do anything about noise):\n",
    "\n",
    "As our model compexity increases, we expect the bias to decrease (we are fitting the model more closely to the data) at the expense of the variance (as we lose some of the generalization power of the model). \n",
    "\n",
    "The goal of the trade-off is to find the minimum point achievable with regards to our model parameters where the mix bias+variance is minimized."
   ]
  },
  {
   "cell_type": "markdown",
   "metadata": {},
   "source": [
    "<hr>\n",
    "\n",
    "__Exercise 10.__ Generate synthetic data of 20 samples with a polynomial relationship of degree 3, and arbitrary noise. Train polynomial models of degree 1, 2, and 3, and 5. Compute AIC and BIC for these models. Comment the results. "
   ]
  },
  {
   "cell_type": "code",
   "execution_count": 35,
   "metadata": {},
   "outputs": [],
   "source": [
    "# Library Imports\n",
    "\n",
    "from sklearn.preprocessing import PolynomialFeatures"
   ]
  },
  {
   "cell_type": "code",
   "execution_count": 40,
   "metadata": {},
   "outputs": [],
   "source": [
    "# Global variable declaration\n",
    "\n",
    "x_min = -5\n",
    "x_max = 5\n",
    "N_samples = 20\n",
    "degrees = [1,2,3,5]"
   ]
  },
  {
   "cell_type": "code",
   "execution_count": 46,
   "metadata": {},
   "outputs": [],
   "source": [
    "# Function declaration\n",
    "\n",
    "def f(x):\n",
    "    return(np.sin(1*x))\n",
    "\n",
    "def sample_data_batch(x_min,x_max, N_samples):\n",
    "    ## The x-data is fixed (no variability here)\n",
    "    X = np.linspace(x_min,x_max,N_samples)\n",
    "    noise_level = 0.5\n",
    "    noise = noise_level * np.random.randn(N_samples)\n",
    "    return [X,f(X) + noise]\n",
    "\n",
    "def fit_poly(x,y,d):\n",
    "    \"\"\"\n",
    "    Fits a polynomial model\n",
    "    \"\"\"\n",
    "    w_ml = np.linalg.solve(x.T.dot(x),x.T.dot(y))\n",
    "    w_ml.reshape(1,(len(w_ml)))\n",
    "    sigma2_ml = np.mean((y-x.dot(w_ml.T))**2)\n",
    "    return w_ml, sigma2_ml"
   ]
  },
  {
   "cell_type": "code",
   "execution_count": 47,
   "metadata": {},
   "outputs": [],
   "source": [
    "# Data Generation\n",
    "\n",
    "x, y = sample_data_batch(x_min, x_max, N_samples)\n",
    "poly = PolynomialFeatures(3)\n",
    "x_poly = poly.fit_transform(x.reshape(-1,1))"
   ]
  },
  {
   "cell_type": "code",
   "execution_count": 56,
   "metadata": {},
   "outputs": [],
   "source": [
    "AIC = []\n",
    "BIC = []\n",
    "\n",
    "## Training and testing error for increasing polynomial degree\n",
    "for degree in degrees:\n",
    "    ## Model declaration\n",
    "    w_ml, sigma2_ml = fit_poly(x_poly, y, degree)\n",
    "    # compute the log-likelihhod\n",
    "    training_ll = Gaussian_loglik(x_poly, y, w_ml, sigma2_ml)\n",
    "    # store all the metrics\n",
    "    AIC.append(float(-2*training_ll + 2*N_samples))\n",
    "    BIC.append(float(-2*training_ll + 2*N_samples*np.log(len(y))))"
   ]
  },
  {
   "cell_type": "code",
   "execution_count": 57,
   "metadata": {},
   "outputs": [
    {
     "data": {
      "image/png": "[encoded data removed]",
      "text/plain": [
       "<Figure size 432x288 with 1 Axes>"
      ]
     },
     "metadata": {
      "needs_background": "light"
     },
     "output_type": "display_data"
    }
   ],
   "source": [
    "# Plots\n",
    "\n",
    "plt.plot(degrees, AIC, label = \"AIC\")\n",
    "plt.ylabel('Information Criteria')\n",
    "plt.plot(degrees, BIC, label = \"BIC\")\n",
    "plt.xlabel('polynomial degree')\n",
    "plt.legend()\n",
    "plt.show()"
   ]
  },
  {
   "cell_type": "markdown",
   "metadata": {},
   "source": [
    "<u>Observations:</u>\n",
    "\n",
    "We don't see any difference in information criterion for these results (which is not expected and should be further explored). It is very likely there is an error in the implementation but due to lack of time, this will not be solved here."
   ]
  },
  {
   "cell_type": "markdown",
   "metadata": {},
   "source": [
    "<hr>\n",
    "\n",
    "__Exercise 11.__ From Exercise 1 compute the probability that the average prediction accuracy of Logistic classifier is greater than 0.66."
   ]
  },
  {
   "cell_type": "code",
   "execution_count": 67,
   "metadata": {},
   "outputs": [],
   "source": [
    "# Library Import\n",
    "\n",
    "import seaborn as sns"
   ]
  },
  {
   "cell_type": "code",
   "execution_count": 71,
   "metadata": {},
   "outputs": [
    {
     "name": "stdout",
     "output_type": "stream",
     "text": [
      "Based on a bootstrapping approach, the probability that the average prediction accuracy of the Logistic Classifier is greater than 0.66 is: 85.5%\n"
     ]
    }
   ],
   "source": [
    "# Compute the probability via quantiles\n",
    "\n",
    "for i in range(1, 1000):\n",
    "    if np.quantile(accuracies_LR, i/1000)>= 0.66:\n",
    "        print(\"Based on a bootstrapping approach, the probability that \" +\n",
    "              \"the average prediction accuracy of the Logistic Classifier \" +\n",
    "              f\"is greater than 0.66 is: {100-i/10}%\")\n",
    "        break"
   ]
  },
  {
   "cell_type": "code",
   "execution_count": 69,
   "metadata": {},
   "outputs": [
    {
     "data": {
      "text/plain": [
       "Text(0.5, 1.0, 'Probability Density Function of the bootstrapped average accuracies for the logistic regression')"
      ]
     },
     "execution_count": 69,
     "metadata": {},
     "output_type": "execute_result"
    },
    {
     "data": {
      "image/png": "[encoded data removed]",
      "text/plain": [
       "<Figure size 432x288 with 1 Axes>"
      ]
     },
     "metadata": {
      "needs_background": "light"
     },
     "output_type": "display_data"
    }
   ],
   "source": [
    "sns.kdeplot(accuracies_LR).set_title(\n",
    "    \"Probability Density Function of the bootstrapped average accuracies for the logistic regression\"\n",
    ")"
   ]
  },
  {
   "cell_type": "markdown",
   "metadata": {},
   "source": [
    "<u>Observations:</u>\n",
    "\n",
    "visually, we seem to confirm our approximation that 85.5% of our average prediction will be above 0.66."
   ]
  },
  {
   "cell_type": "markdown",
   "metadata": {},
   "source": [
    "<hr>\n",
    "\n",
    "__Exercise 12.__ Explain when the use of the area under the curve (AUC) can lead to biased estimation of the accuracy."
   ]
  },
  {
   "cell_type": "markdown",
   "metadata": {
    "collapsed": true
   },
   "source": [
    "The use of the AUC can lead to a biased estimation of the accuracy when the dataset is imbalanced (between classes for instance) as accuracy may not capture any concept of precision or recall. In such a case, the use of a PR curve might be prefered over the AUC.\n",
    "\n",
    "We recall from the course:\n",
    "\n",
    "> The problem of unbalanced data is critical when assessing a classification metric. We recall that the accuracy is defined as: \n",
    ">\n",
    "> $$ ACC = \\frac{\\mbox{True Positives} + \\mbox{True negatives}}{\\mbox{Total sample size}}.$$\n",
    ">\n",
    "> If there is unbalance in the data, for example the positive class represents 90% of the population, a classifier predicting constantly positive will lead to an accuracy of $.9$ without however correctly predicting any of the samples of the negative class. This may represent a serious issue, for example in _fraud detection_ problems, where we are interested in predicting classes which are very rare (the frauds).\n"
   ]
  }
 ],
 "metadata": {
  "anaconda-cloud": {},
  "kernelspec": {
   "display_name": "Python 3",
   "language": "python",
   "name": "python3"
  },
  "language_info": {
   "codemirror_mode": {
    "name": "ipython",
    "version": 3
   },
   "file_extension": ".py",
   "mimetype": "text/x-python",
   "name": "python",
   "nbconvert_exporter": "python",
   "pygments_lexer": "ipython3",
   "version": "3.8.5"
  }
 },
 "nbformat": 4,
 "nbformat_minor": 1
}
