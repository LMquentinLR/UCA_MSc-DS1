{
 "cells": [
  {
   "cell_type": "markdown",
   "metadata": {
    "id": "vQ57zS1Q-d6z"
   },
   "source": [
    "\n",
    "# TP autoencoder\n",
    "\n",
    "Diane LINGRAND\n",
    "\n",
    "diane.lingrand@univ-cotedazur.fr "
   ]
  },
  {
   "cell_type": "code",
   "execution_count": 1,
   "metadata": {
    "colab": {
     "base_uri": "https://localhost:8080/"
    },
    "id": "kKVs4Hmc-dU0",
    "outputId": "d0ea8f9c-f640-4816-bcc8-f04737c5a2b4"
   },
   "outputs": [
    {
     "name": "stdout",
     "output_type": "stream",
     "text": [
      "2.4.1\n"
     ]
    }
   ],
   "source": [
    "import tensorflow\n",
    "print(tensorflow.__version__)\n",
    "import tensorflow.keras"
   ]
  },
  {
   "cell_type": "code",
   "execution_count": 2,
   "metadata": {
    "id": "SQ4ro1KrBU7K"
   },
   "outputs": [],
   "source": [
    "from tensorflow.keras.preprocessing import image\n",
    "from tensorflow.keras.models import Model\n",
    "from tensorflow.keras.layers import Input, Dense, GlobalAveragePooling2D, Conv2D, MaxPooling2D, UpSampling2D, Lambda\n",
    "from tensorflow.keras.layers import Dropout\n",
    "from tensorflow.keras.datasets import mnist\n",
    "\n",
    "from tensorflow.keras.callbacks import EarlyStopping\n",
    "import numpy as np\n",
    "import glob\n",
    "#!pip install tqdm\n",
    "from tqdm import tqdm\n",
    "import random\n",
    "from matplotlib import pyplot as plt"
   ]
  },
  {
   "cell_type": "markdown",
   "metadata": {},
   "source": [
    "# Part I: playing with the MNIST dataset"
   ]
  },
  {
   "cell_type": "code",
   "execution_count": 4,
   "metadata": {},
   "outputs": [
    {
     "name": "stdout",
     "output_type": "stream",
     "text": [
      "28 784\n"
     ]
    }
   ],
   "source": [
    "# loading the MNIST dataset\n",
    "(x_train, y_train), (x_test, y_test) = mnist.load_data()\n",
    "# preprocessings\n",
    "x_train = x_train.astype('float32') / 255. # 2D images\n",
    "x_test = x_test.astype('float32') / 255.\n",
    "xTrain = x_train.reshape((len(x_train), np.prod(x_train.shape[1:]))) # 1D images\n",
    "xTest = x_test.reshape((len(x_test), np.prod(x_test.shape[1:])))\n",
    "\n",
    "size1 = len(xTrain[0])\n",
    "size = len(x_train[0])\n",
    "print(size,size1)"
   ]
  },
  {
   "cell_type": "markdown",
   "metadata": {},
   "source": [
    "## a first simple autoencoder"
   ]
  },
  {
   "cell_type": "code",
   "execution_count": null,
   "metadata": {},
   "outputs": [],
   "source": [
    "inputImage = Input(shape=(size1,))\n",
    "encoded = Dense(size, activation='relu')(inputImage)\n",
    "decoded = Dense(size1, activation='sigmoid')(encoded)\n",
    "\n",
    "autoencoder = Model(inputImage, decoded)\n",
    "autoencoder.compile(optimizer='adam', loss='mse') \n",
    "autoencoder.summary()"
   ]
  },
  {
   "cell_type": "code",
   "execution_count": null,
   "metadata": {},
   "outputs": [],
   "source": [
    "### learning the autoencoder\n",
    "from tensorflow.keras.callbacks import EarlyStopping\n",
    "ourCallback = EarlyStopping(monitor='val_loss', min_delta=0.0001, patience=10, verbose=0, mode='auto', baseline=None, restore_best_weights=True)\n",
    "\n",
    "autoencoder.fit(xTrain, xTrain, epochs=100, batch_size=128, validation_split=0.2, shuffle=True,callbacks=[ourCallback])"
   ]
  },
  {
   "cell_type": "code",
   "execution_count": null,
   "metadata": {},
   "outputs": [],
   "source": [
    "# scores\n",
    "print(\"train score = \", autoencoder.evaluate(xTrain,xTrain))\n",
    "print(\"test score = \", autoencoder.evaluate(xTest,xTest))"
   ]
  },
  {
   "cell_type": "code",
   "execution_count": null,
   "metadata": {},
   "outputs": [],
   "source": [
    "xTrainPredicted = autoencoder.predict(xTrain)"
   ]
  },
  {
   "cell_type": "code",
   "execution_count": null,
   "metadata": {},
   "outputs": [],
   "source": [
    "# let's look at the images\n",
    "index = random.randint(0,len(xTrain)-1)\n",
    "print(\"image number: \", index)\n",
    "im1 = xTrain[index]\n",
    "im1 = im1.reshape((size,size))\n",
    "im2 = xTrainPredicted[index]\n",
    "print(im2.shape)\n",
    "im2 = im2.reshape((size,size))\n",
    "print(im2.shape)\n",
    "fig = plt.figure()\n",
    "ax = fig.add_subplot(1, 2, 1)\n",
    "plt.imshow(im1, cmap='gray')\n",
    "ax = fig.add_subplot(1, 2, 2)\n",
    "plt.imshow(im2, cmap='gray')\n",
    "plt.show()"
   ]
  },
  {
   "cell_type": "code",
   "execution_count": null,
   "metadata": {},
   "outputs": [],
   "source": [
    "#more images (could also be done on the test dataset)\n",
    "index = random.randint(0,len(xTrain)-1)\n",
    "print(\"image number: \", index)\n",
    "\n",
    "fig = plt.figure(figsize=(20, 8))\n",
    "for i in range(1,11):\n",
    "    index = random.randint(0,len(xTrain)-1)\n",
    "    im1 = xTrain[index]\n",
    "    im1 = im1.reshape((size,size))\n",
    "    im2 = xTrainPredicted[index]\n",
    "    im2 = im2.reshape((size,size))\n",
    "    ax = fig.add_subplot(4, 10, i)\n",
    "    ax.get_xaxis().set_visible(False)\n",
    "    ax.get_yaxis().set_visible(False)\n",
    "    plt.imshow(im1, cmap='gray')\n",
    "    ax = fig.add_subplot(4, 10, i+10)\n",
    "    ax.get_xaxis().set_visible(False)\n",
    "    ax.get_yaxis().set_visible(False)\n",
    "    plt.imshow(im2, cmap='gray')\n",
    "    \n",
    "    index = random.randint(0,len(xTrain)-1)\n",
    "    im1 = xTrain[index]\n",
    "    im1 = im1.reshape((size,size))\n",
    "    im2 = xTrainPredicted[index]\n",
    "    im2 = im2.reshape((size,size))\n",
    "    ax = fig.add_subplot(4, 10, i+20)\n",
    "    ax.get_xaxis().set_visible(False)\n",
    "    ax.get_yaxis().set_visible(False)\n",
    "    plt.imshow(im1, cmap='gray')\n",
    "    ax = fig.add_subplot(4, 10, i+30)\n",
    "    ax.get_xaxis().set_visible(False)\n",
    "    ax.get_yaxis().set_visible(False)\n",
    "    plt.imshow(im2, cmap='gray')\n",
    "plt.show()"
   ]
  },
  {
   "cell_type": "markdown",
   "metadata": {},
   "source": [
    "## a more complex autoencoder"
   ]
  },
  {
   "cell_type": "code",
   "execution_count": null,
   "metadata": {},
   "outputs": [],
   "source": [
    "inputImage = Input(shape=(size1,))\n",
    "encoded = Dense(500, activation='relu')(inputImage)\n",
    "encoded = Dense(250, activation='relu')(encoded)\n",
    "encoded = Dense(28, activation='relu')(encoded)\n",
    "decoded = Dense(250, activation='relu')(encoded)\n",
    "decoded = Dense(500, activation='relu')(decoded)\n",
    "decoded = Dense(size1, activation='sigmoid')(decoded)\n",
    "\n",
    "autoencoder = Model(inputImage, decoded)\n",
    "autoencoder.compile(optimizer='adam', loss='mse') \n",
    "autoencoder.summary()"
   ]
  },
  {
   "cell_type": "markdown",
   "metadata": {},
   "source": [
    "## a convolutional autoencoder"
   ]
  },
  {
   "cell_type": "code",
   "execution_count": null,
   "metadata": {},
   "outputs": [],
   "source": [
    "inputImage = Input(shape=(size,size,1))\n",
    "encoded = Conv2D(32, (3, 3), activation='relu', padding='same')(inputImage)\n",
    "encoded = MaxPooling2D((2, 2), padding='same')(encoded)\n",
    "encoded = Conv2D(16, (3, 3), activation='relu', padding='same')(encoded)\n",
    "encoded = MaxPooling2D((2, 2), padding='same')(encoded)\n",
    "decoded = UpSampling2D((2,2))(encoded)\n",
    "decoded = Conv2D(16, (3, 3), activation='relu', padding='same')(decoded)\n",
    "decoded = UpSampling2D((2, 2))(decoded)\n",
    "decoded = Conv2D(32, (3, 3), activation='relu',padding='same')(decoded)\n",
    "decoded = Conv2D(1, (3,3), activation='relu',padding='same')(decoded)\n",
    "autoencoder = Model(inputImage,decoded)\n",
    "autoencoder.compile(optimizer='adam', loss='mse')"
   ]
  },
  {
   "cell_type": "code",
   "execution_count": null,
   "metadata": {},
   "outputs": [],
   "source": [
    "autoencoder.summary()"
   ]
  },
  {
   "cell_type": "markdown",
   "metadata": {},
   "source": [
    "What is the dimension of the bottleneck ? Learn, test, and observe the differences.\n",
    "Don't forget to put (28x28) images in input."
   ]
  },
  {
   "cell_type": "code",
   "execution_count": null,
   "metadata": {},
   "outputs": [],
   "source": [
    "from tensorflow.keras.callbacks import EarlyStopping\n",
    "ourCallback = EarlyStopping(monitor='val_loss', min_delta=0.0001, patience=10, verbose=0, mode='auto', baseline=None, restore_best_weights=True)\n",
    "\n",
    "autoencoder.fit(x_train, x_train, epochs=5, batch_size=128, validation_split=0.2, shuffle=True,callbacks=[ourCallback])"
   ]
  },
  {
   "cell_type": "markdown",
   "metadata": {},
   "source": [
    "## separate encoding and decoding"
   ]
  },
  {
   "cell_type": "code",
   "execution_count": null,
   "metadata": {},
   "outputs": [],
   "source": [
    "# encoder part\n",
    "inputImage = Input(shape=(size1,))\n",
    "encoded = Dense(500, activation='relu')(inputImage)\n",
    "encoded = Dense(250, activation='relu')(encoded)\n",
    "encoded = Dense(28, activation='relu')(encoded)\n",
    "# decoder part\n",
    "decoded = Dense(250, activation='relu')(encoded)\n",
    "decoded = Dense(500, activation='relu')(decoded)\n",
    "decoded = Dense(size1, activation='sigmoid')(decoded)\n",
    "\n",
    "# autoencoder model that will be learned\n",
    "autoencoder = Model(inputImage, decoded)\n",
    "autoencoder.compile(optimizer='adam', loss='mse') \n",
    "autoencoder.fit(xTrain, xTrain, epochs=100, batch_size=128, validation_split=0.2, shuffle=True,callbacks=[ourCallback])\n",
    "autoencoder.summary()\n",
    "\n",
    "#encoder model: weigths are already learned\n",
    "encoderModel = Model(inputImage, encoded)\n",
    "encoderModel.summary()\n",
    "# decoder model (adapt this code to your network): weigths are already learned\n",
    "inputLatent = Input(shape=(28,)) \n",
    "decoder = autoencoder.layers[-3](inputLatent)\n",
    "decoder = autoencoder.layers[-2](decoder)\n",
    "decoder = autoencoder.layers[-1](decoder)\n",
    "decoderModel = Model(inputLatent,decoder)\n",
    "decoderModel.summary()"
   ]
  },
  {
   "cell_type": "code",
   "execution_count": null,
   "metadata": {},
   "outputs": [],
   "source": [
    "#For a single data:\n",
    "index = random.randint(0,len(xTest)-2)\n",
    "print(\"image number: \", index)\n",
    "im = xTest[index]\n",
    "\n",
    "# encoding of an image\n",
    "latentData = encoderModel.predict(np.array([im,]))\n",
    "\n",
    "print(\"shape = \",latentData.shape)\n",
    "\n",
    "decodedData = decoderModel.predict(latentData)\n",
    "print(\"shape2 = \", decodedData.shape)\n"
   ]
  },
  {
   "cell_type": "code",
   "execution_count": null,
   "metadata": {},
   "outputs": [],
   "source": [
    "#display\n",
    "fig = plt.figure()\n",
    "ax = fig.add_subplot(1,2,1)\n",
    "plt.imshow(im.reshape(28,28), cmap='gray')\n",
    "ax = fig.add_subplot(1,2,2)\n",
    "\n",
    "plt.imshow(decodedData[0].reshape(28,28), cmap='gray')\n",
    "plt.show()"
   ]
  },
  {
   "cell_type": "markdown",
   "metadata": {},
   "source": [
    "# Part II: playing with the animals10 dataset"
   ]
  },
  {
   "cell_type": "code",
   "execution_count": null,
   "metadata": {
    "colab": {
     "base_uri": "https://localhost:8080/"
    },
    "id": "TM0OJUHB-1zm",
    "outputId": "842bb6a1-f13c-4cd0-aa1a-d0f07721b685"
   },
   "outputs": [],
   "source": [
    "# download the dataset\n",
    "from google.colab import drive\n",
    "drive.mount('/content/drive/')\n",
    "datasetRoot='/content/drive/My Drive/DLS2020/raw-img/'"
   ]
  },
  {
   "cell_type": "code",
   "execution_count": null,
   "metadata": {},
   "outputs": [],
   "source": [
    "# or work localy using already downloaded dataset\n",
    "# modify to your local directory\n",
    "datasetRoot='/home/lingrand/Ens/MachineLearning/animals/raw-img/'"
   ]
  },
  {
   "cell_type": "code",
   "execution_count": null,
   "metadata": {
    "colab": {
     "base_uri": "https://localhost:8080/"
    },
    "id": "NU2rwIBhBTk0",
    "outputId": "7ad25fb9-3111-48e9-e14c-c63aba83045c"
   },
   "outputs": [],
   "source": [
    "\n",
    "classes = ['mucca', 'elefante', 'gatto', 'cavallo', 'scoiattolo', 'ragno', 'pecora', 'farfalla', 'gallina', 'cane']\n",
    "#training data\n",
    "\n",
    "rootTrain = datasetRoot+'train/'\n",
    "size = 66 #112 #224 #try different image size reductions\n",
    "size2 = size*size\n",
    "nbImages = 0\n",
    "for cl in classes:\n",
    "    nbImages += len(glob.glob(rootTrain+cl+'/*'))\n",
    "xTrain = xTrain = np.empty(shape=(nbImages,size2))\n",
    "print(\"total number of images: \",len(xTrain))\n",
    "i = 0\n",
    "for cl in tqdm(classes):\n",
    "    listImages = glob.glob(rootTrain+cl+'/*')\n",
    "    print(\"class: \", cl, \" : \", len(listImages)) \n",
    "    for pathImg in tqdm(listImages): \n",
    "        img = image.load_img(pathImg, target_size=(size, size),color_mode='grayscale')\n",
    "        im = image.img_to_array(img)\n",
    "        im = np.reshape(im,size2)\n",
    "        im /= 255.0\n",
    "        xTrain[i, :] = im \n",
    "        i += 1\n",
    "print(xTrain.shape)\n",
    "\n"
   ]
  },
  {
   "cell_type": "code",
   "execution_count": null,
   "metadata": {},
   "outputs": [],
   "source": [
    "print(size2)"
   ]
  },
  {
   "cell_type": "markdown",
   "metadata": {
    "id": "dF3I9QDNCK_y"
   },
   "source": [
    "## Let us build an autoencoder"
   ]
  },
  {
   "cell_type": "code",
   "execution_count": null,
   "metadata": {
    "colab": {
     "base_uri": "https://localhost:8080/",
     "height": 312
    },
    "id": "uqgiav0HCYBz",
    "outputId": "4b53bd84-4ed0-4ab1-f352-86523d01ed3f"
   },
   "outputs": [],
   "source": [
    "\n",
    "inputImage = Input(shape=(size2,))\n",
    "encoded = Dense(4000, activation='relu')(inputImage)\n",
    "encoded = Dense(2000, activation='relu')(encoded)\n",
    "\n",
    "decoded = Dense(4000, activation='relu')(encoded)\n",
    "decoded = Dense(size2, activation='sigmoid')(decoded)\n",
    "\n",
    "autoencoder = Model(inputImage, decoded)\n",
    "autoencoder.compile(optimizer='adam', loss='mse') \n",
    "print(autoencoder.summary())"
   ]
  },
  {
   "cell_type": "code",
   "execution_count": null,
   "metadata": {},
   "outputs": [],
   "source": [
    "from tensorflow.keras.callbacks import EarlyStopping\n",
    "ourCallback = EarlyStopping(monitor='val_loss', min_delta=0.0001, patience=10, verbose=0, mode='auto', baseline=None, restore_best_weights=True)\n"
   ]
  },
  {
   "cell_type": "code",
   "execution_count": null,
   "metadata": {
    "colab": {
     "base_uri": "https://localhost:8080/",
     "height": 1000
    },
    "id": "hYGYQ0NTDqjZ",
    "outputId": "dc4fcc91-451a-4655-a176-b9aad3239c16",
    "scrolled": false
   },
   "outputs": [],
   "source": [
    "#learning\n",
    "autoencoder.fit(xTrain, xTrain, epochs=100,batch_size=256, validation_split=0.2, shuffle=True,callbacks=[ourCallback])"
   ]
  },
  {
   "cell_type": "code",
   "execution_count": null,
   "metadata": {},
   "outputs": [],
   "source": [
    "print(\"score = \", autoencoder.evaluate(xTrain,xTrain))"
   ]
  },
  {
   "cell_type": "code",
   "execution_count": null,
   "metadata": {
    "id": "UstNKM31yrar"
   },
   "outputs": [],
   "source": [
    "# predictions\n",
    "xTrainPredicted = autoencoder.predict(xTrain)\n"
   ]
  },
  {
   "cell_type": "code",
   "execution_count": null,
   "metadata": {
    "colab": {
     "base_uri": "https://localhost:8080/",
     "height": 571
    },
    "id": "-CnvnYqqy0nz",
    "outputId": "9a8f5ada-0db3-4ea0-ba42-cc5e78795c43",
    "scrolled": true
   },
   "outputs": [],
   "source": [
    "# let's look at the differences\n",
    "\n",
    "index = random.randint(0,len(xTrain)-1)\n",
    "print(\"image number: \", index)\n",
    "im1 = xTrain[index]\n",
    "im1 = im1.reshape((size,size))\n",
    "im2 = xTrainPredicted[index]\n",
    "print(im2.shape)\n",
    "im2 = im2.reshape((size,size))\n",
    "print(im2.shape)\n",
    "fig = plt.figure()\n",
    "ax = fig.add_subplot(1, 2, 1)\n",
    "plt.imshow(im1, cmap='gray')\n",
    "ax = fig.add_subplot(1, 2, 2)\n",
    "plt.imshow(im2, cmap='gray')\n",
    "plt.show()"
   ]
  },
  {
   "cell_type": "markdown",
   "metadata": {},
   "source": [
    "Try also to plot more images."
   ]
  },
  {
   "cell_type": "markdown",
   "metadata": {
    "id": "xumQI6rW0mKy"
   },
   "source": [
    "## From dense to convolutional layers\n",
    "Change the Dense layers to Conv2D layers and add Pooling layers. "
   ]
  },
  {
   "cell_type": "code",
   "execution_count": null,
   "metadata": {},
   "outputs": [],
   "source": [
    "# prepare the data\n",
    "xTrain = xTrain.reshape(nbImages,size,size)"
   ]
  },
  {
   "cell_type": "code",
   "execution_count": null,
   "metadata": {},
   "outputs": [],
   "source": [
    "print(xTrain.shape)"
   ]
  },
  {
   "cell_type": "code",
   "execution_count": null,
   "metadata": {},
   "outputs": [],
   "source": [
    "# your work is to try different architectures in order to find the best reconstruction / reduction of latent representation\n",
    "#  encoder part\n",
    "size=66\n",
    "inputImage = tensorflow.keras.Input(shape=(size, size, 1))\n",
    "encoded = Conv2D(2, (3, 3), activation='relu', padding='same')(inputImage)\n",
    "encoded = MaxPooling2D((2, 2), padding='same')(encoded)\n",
    "encoded = Conv2D(2, (3, 3), activation='relu', padding='same')(encoded)\n",
    "encoded = MaxPooling2D((2, 2), padding='valid')(encoded)\n",
    "\n",
    "#  decoding part\n",
    "decoded = Conv2D(2, (3, 3), activation='relu', padding='same')(encoded)\n",
    "decoded = UpSampling2D((2, 2))(decoded)\n",
    "decoded = Conv2D(2, (3, 3), activation='relu', padding='same')(decoded)\n",
    "decoded = UpSampling2D((2, 2))(decoded)\n",
    "decoded = Conv2D(1, (3, 3), activation='sigmoid', padding='same')(decoded)\n",
    "\n",
    "autoencoder = Model(inputImage, decoded)\n",
    "autoencoder.compile(optimizer='adam', loss='mse') \n",
    "autoencoder.summary()"
   ]
  },
  {
   "cell_type": "code",
   "execution_count": null,
   "metadata": {},
   "outputs": [],
   "source": [
    "# compile, run, test, ... as in previous section\n",
    "autoencoder.fit(xTrain, xTrain, epochs=100,batch_size=256, validation_split=0.2, shuffle=True,callbacks=[ourCallback])"
   ]
  },
  {
   "cell_type": "code",
   "execution_count": null,
   "metadata": {},
   "outputs": [],
   "source": [
    "print(\"score = \", autoencoder.evaluate(xTrain,xTrain))\n",
    "xTrainPredictedConv = autoencoder.predict(xTrain)"
   ]
  },
  {
   "cell_type": "code",
   "execution_count": null,
   "metadata": {},
   "outputs": [],
   "source": [
    "# let's look at the differences\n",
    "\n",
    "index = random.randint(0,len(xTrain)-1)\n",
    "print(\"image number: \", index)\n",
    "im1 = xTrain[index]\n",
    "im2 = xTrainPredicted[index]\n",
    "im2 = im2.reshape((size,size))\n",
    "im3 = xTrainPredictedConv[index]\n",
    "print(im3.shape)\n",
    "fig = plt.figure()\n",
    "ax = fig.add_subplot(1, 3, 1)\n",
    "plt.imshow(im1, cmap='gray')\n",
    "ax = fig.add_subplot(1, 3, 2)\n",
    "plt.imshow(im2, cmap='gray')\n",
    "ax = fig.add_subplot(1, 3, 3)\n",
    "plt.imshow(im3[:,:,0], cmap='gray')\n",
    "plt.show()"
   ]
  },
  {
   "cell_type": "markdown",
   "metadata": {},
   "source": [
    "## Perturbation on the latent representation"
   ]
  },
  {
   "cell_type": "markdown",
   "metadata": {},
   "source": [
    "In this section, we will perturb the latent representation before decoding. Perturbations will be represented as additive noise. We will also explore the latent space by searching for latent vectors in the neighbourhood of some latent representation of training samples and see how the decoding representation looks like."
   ]
  },
  {
   "cell_type": "code",
   "execution_count": null,
   "metadata": {},
   "outputs": [],
   "source": [
    "# encoder model \n",
    "encoderModel = Model(inputImage, encoded)\n",
    "# decoder model (adapt this code to your network)\n",
    "inputLatent = Input(shape=(33,33,2)) # to adapt to your network\n",
    "decoder = autoencoder.layers[-3](inputLatent)\n",
    "decoder = autoencoder.layers[-2](decoder)\n",
    "decoder = autoencoder.layers[-1](decoder)\n",
    "decoderModel = Model(inputLatent,decoder)"
   ]
  },
  {
   "cell_type": "code",
   "execution_count": null,
   "metadata": {},
   "outputs": [],
   "source": [
    "# ATTENTION: à adapter à votre réseau\n",
    "index = random.randint(0,len(xTrain)-2)\n",
    "print(\"image number: \", index)\n",
    "im1 = xTrain[index]\n",
    "jm1 = xTrain[index+1]\n",
    "# encoding of an image\n",
    "latentData1 = encoderModel.predict(np.array([im1,]))\n",
    "latentData2 = encoderModel.predict(np.array([jm1,]))\n",
    "# perturbation on the latent representation (you have to try different values/distributions for epsilon)\n",
    "epsilon = 0.1\n",
    "# first idea: add noise to the latent representation\n",
    "#latentData += np.random.uniform(-epsilon, epsilon, size=(1,33,33,16))\n",
    "print(\"shape = \",latentData.shape)\n",
    "# second idea : use the mean from 2 latent representations\n",
    "# decoding of the latent representation\n",
    "latentData = 0.5*(latentData1+latentData2)\n",
    "decodedData = decoderModel.predict(latentData)\n",
    "print(\"shape2 = \", decodedData.shape)\n",
    "#display\n",
    "fig = plt.figure()\n",
    "ax = fig.add_subplot(1, 3, 1)\n",
    "plt.imshow(im1, cmap='gray')\n",
    "ax = fig.add_subplot(1,3,2)\n",
    "plt.imshow(jm1, cmap='gray')\n",
    "ax = fig.add_subplot(1, 3, 3)\n",
    "plt.imshow(decodedData[0,:,:,0], cmap='gray')\n",
    "plt.show()"
   ]
  },
  {
   "cell_type": "markdown",
   "metadata": {},
   "source": [
    "# Part III: using compact representation for classification algorithm"
   ]
  },
  {
   "cell_type": "markdown",
   "metadata": {},
   "source": [
    "## Let's learn first an autoencoder"
   ]
  },
  {
   "cell_type": "code",
   "execution_count": null,
   "metadata": {},
   "outputs": [],
   "source": [
    "# encoder part\n",
    "inputImage = Input(shape=(size1,))\n",
    "encoded = Dense(500, activation='relu')(inputImage)\n",
    "encoded = Dense(250, activation='relu')(encoded)\n",
    "encoded = Dense(28, activation='relu')(encoded)\n",
    "# decoder part\n",
    "decoded = Dense(250, activation='relu')(encoded)\n",
    "decoded = Dense(500, activation='relu')(decoded)\n",
    "decoded = Dense(size1, activation='sigmoid')(decoded)\n",
    "\n",
    "# autoencoder model that will be learned\n",
    "autoencoder = Model(inputImage, decoded)\n",
    "autoencoder.compile(optimizer='adam', loss='mse') \n",
    "autoencoder.fit(xTrain, xTrain, epochs=100, batch_size=128, validation_split=0.2, shuffle=True,callbacks=[ourCallback])\n",
    "autoencoder.summary()\n",
    "\n",
    "#encoder model: weigths are already learned\n",
    "encoderModel = Model(inputImage, encoded)\n",
    "encoderModel.summary()\n",
    "# decoder model (adapt this code to your network): weigths are already learned\n",
    "inputLatent = Input(shape=(28,)) \n",
    "decoder = autoencoder.layers[-3](inputLatent)\n",
    "decoder = autoencoder.layers[-2](decoder)\n",
    "decoder = autoencoder.layers[-1](decoder)\n",
    "decoderModel = Model(inputLatent,decoder)\n",
    "decoderModel.summary()"
   ]
  },
  {
   "cell_type": "code",
   "execution_count": null,
   "metadata": {},
   "outputs": [],
   "source": [
    "# We need to compute the latent representation of the whole dataset\n",
    "latentXtrain = encoderModel.predict(xTrain)\n",
    "latentXtest = encoderModel.predict(xTest)"
   ]
  },
  {
   "cell_type": "markdown",
   "metadata": {},
   "source": [
    "## Now ready for the classification"
   ]
  },
  {
   "cell_type": "code",
   "execution_count": null,
   "metadata": {},
   "outputs": [],
   "source": [
    "# any classification algorithm: eg SVM\n",
    "classif = SCV(C=1.0, kernel=\"linear\")\n",
    "SCV.fit(latentXtrain, y_train)"
   ]
  },
  {
   "cell_type": "markdown",
   "metadata": {},
   "source": [
    "# Part IV: Variational Autoencoder (VAE)\n",
    "## Let's start again with the MNIST dataset\n",
    "We assume the distribution of latent data to be gaussian: 2 parameters: mu and sigma (or log(sigma))"
   ]
  },
  {
   "cell_type": "code",
   "execution_count": 202,
   "metadata": {},
   "outputs": [],
   "source": [
    "## ENCODER PART\n",
    "#Encoder starting at 784, one hidden layer with 256 and latent dimension dimLatent\n",
    "dimLatent = 28\n",
    "inputImage = Input(shape=(size1,))\n",
    "encoded = Dense(256, activation='relu')(inputImage)\n",
    "# this is the new part\n",
    "zMu = Dense(dimLatent)(encoded)\n",
    "zLogSigma = Dense(dimLatent)(encoded)"
   ]
  },
  {
   "cell_type": "code",
   "execution_count": 203,
   "metadata": {},
   "outputs": [],
   "source": [
    "## SAMPLE GENERATION PART\n",
    "from tensorflow.keras import backend as bk\n",
    "\n",
    "def sampling(args):\n",
    "    z_mean, z_log_sigma = args\n",
    "    epsilon = bk.random_normal(shape=(bk.shape(z_mean)[0], dimLatent), mean=0.0, stddev=0.1)\n",
    "    # z = mu + sigma * random epsilon\n",
    "    return z_mean + bk.exp(z_log_sigma) * epsilon"
   ]
  },
  {
   "cell_type": "markdown",
   "metadata": {},
   "source": [
    "We will use a <a href=\"https://keras.io/api/layers/core_layers/lambda/\">Lambda</a> layer for wrapping the sampling function to a keras layer."
   ]
  },
  {
   "cell_type": "code",
   "execution_count": 204,
   "metadata": {},
   "outputs": [],
   "source": [
    "z = Lambda(sampling)([zMu, zLogSigma])"
   ]
  },
  {
   "cell_type": "code",
   "execution_count": 205,
   "metadata": {},
   "outputs": [],
   "source": [
    "# Create encoder model\n",
    "encoder = Model(inputImage, [zMu, zLogSigma, z]) #, name='encoder')\n"
   ]
  },
  {
   "cell_type": "code",
   "execution_count": 206,
   "metadata": {},
   "outputs": [],
   "source": [
    "## DECODER PART and DECODER MODEL\n",
    "latent = Input(shape=(dimLatent,))#, name='z_sampling')\n",
    "decoded = Dense(256, activation='relu')(latent)\n",
    "decoded = Dense(size1, activation='sigmoid')(decoded)\n",
    "decoder = Model(latent, decoded) #, name='decoder')\n"
   ]
  },
  {
   "cell_type": "code",
   "execution_count": 207,
   "metadata": {},
   "outputs": [],
   "source": [
    "## THE WHOLE VAE that will be trained\n",
    "# for using only z in the latent space, we ask for the component 2 of [zMu, zLogSigma, z]\n",
    "outputImage = decoder(encoder(inputImage)[2])\n",
    "vae = Model(inputImage, outputImage)\n"
   ]
  },
  {
   "cell_type": "code",
   "execution_count": 208,
   "metadata": {},
   "outputs": [
    {
     "name": "stdout",
     "output_type": "stream",
     "text": [
      "KerasTensor(type_spec=TensorSpec(shape=(None,), dtype=tf.float32, name=None), name='tf.math.multiply_6/Mul:0', description=\"created by layer 'tf.math.multiply_6'\")\n"
     ]
    }
   ],
   "source": [
    "from tensorflow.keras.losses import binary_crossentropy\n",
    "## Loss function is composed of 2 terms:\n",
    "# 1 - reconstruction loss\n",
    "reconstruction_loss = binary_crossentropy(inputImage, outputImage)\n",
    "reconstruction_loss *= size1\n",
    "print(reconstruction_loss)\n",
    "# 2 - Kullback-Leibner loss\n",
    "kl_loss = 1 + zLogSigma - bk.square(zMu) - bk.exp(zLogSigma)\n",
    "kl_loss = bk.sum(kl_loss, axis=-1)\n",
    "kl_loss *= -0.5\n",
    "# vae loss\n",
    "vae_loss = bk.mean(reconstruction_loss + kl_loss)\n",
    "vae.add_loss(vae_loss)\n",
    "vae.compile(optimizer='adam')\n"
   ]
  },
  {
   "cell_type": "code",
   "execution_count": 209,
   "metadata": {
    "scrolled": true
   },
   "outputs": [
    {
     "name": "stdout",
     "output_type": "stream",
     "text": [
      "Epoch 1/100\n",
      "375/375 [==============================] - 3s 7ms/step - loss: 220.9631 - val_loss: 106.8200\n",
      "Epoch 2/100\n",
      "375/375 [==============================] - 2s 6ms/step - loss: 101.6373 - val_loss: 92.5450\n",
      "Epoch 3/100\n",
      "375/375 [==============================] - 2s 6ms/step - loss: 89.9487 - val_loss: 86.3562\n",
      "Epoch 4/100\n",
      "375/375 [==============================] - 2s 5ms/step - loss: 84.7445 - val_loss: 83.0384\n",
      "Epoch 5/100\n",
      "375/375 [==============================] - 2s 6ms/step - loss: 81.9432 - val_loss: 81.2033\n",
      "Epoch 6/100\n",
      "375/375 [==============================] - 2s 6ms/step - loss: 80.0453 - val_loss: 79.6513\n",
      "Epoch 7/100\n",
      "375/375 [==============================] - 2s 6ms/step - loss: 78.6054 - val_loss: 78.6940\n",
      "Epoch 8/100\n",
      "375/375 [==============================] - 2s 6ms/step - loss: 77.6107 - val_loss: 77.9150\n",
      "Epoch 9/100\n",
      "375/375 [==============================] - 2s 6ms/step - loss: 76.7316 - val_loss: 76.9673\n",
      "Epoch 10/100\n",
      "375/375 [==============================] - 2s 6ms/step - loss: 75.8627 - val_loss: 76.3436\n",
      "Epoch 11/100\n",
      "375/375 [==============================] - 2s 6ms/step - loss: 75.1906 - val_loss: 75.7750\n",
      "Epoch 12/100\n",
      "375/375 [==============================] - 2s 6ms/step - loss: 74.5938 - val_loss: 75.2211\n",
      "Epoch 13/100\n",
      "375/375 [==============================] - 2s 6ms/step - loss: 74.0303 - val_loss: 74.7241\n",
      "Epoch 14/100\n",
      "375/375 [==============================] - 2s 7ms/step - loss: 73.4997 - val_loss: 74.3386\n",
      "Epoch 15/100\n",
      "375/375 [==============================] - 2s 7ms/step - loss: 73.2714 - val_loss: 73.9519\n",
      "Epoch 16/100\n",
      "375/375 [==============================] - 2s 6ms/step - loss: 72.7489 - val_loss: 73.6172\n",
      "Epoch 17/100\n",
      "375/375 [==============================] - 2s 6ms/step - loss: 72.2615 - val_loss: 73.3486\n",
      "Epoch 18/100\n",
      "375/375 [==============================] - 2s 6ms/step - loss: 71.8448 - val_loss: 73.2121\n",
      "Epoch 19/100\n",
      "375/375 [==============================] - 2s 6ms/step - loss: 71.8017 - val_loss: 72.7799\n",
      "Epoch 20/100\n",
      "375/375 [==============================] - 2s 6ms/step - loss: 71.5035 - val_loss: 72.6479\n",
      "Epoch 21/100\n",
      "375/375 [==============================] - 2s 6ms/step - loss: 71.2266 - val_loss: 72.3844\n",
      "Epoch 22/100\n",
      "375/375 [==============================] - 2s 6ms/step - loss: 71.1271 - val_loss: 72.2093\n",
      "Epoch 23/100\n",
      "375/375 [==============================] - 3s 7ms/step - loss: 70.8957 - val_loss: 72.0637\n",
      "Epoch 24/100\n",
      "375/375 [==============================] - 2s 6ms/step - loss: 70.6366 - val_loss: 71.8094\n",
      "Epoch 25/100\n",
      "375/375 [==============================] - 2s 6ms/step - loss: 70.6199 - val_loss: 71.7971\n",
      "Epoch 26/100\n",
      "375/375 [==============================] - 2s 6ms/step - loss: 70.3092 - val_loss: 71.6611\n",
      "Epoch 27/100\n",
      "375/375 [==============================] - 2s 6ms/step - loss: 70.3473 - val_loss: 71.4713\n",
      "Epoch 28/100\n",
      "375/375 [==============================] - 2s 6ms/step - loss: 70.3099 - val_loss: 71.3610\n",
      "Epoch 29/100\n",
      "375/375 [==============================] - 2s 6ms/step - loss: 70.0302 - val_loss: 71.3810\n",
      "Epoch 30/100\n",
      "375/375 [==============================] - 2s 6ms/step - loss: 69.9288 - val_loss: 71.3001\n",
      "Epoch 31/100\n",
      "375/375 [==============================] - 2s 6ms/step - loss: 69.8077 - val_loss: 71.1027\n",
      "Epoch 32/100\n",
      "375/375 [==============================] - 2s 6ms/step - loss: 69.7262 - val_loss: 71.1578\n",
      "Epoch 33/100\n",
      "375/375 [==============================] - 2s 6ms/step - loss: 69.5954 - val_loss: 71.0282\n",
      "Epoch 34/100\n",
      "375/375 [==============================] - 2s 6ms/step - loss: 69.7110 - val_loss: 70.9859\n",
      "Epoch 35/100\n",
      "375/375 [==============================] - 2s 6ms/step - loss: 69.4033 - val_loss: 70.8022\n",
      "Epoch 36/100\n",
      "375/375 [==============================] - 2s 6ms/step - loss: 69.3963 - val_loss: 70.8646\n",
      "Epoch 37/100\n",
      "375/375 [==============================] - 2s 6ms/step - loss: 69.2530 - val_loss: 70.7517\n",
      "Epoch 38/100\n",
      "375/375 [==============================] - 2s 6ms/step - loss: 69.3749 - val_loss: 70.6430\n",
      "Epoch 39/100\n",
      "375/375 [==============================] - 2s 6ms/step - loss: 69.2734 - val_loss: 70.7443\n",
      "Epoch 40/100\n",
      "375/375 [==============================] - 2s 7ms/step - loss: 69.0965 - val_loss: 70.6315\n",
      "Epoch 41/100\n",
      "375/375 [==============================] - 3s 7ms/step - loss: 69.2018 - val_loss: 70.4485\n",
      "Epoch 42/100\n",
      "375/375 [==============================] - 3s 7ms/step - loss: 68.8789 - val_loss: 70.4360\n",
      "Epoch 43/100\n",
      "375/375 [==============================] - 2s 6ms/step - loss: 69.0610 - val_loss: 70.4832\n",
      "Epoch 44/100\n",
      "375/375 [==============================] - 2s 7ms/step - loss: 68.9742 - val_loss: 70.3163\n",
      "Epoch 45/100\n",
      "375/375 [==============================] - 2s 6ms/step - loss: 68.8969 - val_loss: 70.3597\n",
      "Epoch 46/100\n",
      "375/375 [==============================] - 2s 6ms/step - loss: 68.8471 - val_loss: 70.3101\n",
      "Epoch 47/100\n",
      "375/375 [==============================] - 3s 7ms/step - loss: 68.6592 - val_loss: 70.3604\n",
      "Epoch 48/100\n",
      "375/375 [==============================] - 2s 6ms/step - loss: 68.8362 - val_loss: 70.2559\n",
      "Epoch 49/100\n",
      "375/375 [==============================] - 2s 6ms/step - loss: 68.6922 - val_loss: 70.1979\n",
      "Epoch 50/100\n",
      "375/375 [==============================] - 2s 6ms/step - loss: 68.6442 - val_loss: 70.3354\n",
      "Epoch 51/100\n",
      "375/375 [==============================] - 2s 6ms/step - loss: 68.6822 - val_loss: 70.1672\n",
      "Epoch 52/100\n",
      "375/375 [==============================] - 2s 6ms/step - loss: 68.4364 - val_loss: 70.0822\n",
      "Epoch 53/100\n",
      "375/375 [==============================] - 2s 6ms/step - loss: 68.5147 - val_loss: 70.1927\n",
      "Epoch 54/100\n",
      "375/375 [==============================] - 2s 7ms/step - loss: 68.4712 - val_loss: 69.9749\n",
      "Epoch 55/100\n",
      "375/375 [==============================] - 3s 7ms/step - loss: 68.4468 - val_loss: 70.1210\n",
      "Epoch 56/100\n",
      "375/375 [==============================] - 2s 6ms/step - loss: 68.3820 - val_loss: 69.9520\n",
      "Epoch 57/100\n",
      "375/375 [==============================] - 2s 6ms/step - loss: 68.2294 - val_loss: 69.9422\n",
      "Epoch 58/100\n",
      "375/375 [==============================] - 3s 7ms/step - loss: 68.3849 - val_loss: 70.2779\n",
      "Epoch 59/100\n",
      "375/375 [==============================] - 3s 7ms/step - loss: 68.2920 - val_loss: 69.9225\n",
      "Epoch 60/100\n",
      "375/375 [==============================] - 2s 6ms/step - loss: 68.4059 - val_loss: 69.8767\n",
      "Epoch 61/100\n",
      "375/375 [==============================] - 2s 6ms/step - loss: 68.2775 - val_loss: 69.8838\n",
      "Epoch 62/100\n",
      "375/375 [==============================] - 2s 6ms/step - loss: 68.0723 - val_loss: 69.9184\n",
      "Epoch 63/100\n",
      "375/375 [==============================] - 3s 7ms/step - loss: 68.2926 - val_loss: 70.0540\n",
      "Epoch 64/100\n",
      "375/375 [==============================] - 2s 6ms/step - loss: 68.2223 - val_loss: 69.7781\n",
      "Epoch 65/100\n",
      "375/375 [==============================] - 2s 6ms/step - loss: 68.1537 - val_loss: 69.7976\n",
      "Epoch 66/100\n",
      "375/375 [==============================] - 2s 6ms/step - loss: 68.1701 - val_loss: 69.6665\n",
      "Epoch 67/100\n",
      "375/375 [==============================] - 2s 6ms/step - loss: 68.0115 - val_loss: 69.7961\n",
      "Epoch 68/100\n",
      "375/375 [==============================] - 2s 6ms/step - loss: 68.1468 - val_loss: 69.6611\n",
      "Epoch 69/100\n",
      "375/375 [==============================] - 2s 6ms/step - loss: 68.1712 - val_loss: 69.6684\n",
      "Epoch 70/100\n",
      "375/375 [==============================] - 2s 6ms/step - loss: 68.1987 - val_loss: 69.6306\n",
      "Epoch 71/100\n",
      "375/375 [==============================] - 2s 6ms/step - loss: 67.8577 - val_loss: 69.7013\n",
      "Epoch 72/100\n",
      "375/375 [==============================] - 2s 6ms/step - loss: 68.0044 - val_loss: 69.6718\n",
      "Epoch 73/100\n",
      "375/375 [==============================] - 2s 6ms/step - loss: 68.0243 - val_loss: 69.7713\n",
      "Epoch 74/100\n",
      "375/375 [==============================] - 2s 6ms/step - loss: 67.9116 - val_loss: 69.7309\n",
      "Epoch 75/100\n",
      "375/375 [==============================] - 2s 6ms/step - loss: 67.9140 - val_loss: 69.6191\n",
      "Epoch 76/100\n",
      "375/375 [==============================] - 2s 6ms/step - loss: 67.9652 - val_loss: 69.6681\n",
      "Epoch 77/100\n",
      "375/375 [==============================] - 2s 6ms/step - loss: 67.9165 - val_loss: 69.6635\n",
      "Epoch 78/100\n",
      "375/375 [==============================] - 2s 6ms/step - loss: 68.0459 - val_loss: 69.4638\n",
      "Epoch 79/100\n",
      "375/375 [==============================] - 2s 6ms/step - loss: 67.8513 - val_loss: 69.6101\n"
     ]
    },
    {
     "name": "stdout",
     "output_type": "stream",
     "text": [
      "Epoch 80/100\n",
      "375/375 [==============================] - 2s 6ms/step - loss: 67.8017 - val_loss: 69.5325\n",
      "Epoch 81/100\n",
      "375/375 [==============================] - 2s 6ms/step - loss: 67.8520 - val_loss: 69.6690\n",
      "Epoch 82/100\n",
      "375/375 [==============================] - 3s 7ms/step - loss: 67.7106 - val_loss: 69.3764\n",
      "Epoch 83/100\n",
      "375/375 [==============================] - 2s 7ms/step - loss: 67.7745 - val_loss: 69.3654\n",
      "Epoch 84/100\n",
      "375/375 [==============================] - 3s 7ms/step - loss: 67.6852 - val_loss: 69.5252\n",
      "Epoch 85/100\n",
      "375/375 [==============================] - 2s 6ms/step - loss: 68.0276 - val_loss: 69.4345\n",
      "Epoch 86/100\n",
      "375/375 [==============================] - 2s 7ms/step - loss: 67.6209 - val_loss: 69.4093\n",
      "Epoch 87/100\n",
      "375/375 [==============================] - 2s 6ms/step - loss: 67.6692 - val_loss: 69.4991\n",
      "Epoch 88/100\n",
      "375/375 [==============================] - 3s 7ms/step - loss: 67.7513 - val_loss: 69.4306\n",
      "Epoch 89/100\n",
      "375/375 [==============================] - 2s 6ms/step - loss: 67.8788 - val_loss: 69.4683\n",
      "Epoch 90/100\n",
      "375/375 [==============================] - 2s 6ms/step - loss: 67.6357 - val_loss: 69.4033\n",
      "Epoch 91/100\n",
      "375/375 [==============================] - 2s 6ms/step - loss: 67.7918 - val_loss: 69.3381\n",
      "Epoch 92/100\n",
      "375/375 [==============================] - 2s 6ms/step - loss: 67.7532 - val_loss: 69.4205\n",
      "Epoch 93/100\n",
      "375/375 [==============================] - 3s 7ms/step - loss: 67.6644 - val_loss: 69.3200\n",
      "Epoch 94/100\n",
      "375/375 [==============================] - 2s 6ms/step - loss: 67.4911 - val_loss: 69.4049\n",
      "Epoch 95/100\n",
      "375/375 [==============================] - 2s 6ms/step - loss: 67.5296 - val_loss: 69.2685\n",
      "Epoch 96/100\n",
      "375/375 [==============================] - 3s 7ms/step - loss: 67.6177 - val_loss: 69.4230\n",
      "Epoch 97/100\n",
      "375/375 [==============================] - 3s 7ms/step - loss: 67.6898 - val_loss: 69.2439\n",
      "Epoch 98/100\n",
      "375/375 [==============================] - 3s 7ms/step - loss: 67.4333 - val_loss: 69.4783\n",
      "Epoch 99/100\n",
      "375/375 [==============================] - 3s 7ms/step - loss: 67.5078 - val_loss: 69.3517\n",
      "Epoch 100/100\n",
      "375/375 [==============================] - 2s 6ms/step - loss: 67.6511 - val_loss: 69.2395\n",
      "Model: \"model_8\"\n",
      "__________________________________________________________________________________________________\n",
      "Layer (type)                    Output Shape         Param #     Connected to                     \n",
      "==================================================================================================\n",
      "input_5 (InputLayer)            [(None, 784)]        0                                            \n",
      "__________________________________________________________________________________________________\n",
      "model_6 (Functional)            [(None, 28), (None,  215352      input_5[0][0]                    \n",
      "__________________________________________________________________________________________________\n",
      "model_7 (Functional)            (None, 784)          208912      model_6[0][2]                    \n",
      "__________________________________________________________________________________________________\n",
      "dense_10 (Dense)                (None, 256)          200960      input_5[0][0]                    \n",
      "__________________________________________________________________________________________________\n",
      "dense_12 (Dense)                (None, 28)           7196        dense_10[0][0]                   \n",
      "__________________________________________________________________________________________________\n",
      "dense_11 (Dense)                (None, 28)           7196        dense_10[0][0]                   \n",
      "__________________________________________________________________________________________________\n",
      "tf.__operators__.add_6 (TFOpLam (None, 28)           0           dense_12[0][0]                   \n",
      "__________________________________________________________________________________________________\n",
      "tf.math.square_3 (TFOpLambda)   (None, 28)           0           dense_11[0][0]                   \n",
      "__________________________________________________________________________________________________\n",
      "tf.cast_3 (TFOpLambda)          (None, 784)          0           input_5[0][0]                    \n",
      "__________________________________________________________________________________________________\n",
      "tf.convert_to_tensor_9 (TFOpLam (None, 784)          0           model_7[0][0]                    \n",
      "__________________________________________________________________________________________________\n",
      "tf.math.subtract_6 (TFOpLambda) (None, 28)           0           tf.__operators__.add_6[0][0]     \n",
      "                                                                 tf.math.square_3[0][0]           \n",
      "__________________________________________________________________________________________________\n",
      "tf.math.exp_3 (TFOpLambda)      (None, 28)           0           dense_12[0][0]                   \n",
      "__________________________________________________________________________________________________\n",
      "tf.keras.backend.binary_crossen (None, 784)          0           tf.cast_3[0][0]                  \n",
      "                                                                 tf.convert_to_tensor_9[0][0]     \n",
      "__________________________________________________________________________________________________\n",
      "tf.math.subtract_7 (TFOpLambda) (None, 28)           0           tf.math.subtract_6[0][0]         \n",
      "                                                                 tf.math.exp_3[0][0]              \n",
      "__________________________________________________________________________________________________\n",
      "tf.math.reduce_mean_6 (TFOpLamb (None,)              0           tf.keras.backend.binary_crossentr\n",
      "__________________________________________________________________________________________________\n",
      "tf.math.reduce_sum_3 (TFOpLambd (None,)              0           tf.math.subtract_7[0][0]         \n",
      "__________________________________________________________________________________________________\n",
      "tf.math.multiply_6 (TFOpLambda) (None,)              0           tf.math.reduce_mean_6[0][0]      \n",
      "__________________________________________________________________________________________________\n",
      "tf.math.multiply_7 (TFOpLambda) (None,)              0           tf.math.reduce_sum_3[0][0]       \n",
      "__________________________________________________________________________________________________\n",
      "tf.__operators__.add_7 (TFOpLam (None,)              0           tf.math.multiply_6[0][0]         \n",
      "                                                                 tf.math.multiply_7[0][0]         \n",
      "__________________________________________________________________________________________________\n",
      "tf.math.reduce_mean_7 (TFOpLamb ()                   0           tf.__operators__.add_7[0][0]     \n",
      "__________________________________________________________________________________________________\n",
      "add_loss_3 (AddLoss)            ()                   0           tf.math.reduce_mean_7[0][0]      \n",
      "==================================================================================================\n",
      "Total params: 424,264\n",
      "Trainable params: 424,264\n",
      "Non-trainable params: 0\n",
      "__________________________________________________________________________________________________\n"
     ]
    }
   ],
   "source": [
    "## training\n",
    "ourCallback = EarlyStopping(monitor='val_loss', min_delta=0.0001, patience=10, verbose=0, mode='auto', baseline=None, restore_best_weights=True)\n",
    "\n",
    "vae.fit(xTrain, xTrain, epochs=100, batch_size=128, validation_split=0.2, shuffle=True,callbacks=[ourCallback])\n",
    "vae.summary()"
   ]
  },
  {
   "cell_type": "markdown",
   "metadata": {},
   "source": [
    "**Question 1:** Observe the encoding/decoding of some of the digits from the test dataset.\n",
    "    \n",
    "    1. prepare the xTest\n",
    "    2. predict the xTest transformation done by the VAE model\n",
    "    3. display/plot some of the xTest images with their transformations"
   ]
  },
  {
   "cell_type": "code",
   "execution_count": 210,
   "metadata": {
    "scrolled": true
   },
   "outputs": [
    {
     "name": "stdout",
     "output_type": "stream",
     "text": [
      "image number:  7064\n"
     ]
    }
   ],
   "source": [
    "#For a single data:\n",
    "index = random.randint(0,len(xTest)-2)\n",
    "print(\"image number: \", index)\n",
    "im = xTest[index]"
   ]
  },
  {
   "cell_type": "code",
   "execution_count": 211,
   "metadata": {},
   "outputs": [],
   "source": [
    "pred = vae.predict(im.reshape(1, 28*28))"
   ]
  },
  {
   "cell_type": "code",
   "execution_count": 212,
   "metadata": {},
   "outputs": [
    {
     "data": {
      "text/plain": [
       "<function matplotlib.pyplot.show(close=None, block=None)>"
      ]
     },
     "execution_count": 212,
     "metadata": {},
     "output_type": "execute_result"
    },
    {
     "data": {
      "image/png": "[encoded data removed]",
      "text/plain": [
       "<Figure size 432x288 with 1 Axes>"
      ]
     },
     "metadata": {
      "needs_background": "light"
     },
     "output_type": "display_data"
    },
    {
     "data": {
      "image/png": "[encoded data removed]",
      "text/plain": [
       "<Figure size 432x288 with 1 Axes>"
      ]
     },
     "metadata": {
      "needs_background": "light"
     },
     "output_type": "display_data"
    }
   ],
   "source": [
    "plt.figure(1)\n",
    "plt.imshow(im.reshape(28,28))\n",
    "plt.figure(2)\n",
    "plt.imshow(pred.reshape(28,28))\n",
    "plt.show"
   ]
  },
  {
   "cell_type": "code",
   "execution_count": 213,
   "metadata": {},
   "outputs": [],
   "source": [
    "xTest_pred = vae.predict(xTest)"
   ]
  },
  {
   "cell_type": "markdown",
   "metadata": {},
   "source": [
    "**Question 2:** Now, you can generate new samples. Start with the latent representation of a digit, as for example an '8', compute it's latent representation and move around (in the neighborhood of this latent point): observe the neighborhood points decoded: do they look like an '8'?"
   ]
  },
  {
   "cell_type": "code",
   "execution_count": 221,
   "metadata": {},
   "outputs": [
    {
     "name": "stdout",
     "output_type": "stream",
     "text": [
      "image number:  5678\n"
     ]
    },
    {
     "data": {
      "text/plain": [
       "<matplotlib.image.AxesImage at 0x7feff1dfb6a0>"
      ]
     },
     "execution_count": 221,
     "metadata": {},
     "output_type": "execute_result"
    },
    {
     "data": {
      "image/png": "[encoded data removed]",
      "text/plain": [
       "<Figure size 432x288 with 1 Axes>"
      ]
     },
     "metadata": {
      "needs_background": "light"
     },
     "output_type": "display_data"
    }
   ],
   "source": [
    "#For a single data:\n",
    "index = random.randint(0,len(xTest)-2)\n",
    "print(\"image number: \", index)\n",
    "im8 = xTest[index]\n",
    "plt.imshow(im8.reshape(28,28))"
   ]
  },
  {
   "cell_type": "code",
   "execution_count": 222,
   "metadata": {
    "scrolled": false
   },
   "outputs": [],
   "source": [
    "# encoding of an image\n",
    "latentData = encoder.predict(im8.reshape(-1, 784))"
   ]
  },
  {
   "cell_type": "code",
   "execution_count": 223,
   "metadata": {},
   "outputs": [],
   "source": [
    "import random as rd"
   ]
  },
  {
   "cell_type": "code",
   "execution_count": 224,
   "metadata": {},
   "outputs": [],
   "source": [
    "decodedData1 = decoder.predict(latentData[0].reshape(-1,28))\n",
    "decodedData2 = decoder.predict(latentData[1].reshape(-1,28))\n",
    "decodedData3 = decoder.predict(latentData[2].reshape(-1,28))"
   ]
  },
  {
   "cell_type": "code",
   "execution_count": 225,
   "metadata": {
    "scrolled": false
   },
   "outputs": [],
   "source": [
    "lDMod1 = latentData[0]\n",
    "lDMod1[0, rd.randint(0,27)] = random.choice(latentData[0][0])\n",
    "lDMod2 = latentData[1]\n",
    "lDMod2[0, rd.randint(0,27)] = random.choice(latentData[1][0])\n",
    "lDMod3 = latentData[2]\n",
    "lDMod3[0, rd.randint(0,27)] = random.choice(latentData[2][0])\n",
    "\n",
    "decodedDataMod1 = decoder.predict(lDMod1.reshape(-1,28))\n",
    "decodedDataMod2 = decoder.predict(lDMod2.reshape(-1,28))\n",
    "decodedDataMod3 = decoder.predict(lDMod3.reshape(-1,28))"
   ]
  },
  {
   "cell_type": "code",
   "execution_count": 226,
   "metadata": {},
   "outputs": [
    {
     "data": {
      "image/png": "[encoded data removed]",
      "text/plain": [
       "<Figure size 432x288 with 1 Axes>"
      ]
     },
     "metadata": {
      "needs_background": "light"
     },
     "output_type": "display_data"
    },
    {
     "data": {
      "image/png": "[encoded data removed]",
      "text/plain": [
       "<Figure size 432x288 with 1 Axes>"
      ]
     },
     "metadata": {
      "needs_background": "light"
     },
     "output_type": "display_data"
    },
    {
     "data": {
      "image/png": "[encoded data removed]",
      "text/plain": [
       "<Figure size 432x288 with 1 Axes>"
      ]
     },
     "metadata": {
      "needs_background": "light"
     },
     "output_type": "display_data"
    },
    {
     "data": {
      "image/png": "[encoded data removed]",
      "text/plain": [
       "<Figure size 432x288 with 1 Axes>"
      ]
     },
     "metadata": {
      "needs_background": "light"
     },
     "output_type": "display_data"
    },
    {
     "data": {
      "image/png": "[encoded data removed]",
      "text/plain": [
       "<Figure size 432x288 with 1 Axes>"
      ]
     },
     "metadata": {
      "needs_background": "light"
     },
     "output_type": "display_data"
    },
    {
     "data": {
      "image/png": "[encoded data removed]",
      "text/plain": [
       "<Figure size 432x288 with 1 Axes>"
      ]
     },
     "metadata": {
      "needs_background": "light"
     },
     "output_type": "display_data"
    }
   ],
   "source": [
    "plt.figure(1)\n",
    "plt.imshow(decodedData1.reshape(28,28))\n",
    "plt.figure(2)\n",
    "plt.imshow(decodedDataMod1.reshape(28,28))\n",
    "plt.figure(3)\n",
    "plt.imshow(decodedData2.reshape(28,28))\n",
    "plt.figure(4)\n",
    "plt.imshow(decodedDataMod2.reshape(28,28))\n",
    "plt.figure(5)\n",
    "plt.imshow(decodedData3.reshape(28,28))\n",
    "plt.figure(6)\n",
    "plt.imshow(decodedDataMod3.reshape(28,28))\n",
    "plt.show()"
   ]
  },
  {
   "cell_type": "code",
   "execution_count": 229,
   "metadata": {
    "scrolled": false
   },
   "outputs": [],
   "source": [
    "epsilon = 0.1\n",
    "\n",
    "lDMod1 = latentData[0]\n",
    "lDMod1 += np.random.uniform(-epsilon, epsilon)\n",
    "lDMod2 = latentData[1]\n",
    "lDMod2 += np.random.uniform(-epsilon, epsilon)\n",
    "lDMod3 = latentData[2]\n",
    "lDMod3 += np.random.uniform(-epsilon, epsilon)\n",
    "\n",
    "decodedDataMod1 = decoder.predict(lDMod1.reshape(-1,28))\n",
    "decodedDataMod2 = decoder.predict(lDMod2.reshape(-1,28))\n",
    "decodedDataMod3 = decoder.predict(lDMod3.reshape(-1,28))"
   ]
  },
  {
   "cell_type": "code",
   "execution_count": 230,
   "metadata": {},
   "outputs": [
    {
     "data": {
      "image/png": "[encoded data removed]",
      "text/plain": [
       "<Figure size 432x288 with 1 Axes>"
      ]
     },
     "metadata": {
      "needs_background": "light"
     },
     "output_type": "display_data"
    },
    {
     "data": {
      "image/png": "[encoded data removed]",
      "text/plain": [
       "<Figure size 432x288 with 1 Axes>"
      ]
     },
     "metadata": {
      "needs_background": "light"
     },
     "output_type": "display_data"
    },
    {
     "data": {
      "image/png": "[encoded data removed]",
      "text/plain": [
       "<Figure size 432x288 with 1 Axes>"
      ]
     },
     "metadata": {
      "needs_background": "light"
     },
     "output_type": "display_data"
    },
    {
     "data": {
      "image/png": "[encoded data removed]",
      "text/plain": [
       "<Figure size 432x288 with 1 Axes>"
      ]
     },
     "metadata": {
      "needs_background": "light"
     },
     "output_type": "display_data"
    },
    {
     "data": {
      "image/png": "[encoded data removed]",
      "text/plain": [
       "<Figure size 432x288 with 1 Axes>"
      ]
     },
     "metadata": {
      "needs_background": "light"
     },
     "output_type": "display_data"
    },
    {
     "data": {
      "image/png": "[encoded data removed]",
      "text/plain": [
       "<Figure size 432x288 with 1 Axes>"
      ]
     },
     "metadata": {
      "needs_background": "light"
     },
     "output_type": "display_data"
    }
   ],
   "source": [
    "plt.figure(1)\n",
    "plt.imshow(decodedData1.reshape(28,28))\n",
    "plt.figure(2)\n",
    "plt.imshow(decodedDataMod1.reshape(28,28))\n",
    "plt.figure(3)\n",
    "plt.imshow(decodedData2.reshape(28,28))\n",
    "plt.figure(4)\n",
    "plt.imshow(decodedDataMod2.reshape(28,28))\n",
    "plt.figure(5)\n",
    "plt.imshow(decodedData3.reshape(28,28))\n",
    "plt.figure(6)\n",
    "plt.imshow(decodedDataMod3.reshape(28,28))\n",
    "plt.show()"
   ]
  },
  {
   "cell_type": "code",
   "execution_count": 231,
   "metadata": {},
   "outputs": [
    {
     "name": "stdout",
     "output_type": "stream",
     "text": [
      "(1, 784)\n"
     ]
    },
    {
     "data": {
      "text/plain": [
       "<matplotlib.image.AxesImage at 0x7fef63a1b700>"
      ]
     },
     "execution_count": 231,
     "metadata": {},
     "output_type": "execute_result"
    },
    {
     "data": {
      "image/png": "[encoded data removed]",
      "text/plain": [
       "<Figure size 432x288 with 1 Axes>"
      ]
     },
     "metadata": {
      "needs_background": "light"
     },
     "output_type": "display_data"
    }
   ],
   "source": [
    "pred = vae.predict(im8.reshape(-1, 784))\n",
    "print(pred.shape)\n",
    "plt.imshow(pred.reshape(28,28))"
   ]
  },
  {
   "cell_type": "markdown",
   "metadata": {},
   "source": [
    "## Now play with a real image dataset\n",
    "The <a href=\"http://mmlab.ie.cuhk.edu.hk/projects/CelebA.html\">CelebA</a> available directly in tensorflow: https://www.tensorflow.org/datasets/catalog/celeb_a )\n"
   ]
  },
  {
   "cell_type": "code",
   "execution_count": 200,
   "metadata": {},
   "outputs": [],
   "source": [
    "from tensorflow_datasets.image import CelebA"
   ]
  },
  {
   "cell_type": "code",
   "execution_count": 201,
   "metadata": {},
   "outputs": [
    {
     "name": "stdout",
     "output_type": "stream",
     "text": [
      "Help on class CelebA in module tensorflow_datasets.image.celeba:\n",
      "\n",
      "class CelebA(tensorflow_datasets.core.dataset_builder.GeneratorBasedBuilder)\n",
      " |  CelebA(*, file_format: Union[NoneType, str, tensorflow_datasets.core.file_adapters.FileFormat] = <FileFormat.TFRECORD: 'tfrecord'>, **kwargs: Any)\n",
      " |  \n",
      " |  CelebA dataset. Aligned and cropped. With metadata.\n",
      " |  \n",
      " |  Method resolution order:\n",
      " |      CelebA\n",
      " |      tensorflow_datasets.core.dataset_builder.GeneratorBasedBuilder\n",
      " |      tensorflow_datasets.core.dataset_builder.FileReaderBuilder\n",
      " |      tensorflow_datasets.core.dataset_builder.DatasetBuilder\n",
      " |      tensorflow_datasets.core.registered.RegisteredDataset\n",
      " |      abc.ABC\n",
      " |      builtins.object\n",
      " |  \n",
      " |  Data and other attributes defined here:\n",
      " |  \n",
      " |  RELEASE_NOTES = {'2.0.1': 'New split API (https://tensorflow.org/datas...\n",
      " |  \n",
      " |  SUPPORTED_VERSIONS = [Version('2.0.0')]\n",
      " |  \n",
      " |  VERSION = Version('2.0.1')\n",
      " |  \n",
      " |  __abstractmethods__ = frozenset()\n",
      " |  \n",
      " |  name = 'celeb_a'\n",
      " |  \n",
      " |  ----------------------------------------------------------------------\n",
      " |  Methods inherited from tensorflow_datasets.core.dataset_builder.FileReaderBuilder:\n",
      " |  \n",
      " |  __init__(self, *, file_format: Union[NoneType, str, tensorflow_datasets.core.file_adapters.FileFormat] = <FileFormat.TFRECORD: 'tfrecord'>, **kwargs: Any)\n",
      " |      Initializes an instance of FileReaderBuilder.\n",
      " |      \n",
      " |      Callers must pass arguments as keyword arguments.\n",
      " |      \n",
      " |      Args:\n",
      " |        file_format: EXPERIMENTAL, may change at any time; Format of the record\n",
      " |          files in which dataset will be read/written to. Defaults to `tfrecord`.\n",
      " |        **kwargs: Arguments passed to `DatasetBuilder`.\n",
      " |  \n",
      " |  ----------------------------------------------------------------------\n",
      " |  Methods inherited from tensorflow_datasets.core.dataset_builder.DatasetBuilder:\n",
      " |  \n",
      " |  __getstate__(self)\n",
      " |  \n",
      " |  __setstate__(self, state)\n",
      " |  \n",
      " |  as_dataset(self, split=None, *, batch_size=None, shuffle_files=False, decoders=None, read_config=None, as_supervised=False)\n",
      " |      Constructs a `tf.data.Dataset`.\n",
      " |      \n",
      " |      Callers must pass arguments as keyword arguments.\n",
      " |      \n",
      " |      The output types vary depending on the parameters. Examples:\n",
      " |      \n",
      " |      ```python\n",
      " |      builder = tfds.builder('imdb_reviews')\n",
      " |      builder.download_and_prepare()\n",
      " |      \n",
      " |      # Default parameters: Returns the dict of tf.data.Dataset\n",
      " |      ds_all_dict = builder.as_dataset()\n",
      " |      assert isinstance(ds_all_dict, dict)\n",
      " |      print(ds_all_dict.keys())  # ==> ['test', 'train', 'unsupervised']\n",
      " |      \n",
      " |      assert isinstance(ds_all_dict['test'], tf.data.Dataset)\n",
      " |      # Each dataset (test, train, unsup.) consists of dictionaries\n",
      " |      # {'label': <tf.Tensor: .. dtype=int64, numpy=1>,\n",
      " |      #  'text': <tf.Tensor: .. dtype=string, numpy=b\"I've watched the movie ..\">}\n",
      " |      # {'label': <tf.Tensor: .. dtype=int64, numpy=1>,\n",
      " |      #  'text': <tf.Tensor: .. dtype=string, numpy=b'If you love Japanese ..'>}\n",
      " |      \n",
      " |      # With as_supervised: tf.data.Dataset only contains (feature, label) tuples\n",
      " |      ds_all_supervised = builder.as_dataset(as_supervised=True)\n",
      " |      assert isinstance(ds_all_supervised, dict)\n",
      " |      print(ds_all_supervised.keys())  # ==> ['test', 'train', 'unsupervised']\n",
      " |      \n",
      " |      assert isinstance(ds_all_supervised['test'], tf.data.Dataset)\n",
      " |      # Each dataset (test, train, unsup.) consists of tuples (text, label)\n",
      " |      # (<tf.Tensor: ... dtype=string, numpy=b\"I've watched the movie ..\">,\n",
      " |      #  <tf.Tensor: ... dtype=int64, numpy=1>)\n",
      " |      # (<tf.Tensor: ... dtype=string, numpy=b\"If you love Japanese ..\">,\n",
      " |      #  <tf.Tensor: ... dtype=int64, numpy=1>)\n",
      " |      \n",
      " |      # Same as above plus requesting a particular split\n",
      " |      ds_test_supervised = builder.as_dataset(as_supervised=True, split='test')\n",
      " |      assert isinstance(ds_test_supervised, tf.data.Dataset)\n",
      " |      # The dataset consists of tuples (text, label)\n",
      " |      # (<tf.Tensor: ... dtype=string, numpy=b\"I've watched the movie ..\">,\n",
      " |      #  <tf.Tensor: ... dtype=int64, numpy=1>)\n",
      " |      # (<tf.Tensor: ... dtype=string, numpy=b\"If you love Japanese ..\">,\n",
      " |      #  <tf.Tensor: ... dtype=int64, numpy=1>)\n",
      " |      ```\n",
      " |      \n",
      " |      Args:\n",
      " |        split: Which split of the data to load (e.g. `'train'`, `'test'`,\n",
      " |          `['train', 'test']`, `'train[80%:]'`,...). See our\n",
      " |          [split API guide](https://www.tensorflow.org/datasets/splits).\n",
      " |          If `None`, will return all splits in a `Dict[Split, tf.data.Dataset]`.\n",
      " |        batch_size: `int`, batch size. Note that variable-length features will\n",
      " |          be 0-padded if `batch_size` is set. Users that want more custom behavior\n",
      " |          should use `batch_size=None` and use the `tf.data` API to construct a\n",
      " |          custom pipeline. If `batch_size == -1`, will return feature\n",
      " |          dictionaries of the whole dataset with `tf.Tensor`s instead of a\n",
      " |          `tf.data.Dataset`.\n",
      " |        shuffle_files: `bool`, whether to shuffle the input files. Defaults to\n",
      " |          `False`.\n",
      " |        decoders: Nested dict of `Decoder` objects which allow to customize the\n",
      " |          decoding. The structure should match the feature structure, but only\n",
      " |          customized feature keys need to be present. See\n",
      " |          [the guide](https://github.com/tensorflow/datasets/tree/master/docs/decode.md)\n",
      " |          for more info.\n",
      " |        read_config: `tfds.ReadConfig`, Additional options to configure the\n",
      " |          input pipeline (e.g. seed, num parallel reads,...).\n",
      " |        as_supervised: `bool`, if `True`, the returned `tf.data.Dataset`\n",
      " |          will have a 2-tuple structure `(input, label)` according to\n",
      " |          `builder.info.supervised_keys`. If `False`, the default,\n",
      " |          the returned `tf.data.Dataset` will have a dictionary with all the\n",
      " |          features.\n",
      " |      \n",
      " |      Returns:\n",
      " |        `tf.data.Dataset`, or if `split=None`, `dict<key: tfds.Split, value:\n",
      " |        tfds.data.Dataset>`.\n",
      " |      \n",
      " |        If `batch_size` is -1, will return feature dictionaries containing\n",
      " |        the entire dataset in `tf.Tensor`s instead of a `tf.data.Dataset`.\n",
      " |  \n",
      " |  download_and_prepare(self, *, download_dir=None, download_config=None)\n",
      " |      Downloads and prepares dataset for reading.\n",
      " |      \n",
      " |      Args:\n",
      " |        download_dir: `str`, directory where downloaded files are stored.\n",
      " |          Defaults to \"~/tensorflow-datasets/downloads\".\n",
      " |        download_config: `tfds.download.DownloadConfig`, further configuration for\n",
      " |          downloading and preparing dataset.\n",
      " |      \n",
      " |      Raises:\n",
      " |        IOError: if there is not enough disk space available.\n",
      " |  \n",
      " |  ----------------------------------------------------------------------\n",
      " |  Readonly properties inherited from tensorflow_datasets.core.dataset_builder.DatasetBuilder:\n",
      " |  \n",
      " |  builder_config\n",
      " |      `tfds.core.BuilderConfig` for this builder.\n",
      " |  \n",
      " |  builder_configs\n",
      " |      classmethod(function) -> method\n",
      " |      \n",
      " |      Convert a function to be a class method.\n",
      " |      \n",
      " |      A class method receives the class as implicit first argument,\n",
      " |      just like an instance method receives the instance.\n",
      " |      To declare a class method, use this idiom:\n",
      " |      \n",
      " |        class C:\n",
      " |            @classmethod\n",
      " |            def f(cls, arg1, arg2, ...):\n",
      " |                ...\n",
      " |      \n",
      " |      It can be called either on the class (e.g. C.f()) or on an instance\n",
      " |      (e.g. C().f()).  The instance is ignored except for its class.\n",
      " |      If a class method is called for a derived class, the derived class\n",
      " |      object is passed as the implied first argument.\n",
      " |      \n",
      " |      Class methods are different than C++ or Java static methods.\n",
      " |      If you want those, see the staticmethod builtin.\n",
      " |  \n",
      " |  canonical_version\n",
      " |  \n",
      " |  code_path\n",
      " |      classmethod(function) -> method\n",
      " |      \n",
      " |      Convert a function to be a class method.\n",
      " |      \n",
      " |      A class method receives the class as implicit first argument,\n",
      " |      just like an instance method receives the instance.\n",
      " |      To declare a class method, use this idiom:\n",
      " |      \n",
      " |        class C:\n",
      " |            @classmethod\n",
      " |            def f(cls, arg1, arg2, ...):\n",
      " |                ...\n",
      " |      \n",
      " |      It can be called either on the class (e.g. C.f()) or on an instance\n",
      " |      (e.g. C().f()).  The instance is ignored except for its class.\n",
      " |      If a class method is called for a derived class, the derived class\n",
      " |      object is passed as the implied first argument.\n",
      " |      \n",
      " |      Class methods are different than C++ or Java static methods.\n",
      " |      If you want those, see the staticmethod builtin.\n",
      " |  \n",
      " |  data_dir\n",
      " |  \n",
      " |  data_path\n",
      " |  \n",
      " |  info\n",
      " |      `tfds.core.DatasetInfo` for this builder.\n",
      " |  \n",
      " |  release_notes\n",
      " |  \n",
      " |  supported_versions\n",
      " |  \n",
      " |  url_infos\n",
      " |      classmethod(function) -> method\n",
      " |      \n",
      " |      Convert a function to be a class method.\n",
      " |      \n",
      " |      A class method receives the class as implicit first argument,\n",
      " |      just like an instance method receives the instance.\n",
      " |      To declare a class method, use this idiom:\n",
      " |      \n",
      " |        class C:\n",
      " |            @classmethod\n",
      " |            def f(cls, arg1, arg2, ...):\n",
      " |                ...\n",
      " |      \n",
      " |      It can be called either on the class (e.g. C.f()) or on an instance\n",
      " |      (e.g. C().f()).  The instance is ignored except for its class.\n",
      " |      If a class method is called for a derived class, the derived class\n",
      " |      object is passed as the implied first argument.\n",
      " |      \n",
      " |      Class methods are different than C++ or Java static methods.\n",
      " |      If you want those, see the staticmethod builtin.\n",
      " |  \n",
      " |  version\n",
      " |  \n",
      " |  versions\n",
      " |      Versions (canonical + availables), in preference order.\n",
      " |  \n",
      " |  ----------------------------------------------------------------------\n",
      " |  Data and other attributes inherited from tensorflow_datasets.core.dataset_builder.DatasetBuilder:\n",
      " |  \n",
      " |  BUILDER_CONFIGS = []\n",
      " |  \n",
      " |  MANUAL_DOWNLOAD_INSTRUCTIONS = None\n",
      " |  \n",
      " |  __annotations__ = {'RELEASE_NOTES': typing.ClassVar[typing.Dict[str, s...\n",
      " |  \n",
      " |  ----------------------------------------------------------------------\n",
      " |  Class methods inherited from tensorflow_datasets.core.registered.RegisteredDataset:\n",
      " |  \n",
      " |  __init_subclass__(skip_registration=False, **kwargs) from abc.ABCMeta\n",
      " |      This method is called when a class is subclassed.\n",
      " |      \n",
      " |      The default implementation does nothing. It may be\n",
      " |      overridden to extend subclasses.\n",
      " |  \n",
      " |  ----------------------------------------------------------------------\n",
      " |  Data descriptors inherited from tensorflow_datasets.core.registered.RegisteredDataset:\n",
      " |  \n",
      " |  __dict__\n",
      " |      dictionary for instance variables (if defined)\n",
      " |  \n",
      " |  __weakref__\n",
      " |      list of weak references to the object (if defined)\n",
      "\n"
     ]
    }
   ],
   "source": [
    "help(CelebA)"
   ]
  },
  {
   "cell_type": "code",
   "execution_count": null,
   "metadata": {},
   "outputs": [],
   "source": []
  }
 ],
 "metadata": {
  "accelerator": "GPU",
  "colab": {
   "collapsed_sections": [],
   "name": "Untitled",
   "provenance": []
  },
  "kernelspec": {
   "display_name": "Python 3",
   "language": "python",
   "name": "python3"
  },
  "language_info": {
   "codemirror_mode": {
    "name": "ipython",
    "version": 3
   },
   "file_extension": ".py",
   "mimetype": "text/x-python",
   "name": "python",
   "nbconvert_exporter": "python",
   "pygments_lexer": "ipython3",
   "version": "3.8.5"
  }
 },
 "nbformat": 4,
 "nbformat_minor": 1
}
