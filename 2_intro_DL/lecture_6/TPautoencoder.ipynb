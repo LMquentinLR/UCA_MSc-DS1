{
 "cells": [
  {
   "cell_type": "markdown",
   "metadata": {
    "id": "vQ57zS1Q-d6z"
   },
   "source": [
    "\n",
    "# TP autoencoder\n",
    "\n",
    "Diane LINGRAND\n",
    "\n",
    "diane.lingrand@univ-cotedazur.fr "
   ]
  },
  {
   "cell_type": "code",
   "execution_count": 1,
   "metadata": {
    "colab": {
     "base_uri": "https://localhost:8080/"
    },
    "id": "kKVs4Hmc-dU0",
    "outputId": "d0ea8f9c-f640-4816-bcc8-f04737c5a2b4"
   },
   "outputs": [
    {
     "name": "stdout",
     "output_type": "stream",
     "text": [
      "2.4.1\n"
     ]
    }
   ],
   "source": [
    "import tensorflow\n",
    "print(tensorflow.__version__)\n",
    "import tensorflow.keras"
   ]
  },
  {
   "cell_type": "code",
   "execution_count": 31,
   "metadata": {
    "id": "SQ4ro1KrBU7K"
   },
   "outputs": [],
   "source": [
    "from tensorflow.keras.preprocessing import image\n",
    "from tensorflow.keras.models import Model\n",
    "from tensorflow.keras.layers import Input, Dense, GlobalAveragePooling2D, Conv2D, MaxPooling2D, UpSampling2D\n",
    "from tensorflow.keras.layers import Dropout\n",
    "from tensorflow.keras.datasets import mnist\n",
    "\n",
    "from tensorflow.keras.callbacks import EarlyStopping\n",
    "import numpy as np\n",
    "import glob\n",
    "#!pip install tqdm\n",
    "from tqdm import tqdm\n",
    "import random\n",
    "from matplotlib import pyplot as plt"
   ]
  },
  {
   "cell_type": "markdown",
   "metadata": {},
   "source": [
    "# Part I: playing with the MNIST dataset"
   ]
  },
  {
   "cell_type": "code",
   "execution_count": 127,
   "metadata": {},
   "outputs": [
    {
     "name": "stdout",
     "output_type": "stream",
     "text": [
      "28 784\n"
     ]
    }
   ],
   "source": [
    "# loading the MNIST dataset\n",
    "(x_train, y_train), (x_test, y_test) = mnist.load_data()\n",
    "# preprocessings\n",
    "x_train = x_train.astype('float32') / 255.\n",
    "x_test = x_test.astype('float32') / 255.\n",
    "xTrain = x_train.reshape((len(x_train), np.prod(x_train.shape[1:])))\n",
    "xTest = x_test.reshape((len(x_test), np.prod(x_test.shape[1:])))\n",
    "\n",
    "size1 = len(xTrain[0])\n",
    "size = len(x_train[0])\n",
    "print(size,size1)"
   ]
  },
  {
   "cell_type": "markdown",
   "metadata": {},
   "source": [
    "## a first simple autoencoder"
   ]
  },
  {
   "cell_type": "code",
   "execution_count": 14,
   "metadata": {},
   "outputs": [
    {
     "name": "stdout",
     "output_type": "stream",
     "text": [
      "Model: \"model_2\"\n",
      "_________________________________________________________________\n",
      "Layer (type)                 Output Shape              Param #   \n",
      "=================================================================\n",
      "input_6 (InputLayer)         [(None, 784)]             0         \n",
      "_________________________________________________________________\n",
      "dense_8 (Dense)              (None, 28)                21980     \n",
      "_________________________________________________________________\n",
      "dense_9 (Dense)              (None, 784)               22736     \n",
      "=================================================================\n",
      "Total params: 44,716\n",
      "Trainable params: 44,716\n",
      "Non-trainable params: 0\n",
      "_________________________________________________________________\n"
     ]
    }
   ],
   "source": [
    "inputImage = Input(shape=(size1,))\n",
    "encoded = Dense(size, activation='relu')(inputImage)\n",
    "decoded = Dense(size1, activation='sigmoid')(encoded)\n",
    "\n",
    "autoencoder = Model(inputImage, decoded)\n",
    "autoencoder.compile(optimizer='adam', loss='mse') \n",
    "autoencoder.summary()"
   ]
  },
  {
   "cell_type": "code",
   "execution_count": 15,
   "metadata": {
    "scrolled": true
   },
   "outputs": [
    {
     "name": "stdout",
     "output_type": "stream",
     "text": [
      "Epoch 1/100\n",
      "375/375 [==============================] - 2s 4ms/step - loss: 0.0947 - val_loss: 0.0373\n",
      "Epoch 2/100\n",
      "375/375 [==============================] - 1s 4ms/step - loss: 0.0342 - val_loss: 0.0261\n",
      "Epoch 3/100\n",
      "375/375 [==============================] - 1s 3ms/step - loss: 0.0248 - val_loss: 0.0206\n",
      "Epoch 4/100\n",
      "375/375 [==============================] - 1s 4ms/step - loss: 0.0198 - val_loss: 0.0175\n",
      "Epoch 5/100\n",
      "375/375 [==============================] - 1s 3ms/step - loss: 0.0171 - val_loss: 0.0157\n",
      "Epoch 6/100\n",
      "375/375 [==============================] - 1s 4ms/step - loss: 0.0153 - val_loss: 0.0144\n",
      "Epoch 7/100\n",
      "375/375 [==============================] - 1s 4ms/step - loss: 0.0141 - val_loss: 0.0136\n",
      "Epoch 8/100\n",
      "375/375 [==============================] - 1s 4ms/step - loss: 0.0134 - val_loss: 0.0131\n",
      "Epoch 9/100\n",
      "375/375 [==============================] - 1s 3ms/step - loss: 0.0129 - val_loss: 0.0128\n",
      "Epoch 10/100\n",
      "375/375 [==============================] - 1s 4ms/step - loss: 0.0126 - val_loss: 0.0126\n",
      "Epoch 11/100\n",
      "375/375 [==============================] - 1s 4ms/step - loss: 0.0125 - val_loss: 0.0124\n",
      "Epoch 12/100\n",
      "375/375 [==============================] - 1s 4ms/step - loss: 0.0123 - val_loss: 0.0123\n",
      "Epoch 13/100\n",
      "375/375 [==============================] - 1s 3ms/step - loss: 0.0122 - val_loss: 0.0123\n",
      "Epoch 14/100\n",
      "375/375 [==============================] - 1s 3ms/step - loss: 0.0121 - val_loss: 0.0122\n",
      "Epoch 15/100\n",
      "375/375 [==============================] - 1s 3ms/step - loss: 0.0121 - val_loss: 0.0122\n",
      "Epoch 16/100\n",
      "375/375 [==============================] - 1s 3ms/step - loss: 0.0120 - val_loss: 0.0121\n",
      "Epoch 17/100\n",
      "375/375 [==============================] - 1s 3ms/step - loss: 0.0120 - val_loss: 0.0121\n",
      "Epoch 18/100\n",
      "375/375 [==============================] - 1s 3ms/step - loss: 0.0120 - val_loss: 0.0121\n",
      "Epoch 19/100\n",
      "375/375 [==============================] - 1s 4ms/step - loss: 0.0120 - val_loss: 0.0120\n",
      "Epoch 20/100\n",
      "375/375 [==============================] - 1s 3ms/step - loss: 0.0119 - val_loss: 0.0120\n",
      "Epoch 21/100\n",
      "375/375 [==============================] - 1s 3ms/step - loss: 0.0119 - val_loss: 0.0120\n",
      "Epoch 22/100\n",
      "375/375 [==============================] - 1s 3ms/step - loss: 0.0119 - val_loss: 0.0120\n",
      "Epoch 23/100\n",
      "375/375 [==============================] - 1s 3ms/step - loss: 0.0118 - val_loss: 0.0120\n",
      "Epoch 24/100\n",
      "375/375 [==============================] - 1s 4ms/step - loss: 0.0118 - val_loss: 0.0120\n",
      "Epoch 25/100\n",
      "375/375 [==============================] - 1s 4ms/step - loss: 0.0118 - val_loss: 0.0119\n",
      "Epoch 26/100\n",
      "375/375 [==============================] - 1s 3ms/step - loss: 0.0118 - val_loss: 0.0119\n",
      "Epoch 27/100\n",
      "375/375 [==============================] - 1s 3ms/step - loss: 0.0117 - val_loss: 0.0119\n",
      "Epoch 28/100\n",
      "375/375 [==============================] - 1s 3ms/step - loss: 0.0117 - val_loss: 0.0119\n",
      "Epoch 29/100\n",
      "375/375 [==============================] - 1s 3ms/step - loss: 0.0118 - val_loss: 0.0119\n",
      "Epoch 30/100\n",
      "375/375 [==============================] - 1s 3ms/step - loss: 0.0118 - val_loss: 0.0119\n",
      "Epoch 31/100\n",
      "375/375 [==============================] - 1s 3ms/step - loss: 0.0117 - val_loss: 0.0120\n",
      "Epoch 32/100\n",
      "375/375 [==============================] - 1s 3ms/step - loss: 0.0117 - val_loss: 0.0119\n",
      "Epoch 33/100\n",
      "375/375 [==============================] - 1s 3ms/step - loss: 0.0117 - val_loss: 0.0119\n",
      "Epoch 34/100\n",
      "375/375 [==============================] - 1s 3ms/step - loss: 0.0117 - val_loss: 0.0119\n",
      "Epoch 35/100\n",
      "375/375 [==============================] - 1s 3ms/step - loss: 0.0116 - val_loss: 0.0119\n",
      "Epoch 36/100\n",
      "375/375 [==============================] - 1s 3ms/step - loss: 0.0117 - val_loss: 0.0119\n",
      "Epoch 37/100\n",
      "375/375 [==============================] - 1s 3ms/step - loss: 0.0117 - val_loss: 0.0119\n"
     ]
    },
    {
     "data": {
      "text/plain": [
       "<tensorflow.python.keras.callbacks.History at 0x7f8189920430>"
      ]
     },
     "execution_count": 15,
     "metadata": {},
     "output_type": "execute_result"
    }
   ],
   "source": [
    "### learning the autoencoder\n",
    "from tensorflow.keras.callbacks import EarlyStopping\n",
    "ourCallback = EarlyStopping(monitor='val_loss', min_delta=0.0001, patience=10, verbose=0, mode='auto', baseline=None, restore_best_weights=True)\n",
    "\n",
    "autoencoder.fit(xTrain, xTrain, epochs=100, batch_size=128, validation_split=0.2, shuffle=True,callbacks=[ourCallback])"
   ]
  },
  {
   "cell_type": "code",
   "execution_count": 21,
   "metadata": {},
   "outputs": [
    {
     "name": "stdout",
     "output_type": "stream",
     "text": [
      "1875/1875 [==============================] - 3s 2ms/step - loss: 0.0118\n",
      "train score =  0.011779389344155788\n",
      "313/313 [==============================] - 1s 2ms/step - loss: 0.0115\n",
      "test score =  0.01148584857583046\n"
     ]
    }
   ],
   "source": [
    "# scores\n",
    "print(\"train score = \", autoencoder.evaluate(xTrain,xTrain))\n",
    "print(\"test score = \", autoencoder.evaluate(xTest,xTest))"
   ]
  },
  {
   "cell_type": "code",
   "execution_count": 22,
   "metadata": {},
   "outputs": [],
   "source": [
    "xTrainPredicted = autoencoder.predict(xTrain)"
   ]
  },
  {
   "cell_type": "code",
   "execution_count": 23,
   "metadata": {},
   "outputs": [
    {
     "name": "stdout",
     "output_type": "stream",
     "text": [
      "image number:  58187\n",
      "(784,)\n",
      "(28, 28)\n"
     ]
    },
    {
     "data": {
      "image/png": "[encoded data removed]",
      "text/plain": [
       "<Figure size 432x288 with 2 Axes>"
      ]
     },
     "metadata": {
      "needs_background": "light"
     },
     "output_type": "display_data"
    }
   ],
   "source": [
    "# let's look at the images\n",
    "index = random.randint(0,len(xTrain)-1)\n",
    "print(\"image number: \", index)\n",
    "im1 = xTrain[index]\n",
    "im1 = im1.reshape((size,size))\n",
    "im2 = xTrainPredicted[index]\n",
    "print(im2.shape)\n",
    "im2 = im2.reshape((size,size))\n",
    "print(im2.shape)\n",
    "fig = plt.figure()\n",
    "ax = fig.add_subplot(1, 2, 1)\n",
    "plt.imshow(im1, cmap='gray')\n",
    "ax = fig.add_subplot(1, 2, 2)\n",
    "plt.imshow(im2, cmap='gray')\n",
    "plt.show()"
   ]
  },
  {
   "cell_type": "code",
   "execution_count": 24,
   "metadata": {},
   "outputs": [
    {
     "name": "stdout",
     "output_type": "stream",
     "text": [
      "image number:  19268\n"
     ]
    },
    {
     "data": {
      "image/png": "[encoded data removed]",
      "text/plain": [
       "<Figure size 1440x576 with 40 Axes>"
      ]
     },
     "metadata": {
      "needs_background": "light"
     },
     "output_type": "display_data"
    }
   ],
   "source": [
    "#more images (could also be done on the test dataset)\n",
    "index = random.randint(0,len(xTrain)-1)\n",
    "print(\"image number: \", index)\n",
    "\n",
    "fig = plt.figure(figsize=(20, 8))\n",
    "for i in range(1,11):\n",
    "    index = random.randint(0,len(xTrain)-1)\n",
    "    im1 = xTrain[index]\n",
    "    im1 = im1.reshape((size,size))\n",
    "    im2 = xTrainPredicted[index]\n",
    "    im2 = im2.reshape((size,size))\n",
    "    ax = fig.add_subplot(4, 10, i)\n",
    "    ax.get_xaxis().set_visible(False)\n",
    "    ax.get_yaxis().set_visible(False)\n",
    "    plt.imshow(im1, cmap='gray')\n",
    "    ax = fig.add_subplot(4, 10, i+10)\n",
    "    ax.get_xaxis().set_visible(False)\n",
    "    ax.get_yaxis().set_visible(False)\n",
    "    plt.imshow(im2, cmap='gray')\n",
    "    \n",
    "    index = random.randint(0,len(xTrain)-1)\n",
    "    im1 = xTrain[index]\n",
    "    im1 = im1.reshape((size,size))\n",
    "    im2 = xTrainPredicted[index]\n",
    "    im2 = im2.reshape((size,size))\n",
    "    ax = fig.add_subplot(4, 10, i+20)\n",
    "    ax.get_xaxis().set_visible(False)\n",
    "    ax.get_yaxis().set_visible(False)\n",
    "    plt.imshow(im1, cmap='gray')\n",
    "    ax = fig.add_subplot(4, 10, i+30)\n",
    "    ax.get_xaxis().set_visible(False)\n",
    "    ax.get_yaxis().set_visible(False)\n",
    "    plt.imshow(im2, cmap='gray')\n",
    "plt.show()"
   ]
  },
  {
   "cell_type": "markdown",
   "metadata": {},
   "source": [
    "## a more complex autoencoder"
   ]
  },
  {
   "cell_type": "code",
   "execution_count": 4,
   "metadata": {
    "scrolled": false
   },
   "outputs": [
    {
     "name": "stdout",
     "output_type": "stream",
     "text": [
      "Model: \"model\"\n",
      "_________________________________________________________________\n",
      "Layer (type)                 Output Shape              Param #   \n",
      "=================================================================\n",
      "input_1 (InputLayer)         [(None, 784)]             0         \n",
      "_________________________________________________________________\n",
      "dense (Dense)                (None, 500)               392500    \n",
      "_________________________________________________________________\n",
      "dense_1 (Dense)              (None, 250)               125250    \n",
      "_________________________________________________________________\n",
      "dense_2 (Dense)              (None, 28)                7028      \n",
      "_________________________________________________________________\n",
      "dense_3 (Dense)              (None, 250)               7250      \n",
      "_________________________________________________________________\n",
      "dense_4 (Dense)              (None, 500)               125500    \n",
      "_________________________________________________________________\n",
      "dense_5 (Dense)              (None, 784)               392784    \n",
      "=================================================================\n",
      "Total params: 1,050,312\n",
      "Trainable params: 1,050,312\n",
      "Non-trainable params: 0\n",
      "_________________________________________________________________\n"
     ]
    }
   ],
   "source": [
    "inputImage = Input(shape=(size1,))\n",
    "encoded = Dense(500, activation='relu')(inputImage)\n",
    "encoded = Dense(250, activation='relu')(encoded)\n",
    "encoded = Dense(28, activation='relu')(encoded)\n",
    "decoded = Dense(250, activation='relu')(encoded)\n",
    "decoded = Dense(500, activation='relu')(decoded)\n",
    "decoded = Dense(size1, activation='sigmoid')(decoded)\n",
    "\n",
    "autoencoder = Model(inputImage, decoded)\n",
    "autoencoder.compile(optimizer='adam', loss='mse') \n",
    "autoencoder.summary()"
   ]
  },
  {
   "cell_type": "code",
   "execution_count": 5,
   "metadata": {
    "scrolled": false
   },
   "outputs": [
    {
     "name": "stdout",
     "output_type": "stream",
     "text": [
      "Epoch 1/100\n",
      "375/375 [==============================] - 3s 6ms/step - loss: 0.0663 - val_loss: 0.0197\n",
      "Epoch 2/100\n",
      "375/375 [==============================] - 2s 5ms/step - loss: 0.0179 - val_loss: 0.0149\n",
      "Epoch 3/100\n",
      "375/375 [==============================] - 2s 5ms/step - loss: 0.0141 - val_loss: 0.0131\n",
      "Epoch 4/100\n",
      "375/375 [==============================] - 2s 5ms/step - loss: 0.0125 - val_loss: 0.0119\n",
      "Epoch 5/100\n",
      "375/375 [==============================] - 2s 5ms/step - loss: 0.0115 - val_loss: 0.0114\n",
      "Epoch 6/100\n",
      "375/375 [==============================] - 2s 6ms/step - loss: 0.0108 - val_loss: 0.0107\n",
      "Epoch 7/100\n",
      "375/375 [==============================] - 2s 6ms/step - loss: 0.0101 - val_loss: 0.0101\n",
      "Epoch 8/100\n",
      "375/375 [==============================] - 2s 6ms/step - loss: 0.0097 - val_loss: 0.0099\n",
      "Epoch 9/100\n",
      "375/375 [==============================] - 2s 6ms/step - loss: 0.0094 - val_loss: 0.0097\n",
      "Epoch 10/100\n",
      "375/375 [==============================] - 2s 6ms/step - loss: 0.0091 - val_loss: 0.0094\n",
      "Epoch 11/100\n",
      "375/375 [==============================] - 2s 7ms/step - loss: 0.0088 - val_loss: 0.0092\n",
      "Epoch 12/100\n",
      "375/375 [==============================] - 2s 6ms/step - loss: 0.0086 - val_loss: 0.0091\n",
      "Epoch 13/100\n",
      "375/375 [==============================] - 2s 6ms/step - loss: 0.0084 - val_loss: 0.0089\n",
      "Epoch 14/100\n",
      "375/375 [==============================] - 2s 6ms/step - loss: 0.0082 - val_loss: 0.0088\n",
      "Epoch 15/100\n",
      "375/375 [==============================] - 2s 6ms/step - loss: 0.0080 - val_loss: 0.0087\n",
      "Epoch 16/100\n",
      "375/375 [==============================] - 2s 5ms/step - loss: 0.0079 - val_loss: 0.0086\n",
      "Epoch 17/100\n",
      "375/375 [==============================] - 2s 5ms/step - loss: 0.0078 - val_loss: 0.0085\n",
      "Epoch 18/100\n",
      "375/375 [==============================] - 2s 6ms/step - loss: 0.0077 - val_loss: 0.0084\n",
      "Epoch 19/100\n",
      "375/375 [==============================] - 2s 6ms/step - loss: 0.0075 - val_loss: 0.0084\n",
      "Epoch 20/100\n",
      "375/375 [==============================] - 2s 6ms/step - loss: 0.0075 - val_loss: 0.0083\n",
      "Epoch 21/100\n",
      "375/375 [==============================] - 2s 5ms/step - loss: 0.0073 - val_loss: 0.0082\n",
      "Epoch 22/100\n",
      "375/375 [==============================] - 2s 6ms/step - loss: 0.0073 - val_loss: 0.0082\n",
      "Epoch 23/100\n",
      "375/375 [==============================] - 2s 6ms/step - loss: 0.0072 - val_loss: 0.0081\n",
      "Epoch 24/100\n",
      "375/375 [==============================] - 2s 6ms/step - loss: 0.0071 - val_loss: 0.0081\n",
      "Epoch 25/100\n",
      "375/375 [==============================] - 2s 6ms/step - loss: 0.0070 - val_loss: 0.0081\n",
      "Epoch 26/100\n",
      "375/375 [==============================] - 2s 6ms/step - loss: 0.0070 - val_loss: 0.0081\n",
      "Epoch 27/100\n",
      "375/375 [==============================] - 2s 6ms/step - loss: 0.0069 - val_loss: 0.0080\n",
      "Epoch 28/100\n",
      "375/375 [==============================] - 2s 6ms/step - loss: 0.0069 - val_loss: 0.0079\n",
      "Epoch 29/100\n",
      "375/375 [==============================] - 2s 5ms/step - loss: 0.0067 - val_loss: 0.0078\n",
      "Epoch 30/100\n",
      "375/375 [==============================] - 2s 5ms/step - loss: 0.0067 - val_loss: 0.0079\n",
      "Epoch 31/100\n",
      "375/375 [==============================] - 2s 6ms/step - loss: 0.0067 - val_loss: 0.0079\n",
      "Epoch 32/100\n",
      "375/375 [==============================] - 2s 6ms/step - loss: 0.0066 - val_loss: 0.0078\n",
      "Epoch 33/100\n",
      "375/375 [==============================] - 2s 5ms/step - loss: 0.0066 - val_loss: 0.0078\n",
      "Epoch 34/100\n",
      "375/375 [==============================] - 2s 5ms/step - loss: 0.0065 - val_loss: 0.0078\n",
      "Epoch 35/100\n",
      "375/375 [==============================] - 2s 6ms/step - loss: 0.0065 - val_loss: 0.0079\n",
      "Epoch 36/100\n",
      "375/375 [==============================] - 2s 7ms/step - loss: 0.0064 - val_loss: 0.0077\n",
      "Epoch 37/100\n",
      "375/375 [==============================] - 2s 6ms/step - loss: 0.0064 - val_loss: 0.0078\n",
      "Epoch 38/100\n",
      "375/375 [==============================] - 2s 6ms/step - loss: 0.0064 - val_loss: 0.0078\n",
      "Epoch 39/100\n",
      "375/375 [==============================] - 2s 6ms/step - loss: 0.0063 - val_loss: 0.0077\n",
      "Epoch 40/100\n",
      "375/375 [==============================] - 2s 5ms/step - loss: 0.0063 - val_loss: 0.0077\n",
      "Epoch 41/100\n",
      "375/375 [==============================] - 2s 5ms/step - loss: 0.0063 - val_loss: 0.0076\n",
      "Epoch 42/100\n",
      "375/375 [==============================] - 2s 6ms/step - loss: 0.0062 - val_loss: 0.0076\n",
      "Epoch 43/100\n",
      "375/375 [==============================] - 2s 6ms/step - loss: 0.0062 - val_loss: 0.0076\n",
      "Epoch 44/100\n",
      "375/375 [==============================] - 2s 6ms/step - loss: 0.0062 - val_loss: 0.0076\n",
      "Epoch 45/100\n",
      "375/375 [==============================] - 2s 5ms/step - loss: 0.0062 - val_loss: 0.0075\n",
      "Epoch 46/100\n",
      "375/375 [==============================] - 2s 5ms/step - loss: 0.0061 - val_loss: 0.0076\n",
      "Epoch 47/100\n",
      "375/375 [==============================] - 2s 6ms/step - loss: 0.0061 - val_loss: 0.0076\n",
      "Epoch 48/100\n",
      "375/375 [==============================] - 2s 6ms/step - loss: 0.0061 - val_loss: 0.0075\n",
      "Epoch 49/100\n",
      "375/375 [==============================] - 2s 6ms/step - loss: 0.0060 - val_loss: 0.0076\n",
      "Epoch 50/100\n",
      "375/375 [==============================] - 2s 6ms/step - loss: 0.0060 - val_loss: 0.0075\n",
      "Epoch 51/100\n",
      "375/375 [==============================] - 2s 6ms/step - loss: 0.0060 - val_loss: 0.0075\n",
      "Epoch 52/100\n",
      "375/375 [==============================] - 2s 6ms/step - loss: 0.0060 - val_loss: 0.0076\n",
      "Epoch 53/100\n",
      "375/375 [==============================] - 2s 5ms/step - loss: 0.0059 - val_loss: 0.0075\n",
      "Epoch 54/100\n",
      "375/375 [==============================] - 2s 6ms/step - loss: 0.0059 - val_loss: 0.0075\n",
      "Epoch 55/100\n",
      "375/375 [==============================] - 2s 5ms/step - loss: 0.0059 - val_loss: 0.0075\n"
     ]
    },
    {
     "data": {
      "text/plain": [
       "<tensorflow.python.keras.callbacks.History at 0x7f4e198521c0>"
      ]
     },
     "execution_count": 5,
     "metadata": {},
     "output_type": "execute_result"
    }
   ],
   "source": [
    "### learning the autoencoder\n",
    "from tensorflow.keras.callbacks import EarlyStopping\n",
    "ourCallback = EarlyStopping(monitor='val_loss', min_delta=0.0001, patience=10, verbose=0, mode='auto', baseline=None, restore_best_weights=True)\n",
    "\n",
    "autoencoder.fit(xTrain, xTrain, epochs=100, batch_size=128, validation_split=0.2, shuffle=True,callbacks=[ourCallback])"
   ]
  },
  {
   "cell_type": "code",
   "execution_count": 6,
   "metadata": {},
   "outputs": [
    {
     "name": "stdout",
     "output_type": "stream",
     "text": [
      "1875/1875 [==============================] - 4s 2ms/step - loss: 0.0063\n",
      "train score =  0.006284228526055813\n",
      "313/313 [==============================] - 1s 2ms/step - loss: 0.0073\n",
      "test score =  0.007336064707487822\n"
     ]
    }
   ],
   "source": [
    "# scores\n",
    "print(\"train score = \", autoencoder.evaluate(xTrain,xTrain))\n",
    "print(\"test score = \", autoencoder.evaluate(xTest,xTest))"
   ]
  },
  {
   "cell_type": "code",
   "execution_count": 7,
   "metadata": {},
   "outputs": [],
   "source": [
    "xTrainPredicted = autoencoder.predict(xTrain)"
   ]
  },
  {
   "cell_type": "code",
   "execution_count": 8,
   "metadata": {},
   "outputs": [
    {
     "name": "stdout",
     "output_type": "stream",
     "text": [
      "image number:  2664\n",
      "(784,)\n",
      "(28, 28)\n"
     ]
    },
    {
     "data": {
      "image/png": "[encoded data removed]",
      "text/plain": [
       "<Figure size 432x288 with 2 Axes>"
      ]
     },
     "metadata": {
      "needs_background": "light"
     },
     "output_type": "display_data"
    }
   ],
   "source": [
    "# let's look at the images\n",
    "index = random.randint(0,len(xTrain)-1)\n",
    "print(\"image number: \", index)\n",
    "im1 = xTrain[index]\n",
    "im1 = im1.reshape((size,size))\n",
    "im2 = xTrainPredicted[index]\n",
    "print(im2.shape)\n",
    "im2 = im2.reshape((size,size))\n",
    "print(im2.shape)\n",
    "fig = plt.figure()\n",
    "ax = fig.add_subplot(1, 2, 1)\n",
    "plt.imshow(im1, cmap='gray')\n",
    "ax = fig.add_subplot(1, 2, 2)\n",
    "plt.imshow(im2, cmap='gray')\n",
    "plt.show()"
   ]
  },
  {
   "cell_type": "code",
   "execution_count": 9,
   "metadata": {},
   "outputs": [
    {
     "name": "stdout",
     "output_type": "stream",
     "text": [
      "image number:  24796\n"
     ]
    },
    {
     "data": {
      "image/png": "[encoded data removed]",
      "text/plain": [
       "<Figure size 1440x576 with 40 Axes>"
      ]
     },
     "metadata": {
      "needs_background": "light"
     },
     "output_type": "display_data"
    }
   ],
   "source": [
    "#more images (could also be done on the test dataset)\n",
    "index = random.randint(0,len(xTrain)-1)\n",
    "print(\"image number: \", index)\n",
    "\n",
    "fig = plt.figure(figsize=(20, 8))\n",
    "for i in range(1,11):\n",
    "    index = random.randint(0,len(xTrain)-1)\n",
    "    im1 = xTrain[index]\n",
    "    im1 = im1.reshape((size,size))\n",
    "    im2 = xTrainPredicted[index]\n",
    "    im2 = im2.reshape((size,size))\n",
    "    ax = fig.add_subplot(4, 10, i)\n",
    "    ax.get_xaxis().set_visible(False)\n",
    "    ax.get_yaxis().set_visible(False)\n",
    "    plt.imshow(im1, cmap='gray')\n",
    "    ax = fig.add_subplot(4, 10, i+10)\n",
    "    ax.get_xaxis().set_visible(False)\n",
    "    ax.get_yaxis().set_visible(False)\n",
    "    plt.imshow(im2, cmap='gray')\n",
    "    \n",
    "    index = random.randint(0,len(xTrain)-1)\n",
    "    im1 = xTrain[index]\n",
    "    im1 = im1.reshape((size,size))\n",
    "    im2 = xTrainPredicted[index]\n",
    "    im2 = im2.reshape((size,size))\n",
    "    ax = fig.add_subplot(4, 10, i+20)\n",
    "    ax.get_xaxis().set_visible(False)\n",
    "    ax.get_yaxis().set_visible(False)\n",
    "    plt.imshow(im1, cmap='gray')\n",
    "    ax = fig.add_subplot(4, 10, i+30)\n",
    "    ax.get_xaxis().set_visible(False)\n",
    "    ax.get_yaxis().set_visible(False)\n",
    "    plt.imshow(im2, cmap='gray')\n",
    "plt.show()"
   ]
  },
  {
   "cell_type": "markdown",
   "metadata": {},
   "source": [
    "## a convolutional autoencoder"
   ]
  },
  {
   "cell_type": "code",
   "execution_count": 13,
   "metadata": {},
   "outputs": [],
   "source": [
    "xTrain = x_train\n",
    "xTest = x_test"
   ]
  },
  {
   "cell_type": "code",
   "execution_count": 18,
   "metadata": {
    "scrolled": true
   },
   "outputs": [
    {
     "name": "stdout",
     "output_type": "stream",
     "text": [
      "Model: \"model_3\"\n",
      "_________________________________________________________________\n",
      "Layer (type)                 Output Shape              Param #   \n",
      "=================================================================\n",
      "input_5 (InputLayer)         [(None, 28, 28, 1)]       0         \n",
      "_________________________________________________________________\n",
      "conv2d_12 (Conv2D)           (None, 28, 28, 32)        320       \n",
      "_________________________________________________________________\n",
      "max_pooling2d_6 (MaxPooling2 (None, 14, 14, 32)        0         \n",
      "_________________________________________________________________\n",
      "conv2d_13 (Conv2D)           (None, 14, 14, 16)        4624      \n",
      "_________________________________________________________________\n",
      "max_pooling2d_7 (MaxPooling2 (None, 7, 7, 16)          0         \n",
      "_________________________________________________________________\n",
      "up_sampling2d_4 (UpSampling2 (None, 14, 14, 16)        0         \n",
      "_________________________________________________________________\n",
      "conv2d_14 (Conv2D)           (None, 14, 14, 16)        2320      \n",
      "_________________________________________________________________\n",
      "up_sampling2d_5 (UpSampling2 (None, 28, 28, 16)        0         \n",
      "_________________________________________________________________\n",
      "conv2d_15 (Conv2D)           (None, 28, 28, 32)        4640      \n",
      "_________________________________________________________________\n",
      "conv2d_16 (Conv2D)           (None, 28, 28, 1)         289       \n",
      "=================================================================\n",
      "Total params: 12,193\n",
      "Trainable params: 12,193\n",
      "Non-trainable params: 0\n",
      "_________________________________________________________________\n"
     ]
    }
   ],
   "source": [
    "inputImage = Input(shape=(size, size, 1))\n",
    "encoded = Conv2D(32, (3, 3), activation='relu', padding='same')(inputImage)\n",
    "encoded = MaxPooling2D((2, 2), padding='same')(encoded)\n",
    "encoded = Conv2D(16, (3, 3), activation='relu', padding='same')(encoded)\n",
    "encoded = MaxPooling2D((2, 2), padding='same')(encoded)\n",
    "encoded = UpSampling2D((2,2))(encoded)\n",
    "\n",
    "decoded = Conv2D(16, (3, 3), activation='relu', padding='same')(encoded)\n",
    "decoded = UpSampling2D((2, 2))(decoded)\n",
    "decoded = Conv2D(32, (3, 3), activation='relu',padding='same')(decoded)\n",
    "decoded = Conv2D(1, (3,3), activation=\"relu\", padding=\"same\")(decoded)\n",
    "\n",
    "autoencoder = Model(inputImage, decoded)\n",
    "autoencoder.compile(optimizer='adam', loss='mse') \n",
    "autoencoder.summary()"
   ]
  },
  {
   "cell_type": "markdown",
   "metadata": {},
   "source": [
    "What is the dimension of the bottleneck ? Learn, test, and observe the differences.\n",
    "\n",
    "Don't forget to put (28x28 images in input)"
   ]
  },
  {
   "cell_type": "code",
   "execution_count": 19,
   "metadata": {
    "scrolled": true
   },
   "outputs": [
    {
     "name": "stdout",
     "output_type": "stream",
     "text": [
      "Epoch 1/100\n",
      "375/375 [==============================] - 13s 26ms/step - loss: 0.0207 - val_loss: 0.0048\n",
      "Epoch 2/100\n",
      "375/375 [==============================] - 9s 25ms/step - loss: 0.0043 - val_loss: 0.0037\n",
      "Epoch 3/100\n",
      "375/375 [==============================] - 9s 25ms/step - loss: 0.0035 - val_loss: 0.0032\n",
      "Epoch 4/100\n",
      "375/375 [==============================] - 9s 25ms/step - loss: 0.0031 - val_loss: 0.0029\n",
      "Epoch 5/100\n",
      "375/375 [==============================] - 9s 25ms/step - loss: 0.0028 - val_loss: 0.0027\n",
      "Epoch 6/100\n",
      "375/375 [==============================] - 9s 25ms/step - loss: 0.0026 - val_loss: 0.0026\n",
      "Epoch 7/100\n",
      "375/375 [==============================] - 9s 25ms/step - loss: 0.0025 - val_loss: 0.0024\n",
      "Epoch 8/100\n",
      "375/375 [==============================] - 9s 25ms/step - loss: 0.0023 - val_loss: 0.0023\n",
      "Epoch 9/100\n",
      "375/375 [==============================] - 9s 25ms/step - loss: 0.0022 - val_loss: 0.0022\n",
      "Epoch 10/100\n",
      "375/375 [==============================] - 9s 25ms/step - loss: 0.0022 - val_loss: 0.0021\n",
      "Epoch 11/100\n",
      "375/375 [==============================] - 9s 25ms/step - loss: 0.0021 - val_loss: 0.0021\n",
      "Epoch 12/100\n",
      "375/375 [==============================] - 9s 25ms/step - loss: 0.0020 - val_loss: 0.0020\n",
      "Epoch 13/100\n",
      "375/375 [==============================] - 9s 25ms/step - loss: 0.0020 - val_loss: 0.0019\n",
      "Epoch 14/100\n",
      "375/375 [==============================] - 9s 25ms/step - loss: 0.0019 - val_loss: 0.0019\n",
      "Epoch 15/100\n",
      "375/375 [==============================] - 9s 25ms/step - loss: 0.0018 - val_loss: 0.0018\n",
      "Epoch 16/100\n",
      "375/375 [==============================] - 9s 25ms/step - loss: 0.0018 - val_loss: 0.0018\n",
      "Epoch 17/100\n",
      "375/375 [==============================] - 9s 25ms/step - loss: 0.0018 - val_loss: 0.0018\n",
      "Epoch 18/100\n",
      "375/375 [==============================] - 9s 25ms/step - loss: 0.0017 - val_loss: 0.0018\n",
      "Epoch 19/100\n",
      "375/375 [==============================] - 9s 25ms/step - loss: 0.0017 - val_loss: 0.0017\n",
      "Epoch 20/100\n",
      "375/375 [==============================] - 9s 25ms/step - loss: 0.0017 - val_loss: 0.0017\n",
      "Epoch 21/100\n",
      "375/375 [==============================] - 9s 25ms/step - loss: 0.0017 - val_loss: 0.0018\n",
      "Epoch 22/100\n",
      "375/375 [==============================] - 9s 25ms/step - loss: 0.0016 - val_loss: 0.0016\n",
      "Epoch 23/100\n",
      "375/375 [==============================] - 9s 24ms/step - loss: 0.0016 - val_loss: 0.0016\n",
      "Epoch 24/100\n",
      "375/375 [==============================] - 9s 25ms/step - loss: 0.0016 - val_loss: 0.0016\n",
      "Epoch 25/100\n",
      "375/375 [==============================] - 9s 24ms/step - loss: 0.0016 - val_loss: 0.0016\n",
      "Epoch 26/100\n",
      "375/375 [==============================] - 9s 24ms/step - loss: 0.0016 - val_loss: 0.0016\n",
      "Epoch 27/100\n",
      "375/375 [==============================] - 9s 24ms/step - loss: 0.0015 - val_loss: 0.0016\n",
      "Epoch 28/100\n",
      "375/375 [==============================] - 9s 24ms/step - loss: 0.0015 - val_loss: 0.0015\n",
      "Epoch 29/100\n",
      "375/375 [==============================] - 9s 24ms/step - loss: 0.0015 - val_loss: 0.0015\n",
      "Epoch 30/100\n",
      "375/375 [==============================] - 9s 24ms/step - loss: 0.0015 - val_loss: 0.0015\n",
      "Epoch 31/100\n",
      "375/375 [==============================] - 9s 24ms/step - loss: 0.0015 - val_loss: 0.0015\n",
      "Epoch 32/100\n",
      "375/375 [==============================] - 9s 25ms/step - loss: 0.0015 - val_loss: 0.0016\n",
      "Epoch 33/100\n",
      "375/375 [==============================] - 9s 25ms/step - loss: 0.0015 - val_loss: 0.0015\n",
      "Epoch 34/100\n",
      "375/375 [==============================] - 9s 25ms/step - loss: 0.0014 - val_loss: 0.0015\n",
      "Epoch 35/100\n",
      "375/375 [==============================] - 9s 25ms/step - loss: 0.0014 - val_loss: 0.0015\n",
      "Epoch 36/100\n",
      "375/375 [==============================] - 9s 25ms/step - loss: 0.0014 - val_loss: 0.0015\n",
      "Epoch 37/100\n",
      "375/375 [==============================] - 9s 25ms/step - loss: 0.0014 - val_loss: 0.0015\n",
      "Epoch 38/100\n",
      "375/375 [==============================] - 9s 25ms/step - loss: 0.0014 - val_loss: 0.0015\n"
     ]
    },
    {
     "data": {
      "text/plain": [
       "<tensorflow.python.keras.callbacks.History at 0x7f4d8c18e280>"
      ]
     },
     "execution_count": 19,
     "metadata": {},
     "output_type": "execute_result"
    }
   ],
   "source": [
    "### learning the autoencoder\n",
    "from tensorflow.keras.callbacks import EarlyStopping\n",
    "ourCallback = EarlyStopping(monitor='val_loss', min_delta=0.0001, patience=10, verbose=0, mode='auto', baseline=None, restore_best_weights=True)\n",
    "\n",
    "autoencoder.fit(xTrain, xTrain, epochs=10, batch_size=128, validation_split=0.2, shuffle=True,callbacks=[ourCallback])"
   ]
  },
  {
   "cell_type": "code",
   "execution_count": 20,
   "metadata": {},
   "outputs": [
    {
     "name": "stdout",
     "output_type": "stream",
     "text": [
      "1875/1875 [==============================] - 8s 4ms/step - loss: 0.0015\n",
      "train score =  0.0015009326161816716\n",
      "313/313 [==============================] - 1s 4ms/step - loss: 0.0015\n",
      "test score =  0.001482742140069604\n"
     ]
    }
   ],
   "source": [
    "# scores\n",
    "print(\"train score = \", autoencoder.evaluate(xTrain,xTrain))\n",
    "print(\"test score = \", autoencoder.evaluate(xTest,xTest))"
   ]
  },
  {
   "cell_type": "code",
   "execution_count": 21,
   "metadata": {},
   "outputs": [],
   "source": [
    "xTrainPredicted = autoencoder.predict(xTrain)"
   ]
  },
  {
   "cell_type": "code",
   "execution_count": 22,
   "metadata": {},
   "outputs": [
    {
     "name": "stdout",
     "output_type": "stream",
     "text": [
      "image number:  16808\n",
      "(28, 28, 1)\n",
      "(28, 28)\n"
     ]
    },
    {
     "data": {
      "image/png": "[encoded data removed]",
      "text/plain": [
       "<Figure size 432x288 with 2 Axes>"
      ]
     },
     "metadata": {
      "needs_background": "light"
     },
     "output_type": "display_data"
    }
   ],
   "source": [
    "# let's look at the images\n",
    "index = random.randint(0,len(xTrain)-1)\n",
    "print(\"image number: \", index)\n",
    "im1 = xTrain[index]\n",
    "im1 = im1.reshape((size,size))\n",
    "im2 = xTrainPredicted[index]\n",
    "print(im2.shape)\n",
    "im2 = im2.reshape((size,size))\n",
    "print(im2.shape)\n",
    "fig = plt.figure()\n",
    "ax = fig.add_subplot(1, 2, 1)\n",
    "plt.imshow(im1, cmap='gray')\n",
    "ax = fig.add_subplot(1, 2, 2)\n",
    "plt.imshow(im2, cmap='gray')\n",
    "plt.show()"
   ]
  },
  {
   "cell_type": "code",
   "execution_count": 23,
   "metadata": {},
   "outputs": [
    {
     "name": "stdout",
     "output_type": "stream",
     "text": [
      "image number:  12489\n"
     ]
    },
    {
     "data": {
      "image/png": "[encoded data removed]",
      "text/plain": [
       "<Figure size 1440x576 with 40 Axes>"
      ]
     },
     "metadata": {
      "needs_background": "light"
     },
     "output_type": "display_data"
    }
   ],
   "source": [
    "#more images (could also be done on the test dataset)\n",
    "index = random.randint(0,len(xTrain)-1)\n",
    "print(\"image number: \", index)\n",
    "\n",
    "fig = plt.figure(figsize=(20, 8))\n",
    "for i in range(1,11):\n",
    "    index = random.randint(0,len(xTrain)-1)\n",
    "    im1 = xTrain[index]\n",
    "    im1 = im1.reshape((size,size))\n",
    "    im2 = xTrainPredicted[index]\n",
    "    im2 = im2.reshape((size,size))\n",
    "    ax = fig.add_subplot(4, 10, i)\n",
    "    ax.get_xaxis().set_visible(False)\n",
    "    ax.get_yaxis().set_visible(False)\n",
    "    plt.imshow(im1, cmap='gray')\n",
    "    ax = fig.add_subplot(4, 10, i+10)\n",
    "    ax.get_xaxis().set_visible(False)\n",
    "    ax.get_yaxis().set_visible(False)\n",
    "    plt.imshow(im2, cmap='gray')\n",
    "    \n",
    "    index = random.randint(0,len(xTrain)-1)\n",
    "    im1 = xTrain[index]\n",
    "    im1 = im1.reshape((size,size))\n",
    "    im2 = xTrainPredicted[index]\n",
    "    im2 = im2.reshape((size,size))\n",
    "    ax = fig.add_subplot(4, 10, i+20)\n",
    "    ax.get_xaxis().set_visible(False)\n",
    "    ax.get_yaxis().set_visible(False)\n",
    "    plt.imshow(im1, cmap='gray')\n",
    "    ax = fig.add_subplot(4, 10, i+30)\n",
    "    ax.get_xaxis().set_visible(False)\n",
    "    ax.get_yaxis().set_visible(False)\n",
    "    plt.imshow(im2, cmap='gray')\n",
    "plt.show()"
   ]
  },
  {
   "cell_type": "markdown",
   "metadata": {},
   "source": [
    "## separate encoding and decoding"
   ]
  },
  {
   "cell_type": "code",
   "execution_count": 128,
   "metadata": {
    "scrolled": true
   },
   "outputs": [
    {
     "name": "stdout",
     "output_type": "stream",
     "text": [
      "Epoch 1/100\n",
      "375/375 [==============================] - 3s 7ms/step - loss: 0.0635 - val_loss: 0.0176\n",
      "Epoch 2/100\n",
      "375/375 [==============================] - 2s 6ms/step - loss: 0.0157 - val_loss: 0.0126\n",
      "Epoch 3/100\n",
      "375/375 [==============================] - 2s 6ms/step - loss: 0.0119 - val_loss: 0.0109\n",
      "Epoch 4/100\n",
      "375/375 [==============================] - 2s 6ms/step - loss: 0.0103 - val_loss: 0.0099\n",
      "Epoch 5/100\n",
      "375/375 [==============================] - 2s 6ms/step - loss: 0.0092 - val_loss: 0.0092\n",
      "Epoch 6/100\n",
      "375/375 [==============================] - 2s 6ms/step - loss: 0.0086 - val_loss: 0.0086\n",
      "Epoch 7/100\n",
      "375/375 [==============================] - 2s 6ms/step - loss: 0.0080 - val_loss: 0.0082\n",
      "Epoch 8/100\n",
      "375/375 [==============================] - 2s 6ms/step - loss: 0.0076 - val_loss: 0.0078\n",
      "Epoch 9/100\n",
      "375/375 [==============================] - 2s 6ms/step - loss: 0.0074 - val_loss: 0.0076\n",
      "Epoch 10/100\n",
      "375/375 [==============================] - 2s 6ms/step - loss: 0.0071 - val_loss: 0.0074\n",
      "Epoch 11/100\n",
      "375/375 [==============================] - 2s 6ms/step - loss: 0.0069 - val_loss: 0.0073\n",
      "Epoch 12/100\n",
      "375/375 [==============================] - 2s 6ms/step - loss: 0.0067 - val_loss: 0.0072\n",
      "Epoch 13/100\n",
      "375/375 [==============================] - 2s 6ms/step - loss: 0.0065 - val_loss: 0.0070\n",
      "Epoch 14/100\n",
      "375/375 [==============================] - 2s 6ms/step - loss: 0.0063 - val_loss: 0.0070\n",
      "Epoch 15/100\n",
      "375/375 [==============================] - 2s 6ms/step - loss: 0.0062 - val_loss: 0.0067\n",
      "Epoch 16/100\n",
      "375/375 [==============================] - 2s 6ms/step - loss: 0.0061 - val_loss: 0.0066\n",
      "Epoch 17/100\n",
      "375/375 [==============================] - 2s 6ms/step - loss: 0.0060 - val_loss: 0.0066\n",
      "Epoch 18/100\n",
      "375/375 [==============================] - 2s 6ms/step - loss: 0.0059 - val_loss: 0.0065\n",
      "Epoch 19/100\n",
      "375/375 [==============================] - 2s 6ms/step - loss: 0.0058 - val_loss: 0.0064\n",
      "Epoch 20/100\n",
      "375/375 [==============================] - 2s 6ms/step - loss: 0.0058 - val_loss: 0.0064\n",
      "Epoch 21/100\n",
      "375/375 [==============================] - 2s 6ms/step - loss: 0.0057 - val_loss: 0.0064\n",
      "Epoch 22/100\n",
      "375/375 [==============================] - 2s 6ms/step - loss: 0.0056 - val_loss: 0.0064\n",
      "Epoch 23/100\n",
      "375/375 [==============================] - 2s 6ms/step - loss: 0.0055 - val_loss: 0.0063\n",
      "Epoch 24/100\n",
      "375/375 [==============================] - 2s 6ms/step - loss: 0.0055 - val_loss: 0.0062\n",
      "Epoch 25/100\n",
      "375/375 [==============================] - 2s 6ms/step - loss: 0.0054 - val_loss: 0.0062\n",
      "Epoch 26/100\n",
      "375/375 [==============================] - 2s 6ms/step - loss: 0.0054 - val_loss: 0.0064\n",
      "Epoch 27/100\n",
      "375/375 [==============================] - 2s 6ms/step - loss: 0.0053 - val_loss: 0.0062\n",
      "Epoch 28/100\n",
      "375/375 [==============================] - 2s 6ms/step - loss: 0.0053 - val_loss: 0.0062\n",
      "Epoch 29/100\n",
      "375/375 [==============================] - 2s 6ms/step - loss: 0.0052 - val_loss: 0.0062\n",
      "Epoch 30/100\n",
      "375/375 [==============================] - 2s 6ms/step - loss: 0.0052 - val_loss: 0.0061\n",
      "Epoch 31/100\n",
      "375/375 [==============================] - 2s 6ms/step - loss: 0.0051 - val_loss: 0.0060\n",
      "Epoch 32/100\n",
      "375/375 [==============================] - 2s 6ms/step - loss: 0.0051 - val_loss: 0.0059\n",
      "Epoch 33/100\n",
      "375/375 [==============================] - 2s 6ms/step - loss: 0.0051 - val_loss: 0.0060\n",
      "Epoch 34/100\n",
      "375/375 [==============================] - 2s 6ms/step - loss: 0.0050 - val_loss: 0.0060\n",
      "Epoch 35/100\n",
      "375/375 [==============================] - 2s 6ms/step - loss: 0.0050 - val_loss: 0.0060\n",
      "Epoch 36/100\n",
      "375/375 [==============================] - 2s 6ms/step - loss: 0.0050 - val_loss: 0.0060\n",
      "Epoch 37/100\n",
      "375/375 [==============================] - 2s 6ms/step - loss: 0.0050 - val_loss: 0.0058\n",
      "Epoch 38/100\n",
      "375/375 [==============================] - 2s 6ms/step - loss: 0.0049 - val_loss: 0.0059\n",
      "Epoch 39/100\n",
      "375/375 [==============================] - 2s 6ms/step - loss: 0.0049 - val_loss: 0.0058\n",
      "Epoch 40/100\n",
      "375/375 [==============================] - 2s 6ms/step - loss: 0.0048 - val_loss: 0.0058\n",
      "Epoch 41/100\n",
      "375/375 [==============================] - 2s 6ms/step - loss: 0.0048 - val_loss: 0.0059\n",
      "Epoch 42/100\n",
      "375/375 [==============================] - 2s 6ms/step - loss: 0.0048 - val_loss: 0.0058\n",
      "Epoch 43/100\n",
      "375/375 [==============================] - 2s 6ms/step - loss: 0.0048 - val_loss: 0.0059\n",
      "Epoch 44/100\n",
      "375/375 [==============================] - 2s 6ms/step - loss: 0.0048 - val_loss: 0.0058\n",
      "Epoch 45/100\n",
      "375/375 [==============================] - 2s 6ms/step - loss: 0.0047 - val_loss: 0.0058\n",
      "Epoch 46/100\n",
      "375/375 [==============================] - 2s 6ms/step - loss: 0.0047 - val_loss: 0.0058\n",
      "Epoch 47/100\n",
      "375/375 [==============================] - 2s 6ms/step - loss: 0.0047 - val_loss: 0.0058\n",
      "Model: \"model_49\"\n",
      "_________________________________________________________________\n",
      "Layer (type)                 Output Shape              Param #   \n",
      "=================================================================\n",
      "input_45 (InputLayer)        [(None, 784)]             0         \n",
      "_________________________________________________________________\n",
      "dense_34 (Dense)             (None, 500)               392500    \n",
      "_________________________________________________________________\n",
      "dense_35 (Dense)             (None, 250)               125250    \n",
      "_________________________________________________________________\n",
      "dense_36 (Dense)             (None, 28)                7028      \n",
      "_________________________________________________________________\n",
      "dense_37 (Dense)             (None, 250)               7250      \n",
      "_________________________________________________________________\n",
      "dense_38 (Dense)             (None, 500)               125500    \n",
      "_________________________________________________________________\n",
      "dense_39 (Dense)             (None, 784)               392784    \n",
      "=================================================================\n",
      "Total params: 1,050,312\n",
      "Trainable params: 1,050,312\n",
      "Non-trainable params: 0\n",
      "_________________________________________________________________\n",
      "Model: \"model_50\"\n",
      "_________________________________________________________________\n",
      "Layer (type)                 Output Shape              Param #   \n",
      "=================================================================\n",
      "input_45 (InputLayer)        [(None, 784)]             0         \n",
      "_________________________________________________________________\n",
      "dense_34 (Dense)             (None, 500)               392500    \n",
      "_________________________________________________________________\n",
      "dense_35 (Dense)             (None, 250)               125250    \n",
      "_________________________________________________________________\n",
      "dense_36 (Dense)             (None, 28)                7028      \n",
      "=================================================================\n",
      "Total params: 524,778\n",
      "Trainable params: 524,778\n",
      "Non-trainable params: 0\n",
      "_________________________________________________________________\n",
      "Model: \"model_51\"\n",
      "_________________________________________________________________\n",
      "Layer (type)                 Output Shape              Param #   \n",
      "=================================================================\n",
      "input_46 (InputLayer)        [(None, 28)]              0         \n",
      "_________________________________________________________________\n",
      "dense_37 (Dense)             (None, 250)               7250      \n",
      "_________________________________________________________________\n",
      "dense_38 (Dense)             (None, 500)               125500    \n",
      "_________________________________________________________________\n",
      "dense_39 (Dense)             (None, 784)               392784    \n",
      "=================================================================\n",
      "Total params: 525,534\n",
      "Trainable params: 525,534\n",
      "Non-trainable params: 0\n",
      "_________________________________________________________________\n"
     ]
    }
   ],
   "source": [
    "# encoder part\n",
    "inputImage = Input(shape=(size1,))\n",
    "encoded = Dense(500, activation='relu')(inputImage)\n",
    "encoded = Dense(250, activation='relu')(encoded)\n",
    "encoded = Dense(28, activation='relu')(encoded)\n",
    "# decoder part\n",
    "decoded = Dense(250, activation='relu')(encoded)\n",
    "decoded = Dense(500, activation='relu')(decoded)\n",
    "decoded = Dense(size1, activation='sigmoid')(decoded)\n",
    "\n",
    "# autoencoder model that will be learned\n",
    "autoencoder = Model(inputImage, decoded)\n",
    "autoencoder.compile(optimizer='adam', loss='mse') \n",
    "autoencoder.fit(xTrain, xTrain, epochs=100, batch_size=128, validation_split=0.2, shuffle=True,callbacks=[ourCallback])\n",
    "autoencoder.summary()\n",
    "\n",
    "#encoder model: weigths are already learned\n",
    "encoderModel = Model(inputImage, encoded)\n",
    "encoderModel.summary()\n",
    "# decoder model (adapt this code to your network): weigths are already learned\n",
    "inputLatent = Input(shape=(28,)) \n",
    "decoder = autoencoder.layers[-3](inputLatent)\n",
    "decoder = autoencoder.layers[-2](decoder)\n",
    "decoder = autoencoder.layers[-1](decoder)\n",
    "decoderModel = Model(inputLatent,decoder)\n",
    "decoderModel.summary()"
   ]
  },
  {
   "cell_type": "code",
   "execution_count": 201,
   "metadata": {},
   "outputs": [],
   "source": [
    "random_val = np.random.randint(0,27)"
   ]
  },
  {
   "cell_type": "code",
   "execution_count": 202,
   "metadata": {},
   "outputs": [
    {
     "name": "stdout",
     "output_type": "stream",
     "text": [
      "image number:  3931\n",
      "shape =  (1, 28)\n",
      "shape2 =  (1, 784)\n"
     ]
    }
   ],
   "source": [
    "#For a single data:\n",
    "index = random.randint(0,len(xTest)-2)\n",
    "print(\"image number: \", index)\n",
    "im = xTest[index]\n",
    "\n",
    "# encoding of an image\n",
    "latentData = encoderModel.predict(np.array([im,]))\n",
    "latentData[0, random_val] = 20\n",
    "# latentData = (latentData/max(latentData[0]))\n",
    "\n",
    "print(\"shape = \",latentData.shape)\n",
    "\n",
    "decodedData = decoderModel.predict(latentData)\n",
    "print(\"shape2 = \", decodedData.shape)"
   ]
  },
  {
   "cell_type": "code",
   "execution_count": 203,
   "metadata": {},
   "outputs": [
    {
     "name": "stdout",
     "output_type": "stream",
     "text": [
      "1\n",
      "0.0\n",
      "20.0\n",
      "[[ 8.75444   20.         4.293146  17.067198   7.0721545  3.0644987\n",
      "   9.883719   4.536613   4.6945295  4.9709163 10.346579   0.\n",
      "   4.865859  10.633145   8.050108   3.7761388  5.8679953 11.839991\n",
      "   5.6046643  8.331713   3.4401774  7.3441887  0.8721058  4.9558277\n",
      "   7.5495267  0.         6.227643   9.930176 ]]\n"
     ]
    }
   ],
   "source": [
    "print(random_val, min(latentData[0]), max(latentData[0]), latentData, sep=\"\\n\")"
   ]
  },
  {
   "cell_type": "code",
   "execution_count": 204,
   "metadata": {},
   "outputs": [
    {
     "data": {
      "image/png": "[encoded data removed]",
      "text/plain": [
       "<Figure size 432x288 with 2 Axes>"
      ]
     },
     "metadata": {
      "needs_background": "light"
     },
     "output_type": "display_data"
    }
   ],
   "source": [
    "#display\n",
    "fig = plt.figure()\n",
    "ax = fig.add_subplot(1,2,1)\n",
    "plt.imshow(im.reshape(28,28), cmap='gray')\n",
    "ax = fig.add_subplot(1,2,2)\n",
    "\n",
    "plt.imshow(decodedData[0].reshape(28,28), cmap='gray')\n",
    "plt.show()"
   ]
  },
  {
   "cell_type": "markdown",
   "metadata": {},
   "source": [
    "# Part II: playing with the animals10 dataset"
   ]
  },
  {
   "cell_type": "code",
   "execution_count": 36,
   "metadata": {
    "colab": {
     "base_uri": "https://localhost:8080/"
    },
    "id": "TM0OJUHB-1zm",
    "outputId": "842bb6a1-f13c-4cd0-aa1a-d0f07721b685"
   },
   "outputs": [],
   "source": [
    "# download the dataset\n",
    "# from google.colab import drive\n",
    "# drive.mount('/content/drive/')\n",
    "# datasetRoot='/content/drive/My Drive/DLS2020/raw-img/'"
   ]
  },
  {
   "cell_type": "code",
   "execution_count": 43,
   "metadata": {},
   "outputs": [],
   "source": [
    "# or work localy using already downloaded dataset\n",
    "# modify to your local directory\n",
    "datasetRoot='/home/qlr/Downloads/raw-img/'"
   ]
  },
  {
   "cell_type": "code",
   "execution_count": 46,
   "metadata": {
    "colab": {
     "base_uri": "https://localhost:8080/"
    },
    "id": "NU2rwIBhBTk0",
    "outputId": "7ad25fb9-3111-48e9-e14c-c63aba83045c",
    "scrolled": true
   },
   "outputs": [
    {
     "name": "stderr",
     "output_type": "stream",
     "text": [
      "  0%|          | 0/10 [00:00<?, ?it/s]\n",
      "  0%|          | 0/1866 [00:00<?, ?it/s]\u001b[A\n",
      "  4%|▍         | 70/1866 [00:00<00:02, 698.21it/s]\u001b[A"
     ]
    },
    {
     "name": "stdout",
     "output_type": "stream",
     "text": [
      "total number of images:  26179\n",
      "class:  mucca  :  1866\n"
     ]
    },
    {
     "name": "stderr",
     "output_type": "stream",
     "text": [
      "\n",
      "  8%|▊         | 140/1866 [00:00<00:02, 695.89it/s]\u001b[A\n",
      " 12%|█▏        | 216/1866 [00:00<00:02, 712.27it/s]\u001b[A\n",
      " 15%|█▌        | 284/1866 [00:00<00:02, 700.06it/s]\u001b[A\n",
      " 19%|█▉        | 350/1866 [00:00<00:02, 685.43it/s]\u001b[A\n",
      " 23%|██▎       | 420/1866 [00:00<00:02, 687.95it/s]\u001b[A\n",
      " 26%|██▋       | 490/1866 [00:00<00:01, 689.26it/s]\u001b[A\n",
      " 30%|███       | 560/1866 [00:00<00:01, 692.40it/s]\u001b[A\n",
      " 34%|███▍      | 630/1866 [00:00<00:01, 692.76it/s]\u001b[A\n",
      " 37%|███▋      | 699/1866 [00:01<00:01, 689.91it/s]\u001b[A\n",
      " 41%|████      | 767/1866 [00:01<00:01, 676.57it/s]\u001b[A\n",
      " 45%|████▌     | 840/1866 [00:01<00:01, 691.48it/s]\u001b[A\n",
      " 49%|████▉     | 913/1866 [00:01<00:01, 700.77it/s]\u001b[A\n",
      " 53%|█████▎    | 983/1866 [00:01<00:01, 683.91it/s]\u001b[A\n",
      " 57%|█████▋    | 1057/1866 [00:01<00:01, 697.85it/s]\u001b[A\n",
      " 60%|██████    | 1127/1866 [00:01<00:01, 697.44it/s]\u001b[A\n",
      " 64%|██████▍   | 1197/1866 [00:01<00:00, 675.41it/s]\u001b[A\n",
      " 68%|██████▊   | 1266/1866 [00:01<00:00, 678.44it/s]\u001b[A\n",
      " 72%|███████▏  | 1336/1866 [00:01<00:00, 683.13it/s]\u001b[A\n",
      " 75%|███████▌  | 1405/1866 [00:02<00:00, 666.29it/s]\u001b[A\n",
      " 79%|███████▉  | 1472/1866 [00:02<00:00, 664.84it/s]\u001b[A\n",
      " 83%|████████▎ | 1541/1866 [00:02<00:00, 671.87it/s]\u001b[A\n",
      " 87%|████████▋ | 1617/1866 [00:02<00:00, 695.74it/s]\u001b[A\n",
      " 91%|█████████ | 1689/1866 [00:02<00:00, 699.66it/s]\u001b[A\n",
      " 94%|█████████▍| 1760/1866 [00:02<00:00, 694.80it/s]\u001b[A\n",
      "100%|██████████| 1866/1866 [00:02<00:00, 687.85it/s]\u001b[A\n",
      " 10%|█         | 1/10 [00:02<00:24,  2.72s/it]\n",
      "  0%|          | 0/1446 [00:00<?, ?it/s]\u001b[A\n",
      "  3%|▎         | 37/1446 [00:00<00:03, 368.46it/s]\u001b[A"
     ]
    },
    {
     "name": "stdout",
     "output_type": "stream",
     "text": [
      "class:  elefante  :  1446\n"
     ]
    },
    {
     "name": "stderr",
     "output_type": "stream",
     "text": [
      "\n",
      "  6%|▋         | 92/1446 [00:00<00:03, 408.33it/s]\u001b[A\n",
      "  9%|▉         | 128/1446 [00:00<00:03, 391.83it/s]\u001b[A\n",
      " 11%|█         | 161/1446 [00:00<00:03, 364.08it/s]\u001b[A\n",
      " 14%|█▍        | 199/1446 [00:00<00:03, 367.63it/s]\u001b[A\n",
      " 17%|█▋        | 239/1446 [00:00<00:03, 375.00it/s]\u001b[A\n",
      " 19%|█▉        | 278/1446 [00:00<00:03, 379.26it/s]\u001b[A\n",
      " 22%|██▏       | 322/1446 [00:00<00:02, 395.03it/s]\u001b[A\n",
      " 25%|██▍       | 361/1446 [00:00<00:02, 392.46it/s]\u001b[A\n",
      " 28%|██▊       | 400/1446 [00:01<00:02, 371.68it/s]\u001b[A\n",
      " 30%|███       | 441/1446 [00:01<00:02, 380.89it/s]\u001b[A\n",
      " 33%|███▎      | 482/1446 [00:01<00:02, 386.18it/s]\u001b[A\n",
      " 36%|███▌      | 521/1446 [00:01<00:02, 386.36it/s]\u001b[A\n",
      " 39%|███▊      | 560/1446 [00:01<00:02, 352.26it/s]\u001b[A\n",
      " 42%|████▏     | 605/1446 [00:01<00:02, 376.68it/s]\u001b[A\n",
      " 45%|████▍     | 644/1446 [00:01<00:02, 376.48it/s]\u001b[A\n",
      " 47%|████▋     | 683/1446 [00:01<00:02, 353.33it/s]\u001b[A\n",
      " 50%|████▉     | 721/1446 [00:01<00:02, 359.63it/s]\u001b[A\n",
      " 52%|█████▏    | 758/1446 [00:02<00:01, 359.35it/s]\u001b[A\n",
      " 55%|█████▌    | 800/1446 [00:02<00:01, 375.09it/s]\u001b[A\n",
      " 58%|█████▊    | 838/1446 [00:02<00:01, 364.06it/s]\u001b[A\n",
      " 61%|██████    | 875/1446 [00:02<00:01, 364.49it/s]\u001b[A\n",
      " 63%|██████▎   | 912/1446 [00:02<00:01, 340.74it/s]\u001b[A\n",
      " 66%|██████▋   | 960/1446 [00:02<00:01, 372.14it/s]\u001b[A\n",
      " 70%|██████▉   | 1006/1446 [00:02<00:01, 390.33it/s]\u001b[A\n",
      " 73%|███████▎  | 1052/1446 [00:02<00:00, 405.94it/s]\u001b[A\n",
      " 76%|███████▌  | 1094/1446 [00:02<00:00, 398.73it/s]\u001b[A\n",
      " 79%|███████▊  | 1138/1446 [00:02<00:00, 410.14it/s]\u001b[A\n",
      " 82%|████████▏ | 1180/1446 [00:03<00:00, 391.79it/s]\u001b[A\n",
      " 84%|████████▍ | 1220/1446 [00:03<00:00, 373.52it/s]\u001b[A\n",
      " 87%|████████▋ | 1258/1446 [00:03<00:00, 370.49it/s]\u001b[A\n",
      " 90%|████████▉ | 1296/1446 [00:03<00:00, 366.23it/s]\u001b[A\n",
      " 92%|█████████▏| 1333/1446 [00:03<00:00, 364.72it/s]\u001b[A\n",
      " 95%|█████████▍| 1372/1446 [00:03<00:00, 370.11it/s]\u001b[A\n",
      "100%|██████████| 1446/1446 [00:03<00:00, 383.06it/s]\u001b[A\n",
      " 20%|██        | 2/10 [00:06<00:24,  3.04s/it]\n",
      "  0%|          | 0/1668 [00:00<?, ?it/s]\u001b[A"
     ]
    },
    {
     "name": "stdout",
     "output_type": "stream",
     "text": [
      "class:  gatto  :  1668\n"
     ]
    },
    {
     "name": "stderr",
     "output_type": "stream",
     "text": [
      "\n",
      "  2%|▏         | 38/1668 [00:00<00:16, 101.00it/s]\u001b[A\n",
      "  5%|▍         | 83/1668 [00:00<00:14, 108.93it/s]\u001b[A\n",
      "  7%|▋         | 121/1668 [00:00<00:11, 138.13it/s]\u001b[A\n",
      " 10%|▉         | 159/1668 [00:01<00:10, 138.07it/s]\u001b[A\n",
      " 10%|█         | 174/1668 [00:01<00:14, 102.82it/s]\u001b[A\n",
      " 11%|█         | 187/1668 [00:01<00:17, 84.98it/s] \u001b[A\n",
      " 13%|█▎        | 224/1668 [00:01<00:13, 110.17it/s]\u001b[A\n",
      " 15%|█▍        | 249/1668 [00:01<00:13, 103.69it/s]\u001b[A\n",
      " 16%|█▌        | 265/1668 [00:02<00:21, 64.38it/s] \u001b[A\n",
      " 17%|█▋        | 277/1668 [00:02<00:19, 72.06it/s]\u001b[A\n",
      " 18%|█▊        | 299/1668 [00:02<00:17, 77.78it/s]\u001b[A\n",
      " 19%|█▊        | 310/1668 [00:02<00:19, 68.62it/s]\u001b[A\n",
      " 19%|█▉        | 320/1668 [00:03<00:19, 68.85it/s]\u001b[A\n",
      " 20%|█▉        | 329/1668 [00:03<00:27, 49.00it/s]\u001b[A\n",
      " 22%|██▏       | 371/1668 [00:03<00:19, 66.64it/s]\u001b[A\n",
      " 25%|██▍       | 410/1668 [00:03<00:14, 88.66it/s]\u001b[A\n",
      " 26%|██▌       | 434/1668 [00:03<00:11, 103.73it/s]\u001b[A\n",
      " 27%|██▋       | 456/1668 [00:03<00:11, 106.46it/s]\u001b[A\n",
      " 30%|███       | 501/1668 [00:04<00:08, 137.74it/s]\u001b[A\n",
      " 32%|███▏      | 528/1668 [00:04<00:12, 90.87it/s] \u001b[A\n",
      " 33%|███▎      | 548/1668 [00:04<00:12, 87.40it/s]\u001b[A\n",
      " 34%|███▍      | 565/1668 [00:05<00:14, 75.09it/s]\u001b[A\n",
      " 35%|███▍      | 579/1668 [00:05<00:23, 47.02it/s]\u001b[A\n",
      " 35%|███▌      | 589/1668 [00:05<00:25, 42.74it/s]\u001b[A\n",
      " 36%|███▋      | 607/1668 [00:06<00:23, 45.78it/s]\u001b[A\n",
      " 39%|███▊      | 646/1668 [00:06<00:16, 62.24it/s]\u001b[A\n",
      " 40%|███▉      | 663/1668 [00:06<00:14, 68.56it/s]\u001b[A\n",
      " 42%|████▏     | 701/1668 [00:06<00:10, 90.86it/s]\u001b[A\n",
      " 45%|████▍     | 749/1668 [00:06<00:07, 119.92it/s]\u001b[A\n",
      " 47%|████▋     | 779/1668 [00:07<00:08, 106.63it/s]\u001b[A\n",
      " 48%|████▊     | 803/1668 [00:07<00:09, 92.15it/s] \u001b[A\n",
      " 49%|████▉     | 822/1668 [00:07<00:09, 86.76it/s]\u001b[A\n",
      " 52%|█████▏    | 871/1668 [00:08<00:08, 97.05it/s]\u001b[A\n",
      " 54%|█████▍    | 903/1668 [00:08<00:07, 96.83it/s]\u001b[A\n",
      " 55%|█████▌    | 919/1668 [00:08<00:09, 79.37it/s]\u001b[A\n",
      " 58%|█████▊    | 960/1668 [00:08<00:06, 104.62it/s]\u001b[A\n",
      " 60%|██████    | 1001/1668 [00:08<00:04, 134.10it/s]\u001b[A\n",
      " 62%|██████▏   | 1027/1668 [00:09<00:04, 141.41it/s]\u001b[A\n",
      " 64%|██████▍   | 1066/1668 [00:09<00:04, 145.92it/s]\u001b[A\n",
      " 66%|██████▌   | 1105/1668 [00:09<00:04, 138.16it/s]\u001b[A\n",
      " 67%|██████▋   | 1124/1668 [00:09<00:05, 98.88it/s] \u001b[A\n",
      " 69%|██████▉   | 1154/1668 [00:10<00:05, 102.09it/s]\u001b[A\n",
      " 72%|███████▏  | 1198/1668 [00:10<00:03, 132.56it/s]\u001b[A\n",
      " 75%|███████▍  | 1244/1668 [00:10<00:02, 168.42it/s]\u001b[A\n",
      " 78%|███████▊  | 1294/1668 [00:10<00:01, 210.25it/s]\u001b[A\n",
      " 80%|███████▉  | 1330/1668 [00:11<00:02, 132.78it/s]\u001b[A\n",
      " 81%|████████▏ | 1358/1668 [00:11<00:02, 111.54it/s]\u001b[A\n",
      " 83%|████████▎ | 1380/1668 [00:11<00:02, 106.25it/s]\u001b[A\n",
      " 85%|████████▌ | 1423/1668 [00:11<00:01, 137.22it/s]\u001b[A\n",
      " 87%|████████▋ | 1451/1668 [00:11<00:01, 134.36it/s]\u001b[A\n",
      " 89%|████████▊ | 1477/1668 [00:12<00:01, 115.14it/s]\u001b[A\n",
      " 90%|████████▉ | 1495/1668 [00:12<00:01, 105.15it/s]\u001b[A\n",
      " 92%|█████████▏| 1540/1668 [00:12<00:00, 136.26it/s]\u001b[A\n",
      " 94%|█████████▍| 1564/1668 [00:12<00:00, 139.05it/s]\u001b[A\n",
      " 96%|█████████▌| 1602/1668 [00:12<00:00, 171.46it/s]\u001b[A\n",
      "100%|██████████| 1668/1668 [00:12<00:00, 128.68it/s]\u001b[A\n",
      " 30%|███       | 3/10 [00:19<00:42,  6.02s/it]\n",
      "  0%|          | 0/2623 [00:00<?, ?it/s]\u001b[A\n",
      "  3%|▎         | 69/2623 [00:00<00:03, 685.63it/s]\u001b[A"
     ]
    },
    {
     "name": "stdout",
     "output_type": "stream",
     "text": [
      "class:  cavallo  :  2623\n"
     ]
    },
    {
     "name": "stderr",
     "output_type": "stream",
     "text": [
      "\n",
      "  5%|▌         | 141/2623 [00:00<00:03, 694.42it/s]\u001b[A\n",
      "  8%|▊         | 210/2623 [00:00<00:03, 691.98it/s]\u001b[A\n",
      " 11%|█         | 280/2623 [00:00<00:03, 694.22it/s]\u001b[A\n",
      " 13%|█▎        | 349/2623 [00:00<00:03, 692.49it/s]\u001b[A\n",
      " 16%|█▌        | 416/2623 [00:00<00:03, 685.11it/s]\u001b[A\n",
      " 19%|█▊        | 488/2623 [00:00<00:03, 692.48it/s]\u001b[A\n",
      " 21%|██▏       | 559/2623 [00:00<00:02, 696.70it/s]\u001b[A\n",
      " 24%|██▍       | 630/2623 [00:00<00:02, 700.26it/s]\u001b[A\n",
      " 27%|██▋       | 698/2623 [00:01<00:02, 693.03it/s]\u001b[A\n",
      " 29%|██▉       | 766/2623 [00:01<00:02, 683.28it/s]\u001b[A\n",
      " 32%|███▏      | 836/2623 [00:01<00:02, 686.51it/s]\u001b[A\n",
      " 34%|███▍      | 904/2623 [00:01<00:02, 671.04it/s]\u001b[A\n",
      " 37%|███▋      | 971/2623 [00:01<00:02, 660.41it/s]\u001b[A\n",
      " 40%|███▉      | 1037/2623 [00:01<00:02, 653.10it/s]\u001b[A\n",
      " 42%|████▏     | 1103/2623 [00:01<00:02, 649.06it/s]\u001b[A\n",
      " 45%|████▍     | 1170/2623 [00:01<00:02, 654.72it/s]\u001b[A\n",
      " 47%|████▋     | 1238/2623 [00:01<00:02, 659.46it/s]\u001b[A\n",
      " 50%|████▉     | 1306/2623 [00:01<00:01, 663.92it/s]\u001b[A\n",
      " 52%|█████▏    | 1377/2623 [00:02<00:01, 673.36it/s]\u001b[A\n",
      " 55%|█████▌    | 1445/2623 [00:02<00:01, 657.51it/s]\u001b[A\n",
      " 58%|█████▊    | 1511/2623 [00:02<00:01, 652.00it/s]\u001b[A\n",
      " 60%|██████    | 1579/2623 [00:02<00:01, 658.91it/s]\u001b[A\n",
      " 63%|██████▎   | 1647/2623 [00:02<00:01, 664.55it/s]\u001b[A\n",
      " 65%|██████▌   | 1714/2623 [00:02<00:01, 662.52it/s]\u001b[A\n",
      " 68%|██████▊   | 1781/2623 [00:02<00:01, 654.59it/s]\u001b[A\n",
      " 70%|███████   | 1847/2623 [00:02<00:01, 639.83it/s]\u001b[A\n",
      " 73%|███████▎  | 1912/2623 [00:02<00:01, 641.62it/s]\u001b[A\n",
      " 75%|███████▌  | 1977/2623 [00:02<00:01, 631.70it/s]\u001b[A\n",
      " 78%|███████▊  | 2042/2623 [00:03<00:00, 634.97it/s]\u001b[A\n",
      " 80%|████████  | 2108/2623 [00:03<00:00, 641.79it/s]\u001b[A\n",
      " 83%|████████▎ | 2173/2623 [00:03<00:00, 618.96it/s]\u001b[A\n",
      " 85%|████████▌ | 2241/2623 [00:03<00:00, 634.24it/s]\u001b[A\n",
      " 88%|████████▊ | 2310/2623 [00:03<00:00, 648.62it/s]\u001b[A\n",
      " 91%|█████████ | 2380/2623 [00:03<00:00, 662.17it/s]\u001b[A\n",
      " 93%|█████████▎| 2451/2623 [00:03<00:00, 675.60it/s]\u001b[A\n",
      " 96%|█████████▌| 2519/2623 [00:03<00:00, 660.77it/s]\u001b[A\n",
      "100%|██████████| 2623/2623 [00:03<00:00, 664.41it/s]\u001b[A\n",
      " 40%|████      | 4/10 [00:23<00:32,  5.40s/it]\n",
      "  0%|          | 0/1862 [00:00<?, ?it/s]\u001b[A\n",
      "  3%|▎         | 65/1862 [00:00<00:02, 645.28it/s]\u001b[A"
     ]
    },
    {
     "name": "stdout",
     "output_type": "stream",
     "text": [
      "class:  scoiattolo  :  1862\n"
     ]
    },
    {
     "name": "stderr",
     "output_type": "stream",
     "text": [
      "\n",
      "  6%|▌         | 114/1862 [00:00<00:02, 587.45it/s]\u001b[A\n",
      " 10%|▉         | 182/1862 [00:00<00:02, 612.39it/s]\u001b[A\n",
      " 13%|█▎        | 251/1862 [00:00<00:02, 630.63it/s]\u001b[A\n",
      " 17%|█▋        | 319/1862 [00:00<00:02, 639.10it/s]\u001b[A\n",
      " 21%|██        | 388/1862 [00:00<00:02, 651.93it/s]\u001b[A\n",
      " 24%|██▍       | 453/1862 [00:00<00:02, 650.50it/s]\u001b[A\n",
      " 28%|██▊       | 520/1862 [00:00<00:02, 656.11it/s]\u001b[A\n",
      " 31%|███▏      | 583/1862 [00:00<00:01, 645.84it/s]\u001b[A\n",
      " 35%|███▍      | 650/1862 [00:01<00:01, 650.13it/s]\u001b[A\n",
      " 39%|███▊      | 719/1862 [00:01<00:01, 661.39it/s]\u001b[A\n",
      " 42%|████▏     | 785/1862 [00:01<00:01, 660.32it/s]\u001b[A\n",
      " 46%|████▌     | 857/1862 [00:01<00:01, 676.24it/s]\u001b[A\n",
      " 50%|████▉     | 926/1862 [00:01<00:01, 679.20it/s]\u001b[A\n",
      " 53%|█████▎    | 995/1862 [00:01<00:01, 680.87it/s]\u001b[A\n",
      " 57%|█████▋    | 1063/1862 [00:01<00:01, 680.54it/s]\u001b[A\n",
      " 61%|██████    | 1131/1862 [00:01<00:01, 665.29it/s]\u001b[A\n",
      " 64%|██████▍   | 1198/1862 [00:01<00:00, 664.32it/s]\u001b[A\n",
      " 68%|██████▊   | 1268/1862 [00:01<00:00, 673.72it/s]\u001b[A\n",
      " 72%|███████▏  | 1337/1862 [00:02<00:00, 677.54it/s]\u001b[A\n",
      " 76%|███████▌  | 1408/1862 [00:02<00:00, 685.65it/s]\u001b[A\n",
      " 79%|███████▉  | 1479/1862 [00:02<00:00, 692.68it/s]\u001b[A\n",
      " 83%|████████▎ | 1549/1862 [00:02<00:00, 689.47it/s]\u001b[A\n",
      " 87%|████████▋ | 1618/1862 [00:02<00:00, 682.84it/s]\u001b[A\n",
      " 91%|█████████ | 1687/1862 [00:02<00:00, 673.24it/s]\u001b[A\n",
      " 94%|█████████▍| 1758/1862 [00:02<00:00, 683.31it/s]\u001b[A\n",
      "100%|██████████| 1862/1862 [00:02<00:00, 665.88it/s]\u001b[A\n",
      " 50%|█████     | 5/10 [00:26<00:23,  4.62s/it]\n",
      "  0%|          | 0/4821 [00:00<?, ?it/s]\u001b[A\n",
      "  1%|          | 58/4821 [00:00<00:08, 575.35it/s]\u001b[A"
     ]
    },
    {
     "name": "stdout",
     "output_type": "stream",
     "text": [
      "class:  ragno  :  4821\n"
     ]
    },
    {
     "name": "stderr",
     "output_type": "stream",
     "text": [
      "\n",
      "  2%|▏         | 106/4821 [00:00<00:08, 541.98it/s]\u001b[A\n",
      "  3%|▎         | 157/4821 [00:00<00:08, 531.25it/s]\u001b[A\n",
      "  5%|▍         | 217/4821 [00:00<00:08, 549.42it/s]\u001b[A\n",
      "  6%|▌         | 267/4821 [00:00<00:08, 526.97it/s]\u001b[A\n",
      "  7%|▋         | 321/4821 [00:00<00:08, 529.19it/s]\u001b[A\n",
      "  8%|▊         | 379/4821 [00:00<00:08, 542.82it/s]\u001b[A\n",
      "  9%|▉         | 437/4821 [00:00<00:07, 549.54it/s]\u001b[A\n",
      " 10%|█         | 497/4821 [00:00<00:07, 563.24it/s]\u001b[A\n",
      " 12%|█▏        | 557/4821 [00:01<00:07, 571.72it/s]\u001b[A\n",
      " 13%|█▎        | 623/4821 [00:01<00:07, 594.22it/s]\u001b[A\n",
      " 14%|█▍        | 682/4821 [00:01<00:07, 590.33it/s]\u001b[A\n",
      " 15%|█▌        | 741/4821 [00:01<00:07, 568.65it/s]\u001b[A\n",
      " 17%|█▋        | 801/4821 [00:01<00:06, 576.29it/s]\u001b[A\n",
      " 18%|█▊        | 859/4821 [00:01<00:07, 544.19it/s]\u001b[A\n",
      " 19%|█▉        | 914/4821 [00:01<00:07, 528.91it/s]\u001b[A\n",
      " 20%|██        | 978/4821 [00:01<00:06, 551.93it/s]\u001b[A\n",
      " 22%|██▏       | 1040/4821 [00:01<00:06, 566.47it/s]\u001b[A\n",
      " 23%|██▎       | 1102/4821 [00:01<00:06, 581.01it/s]\u001b[A\n",
      " 24%|██▍       | 1161/4821 [00:02<00:06, 554.15it/s]\u001b[A\n",
      " 25%|██▌       | 1224/4821 [00:02<00:06, 574.68it/s]\u001b[A\n",
      " 27%|██▋       | 1283/4821 [00:02<00:06, 542.84it/s]\u001b[A\n",
      " 28%|██▊       | 1348/4821 [00:02<00:06, 569.76it/s]\u001b[A\n",
      " 29%|██▉       | 1413/4821 [00:02<00:05, 591.60it/s]\u001b[A\n",
      " 31%|███       | 1473/4821 [00:02<00:05, 590.32it/s]\u001b[A\n",
      " 32%|███▏      | 1533/4821 [00:02<00:05, 587.54it/s]\u001b[A\n",
      " 33%|███▎      | 1593/4821 [00:02<00:05, 578.49it/s]\u001b[A\n",
      " 34%|███▍      | 1652/4821 [00:02<00:05, 565.29it/s]\u001b[A\n",
      " 35%|███▌      | 1709/4821 [00:03<00:05, 562.06it/s]\u001b[A\n",
      " 37%|███▋      | 1766/4821 [00:03<00:05, 562.75it/s]\u001b[A\n",
      " 38%|███▊      | 1828/4821 [00:03<00:05, 577.60it/s]\u001b[A\n",
      " 39%|███▉      | 1894/4821 [00:03<00:04, 599.59it/s]\u001b[A\n",
      " 41%|████      | 1955/4821 [00:03<00:04, 575.59it/s]\u001b[A\n",
      " 42%|████▏     | 2019/4821 [00:03<00:04, 588.10it/s]\u001b[A\n",
      " 43%|████▎     | 2079/4821 [00:03<00:04, 555.70it/s]\u001b[A\n",
      " 44%|████▍     | 2136/4821 [00:03<00:04, 558.99it/s]\u001b[A\n",
      " 46%|████▌     | 2201/4821 [00:03<00:04, 583.14it/s]\u001b[A\n",
      " 47%|████▋     | 2262/4821 [00:03<00:04, 590.61it/s]\u001b[A\n",
      " 48%|████▊     | 2328/4821 [00:04<00:04, 607.93it/s]\u001b[A\n",
      " 50%|████▉     | 2392/4821 [00:04<00:03, 612.10it/s]\u001b[A\n",
      " 51%|█████     | 2454/4821 [00:04<00:03, 594.51it/s]\u001b[A\n",
      " 52%|█████▏    | 2517/4821 [00:04<00:03, 604.13it/s]\u001b[A\n",
      " 53%|█████▎    | 2578/4821 [00:04<00:03, 603.36it/s]\u001b[A\n",
      " 55%|█████▍    | 2639/4821 [00:04<00:03, 603.83it/s]\u001b[A\n",
      " 56%|█████▌    | 2700/4821 [00:04<00:03, 577.98it/s]\u001b[A\n",
      " 57%|█████▋    | 2761/4821 [00:04<00:03, 585.95it/s]\u001b[A\n",
      " 58%|█████▊    | 2820/4821 [00:04<00:03, 570.76it/s]\u001b[A\n",
      " 60%|█████▉    | 2889/4821 [00:05<00:03, 600.97it/s]\u001b[A\n",
      " 61%|██████    | 2952/4821 [00:05<00:03, 609.16it/s]\u001b[A\n",
      " 63%|██████▎   | 3015/4821 [00:05<00:02, 614.69it/s]\u001b[A\n",
      " 64%|██████▍   | 3077/4821 [00:05<00:02, 615.43it/s]\u001b[A\n",
      " 65%|██████▌   | 3142/4821 [00:05<00:02, 624.97it/s]\u001b[A\n",
      " 66%|██████▋   | 3205/4821 [00:05<00:02, 593.67it/s]\u001b[A\n",
      " 68%|██████▊   | 3265/4821 [00:05<00:02, 580.89it/s]\u001b[A\n",
      " 69%|██████▉   | 3326/4821 [00:05<00:02, 586.83it/s]\u001b[A\n",
      " 70%|███████   | 3392/4821 [00:05<00:02, 604.86it/s]\u001b[A\n",
      " 72%|███████▏  | 3453/4821 [00:05<00:02, 602.48it/s]\u001b[A\n",
      " 73%|███████▎  | 3514/4821 [00:06<00:02, 591.71it/s]\u001b[A\n",
      " 74%|███████▍  | 3583/4821 [00:06<00:02, 617.13it/s]\u001b[A\n",
      " 76%|███████▌  | 3646/4821 [00:06<00:01, 610.78it/s]\u001b[A\n",
      " 77%|███████▋  | 3708/4821 [00:06<00:01, 601.36it/s]\u001b[A\n",
      " 78%|███████▊  | 3770/4821 [00:06<00:01, 600.30it/s]\u001b[A\n",
      " 79%|███████▉  | 3831/4821 [00:06<00:01, 598.34it/s]\u001b[A\n",
      " 81%|████████  | 3893/4821 [00:06<00:01, 602.39it/s]\u001b[A\n",
      " 82%|████████▏ | 3955/4821 [00:06<00:01, 606.43it/s]\u001b[A\n",
      " 83%|████████▎ | 4016/4821 [00:06<00:01, 603.46it/s]\u001b[A\n",
      " 85%|████████▍ | 4078/4821 [00:06<00:01, 600.09it/s]\u001b[A\n",
      " 86%|████████▌ | 4139/4821 [00:07<00:01, 582.97it/s]\u001b[A\n",
      " 87%|████████▋ | 4198/4821 [00:07<00:01, 563.99it/s]\u001b[A\n",
      " 88%|████████▊ | 4256/4821 [00:07<00:00, 567.03it/s]\u001b[A\n",
      " 90%|████████▉ | 4319/4821 [00:07<00:00, 582.78it/s]\u001b[A\n",
      " 91%|█████████ | 4383/4821 [00:07<00:00, 594.53it/s]\u001b[A\n",
      " 92%|█████████▏| 4443/4821 [00:07<00:00, 578.29it/s]\u001b[A\n",
      " 93%|█████████▎| 4503/4821 [00:07<00:00, 581.65it/s]\u001b[A\n",
      " 95%|█████████▍| 4562/4821 [00:07<00:00, 565.03it/s]\u001b[A\n",
      " 96%|█████████▌| 4619/4821 [00:07<00:00, 561.60it/s]\u001b[A\n",
      " 97%|█████████▋| 4680/4821 [00:08<00:00, 574.03it/s]\u001b[A\n",
      " 98%|█████████▊| 4742/4821 [00:08<00:00, 585.32it/s]\u001b[A\n",
      "100%|██████████| 4821/4821 [00:08<00:00, 581.56it/s]\u001b[A\n",
      " 60%|██████    | 6/10 [00:34<00:22,  5.73s/it]\n",
      "  0%|          | 0/1820 [00:00<?, ?it/s]\u001b[A\n",
      "  2%|▏         | 45/1820 [00:00<00:03, 445.69it/s]\u001b[A"
     ]
    },
    {
     "name": "stdout",
     "output_type": "stream",
     "text": [
      "class:  pecora  :  1820\n"
     ]
    },
    {
     "name": "stderr",
     "output_type": "stream",
     "text": [
      "\n",
      "  5%|▌         | 91/1820 [00:00<00:03, 443.67it/s]\u001b[A\n",
      "  8%|▊         | 138/1820 [00:00<00:03, 450.03it/s]\u001b[A\n",
      " 10%|█         | 182/1820 [00:00<00:03, 446.20it/s]\u001b[A\n",
      " 12%|█▏        | 226/1820 [00:00<00:03, 443.78it/s]\u001b[A\n",
      " 15%|█▍        | 267/1820 [00:00<00:03, 432.50it/s]\u001b[A\n",
      " 17%|█▋        | 308/1820 [00:00<00:03, 425.30it/s]\u001b[A\n",
      " 19%|█▉        | 347/1820 [00:00<00:03, 407.81it/s]\u001b[A\n",
      " 21%|██        | 386/1820 [00:00<00:03, 395.12it/s]\u001b[A\n",
      " 23%|██▎       | 424/1820 [00:01<00:03, 384.73it/s]\u001b[A\n",
      " 26%|██▌       | 465/1820 [00:01<00:03, 389.69it/s]\u001b[A\n",
      " 28%|██▊       | 507/1820 [00:01<00:03, 396.24it/s]\u001b[A\n",
      " 30%|███       | 548/1820 [00:01<00:03, 397.31it/s]\u001b[A\n",
      " 33%|███▎      | 600/1820 [00:01<00:02, 422.82it/s]\u001b[A\n",
      " 35%|███▌      | 643/1820 [00:01<00:02, 418.07it/s]\u001b[A\n",
      " 38%|███▊      | 689/1820 [00:01<00:02, 425.57it/s]\u001b[A\n",
      " 40%|████      | 732/1820 [00:01<00:02, 417.53it/s]\u001b[A\n",
      " 43%|████▎     | 774/1820 [00:01<00:02, 384.45it/s]\u001b[A\n",
      " 45%|████▍     | 818/1820 [00:01<00:02, 399.50it/s]\u001b[A\n",
      " 48%|████▊     | 868/1820 [00:02<00:02, 423.05it/s]\u001b[A\n",
      " 50%|█████     | 912/1820 [00:02<00:02, 426.00it/s]\u001b[A\n",
      " 53%|█████▎    | 958/1820 [00:02<00:02, 430.58it/s]\u001b[A\n",
      " 55%|█████▌    | 1002/1820 [00:02<00:02, 398.67it/s]\u001b[A\n",
      " 57%|█████▋    | 1044/1820 [00:02<00:01, 401.64it/s]\u001b[A\n",
      " 60%|█████▉    | 1086/1820 [00:02<00:01, 406.45it/s]\u001b[A\n",
      " 62%|██████▏   | 1130/1820 [00:02<00:01, 415.92it/s]\u001b[A\n",
      " 64%|██████▍   | 1172/1820 [00:02<00:01, 403.38it/s]\u001b[A\n",
      " 67%|██████▋   | 1213/1820 [00:02<00:01, 384.81it/s]\u001b[A\n",
      " 69%|██████▉   | 1259/1820 [00:03<00:01, 404.21it/s]\u001b[A\n",
      " 72%|███████▏  | 1310/1820 [00:03<00:01, 430.86it/s]\u001b[A\n",
      " 75%|███████▍  | 1356/1820 [00:03<00:01, 437.52it/s]\u001b[A\n",
      " 77%|███████▋  | 1401/1820 [00:03<00:00, 424.80it/s]\u001b[A\n",
      " 80%|███████▉  | 1451/1820 [00:03<00:00, 443.78it/s]\u001b[A\n",
      " 82%|████████▏ | 1497/1820 [00:03<00:00, 442.41it/s]\u001b[A\n",
      " 85%|████████▍ | 1542/1820 [00:03<00:00, 416.79it/s]\u001b[A\n",
      " 87%|████████▋ | 1585/1820 [00:03<00:00, 400.17it/s]\u001b[A\n",
      " 90%|█████████ | 1638/1820 [00:03<00:00, 429.70it/s]\u001b[A\n",
      " 92%|█████████▏| 1682/1820 [00:04<00:00, 427.94it/s]\u001b[A\n",
      " 95%|█████████▍| 1726/1820 [00:04<00:00, 396.80it/s]\u001b[A\n",
      " 97%|█████████▋| 1767/1820 [00:04<00:00, 387.93it/s]\u001b[A\n",
      "100%|██████████| 1820/1820 [00:04<00:00, 415.04it/s]\u001b[A\n",
      " 70%|███████   | 7/10 [00:38<00:15,  5.33s/it]\n",
      "  0%|          | 0/2112 [00:00<?, ?it/s]\u001b[A\n",
      "  2%|▏         | 47/2112 [00:00<00:04, 462.61it/s]\u001b[A"
     ]
    },
    {
     "name": "stdout",
     "output_type": "stream",
     "text": [
      "class:  farfalla  :  2112\n"
     ]
    },
    {
     "name": "stderr",
     "output_type": "stream",
     "text": [
      "\n",
      "  5%|▍         | 96/2112 [00:00<00:04, 469.51it/s]\u001b[A\n",
      "  6%|▋         | 135/2112 [00:00<00:04, 441.33it/s]\u001b[A\n",
      "  9%|▉         | 187/2112 [00:00<00:04, 456.66it/s]\u001b[A\n",
      " 11%|█         | 231/2112 [00:00<00:04, 445.02it/s]\u001b[A\n",
      " 13%|█▎        | 278/2112 [00:00<00:04, 449.71it/s]\u001b[A\n",
      " 15%|█▌        | 326/2112 [00:00<00:03, 449.58it/s]\u001b[A\n",
      " 17%|█▋        | 368/2112 [00:00<00:04, 434.61it/s]\u001b[A\n",
      " 20%|█▉        | 418/2112 [00:00<00:03, 450.21it/s]\u001b[A\n",
      " 22%|██▏       | 465/2112 [00:01<00:03, 455.39it/s]\u001b[A\n",
      " 24%|██▍       | 510/2112 [00:01<00:03, 423.21it/s]\u001b[A\n",
      " 26%|██▌       | 553/2112 [00:01<00:03, 413.99it/s]\u001b[A\n",
      " 28%|██▊       | 601/2112 [00:01<00:03, 429.21it/s]\u001b[A\n",
      " 31%|███       | 646/2112 [00:01<00:03, 433.91it/s]\u001b[A\n",
      " 33%|███▎      | 690/2112 [00:01<00:03, 434.66it/s]\u001b[A\n",
      " 35%|███▍      | 734/2112 [00:01<00:03, 432.63it/s]\u001b[A\n",
      " 37%|███▋      | 780/2112 [00:01<00:03, 432.94it/s]\u001b[A\n",
      " 39%|███▉      | 824/2112 [00:01<00:03, 411.19it/s]\u001b[A\n",
      " 41%|████      | 866/2112 [00:02<00:03, 404.56it/s]\u001b[A\n",
      " 43%|████▎     | 907/2112 [00:02<00:03, 397.08it/s]\u001b[A\n",
      " 45%|████▍     | 947/2112 [00:02<00:02, 392.73it/s]\u001b[A\n",
      " 47%|████▋     | 987/2112 [00:02<00:02, 393.16it/s]\u001b[A\n",
      " 49%|████▊     | 1029/2112 [00:02<00:02, 397.86it/s]\u001b[A\n",
      " 51%|█████     | 1074/2112 [00:02<00:02, 412.17it/s]\u001b[A\n",
      " 53%|█████▎    | 1126/2112 [00:02<00:02, 439.07it/s]\u001b[A\n",
      " 55%|█████▌    | 1171/2112 [00:02<00:02, 439.89it/s]\u001b[A\n",
      " 58%|█████▊    | 1216/2112 [00:02<00:02, 430.59it/s]\u001b[A\n",
      " 60%|█████▉    | 1261/2112 [00:02<00:01, 428.48it/s]\u001b[A\n",
      " 62%|██████▏   | 1305/2112 [00:03<00:01, 422.52it/s]\u001b[A\n",
      " 64%|██████▍   | 1357/2112 [00:03<00:01, 447.34it/s]\u001b[A\n",
      " 67%|██████▋   | 1410/2112 [00:03<00:01, 469.19it/s]\u001b[A\n",
      " 69%|██████▉   | 1458/2112 [00:03<00:01, 462.21it/s]\u001b[A\n",
      " 71%|███████▏  | 1505/2112 [00:03<00:01, 440.65it/s]\u001b[A\n",
      " 73%|███████▎  | 1550/2112 [00:03<00:01, 422.36it/s]\u001b[A\n",
      " 76%|███████▌  | 1597/2112 [00:03<00:01, 434.62it/s]\u001b[A\n",
      " 78%|███████▊  | 1643/2112 [00:03<00:01, 437.68it/s]\u001b[A\n",
      " 80%|███████▉  | 1689/2112 [00:03<00:00, 444.05it/s]\u001b[A\n",
      " 83%|████████▎ | 1744/2112 [00:03<00:00, 470.34it/s]\u001b[A\n",
      " 85%|████████▍ | 1792/2112 [00:04<00:00, 440.23it/s]\u001b[A\n",
      " 87%|████████▋ | 1837/2112 [00:04<00:00, 415.61it/s]\u001b[A\n",
      " 89%|████████▉ | 1882/2112 [00:04<00:00, 419.85it/s]\u001b[A\n",
      " 91%|█████████ | 1925/2112 [00:04<00:00, 407.20it/s]\u001b[A\n",
      " 93%|█████████▎| 1967/2112 [00:04<00:00, 398.95it/s]\u001b[A\n",
      " 95%|█████████▌| 2011/2112 [00:04<00:00, 409.38it/s]\u001b[A\n",
      " 97%|█████████▋| 2056/2112 [00:04<00:00, 420.67it/s]\u001b[A\n",
      "100%|██████████| 2112/2112 [00:04<00:00, 430.23it/s]\u001b[A\n",
      " 80%|████████  | 8/10 [00:43<00:10,  5.20s/it]\n",
      "  0%|          | 0/3098 [00:00<?, ?it/s]\u001b[A\n",
      "  2%|▏         | 62/3098 [00:00<00:04, 613.08it/s]\u001b[A"
     ]
    },
    {
     "name": "stdout",
     "output_type": "stream",
     "text": [
      "class:  gallina  :  3098\n"
     ]
    },
    {
     "name": "stderr",
     "output_type": "stream",
     "text": [
      "\n",
      "  4%|▍         | 122/3098 [00:00<00:04, 609.05it/s]\u001b[A\n",
      "  6%|▌         | 187/3098 [00:00<00:04, 619.48it/s]\u001b[A\n",
      "  8%|▊         | 248/3098 [00:00<00:04, 614.43it/s]\u001b[A\n",
      " 10%|▉         | 309/3098 [00:00<00:04, 609.85it/s]\u001b[A\n",
      " 12%|█▏        | 369/3098 [00:00<00:04, 604.42it/s]\u001b[A\n",
      " 14%|█▍        | 431/3098 [00:00<00:04, 608.50it/s]\u001b[A\n",
      " 16%|█▌        | 494/3098 [00:00<00:04, 612.98it/s]\u001b[A\n",
      " 18%|█▊        | 557/3098 [00:00<00:04, 617.94it/s]\u001b[A\n",
      " 20%|█▉        | 617/3098 [00:01<00:04, 591.86it/s]\u001b[A\n",
      " 22%|██▏       | 675/3098 [00:01<00:04, 579.98it/s]\u001b[A\n",
      " 24%|██▍       | 741/3098 [00:01<00:03, 600.21it/s]\u001b[A\n",
      " 26%|██▌       | 802/3098 [00:01<00:03, 602.70it/s]\u001b[A\n",
      " 28%|██▊       | 865/3098 [00:01<00:03, 610.34it/s]\u001b[A\n",
      " 30%|██▉       | 929/3098 [00:01<00:03, 618.12it/s]\u001b[A\n",
      " 32%|███▏      | 991/3098 [00:01<00:03, 612.83it/s]\u001b[A\n",
      " 34%|███▍      | 1053/3098 [00:01<00:03, 609.69it/s]\u001b[A\n",
      " 36%|███▌      | 1114/3098 [00:01<00:03, 604.27it/s]\u001b[A\n",
      " 38%|███▊      | 1175/3098 [00:01<00:03, 605.02it/s]\u001b[A\n",
      " 40%|███▉      | 1238/3098 [00:02<00:03, 611.39it/s]\u001b[A\n",
      " 42%|████▏     | 1301/3098 [00:02<00:02, 615.45it/s]\u001b[A\n",
      " 44%|████▍     | 1363/3098 [00:02<00:02, 613.52it/s]\u001b[A\n",
      " 46%|████▌     | 1425/3098 [00:02<00:02, 576.28it/s]\u001b[A\n",
      " 48%|████▊     | 1489/3098 [00:02<00:02, 593.52it/s]\u001b[A\n",
      " 50%|█████     | 1552/3098 [00:02<00:02, 602.10it/s]\u001b[A\n",
      " 52%|█████▏    | 1613/3098 [00:02<00:02, 584.45it/s]\u001b[A\n",
      " 54%|█████▍    | 1674/3098 [00:02<00:02, 591.80it/s]\u001b[A\n",
      " 56%|█████▌    | 1737/3098 [00:02<00:02, 601.61it/s]\u001b[A\n",
      " 58%|█████▊    | 1798/3098 [00:02<00:02, 602.05it/s]\u001b[A\n",
      " 60%|██████    | 1861/3098 [00:03<00:02, 609.81it/s]\u001b[A\n",
      " 62%|██████▏   | 1923/3098 [00:03<00:01, 607.57it/s]\u001b[A\n",
      " 64%|██████▍   | 1984/3098 [00:03<00:01, 605.56it/s]\u001b[A\n",
      " 66%|██████▌   | 2045/3098 [00:03<00:01, 602.31it/s]\u001b[A\n",
      " 68%|██████▊   | 2106/3098 [00:03<00:01, 603.33it/s]\u001b[A\n",
      " 70%|██████▉   | 2167/3098 [00:03<00:01, 604.62it/s]\u001b[A\n",
      " 72%|███████▏  | 2228/3098 [00:03<00:01, 593.95it/s]\u001b[A\n",
      " 74%|███████▍  | 2289/3098 [00:03<00:01, 597.13it/s]\u001b[A\n",
      " 76%|███████▌  | 2350/3098 [00:03<00:01, 599.92it/s]\u001b[A\n",
      " 78%|███████▊  | 2411/3098 [00:03<00:01, 602.63it/s]\u001b[A\n",
      " 80%|███████▉  | 2472/3098 [00:04<00:01, 602.72it/s]\u001b[A\n",
      " 82%|████████▏ | 2535/3098 [00:04<00:00, 609.54it/s]\u001b[A\n",
      " 84%|████████▍ | 2598/3098 [00:04<00:00, 613.85it/s]\u001b[A\n",
      " 86%|████████▌ | 2660/3098 [00:04<00:00, 612.02it/s]\u001b[A\n",
      " 88%|████████▊ | 2723/3098 [00:04<00:00, 616.22it/s]\u001b[A\n",
      " 90%|████████▉ | 2785/3098 [00:04<00:00, 602.82it/s]\u001b[A\n",
      " 92%|█████████▏| 2846/3098 [00:04<00:00, 598.71it/s]\u001b[A\n",
      " 94%|█████████▍| 2906/3098 [00:04<00:00, 593.88it/s]\u001b[A\n",
      " 96%|█████████▌| 2966/3098 [00:04<00:00, 591.21it/s]\u001b[A\n",
      " 98%|█████████▊| 3026/3098 [00:05<00:00, 589.40it/s]\u001b[A\n",
      "100%|██████████| 3098/3098 [00:05<00:00, 602.52it/s]\u001b[A\n",
      " 90%|█████████ | 9/10 [00:49<00:05,  5.19s/it]\n",
      "  0%|          | 0/4863 [00:00<?, ?it/s]\u001b[A\n",
      "  1%|          | 59/4863 [00:00<00:08, 580.77it/s]\u001b[A"
     ]
    },
    {
     "name": "stdout",
     "output_type": "stream",
     "text": [
      "class:  cane  :  4863\n"
     ]
    },
    {
     "name": "stderr",
     "output_type": "stream",
     "text": [
      "\n",
      "  3%|▎         | 125/4863 [00:00<00:07, 599.97it/s]\u001b[A\n",
      "  4%|▍         | 192/4863 [00:00<00:07, 617.02it/s]\u001b[A\n",
      "  5%|▍         | 241/4863 [00:00<00:08, 572.29it/s]\u001b[A\n",
      "  6%|▋         | 307/4863 [00:00<00:07, 594.82it/s]\u001b[A\n",
      "  8%|▊         | 378/4863 [00:00<00:07, 623.89it/s]\u001b[A\n",
      "  9%|▉         | 442/4863 [00:00<00:07, 627.88it/s]\u001b[A\n",
      " 11%|█         | 511/4863 [00:00<00:06, 644.37it/s]\u001b[A\n",
      " 12%|█▏        | 573/4863 [00:00<00:06, 627.05it/s]\u001b[A\n",
      " 13%|█▎        | 644/4863 [00:01<00:06, 647.94it/s]\u001b[A\n",
      " 15%|█▍        | 710/4863 [00:01<00:06, 648.54it/s]\u001b[A\n",
      " 16%|█▌        | 778/4863 [00:01<00:06, 655.69it/s]\u001b[A\n",
      " 17%|█▋        | 847/4863 [00:01<00:06, 664.90it/s]\u001b[A\n",
      " 19%|█▉        | 916/4863 [00:01<00:05, 671.72it/s]\u001b[A\n",
      " 20%|██        | 983/4863 [00:01<00:05, 665.35it/s]\u001b[A\n",
      " 22%|██▏       | 1050/4863 [00:01<00:05, 659.53it/s]\u001b[A\n",
      " 23%|██▎       | 1116/4863 [00:01<00:05, 650.59it/s]\u001b[A\n",
      " 24%|██▍       | 1182/4863 [00:01<00:05, 648.70it/s]\u001b[A\n",
      " 26%|██▌       | 1251/4863 [00:01<00:05, 660.37it/s]\u001b[A\n",
      " 27%|██▋       | 1321/4863 [00:02<00:05, 669.93it/s]\u001b[A\n",
      " 29%|██▊       | 1389/4863 [00:02<00:05, 669.65it/s]\u001b[A\n",
      " 30%|██▉       | 1458/4863 [00:02<00:05, 674.19it/s]\u001b[A\n",
      " 31%|███▏      | 1526/4863 [00:02<00:05, 666.86it/s]\u001b[A\n",
      " 33%|███▎      | 1594/4863 [00:02<00:04, 669.54it/s]\u001b[A\n",
      " 34%|███▍      | 1662/4863 [00:02<00:04, 671.66it/s]\u001b[A\n",
      " 36%|███▌      | 1730/4863 [00:02<00:04, 659.10it/s]\u001b[A\n",
      " 37%|███▋      | 1797/4863 [00:02<00:04, 661.64it/s]\u001b[A\n",
      " 38%|███▊      | 1864/4863 [00:02<00:04, 649.81it/s]\u001b[A\n",
      " 40%|███▉      | 1933/4863 [00:02<00:04, 659.26it/s]\u001b[A\n",
      " 41%|████      | 2003/4863 [00:03<00:04, 669.60it/s]\u001b[A\n",
      " 43%|████▎     | 2077/4863 [00:03<00:04, 687.75it/s]\u001b[A\n",
      " 44%|████▍     | 2150/4863 [00:03<00:03, 697.47it/s]\u001b[A\n",
      " 46%|████▌     | 2222/4863 [00:03<00:03, 701.78it/s]\u001b[A\n",
      " 47%|████▋     | 2293/4863 [00:03<00:03, 694.49it/s]\u001b[A\n",
      " 49%|████▊     | 2367/4863 [00:03<00:03, 706.90it/s]\u001b[A\n",
      " 50%|█████     | 2439/4863 [00:03<00:03, 707.73it/s]\u001b[A\n",
      " 52%|█████▏    | 2510/4863 [00:03<00:03, 696.17it/s]\u001b[A\n",
      " 53%|█████▎    | 2580/4863 [00:03<00:03, 674.00it/s]\u001b[A\n",
      " 55%|█████▍    | 2653/4863 [00:03<00:03, 687.24it/s]\u001b[A\n",
      " 56%|█████▌    | 2723/4863 [00:04<00:03, 689.76it/s]\u001b[A\n",
      " 57%|█████▋    | 2793/4863 [00:04<00:03, 682.79it/s]\u001b[A\n",
      " 59%|█████▉    | 2862/4863 [00:04<00:03, 662.15it/s]\u001b[A\n",
      " 60%|██████    | 2933/4863 [00:04<00:02, 675.61it/s]\u001b[A\n",
      " 62%|██████▏   | 3002/4863 [00:04<00:02, 678.14it/s]\u001b[A\n",
      " 63%|██████▎   | 3074/4863 [00:04<00:02, 688.29it/s]\u001b[A\n",
      " 65%|██████▍   | 3145/4863 [00:04<00:02, 691.26it/s]\u001b[A\n",
      " 66%|██████▌   | 3215/4863 [00:04<00:02, 676.31it/s]\u001b[A\n",
      " 68%|██████▊   | 3288/4863 [00:04<00:02, 689.43it/s]\u001b[A\n",
      " 69%|██████▉   | 3361/4863 [00:05<00:02, 698.89it/s]\u001b[A\n",
      " 71%|███████   | 3434/4863 [00:05<00:02, 706.37it/s]\u001b[A\n",
      " 72%|███████▏  | 3505/4863 [00:05<00:01, 685.17it/s]\u001b[A\n",
      " 74%|███████▎  | 3577/4863 [00:05<00:01, 695.14it/s]\u001b[A\n",
      " 75%|███████▌  | 3652/4863 [00:05<00:01, 709.63it/s]\u001b[A\n",
      " 77%|███████▋  | 3724/4863 [00:05<00:01, 708.92it/s]\u001b[A\n",
      " 78%|███████▊  | 3796/4863 [00:05<00:01, 667.73it/s]\u001b[A\n",
      " 80%|███████▉  | 3869/4863 [00:05<00:01, 685.22it/s]\u001b[A\n",
      " 81%|████████  | 3939/4863 [00:05<00:01, 688.38it/s]\u001b[A\n",
      " 82%|████████▏ | 4010/4863 [00:05<00:01, 694.55it/s]\u001b[A\n",
      " 84%|████████▍ | 4080/4863 [00:06<00:01, 695.10it/s]\u001b[A\n",
      " 85%|████████▌ | 4152/4863 [00:06<00:01, 700.59it/s]\u001b[A\n",
      " 87%|████████▋ | 4223/4863 [00:06<00:00, 685.28it/s]\u001b[A\n",
      " 88%|████████▊ | 4294/4863 [00:06<00:00, 690.57it/s]\u001b[A\n",
      " 90%|████████▉ | 4366/4863 [00:06<00:00, 697.19it/s]\u001b[A\n",
      " 91%|█████████ | 4437/4863 [00:06<00:00, 700.67it/s]\u001b[A\n",
      " 93%|█████████▎| 4511/4863 [00:06<00:00, 709.50it/s]\u001b[A\n",
      " 94%|█████████▍| 4583/4863 [00:06<00:00, 692.39it/s]\u001b[A\n",
      " 96%|█████████▌| 4653/4863 [00:06<00:00, 694.49it/s]\u001b[A\n",
      " 97%|█████████▋| 4723/4863 [00:06<00:00, 687.70it/s]\u001b[A\n",
      "100%|██████████| 4863/4863 [00:07<00:00, 677.47it/s]\u001b[A\n",
      "100%|██████████| 10/10 [00:56<00:00,  5.62s/it]"
     ]
    },
    {
     "name": "stdout",
     "output_type": "stream",
     "text": [
      "(26179, 4356)\n"
     ]
    },
    {
     "name": "stderr",
     "output_type": "stream",
     "text": [
      "\n"
     ]
    }
   ],
   "source": [
    "\n",
    "classes = ['mucca', 'elefante', 'gatto', 'cavallo', 'scoiattolo', 'ragno', 'pecora', 'farfalla', 'gallina', 'cane']\n",
    "#training data\n",
    "\n",
    "rootTrain = datasetRoot #+'train/'\n",
    "size = 66 #112 #224 #try different image size reductions\n",
    "size2 = size*size\n",
    "nbImages = 0\n",
    "for cl in classes:\n",
    "    nbImages += len(glob.glob(rootTrain+cl+'/*'))\n",
    "xTrain = xTrain = np.empty(shape=(nbImages,size2))\n",
    "print(\"total number of images: \",len(xTrain))\n",
    "i = 0\n",
    "for cl in tqdm(classes):\n",
    "    listImages = glob.glob(rootTrain+cl+'/*')\n",
    "    print(\"class: \", cl, \" : \", len(listImages)) \n",
    "    for pathImg in tqdm(listImages): \n",
    "        img = image.load_img(pathImg, target_size=(size, size),color_mode='grayscale')\n",
    "        im = image.img_to_array(img)\n",
    "        im = np.reshape(im,size2)\n",
    "        im /= 255.0\n",
    "        xTrain[i, :] = im \n",
    "        i += 1\n",
    "print(xTrain.shape)\n",
    "\n"
   ]
  },
  {
   "cell_type": "code",
   "execution_count": 47,
   "metadata": {},
   "outputs": [
    {
     "name": "stdout",
     "output_type": "stream",
     "text": [
      "4356\n"
     ]
    }
   ],
   "source": [
    "print(size2)"
   ]
  },
  {
   "cell_type": "markdown",
   "metadata": {
    "id": "dF3I9QDNCK_y"
   },
   "source": [
    "## Let us build an autoencoder"
   ]
  },
  {
   "cell_type": "code",
   "execution_count": 48,
   "metadata": {
    "colab": {
     "base_uri": "https://localhost:8080/",
     "height": 312
    },
    "id": "uqgiav0HCYBz",
    "outputId": "4b53bd84-4ed0-4ab1-f352-86523d01ed3f"
   },
   "outputs": [
    {
     "name": "stdout",
     "output_type": "stream",
     "text": [
      "Model: \"model_12\"\n",
      "_________________________________________________________________\n",
      "Layer (type)                 Output Shape              Param #   \n",
      "=================================================================\n",
      "input_12 (InputLayer)        [(None, 4356)]            0         \n",
      "_________________________________________________________________\n",
      "dense_30 (Dense)             (None, 4000)              17428000  \n",
      "_________________________________________________________________\n",
      "dense_31 (Dense)             (None, 2000)              8002000   \n",
      "_________________________________________________________________\n",
      "dense_32 (Dense)             (None, 4000)              8004000   \n",
      "_________________________________________________________________\n",
      "dense_33 (Dense)             (None, 4356)              17428356  \n",
      "=================================================================\n",
      "Total params: 50,862,356\n",
      "Trainable params: 50,862,356\n",
      "Non-trainable params: 0\n",
      "_________________________________________________________________\n",
      "None\n"
     ]
    }
   ],
   "source": [
    "inputImage = Input(shape=(size2,))\n",
    "encoded = Dense(4000, activation='relu')(inputImage)\n",
    "encoded = Dense(2000, activation='relu')(encoded)\n",
    "\n",
    "decoded = Dense(4000, activation='relu')(encoded)\n",
    "decoded = Dense(size2, activation='sigmoid')(decoded)\n",
    "\n",
    "autoencoder = Model(inputImage, decoded)\n",
    "autoencoder.compile(optimizer='adam', loss='mse') \n",
    "print(autoencoder.summary())"
   ]
  },
  {
   "cell_type": "code",
   "execution_count": 49,
   "metadata": {},
   "outputs": [],
   "source": [
    "from tensorflow.keras.callbacks import EarlyStopping\n",
    "ourCallback = EarlyStopping(monitor='val_loss', min_delta=0.0001, patience=10, verbose=0, mode='auto', baseline=None, restore_best_weights=True)"
   ]
  },
  {
   "cell_type": "code",
   "execution_count": 50,
   "metadata": {
    "colab": {
     "base_uri": "https://localhost:8080/",
     "height": 1000
    },
    "id": "hYGYQ0NTDqjZ",
    "outputId": "dc4fcc91-451a-4655-a176-b9aad3239c16",
    "scrolled": true
   },
   "outputs": [
    {
     "name": "stdout",
     "output_type": "stream",
     "text": [
      "Epoch 1/100\n",
      "82/82 [==============================] - 9s 104ms/step - loss: 0.0607 - val_loss: 0.0522\n",
      "Epoch 2/100\n",
      "82/82 [==============================] - 8s 100ms/step - loss: 0.0439 - val_loss: 0.0372\n",
      "Epoch 3/100\n",
      "82/82 [==============================] - 8s 100ms/step - loss: 0.0344 - val_loss: 0.0332\n",
      "Epoch 4/100\n",
      "82/82 [==============================] - 8s 100ms/step - loss: 0.0303 - val_loss: 0.0291\n",
      "Epoch 5/100\n",
      "82/82 [==============================] - 8s 100ms/step - loss: 0.0279 - val_loss: 0.0277\n",
      "Epoch 6/100\n",
      "82/82 [==============================] - 8s 101ms/step - loss: 0.0266 - val_loss: 0.0264\n",
      "Epoch 7/100\n",
      "82/82 [==============================] - 8s 100ms/step - loss: 0.0254 - val_loss: 0.0252\n",
      "Epoch 8/100\n",
      "82/82 [==============================] - 8s 102ms/step - loss: 0.0251 - val_loss: 0.0244\n",
      "Epoch 9/100\n",
      "82/82 [==============================] - 8s 100ms/step - loss: 0.0240 - val_loss: 0.0236\n",
      "Epoch 10/100\n",
      "82/82 [==============================] - 8s 101ms/step - loss: 0.0233 - val_loss: 0.0232\n",
      "Epoch 11/100\n",
      "82/82 [==============================] - 8s 101ms/step - loss: 0.0229 - val_loss: 0.0224\n",
      "Epoch 12/100\n",
      "82/82 [==============================] - 8s 100ms/step - loss: 0.0225 - val_loss: 0.0229\n",
      "Epoch 13/100\n",
      "82/82 [==============================] - 8s 101ms/step - loss: 0.0224 - val_loss: 0.0220\n",
      "Epoch 14/100\n",
      "82/82 [==============================] - 8s 100ms/step - loss: 0.0214 - val_loss: 0.0224\n",
      "Epoch 15/100\n",
      "82/82 [==============================] - 8s 101ms/step - loss: 0.0216 - val_loss: 0.0212\n",
      "Epoch 16/100\n",
      "82/82 [==============================] - 8s 100ms/step - loss: 0.0218 - val_loss: 0.0207\n",
      "Epoch 17/100\n",
      "82/82 [==============================] - 8s 100ms/step - loss: 0.0205 - val_loss: 0.0210\n",
      "Epoch 18/100\n",
      "82/82 [==============================] - 8s 100ms/step - loss: 0.0205 - val_loss: 0.0204\n",
      "Epoch 19/100\n",
      "82/82 [==============================] - 8s 101ms/step - loss: 0.0201 - val_loss: 0.0197\n",
      "Epoch 20/100\n",
      "82/82 [==============================] - 8s 101ms/step - loss: 0.0203 - val_loss: 0.0219\n",
      "Epoch 21/100\n",
      "82/82 [==============================] - 8s 100ms/step - loss: 0.0201 - val_loss: 0.0195\n",
      "Epoch 22/100\n",
      "82/82 [==============================] - 8s 100ms/step - loss: 0.0195 - val_loss: 0.0193\n",
      "Epoch 23/100\n",
      "82/82 [==============================] - 8s 100ms/step - loss: 0.0194 - val_loss: 0.0192\n",
      "Epoch 24/100\n",
      "82/82 [==============================] - 8s 100ms/step - loss: 0.0189 - val_loss: 0.0192\n",
      "Epoch 25/100\n",
      "82/82 [==============================] - 8s 100ms/step - loss: 0.0189 - val_loss: 0.0187\n",
      "Epoch 26/100\n",
      "82/82 [==============================] - 8s 101ms/step - loss: 0.0185 - val_loss: 0.0191\n",
      "Epoch 27/100\n",
      "82/82 [==============================] - 8s 100ms/step - loss: 0.0186 - val_loss: 0.0193\n",
      "Epoch 28/100\n",
      "82/82 [==============================] - 8s 100ms/step - loss: 0.0183 - val_loss: 0.0187\n",
      "Epoch 29/100\n",
      "82/82 [==============================] - 8s 100ms/step - loss: 0.0185 - val_loss: 0.0184\n",
      "Epoch 30/100\n",
      "82/82 [==============================] - 8s 100ms/step - loss: 0.0178 - val_loss: 0.0186\n",
      "Epoch 31/100\n",
      "82/82 [==============================] - 8s 100ms/step - loss: 0.0181 - val_loss: 0.0183\n",
      "Epoch 32/100\n",
      "82/82 [==============================] - 8s 100ms/step - loss: 0.0177 - val_loss: 0.0182\n",
      "Epoch 33/100\n",
      "82/82 [==============================] - 8s 100ms/step - loss: 0.0175 - val_loss: 0.0184\n",
      "Epoch 34/100\n",
      "82/82 [==============================] - 8s 101ms/step - loss: 0.0173 - val_loss: 0.0191\n",
      "Epoch 35/100\n",
      "82/82 [==============================] - 8s 101ms/step - loss: 0.0176 - val_loss: 0.0181\n",
      "Epoch 36/100\n",
      "82/82 [==============================] - 8s 100ms/step - loss: 0.0171 - val_loss: 0.0179\n",
      "Epoch 37/100\n",
      "82/82 [==============================] - 8s 100ms/step - loss: 0.0169 - val_loss: 0.0178\n",
      "Epoch 38/100\n",
      "82/82 [==============================] - 8s 100ms/step - loss: 0.0169 - val_loss: 0.0179\n",
      "Epoch 39/100\n",
      "82/82 [==============================] - 8s 100ms/step - loss: 0.0166 - val_loss: 0.0179\n",
      "Epoch 40/100\n",
      "82/82 [==============================] - 8s 100ms/step - loss: 0.0165 - val_loss: 0.0182\n",
      "Epoch 41/100\n",
      "82/82 [==============================] - 8s 101ms/step - loss: 0.0165 - val_loss: 0.0178\n",
      "Epoch 42/100\n",
      "82/82 [==============================] - 8s 100ms/step - loss: 0.0166 - val_loss: 0.0178\n",
      "Epoch 43/100\n",
      "82/82 [==============================] - 8s 100ms/step - loss: 0.0166 - val_loss: 0.0178\n",
      "Epoch 44/100\n",
      "82/82 [==============================] - 8s 100ms/step - loss: 0.0163 - val_loss: 0.0178\n",
      "Epoch 45/100\n",
      "82/82 [==============================] - 8s 100ms/step - loss: 0.0160 - val_loss: 0.0183\n",
      "Epoch 46/100\n",
      "82/82 [==============================] - 8s 100ms/step - loss: 0.0161 - val_loss: 0.0181\n",
      "Epoch 47/100\n",
      "82/82 [==============================] - 8s 100ms/step - loss: 0.0160 - val_loss: 0.0180\n",
      "Epoch 48/100\n",
      "82/82 [==============================] - 8s 100ms/step - loss: 0.0157 - val_loss: 0.0178\n",
      "Epoch 49/100\n",
      "82/82 [==============================] - 8s 100ms/step - loss: 0.0158 - val_loss: 0.0180\n",
      "Epoch 50/100\n",
      "82/82 [==============================] - 8s 100ms/step - loss: 0.0156 - val_loss: 0.0179\n",
      "Epoch 51/100\n",
      "82/82 [==============================] - 8s 101ms/step - loss: 0.0155 - val_loss: 0.0178\n"
     ]
    },
    {
     "data": {
      "text/plain": [
       "<tensorflow.python.keras.callbacks.History at 0x7f4db4490d30>"
      ]
     },
     "execution_count": 50,
     "metadata": {},
     "output_type": "execute_result"
    }
   ],
   "source": [
    "#learning\n",
    "autoencoder.fit(xTrain, xTrain, epochs=100,batch_size=32, validation_split=0.2, shuffle=True,callbacks=[ourCallback])"
   ]
  },
  {
   "cell_type": "code",
   "execution_count": 51,
   "metadata": {},
   "outputs": [
    {
     "name": "stdout",
     "output_type": "stream",
     "text": [
      "819/819 [==============================] - 6s 7ms/step - loss: 0.0164\n",
      "score =  0.016432704403996468\n"
     ]
    }
   ],
   "source": [
    "print(\"score = \", autoencoder.evaluate(xTrain,xTrain))"
   ]
  },
  {
   "cell_type": "code",
   "execution_count": 52,
   "metadata": {
    "id": "UstNKM31yrar"
   },
   "outputs": [
    {
     "name": "stdout",
     "output_type": "stream",
     "text": [
      "WARNING:tensorflow:6 out of the last 1880 calls to <function Model.make_predict_function.<locals>.predict_function at 0x7f4e0c02f8b0> triggered tf.function retracing. Tracing is expensive and the excessive number of tracings could be due to (1) creating @tf.function repeatedly in a loop, (2) passing tensors with different shapes, (3) passing Python objects instead of tensors. For (1), please define your @tf.function outside of the loop. For (2), @tf.function has experimental_relax_shapes=True option that relaxes argument shapes that can avoid unnecessary retracing. For (3), please refer to https://www.tensorflow.org/guide/function#controlling_retracing and https://www.tensorflow.org/api_docs/python/tf/function for  more details.\n"
     ]
    }
   ],
   "source": [
    "# predictions\n",
    "xTrainPredicted = autoencoder.predict(xTrain)"
   ]
  },
  {
   "cell_type": "code",
   "execution_count": 60,
   "metadata": {
    "colab": {
     "base_uri": "https://localhost:8080/",
     "height": 571
    },
    "id": "-CnvnYqqy0nz",
    "outputId": "9a8f5ada-0db3-4ea0-ba42-cc5e78795c43",
    "scrolled": true
   },
   "outputs": [
    {
     "name": "stdout",
     "output_type": "stream",
     "text": [
      "image number:  19830\n",
      "(4356,)\n",
      "(66, 66)\n"
     ]
    },
    {
     "data": {
      "image/png": "[encoded data removed]",
      "text/plain": [
       "<Figure size 432x288 with 2 Axes>"
      ]
     },
     "metadata": {
      "needs_background": "light"
     },
     "output_type": "display_data"
    }
   ],
   "source": [
    "# let's look at the differences\n",
    "\n",
    "index = random.randint(0,len(xTrain)-1)\n",
    "print(\"image number: \", index)\n",
    "im1 = xTrain[index]\n",
    "im1 = im1.reshape((size,size))\n",
    "im2 = xTrainPredicted[index]\n",
    "print(im2.shape)\n",
    "im2 = im2.reshape((size,size))\n",
    "print(im2.shape)\n",
    "fig = plt.figure()\n",
    "ax = fig.add_subplot(1, 2, 1)\n",
    "plt.imshow(im1, cmap='gray')\n",
    "ax = fig.add_subplot(1, 2, 2)\n",
    "plt.imshow(im2, cmap='gray')\n",
    "plt.show()"
   ]
  },
  {
   "cell_type": "markdown",
   "metadata": {},
   "source": [
    "Try also to plot more images."
   ]
  },
  {
   "cell_type": "markdown",
   "metadata": {
    "id": "xumQI6rW0mKy"
   },
   "source": [
    "## From dense to convolutional layers\n",
    "Change the Dense layers to Conv2D layers and add Pooling layers. "
   ]
  },
  {
   "cell_type": "code",
   "execution_count": 61,
   "metadata": {},
   "outputs": [],
   "source": [
    "# prepare the data\n",
    "xTrain = xTrain.reshape(nbImages,size,size)"
   ]
  },
  {
   "cell_type": "code",
   "execution_count": 62,
   "metadata": {},
   "outputs": [
    {
     "name": "stdout",
     "output_type": "stream",
     "text": [
      "(26179, 66, 66)\n"
     ]
    }
   ],
   "source": [
    "print(xTrain.shape)"
   ]
  },
  {
   "cell_type": "code",
   "execution_count": 63,
   "metadata": {},
   "outputs": [
    {
     "name": "stdout",
     "output_type": "stream",
     "text": [
      "Model: \"model_13\"\n",
      "_________________________________________________________________\n",
      "Layer (type)                 Output Shape              Param #   \n",
      "=================================================================\n",
      "input_13 (InputLayer)        [(None, 66, 66, 1)]       0         \n",
      "_________________________________________________________________\n",
      "conv2d_17 (Conv2D)           (None, 66, 66, 2)         20        \n",
      "_________________________________________________________________\n",
      "max_pooling2d_8 (MaxPooling2 (None, 33, 33, 2)         0         \n",
      "_________________________________________________________________\n",
      "conv2d_18 (Conv2D)           (None, 33, 33, 2)         38        \n",
      "_________________________________________________________________\n",
      "up_sampling2d_6 (UpSampling2 (None, 66, 66, 2)         0         \n",
      "_________________________________________________________________\n",
      "conv2d_19 (Conv2D)           (None, 66, 66, 1)         19        \n",
      "=================================================================\n",
      "Total params: 77\n",
      "Trainable params: 77\n",
      "Non-trainable params: 0\n",
      "_________________________________________________________________\n",
      "None\n"
     ]
    }
   ],
   "source": [
    "# your work is to try different architectures in order to find the best reconstruction / reduction of latent representation\n",
    "#  encoder part\n",
    "size=66\n",
    "inputImage = tensorflow.keras.Input(shape=(size, size, 1))\n",
    "encoded = Conv2D(2, (3, 3), activation='relu', padding='same')(inputImage)\n",
    "encoded = MaxPooling2D((2, 2), padding='same')(encoded)\n",
    "#  decoding part\n",
    "decoded = Conv2D(2, (3, 3), activation='relu', padding='same')(encoded)\n",
    "decoded = UpSampling2D((2, 2))(decoded)\n",
    "decoded = Conv2D(1, (3, 3), activation='sigmoid', padding='same')(decoded)\n",
    "\n",
    "autoencoder = Model(inputImage, decoded)\n",
    "autoencoder.compile(optimizer='adam', loss='mse') \n",
    "print(autoencoder.summary())"
   ]
  },
  {
   "cell_type": "code",
   "execution_count": 64,
   "metadata": {
    "scrolled": true
   },
   "outputs": [
    {
     "name": "stdout",
     "output_type": "stream",
     "text": [
      "Epoch 1/100\n",
      "82/82 [==============================] - 5s 56ms/step - loss: 0.0663 - val_loss: 0.0635\n",
      "Epoch 2/100\n",
      "82/82 [==============================] - 4s 46ms/step - loss: 0.0533 - val_loss: 0.0397\n",
      "Epoch 3/100\n",
      "82/82 [==============================] - 4s 47ms/step - loss: 0.0348 - val_loss: 0.0309\n",
      "Epoch 4/100\n",
      "82/82 [==============================] - 4s 47ms/step - loss: 0.0281 - val_loss: 0.0267\n",
      "Epoch 5/100\n",
      "82/82 [==============================] - 4s 46ms/step - loss: 0.0251 - val_loss: 0.0239\n",
      "Epoch 6/100\n",
      "82/82 [==============================] - 4s 46ms/step - loss: 0.0226 - val_loss: 0.0217\n",
      "Epoch 7/100\n",
      "82/82 [==============================] - 4s 46ms/step - loss: 0.0206 - val_loss: 0.0200\n",
      "Epoch 8/100\n",
      "82/82 [==============================] - 4s 46ms/step - loss: 0.0192 - val_loss: 0.0185\n",
      "Epoch 9/100\n",
      "82/82 [==============================] - 4s 46ms/step - loss: 0.0178 - val_loss: 0.0172\n",
      "Epoch 10/100\n",
      "82/82 [==============================] - 4s 47ms/step - loss: 0.0169 - val_loss: 0.0161\n",
      "Epoch 11/100\n",
      "82/82 [==============================] - 4s 46ms/step - loss: 0.0160 - val_loss: 0.0152\n",
      "Epoch 12/100\n",
      "82/82 [==============================] - 4s 47ms/step - loss: 0.0152 - val_loss: 0.0144\n",
      "Epoch 13/100\n",
      "82/82 [==============================] - 4s 47ms/step - loss: 0.0146 - val_loss: 0.0137\n",
      "Epoch 14/100\n",
      "82/82 [==============================] - 4s 47ms/step - loss: 0.0140 - val_loss: 0.0131\n",
      "Epoch 15/100\n",
      "82/82 [==============================] - 4s 47ms/step - loss: 0.0135 - val_loss: 0.0125\n",
      "Epoch 16/100\n",
      "82/82 [==============================] - 4s 47ms/step - loss: 0.0130 - val_loss: 0.0121\n",
      "Epoch 17/100\n",
      "82/82 [==============================] - 4s 47ms/step - loss: 0.0127 - val_loss: 0.0116\n",
      "Epoch 18/100\n",
      "82/82 [==============================] - 4s 47ms/step - loss: 0.0123 - val_loss: 0.0113\n",
      "Epoch 19/100\n",
      "82/82 [==============================] - 4s 47ms/step - loss: 0.0119 - val_loss: 0.0109\n",
      "Epoch 20/100\n",
      "82/82 [==============================] - 4s 47ms/step - loss: 0.0118 - val_loss: 0.0106\n",
      "Epoch 21/100\n",
      "82/82 [==============================] - 4s 47ms/step - loss: 0.0115 - val_loss: 0.0104\n",
      "Epoch 22/100\n",
      "82/82 [==============================] - 4s 47ms/step - loss: 0.0112 - val_loss: 0.0101\n",
      "Epoch 23/100\n",
      "82/82 [==============================] - 4s 47ms/step - loss: 0.0111 - val_loss: 0.0099\n",
      "Epoch 24/100\n",
      "82/82 [==============================] - 4s 47ms/step - loss: 0.0109 - val_loss: 0.0097\n",
      "Epoch 25/100\n",
      "82/82 [==============================] - 4s 47ms/step - loss: 0.0108 - val_loss: 0.0095\n",
      "Epoch 26/100\n",
      "82/82 [==============================] - 4s 46ms/step - loss: 0.0106 - val_loss: 0.0094\n",
      "Epoch 27/100\n",
      "82/82 [==============================] - 4s 47ms/step - loss: 0.0104 - val_loss: 0.0092\n",
      "Epoch 28/100\n",
      "82/82 [==============================] - 4s 47ms/step - loss: 0.0103 - val_loss: 0.0091\n",
      "Epoch 29/100\n",
      "82/82 [==============================] - 4s 47ms/step - loss: 0.0102 - val_loss: 0.0089\n",
      "Epoch 30/100\n",
      "82/82 [==============================] - 4s 47ms/step - loss: 0.0100 - val_loss: 0.0088\n",
      "Epoch 31/100\n",
      "82/82 [==============================] - 4s 47ms/step - loss: 0.0100 - val_loss: 0.0086\n",
      "Epoch 32/100\n",
      "82/82 [==============================] - 4s 47ms/step - loss: 0.0099 - val_loss: 0.0085\n",
      "Epoch 33/100\n",
      "82/82 [==============================] - 4s 46ms/step - loss: 0.0096 - val_loss: 0.0084\n",
      "Epoch 34/100\n",
      "82/82 [==============================] - 4s 46ms/step - loss: 0.0096 - val_loss: 0.0082\n",
      "Epoch 35/100\n",
      "82/82 [==============================] - 4s 46ms/step - loss: 0.0096 - val_loss: 0.0081\n",
      "Epoch 36/100\n",
      "82/82 [==============================] - 4s 46ms/step - loss: 0.0094 - val_loss: 0.0080\n",
      "Epoch 37/100\n",
      "82/82 [==============================] - 4s 46ms/step - loss: 0.0092 - val_loss: 0.0079\n",
      "Epoch 38/100\n",
      "82/82 [==============================] - 4s 46ms/step - loss: 0.0091 - val_loss: 0.0078\n",
      "Epoch 39/100\n",
      "82/82 [==============================] - 4s 46ms/step - loss: 0.0091 - val_loss: 0.0077\n",
      "Epoch 40/100\n",
      "82/82 [==============================] - 4s 46ms/step - loss: 0.0090 - val_loss: 0.0076\n",
      "Epoch 41/100\n",
      "82/82 [==============================] - 4s 46ms/step - loss: 0.0088 - val_loss: 0.0075\n",
      "Epoch 42/100\n",
      "82/82 [==============================] - 4s 47ms/step - loss: 0.0088 - val_loss: 0.0074\n",
      "Epoch 43/100\n",
      "82/82 [==============================] - 4s 46ms/step - loss: 0.0087 - val_loss: 0.0074\n",
      "Epoch 44/100\n",
      "82/82 [==============================] - 4s 46ms/step - loss: 0.0086 - val_loss: 0.0073\n",
      "Epoch 45/100\n",
      "82/82 [==============================] - 4s 46ms/step - loss: 0.0085 - val_loss: 0.0072\n",
      "Epoch 46/100\n",
      "82/82 [==============================] - 4s 46ms/step - loss: 0.0086 - val_loss: 0.0072\n",
      "Epoch 47/100\n",
      "82/82 [==============================] - 4s 46ms/step - loss: 0.0085 - val_loss: 0.0072\n",
      "Epoch 48/100\n",
      "82/82 [==============================] - 4s 46ms/step - loss: 0.0084 - val_loss: 0.0071\n",
      "Epoch 49/100\n",
      "82/82 [==============================] - 4s 46ms/step - loss: 0.0084 - val_loss: 0.0071\n",
      "Epoch 50/100\n",
      "82/82 [==============================] - 4s 46ms/step - loss: 0.0084 - val_loss: 0.0070\n",
      "Epoch 51/100\n",
      "82/82 [==============================] - 4s 46ms/step - loss: 0.0083 - val_loss: 0.0070\n",
      "Epoch 52/100\n",
      "82/82 [==============================] - 4s 47ms/step - loss: 0.0083 - val_loss: 0.0070\n",
      "Epoch 53/100\n",
      "82/82 [==============================] - 4s 47ms/step - loss: 0.0083 - val_loss: 0.0069\n",
      "Epoch 54/100\n",
      "82/82 [==============================] - 4s 47ms/step - loss: 0.0083 - val_loss: 0.0069\n",
      "Epoch 55/100\n",
      "82/82 [==============================] - 4s 46ms/step - loss: 0.0082 - val_loss: 0.0069\n",
      "Epoch 56/100\n",
      "82/82 [==============================] - 4s 47ms/step - loss: 0.0083 - val_loss: 0.0069\n",
      "Epoch 57/100\n",
      "82/82 [==============================] - 4s 47ms/step - loss: 0.0083 - val_loss: 0.0069\n",
      "Epoch 58/100\n",
      "82/82 [==============================] - 4s 46ms/step - loss: 0.0082 - val_loss: 0.0068\n",
      "Epoch 59/100\n",
      "82/82 [==============================] - 4s 45ms/step - loss: 0.0082 - val_loss: 0.0068\n",
      "Epoch 60/100\n",
      "82/82 [==============================] - 4s 46ms/step - loss: 0.0082 - val_loss: 0.0068\n",
      "Epoch 61/100\n",
      "82/82 [==============================] - 4s 46ms/step - loss: 0.0081 - val_loss: 0.0068\n",
      "Epoch 62/100\n",
      "82/82 [==============================] - 4s 45ms/step - loss: 0.0082 - val_loss: 0.0068\n",
      "Epoch 63/100\n",
      "82/82 [==============================] - 4s 44ms/step - loss: 0.0082 - val_loss: 0.0068\n",
      "Epoch 64/100\n",
      "82/82 [==============================] - 4s 44ms/step - loss: 0.0081 - val_loss: 0.0068\n",
      "Epoch 65/100\n",
      "82/82 [==============================] - 4s 45ms/step - loss: 0.0081 - val_loss: 0.0067\n",
      "Epoch 66/100\n",
      "82/82 [==============================] - 4s 44ms/step - loss: 0.0081 - val_loss: 0.0067\n",
      "Epoch 67/100\n",
      "82/82 [==============================] - 4s 44ms/step - loss: 0.0081 - val_loss: 0.0067\n",
      "Epoch 68/100\n",
      "82/82 [==============================] - 4s 44ms/step - loss: 0.0081 - val_loss: 0.0067\n",
      "Epoch 69/100\n",
      "82/82 [==============================] - 4s 44ms/step - loss: 0.0081 - val_loss: 0.0067\n",
      "Epoch 70/100\n",
      "82/82 [==============================] - 4s 45ms/step - loss: 0.0082 - val_loss: 0.0067\n",
      "Epoch 71/100\n",
      "82/82 [==============================] - 4s 44ms/step - loss: 0.0081 - val_loss: 0.0067\n"
     ]
    },
    {
     "data": {
      "text/plain": [
       "<tensorflow.python.keras.callbacks.History at 0x7f4d5798f9d0>"
      ]
     },
     "execution_count": 64,
     "metadata": {},
     "output_type": "execute_result"
    }
   ],
   "source": [
    "# compile, run, test, ... as in previous section\n",
    "autoencoder.fit(xTrain, xTrain, epochs=100,batch_size=256, validation_split=0.2, shuffle=True,callbacks=[ourCallback])"
   ]
  },
  {
   "cell_type": "code",
   "execution_count": 65,
   "metadata": {},
   "outputs": [
    {
     "name": "stdout",
     "output_type": "stream",
     "text": [
      "819/819 [==============================] - 4s 4ms/step - loss: 0.0079\n",
      "score =  0.007890358567237854\n"
     ]
    }
   ],
   "source": [
    "print(\"score = \", autoencoder.evaluate(xTrain,xTrain))\n",
    "xTrainPredictedConv = autoencoder.predict(xTrain)"
   ]
  },
  {
   "cell_type": "code",
   "execution_count": 66,
   "metadata": {},
   "outputs": [
    {
     "name": "stdout",
     "output_type": "stream",
     "text": [
      "image number:  13499\n",
      "(66, 66, 1)\n"
     ]
    },
    {
     "data": {
      "image/png": "[encoded data removed]",
      "text/plain": [
       "<Figure size 432x288 with 3 Axes>"
      ]
     },
     "metadata": {
      "needs_background": "light"
     },
     "output_type": "display_data"
    }
   ],
   "source": [
    "# let's look at the differences\n",
    "\n",
    "index = random.randint(0,len(xTrain)-1)\n",
    "print(\"image number: \", index)\n",
    "im1 = xTrain[index]\n",
    "im2 = xTrainPredicted[index]\n",
    "im2 = im2.reshape((size,size))\n",
    "im3 = xTrainPredictedConv[index]\n",
    "print(im3.shape)\n",
    "fig = plt.figure()\n",
    "ax = fig.add_subplot(1, 3, 1)\n",
    "plt.imshow(im1, cmap='gray')\n",
    "ax = fig.add_subplot(1, 3, 2)\n",
    "plt.imshow(im2, cmap='gray')\n",
    "ax = fig.add_subplot(1, 3, 3)\n",
    "plt.imshow(im3[:,:,0], cmap='gray')\n",
    "plt.show()"
   ]
  },
  {
   "cell_type": "markdown",
   "metadata": {},
   "source": [
    "<hr>\n",
    "\n",
    "### personal attempt"
   ]
  },
  {
   "cell_type": "code",
   "execution_count": 121,
   "metadata": {},
   "outputs": [],
   "source": [
    "# your work is to try different architectures in order to find the best reconstruction / reduction of latent representation\n",
    "#  encoder part\n",
    "size=66\n",
    "\n",
    "inputImage = Input(shape=(size, size, 1))\n",
    "encoded = Conv2D(64, (3, 3), activation='relu', padding='same')(inputImage)\n",
    "encoded = MaxPooling2D((2, 2), padding='same')(encoded)\n",
    "encoded = Conv2D(32, (3, 3), activation='relu', padding='same')(encoded)\n",
    "encoded = MaxPooling2D((2, 2), padding='same')(encoded)\n",
    "encoded = Conv2D(16, (3, 3), activation='relu', padding='same')(encoded)\n",
    "\n",
    "decoded = UpSampling2D((2,2))(encoded)\n",
    "decoded = Conv2D(16, (3, 3), activation='relu', padding='same')(encoded)\n",
    "decoded = UpSampling2D((2, 2))(decoded)\n",
    "decoded = Conv2D(32, (3, 3), activation='relu',padding='same')(decoded)\n",
    "decoded = Conv2D(1, (3,3), activation=\"relu\")(decoded)\n",
    "\n",
    "autoencoder = Model(inputImage, decoded)\n",
    "autoencoder.compile(optimizer='adam', loss='mse') "
   ]
  },
  {
   "cell_type": "code",
   "execution_count": 122,
   "metadata": {},
   "outputs": [
    {
     "name": "stdout",
     "output_type": "stream",
     "text": [
      "Model: \"model_44\"\n",
      "_________________________________________________________________\n",
      "Layer (type)                 Output Shape              Param #   \n",
      "=================================================================\n",
      "input_42 (InputLayer)        [(None, 66, 66, 1)]       0         \n",
      "_________________________________________________________________\n",
      "conv2d_134 (Conv2D)          (None, 66, 66, 64)        640       \n",
      "_________________________________________________________________\n",
      "max_pooling2d_59 (MaxPooling (None, 33, 33, 64)        0         \n",
      "_________________________________________________________________\n",
      "conv2d_135 (Conv2D)          (None, 33, 33, 32)        18464     \n",
      "_________________________________________________________________\n",
      "max_pooling2d_60 (MaxPooling (None, 17, 17, 32)        0         \n",
      "_________________________________________________________________\n",
      "conv2d_136 (Conv2D)          (None, 17, 17, 16)        4624      \n",
      "_________________________________________________________________\n",
      "conv2d_137 (Conv2D)          (None, 17, 17, 16)        2320      \n",
      "_________________________________________________________________\n",
      "up_sampling2d_53 (UpSampling (None, 34, 34, 16)        0         \n",
      "_________________________________________________________________\n",
      "conv2d_138 (Conv2D)          (None, 34, 34, 32)        4640      \n",
      "_________________________________________________________________\n",
      "conv2d_139 (Conv2D)          (None, 32, 32, 1)         289       \n",
      "=================================================================\n",
      "Total params: 30,977\n",
      "Trainable params: 30,977\n",
      "Non-trainable params: 0\n",
      "_________________________________________________________________\n",
      "None\n"
     ]
    }
   ],
   "source": [
    "print(autoencoder.summary())"
   ]
  },
  {
   "cell_type": "code",
   "execution_count": 102,
   "metadata": {
    "scrolled": false
   },
   "outputs": [
    {
     "name": "stdout",
     "output_type": "stream",
     "text": [
      "Epoch 1/100\n",
      "655/655 [==============================] - 32s 46ms/step - loss: 0.0246 - val_loss: 0.0073\n",
      "Epoch 2/100\n",
      "655/655 [==============================] - 29s 45ms/step - loss: 0.0089 - val_loss: 0.0061\n",
      "Epoch 3/100\n",
      "655/655 [==============================] - 29s 45ms/step - loss: 0.0078 - val_loss: 0.0055\n",
      "Epoch 4/100\n",
      "655/655 [==============================] - 29s 45ms/step - loss: 0.0072 - val_loss: 0.0052\n",
      "Epoch 5/100\n",
      "655/655 [==============================] - 29s 45ms/step - loss: 0.0068 - val_loss: 0.0055\n",
      "Epoch 6/100\n",
      "655/655 [==============================] - 29s 45ms/step - loss: 0.0065 - val_loss: 0.0048\n",
      "Epoch 7/100\n",
      "655/655 [==============================] - 29s 45ms/step - loss: 0.0062 - val_loss: 0.0046\n",
      "Epoch 8/100\n",
      "655/655 [==============================] - 29s 45ms/step - loss: 0.0060 - val_loss: 0.0044\n",
      "Epoch 9/100\n",
      "655/655 [==============================] - 29s 45ms/step - loss: 0.0059 - val_loss: 0.0058\n",
      "Epoch 10/100\n",
      "655/655 [==============================] - 29s 45ms/step - loss: 0.0058 - val_loss: 0.0042\n",
      "Epoch 11/100\n",
      "655/655 [==============================] - 29s 44ms/step - loss: 0.0056 - val_loss: 0.0042\n",
      "Epoch 12/100\n",
      "655/655 [==============================] - 28s 43ms/step - loss: 0.0055 - val_loss: 0.0040\n",
      "Epoch 13/100\n",
      "655/655 [==============================] - 28s 43ms/step - loss: 0.0054 - val_loss: 0.0042\n",
      "Epoch 14/100\n",
      "655/655 [==============================] - 28s 43ms/step - loss: 0.0053 - val_loss: 0.0039\n",
      "Epoch 15/100\n",
      "655/655 [==============================] - 28s 43ms/step - loss: 0.0052 - val_loss: 0.0038\n",
      "Epoch 16/100\n",
      "655/655 [==============================] - 29s 44ms/step - loss: 0.0051 - val_loss: 0.0038\n",
      "Epoch 17/100\n",
      "655/655 [==============================] - 29s 44ms/step - loss: 0.0051 - val_loss: 0.0038\n",
      "Epoch 18/100\n",
      "655/655 [==============================] - 29s 44ms/step - loss: 0.0051 - val_loss: 0.0042\n",
      "Epoch 19/100\n",
      "655/655 [==============================] - 29s 44ms/step - loss: 0.0050 - val_loss: 0.0037\n",
      "Epoch 20/100\n",
      "655/655 [==============================] - 28s 43ms/step - loss: 0.0049 - val_loss: 0.0036\n",
      "Epoch 21/100\n",
      "655/655 [==============================] - 28s 42ms/step - loss: 0.0049 - val_loss: 0.0037\n",
      "Epoch 22/100\n",
      "655/655 [==============================] - 28s 42ms/step - loss: 0.0049 - val_loss: 0.0037\n",
      "Epoch 23/100\n",
      "655/655 [==============================] - 28s 42ms/step - loss: 0.0048 - val_loss: 0.0035\n",
      "Epoch 24/100\n",
      "655/655 [==============================] - 28s 42ms/step - loss: 0.0048 - val_loss: 0.0036\n",
      "Epoch 25/100\n",
      "655/655 [==============================] - 28s 42ms/step - loss: 0.0047 - val_loss: 0.0042\n",
      "Epoch 26/100\n",
      "655/655 [==============================] - 28s 42ms/step - loss: 0.0047 - val_loss: 0.0035\n",
      "Epoch 27/100\n",
      "655/655 [==============================] - 28s 42ms/step - loss: 0.0047 - val_loss: 0.0036\n",
      "Epoch 28/100\n",
      "655/655 [==============================] - 28s 42ms/step - loss: 0.0047 - val_loss: 0.0034\n",
      "Epoch 29/100\n",
      "655/655 [==============================] - 28s 42ms/step - loss: 0.0046 - val_loss: 0.0035\n",
      "Epoch 30/100\n",
      "655/655 [==============================] - 28s 42ms/step - loss: 0.0046 - val_loss: 0.0036\n",
      "Epoch 31/100\n",
      "655/655 [==============================] - 28s 42ms/step - loss: 0.0045 - val_loss: 0.0035\n",
      "Epoch 32/100\n",
      "655/655 [==============================] - 28s 42ms/step - loss: 0.0046 - val_loss: 0.0034\n",
      "Epoch 33/100\n",
      "655/655 [==============================] - 28s 42ms/step - loss: 0.0045 - val_loss: 0.0034\n",
      "Epoch 34/100\n",
      "655/655 [==============================] - 28s 42ms/step - loss: 0.0045 - val_loss: 0.0034\n",
      "Epoch 35/100\n",
      "655/655 [==============================] - 28s 42ms/step - loss: 0.0045 - val_loss: 0.0034\n",
      "Epoch 36/100\n",
      "655/655 [==============================] - 28s 42ms/step - loss: 0.0046 - val_loss: 0.0033\n",
      "Epoch 37/100\n",
      "655/655 [==============================] - 28s 42ms/step - loss: 0.0044 - val_loss: 0.0033\n",
      "Epoch 38/100\n",
      "655/655 [==============================] - 27s 41ms/step - loss: 0.0045 - val_loss: 0.0033\n",
      "Epoch 39/100\n",
      "655/655 [==============================] - 24s 36ms/step - loss: 0.0044 - val_loss: 0.0033\n",
      "Epoch 40/100\n",
      "655/655 [==============================] - 23s 36ms/step - loss: 0.0044 - val_loss: 0.0033\n",
      "Epoch 41/100\n",
      "655/655 [==============================] - 23s 36ms/step - loss: 0.0044 - val_loss: 0.0033\n",
      "Epoch 42/100\n",
      "655/655 [==============================] - 23s 36ms/step - loss: 0.0044 - val_loss: 0.0033\n",
      "Epoch 43/100\n",
      "655/655 [==============================] - 26s 40ms/step - loss: 0.0044 - val_loss: 0.0033\n",
      "Epoch 44/100\n",
      "655/655 [==============================] - 26s 40ms/step - loss: 0.0044 - val_loss: 0.0032\n",
      "Epoch 45/100\n",
      "655/655 [==============================] - 26s 40ms/step - loss: 0.0043 - val_loss: 0.0032\n",
      "Epoch 46/100\n",
      "655/655 [==============================] - 28s 43ms/step - loss: 0.0043 - val_loss: 0.0032\n",
      "Epoch 47/100\n",
      "655/655 [==============================] - 29s 44ms/step - loss: 0.0044 - val_loss: 0.0032\n",
      "Epoch 48/100\n",
      "655/655 [==============================] - 29s 45ms/step - loss: 0.0043 - val_loss: 0.0032\n",
      "Epoch 49/100\n",
      "655/655 [==============================] - 29s 44ms/step - loss: 0.0043 - val_loss: 0.0032\n",
      "Epoch 50/100\n",
      "655/655 [==============================] - 29s 45ms/step - loss: 0.0043 - val_loss: 0.0032\n"
     ]
    },
    {
     "data": {
      "text/plain": [
       "<tensorflow.python.keras.callbacks.History at 0x7f4d8c59ebe0>"
      ]
     },
     "execution_count": 102,
     "metadata": {},
     "output_type": "execute_result"
    }
   ],
   "source": [
    "# compile, run, test, ... as in previous section\n",
    "autoencoder.fit(xTrain, \n",
    "                xTrain, \n",
    "                epochs=100,\n",
    "                batch_size=32, \n",
    "                validation_split=0.2, \n",
    "                shuffle=True,\n",
    "                callbacks=[ourCallback])"
   ]
  },
  {
   "cell_type": "code",
   "execution_count": 103,
   "metadata": {},
   "outputs": [
    {
     "name": "stdout",
     "output_type": "stream",
     "text": [
      "819/819 [==============================] - 12s 15ms/step - loss: 0.0041\n",
      "score =  0.004130528308451176\n"
     ]
    }
   ],
   "source": [
    "print(\"score = \", autoencoder.evaluate(xTrain,\n",
    "                                       xTrain))\n",
    "\n",
    "xTrainPredictedConv = autoencoder.predict(xTrain)"
   ]
  },
  {
   "cell_type": "code",
   "execution_count": 114,
   "metadata": {},
   "outputs": [
    {
     "name": "stdout",
     "output_type": "stream",
     "text": [
      "image number:  22555\n",
      "(66, 66, 1)\n"
     ]
    },
    {
     "data": {
      "image/png": "[encoded data removed]",
      "text/plain": [
       "<Figure size 432x288 with 3 Axes>"
      ]
     },
     "metadata": {
      "needs_background": "light"
     },
     "output_type": "display_data"
    }
   ],
   "source": [
    "# let's look at the differences\n",
    "\n",
    "index = random.randint(0,len(xTrain)-1)\n",
    "print(\"image number: \", index)\n",
    "im1 = xTrain[index]\n",
    "im2 = xTrainPredicted[index]\n",
    "im2 = im2.reshape((size,size))\n",
    "im3 = xTrainPredictedConv[index]\n",
    "print(im3.shape)\n",
    "fig = plt.figure()\n",
    "ax = fig.add_subplot(1, 3, 1)\n",
    "plt.imshow(im1, cmap='gray')\n",
    "ax = fig.add_subplot(1, 3, 2)\n",
    "plt.imshow(im2, cmap='gray')\n",
    "ax = fig.add_subplot(1, 3, 3)\n",
    "plt.imshow(im3[:,:,0], cmap='gray')\n",
    "plt.show()"
   ]
  },
  {
   "cell_type": "markdown",
   "metadata": {},
   "source": [
    "## Perturbation on the latent representation"
   ]
  },
  {
   "cell_type": "markdown",
   "metadata": {},
   "source": [
    "In this section, we will perturb the latent representation before decoding. Perturbations will be represented as additive noise. We will also explore the latent space by searching for latent vectors in the neighbourhood of some latent representation of training samples and see how the decoding representation looks like."
   ]
  },
  {
   "cell_type": "code",
   "execution_count": 125,
   "metadata": {
    "scrolled": false
   },
   "outputs": [],
   "source": [
    "# encoder model \n",
    "encoderModel = Model(inputImage, encoded)\n",
    "# decoder model (adapt this code to your network)\n",
    "inputLatent = Input(shape=(17, 17, 16)) # to adapt to your network\n",
    "decoder = autoencoder.layers[-3](inputLatent)\n",
    "decoder = autoencoder.layers[-2](decoder)\n",
    "decoder = autoencoder.layers[-1](decoder)\n",
    "decoderModel = Model(inputLatent,decoder)"
   ]
  },
  {
   "cell_type": "code",
   "execution_count": 126,
   "metadata": {
    "scrolled": false
   },
   "outputs": [
    {
     "name": "stdout",
     "output_type": "stream",
     "text": [
      "image number:  23755\n",
      "WARNING:tensorflow:5 out of the last 828 calls to <function Model.make_predict_function.<locals>.predict_function at 0x7f4db41238b0> triggered tf.function retracing. Tracing is expensive and the excessive number of tracings could be due to (1) creating @tf.function repeatedly in a loop, (2) passing tensors with different shapes, (3) passing Python objects instead of tensors. For (1), please define your @tf.function outside of the loop. For (2), @tf.function has experimental_relax_shapes=True option that relaxes argument shapes that can avoid unnecessary retracing. For (3), please refer to https://www.tensorflow.org/guide/function#controlling_retracing and https://www.tensorflow.org/api_docs/python/tf/function for  more details.\n",
      "shape =  (1, 17, 17, 16)\n",
      "WARNING:tensorflow:5 out of the last 11 calls to <function Model.make_predict_function.<locals>.predict_function at 0x7f4db40638b0> triggered tf.function retracing. Tracing is expensive and the excessive number of tracings could be due to (1) creating @tf.function repeatedly in a loop, (2) passing tensors with different shapes, (3) passing Python objects instead of tensors. For (1), please define your @tf.function outside of the loop. For (2), @tf.function has experimental_relax_shapes=True option that relaxes argument shapes that can avoid unnecessary retracing. For (3), please refer to https://www.tensorflow.org/guide/function#controlling_retracing and https://www.tensorflow.org/api_docs/python/tf/function for  more details.\n",
      "shape2 =  (1, 32, 32, 1)\n"
     ]
    },
    {
     "data": {
      "image/png": "[encoded data removed]",
      "text/plain": [
       "<Figure size 432x288 with 3 Axes>"
      ]
     },
     "metadata": {
      "needs_background": "light"
     },
     "output_type": "display_data"
    }
   ],
   "source": [
    "# ATTENTION: à adapter à votre réseau\n",
    "index = random.randint(0,len(xTrain)-2)\n",
    "print(\"image number: \", index)\n",
    "im1 = xTrain[index]\n",
    "jm1 = xTrain[index+1]\n",
    "# encoding of an image\n",
    "latentData1 = encoderModel.predict(np.array([im1,]))\n",
    "latentData2 = encoderModel.predict(np.array([jm1,]))\n",
    "# perturbation on the latent representation (you have to try different values/distributions for epsilon)\n",
    "epsilon = 0.1\n",
    "#une possibilité: ajouter du bruit à la représentation latente\n",
    "#latentData += np.random.uniform(-epsilon, epsilon, size=(1,33,33,16))\n",
    "print(\"shape = \",latentData.shape)\n",
    "# ou bien, prendre la représentation latente de 2 images de meme classe et faire la moyenne (puis la décoder)\n",
    "# decoding of the latent representation\n",
    "latentData = 0.5*(latentData1+latentData2)\n",
    "decodedData = decoderModel.predict(latentData)\n",
    "print(\"shape2 = \", decodedData.shape)\n",
    "#display\n",
    "fig = plt.figure()\n",
    "ax = fig.add_subplot(1, 3, 1)\n",
    "plt.imshow(im1, cmap='gray')\n",
    "ax = fig.add_subplot(1,3,2)\n",
    "plt.imshow(jm1, cmap='gray')\n",
    "ax = fig.add_subplot(1, 3, 3)\n",
    "plt.imshow(decodedData[0,:,:,0], cmap='gray')\n",
    "plt.show()"
   ]
  },
  {
   "cell_type": "code",
   "execution_count": 120,
   "metadata": {},
   "outputs": [
    {
     "name": "stdout",
     "output_type": "stream",
     "text": [
      "image number:  2125\n",
      "shape =  (1, 34, 34, 16)\n",
      "shape2 =  (1, 66, 66, 1)\n"
     ]
    },
    {
     "data": {
      "image/png": "[encoded data removed]",
      "text/plain": [
       "<Figure size 432x288 with 3 Axes>"
      ]
     },
     "metadata": {
      "needs_background": "light"
     },
     "output_type": "display_data"
    }
   ],
   "source": [
    "# ATTENTION: à adapter à votre réseau\n",
    "index = random.randint(0,len(xTrain)-2)\n",
    "print(\"image number: \", index)\n",
    "im1 = xTrain[index]\n",
    "jm1 = xTrain[index+1]\n",
    "# encoding of an image\n",
    "latentData1 = encoderModel.predict(np.array([im1,]))\n",
    "latentData2 = encoderModel.predict(np.array([jm1,]))\n",
    "# perturbation on the latent representation (you have to try different values/distributions for epsilon)\n",
    "epsilon = 0.1\n",
    "#une possibilité: ajouter du bruit à la représentation latente\n",
    "#latentData += np.random.uniform(-epsilon, epsilon, size=(1,33,33,16))\n",
    "print(\"shape = \",latentData.shape)\n",
    "# ou bien, prendre la représentation latente de 2 images de meme classe et faire la moyenne (puis la décoder)\n",
    "# decoding of the latent representation\n",
    "latentData = 0.5*(latentData1+latentData2)\n",
    "decodedData = decoderModel.predict(latentData)\n",
    "print(\"shape2 = \", decodedData.shape)\n",
    "#display\n",
    "fig = plt.figure()\n",
    "ax = fig.add_subplot(1, 3, 1)\n",
    "plt.imshow(im1, cmap='gray')\n",
    "ax = fig.add_subplot(1,3,2)\n",
    "plt.imshow(jm1, cmap='gray')\n",
    "ax = fig.add_subplot(1, 3, 3)\n",
    "plt.imshow(decodedData[0,:,:,0], cmap='gray')\n",
    "plt.show()"
   ]
  },
  {
   "cell_type": "code",
   "execution_count": null,
   "metadata": {},
   "outputs": [],
   "source": []
  },
  {
   "cell_type": "code",
   "execution_count": null,
   "metadata": {},
   "outputs": [],
   "source": []
  }
 ],
 "metadata": {
  "accelerator": "GPU",
  "colab": {
   "collapsed_sections": [],
   "name": "Untitled",
   "provenance": []
  },
  "kernelspec": {
   "display_name": "Python 3",
   "language": "python",
   "name": "python3"
  },
  "language_info": {
   "codemirror_mode": {
    "name": "ipython",
    "version": 3
   },
   "file_extension": ".py",
   "mimetype": "text/x-python",
   "name": "python",
   "nbconvert_exporter": "python",
   "pygments_lexer": "ipython3",
   "version": "3.8.5"
  }
 },
 "nbformat": 4,
 "nbformat_minor": 1
}
