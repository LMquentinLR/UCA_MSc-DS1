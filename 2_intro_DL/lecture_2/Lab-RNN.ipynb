{
 "cells": [
  {
   "cell_type": "markdown",
   "metadata": {
    "ExecuteTime": {
     "end_time": "2021-01-11T14:06:29.717974Z",
     "start_time": "2021-01-11T14:06:29.715693Z"
    }
   },
   "source": [
    "# RNN Labs\n",
    "\n",
    "In this lab we will use RNN to accomplish two types of tasks:\n",
    "- predicting a label to represent a set of words. This will be for us sentiment analysis but it could also have been topic modeling.\n",
    "- predict a label for each word. It will be for us naming entity recognition (NER) but it could also have been part of speech tagging (POS)."
   ]
  },
  {
   "cell_type": "markdown",
   "metadata": {
    "toc": true
   },
   "source": [
    "<h1>Table of Contents<span class=\"tocSkip\"></span></h1>\n",
    "<div class=\"toc\"><ul class=\"toc-item\"><li><span><a href=\"#Case-Study:-RNN-for-Sentiment-Analysis\" data-toc-modified-id=\"Case-Study:-RNN-for-Sentiment-Analysis-1\"><span class=\"toc-item-num\">1&nbsp;&nbsp;</span>Case Study: RNN for Sentiment Analysis</a></span><ul class=\"toc-item\"><li><span><a href=\"#Read-the-dataset\" data-toc-modified-id=\"Read-the-dataset-1.1\"><span class=\"toc-item-num\">1.1&nbsp;&nbsp;</span>Read the dataset</a></span></li><li><span><a href=\"#Text-normalisation\" data-toc-modified-id=\"Text-normalisation-1.2\"><span class=\"toc-item-num\">1.2&nbsp;&nbsp;</span>Text normalisation</a></span></li><li><span><a href=\"#Prepare-dataset-for-word-embedding-with-Keras\" data-toc-modified-id=\"Prepare-dataset-for-word-embedding-with-Keras-1.3\"><span class=\"toc-item-num\">1.3&nbsp;&nbsp;</span>Prepare dataset for word embedding with Keras</a></span></li><li><span><a href=\"#Build-RNN-neural-network\" data-toc-modified-id=\"Build-RNN-neural-network-1.4\"><span class=\"toc-item-num\">1.4&nbsp;&nbsp;</span>Build RNN neural network</a></span><ul class=\"toc-item\"><li><span><a href=\"#Stage-1---use-last-hidden-state\" data-toc-modified-id=\"Stage-1---use-last-hidden-state-1.4.1\"><span class=\"toc-item-num\">1.4.1&nbsp;&nbsp;</span>Stage 1 - use last hidden state</a></span></li><li><span><a href=\"#Stage-2---use-mean-of-all-hidden-state\" data-toc-modified-id=\"Stage-2---use-mean-of-all-hidden-state-1.4.2\"><span class=\"toc-item-num\">1.4.2&nbsp;&nbsp;</span>Stage 2 - use mean of all hidden state</a></span></li><li><span><a href=\"#Stage-3---build-a-bi-directional-recurrent-network-and-use-all-hidden-state\" data-toc-modified-id=\"Stage-3---build-a-bi-directional-recurrent-network-and-use-all-hidden-state-1.4.3\"><span class=\"toc-item-num\">1.4.3&nbsp;&nbsp;</span>Stage 3 - build a bi-directional recurrent network and use all hidden state</a></span></li></ul></li><li><span><a href=\"#Conclusion\" data-toc-modified-id=\"Conclusion-1.5\"><span class=\"toc-item-num\">1.5&nbsp;&nbsp;</span>Conclusion</a></span></li></ul></li><li><span><a href=\"#Case-Study:-RNN-for-Naming-Entity-Recognition\" data-toc-modified-id=\"Case-Study:-RNN-for-Naming-Entity-Recognition-2\"><span class=\"toc-item-num\">2&nbsp;&nbsp;</span>Case Study: RNN for Naming Entity Recognition</a></span><ul class=\"toc-item\"><li><span><a href=\"#Read-the-dataset\" data-toc-modified-id=\"Read-the-dataset-2.1\"><span class=\"toc-item-num\">2.1&nbsp;&nbsp;</span>Read the dataset</a></span></li><li><span><a href=\"#Build-train-and-test-set\" data-toc-modified-id=\"Build-train-and-test-set-2.2\"><span class=\"toc-item-num\">2.2&nbsp;&nbsp;</span>Build train and test set</a></span></li><li><span><a href=\"#Encode-the-train-and-test-set\" data-toc-modified-id=\"Encode-the-train-and-test-set-2.3\"><span class=\"toc-item-num\">2.3&nbsp;&nbsp;</span>Encode the train and test set</a></span></li><li><span><a href=\"#A-first-model-with-LSTM-cell\" data-toc-modified-id=\"A-first-model-with-LSTM-cell-2.4\"><span class=\"toc-item-num\">2.4&nbsp;&nbsp;</span>A first model with LSTM cell</a></span><ul class=\"toc-item\"><li><span><a href=\"#Build-the-network\" data-toc-modified-id=\"Build-the-network-2.4.1\"><span class=\"toc-item-num\">2.4.1&nbsp;&nbsp;</span>Build the network</a></span></li><li><span><a href=\"#Fit-the-network\" data-toc-modified-id=\"Fit-the-network-2.4.2\"><span class=\"toc-item-num\">2.4.2&nbsp;&nbsp;</span>Fit the network</a></span></li><li><span><a href=\"#Evaluate-the-model\" data-toc-modified-id=\"Evaluate-the-model-2.4.3\"><span class=\"toc-item-num\">2.4.3&nbsp;&nbsp;</span>Evaluate the model</a></span></li></ul></li><li><span><a href=\"#A-second-model-with-stacked-layers-of-Bi-LSTM-cell\" data-toc-modified-id=\"A-second-model-with-stacked-layers-of-Bi-LSTM-cell-2.5\"><span class=\"toc-item-num\">2.5&nbsp;&nbsp;</span>A second model with stacked layers of Bi-LSTM cell</a></span><ul class=\"toc-item\"><li><span><a href=\"#Build-the-network\" data-toc-modified-id=\"Build-the-network-2.5.1\"><span class=\"toc-item-num\">2.5.1&nbsp;&nbsp;</span>Build the network</a></span></li><li><span><a href=\"#Fit-the-network\" data-toc-modified-id=\"Fit-the-network-2.5.2\"><span class=\"toc-item-num\">2.5.2&nbsp;&nbsp;</span>Fit the network</a></span></li><li><span><a href=\"#Evaluate-the-model\" data-toc-modified-id=\"Evaluate-the-model-2.5.3\"><span class=\"toc-item-num\">2.5.3&nbsp;&nbsp;</span>Evaluate the model</a></span></li></ul></li><li><span><a href=\"#Conclusion-about-RNN-approach-for-NER\" data-toc-modified-id=\"Conclusion-about-RNN-approach-for-NER-2.6\"><span class=\"toc-item-num\">2.6&nbsp;&nbsp;</span>Conclusion about RNN approach for NER</a></span></li></ul></li><li><span><a href=\"#Come-back-to-your-favourite-sentence...\" data-toc-modified-id=\"Come-back-to-your-favourite-sentence...-3\"><span class=\"toc-item-num\">3&nbsp;&nbsp;</span>Come back to your favourite sentence...</a></span></li></ul></div>"
   ]
  },
  {
   "cell_type": "markdown",
   "metadata": {},
   "source": [
    "## Case Study: RNN for Sentiment Analysis\n",
    "\n",
    "In this lab we use part of the 'Amazon_Unlocked_Mobile.csv' dataset published by Kaggle. The dataset contain the following information:\n",
    "* Product Name\n",
    "* Brand Name\n",
    "* Price\n",
    "* Rating\n",
    "* Reviews\n",
    "* Review Votes\n",
    "\n",
    "We are mainly interested by the 'Reviews' (X) and by the 'Rating' (y)\n",
    "\n",
    "\n",
    "The goal is to try to predict the 'Rating' after reading the 'Reviews'. I've prepared for you TRAIN and TEST set.\n",
    "The work to be done is as follows:\n",
    "\n",
    "1. Feature extraction and baseline (BOW + logistic regression)\n",
    "    * read the dataset and understand it\n",
    "    * put it in a format so that you can use `CountVectorizer` or`Tf-IDF` to extract the desired features\n",
    "    * perform on the desired dates and preprocessing\n",
    "    * use one of the classifiers you know to predict the polarity of different sentences\n",
    "    \n",
    "    \n",
    "1. Word embedding\n",
    "    * stage 1 build a network that uses Keras' embedding which is not language sensitive.\n",
    "    * stage 1 try to use an existing embedding (https://github.com/facebookresearch/MUSE)\n",
    "    \n",
    " \n",
    "1. <span style=\"color:red\">Recurrent neural network\n",
    "    * <span style=\"color:red\">stage 1: build a network that uses recurrent neurons. The classification will be done on the last hidden state \n",
    "    * <span style=\"color:red\">stage 2: build a network that uses recurrent neurons. The classification will be done on the mean of all hidden state\n",
    "    * <span style=\"color:red\">stage 3: build a bi-directional network that uses recurrent neurons. The classification will be done on the mean of all hidden state\n",
    "    </span>\n",
    "\n",
    "\n",
    "\n",
    "**WARNING:** the dataset is voluminous, I can only encourage you to work first on a small part of it and only at the end, when the code is well debugged and that it is necessary to build the \"final model\", to use the whole dataset.\n",
    "    \n",
    "As for the previous labs, I propose you a first version so that you don't lose too much time to start. Take the time to understand the lines of code and ask questions if necessary. Beware, as usual the hyper-parameters are a bit crazy."
   ]
  },
  {
   "cell_type": "markdown",
   "metadata": {},
   "source": [
    "### Read the dataset\n",
    "\n",
    "Could you find below a proposal. You can complete them."
   ]
  },
  {
   "cell_type": "code",
   "execution_count": 1,
   "metadata": {
    "ExecuteTime": {
     "end_time": "2021-01-12T17:02:23.195675Z",
     "start_time": "2021-01-12T17:02:23.192769Z"
    }
   },
   "outputs": [],
   "source": [
    "import pandas as pd\n",
    "import numpy as np"
   ]
  },
  {
   "cell_type": "code",
   "execution_count": 2,
   "metadata": {
    "ExecuteTime": {
     "end_time": "2021-01-12T17:02:24.362294Z",
     "start_time": "2021-01-12T17:02:23.272459Z"
    }
   },
   "outputs": [
    {
     "data": {
      "text/html": [
       "<div>\n",
       "<style scoped>\n",
       "    .dataframe tbody tr th:only-of-type {\n",
       "        vertical-align: middle;\n",
       "    }\n",
       "\n",
       "    .dataframe tbody tr th {\n",
       "        vertical-align: top;\n",
       "    }\n",
       "\n",
       "    .dataframe thead th {\n",
       "        text-align: right;\n",
       "    }\n",
       "</style>\n",
       "<table border=\"1\" class=\"dataframe\">\n",
       "  <thead>\n",
       "    <tr style=\"text-align: right;\">\n",
       "      <th></th>\n",
       "      <th>Product Name</th>\n",
       "      <th>Brand Name</th>\n",
       "      <th>Price</th>\n",
       "      <th>Rating</th>\n",
       "      <th>Reviews</th>\n",
       "      <th>Review Votes</th>\n",
       "    </tr>\n",
       "  </thead>\n",
       "  <tbody>\n",
       "    <tr>\n",
       "      <th>0</th>\n",
       "      <td>Samsung Galaxy Note 4 N910C Unlocked Cellphone...</td>\n",
       "      <td>Samsung</td>\n",
       "      <td>449.99</td>\n",
       "      <td>4</td>\n",
       "      <td>I love it!!! I absolutely love it!! 👌👍</td>\n",
       "      <td>0.0</td>\n",
       "    </tr>\n",
       "    <tr>\n",
       "      <th>1</th>\n",
       "      <td>BLU Energy X Plus Smartphone - With 4000 mAh S...</td>\n",
       "      <td>BLU</td>\n",
       "      <td>139.00</td>\n",
       "      <td>5</td>\n",
       "      <td>I love the BLU phones! This is my second one t...</td>\n",
       "      <td>4.0</td>\n",
       "    </tr>\n",
       "    <tr>\n",
       "      <th>2</th>\n",
       "      <td>Apple iPhone 6 128GB Silver AT&amp;T</td>\n",
       "      <td>Apple</td>\n",
       "      <td>599.95</td>\n",
       "      <td>5</td>\n",
       "      <td>Great phone</td>\n",
       "      <td>1.0</td>\n",
       "    </tr>\n",
       "    <tr>\n",
       "      <th>3</th>\n",
       "      <td>BLU Advance 4.0L Unlocked Smartphone -US GSM -...</td>\n",
       "      <td>BLU</td>\n",
       "      <td>51.99</td>\n",
       "      <td>4</td>\n",
       "      <td>Very happy with the performance. The apps work...</td>\n",
       "      <td>2.0</td>\n",
       "    </tr>\n",
       "    <tr>\n",
       "      <th>4</th>\n",
       "      <td>Huawei P8 Lite US Version- 5 Unlocked Android ...</td>\n",
       "      <td>Huawei</td>\n",
       "      <td>198.99</td>\n",
       "      <td>5</td>\n",
       "      <td>Easy to use great price</td>\n",
       "      <td>0.0</td>\n",
       "    </tr>\n",
       "  </tbody>\n",
       "</table>\n",
       "</div>"
      ],
      "text/plain": [
       "                                        Product Name Brand Name   Price  \\\n",
       "0  Samsung Galaxy Note 4 N910C Unlocked Cellphone...    Samsung  449.99   \n",
       "1  BLU Energy X Plus Smartphone - With 4000 mAh S...        BLU  139.00   \n",
       "2                   Apple iPhone 6 128GB Silver AT&T      Apple  599.95   \n",
       "3  BLU Advance 4.0L Unlocked Smartphone -US GSM -...        BLU   51.99   \n",
       "4  Huawei P8 Lite US Version- 5 Unlocked Android ...     Huawei  198.99   \n",
       "\n",
       "   Rating                                            Reviews  Review Votes  \n",
       "0       4             I love it!!! I absolutely love it!! 👌👍           0.0  \n",
       "1       5  I love the BLU phones! This is my second one t...           4.0  \n",
       "2       5                                        Great phone           1.0  \n",
       "3       4  Very happy with the performance. The apps work...           2.0  \n",
       "4       5                            Easy to use great price           0.0  "
      ]
     },
     "execution_count": 2,
     "metadata": {},
     "output_type": "execute_result"
    }
   ],
   "source": [
    "TRAIN = pd.read_csv(\"http://www.i3s.unice.fr/~riveill/dataset/Amazon_Unlocked_Mobile/train.csv.gz\")\n",
    "TEST = pd.read_csv(\"http://www.i3s.unice.fr/~riveill/dataset/Amazon_Unlocked_Mobile/test.csv.gz\")\n",
    "\n",
    "TRAIN.head()"
   ]
  },
  {
   "cell_type": "code",
   "execution_count": 3,
   "metadata": {
    "ExecuteTime": {
     "end_time": "2021-01-12T17:02:24.375063Z",
     "start_time": "2021-01-12T17:02:24.364970Z"
    }
   },
   "outputs": [],
   "source": [
    "X_train = TRAIN['Reviews']\n",
    "y_train = TRAIN['Rating']-min(TRAIN['Rating'])\n",
    "\n",
    "X_test = TEST['Reviews']\n",
    "y_test = TEST['Rating']-min(TEST['Rating'])"
   ]
  },
  {
   "cell_type": "code",
   "execution_count": 4,
   "metadata": {
    "ExecuteTime": {
     "end_time": "2021-01-12T17:02:24.383724Z",
     "start_time": "2021-01-12T17:02:24.379219Z"
    }
   },
   "outputs": [
    {
     "data": {
      "text/plain": [
       "((5000,), (5000,), array([0, 1, 2, 3, 4]))"
      ]
     },
     "execution_count": 4,
     "metadata": {},
     "output_type": "execute_result"
    }
   ],
   "source": [
    "nb_classes = len(np.unique(y_train))\n",
    "X_train.shape, y_train.shape, np.unique(y_train)"
   ]
  },
  {
   "cell_type": "code",
   "execution_count": 5,
   "metadata": {},
   "outputs": [
    {
     "data": {
      "text/plain": [
       "((1000,), (1000,), array([0, 1, 2, 3, 4]))"
      ]
     },
     "execution_count": 5,
     "metadata": {},
     "output_type": "execute_result"
    }
   ],
   "source": [
    "nb_classes = len(np.unique(y_test))\n",
    "X_test.shape, y_test.shape, np.unique(y_test)"
   ]
  },
  {
   "cell_type": "markdown",
   "metadata": {},
   "source": [
    "### Text normalisation\n",
    "\n",
    "It's your job\n",
    "\n",
    "* you can put all the text in lower case\n",
    "* you can remove all english stop word\n",
    "* you can remove all/some punctuation sign\n",
    "* you can remove all number\n",
    "* you can stem/lemmatize the english word\n",
    "* ...\n",
    "\n",
    "You can of course re-use the previously used preprocessing but also do nothing to spend essentially time on the first two approaches to using text with neural networks."
   ]
  },
  {
   "cell_type": "code",
   "execution_count": 6,
   "metadata": {
    "ExecuteTime": {
     "end_time": "2021-01-12T17:02:24.390682Z",
     "start_time": "2021-01-12T17:02:24.386896Z"
    }
   },
   "outputs": [],
   "source": [
    "import nltk # nltk.download()\n",
    "from nltk.stem import PorterStemmer\n",
    "from nltk.tokenize import sent_tokenize, word_tokenize\n",
    "from nltk.stem import WordNetLemmatizer"
   ]
  },
  {
   "cell_type": "code",
   "execution_count": 8,
   "metadata": {},
   "outputs": [],
   "source": [
    "def stem_sentences(sentence):\n",
    "    \"\"\"\n",
    "    Performs stemming on a sentence\n",
    "    \"\"\"\n",
    "    porter = PorterStemmer()\n",
    "    token_words = word_tokenize(sentence)\n",
    "    stemmed_sentence = []\n",
    "    for word in token_words: stemmed_sentence.append(porter.stem(word))\n",
    "    return \" \".join(stemmed_sentence)\n",
    "\n",
    "def lem_sentences(sentence):\n",
    "    \"\"\"\n",
    "    Performs lemmatization on a sentence\n",
    "    \"\"\"\n",
    "    lemmatizer = WordNetLemmatizer()\n",
    "    token_words = word_tokenize(sentence)\n",
    "    stemmed_sentence = []\n",
    "    for word in token_words: stemmed_sentence.append(lemmatizer.lemmatize(word))\n",
    "    return \" \".join(stemmed_sentence)\n",
    "\n",
    "def normalize_set(dataset, normalization=\"stem\"):\n",
    "    \"\"\"\n",
    "    Normalizes a dataset\n",
    "    \"\"\"\n",
    "    for idx, entry in enumerate(dataset):\n",
    "        if normalization == \"stem\": dataset[idx] = stem_sentences(entry)\n",
    "        else: dataset[idx] = lem_sentences(entry)\n",
    "    return dataset"
   ]
  },
  {
   "cell_type": "code",
   "execution_count": 9,
   "metadata": {},
   "outputs": [],
   "source": [
    "X_train_norm = X_train.copy()\n",
    "X_train_norm = normalize_set(X_train_norm)\n",
    "\n",
    "X_test_norm = X_test.copy()\n",
    "X_test_norm = normalize_set(X_test_norm)"
   ]
  },
  {
   "cell_type": "markdown",
   "metadata": {},
   "source": [
    "### Prepare dataset for word embedding with Keras \n",
    "\n",
    "Could you find below a proposal. You can complete them."
   ]
  },
  {
   "cell_type": "code",
   "execution_count": 10,
   "metadata": {
    "ExecuteTime": {
     "end_time": "2021-01-12T17:02:27.893203Z",
     "start_time": "2021-01-12T17:02:24.393297Z"
    }
   },
   "outputs": [],
   "source": [
    "from tensorflow.keras.preprocessing.text import Tokenizer\n",
    "from tensorflow.keras.preprocessing.sequence import pad_sequences\n",
    "from tensorflow.keras.layers import Embedding"
   ]
  },
  {
   "cell_type": "code",
   "execution_count": 11,
   "metadata": {},
   "outputs": [],
   "source": [
    "FILTERS='!\"#$%&()*+,-./:;<=>?@[\\\\]^_`{|}~\\t\\n'\n",
    "VOCABULARY_SIZE = 20 # Max the vocabulary size\n",
    "SEQUENCE_SIZE = 10     # Nombre de mots dans une review\n",
    "PADDING_MODE = 'pre'\n",
    "PADDING_VALUE = 0\n",
    "TRUNCATING_MODE='post'"
   ]
  },
  {
   "cell_type": "code",
   "execution_count": 12,
   "metadata": {},
   "outputs": [
    {
     "name": "stdout",
     "output_type": "stream",
     "text": [
      "Found 7170 unique tokens.\n"
     ]
    }
   ],
   "source": [
    "# ENCODING\n",
    "\n",
    "# create the tokenizer\n",
    "tokenizer = Tokenizer(num_words=VOCABULARY_SIZE,\n",
    "              filters=FILTERS,\n",
    "              lower=True,\n",
    "              split=' ',\n",
    "              oov_token=\"_UNK_\")\n",
    "\n",
    "# fit the tokenizer on the documents\n",
    "tokenizer.fit_on_texts(X_train_norm)\n",
    "print('Found %s unique tokens.' % len(tokenizer.word_index))\n",
    "\n",
    "# encode documents\n",
    "X_train_enc = tokenizer.texts_to_sequences(X_train_norm)\n",
    "X_test_enc = tokenizer.texts_to_sequences(X_test_norm)"
   ]
  },
  {
   "cell_type": "code",
   "execution_count": 13,
   "metadata": {
    "ExecuteTime": {
     "end_time": "2021-01-12T17:02:27.941331Z",
     "start_time": "2021-01-12T17:02:27.895837Z"
    }
   },
   "outputs": [],
   "source": [
    "# PADDING\n",
    "\n",
    "X_train_enc = pad_sequences(X_train_enc,\n",
    "                            maxlen=SEQUENCE_SIZE,\n",
    "                            padding=PADDING_MODE,\n",
    "                            truncating=TRUNCATING_MODE,\n",
    "                            value=PADDING_VALUE)\n",
    "X_test_enc = pad_sequences(X_test_enc,\n",
    "                            maxlen=SEQUENCE_SIZE,\n",
    "                            padding=PADDING_MODE,\n",
    "                            truncating=TRUNCATING_MODE,\n",
    "                            value=PADDING_VALUE)"
   ]
  },
  {
   "cell_type": "raw",
   "metadata": {},
   "source": [
    "# Representation\n",
    "\n",
    "print(X_train[0], len(X_train[0]),\"\\n\",sep=\"\\n\")\n",
    "print(X_train_norm[0], len(X_train_norm[0]),\"\\n\",sep=\"\\n\")\n",
    "print(X_train_enc[0], len(X_train_enc[0]),\"\\n\",sep=\"\\n\")\n",
    "\n",
    "# Word embedding\n",
    "EMBEDDING_SIZE = 8\n",
    "embedding = Embedding(VOCABULARY_SIZE,\n",
    "                      EMBEDDING_SIZE,\n",
    "                      input_length=SEQUENCE_SIZE)(X_train_enc[0])\n",
    "\n",
    "print(embedding, VOCABULARY_SIZE, EMBEDDING_SIZE, SEQUENCE_SIZE, embedding.shape,\"\\n\",sep=\"\\n\")"
   ]
  },
  {
   "cell_type": "markdown",
   "metadata": {},
   "source": [
    "### Build RNN neural network\n",
    "\n",
    "#### Stage 1 - use last hidden state\n",
    "<span style=\"color:red\">stage 1: build a network that uses recurrent neurons. The classification will be done on the last hidden state.</span>\n",
    "\n",
    "![image](https://www.researchgate.net/profile/Huy_Tien_Nguyen/publication/321259272/figure/fig2/AS:572716866433034@1513557749934/Illustration-of-our-LSTM-model-for-sentiment-classification-Each-word-is-transfered-to-a.png)\n",
    "\n",
    "Could you find below a proposal. You can complete them."
   ]
  },
  {
   "cell_type": "code",
   "execution_count": 15,
   "metadata": {},
   "outputs": [],
   "source": [
    "import tensorflow as tf\n",
    "from tensorflow.keras.models import Model\n",
    "from tensorflow.keras.layers import Input, Dense, Embedding, Flatten, LSTM, AveragePooling1D, GlobalAveragePooling1D\n",
    "from tensorflow.keras import utils"
   ]
  },
  {
   "cell_type": "code",
   "execution_count": 16,
   "metadata": {},
   "outputs": [],
   "source": [
    "EMBEDDING_SIZE = 8\n",
    "return_sequences = False"
   ]
  },
  {
   "cell_type": "code",
   "execution_count": 17,
   "metadata": {
    "ExecuteTime": {
     "end_time": "2021-01-12T17:02:28.118218Z",
     "start_time": "2021-01-12T17:02:27.945818Z"
    }
   },
   "outputs": [
    {
     "name": "stdout",
     "output_type": "stream",
     "text": [
      "Model: \"model\"\n",
      "_________________________________________________________________\n",
      "Layer (type)                 Output Shape              Param #   \n",
      "=================================================================\n",
      "input_1 (InputLayer)         [(None, 10)]              0         \n",
      "_________________________________________________________________\n",
      "embedding_1 (Embedding)      (None, 10, 8)             160       \n",
      "_________________________________________________________________\n",
      "lstm (LSTM)                  (None, 64)                18688     \n",
      "_________________________________________________________________\n",
      "dense (Dense)                (None, 8)                 520       \n",
      "_________________________________________________________________\n",
      "dense_1 (Dense)              (None, 5)                 45        \n",
      "=================================================================\n",
      "Total params: 19,413\n",
      "Trainable params: 19,413\n",
      "Non-trainable params: 0\n",
      "_________________________________________________________________\n"
     ]
    }
   ],
   "source": [
    "# This returns a tensor\n",
    "inputs = Input(shape=(SEQUENCE_SIZE,))\n",
    "\n",
    "# Word embedding\n",
    "embedding = Embedding(VOCABULARY_SIZE,\n",
    "                      EMBEDDING_SIZE,\n",
    "                      input_length=SEQUENCE_SIZE)(inputs)\n",
    "\n",
    "# an RNN layer\n",
    "output_1 = LSTM(64, return_sequences=return_sequences, activation='relu')(embedding)\n",
    "\n",
    "# some Dense layers\n",
    "output_2 = Dense(8, activation='relu')(output_1)\n",
    "\n",
    "#output layer\n",
    "predictions = Dense(nb_classes, activation='softmax')(output_2)\n",
    "\n",
    "# build model\n",
    "model = Model(inputs=inputs, outputs=predictions)\n",
    "\n",
    "# compile model\n",
    "model.compile(optimizer='adam',\n",
    "              loss='sparse_categorical_crossentropy',\n",
    "              metrics=['acc'])\n",
    "\n",
    "model.summary()"
   ]
  },
  {
   "cell_type": "code",
   "execution_count": 20,
   "metadata": {
    "ExecuteTime": {
     "end_time": "2021-01-12T17:02:39.133690Z",
     "start_time": "2021-01-12T17:02:28.121249Z"
    },
    "scrolled": false
   },
   "outputs": [
    {
     "name": "stdout",
     "output_type": "stream",
     "text": [
      "Epoch 1/4000\n",
      "141/141 [==============================] - 1s 5ms/step - loss: 1.2096 - acc: 0.5527 - val_loss: 1.1901 - val_acc: 0.5700\n",
      "\n",
      "Epoch 00001: val_acc improved from -inf to 0.57000, saving model to best_model.h5\n",
      "Epoch 2/4000\n",
      "141/141 [==============================] - 1s 5ms/step - loss: 1.2017 - acc: 0.5544 - val_loss: 1.1906 - val_acc: 0.5620\n",
      "\n",
      "Epoch 00002: val_acc did not improve from 0.57000\n",
      "Epoch 3/4000\n",
      "141/141 [==============================] - 1s 5ms/step - loss: 1.1978 - acc: 0.5587 - val_loss: 1.1930 - val_acc: 0.5660\n",
      "\n",
      "Epoch 00003: val_acc did not improve from 0.57000\n",
      "Epoch 4/4000\n",
      "141/141 [==============================] - 1s 5ms/step - loss: 1.1958 - acc: 0.5571 - val_loss: 1.1898 - val_acc: 0.5640\n",
      "\n",
      "Epoch 00004: val_acc did not improve from 0.57000\n",
      "Epoch 5/4000\n",
      "141/141 [==============================] - 1s 4ms/step - loss: 1.1913 - acc: 0.5620 - val_loss: 1.1906 - val_acc: 0.5680\n",
      "\n",
      "Epoch 00005: val_acc did not improve from 0.57000\n",
      "Epoch 6/4000\n",
      "141/141 [==============================] - 1s 5ms/step - loss: 1.1868 - acc: 0.5620 - val_loss: 1.1882 - val_acc: 0.5700\n",
      "Restoring model weights from the end of the best epoch.\n",
      "\n",
      "Epoch 00006: val_acc did not improve from 0.57000\n",
      "Epoch 00006: early stopping\n"
     ]
    }
   ],
   "source": [
    "es = tf.keras.callbacks.EarlyStopping(monitor='val_acc', \n",
    "                                      mode='max', \n",
    "                                      patience=5, \n",
    "                                      restore_best_weights=True, \n",
    "                                      verbose=1)\n",
    "\n",
    "mc = tf.keras.callbacks.ModelCheckpoint('best_model.h5', \n",
    "                                        monitor='val_acc', \n",
    "                                        mode='max', \n",
    "                                        save_best_only=True, \n",
    "                                        verbose=1)\n",
    "\n",
    "# fit model\n",
    "history1 = model.fit(X_train_enc, y_train, validation_split=0.1, epochs=4000, callbacks=[es, mc], verbose=1)"
   ]
  },
  {
   "cell_type": "code",
   "execution_count": 21,
   "metadata": {
    "ExecuteTime": {
     "end_time": "2021-01-12T17:02:39.615022Z",
     "start_time": "2021-01-12T17:02:39.136480Z"
    }
   },
   "outputs": [
    {
     "data": {
      "image/png": "[encoded data removed]",
      "text/plain": [
       "<Figure size 432x288 with 1 Axes>"
      ]
     },
     "metadata": {
      "needs_background": "light"
     },
     "output_type": "display_data"
    },
    {
     "data": {
      "image/png": "[encoded data removed]",
      "text/plain": [
       "<Figure size 432x288 with 1 Axes>"
      ]
     },
     "metadata": {
      "needs_background": "light"
     },
     "output_type": "display_data"
    }
   ],
   "source": [
    "import matplotlib.pyplot as plt\n",
    "%matplotlib inline\n",
    "\n",
    "# plot history\n",
    "# list all data in history\n",
    "\n",
    "# summarize history for loss\n",
    "plt.plot(history1.history['loss'])\n",
    "plt.plot(history1.history['val_loss'])\n",
    "plt.title('model loss')\n",
    "plt.ylabel('loss')\n",
    "plt.xlabel('epoch')\n",
    "plt.legend(['loss train', 'loss val'], loc='best')\n",
    "plt.show()\n",
    "\n",
    "# summarize history for loss\n",
    "plt.plot(history1.history['acc'])\n",
    "plt.plot(history1.history['val_acc'])\n",
    "plt.title('model acc')\n",
    "plt.ylabel('acc')\n",
    "plt.xlabel('epoch')\n",
    "plt.legend(['acc train', 'acc val'], loc='best')\n",
    "plt.show()"
   ]
  },
  {
   "cell_type": "code",
   "execution_count": 23,
   "metadata": {
    "ExecuteTime": {
     "end_time": "2021-01-12T17:02:40.081215Z",
     "start_time": "2021-01-12T17:02:39.617646Z"
    }
   },
   "outputs": [
    {
     "data": {
      "text/plain": [
       "('acc=', 0.583, 'f1', 0.7054884353741495)"
      ]
     },
     "execution_count": 23,
     "metadata": {},
     "output_type": "execute_result"
    }
   ],
   "source": [
    "''' Evaluate your result '''\n",
    "''' Le jeu de donnée n'est pas très équilibré '''\n",
    "from sklearn.metrics import f1_score, accuracy_score\n",
    "\n",
    "y_pred = model.predict(X_test_enc)\n",
    "y_pred = np.argmax(y_pred, axis=1)\n",
    "\n",
    "# print(y_pred.shape, y_test.shape, X_test_enc.shape)\n",
    "\n",
    "model1_accuracy = accuracy_score(y_pred, y_test)\n",
    "model1_f1_score = f1_score(y_pred, y_test, average=\"weighted\")\n",
    "\n",
    "\"acc=\", model1_accuracy, \"f1\", model1_f1_score"
   ]
  },
  {
   "cell_type": "markdown",
   "metadata": {},
   "source": [
    "#### Stage 2 - use mean of all hidden state\n",
    "\n",
    "* <span style=\"color:red\">stage 2: build a network that uses recurrent neurons. The classification will be done on the mean of all hidden state\n",
    "\n",
    "    ![image](https://d3i71xaburhd42.cloudfront.net/db689ec8145af54dc23ecc232735b28adc38d45a/3-Figure3-1.png)\n",
    "    \n",
    "**Attention** in the diagram above a bi-LSTM is used. This will be the case in our third version. Use only the Forward layer."
   ]
  },
  {
   "cell_type": "code",
   "execution_count": 24,
   "metadata": {
    "ExecuteTime": {
     "end_time": "2021-01-12T17:02:40.088719Z",
     "start_time": "2021-01-12T17:02:40.084262Z"
    }
   },
   "outputs": [
    {
     "name": "stdout",
     "output_type": "stream",
     "text": [
      "Model: \"model_1\"\n",
      "_________________________________________________________________\n",
      "Layer (type)                 Output Shape              Param #   \n",
      "=================================================================\n",
      "input_2 (InputLayer)         [(None, 10)]              0         \n",
      "_________________________________________________________________\n",
      "embedding_2 (Embedding)      (None, 10, 8)             160       \n",
      "_________________________________________________________________\n",
      "lstm_1 (LSTM)                (None, 10, 32)            5248      \n",
      "_________________________________________________________________\n",
      "average_pooling1d (AveragePo (None, 5, 32)             0         \n",
      "_________________________________________________________________\n",
      "flatten (Flatten)            (None, 160)               0         \n",
      "_________________________________________________________________\n",
      "dense_2 (Dense)              (None, 5)                 805       \n",
      "=================================================================\n",
      "Total params: 6,213\n",
      "Trainable params: 6,213\n",
      "Non-trainable params: 0\n",
      "_________________________________________________________________\n"
     ]
    }
   ],
   "source": [
    "# This returns a tensor\n",
    "inputs = Input(shape=(SEQUENCE_SIZE,))\n",
    "\n",
    "# Word embedding\n",
    "embedding = Embedding(VOCABULARY_SIZE,\n",
    "                      EMBEDDING_SIZE,\n",
    "                      input_length=SEQUENCE_SIZE)(inputs)\n",
    "# an RNN layer\n",
    "output_1 = LSTM(32, return_sequences=True, activation='relu')(embedding)\n",
    "#output layer\n",
    "average_1 = AveragePooling1D()(output_1)\n",
    "output_2 = Flatten()(average_1)\n",
    "#output layer\n",
    "predictions = Dense(nb_classes, activation='softmax')(output_2)\n",
    "# build model\n",
    "model = Model(inputs=inputs, outputs=predictions)\n",
    "# compile model\n",
    "model.compile(optimizer='adam',\n",
    "              loss='sparse_categorical_crossentropy',\n",
    "              metrics=['acc'])\n",
    "\n",
    "model.summary()"
   ]
  },
  {
   "cell_type": "code",
   "execution_count": 25,
   "metadata": {
    "ExecuteTime": {
     "end_time": "2021-01-12T17:02:39.133690Z",
     "start_time": "2021-01-12T17:02:28.121249Z"
    },
    "scrolled": false
   },
   "outputs": [
    {
     "name": "stdout",
     "output_type": "stream",
     "text": [
      "Epoch 1/4000\n",
      "141/141 [==============================] - 2s 5ms/step - loss: 1.4428 - acc: 0.5233 - val_loss: 1.2181 - val_acc: 0.5660\n",
      "\n",
      "Epoch 00001: val_acc improved from -inf to 0.56600, saving model to best_model.h5\n",
      "Epoch 2/4000\n",
      "141/141 [==============================] - 1s 6ms/step - loss: 1.2470 - acc: 0.5258 - val_loss: 1.2067 - val_acc: 0.5660\n",
      "\n",
      "Epoch 00002: val_acc did not improve from 0.56600\n",
      "Epoch 3/4000\n",
      "141/141 [==============================] - 1s 5ms/step - loss: 1.2112 - acc: 0.5417 - val_loss: 1.2007 - val_acc: 0.5700\n",
      "\n",
      "Epoch 00003: val_acc improved from 0.56600 to 0.57000, saving model to best_model.h5\n",
      "Epoch 4/4000\n",
      "141/141 [==============================] - 1s 5ms/step - loss: 1.1887 - acc: 0.5637 - val_loss: 1.1958 - val_acc: 0.5720\n",
      "\n",
      "Epoch 00004: val_acc improved from 0.57000 to 0.57200, saving model to best_model.h5\n",
      "Epoch 5/4000\n",
      "141/141 [==============================] - 1s 4ms/step - loss: 1.1948 - acc: 0.5555 - val_loss: 1.1906 - val_acc: 0.5740\n",
      "\n",
      "Epoch 00005: val_acc improved from 0.57200 to 0.57400, saving model to best_model.h5\n",
      "Epoch 6/4000\n",
      "141/141 [==============================] - 1s 4ms/step - loss: 1.1843 - acc: 0.5658 - val_loss: 1.1987 - val_acc: 0.5740\n",
      "\n",
      "Epoch 00006: val_acc did not improve from 0.57400\n",
      "Epoch 7/4000\n",
      "141/141 [==============================] - 1s 4ms/step - loss: 1.1867 - acc: 0.5605 - val_loss: 1.1961 - val_acc: 0.5760\n",
      "\n",
      "Epoch 00007: val_acc improved from 0.57400 to 0.57600, saving model to best_model.h5\n",
      "Epoch 8/4000\n",
      "141/141 [==============================] - 1s 5ms/step - loss: 1.2186 - acc: 0.5441 - val_loss: 1.1919 - val_acc: 0.5740\n",
      "\n",
      "Epoch 00008: val_acc did not improve from 0.57600\n",
      "Epoch 9/4000\n",
      "141/141 [==============================] - 1s 4ms/step - loss: 1.1468 - acc: 0.5765 - val_loss: 1.1863 - val_acc: 0.5720\n",
      "\n",
      "Epoch 00009: val_acc did not improve from 0.57600\n",
      "Epoch 10/4000\n",
      "141/141 [==============================] - 1s 4ms/step - loss: 1.1967 - acc: 0.5461 - val_loss: 1.1796 - val_acc: 0.5700\n",
      "\n",
      "Epoch 00010: val_acc did not improve from 0.57600\n",
      "Epoch 11/4000\n",
      "141/141 [==============================] - 1s 4ms/step - loss: 1.1822 - acc: 0.5613 - val_loss: 1.1804 - val_acc: 0.5760\n",
      "\n",
      "Epoch 00011: val_acc did not improve from 0.57600\n",
      "Epoch 12/4000\n",
      "141/141 [==============================] - 1s 4ms/step - loss: 1.1666 - acc: 0.5595 - val_loss: 1.1757 - val_acc: 0.5700\n",
      "Restoring model weights from the end of the best epoch.\n",
      "\n",
      "Epoch 00012: val_acc did not improve from 0.57600\n",
      "Epoch 00012: early stopping\n"
     ]
    }
   ],
   "source": [
    "''' Fit your network - don't forget the use of EarlyStopping and other callbacks.'''\n",
    "\n",
    "es = tf.keras.callbacks.EarlyStopping(monitor='val_acc', \n",
    "                                      mode='max', \n",
    "                                      patience=5, \n",
    "                                      restore_best_weights=True, \n",
    "                                      verbose=1)\n",
    "\n",
    "mc = tf.keras.callbacks.ModelCheckpoint('best_model.h5', \n",
    "                                        monitor='val_acc', \n",
    "                                        mode='max', \n",
    "                                        save_best_only=True, \n",
    "                                        verbose=1)\n",
    "\n",
    "# fit model\n",
    "history2 = model.fit(X_train_enc, \n",
    "                     y_train, \n",
    "                     validation_split=0.1, \n",
    "                     epochs=4000, \n",
    "                     callbacks=[es, mc], \n",
    "                     verbose=1)"
   ]
  },
  {
   "cell_type": "code",
   "execution_count": 26,
   "metadata": {
    "ExecuteTime": {
     "end_time": "2021-01-12T17:02:40.081215Z",
     "start_time": "2021-01-12T17:02:39.617646Z"
    }
   },
   "outputs": [
    {
     "data": {
      "text/plain": [
       "('acc=', 0.589, 'f1', 0.7053771809139457)"
      ]
     },
     "execution_count": 26,
     "metadata": {},
     "output_type": "execute_result"
    }
   ],
   "source": [
    "from sklearn.metrics import f1_score, accuracy_score\n",
    "\n",
    "y_pred = model.predict(X_test_enc)\n",
    "y_pred = np.argmax(y_pred, axis=1)\n",
    "\n",
    "model2_accuracy = accuracy_score(y_pred, y_test)\n",
    "model2_f1_score = f1_score(y_pred, y_test, average=\"weighted\")\n",
    "\n",
    "# print(y_pred.shape, y_test.shape, X_test_enc.shape)\n",
    "\n",
    "\"acc=\", model2_accuracy, \"f1\", model2_f1_score"
   ]
  },
  {
   "cell_type": "markdown",
   "metadata": {},
   "source": [
    "#### Stage 3 - build a bi-directional recurrent network and use all hidden state\n",
    "\n",
    "* <span style=\"color:red\">stage 3: build a bi-directional recurrent network and all hidden state as an input of a classifier.\n",
    "    \n",
    "![image](https://mlwhiz.com/images/birnn.png)"
   ]
  },
  {
   "cell_type": "code",
   "execution_count": 27,
   "metadata": {
    "ExecuteTime": {
     "end_time": "2021-01-12T17:02:40.096627Z",
     "start_time": "2021-01-12T17:02:40.091314Z"
    }
   },
   "outputs": [
    {
     "name": "stdout",
     "output_type": "stream",
     "text": [
      "Model: \"model_2\"\n",
      "_________________________________________________________________\n",
      "Layer (type)                 Output Shape              Param #   \n",
      "=================================================================\n",
      "input_3 (InputLayer)         [(None, 10)]              0         \n",
      "_________________________________________________________________\n",
      "embedding_3 (Embedding)      (None, 10, 8)             160       \n",
      "_________________________________________________________________\n",
      "bidirectional (Bidirectional (None, 10, 256)           140288    \n",
      "_________________________________________________________________\n",
      "average_pooling1d_1 (Average (None, 5, 256)            0         \n",
      "_________________________________________________________________\n",
      "flatten_1 (Flatten)          (None, 1280)              0         \n",
      "_________________________________________________________________\n",
      "dense_3 (Dense)              (None, 256)               327936    \n",
      "_________________________________________________________________\n",
      "dense_4 (Dense)              (None, 5)                 1285      \n",
      "=================================================================\n",
      "Total params: 469,669\n",
      "Trainable params: 469,669\n",
      "Non-trainable params: 0\n",
      "_________________________________________________________________\n"
     ]
    }
   ],
   "source": [
    "''' Put your work here '''\n",
    "from tensorflow.keras.layers import Bidirectional\n",
    "\n",
    "# This returns a tensor\n",
    "inputs = Input(shape=(SEQUENCE_SIZE,))\n",
    "\n",
    "# Word embedding\n",
    "embedding = Embedding(VOCABULARY_SIZE,\n",
    "                      EMBEDDING_SIZE,\n",
    "                      input_length=SEQUENCE_SIZE)(inputs)\n",
    "#LSTM layer\n",
    "output_1 = Bidirectional(LSTM(128, return_sequences=True, activation='relu'))(embedding)\n",
    "#Average layer\n",
    "average_1 = AveragePooling1D()(output_1)\n",
    "output_4 = Flatten()(average_1)\n",
    "#Dense layer\n",
    "dense = Dense(256, activation='relu')(output_4)\n",
    "#Output layer\n",
    "predictions = Dense(nb_classes, activation='softmax')(dense)\n",
    "\n",
    "# build model\n",
    "model = Model(inputs=inputs, outputs=predictions)\n",
    "# compile model\n",
    "model.compile(optimizer='adam',\n",
    "              loss='sparse_categorical_crossentropy',\n",
    "              metrics=['acc'])\n",
    "\n",
    "model.summary()"
   ]
  },
  {
   "cell_type": "code",
   "execution_count": 29,
   "metadata": {
    "ExecuteTime": {
     "end_time": "2021-01-12T17:02:39.133690Z",
     "start_time": "2021-01-12T17:02:28.121249Z"
    },
    "scrolled": false
   },
   "outputs": [
    {
     "name": "stdout",
     "output_type": "stream",
     "text": [
      "Epoch 1/4000\n",
      "141/141 [==============================] - 1s 10ms/step - loss: 1.1854 - acc: 0.5631 - val_loss: 1.1958 - val_acc: 0.5760\n",
      "\n",
      "Epoch 00001: val_acc improved from -inf to 0.57600, saving model to best_model.h5\n",
      "Epoch 2/4000\n",
      "141/141 [==============================] - 1s 10ms/step - loss: 1.1794 - acc: 0.5638 - val_loss: 1.1945 - val_acc: 0.5680\n",
      "\n",
      "Epoch 00002: val_acc did not improve from 0.57600\n",
      "Epoch 3/4000\n",
      "141/141 [==============================] - 2s 11ms/step - loss: 1.1755 - acc: 0.5647 - val_loss: 1.1896 - val_acc: 0.5660\n",
      "\n",
      "Epoch 00003: val_acc did not improve from 0.57600\n",
      "Epoch 4/4000\n",
      "141/141 [==============================] - 1s 10ms/step - loss: 1.1711 - acc: 0.5640 - val_loss: 1.1886 - val_acc: 0.5680\n",
      "\n",
      "Epoch 00004: val_acc did not improve from 0.57600\n",
      "Epoch 5/4000\n",
      "141/141 [==============================] - 2s 13ms/step - loss: 1.1677 - acc: 0.5687 - val_loss: 1.1849 - val_acc: 0.5560\n",
      "\n",
      "Epoch 00005: val_acc did not improve from 0.57600\n",
      "Epoch 6/4000\n",
      "141/141 [==============================] - 2s 14ms/step - loss: 1.1606 - acc: 0.5709 - val_loss: 1.1906 - val_acc: 0.5680\n",
      "Restoring model weights from the end of the best epoch.\n",
      "\n",
      "Epoch 00006: val_acc did not improve from 0.57600\n",
      "Epoch 00006: early stopping\n"
     ]
    }
   ],
   "source": [
    "''' Fit your network - don't forget the use of EarlyStopping and other callbacks.'''\n",
    "\n",
    "es = tf.keras.callbacks.EarlyStopping(\n",
    "    monitor='val_acc', \n",
    "    mode='max', \n",
    "    patience=5, \n",
    "    restore_best_weights=True, \n",
    "    verbose=1\n",
    ")\n",
    "mc = tf.keras.callbacks.ModelCheckpoint(\n",
    "    'best_model.h5', \n",
    "    monitor='val_acc', \n",
    "    mode='max', \n",
    "    save_best_only=True, \n",
    "    verbose=1\n",
    ")\n",
    "\n",
    "# fit model\n",
    "history3 = model.fit(X_train_enc, \n",
    "                    y_train, \n",
    "                    validation_split=0.1, \n",
    "                    epochs=4000, \n",
    "                    callbacks=[es, mc], \n",
    "                    verbose=1)"
   ]
  },
  {
   "cell_type": "code",
   "execution_count": 30,
   "metadata": {
    "ExecuteTime": {
     "end_time": "2021-01-12T17:02:40.081215Z",
     "start_time": "2021-01-12T17:02:39.617646Z"
    }
   },
   "outputs": [
    {
     "data": {
      "text/plain": [
       "('acc=', 0.593, 'f1', 0.7080757839721254)"
      ]
     },
     "execution_count": 30,
     "metadata": {},
     "output_type": "execute_result"
    }
   ],
   "source": [
    "from sklearn.metrics import f1_score, accuracy_score\n",
    "\n",
    "y_pred = model.predict(X_test_enc)\n",
    "y_pred = np.argmax(y_pred, axis=1)\n",
    "\n",
    "model3_accuracy = accuracy_score(y_pred, y_test)\n",
    "model3_f1_score = f1_score(y_pred, y_test, average=\"weighted\")\n",
    "\n",
    "# print(y_pred.shape, y_test.shape, X_test_enc.shape)\n",
    "\n",
    "\"acc=\", model3_accuracy, \"f1\", model3_f1_score"
   ]
  },
  {
   "cell_type": "markdown",
   "metadata": {
    "ExecuteTime": {
     "end_time": "2021-01-08T09:27:24.506668Z",
     "start_time": "2021-01-08T09:27:24.503432Z"
    }
   },
   "source": [
    "### Conclusion\n",
    "\n",
    "Compare the three approaches with the previous results."
   ]
  },
  {
   "cell_type": "markdown",
   "metadata": {},
   "source": [
    "## Case Study: RNN for Naming Entity Recognition\n",
    "\n",
    "Named entity recognition (NER) ‒ also called entity identification or entity extraction ‒ is an AI technique that automatically identifies named entities in a text and classifies them into predefined categories. Entities can be names of people, organizations, locations, times, quantities, monetary values, percentages, and more.\n",
    "\n",
    "Extracting these entities helps businesses easily analyze huge amounts of unstructured data, like emails, open-ended survey responses, social media conversations, and more.\n",
    "\n",
    "![image](https://monkeylearn.com/static/d0575562cdedb47340c00662c5c1b859/80132/Example.png)"
   ]
  },
  {
   "cell_type": "markdown",
   "metadata": {},
   "source": [
    "### Read the dataset"
   ]
  },
  {
   "cell_type": "code",
   "execution_count": 31,
   "metadata": {
    "ExecuteTime": {
     "end_time": "2021-01-12T17:02:43.105021Z",
     "start_time": "2021-01-12T17:02:40.099547Z"
    }
   },
   "outputs": [
    {
     "data": {
      "text/html": [
       "<div>\n",
       "<style scoped>\n",
       "    .dataframe tbody tr th:only-of-type {\n",
       "        vertical-align: middle;\n",
       "    }\n",
       "\n",
       "    .dataframe tbody tr th {\n",
       "        vertical-align: top;\n",
       "    }\n",
       "\n",
       "    .dataframe thead th {\n",
       "        text-align: right;\n",
       "    }\n",
       "</style>\n",
       "<table border=\"1\" class=\"dataframe\">\n",
       "  <thead>\n",
       "    <tr style=\"text-align: right;\">\n",
       "      <th></th>\n",
       "      <th>Sentence #</th>\n",
       "      <th>Word</th>\n",
       "      <th>POS</th>\n",
       "      <th>Tag</th>\n",
       "    </tr>\n",
       "  </thead>\n",
       "  <tbody>\n",
       "    <tr>\n",
       "      <th>0</th>\n",
       "      <td>Sentence: 1</td>\n",
       "      <td>Thousands</td>\n",
       "      <td>NNS</td>\n",
       "      <td>O</td>\n",
       "    </tr>\n",
       "    <tr>\n",
       "      <th>1</th>\n",
       "      <td>NaN</td>\n",
       "      <td>of</td>\n",
       "      <td>IN</td>\n",
       "      <td>O</td>\n",
       "    </tr>\n",
       "    <tr>\n",
       "      <th>2</th>\n",
       "      <td>NaN</td>\n",
       "      <td>demonstrators</td>\n",
       "      <td>NNS</td>\n",
       "      <td>O</td>\n",
       "    </tr>\n",
       "    <tr>\n",
       "      <th>3</th>\n",
       "      <td>NaN</td>\n",
       "      <td>have</td>\n",
       "      <td>VBP</td>\n",
       "      <td>O</td>\n",
       "    </tr>\n",
       "    <tr>\n",
       "      <th>4</th>\n",
       "      <td>NaN</td>\n",
       "      <td>marched</td>\n",
       "      <td>VBN</td>\n",
       "      <td>O</td>\n",
       "    </tr>\n",
       "  </tbody>\n",
       "</table>\n",
       "</div>"
      ],
      "text/plain": [
       "    Sentence #           Word  POS Tag\n",
       "0  Sentence: 1      Thousands  NNS   O\n",
       "1          NaN             of   IN   O\n",
       "2          NaN  demonstrators  NNS   O\n",
       "3          NaN           have  VBP   O\n",
       "4          NaN        marched  VBN   O"
      ]
     },
     "execution_count": 31,
     "metadata": {},
     "output_type": "execute_result"
    }
   ],
   "source": [
    "train_data = pd.read_csv(\"http://www.i3s.unice.fr/~riveill/dataset/NER/ner_train_dataset.csv.gz\", \n",
    "                         encoding=\"latin1\")\n",
    "test_data = pd.read_csv(\"http://www.i3s.unice.fr/~riveill/dataset/NER/ner_test_dataset.csv.gz\", \n",
    "                        encoding=\"latin1\")\n",
    "train_data.head()"
   ]
  },
  {
   "cell_type": "code",
   "execution_count": 32,
   "metadata": {
    "ExecuteTime": {
     "end_time": "2021-01-12T17:02:43.259819Z",
     "start_time": "2021-01-12T17:02:43.109431Z"
    }
   },
   "outputs": [
    {
     "data": {
      "text/html": [
       "<div>\n",
       "<style scoped>\n",
       "    .dataframe tbody tr th:only-of-type {\n",
       "        vertical-align: middle;\n",
       "    }\n",
       "\n",
       "    .dataframe tbody tr th {\n",
       "        vertical-align: top;\n",
       "    }\n",
       "\n",
       "    .dataframe thead th {\n",
       "        text-align: right;\n",
       "    }\n",
       "</style>\n",
       "<table border=\"1\" class=\"dataframe\">\n",
       "  <thead>\n",
       "    <tr style=\"text-align: right;\">\n",
       "      <th></th>\n",
       "      <th>Sentence #</th>\n",
       "      <th>Word</th>\n",
       "      <th>POS</th>\n",
       "      <th>Tag</th>\n",
       "    </tr>\n",
       "  </thead>\n",
       "  <tbody>\n",
       "    <tr>\n",
       "      <th>0</th>\n",
       "      <td>Sentence: 1</td>\n",
       "      <td>Thousands</td>\n",
       "      <td>NNS</td>\n",
       "      <td>O</td>\n",
       "    </tr>\n",
       "    <tr>\n",
       "      <th>1</th>\n",
       "      <td>Sentence: 1</td>\n",
       "      <td>of</td>\n",
       "      <td>IN</td>\n",
       "      <td>O</td>\n",
       "    </tr>\n",
       "    <tr>\n",
       "      <th>2</th>\n",
       "      <td>Sentence: 1</td>\n",
       "      <td>demonstrators</td>\n",
       "      <td>NNS</td>\n",
       "      <td>O</td>\n",
       "    </tr>\n",
       "    <tr>\n",
       "      <th>3</th>\n",
       "      <td>Sentence: 1</td>\n",
       "      <td>have</td>\n",
       "      <td>VBP</td>\n",
       "      <td>O</td>\n",
       "    </tr>\n",
       "    <tr>\n",
       "      <th>4</th>\n",
       "      <td>Sentence: 1</td>\n",
       "      <td>marched</td>\n",
       "      <td>VBN</td>\n",
       "      <td>O</td>\n",
       "    </tr>\n",
       "  </tbody>\n",
       "</table>\n",
       "</div>"
      ],
      "text/plain": [
       "    Sentence #           Word  POS Tag\n",
       "0  Sentence: 1      Thousands  NNS   O\n",
       "1  Sentence: 1             of   IN   O\n",
       "2  Sentence: 1  demonstrators  NNS   O\n",
       "3  Sentence: 1           have  VBP   O\n",
       "4  Sentence: 1        marched  VBN   O"
      ]
     },
     "execution_count": 32,
     "metadata": {},
     "output_type": "execute_result"
    }
   ],
   "source": [
    "train_data = train_data.fillna(method=\"ffill\")\n",
    "test_data = test_data.fillna(method=\"ffill\")\n",
    "train_data.head()"
   ]
  },
  {
   "cell_type": "markdown",
   "metadata": {
    "ExecuteTime": {
     "end_time": "2021-01-12T07:27:50.121027Z",
     "start_time": "2021-01-12T07:27:50.115730Z"
    }
   },
   "source": [
    "For NER or POS tasks, pre-processing is generally not done except to standardize the text a little:\n",
    "- correction of typing errors\n",
    "- homogenization of dates and telephone numbers\n",
    "- lower case setting of the text\n",
    "\n",
    "but very generally, we do not do stemming or lemmatization."
   ]
  },
  {
   "cell_type": "markdown",
   "metadata": {},
   "source": [
    "### Build train and test set"
   ]
  },
  {
   "cell_type": "code",
   "execution_count": 33,
   "metadata": {
    "ExecuteTime": {
     "end_time": "2021-01-12T17:02:43.271693Z",
     "start_time": "2021-01-12T17:02:43.266210Z"
    }
   },
   "outputs": [],
   "source": [
    "class RetrieveSentance(object):\n",
    "    def __init__(self, data):\n",
    "        self.n_sent = 1\n",
    "        self.data = data\n",
    "        self.empty = False\n",
    "        function = lambda s: [(w, p, t) for w, p, t in zip(s[\"Word\"].values.tolist(),\n",
    "                                                           s[\"POS\"].values.tolist(),\n",
    "                                                           s[\"Tag\"].values.tolist())]\n",
    "        self.grouped = self.data.groupby(\"Sentence #\").apply(function)\n",
    "        self.sentences = [s for s in self.grouped]\n",
    "    \n",
    "    def retrieve(self):\n",
    "        try:\n",
    "            s = self.grouped[\"Sentence: {}\".format(self.n_sent)]\n",
    "            self.n_sent += 1\n",
    "            return s\n",
    "        except:\n",
    "            return None"
   ]
  },
  {
   "cell_type": "code",
   "execution_count": 34,
   "metadata": {
    "ExecuteTime": {
     "end_time": "2021-01-12T17:02:45.736536Z",
     "start_time": "2021-01-12T17:02:43.277312Z"
    }
   },
   "outputs": [],
   "source": [
    "train = RetrieveSentance(train_data)\n",
    "test = RetrieveSentance(test_data)"
   ]
  },
  {
   "cell_type": "code",
   "execution_count": 35,
   "metadata": {
    "ExecuteTime": {
     "end_time": "2021-01-12T17:02:45.830939Z",
     "start_time": "2021-01-12T17:02:45.738519Z"
    }
   },
   "outputs": [],
   "source": [
    "# Build train set (X)\n",
    "X_train = [[s[0].lower() for s in sent] for sent in train.sentences]\n",
    "X_test = [[s[0].lower() for s in sent] for sent in test.sentences]"
   ]
  },
  {
   "cell_type": "code",
   "execution_count": 36,
   "metadata": {
    "ExecuteTime": {
     "end_time": "2021-01-12T17:02:45.879217Z",
     "start_time": "2021-01-12T17:02:45.834675Z"
    },
    "scrolled": false
   },
   "outputs": [],
   "source": [
    "# Build train set (y)\n",
    "y_train = [[s[2] for s in sent] for sent in train.sentences]\n",
    "y_test = [[s[2] for s in sent] for sent in test.sentences]"
   ]
  },
  {
   "cell_type": "code",
   "execution_count": 37,
   "metadata": {},
   "outputs": [
    {
     "name": "stdout",
     "output_type": "stream",
     "text": [
      "14999 14999 15000 15000\n"
     ]
    }
   ],
   "source": [
    "print(len(X_train), len(y_train), len(X_test), len(y_test))"
   ]
  },
  {
   "cell_type": "code",
   "execution_count": 38,
   "metadata": {
    "ExecuteTime": {
     "end_time": "2021-01-12T17:02:45.888847Z",
     "start_time": "2021-01-12T17:02:45.883416Z"
    }
   },
   "outputs": [],
   "source": [
    "assert len(X_train)==len(y_train)\n",
    "assert len(X_test)==len(y_test)"
   ]
  },
  {
   "cell_type": "code",
   "execution_count": 39,
   "metadata": {
    "ExecuteTime": {
     "end_time": "2021-01-12T17:02:45.971822Z",
     "start_time": "2021-01-12T17:02:45.893382Z"
    }
   },
   "outputs": [],
   "source": [
    "# Defines the vocabulary\n",
    "import itertools\n",
    "\n",
    "WORDS = set(itertools.chain(*X_train))\n",
    "TAGS = sorted(set(itertools.chain(*y_train)))\n",
    "vocab_size = len(WORDS)+2 # \"UNK\" and \"PAD\"\n",
    "nb_classes = len(TAGS)+1  # \"PAD\""
   ]
  },
  {
   "cell_type": "code",
   "execution_count": 40,
   "metadata": {
    "ExecuteTime": {
     "end_time": "2021-01-12T17:02:45.980863Z",
     "start_time": "2021-01-12T17:02:45.974611Z"
    }
   },
   "outputs": [
    {
     "name": "stdout",
     "output_type": "stream",
     "text": [
      "========================================\n",
      "vocabulary size: 18342\n",
      "class number: 18\n",
      "number sentences in train 14999\n"
     ]
    }
   ],
   "source": [
    "print(\"=\"*40)\n",
    "print(\"vocabulary size:\", vocab_size)\n",
    "print(\"class number:\", nb_classes)\n",
    "print(\"number sentences in train\", len(X_train))"
   ]
  },
  {
   "cell_type": "markdown",
   "metadata": {},
   "source": [
    "### Encode the train and test set"
   ]
  },
  {
   "cell_type": "code",
   "execution_count": 41,
   "metadata": {
    "ExecuteTime": {
     "end_time": "2021-01-12T17:02:46.007454Z",
     "start_time": "2021-01-12T17:02:45.993439Z"
    }
   },
   "outputs": [],
   "source": [
    "# word is key and its value is corresponding index\n",
    "word2idx = {w : i + 2 for i, w in enumerate(WORDS)}\n",
    "word2idx[\"UNK\"] = 1\n",
    "word2idx[\"PAD\"] = 0\n",
    "\n",
    "# Dictionary label:index pair\n",
    "# label is key and value is index.\n",
    "tag2idx = {t : i + 1 for i, t in enumerate(TAGS)}\n",
    "tag2idx[\"PAD\"] = 0\n",
    "\n",
    "# Build reverse dictionnary\n",
    "idx2word = {i: w for w, i in word2idx.items()}\n",
    "idx2tag = {i: w for w, i in tag2idx.items()}"
   ]
  },
  {
   "cell_type": "code",
   "execution_count": 42,
   "metadata": {
    "ExecuteTime": {
     "end_time": "2021-01-12T17:02:46.017448Z",
     "start_time": "2021-01-12T17:02:46.010760Z"
    }
   },
   "outputs": [],
   "source": [
    "#Folds each sentence that is longer than LINE_SIZE\n",
    "def folds_sentences(X, y, size=60):\n",
    "    X2 = []\n",
    "    y2 = []\n",
    "    for x_sent, t_sent in zip(X, y):\n",
    "        X_ = []\n",
    "        y_ = []\n",
    "        for x, y in zip(x_sent, t_sent):\n",
    "            if len(X_)==size:\n",
    "                # We've reached the maximum size for one line, so we're starting a new line.\n",
    "                X2 += [X_]\n",
    "                y2 += [y_]\n",
    "                X_ = [x]\n",
    "                y_ = [y]\n",
    "            else:\n",
    "                X_ += [x]\n",
    "                y_ += [y]\n",
    "        X2 += [X_]\n",
    "        y2 += [y_]\n",
    "    return X2, y2"
   ]
  },
  {
   "cell_type": "code",
   "execution_count": 43,
   "metadata": {
    "ExecuteTime": {
     "end_time": "2021-01-12T17:02:46.024103Z",
     "start_time": "2021-01-12T17:02:46.020310Z"
    }
   },
   "outputs": [],
   "source": [
    "# Converts each sentence into list of index\n",
    "def encode_sentences(S, dictionnary):\n",
    "    return [[dictionnary[w] if w in dictionnary.keys() else dictionnary[\"UNK\"] for w in s] for s in S]"
   ]
  },
  {
   "cell_type": "code",
   "execution_count": 44,
   "metadata": {
    "ExecuteTime": {
     "end_time": "2021-01-12T17:02:46.031233Z",
     "start_time": "2021-01-12T17:02:46.027545Z"
    }
   },
   "outputs": [],
   "source": [
    "# Adds padding\n",
    "def add_padding(S, size, pad_id=0):\n",
    "    return tf.keras.preprocessing.sequence.pad_sequences(maxlen=size, sequences=S, padding=\"post\", value=pad_id)"
   ]
  },
  {
   "cell_type": "code",
   "execution_count": 45,
   "metadata": {
    "ExecuteTime": {
     "end_time": "2021-01-12T17:02:47.259436Z",
     "start_time": "2021-01-12T17:02:46.034496Z"
    }
   },
   "outputs": [],
   "source": [
    "# Do all at the same time\n",
    "import tensorflow as tf\n",
    "\n",
    "LINE_SIZE = 10\n",
    "\n",
    "def embed_sentences(X, y, word2idx, tag2idx, size=60):\n",
    "    X, y = folds_sentences(X, y, LINE_SIZE)\n",
    "    X_enc = encode_sentences(X, word2idx)\n",
    "    y_enc = encode_sentences(y, tag2idx)\n",
    "    X_enc = add_padding(X_enc, size, word2idx[\"PAD\"])\n",
    "    y_enc = add_padding(y_enc, size, tag2idx[\"PAD\"])    \n",
    "    return X_enc, y_enc\n",
    "\n",
    "X_train_enc, y_train_enc = embed_sentences(X_train, y_train, word2idx, tag2idx, LINE_SIZE)"
   ]
  },
  {
   "cell_type": "code",
   "execution_count": 46,
   "metadata": {
    "ExecuteTime": {
     "end_time": "2021-01-12T17:02:47.268988Z",
     "start_time": "2021-01-12T17:02:47.263378Z"
    }
   },
   "outputs": [
    {
     "data": {
      "text/plain": [
       "((39471, 10), (39471, 10))"
      ]
     },
     "execution_count": 46,
     "metadata": {},
     "output_type": "execute_result"
    }
   ],
   "source": [
    "X_train_enc.shape, y_train_enc.shape"
   ]
  },
  {
   "cell_type": "code",
   "execution_count": 47,
   "metadata": {
    "ExecuteTime": {
     "end_time": "2021-01-12T17:02:47.276860Z",
     "start_time": "2021-01-12T17:02:47.271723Z"
    }
   },
   "outputs": [
    {
     "name": "stdout",
     "output_type": "stream",
     "text": [
      "*****Before Processing first sentence: *****\n",
      " thousands of demonstrators have marched through london to protest the war in iraq and demand the withdrawal of british troops from that country .\n",
      "*****After Processing first sentence: *****\n",
      "  [ 1943  5827 17669 14348   807 16194  3056  4931  2610  1839]\n"
     ]
    }
   ],
   "source": [
    "# Let's check the first sentence before and after processing.\n",
    "print('*****Before Processing first sentence: *****\\n', ' '.join([w for w in X_train[0]]))\n",
    "print('*****After Processing first sentence: *****\\n ', X_train_enc[0])"
   ]
  },
  {
   "cell_type": "code",
   "execution_count": 48,
   "metadata": {
    "ExecuteTime": {
     "end_time": "2021-01-12T17:02:47.296796Z",
     "start_time": "2021-01-12T17:02:47.289142Z"
    }
   },
   "outputs": [
    {
     "name": "stdout",
     "output_type": "stream",
     "text": [
      "*****Before Processing first sentence: *****\n",
      " O O O O O O B-geo O O O O O B-geo O O O O O B-gpe O O O O O\n",
      "*****After Processing first sentence: *****\n",
      "  [17 17 17 17 17 17  3 17 17 17]\n"
     ]
    }
   ],
   "source": [
    "# First sentence label before and after processing.\n",
    "print('*****Before Processing first sentence: *****\\n', ' '.join([w for w in y_train[0]]))\n",
    "print('*****After Processing first sentence: *****\\n ', y_train_enc[0])"
   ]
  },
  {
   "cell_type": "code",
   "execution_count": 49,
   "metadata": {
    "ExecuteTime": {
     "end_time": "2021-01-12T17:02:47.307146Z",
     "start_time": "2021-01-12T17:02:47.302101Z"
    }
   },
   "outputs": [],
   "source": [
    "''' You can do the same for test set '''\n",
    "X_test_enc, y_test_enc = embed_sentences(X_test, y_test, word2idx, tag2idx, LINE_SIZE)"
   ]
  },
  {
   "cell_type": "markdown",
   "metadata": {},
   "source": [
    "### A first model with LSTM cell\n",
    "\n",
    "![image](https://confusedcoders.com/wp-content/uploads/2019/12/many_to_many.png)"
   ]
  },
  {
   "cell_type": "markdown",
   "metadata": {},
   "source": [
    "#### Build the network"
   ]
  },
  {
   "cell_type": "code",
   "execution_count": 50,
   "metadata": {
    "ExecuteTime": {
     "end_time": "2021-01-12T17:02:47.316339Z",
     "start_time": "2021-01-12T17:02:47.310491Z"
    }
   },
   "outputs": [],
   "source": [
    "def build_network(input_size, nb_classes,\n",
    "                  EMBEDDING_SIZE=50, RNN_SIZE=25, DENSE_SIZE=50, DROPOUT = 0.2):\n",
    "\n",
    "    inputs = tf.keras.layers.Input(shape=(input_size,))\n",
    "    embed = tf.keras.layers.Embedding(input_dim=vocab_size, \n",
    "                                      output_dim=EMBEDDING_SIZE, \n",
    "                                      input_length=input_size, \n",
    "                                      mask_zero=True)(inputs)\n",
    "    lstm = tf.keras.layers.LSTM(units=RNN_SIZE, \n",
    "                                return_sequences=True, \n",
    "                                recurrent_dropout=DROPOUT)(embed)\n",
    "    dense = tf.keras.layers.Dense(DENSE_SIZE, activation='relu')(lstm)\n",
    "    dense = tf.keras.layers.Dense(DENSE_SIZE//4, activation='relu')(dense)\n",
    "    output = tf.keras.layers.Dense(nb_classes, activation='softmax')(dense)\n",
    "    return tf.keras.models.Model(inputs, output)"
   ]
  },
  {
   "cell_type": "code",
   "execution_count": 51,
   "metadata": {
    "ExecuteTime": {
     "end_time": "2021-01-12T17:02:47.749591Z",
     "start_time": "2021-01-12T17:02:47.320868Z"
    }
   },
   "outputs": [
    {
     "name": "stdout",
     "output_type": "stream",
     "text": [
      "Model: \"model_3\"\n",
      "_________________________________________________________________\n",
      "Layer (type)                 Output Shape              Param #   \n",
      "=================================================================\n",
      "input_4 (InputLayer)         [(None, 10)]              0         \n",
      "_________________________________________________________________\n",
      "embedding_4 (Embedding)      (None, 10, 50)            917100    \n",
      "_________________________________________________________________\n",
      "lstm_3 (LSTM)                (None, 10, 25)            7600      \n",
      "_________________________________________________________________\n",
      "dense_5 (Dense)              (None, 10, 50)            1300      \n",
      "_________________________________________________________________\n",
      "dense_6 (Dense)              (None, 10, 12)            612       \n",
      "_________________________________________________________________\n",
      "dense_7 (Dense)              (None, 10, 18)            234       \n",
      "=================================================================\n",
      "Total params: 926,846\n",
      "Trainable params: 926,846\n",
      "Non-trainable params: 0\n",
      "_________________________________________________________________\n"
     ]
    }
   ],
   "source": [
    "model = build_network(LINE_SIZE, nb_classes)\n",
    "model.summary()"
   ]
  },
  {
   "cell_type": "markdown",
   "metadata": {},
   "source": [
    "#### Fit the network"
   ]
  },
  {
   "cell_type": "code",
   "execution_count": 65,
   "metadata": {
    "ExecuteTime": {
     "end_time": "2021-01-12T17:02:47.774670Z",
     "start_time": "2021-01-12T17:02:47.760586Z"
    }
   },
   "outputs": [],
   "source": [
    "def fit_network(model, X, y, BATCH_SIZE, loss, metrics):\n",
    "    epochs=10\n",
    "\n",
    "    es = tf.keras.callbacks.EarlyStopping(monitor='val_loss', mode='min', restore_best_weights=True, verbose=1, patience=5)\n",
    "    mc = tf.keras.callbacks.ModelCheckpoint('best_model_lstm.h5', monitor='val_accuracy', mode='max', verbose=1, save_best_only=True)\n",
    "\n",
    "    model.compile(optimizer='adam', loss=loss, metrics=metrics)\n",
    "    return model.fit(X, y,\n",
    "                      batch_size= BATCH_SIZE,\n",
    "                      epochs=epochs,\n",
    "                      validation_split=0.1,\n",
    "                      callbacks=[mc, es])"
   ]
  },
  {
   "cell_type": "code",
   "execution_count": 66,
   "metadata": {
    "ExecuteTime": {
     "end_time": "2021-01-12T17:04:51.076339Z",
     "start_time": "2021-01-12T17:02:47.778939Z"
    },
    "scrolled": true
   },
   "outputs": [
    {
     "name": "stdout",
     "output_type": "stream",
     "text": [
      "Epoch 1/10\n",
      "2221/2221 [==============================] - 67s 26ms/step - loss: 0.0915 - accuracy: 0.9679 - val_loss: 0.1531 - val_accuracy: 0.9488\n",
      "\n",
      "Epoch 00001: val_accuracy improved from -inf to 0.94876, saving model to best_model_lstm.h5\n",
      "Epoch 2/10\n",
      "2221/2221 [==============================] - 52s 23ms/step - loss: 0.0747 - accuracy: 0.9724 - val_loss: 0.1631 - val_accuracy: 0.9453\n",
      "\n",
      "Epoch 00002: val_accuracy did not improve from 0.94876\n",
      "Epoch 3/10\n",
      "2221/2221 [==============================] - 47s 21ms/step - loss: 0.0650 - accuracy: 0.9758 - val_loss: 0.1769 - val_accuracy: 0.9452\n",
      "\n",
      "Epoch 00003: val_accuracy did not improve from 0.94876\n",
      "Epoch 4/10\n",
      "2221/2221 [==============================] - 48s 22ms/step - loss: 0.0554 - accuracy: 0.9793 - val_loss: 0.1801 - val_accuracy: 0.9463\n",
      "\n",
      "Epoch 00004: val_accuracy did not improve from 0.94876\n",
      "Epoch 5/10\n",
      "2221/2221 [==============================] - 48s 22ms/step - loss: 0.0486 - accuracy: 0.9818 - val_loss: 0.1907 - val_accuracy: 0.9448\n",
      "\n",
      "Epoch 00005: val_accuracy did not improve from 0.94876\n",
      "Epoch 6/10\n",
      "2221/2221 [==============================] - 49s 22ms/step - loss: 0.0409 - accuracy: 0.9846 - val_loss: 0.2017 - val_accuracy: 0.9439\n",
      "\n",
      "Epoch 00006: val_accuracy did not improve from 0.94876\n",
      "Restoring model weights from the end of the best epoch.\n",
      "Epoch 00006: early stopping\n"
     ]
    }
   ],
   "source": [
    "BATCH_SIZE = 16\n",
    "\n",
    "history4 = fit_network(model,\n",
    "                      X_train_enc, y_train_enc,\n",
    "                      BATCH_SIZE,\n",
    "                      tf.keras.backend.sparse_categorical_crossentropy,\n",
    "                      ['accuracy'])"
   ]
  },
  {
   "cell_type": "code",
   "execution_count": 67,
   "metadata": {
    "ExecuteTime": {
     "end_time": "2021-01-12T17:04:51.083469Z",
     "start_time": "2021-01-12T17:04:51.078554Z"
    }
   },
   "outputs": [],
   "source": [
    "def plot_learning_curve(history, loss='loss', acc='acc'):\n",
    "    fig = plt.figure(figsize = (16, 4))\n",
    "\n",
    "    plt.subplot(121)\n",
    "    plt.plot(history4.history[loss], label='Training loss')\n",
    "    plt.plot(history4.history['val_'+loss], label='Validation loss')\n",
    "    plt.title('Training and validation loss')\n",
    "    plt.legend()\n",
    "\n",
    "    plt.subplot(122)\n",
    "    plt.plot(history4.history[acc], label='Training acc')\n",
    "    plt.plot(history4.history['val_'+acc], label='Validation acc')\n",
    "    plt.title('Training and validation accuracy')\n",
    "    plt.legend()\n",
    "\n",
    "    plt.show()"
   ]
  },
  {
   "cell_type": "code",
   "execution_count": 68,
   "metadata": {
    "ExecuteTime": {
     "end_time": "2021-01-12T17:04:51.516455Z",
     "start_time": "2021-01-12T17:04:51.085898Z"
    }
   },
   "outputs": [
    {
     "data": {
      "image/png": "[encoded data removed]",
      "text/plain": [
       "<Figure size 1152x288 with 2 Axes>"
      ]
     },
     "metadata": {
      "needs_background": "light"
     },
     "output_type": "display_data"
    }
   ],
   "source": [
    "plot_learning_curve(history4, 'loss', 'accuracy')"
   ]
  },
  {
   "cell_type": "markdown",
   "metadata": {},
   "source": [
    "#### Evaluate the model"
   ]
  },
  {
   "cell_type": "code",
   "execution_count": 69,
   "metadata": {
    "ExecuteTime": {
     "end_time": "2021-01-12T17:04:51.528140Z",
     "start_time": "2021-01-12T17:04:51.519188Z"
    }
   },
   "outputs": [],
   "source": [
    "from seqeval.metrics import f1_score\n",
    "from seqeval.metrics import classification_report\n",
    "\n",
    "def evaluate(model, X_enc, y_enc, size):\n",
    "    def decode(y, dictionnary=idx2tag):\n",
    "        if len(y.shape)==3:\n",
    "            y = np.argmax(y, axis=-1)\n",
    "        return [[dictionnary[i] if dictionnary[i]!=\"PAD\" else \"O\" for i in row] for row in y]\n",
    "\n",
    "    y_pred_enc = model.predict(X_enc)\n",
    "    F1_score = f1_score(y_pred=decode(y_pred_enc), y_true=decode(y_enc))\n",
    "    print(\"F1-score is : {:.1%}\".format(F1_score))\n",
    "    \n",
    "    report = classification_report(y_pred=decode(y_pred_enc), y_true=decode(y_enc))\n",
    "    print(report)"
   ]
  },
  {
   "cell_type": "code",
   "execution_count": 70,
   "metadata": {
    "ExecuteTime": {
     "end_time": "2021-01-12T17:05:05.547536Z",
     "start_time": "2021-01-12T17:04:51.530368Z"
    }
   },
   "outputs": [
    {
     "name": "stdout",
     "output_type": "stream",
     "text": [
      "F1-score is : 37.6%\n",
      "              precision    recall  f1-score   support\n",
      "\n",
      "         art       0.00      0.00      0.00       117\n",
      "         eve       0.00      0.00      0.00        95\n",
      "         geo       0.12      0.82      0.22     12166\n",
      "         gpe       0.94      0.93      0.93      4738\n",
      "         nat       0.00      0.00      0.00        49\n",
      "         org       0.52      0.45      0.48      6610\n",
      "         per       0.67      0.61      0.64      5645\n",
      "         tim       0.82      0.79      0.81      6632\n",
      "\n",
      "   micro avg       0.25      0.72      0.38     36052\n",
      "   macro avg       0.38      0.45      0.38     36052\n",
      "weighted avg       0.52      0.72      0.53     36052\n",
      "\n"
     ]
    }
   ],
   "source": [
    "evaluate(model, X_test_enc, y_test_enc, LINE_SIZE)"
   ]
  },
  {
   "cell_type": "markdown",
   "metadata": {},
   "source": [
    "### A second model with stacked layers of Bi-LSTM cell\n",
    "\n",
    "Do the same with BI-LSTM cell. Eventually, use more than one Bi-LSTM layers\n",
    "\n",
    "![image](https://www.researchgate.net/profile/Robert_Gao/publication/325564535/figure/fig2/AS:690279778615307@1541586932678/Diagram-of-a-two-layer-bi-directional-LSTM-network.png)"
   ]
  },
  {
   "cell_type": "markdown",
   "metadata": {},
   "source": [
    "#### Build the network"
   ]
  },
  {
   "cell_type": "code",
   "execution_count": 71,
   "metadata": {},
   "outputs": [
    {
     "name": "stdout",
     "output_type": "stream",
     "text": [
      "Model: \"model_5\"\n",
      "_________________________________________________________________\n",
      "Layer (type)                 Output Shape              Param #   \n",
      "=================================================================\n",
      "input_6 (InputLayer)         [(None, 10)]              0         \n",
      "_________________________________________________________________\n",
      "embedding_6 (Embedding)      (None, 10, 50)            917100    \n",
      "_________________________________________________________________\n",
      "bidirectional_3 (Bidirection (None, 10, 50)            15200     \n",
      "_________________________________________________________________\n",
      "bidirectional_4 (Bidirection (None, 10, 50)            15200     \n",
      "_________________________________________________________________\n",
      "dense_11 (Dense)             (None, 10, 50)            2550      \n",
      "_________________________________________________________________\n",
      "dense_12 (Dense)             (None, 10, 12)            612       \n",
      "_________________________________________________________________\n",
      "dense_13 (Dense)             (None, 10, 18)            234       \n",
      "=================================================================\n",
      "Total params: 950,896\n",
      "Trainable params: 950,896\n",
      "Non-trainable params: 0\n",
      "_________________________________________________________________\n"
     ]
    }
   ],
   "source": [
    "def build_network(input_size, nb_classes,\n",
    "                  EMBEDDING_SIZE=50, \n",
    "                  RNN_SIZE=25, \n",
    "                  DENSE_SIZE=50, \n",
    "                  DROPOUT = 0.2):\n",
    "    inputs = tf.keras.layers.Input(shape=(input_size,))\n",
    "    embed = tf.keras.layers.Embedding(input_dim=vocab_size, output_dim=EMBEDDING_SIZE, input_length=input_size, mask_zero=True)(inputs)\n",
    "    lstm1 = tf.keras.layers.Bidirectional(\n",
    "        tf.keras.layers.LSTM(units=RNN_SIZE, return_sequences=True, recurrent_dropout=DROPOUT),\n",
    "        merge_mode=\"concat\"\n",
    "    )(embed)\n",
    "    lstm2 = tf.keras.layers.Bidirectional(\n",
    "        tf.keras.layers.LSTM(units=RNN_SIZE, return_sequences=True, recurrent_dropout=DROPOUT),\n",
    "        merge_mode=\"concat\"\n",
    "    )(lstm1)\n",
    "    dense = tf.keras.layers.Dense(DENSE_SIZE, activation='relu')(lstm2)\n",
    "    dense = tf.keras.layers.Dense(DENSE_SIZE//4, activation='relu')(dense)\n",
    "    output = tf.keras.layers.Dense(nb_classes, activation='softmax')(dense)\n",
    "    return tf.keras.models.Model(inputs, output)\n",
    "\n",
    "model = build_network(LINE_SIZE, nb_classes)\n",
    "model.summary()"
   ]
  },
  {
   "cell_type": "markdown",
   "metadata": {},
   "source": [
    "#### Fit the network"
   ]
  },
  {
   "cell_type": "code",
   "execution_count": 72,
   "metadata": {},
   "outputs": [
    {
     "name": "stdout",
     "output_type": "stream",
     "text": [
      "Epoch 1/10\n",
      "2221/2221 [==============================] - 61s 24ms/step - loss: 0.6093 - accuracy: 0.8355 - val_loss: 0.2117 - val_accuracy: 0.9307\n",
      "\n",
      "Epoch 00001: val_accuracy improved from -inf to 0.93073, saving model to best_model_lstm.h5\n",
      "Epoch 2/10\n",
      "2221/2221 [==============================] - 59s 27ms/step - loss: 0.1706 - accuracy: 0.9425 - val_loss: 0.1623 - val_accuracy: 0.9448\n",
      "\n",
      "Epoch 00002: val_accuracy improved from 0.93073 to 0.94478, saving model to best_model_lstm.h5\n",
      "Epoch 3/10\n",
      "2221/2221 [==============================] - 52s 23ms/step - loss: 0.1138 - accuracy: 0.9602 - val_loss: 0.1543 - val_accuracy: 0.9481\n",
      "\n",
      "Epoch 00003: val_accuracy improved from 0.94478 to 0.94805, saving model to best_model_lstm.h5\n",
      "Epoch 4/10\n",
      "2221/2221 [==============================] - 53s 24ms/step - loss: 0.0923 - accuracy: 0.9666 - val_loss: 0.1542 - val_accuracy: 0.9496\n",
      "\n",
      "Epoch 00004: val_accuracy improved from 0.94805 to 0.94959, saving model to best_model_lstm.h5\n",
      "Epoch 5/10\n",
      "2221/2221 [==============================] - 63s 28ms/step - loss: 0.0785 - accuracy: 0.9712 - val_loss: 0.1608 - val_accuracy: 0.9484\n",
      "\n",
      "Epoch 00005: val_accuracy did not improve from 0.94959\n",
      "Epoch 6/10\n",
      "2221/2221 [==============================] - 54s 24ms/step - loss: 0.0665 - accuracy: 0.9760 - val_loss: 0.1681 - val_accuracy: 0.9484\n",
      "\n",
      "Epoch 00006: val_accuracy did not improve from 0.94959\n",
      "Epoch 7/10\n",
      "2221/2221 [==============================] - 52s 24ms/step - loss: 0.0584 - accuracy: 0.9782 - val_loss: 0.1818 - val_accuracy: 0.9458\n",
      "\n",
      "Epoch 00007: val_accuracy did not improve from 0.94959\n",
      "Epoch 8/10\n",
      "2221/2221 [==============================] - 51s 23ms/step - loss: 0.0518 - accuracy: 0.9805 - val_loss: 0.1884 - val_accuracy: 0.9470\n",
      "\n",
      "Epoch 00008: val_accuracy did not improve from 0.94959\n",
      "Epoch 9/10\n",
      "2221/2221 [==============================] - 53s 24ms/step - loss: 0.0456 - accuracy: 0.9827 - val_loss: 0.1986 - val_accuracy: 0.9452\n",
      "\n",
      "Epoch 00009: val_accuracy did not improve from 0.94959\n",
      "Restoring model weights from the end of the best epoch.\n",
      "Epoch 00009: early stopping\n"
     ]
    }
   ],
   "source": [
    "BATCH_SIZE = 16\n",
    "\n",
    "history5 = fit_network(model,\n",
    "                      X_train_enc, y_train_enc,\n",
    "                      BATCH_SIZE,\n",
    "                      tf.keras.backend.sparse_categorical_crossentropy,\n",
    "                      ['accuracy'])"
   ]
  },
  {
   "cell_type": "markdown",
   "metadata": {},
   "source": [
    "#### Evaluate the model"
   ]
  },
  {
   "cell_type": "code",
   "execution_count": 73,
   "metadata": {},
   "outputs": [
    {
     "name": "stdout",
     "output_type": "stream",
     "text": [
      "F1-score is : 37.6%\n",
      "              precision    recall  f1-score   support\n",
      "\n",
      "         art       0.00      0.00      0.00       117\n",
      "         eve       0.00      0.00      0.00        95\n",
      "         geo       0.12      0.82      0.21     12166\n",
      "         gpe       0.93      0.92      0.92      4738\n",
      "         nat       0.00      0.00      0.00        49\n",
      "         org       0.57      0.40      0.47      6610\n",
      "         per       0.66      0.65      0.66      5645\n",
      "         tim       0.76      0.81      0.79      6632\n",
      "\n",
      "   micro avg       0.25      0.72      0.38     36052\n",
      "   macro avg       0.38      0.45      0.38     36052\n",
      "weighted avg       0.51      0.72      0.53     36052\n",
      "\n"
     ]
    }
   ],
   "source": [
    "evaluate(model, X_test_enc, y_test_enc, LINE_SIZE)"
   ]
  },
  {
   "cell_type": "markdown",
   "metadata": {},
   "source": [
    "### Conclusion about RNN approach for NER"
   ]
  },
  {
   "cell_type": "code",
   "execution_count": 82,
   "metadata": {},
   "outputs": [],
   "source": [
    "def plot_compare(history1, history2):\n",
    "    fig = plt.figure(figsize = (16, 4))\n",
    "\n",
    "    plt.subplot(121)\n",
    "    plt.plot(history1.history['val_loss'], label='Validation Loss for unidirectional RNN on NER')\n",
    "    plt.plot(history2.history['val_loss'], label='Validation Loss for bidirectional 2-layer RNN on NER')\n",
    "    plt.title('Validation losses of the two RNN implementations')\n",
    "    plt.legend()\n",
    "\n",
    "    plt.subplot(122)\n",
    "    plt.plot(history1.history['val_accuracy'], label='Validation Accuracy for unidirectional RNN on NER')\n",
    "    plt.plot(history2.history['val_accuracy'], label='Validation Accuracy for 2-layer bidirectional RNN on NER')\n",
    "    plt.title('Training and validation accuracy')\n",
    "    plt.legend()\n",
    "\n",
    "    plt.show()"
   ]
  },
  {
   "cell_type": "code",
   "execution_count": 83,
   "metadata": {},
   "outputs": [
    {
     "data": {
      "image/png": "[encoded data removed]",
      "text/plain": [
       "<Figure size 1152x288 with 2 Axes>"
      ]
     },
     "metadata": {
      "needs_background": "light"
     },
     "output_type": "display_data"
    }
   ],
   "source": [
    "plot_compare(history4, history5)"
   ]
  },
  {
   "cell_type": "raw",
   "metadata": {},
   "source": [
    "Though the two-layer bidirectional model above reaches a better validation accuracy, its classification report shows a lower F1 score, driven by a much lower precision than the simple LSTM one. Its higher recall is not compensated. \n",
    "\n",
    "The conclusion we will draw from this depends on the goal at hand. If pure precision is looked for, then we would be more interested in choosing the simpler model. However, if our goal implies reducing the amount of false negative (while caring less about false negative) then we would choose the second model.\n",
    "\n",
    "As a reminder: \n",
    "\n",
    "- recall = TP/(TP+FN)\n",
    "- precision = TP/(TP+FP)"
   ]
  },
  {
   "cell_type": "markdown",
   "metadata": {
    "ExecuteTime": {
     "end_time": "2021-01-08T09:27:40.122430Z",
     "start_time": "2021-01-08T09:27:40.118797Z"
    }
   },
   "source": [
    "## Come back to your favourite sentence...\n",
    "\n",
    "Can you build the embedding of your 5 sentences with a pre-trained embedding using a RNN approach and see if the result is more relevant than before?"
   ]
  },
  {
   "cell_type": "code",
   "execution_count": null,
   "metadata": {},
   "outputs": [],
   "source": []
  }
 ],
 "metadata": {
  "kernelspec": {
   "display_name": "Python 3",
   "language": "python",
   "name": "python3"
  },
  "language_info": {
   "codemirror_mode": {
    "name": "ipython",
    "version": 3
   },
   "file_extension": ".py",
   "mimetype": "text/x-python",
   "name": "python",
   "nbconvert_exporter": "python",
   "pygments_lexer": "ipython3",
   "version": "3.8.5"
  },
  "latex_envs": {
   "LaTeX_envs_menu_present": true,
   "autoclose": true,
   "autocomplete": true,
   "bibliofile": "biblio.bib",
   "cite_by": "apalike",
   "current_citInitial": 1,
   "eqLabelWithNumbers": true,
   "eqNumInitial": 1,
   "hotkeys": {
    "equation": "Ctrl-E",
    "itemize": "Ctrl-I"
   },
   "labels_anchors": false,
   "latex_user_defs": false,
   "report_style_numbering": false,
   "user_envs_cfg": false
  },
  "nbTranslate": {
   "displayLangs": [
    "*"
   ],
   "hotkey": "alt-t",
   "langInMainMenu": true,
   "sourceLang": "en",
   "targetLang": "fr",
   "useGoogleTranslate": true
  },
  "toc": {
   "base_numbering": 1,
   "nav_menu": {},
   "number_sections": true,
   "sideBar": true,
   "skip_h1_title": true,
   "title_cell": "Table of Contents",
   "title_sidebar": "Contents",
   "toc_cell": true,
   "toc_position": {},
   "toc_section_display": true,
   "toc_window_display": false
  }
 },
 "nbformat": 4,
 "nbformat_minor": 2
}
