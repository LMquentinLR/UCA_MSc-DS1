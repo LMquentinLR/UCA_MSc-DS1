{
 "cells": [
  {
   "cell_type": "markdown",
   "metadata": {
    "ExecuteTime": {
     "end_time": "2021-01-11T14:06:29.717974Z",
     "start_time": "2021-01-11T14:06:29.715693Z"
    }
   },
   "source": [
    "# RNN Labs\n",
    "\n",
    "In this lab we will use RNN to accomplish two types of tasks:\n",
    "- predicting a label to represent a set of words. This will be for us sentiment analysis but it could also have been topic modeling.\n",
    "- predict a label for each word. It will be for us naming entity recognition (NER) but it could also have been part of speech tagging (POS)."
   ]
  },
  {
   "cell_type": "markdown",
   "metadata": {
    "toc": true
   },
   "source": [
    "<h1>Table of Contents<span class=\"tocSkip\"></span></h1>\n",
    "<div class=\"toc\"><ul class=\"toc-item\"><li><span><a href=\"#Case-Study:-RNN-for-Sentiment-Analysis\" data-toc-modified-id=\"Case-Study:-RNN-for-Sentiment-Analysis-1\"><span class=\"toc-item-num\">1&nbsp;&nbsp;</span>Case Study: RNN for Sentiment Analysis</a></span><ul class=\"toc-item\"><li><span><a href=\"#Read-the-dataset\" data-toc-modified-id=\"Read-the-dataset-1.1\"><span class=\"toc-item-num\">1.1&nbsp;&nbsp;</span>Read the dataset</a></span></li><li><span><a href=\"#Text-normalisation\" data-toc-modified-id=\"Text-normalisation-1.2\"><span class=\"toc-item-num\">1.2&nbsp;&nbsp;</span>Text normalisation</a></span></li><li><span><a href=\"#Prepare-dataset-for-word-embedding-with-Keras\" data-toc-modified-id=\"Prepare-dataset-for-word-embedding-with-Keras-1.3\"><span class=\"toc-item-num\">1.3&nbsp;&nbsp;</span>Prepare dataset for word embedding with Keras</a></span></li><li><span><a href=\"#Build-RNN-neural-network\" data-toc-modified-id=\"Build-RNN-neural-network-1.4\"><span class=\"toc-item-num\">1.4&nbsp;&nbsp;</span>Build RNN neural network</a></span><ul class=\"toc-item\"><li><span><a href=\"#Stage-1---use-last-hidden-state\" data-toc-modified-id=\"Stage-1---use-last-hidden-state-1.4.1\"><span class=\"toc-item-num\">1.4.1&nbsp;&nbsp;</span>Stage 1 - use last hidden state</a></span></li><li><span><a href=\"#Stage-2---use-mean-of-all-hidden-state\" data-toc-modified-id=\"Stage-2---use-mean-of-all-hidden-state-1.4.2\"><span class=\"toc-item-num\">1.4.2&nbsp;&nbsp;</span>Stage 2 - use mean of all hidden state</a></span></li><li><span><a href=\"#Stage-3---build-a-bi-directional-recurrent-network-and-use-all-hidden-state\" data-toc-modified-id=\"Stage-3---build-a-bi-directional-recurrent-network-and-use-all-hidden-state-1.4.3\"><span class=\"toc-item-num\">1.4.3&nbsp;&nbsp;</span>Stage 3 - build a bi-directional recurrent network and use all hidden state</a></span></li></ul></li><li><span><a href=\"#Conclusion\" data-toc-modified-id=\"Conclusion-1.5\"><span class=\"toc-item-num\">1.5&nbsp;&nbsp;</span>Conclusion</a></span></li></ul></li><li><span><a href=\"#Case-Study:-RNN-for-Naming-Entity-Recognition\" data-toc-modified-id=\"Case-Study:-RNN-for-Naming-Entity-Recognition-2\"><span class=\"toc-item-num\">2&nbsp;&nbsp;</span>Case Study: RNN for Naming Entity Recognition</a></span><ul class=\"toc-item\"><li><span><a href=\"#Read-the-dataset\" data-toc-modified-id=\"Read-the-dataset-2.1\"><span class=\"toc-item-num\">2.1&nbsp;&nbsp;</span>Read the dataset</a></span></li><li><span><a href=\"#Build-train-and-test-set\" data-toc-modified-id=\"Build-train-and-test-set-2.2\"><span class=\"toc-item-num\">2.2&nbsp;&nbsp;</span>Build train and test set</a></span></li><li><span><a href=\"#Encode-the-train-and-test-set\" data-toc-modified-id=\"Encode-the-train-and-test-set-2.3\"><span class=\"toc-item-num\">2.3&nbsp;&nbsp;</span>Encode the train and test set</a></span></li><li><span><a href=\"#A-first-model-with-LSTM-cell\" data-toc-modified-id=\"A-first-model-with-LSTM-cell-2.4\"><span class=\"toc-item-num\">2.4&nbsp;&nbsp;</span>A first model with LSTM cell</a></span><ul class=\"toc-item\"><li><span><a href=\"#Build-the-network\" data-toc-modified-id=\"Build-the-network-2.4.1\"><span class=\"toc-item-num\">2.4.1&nbsp;&nbsp;</span>Build the network</a></span></li><li><span><a href=\"#Fit-the-network\" data-toc-modified-id=\"Fit-the-network-2.4.2\"><span class=\"toc-item-num\">2.4.2&nbsp;&nbsp;</span>Fit the network</a></span></li><li><span><a href=\"#Evaluate-the-model\" data-toc-modified-id=\"Evaluate-the-model-2.4.3\"><span class=\"toc-item-num\">2.4.3&nbsp;&nbsp;</span>Evaluate the model</a></span></li></ul></li><li><span><a href=\"#A-second-model-with-stacked-layers-of-Bi-LSTM-cell\" data-toc-modified-id=\"A-second-model-with-stacked-layers-of-Bi-LSTM-cell-2.5\"><span class=\"toc-item-num\">2.5&nbsp;&nbsp;</span>A second model with stacked layers of Bi-LSTM cell</a></span><ul class=\"toc-item\"><li><span><a href=\"#Build-the-network\" data-toc-modified-id=\"Build-the-network-2.5.1\"><span class=\"toc-item-num\">2.5.1&nbsp;&nbsp;</span>Build the network</a></span></li><li><span><a href=\"#Fit-the-network\" data-toc-modified-id=\"Fit-the-network-2.5.2\"><span class=\"toc-item-num\">2.5.2&nbsp;&nbsp;</span>Fit the network</a></span></li><li><span><a href=\"#Evaluate-the-model\" data-toc-modified-id=\"Evaluate-the-model-2.5.3\"><span class=\"toc-item-num\">2.5.3&nbsp;&nbsp;</span>Evaluate the model</a></span></li></ul></li><li><span><a href=\"#Conclusion-about-RNN-approach-for-NER\" data-toc-modified-id=\"Conclusion-about-RNN-approach-for-NER-2.6\"><span class=\"toc-item-num\">2.6&nbsp;&nbsp;</span>Conclusion about RNN approach for NER</a></span></li></ul></li><li><span><a href=\"#Come-back-to-your-favourite-sentence...\" data-toc-modified-id=\"Come-back-to-your-favourite-sentence...-3\"><span class=\"toc-item-num\">3&nbsp;&nbsp;</span>Come back to your favourite sentence...</a></span></li></ul></div>"
   ]
  },
  {
   "cell_type": "markdown",
   "metadata": {},
   "source": [
    "## Case Study: RNN for Sentiment Analysis\n",
    "\n",
    "In this lab we use part of the 'Amazon_Unlocked_Mobile.csv' dataset published by Kaggle. The dataset contain the following information:\n",
    "* Product Name\n",
    "* Brand Name\n",
    "* Price\n",
    "* Rating\n",
    "* Reviews\n",
    "* Review Votes\n",
    "\n",
    "We are mainly interested by the 'Reviews' (X) and by the 'Rating' (y)\n",
    "\n",
    "\n",
    "The goal is to try to predict the 'Rating' after reading the 'Reviews'. I've prepared for you TRAIN and TEST set.\n",
    "The work to be done is as follows:\n",
    "\n",
    "1. Feature extraction and baseline (BOW + logistic regression)\n",
    "    * read the dataset and understand it\n",
    "    * put it in a format so that you can use `CountVectorizer` or`Tf-IDF` to extract the desired features\n",
    "    * perform on the desired dates and preprocessing\n",
    "    * use one of the classifiers you know to predict the polarity of different sentences\n",
    "    \n",
    "    \n",
    "1. Word embedding\n",
    "    * stage 1 build a network that uses Keras' embedding which is not language sensitive.\n",
    "    * stage 1 try to use an existing embedding (https://github.com/facebookresearch/MUSE)\n",
    "    \n",
    " \n",
    "1. <span style=\"color:red\">Recurrent neural network\n",
    "    * <span style=\"color:red\">stage 1: build a network that uses recurrent neurons. The classification will be done on the last hidden state \n",
    "    * <span style=\"color:red\">stage 2: build a network that uses recurrent neurons. The classification will be done on the mean of all hidden state\n",
    "    * <span style=\"color:red\">stage 3: build a bi-directional network that uses recurrent neurons. The classification will be done on the mean of all hidden state\n",
    "    </span>\n",
    "\n",
    "\n",
    "\n",
    "**WARNING:** the dataset is voluminous, I can only encourage you to work first on a small part of it and only at the end, when the code is well debugged and that it is necessary to build the \"final model\", to use the whole dataset.\n",
    "    \n",
    "As for the previous labs, I propose you a first version so that you don't lose too much time to start. Take the time to understand the lines of code and ask questions if necessary. Beware, as usual the hyper-parameters are a bit crazy."
   ]
  },
  {
   "cell_type": "markdown",
   "metadata": {},
   "source": [
    "### Read the dataset\n",
    "\n",
    "Could you find below a proposal. You can complete them."
   ]
  },
  {
   "cell_type": "code",
   "execution_count": 1,
   "metadata": {
    "ExecuteTime": {
     "end_time": "2021-01-12T17:02:23.195675Z",
     "start_time": "2021-01-12T17:02:23.192769Z"
    }
   },
   "outputs": [],
   "source": [
    "import pandas as pd\n",
    "import numpy as np"
   ]
  },
  {
   "cell_type": "code",
   "execution_count": 2,
   "metadata": {
    "ExecuteTime": {
     "end_time": "2021-01-12T17:02:24.362294Z",
     "start_time": "2021-01-12T17:02:23.272459Z"
    }
   },
   "outputs": [
    {
     "data": {
      "text/html": [
       "<div>\n",
       "<style scoped>\n",
       "    .dataframe tbody tr th:only-of-type {\n",
       "        vertical-align: middle;\n",
       "    }\n",
       "\n",
       "    .dataframe tbody tr th {\n",
       "        vertical-align: top;\n",
       "    }\n",
       "\n",
       "    .dataframe thead th {\n",
       "        text-align: right;\n",
       "    }\n",
       "</style>\n",
       "<table border=\"1\" class=\"dataframe\">\n",
       "  <thead>\n",
       "    <tr style=\"text-align: right;\">\n",
       "      <th></th>\n",
       "      <th>Product Name</th>\n",
       "      <th>Brand Name</th>\n",
       "      <th>Price</th>\n",
       "      <th>Rating</th>\n",
       "      <th>Reviews</th>\n",
       "      <th>Review Votes</th>\n",
       "    </tr>\n",
       "  </thead>\n",
       "  <tbody>\n",
       "    <tr>\n",
       "      <th>0</th>\n",
       "      <td>Samsung Galaxy Note 4 N910C Unlocked Cellphone...</td>\n",
       "      <td>Samsung</td>\n",
       "      <td>449.99</td>\n",
       "      <td>4</td>\n",
       "      <td>I love it!!! I absolutely love it!! 👌👍</td>\n",
       "      <td>0.0</td>\n",
       "    </tr>\n",
       "    <tr>\n",
       "      <th>1</th>\n",
       "      <td>BLU Energy X Plus Smartphone - With 4000 mAh S...</td>\n",
       "      <td>BLU</td>\n",
       "      <td>139.00</td>\n",
       "      <td>5</td>\n",
       "      <td>I love the BLU phones! This is my second one t...</td>\n",
       "      <td>4.0</td>\n",
       "    </tr>\n",
       "    <tr>\n",
       "      <th>2</th>\n",
       "      <td>Apple iPhone 6 128GB Silver AT&amp;T</td>\n",
       "      <td>Apple</td>\n",
       "      <td>599.95</td>\n",
       "      <td>5</td>\n",
       "      <td>Great phone</td>\n",
       "      <td>1.0</td>\n",
       "    </tr>\n",
       "    <tr>\n",
       "      <th>3</th>\n",
       "      <td>BLU Advance 4.0L Unlocked Smartphone -US GSM -...</td>\n",
       "      <td>BLU</td>\n",
       "      <td>51.99</td>\n",
       "      <td>4</td>\n",
       "      <td>Very happy with the performance. The apps work...</td>\n",
       "      <td>2.0</td>\n",
       "    </tr>\n",
       "    <tr>\n",
       "      <th>4</th>\n",
       "      <td>Huawei P8 Lite US Version- 5 Unlocked Android ...</td>\n",
       "      <td>Huawei</td>\n",
       "      <td>198.99</td>\n",
       "      <td>5</td>\n",
       "      <td>Easy to use great price</td>\n",
       "      <td>0.0</td>\n",
       "    </tr>\n",
       "  </tbody>\n",
       "</table>\n",
       "</div>"
      ],
      "text/plain": [
       "                                        Product Name Brand Name   Price  \\\n",
       "0  Samsung Galaxy Note 4 N910C Unlocked Cellphone...    Samsung  449.99   \n",
       "1  BLU Energy X Plus Smartphone - With 4000 mAh S...        BLU  139.00   \n",
       "2                   Apple iPhone 6 128GB Silver AT&T      Apple  599.95   \n",
       "3  BLU Advance 4.0L Unlocked Smartphone -US GSM -...        BLU   51.99   \n",
       "4  Huawei P8 Lite US Version- 5 Unlocked Android ...     Huawei  198.99   \n",
       "\n",
       "   Rating                                            Reviews  Review Votes  \n",
       "0       4             I love it!!! I absolutely love it!! 👌👍           0.0  \n",
       "1       5  I love the BLU phones! This is my second one t...           4.0  \n",
       "2       5                                        Great phone           1.0  \n",
       "3       4  Very happy with the performance. The apps work...           2.0  \n",
       "4       5                            Easy to use great price           0.0  "
      ]
     },
     "execution_count": 2,
     "metadata": {},
     "output_type": "execute_result"
    }
   ],
   "source": [
    "TRAIN = pd.read_csv(\"http://www.i3s.unice.fr/~riveill/dataset/Amazon_Unlocked_Mobile/train.csv.gz\")\n",
    "TEST = pd.read_csv(\"http://www.i3s.unice.fr/~riveill/dataset/Amazon_Unlocked_Mobile/test.csv.gz\")\n",
    "\n",
    "TRAIN.head()"
   ]
  },
  {
   "cell_type": "code",
   "execution_count": 3,
   "metadata": {
    "ExecuteTime": {
     "end_time": "2021-01-12T17:02:24.375063Z",
     "start_time": "2021-01-12T17:02:24.364970Z"
    }
   },
   "outputs": [],
   "source": [
    "X_train = TRAIN['Reviews']\n",
    "y_train = TRAIN['Rating']-min(TRAIN['Rating'])\n",
    "\n",
    "X_test = TEST['Reviews']\n",
    "y_test = TEST['Rating']-min(TEST['Rating'])"
   ]
  },
  {
   "cell_type": "code",
   "execution_count": 4,
   "metadata": {
    "ExecuteTime": {
     "end_time": "2021-01-12T17:02:24.383724Z",
     "start_time": "2021-01-12T17:02:24.379219Z"
    }
   },
   "outputs": [
    {
     "data": {
      "text/plain": [
       "((5000,), (5000,), array([0, 1, 2, 3, 4]))"
      ]
     },
     "execution_count": 4,
     "metadata": {},
     "output_type": "execute_result"
    }
   ],
   "source": [
    "nb_classes = len(np.unique(y_train))\n",
    "X_train.shape, y_train.shape, np.unique(y_train)"
   ]
  },
  {
   "cell_type": "code",
   "execution_count": 5,
   "metadata": {},
   "outputs": [
    {
     "data": {
      "text/plain": [
       "((1000,), (1000,), array([0, 1, 2, 3, 4]))"
      ]
     },
     "execution_count": 5,
     "metadata": {},
     "output_type": "execute_result"
    }
   ],
   "source": [
    "nb_classes = len(np.unique(y_test))\n",
    "X_test.shape, y_test.shape, np.unique(y_test)"
   ]
  },
  {
   "cell_type": "markdown",
   "metadata": {},
   "source": [
    "### Text normalisation\n",
    "\n",
    "It's your job\n",
    "\n",
    "* you can put all the text in lower case\n",
    "* you can remove all english stop word\n",
    "* you can remove all/some punctuation sign\n",
    "* you can remove all number\n",
    "* you can stem/lemmatize the english word\n",
    "* ...\n",
    "\n",
    "You can of course re-use the previously used preprocessing but also do nothing to spend essentially time on the first two approaches to using text with neural networks."
   ]
  },
  {
   "cell_type": "code",
   "execution_count": 6,
   "metadata": {
    "ExecuteTime": {
     "end_time": "2021-01-12T17:02:24.390682Z",
     "start_time": "2021-01-12T17:02:24.386896Z"
    }
   },
   "outputs": [],
   "source": [
    "import nltk # nltk.download()\n",
    "from nltk.stem import PorterStemmer\n",
    "from nltk.tokenize import sent_tokenize, word_tokenize\n",
    "from nltk.stem import WordNetLemmatizer"
   ]
  },
  {
   "cell_type": "code",
   "execution_count": 7,
   "metadata": {},
   "outputs": [],
   "source": [
    "def stem_sentences(sentence):\n",
    "    \"\"\"\n",
    "    Performs stemming on a sentence\n",
    "    \"\"\"\n",
    "    porter = PorterStemmer()\n",
    "    token_words = word_tokenize(sentence)\n",
    "    stemmed_sentence = []\n",
    "    for word in token_words: stemmed_sentence.append(porter.stem(word))\n",
    "    return \" \".join(stemmed_sentence)\n",
    "\n",
    "def lem_sentences(sentence):\n",
    "    \"\"\"\n",
    "    Performs lemmatization on a sentence\n",
    "    \"\"\"\n",
    "    lemmatizer = WordNetLemmatizer()\n",
    "    token_words = word_tokenize(sentence)\n",
    "    stemmed_sentence = []\n",
    "    for word in token_words: stemmed_sentence.append(lemmatizer.lemmatize(word))\n",
    "    return \" \".join(stemmed_sentence)\n",
    "\n",
    "def normalize_set(dataset, normalization=\"stem\"):\n",
    "    \"\"\"\n",
    "    Normalizes a dataset\n",
    "    \"\"\"\n",
    "    for idx, entry in enumerate(dataset):\n",
    "        if normalization == \"stem\": dataset[idx] = stem_sentences(entry)\n",
    "        else: dataset[idx] = lem_sentences(entry)\n",
    "    return dataset"
   ]
  },
  {
   "cell_type": "code",
   "execution_count": 8,
   "metadata": {},
   "outputs": [],
   "source": [
    "X_train_norm = X_train.copy()\n",
    "X_train_norm = normalize_set(X_train_norm)\n",
    "\n",
    "X_test_norm = X_test.copy()\n",
    "X_test_norm = normalize_set(X_test_norm)"
   ]
  },
  {
   "cell_type": "markdown",
   "metadata": {},
   "source": [
    "### Prepare dataset for word embedding with Keras \n",
    "\n",
    "Could you find below a proposal. You can complete them."
   ]
  },
  {
   "cell_type": "code",
   "execution_count": 9,
   "metadata": {
    "ExecuteTime": {
     "end_time": "2021-01-12T17:02:27.893203Z",
     "start_time": "2021-01-12T17:02:24.393297Z"
    }
   },
   "outputs": [],
   "source": [
    "from tensorflow.keras.preprocessing.text import Tokenizer\n",
    "from tensorflow.keras.preprocessing.sequence import pad_sequences\n",
    "from tensorflow.keras.layers import Embedding"
   ]
  },
  {
   "cell_type": "code",
   "execution_count": 10,
   "metadata": {},
   "outputs": [],
   "source": [
    "FILTERS='!\"#$%&()*+,-./:;<=>?@[\\\\]^_`{|}~\\t\\n'\n",
    "VOCABULARY_SIZE = 20 # Max the vocabulary size\n",
    "SEQUENCE_SIZE = 10     # Nombre de mots dans une review\n",
    "PADDING_MODE = 'pre'\n",
    "PADDING_VALUE = 0\n",
    "TRUNCATING_MODE='post'"
   ]
  },
  {
   "cell_type": "code",
   "execution_count": 11,
   "metadata": {},
   "outputs": [
    {
     "name": "stdout",
     "output_type": "stream",
     "text": [
      "Found 7170 unique tokens.\n"
     ]
    }
   ],
   "source": [
    "# ENCODING\n",
    "\n",
    "# create the tokenizer\n",
    "tokenizer = Tokenizer(num_words=VOCABULARY_SIZE,\n",
    "              filters=FILTERS,\n",
    "              lower=True,\n",
    "              split=' ',\n",
    "              oov_token=\"_UNK_\")\n",
    "\n",
    "# fit the tokenizer on the documents\n",
    "tokenizer.fit_on_texts(X_train_norm)\n",
    "print('Found %s unique tokens.' % len(tokenizer.word_index))\n",
    "\n",
    "# encode documents\n",
    "X_train_enc = tokenizer.texts_to_sequences(X_train_norm)\n",
    "X_test_enc = tokenizer.texts_to_sequences(X_test_norm)"
   ]
  },
  {
   "cell_type": "code",
   "execution_count": 12,
   "metadata": {
    "ExecuteTime": {
     "end_time": "2021-01-12T17:02:27.941331Z",
     "start_time": "2021-01-12T17:02:27.895837Z"
    }
   },
   "outputs": [],
   "source": [
    "# PADDING\n",
    "\n",
    "X_train_enc = pad_sequences(X_train_enc,\n",
    "                            maxlen=SEQUENCE_SIZE,\n",
    "                            padding=PADDING_MODE,\n",
    "                            truncating=TRUNCATING_MODE,\n",
    "                            value=PADDING_VALUE)\n",
    "X_test_enc = pad_sequences(X_test_enc,\n",
    "                            maxlen=SEQUENCE_SIZE,\n",
    "                            padding=PADDING_MODE,\n",
    "                            truncating=TRUNCATING_MODE,\n",
    "                            value=PADDING_VALUE)"
   ]
  },
  {
   "cell_type": "raw",
   "metadata": {},
   "source": [
    "# Representation\n",
    "\n",
    "print(X_train[0], len(X_train[0]),\"\\n\",sep=\"\\n\")\n",
    "print(X_train_norm[0], len(X_train_norm[0]),\"\\n\",sep=\"\\n\")\n",
    "print(X_train_enc[0], len(X_train_enc[0]),\"\\n\",sep=\"\\n\")\n",
    "\n",
    "# Word embedding\n",
    "EMBEDDING_SIZE = 8\n",
    "embedding = Embedding(VOCABULARY_SIZE,\n",
    "                      EMBEDDING_SIZE,\n",
    "                      input_length=SEQUENCE_SIZE)(X_train_enc[0])\n",
    "\n",
    "print(embedding, VOCABULARY_SIZE, EMBEDDING_SIZE, SEQUENCE_SIZE, embedding.shape,\"\\n\",sep=\"\\n\")"
   ]
  },
  {
   "cell_type": "markdown",
   "metadata": {},
   "source": [
    "### Build RNN neural network\n",
    "\n",
    "#### Stage 1 - use last hidden state\n",
    "<span style=\"color:red\">stage 1: build a network that uses recurrent neurons. The classification will be done on the last hidden state.</span>\n",
    "\n",
    "![image](https://www.researchgate.net/profile/Huy_Tien_Nguyen/publication/321259272/figure/fig2/AS:572716866433034@1513557749934/Illustration-of-our-LSTM-model-for-sentiment-classification-Each-word-is-transfered-to-a.png)\n",
    "\n",
    "Could you find below a proposal. You can complete them."
   ]
  },
  {
   "cell_type": "code",
   "execution_count": 13,
   "metadata": {},
   "outputs": [],
   "source": [
    "import tensorflow as tf\n",
    "from tensorflow.keras.models import Model\n",
    "from tensorflow.keras.layers import Input, Dense, Embedding, Flatten, LSTM, AveragePooling1D, GlobalAveragePooling1D\n",
    "from tensorflow.keras import utils"
   ]
  },
  {
   "cell_type": "code",
   "execution_count": 14,
   "metadata": {},
   "outputs": [],
   "source": [
    "EMBEDDING_SIZE = 8\n",
    "return_sequences = False"
   ]
  },
  {
   "cell_type": "code",
   "execution_count": 15,
   "metadata": {
    "ExecuteTime": {
     "end_time": "2021-01-12T17:02:28.118218Z",
     "start_time": "2021-01-12T17:02:27.945818Z"
    }
   },
   "outputs": [
    {
     "name": "stdout",
     "output_type": "stream",
     "text": [
      "Model: \"model\"\n",
      "_________________________________________________________________\n",
      "Layer (type)                 Output Shape              Param #   \n",
      "=================================================================\n",
      "input_1 (InputLayer)         [(None, 10)]              0         \n",
      "_________________________________________________________________\n",
      "embedding (Embedding)        (None, 10, 8)             160       \n",
      "_________________________________________________________________\n",
      "lstm (LSTM)                  (None, 64)                18688     \n",
      "_________________________________________________________________\n",
      "dense (Dense)                (None, 8)                 520       \n",
      "_________________________________________________________________\n",
      "dense_1 (Dense)              (None, 5)                 45        \n",
      "=================================================================\n",
      "Total params: 19,413\n",
      "Trainable params: 19,413\n",
      "Non-trainable params: 0\n",
      "_________________________________________________________________\n"
     ]
    }
   ],
   "source": [
    "# This returns a tensor\n",
    "inputs = Input(shape=(SEQUENCE_SIZE,))\n",
    "\n",
    "# Word embedding\n",
    "embedding = Embedding(VOCABULARY_SIZE,\n",
    "                      EMBEDDING_SIZE,\n",
    "                      input_length=SEQUENCE_SIZE)(inputs)\n",
    "\n",
    "# an RNN layer\n",
    "output_1 = LSTM(64, return_sequences=return_sequences, activation='relu')(embedding)\n",
    "\n",
    "# some Dense layers\n",
    "output_2 = Dense(8, activation='relu')(output_1)\n",
    "\n",
    "#output layer\n",
    "predictions = Dense(nb_classes, activation='softmax')(output_2)\n",
    "\n",
    "# build model\n",
    "model = Model(inputs=inputs, outputs=predictions)\n",
    "\n",
    "# compile model\n",
    "model.compile(optimizer='adam',\n",
    "              loss='sparse_categorical_crossentropy',\n",
    "              metrics=['acc'])\n",
    "\n",
    "model.summary()"
   ]
  },
  {
   "cell_type": "code",
   "execution_count": 16,
   "metadata": {
    "ExecuteTime": {
     "end_time": "2021-01-12T17:02:39.133690Z",
     "start_time": "2021-01-12T17:02:28.121249Z"
    },
    "scrolled": false
   },
   "outputs": [
    {
     "name": "stdout",
     "output_type": "stream",
     "text": [
      "Epoch 1/4000\n",
      "141/141 [==============================] - 2s 8ms/step - loss: 1.5019 - acc: 0.4946 - val_loss: 1.2770 - val_acc: 0.5660\n",
      "\n",
      "Epoch 00001: saving model to best_model.h5\n",
      "Epoch 2/4000\n",
      "141/141 [==============================] - 1s 4ms/step - loss: 1.2935 - acc: 0.5249 - val_loss: 1.2003 - val_acc: 0.5680\n",
      "\n",
      "Epoch 00002: saving model to best_model.h5\n",
      "Epoch 3/4000\n",
      "141/141 [==============================] - 1s 4ms/step - loss: 1.2370 - acc: 0.5460 - val_loss: 1.1881 - val_acc: 0.5680\n",
      "\n",
      "Epoch 00003: saving model to best_model.h5\n",
      "Epoch 4/4000\n",
      "141/141 [==============================] - 1s 5ms/step - loss: 1.2003 - acc: 0.5564 - val_loss: 1.1993 - val_acc: 0.5680\n",
      "\n",
      "Epoch 00004: saving model to best_model.h5\n",
      "Epoch 5/4000\n",
      "141/141 [==============================] - 1s 4ms/step - loss: 1.1922 - acc: 0.5639 - val_loss: 1.1966 - val_acc: 0.5680\n",
      "\n",
      "Epoch 00005: saving model to best_model.h5\n",
      "Epoch 6/4000\n",
      "141/141 [==============================] - 1s 4ms/step - loss: 1.1732 - acc: 0.5674 - val_loss: 1.1945 - val_acc: 0.5680\n",
      "\n",
      "Epoch 00006: saving model to best_model.h5\n",
      "Epoch 7/4000\n",
      "141/141 [==============================] - 1s 4ms/step - loss: 1.2006 - acc: 0.5522 - val_loss: 1.1874 - val_acc: 0.5660\n",
      "Restoring model weights from the end of the best epoch.\n",
      "\n",
      "Epoch 00007: saving model to best_model.h5\n",
      "Epoch 00007: early stopping\n"
     ]
    }
   ],
   "source": [
    "es = tf.keras.callbacks.EarlyStopping(monitor='val_acc', \n",
    "                                      mode='max', \n",
    "                                      patience=5, \n",
    "                                      restore_best_weights=True, \n",
    "                                      verbose=1)\n",
    "\n",
    "mc = tf.keras.callbacks.ModelCheckpoint('best_model.h5', \n",
    "                                        monitor='val_acc', \n",
    "                                        mode='max', \n",
    "                                        save_best_only=False, \n",
    "                                        verbose=1)\n",
    "\n",
    "# fit model\n",
    "history1 = model.fit(X_train_enc, y_train, validation_split=0.1, epochs=4000, callbacks=[es, mc], verbose=1)"
   ]
  },
  {
   "cell_type": "code",
   "execution_count": 17,
   "metadata": {
    "ExecuteTime": {
     "end_time": "2021-01-12T17:02:39.615022Z",
     "start_time": "2021-01-12T17:02:39.136480Z"
    }
   },
   "outputs": [
    {
     "data": {
      "image/png": "[encoded data removed]",
      "text/plain": [
       "<Figure size 432x288 with 1 Axes>"
      ]
     },
     "metadata": {
      "needs_background": "light"
     },
     "output_type": "display_data"
    },
    {
     "data": {
      "image/png": "[encoded data removed]",
      "text/plain": [
       "<Figure size 432x288 with 1 Axes>"
      ]
     },
     "metadata": {
      "needs_background": "light"
     },
     "output_type": "display_data"
    }
   ],
   "source": [
    "import matplotlib.pyplot as plt\n",
    "%matplotlib inline\n",
    "\n",
    "# plot history\n",
    "# list all data in history\n",
    "\n",
    "# summarize history for loss\n",
    "plt.plot(history1.history['loss'])\n",
    "plt.plot(history1.history['val_loss'])\n",
    "plt.title('model loss')\n",
    "plt.ylabel('loss')\n",
    "plt.xlabel('epoch')\n",
    "plt.legend(['loss train', 'loss val'], loc='best')\n",
    "plt.show()\n",
    "\n",
    "# summarize history for loss\n",
    "plt.plot(history1.history['acc'])\n",
    "plt.plot(history1.history['val_acc'])\n",
    "plt.title('model acc')\n",
    "plt.ylabel('acc')\n",
    "plt.xlabel('epoch')\n",
    "plt.legend(['acc train', 'acc val'], loc='best')\n",
    "plt.show()"
   ]
  },
  {
   "cell_type": "code",
   "execution_count": 18,
   "metadata": {
    "ExecuteTime": {
     "end_time": "2021-01-12T17:02:40.081215Z",
     "start_time": "2021-01-12T17:02:39.617646Z"
    }
   },
   "outputs": [
    {
     "data": {
      "text/plain": [
       "('acc=', 0.579, 'f1', 0.7027424567132701)"
      ]
     },
     "execution_count": 18,
     "metadata": {},
     "output_type": "execute_result"
    }
   ],
   "source": [
    "''' Evaluate your result '''\n",
    "''' Le jeu de donnée n'est pas très équilibré '''\n",
    "from sklearn.metrics import f1_score, accuracy_score\n",
    "\n",
    "y_pred = model.predict(X_test_enc)\n",
    "y_pred = np.argmax(y_pred, axis=1)\n",
    "\n",
    "# print(y_pred.shape, y_test.shape, X_test_enc.shape)\n",
    "\n",
    "model1_accuracy = accuracy_score(y_pred, y_test)\n",
    "model1_f1_score = f1_score(y_pred, y_test, average=\"weighted\")\n",
    "\n",
    "\"acc=\", model1_accuracy, \"f1\", model1_f1_score"
   ]
  },
  {
   "cell_type": "markdown",
   "metadata": {},
   "source": [
    "#### Stage 2 - use mean of all hidden state\n",
    "\n",
    "* <span style=\"color:red\">stage 2: build a network that uses recurrent neurons. The classification will be done on the mean of all hidden state\n",
    "\n",
    "    ![image](https://d3i71xaburhd42.cloudfront.net/db689ec8145af54dc23ecc232735b28adc38d45a/3-Figure3-1.png)\n",
    "    \n",
    "**Attention** in the diagram above a bi-LSTM is used. This will be the case in our third version. Use only the Forward layer."
   ]
  },
  {
   "cell_type": "code",
   "execution_count": 19,
   "metadata": {
    "ExecuteTime": {
     "end_time": "2021-01-12T17:02:40.088719Z",
     "start_time": "2021-01-12T17:02:40.084262Z"
    }
   },
   "outputs": [
    {
     "name": "stdout",
     "output_type": "stream",
     "text": [
      "Model: \"model_1\"\n",
      "_________________________________________________________________\n",
      "Layer (type)                 Output Shape              Param #   \n",
      "=================================================================\n",
      "input_2 (InputLayer)         [(None, 10)]              0         \n",
      "_________________________________________________________________\n",
      "embedding_1 (Embedding)      (None, 10, 8)             160       \n",
      "_________________________________________________________________\n",
      "lstm_1 (LSTM)                (None, 10, 32)            5248      \n",
      "_________________________________________________________________\n",
      "average_pooling1d (AveragePo (None, 5, 32)             0         \n",
      "_________________________________________________________________\n",
      "flatten (Flatten)            (None, 160)               0         \n",
      "_________________________________________________________________\n",
      "dense_2 (Dense)              (None, 5)                 805       \n",
      "=================================================================\n",
      "Total params: 6,213\n",
      "Trainable params: 6,213\n",
      "Non-trainable params: 0\n",
      "_________________________________________________________________\n"
     ]
    }
   ],
   "source": [
    "# This returns a tensor\n",
    "inputs = Input(shape=(SEQUENCE_SIZE,))\n",
    "\n",
    "# Word embedding\n",
    "embedding = Embedding(VOCABULARY_SIZE,\n",
    "                      EMBEDDING_SIZE,\n",
    "                      input_length=SEQUENCE_SIZE)(inputs)\n",
    "# an RNN layer\n",
    "output_1 = LSTM(32, return_sequences=True, activation='relu')(embedding)\n",
    "#output layer\n",
    "average_1 = AveragePooling1D()(output_1)\n",
    "output_2 = Flatten()(average_1)\n",
    "#output layer\n",
    "predictions = Dense(nb_classes, activation='softmax')(output_2)\n",
    "# build model\n",
    "model = Model(inputs=inputs, outputs=predictions)\n",
    "# compile model\n",
    "model.compile(optimizer='adam',\n",
    "              loss='sparse_categorical_crossentropy',\n",
    "              metrics=['acc'])\n",
    "\n",
    "model.summary()"
   ]
  },
  {
   "cell_type": "code",
   "execution_count": 20,
   "metadata": {
    "ExecuteTime": {
     "end_time": "2021-01-12T17:02:39.133690Z",
     "start_time": "2021-01-12T17:02:28.121249Z"
    },
    "scrolled": false
   },
   "outputs": [
    {
     "name": "stdout",
     "output_type": "stream",
     "text": [
      "Epoch 1/4000\n",
      "141/141 [==============================] - 2s 5ms/step - loss: 1.4570 - acc: 0.5104 - val_loss: 1.2184 - val_acc: 0.5660\n",
      "\n",
      "Epoch 00001: saving model to best_model.h5\n",
      "Epoch 2/4000\n",
      "141/141 [==============================] - 1s 4ms/step - loss: 1.2263 - acc: 0.5398 - val_loss: 1.2134 - val_acc: 0.5660\n",
      "\n",
      "Epoch 00002: saving model to best_model.h5\n",
      "Epoch 3/4000\n",
      "141/141 [==============================] - 1s 4ms/step - loss: 1.2304 - acc: 0.5373 - val_loss: 1.1978 - val_acc: 0.5760\n",
      "\n",
      "Epoch 00003: saving model to best_model.h5\n",
      "Epoch 4/4000\n",
      "141/141 [==============================] - 1s 4ms/step - loss: 1.2193 - acc: 0.5462 - val_loss: 1.1988 - val_acc: 0.5720\n",
      "\n",
      "Epoch 00004: saving model to best_model.h5\n",
      "Epoch 5/4000\n",
      "141/141 [==============================] - 1s 4ms/step - loss: 1.1958 - acc: 0.5610 - val_loss: 1.1928 - val_acc: 0.5700\n",
      "\n",
      "Epoch 00005: saving model to best_model.h5\n",
      "Epoch 6/4000\n",
      "141/141 [==============================] - 1s 4ms/step - loss: 1.1851 - acc: 0.5648 - val_loss: 1.1907 - val_acc: 0.5680\n",
      "\n",
      "Epoch 00006: saving model to best_model.h5\n",
      "Epoch 7/4000\n",
      "141/141 [==============================] - 1s 4ms/step - loss: 1.1933 - acc: 0.5594 - val_loss: 1.1926 - val_acc: 0.5680\n",
      "\n",
      "Epoch 00007: saving model to best_model.h5\n",
      "Epoch 8/4000\n",
      "141/141 [==============================] - 0s 4ms/step - loss: 1.1739 - acc: 0.5651 - val_loss: 1.1810 - val_acc: 0.5680\n",
      "Restoring model weights from the end of the best epoch.\n",
      "\n",
      "Epoch 00008: saving model to best_model.h5\n",
      "Epoch 00008: early stopping\n"
     ]
    }
   ],
   "source": [
    "''' Fit your network - don't forget the use of EarlyStopping and other callbacks.'''\n",
    "\n",
    "es = tf.keras.callbacks.EarlyStopping(monitor='val_acc', \n",
    "                                      mode='max', \n",
    "                                      patience=5, \n",
    "                                      restore_best_weights=True, \n",
    "                                      verbose=1)\n",
    "\n",
    "mc = tf.keras.callbacks.ModelCheckpoint('best_model.h5', \n",
    "                                        monitor='val_acc', \n",
    "                                        mode='max', \n",
    "                                        save_best_only=False, \n",
    "                                        verbose=1)\n",
    "\n",
    "# fit model\n",
    "history2 = model.fit(X_train_enc, \n",
    "                     y_train, \n",
    "                     validation_split=0.1, \n",
    "                     epochs=4000, \n",
    "                     callbacks=[es, mc], \n",
    "                     verbose=1)"
   ]
  },
  {
   "cell_type": "code",
   "execution_count": 21,
   "metadata": {
    "ExecuteTime": {
     "end_time": "2021-01-12T17:02:40.081215Z",
     "start_time": "2021-01-12T17:02:39.617646Z"
    }
   },
   "outputs": [
    {
     "data": {
      "text/plain": [
       "('acc=', 0.578, 'f1', 0.6984007286563512)"
      ]
     },
     "execution_count": 21,
     "metadata": {},
     "output_type": "execute_result"
    }
   ],
   "source": [
    "from sklearn.metrics import f1_score, accuracy_score\n",
    "\n",
    "y_pred = model.predict(X_test_enc)\n",
    "y_pred = np.argmax(y_pred, axis=1)\n",
    "\n",
    "model2_accuracy = accuracy_score(y_pred, y_test)\n",
    "model2_f1_score = f1_score(y_pred, y_test, average=\"weighted\")\n",
    "\n",
    "# print(y_pred.shape, y_test.shape, X_test_enc.shape)\n",
    "\n",
    "\"acc=\", model2_accuracy, \"f1\", model2_f1_score"
   ]
  },
  {
   "cell_type": "markdown",
   "metadata": {},
   "source": [
    "#### Stage 3 - build a bi-directional recurrent network and use all hidden state\n",
    "\n",
    "* <span style=\"color:red\">stage 3: build a bi-directional recurrent network and all hidden state as an input of a classifier.\n",
    "    \n",
    "![image](https://mlwhiz.com/images/birnn.png)"
   ]
  },
  {
   "cell_type": "code",
   "execution_count": 22,
   "metadata": {
    "ExecuteTime": {
     "end_time": "2021-01-12T17:02:40.096627Z",
     "start_time": "2021-01-12T17:02:40.091314Z"
    }
   },
   "outputs": [
    {
     "name": "stdout",
     "output_type": "stream",
     "text": [
      "Model: \"model_2\"\n",
      "_________________________________________________________________\n",
      "Layer (type)                 Output Shape              Param #   \n",
      "=================================================================\n",
      "input_3 (InputLayer)         [(None, 10)]              0         \n",
      "_________________________________________________________________\n",
      "embedding_2 (Embedding)      (None, 10, 8)             160       \n",
      "_________________________________________________________________\n",
      "bidirectional (Bidirectional (None, 10, 256)           140288    \n",
      "_________________________________________________________________\n",
      "average_pooling1d_1 (Average (None, 5, 256)            0         \n",
      "_________________________________________________________________\n",
      "flatten_1 (Flatten)          (None, 1280)              0         \n",
      "_________________________________________________________________\n",
      "dense_3 (Dense)              (None, 256)               327936    \n",
      "_________________________________________________________________\n",
      "dense_4 (Dense)              (None, 5)                 1285      \n",
      "=================================================================\n",
      "Total params: 469,669\n",
      "Trainable params: 469,669\n",
      "Non-trainable params: 0\n",
      "_________________________________________________________________\n"
     ]
    }
   ],
   "source": [
    "''' Put your work here '''\n",
    "from tensorflow.keras.layers import Bidirectional\n",
    "\n",
    "# This returns a tensor\n",
    "inputs = Input(shape=(SEQUENCE_SIZE,))\n",
    "\n",
    "# Word embedding\n",
    "embedding = Embedding(VOCABULARY_SIZE,\n",
    "                      EMBEDDING_SIZE,\n",
    "                      input_length=SEQUENCE_SIZE)(inputs)\n",
    "#LSTM layer\n",
    "output_1 = Bidirectional(LSTM(128, return_sequences=True, activation='relu'))(embedding)\n",
    "#Average layer\n",
    "average_1 = AveragePooling1D()(output_1)\n",
    "output_4 = Flatten()(average_1)\n",
    "#Dense layer\n",
    "dense = Dense(256, activation='relu')(output_4)\n",
    "#Output layer\n",
    "predictions = Dense(nb_classes, activation='softmax')(dense)\n",
    "\n",
    "# build model\n",
    "model = Model(inputs=inputs, outputs=predictions)\n",
    "# compile model\n",
    "model.compile(optimizer='adam',\n",
    "              loss='sparse_categorical_crossentropy',\n",
    "              metrics=['acc'])\n",
    "\n",
    "model.summary()"
   ]
  },
  {
   "cell_type": "code",
   "execution_count": 23,
   "metadata": {
    "ExecuteTime": {
     "end_time": "2021-01-12T17:02:39.133690Z",
     "start_time": "2021-01-12T17:02:28.121249Z"
    },
    "scrolled": false
   },
   "outputs": [
    {
     "name": "stdout",
     "output_type": "stream",
     "text": [
      "Epoch 1/4000\n",
      "141/141 [==============================] - 3s 11ms/step - loss: 1.3324 - acc: 0.5207 - val_loss: 1.2206 - val_acc: 0.5660\n",
      "\n",
      "Epoch 00001: saving model to best_model.h5\n",
      "Epoch 2/4000\n",
      "141/141 [==============================] - 1s 9ms/step - loss: 1.2086 - acc: 0.5439 - val_loss: 1.2045 - val_acc: 0.5620\n",
      "\n",
      "Epoch 00002: saving model to best_model.h5\n",
      "Epoch 3/4000\n",
      "141/141 [==============================] - 1s 9ms/step - loss: 1.2019 - acc: 0.5581 - val_loss: 1.2010 - val_acc: 0.5740\n",
      "\n",
      "Epoch 00003: saving model to best_model.h5\n",
      "Epoch 4/4000\n",
      "141/141 [==============================] - 1s 9ms/step - loss: 1.1854 - acc: 0.5577 - val_loss: 1.1894 - val_acc: 0.5720\n",
      "\n",
      "Epoch 00004: saving model to best_model.h5\n",
      "Epoch 5/4000\n",
      "141/141 [==============================] - 1s 9ms/step - loss: 1.2035 - acc: 0.5558 - val_loss: 1.1952 - val_acc: 0.5680\n",
      "\n",
      "Epoch 00005: saving model to best_model.h5\n",
      "Epoch 6/4000\n",
      "141/141 [==============================] - 1s 10ms/step - loss: 1.1604 - acc: 0.5690 - val_loss: 1.1922 - val_acc: 0.5680\n",
      "\n",
      "Epoch 00006: saving model to best_model.h5\n",
      "Epoch 7/4000\n",
      "141/141 [==============================] - 2s 12ms/step - loss: 1.1555 - acc: 0.5665 - val_loss: 1.1886 - val_acc: 0.5680\n",
      "\n",
      "Epoch 00007: saving model to best_model.h5\n",
      "Epoch 8/4000\n",
      "141/141 [==============================] - 2s 16ms/step - loss: 1.1504 - acc: 0.5742 - val_loss: 1.1846 - val_acc: 0.5640\n",
      "Restoring model weights from the end of the best epoch.\n",
      "\n",
      "Epoch 00008: saving model to best_model.h5\n",
      "Epoch 00008: early stopping\n"
     ]
    }
   ],
   "source": [
    "''' Fit your network - don't forget the use of EarlyStopping and other callbacks.'''\n",
    "\n",
    "es = tf.keras.callbacks.EarlyStopping(\n",
    "    monitor='val_acc', \n",
    "    mode='max', \n",
    "    patience=5, \n",
    "    restore_best_weights=True, \n",
    "    verbose=1\n",
    ")\n",
    "mc = tf.keras.callbacks.ModelCheckpoint(\n",
    "    'best_model.h5', \n",
    "    monitor='val_acc', \n",
    "    mode='max', \n",
    "    save_best_only=False, \n",
    "    verbose=1\n",
    ")\n",
    "\n",
    "# fit model\n",
    "history3 = model.fit(X_train_enc, \n",
    "                    y_train, \n",
    "                    validation_split=0.1, \n",
    "                    epochs=4000, \n",
    "                    callbacks=[es, mc], \n",
    "                    verbose=1)"
   ]
  },
  {
   "cell_type": "code",
   "execution_count": 24,
   "metadata": {
    "ExecuteTime": {
     "end_time": "2021-01-12T17:02:40.081215Z",
     "start_time": "2021-01-12T17:02:39.617646Z"
    }
   },
   "outputs": [
    {
     "data": {
      "text/plain": [
       "('acc=', 0.59, 'f1', 0.7041183694252253)"
      ]
     },
     "execution_count": 24,
     "metadata": {},
     "output_type": "execute_result"
    }
   ],
   "source": [
    "from sklearn.metrics import f1_score, accuracy_score\n",
    "\n",
    "y_pred = model.predict(X_test_enc)\n",
    "y_pred = np.argmax(y_pred, axis=1)\n",
    "\n",
    "model3_accuracy = accuracy_score(y_pred, y_test)\n",
    "model3_f1_score = f1_score(y_pred, y_test, average=\"weighted\")\n",
    "\n",
    "# print(y_pred.shape, y_test.shape, X_test_enc.shape)\n",
    "\n",
    "\"acc=\", model3_accuracy, \"f1\", model3_f1_score"
   ]
  },
  {
   "cell_type": "markdown",
   "metadata": {
    "ExecuteTime": {
     "end_time": "2021-01-08T09:27:24.506668Z",
     "start_time": "2021-01-08T09:27:24.503432Z"
    }
   },
   "source": [
    "### Conclusion\n",
    "\n",
    "Compare the three approaches with the previous results."
   ]
  },
  {
   "cell_type": "markdown",
   "metadata": {},
   "source": [
    "## Case Study: RNN for Naming Entity Recognition\n",
    "\n",
    "Named entity recognition (NER) ‒ also called entity identification or entity extraction ‒ is an AI technique that automatically identifies named entities in a text and classifies them into predefined categories. Entities can be names of people, organizations, locations, times, quantities, monetary values, percentages, and more.\n",
    "\n",
    "Extracting these entities helps businesses easily analyze huge amounts of unstructured data, like emails, open-ended survey responses, social media conversations, and more.\n",
    "\n",
    "![image](https://monkeylearn.com/static/d0575562cdedb47340c00662c5c1b859/80132/Example.png)"
   ]
  },
  {
   "cell_type": "markdown",
   "metadata": {},
   "source": [
    "### Read the dataset"
   ]
  },
  {
   "cell_type": "code",
   "execution_count": 25,
   "metadata": {
    "ExecuteTime": {
     "end_time": "2021-01-12T17:02:43.105021Z",
     "start_time": "2021-01-12T17:02:40.099547Z"
    }
   },
   "outputs": [
    {
     "data": {
      "text/html": [
       "<div>\n",
       "<style scoped>\n",
       "    .dataframe tbody tr th:only-of-type {\n",
       "        vertical-align: middle;\n",
       "    }\n",
       "\n",
       "    .dataframe tbody tr th {\n",
       "        vertical-align: top;\n",
       "    }\n",
       "\n",
       "    .dataframe thead th {\n",
       "        text-align: right;\n",
       "    }\n",
       "</style>\n",
       "<table border=\"1\" class=\"dataframe\">\n",
       "  <thead>\n",
       "    <tr style=\"text-align: right;\">\n",
       "      <th></th>\n",
       "      <th>Sentence #</th>\n",
       "      <th>Word</th>\n",
       "      <th>POS</th>\n",
       "      <th>Tag</th>\n",
       "    </tr>\n",
       "  </thead>\n",
       "  <tbody>\n",
       "    <tr>\n",
       "      <th>0</th>\n",
       "      <td>Sentence: 1</td>\n",
       "      <td>Thousands</td>\n",
       "      <td>NNS</td>\n",
       "      <td>O</td>\n",
       "    </tr>\n",
       "    <tr>\n",
       "      <th>1</th>\n",
       "      <td>NaN</td>\n",
       "      <td>of</td>\n",
       "      <td>IN</td>\n",
       "      <td>O</td>\n",
       "    </tr>\n",
       "    <tr>\n",
       "      <th>2</th>\n",
       "      <td>NaN</td>\n",
       "      <td>demonstrators</td>\n",
       "      <td>NNS</td>\n",
       "      <td>O</td>\n",
       "    </tr>\n",
       "    <tr>\n",
       "      <th>3</th>\n",
       "      <td>NaN</td>\n",
       "      <td>have</td>\n",
       "      <td>VBP</td>\n",
       "      <td>O</td>\n",
       "    </tr>\n",
       "    <tr>\n",
       "      <th>4</th>\n",
       "      <td>NaN</td>\n",
       "      <td>marched</td>\n",
       "      <td>VBN</td>\n",
       "      <td>O</td>\n",
       "    </tr>\n",
       "  </tbody>\n",
       "</table>\n",
       "</div>"
      ],
      "text/plain": [
       "    Sentence #           Word  POS Tag\n",
       "0  Sentence: 1      Thousands  NNS   O\n",
       "1          NaN             of   IN   O\n",
       "2          NaN  demonstrators  NNS   O\n",
       "3          NaN           have  VBP   O\n",
       "4          NaN        marched  VBN   O"
      ]
     },
     "execution_count": 25,
     "metadata": {},
     "output_type": "execute_result"
    }
   ],
   "source": [
    "train_data = pd.read_csv(\"http://www.i3s.unice.fr/~riveill/dataset/NER/ner_train_dataset.csv.gz\", \n",
    "                         encoding=\"latin1\")\n",
    "test_data = pd.read_csv(\"http://www.i3s.unice.fr/~riveill/dataset/NER/ner_test_dataset.csv.gz\", \n",
    "                        encoding=\"latin1\")\n",
    "train_data.head()"
   ]
  },
  {
   "cell_type": "code",
   "execution_count": 26,
   "metadata": {
    "ExecuteTime": {
     "end_time": "2021-01-12T17:02:43.259819Z",
     "start_time": "2021-01-12T17:02:43.109431Z"
    }
   },
   "outputs": [
    {
     "data": {
      "text/html": [
       "<div>\n",
       "<style scoped>\n",
       "    .dataframe tbody tr th:only-of-type {\n",
       "        vertical-align: middle;\n",
       "    }\n",
       "\n",
       "    .dataframe tbody tr th {\n",
       "        vertical-align: top;\n",
       "    }\n",
       "\n",
       "    .dataframe thead th {\n",
       "        text-align: right;\n",
       "    }\n",
       "</style>\n",
       "<table border=\"1\" class=\"dataframe\">\n",
       "  <thead>\n",
       "    <tr style=\"text-align: right;\">\n",
       "      <th></th>\n",
       "      <th>Sentence #</th>\n",
       "      <th>Word</th>\n",
       "      <th>POS</th>\n",
       "      <th>Tag</th>\n",
       "    </tr>\n",
       "  </thead>\n",
       "  <tbody>\n",
       "    <tr>\n",
       "      <th>0</th>\n",
       "      <td>Sentence: 1</td>\n",
       "      <td>Thousands</td>\n",
       "      <td>NNS</td>\n",
       "      <td>O</td>\n",
       "    </tr>\n",
       "    <tr>\n",
       "      <th>1</th>\n",
       "      <td>Sentence: 1</td>\n",
       "      <td>of</td>\n",
       "      <td>IN</td>\n",
       "      <td>O</td>\n",
       "    </tr>\n",
       "    <tr>\n",
       "      <th>2</th>\n",
       "      <td>Sentence: 1</td>\n",
       "      <td>demonstrators</td>\n",
       "      <td>NNS</td>\n",
       "      <td>O</td>\n",
       "    </tr>\n",
       "    <tr>\n",
       "      <th>3</th>\n",
       "      <td>Sentence: 1</td>\n",
       "      <td>have</td>\n",
       "      <td>VBP</td>\n",
       "      <td>O</td>\n",
       "    </tr>\n",
       "    <tr>\n",
       "      <th>4</th>\n",
       "      <td>Sentence: 1</td>\n",
       "      <td>marched</td>\n",
       "      <td>VBN</td>\n",
       "      <td>O</td>\n",
       "    </tr>\n",
       "  </tbody>\n",
       "</table>\n",
       "</div>"
      ],
      "text/plain": [
       "    Sentence #           Word  POS Tag\n",
       "0  Sentence: 1      Thousands  NNS   O\n",
       "1  Sentence: 1             of   IN   O\n",
       "2  Sentence: 1  demonstrators  NNS   O\n",
       "3  Sentence: 1           have  VBP   O\n",
       "4  Sentence: 1        marched  VBN   O"
      ]
     },
     "execution_count": 26,
     "metadata": {},
     "output_type": "execute_result"
    }
   ],
   "source": [
    "train_data = train_data.fillna(method=\"ffill\")\n",
    "test_data = test_data.fillna(method=\"ffill\")\n",
    "train_data.head()"
   ]
  },
  {
   "cell_type": "markdown",
   "metadata": {
    "ExecuteTime": {
     "end_time": "2021-01-12T07:27:50.121027Z",
     "start_time": "2021-01-12T07:27:50.115730Z"
    }
   },
   "source": [
    "For NER or POS tasks, pre-processing is generally not done except to standardize the text a little:\n",
    "- correction of typing errors\n",
    "- homogenization of dates and telephone numbers\n",
    "- lower case setting of the text\n",
    "\n",
    "but very generally, we do not do stemming or lemmatization."
   ]
  },
  {
   "cell_type": "markdown",
   "metadata": {},
   "source": [
    "### Build train and test set"
   ]
  },
  {
   "cell_type": "code",
   "execution_count": 27,
   "metadata": {
    "ExecuteTime": {
     "end_time": "2021-01-12T17:02:43.271693Z",
     "start_time": "2021-01-12T17:02:43.266210Z"
    }
   },
   "outputs": [],
   "source": [
    "class RetrieveSentance(object):\n",
    "    def __init__(self, data):\n",
    "        self.n_sent = 1\n",
    "        self.data = data\n",
    "        self.empty = False\n",
    "        function = lambda s: [(w, p, t) for w, p, t in zip(s[\"Word\"].values.tolist(),\n",
    "                                                           s[\"POS\"].values.tolist(),\n",
    "                                                           s[\"Tag\"].values.tolist())]\n",
    "        self.grouped = self.data.groupby(\"Sentence #\").apply(function)\n",
    "        self.sentences = [s for s in self.grouped]\n",
    "    \n",
    "    def retrieve(self):\n",
    "        try:\n",
    "            s = self.grouped[\"Sentence: {}\".format(self.n_sent)]\n",
    "            self.n_sent += 1\n",
    "            return s\n",
    "        except:\n",
    "            return None"
   ]
  },
  {
   "cell_type": "code",
   "execution_count": 28,
   "metadata": {
    "ExecuteTime": {
     "end_time": "2021-01-12T17:02:45.736536Z",
     "start_time": "2021-01-12T17:02:43.277312Z"
    }
   },
   "outputs": [],
   "source": [
    "train = RetrieveSentance(train_data)\n",
    "test = RetrieveSentance(test_data)"
   ]
  },
  {
   "cell_type": "code",
   "execution_count": 29,
   "metadata": {
    "ExecuteTime": {
     "end_time": "2021-01-12T17:02:45.830939Z",
     "start_time": "2021-01-12T17:02:45.738519Z"
    }
   },
   "outputs": [],
   "source": [
    "# Build train set (X)\n",
    "X_train = [[s[0].lower() for s in sent] for sent in train.sentences]\n",
    "X_test = [[s[0].lower() for s in sent] for sent in test.sentences]"
   ]
  },
  {
   "cell_type": "code",
   "execution_count": 30,
   "metadata": {
    "ExecuteTime": {
     "end_time": "2021-01-12T17:02:45.879217Z",
     "start_time": "2021-01-12T17:02:45.834675Z"
    },
    "scrolled": false
   },
   "outputs": [],
   "source": [
    "# Build train set (y)\n",
    "y_train = [[s[2] for s in sent] for sent in train.sentences]\n",
    "y_test = [[s[2] for s in sent] for sent in test.sentences]"
   ]
  },
  {
   "cell_type": "code",
   "execution_count": 31,
   "metadata": {},
   "outputs": [
    {
     "name": "stdout",
     "output_type": "stream",
     "text": [
      "14999 14999 15000 15000\n"
     ]
    }
   ],
   "source": [
    "print(len(X_train), len(y_train), len(X_test), len(y_test))"
   ]
  },
  {
   "cell_type": "code",
   "execution_count": 32,
   "metadata": {
    "ExecuteTime": {
     "end_time": "2021-01-12T17:02:45.888847Z",
     "start_time": "2021-01-12T17:02:45.883416Z"
    }
   },
   "outputs": [],
   "source": [
    "assert len(X_train)==len(y_train)\n",
    "assert len(X_test)==len(y_test)"
   ]
  },
  {
   "cell_type": "code",
   "execution_count": 33,
   "metadata": {
    "ExecuteTime": {
     "end_time": "2021-01-12T17:02:45.971822Z",
     "start_time": "2021-01-12T17:02:45.893382Z"
    }
   },
   "outputs": [],
   "source": [
    "# Defines the vocabulary\n",
    "import itertools\n",
    "\n",
    "WORDS = set(itertools.chain(*X_train))\n",
    "TAGS = sorted(set(itertools.chain(*y_train)))\n",
    "vocab_size = len(WORDS)+2 # \"UNK\" and \"PAD\"\n",
    "nb_classes = len(TAGS)+1  # \"PAD\""
   ]
  },
  {
   "cell_type": "code",
   "execution_count": 34,
   "metadata": {
    "ExecuteTime": {
     "end_time": "2021-01-12T17:02:45.980863Z",
     "start_time": "2021-01-12T17:02:45.974611Z"
    }
   },
   "outputs": [
    {
     "name": "stdout",
     "output_type": "stream",
     "text": [
      "========================================\n",
      "vocabulary size: 18342\n",
      "class number: 18\n",
      "number sentences in train 14999\n"
     ]
    }
   ],
   "source": [
    "print(\"=\"*40)\n",
    "print(\"vocabulary size:\", vocab_size)\n",
    "print(\"class number:\", nb_classes)\n",
    "print(\"number sentences in train\", len(X_train))"
   ]
  },
  {
   "cell_type": "markdown",
   "metadata": {},
   "source": [
    "### Encode the train and test set"
   ]
  },
  {
   "cell_type": "code",
   "execution_count": 35,
   "metadata": {
    "ExecuteTime": {
     "end_time": "2021-01-12T17:02:46.007454Z",
     "start_time": "2021-01-12T17:02:45.993439Z"
    }
   },
   "outputs": [],
   "source": [
    "# word is key and its value is corresponding index\n",
    "word2idx = {w : i + 2 for i, w in enumerate(WORDS)}\n",
    "word2idx[\"UNK\"] = 1\n",
    "word2idx[\"PAD\"] = 0\n",
    "\n",
    "# Dictionary label:index pair\n",
    "# label is key and value is index.\n",
    "tag2idx = {t : i + 1 for i, t in enumerate(TAGS)}\n",
    "tag2idx[\"PAD\"] = 0\n",
    "\n",
    "# Build reverse dictionnary\n",
    "idx2word = {i: w for w, i in word2idx.items()}\n",
    "idx2tag = {i: w for w, i in tag2idx.items()}"
   ]
  },
  {
   "cell_type": "code",
   "execution_count": 36,
   "metadata": {
    "ExecuteTime": {
     "end_time": "2021-01-12T17:02:46.017448Z",
     "start_time": "2021-01-12T17:02:46.010760Z"
    }
   },
   "outputs": [],
   "source": [
    "#Folds each sentence that is longer than LINE_SIZE\n",
    "def folds_sentences(X, y, size=60):\n",
    "    X2 = []\n",
    "    y2 = []\n",
    "    for x_sent, t_sent in zip(X, y):\n",
    "        X_ = []\n",
    "        y_ = []\n",
    "        for x, y in zip(x_sent, t_sent):\n",
    "            if len(X_)==size:\n",
    "                # We've reached the maximum size for one line, so we're starting a new line.\n",
    "                X2 += [X_]\n",
    "                y2 += [y_]\n",
    "                X_ = [x]\n",
    "                y_ = [y]\n",
    "            else:\n",
    "                X_ += [x]\n",
    "                y_ += [y]\n",
    "        X2 += [X_]\n",
    "        y2 += [y_]\n",
    "    return X2, y2"
   ]
  },
  {
   "cell_type": "code",
   "execution_count": 37,
   "metadata": {
    "ExecuteTime": {
     "end_time": "2021-01-12T17:02:46.024103Z",
     "start_time": "2021-01-12T17:02:46.020310Z"
    }
   },
   "outputs": [],
   "source": [
    "# Converts each sentence into list of index\n",
    "def encode_sentences(S, dictionnary):\n",
    "    return [[dictionnary[w] if w in dictionnary.keys() else dictionnary[\"UNK\"] for w in s] for s in S]"
   ]
  },
  {
   "cell_type": "code",
   "execution_count": 38,
   "metadata": {
    "ExecuteTime": {
     "end_time": "2021-01-12T17:02:46.031233Z",
     "start_time": "2021-01-12T17:02:46.027545Z"
    }
   },
   "outputs": [],
   "source": [
    "# Adds padding\n",
    "def add_padding(S, size, pad_id=0):\n",
    "    return tf.keras.preprocessing.sequence.pad_sequences(maxlen=size, sequences=S, padding=\"post\", value=pad_id)"
   ]
  },
  {
   "cell_type": "code",
   "execution_count": 39,
   "metadata": {
    "ExecuteTime": {
     "end_time": "2021-01-12T17:02:47.259436Z",
     "start_time": "2021-01-12T17:02:46.034496Z"
    }
   },
   "outputs": [],
   "source": [
    "# Do all at the same time\n",
    "import tensorflow as tf\n",
    "\n",
    "LINE_SIZE = 10\n",
    "\n",
    "def embed_sentences(X, y, word2idx, tag2idx, size=60):\n",
    "    X, y = folds_sentences(X, y, LINE_SIZE)\n",
    "    X_enc = encode_sentences(X, word2idx)\n",
    "    y_enc = encode_sentences(y, tag2idx)\n",
    "    X_enc = add_padding(X_enc, size, word2idx[\"PAD\"])\n",
    "    y_enc = add_padding(y_enc, size, tag2idx[\"PAD\"])    \n",
    "    return X_enc, y_enc\n",
    "\n",
    "X_train_enc, y_train_enc = embed_sentences(X_train, y_train, word2idx, tag2idx, LINE_SIZE)"
   ]
  },
  {
   "cell_type": "code",
   "execution_count": 40,
   "metadata": {
    "ExecuteTime": {
     "end_time": "2021-01-12T17:02:47.268988Z",
     "start_time": "2021-01-12T17:02:47.263378Z"
    }
   },
   "outputs": [
    {
     "data": {
      "text/plain": [
       "((39471, 10), (39471, 10))"
      ]
     },
     "execution_count": 40,
     "metadata": {},
     "output_type": "execute_result"
    }
   ],
   "source": [
    "X_train_enc.shape, y_train_enc.shape"
   ]
  },
  {
   "cell_type": "code",
   "execution_count": 41,
   "metadata": {
    "ExecuteTime": {
     "end_time": "2021-01-12T17:02:47.276860Z",
     "start_time": "2021-01-12T17:02:47.271723Z"
    }
   },
   "outputs": [
    {
     "name": "stdout",
     "output_type": "stream",
     "text": [
      "*****Before Processing first sentence: *****\n",
      " thousands of demonstrators have marched through london to protest the war in iraq and demand the withdrawal of british troops from that country .\n",
      "*****After Processing first sentence: *****\n",
      "  [  944   125  2327   682  8172   335  8985  3545 17983 16177]\n"
     ]
    }
   ],
   "source": [
    "# Let's check the first sentence before and after processing.\n",
    "print('*****Before Processing first sentence: *****\\n', ' '.join([w for w in X_train[0]]))\n",
    "print('*****After Processing first sentence: *****\\n ', X_train_enc[0])"
   ]
  },
  {
   "cell_type": "code",
   "execution_count": 42,
   "metadata": {
    "ExecuteTime": {
     "end_time": "2021-01-12T17:02:47.296796Z",
     "start_time": "2021-01-12T17:02:47.289142Z"
    }
   },
   "outputs": [
    {
     "name": "stdout",
     "output_type": "stream",
     "text": [
      "*****Before Processing first sentence: *****\n",
      " O O O O O O B-geo O O O O O B-geo O O O O O B-gpe O O O O O\n",
      "*****After Processing first sentence: *****\n",
      "  [17 17 17 17 17 17  3 17 17 17]\n"
     ]
    }
   ],
   "source": [
    "# First sentence label before and after processing.\n",
    "print('*****Before Processing first sentence: *****\\n', ' '.join([w for w in y_train[0]]))\n",
    "print('*****After Processing first sentence: *****\\n ', y_train_enc[0])"
   ]
  },
  {
   "cell_type": "code",
   "execution_count": 43,
   "metadata": {
    "ExecuteTime": {
     "end_time": "2021-01-12T17:02:47.307146Z",
     "start_time": "2021-01-12T17:02:47.302101Z"
    }
   },
   "outputs": [],
   "source": [
    "''' You can do the same for test set '''\n",
    "X_test_enc, y_test_enc = embed_sentences(X_test, y_test, word2idx, tag2idx, LINE_SIZE)"
   ]
  },
  {
   "cell_type": "markdown",
   "metadata": {},
   "source": [
    "### A first model with LSTM cell\n",
    "\n",
    "![image](https://confusedcoders.com/wp-content/uploads/2019/12/many_to_many.png)"
   ]
  },
  {
   "cell_type": "markdown",
   "metadata": {},
   "source": [
    "#### Build the network"
   ]
  },
  {
   "cell_type": "code",
   "execution_count": 44,
   "metadata": {
    "ExecuteTime": {
     "end_time": "2021-01-12T17:02:47.316339Z",
     "start_time": "2021-01-12T17:02:47.310491Z"
    }
   },
   "outputs": [],
   "source": [
    "def build_network(input_size, nb_classes,\n",
    "                  EMBEDDING_SIZE=50, RNN_SIZE=25, DENSE_SIZE=50, DROPOUT = 0.2):\n",
    "\n",
    "    inputs = tf.keras.layers.Input(shape=(input_size,))\n",
    "    embed = tf.keras.layers.Embedding(input_dim=vocab_size, \n",
    "                                      output_dim=EMBEDDING_SIZE, \n",
    "                                      input_length=input_size, \n",
    "                                      mask_zero=True)(inputs)\n",
    "    lstm = tf.keras.layers.LSTM(units=RNN_SIZE, \n",
    "                                return_sequences=True, \n",
    "                                recurrent_dropout=DROPOUT)(embed)\n",
    "    dense = tf.keras.layers.Dense(DENSE_SIZE, activation='relu')(lstm)\n",
    "    dense = tf.keras.layers.Dense(DENSE_SIZE//4, activation='relu')(dense)\n",
    "    output = tf.keras.layers.Dense(nb_classes, activation='softmax')(dense)\n",
    "    return tf.keras.models.Model(inputs, output)"
   ]
  },
  {
   "cell_type": "code",
   "execution_count": 45,
   "metadata": {
    "ExecuteTime": {
     "end_time": "2021-01-12T17:02:47.749591Z",
     "start_time": "2021-01-12T17:02:47.320868Z"
    }
   },
   "outputs": [
    {
     "name": "stdout",
     "output_type": "stream",
     "text": [
      "Model: \"model_3\"\n",
      "_________________________________________________________________\n",
      "Layer (type)                 Output Shape              Param #   \n",
      "=================================================================\n",
      "input_4 (InputLayer)         [(None, 10)]              0         \n",
      "_________________________________________________________________\n",
      "embedding_3 (Embedding)      (None, 10, 50)            917100    \n",
      "_________________________________________________________________\n",
      "lstm_3 (LSTM)                (None, 10, 25)            7600      \n",
      "_________________________________________________________________\n",
      "dense_5 (Dense)              (None, 10, 50)            1300      \n",
      "_________________________________________________________________\n",
      "dense_6 (Dense)              (None, 10, 12)            612       \n",
      "_________________________________________________________________\n",
      "dense_7 (Dense)              (None, 10, 18)            234       \n",
      "=================================================================\n",
      "Total params: 926,846\n",
      "Trainable params: 926,846\n",
      "Non-trainable params: 0\n",
      "_________________________________________________________________\n"
     ]
    }
   ],
   "source": [
    "model = build_network(LINE_SIZE, nb_classes)\n",
    "model.summary()"
   ]
  },
  {
   "cell_type": "markdown",
   "metadata": {},
   "source": [
    "#### Fit the network"
   ]
  },
  {
   "cell_type": "code",
   "execution_count": 46,
   "metadata": {
    "ExecuteTime": {
     "end_time": "2021-01-12T17:02:47.774670Z",
     "start_time": "2021-01-12T17:02:47.760586Z"
    }
   },
   "outputs": [],
   "source": [
    "def fit_network(model, X, y, BATCH_SIZE, loss, metrics):\n",
    "    epochs=10\n",
    "\n",
    "    es = tf.keras.callbacks.EarlyStopping(monitor='val_loss', mode='min', restore_best_weights=True, verbose=1, patience=5)\n",
    "    mc = tf.keras.callbacks.ModelCheckpoint('best_model_lstm.h5', monitor='val_accuracy', mode='max', verbose=1, save_best_only=True)\n",
    "\n",
    "    model.compile(optimizer='adam', loss=loss, metrics=metrics)\n",
    "    return model.fit(X, y,\n",
    "                      batch_size= BATCH_SIZE,\n",
    "                      epochs=epochs,\n",
    "                      validation_split=0.1,\n",
    "                      callbacks=[mc, es])"
   ]
  },
  {
   "cell_type": "code",
   "execution_count": 47,
   "metadata": {
    "ExecuteTime": {
     "end_time": "2021-01-12T17:04:51.076339Z",
     "start_time": "2021-01-12T17:02:47.778939Z"
    },
    "scrolled": true
   },
   "outputs": [
    {
     "name": "stdout",
     "output_type": "stream",
     "text": [
      "Epoch 1/10\n",
      "2221/2221 [==============================] - 33s 14ms/step - loss: 0.6796 - accuracy: 0.8566 - val_loss: 0.2363 - val_accuracy: 0.9222\n",
      "\n",
      "Epoch 00001: val_accuracy improved from -inf to 0.92216, saving model to best_model_lstm.h5\n",
      "Epoch 2/10\n",
      "2221/2221 [==============================] - 29s 13ms/step - loss: 0.2010 - accuracy: 0.9322 - val_loss: 0.1869 - val_accuracy: 0.9388\n",
      "\n",
      "Epoch 00002: val_accuracy improved from 0.92216 to 0.93884, saving model to best_model_lstm.h5\n",
      "Epoch 3/10\n",
      "2221/2221 [==============================] - 30s 13ms/step - loss: 0.1417 - accuracy: 0.9510 - val_loss: 0.1716 - val_accuracy: 0.9411\n",
      "\n",
      "Epoch 00003: val_accuracy improved from 0.93884 to 0.94108, saving model to best_model_lstm.h5\n",
      "Epoch 4/10\n",
      "2221/2221 [==============================] - 30s 14ms/step - loss: 0.1164 - accuracy: 0.9574 - val_loss: 0.1713 - val_accuracy: 0.9418\n",
      "\n",
      "Epoch 00004: val_accuracy improved from 0.94108 to 0.94184, saving model to best_model_lstm.h5\n",
      "Epoch 5/10\n",
      "2221/2221 [==============================] - 30s 13ms/step - loss: 0.0996 - accuracy: 0.9620 - val_loss: 0.1746 - val_accuracy: 0.9425\n",
      "\n",
      "Epoch 00005: val_accuracy improved from 0.94184 to 0.94248, saving model to best_model_lstm.h5\n",
      "Epoch 6/10\n",
      "2221/2221 [==============================] - 29s 13ms/step - loss: 0.0937 - accuracy: 0.9642 - val_loss: 0.1744 - val_accuracy: 0.9432\n",
      "\n",
      "Epoch 00006: val_accuracy improved from 0.94248 to 0.94319, saving model to best_model_lstm.h5\n",
      "Epoch 7/10\n",
      "2221/2221 [==============================] - 29s 13ms/step - loss: 0.0849 - accuracy: 0.9669 - val_loss: 0.1751 - val_accuracy: 0.9429\n",
      "\n",
      "Epoch 00007: val_accuracy did not improve from 0.94319\n",
      "Epoch 8/10\n",
      "2221/2221 [==============================] - 30s 13ms/step - loss: 0.0782 - accuracy: 0.9691 - val_loss: 0.1801 - val_accuracy: 0.9402\n",
      "\n",
      "Epoch 00008: val_accuracy did not improve from 0.94319\n",
      "Epoch 9/10\n",
      "2221/2221 [==============================] - 29s 13ms/step - loss: 0.0696 - accuracy: 0.9725 - val_loss: 0.1922 - val_accuracy: 0.9377\n",
      "\n",
      "Epoch 00009: val_accuracy did not improve from 0.94319\n",
      "Restoring model weights from the end of the best epoch.\n",
      "Epoch 00009: early stopping\n"
     ]
    }
   ],
   "source": [
    "BATCH_SIZE = 16\n",
    "\n",
    "history4 = fit_network(model,\n",
    "                      X_train_enc, y_train_enc,\n",
    "                      BATCH_SIZE,\n",
    "                      tf.keras.backend.sparse_categorical_crossentropy,\n",
    "                      ['accuracy'])"
   ]
  },
  {
   "cell_type": "code",
   "execution_count": 48,
   "metadata": {
    "ExecuteTime": {
     "end_time": "2021-01-12T17:04:51.083469Z",
     "start_time": "2021-01-12T17:04:51.078554Z"
    }
   },
   "outputs": [],
   "source": [
    "def plot_learning_curve(history, loss='loss', acc='acc'):\n",
    "    fig = plt.figure(figsize = (16, 4))\n",
    "\n",
    "    plt.subplot(121)\n",
    "    plt.plot(history4.history[loss], label='Training loss')\n",
    "    plt.plot(history4.history['val_'+loss], label='Validation loss')\n",
    "    plt.title('Training and validation loss')\n",
    "    plt.legend()\n",
    "\n",
    "    plt.subplot(122)\n",
    "    plt.plot(history4.history[acc], label='Training acc')\n",
    "    plt.plot(history4.history['val_'+acc], label='Validation acc')\n",
    "    plt.title('Training and validation accuracy')\n",
    "    plt.legend()\n",
    "\n",
    "    plt.show()"
   ]
  },
  {
   "cell_type": "code",
   "execution_count": 49,
   "metadata": {
    "ExecuteTime": {
     "end_time": "2021-01-12T17:04:51.516455Z",
     "start_time": "2021-01-12T17:04:51.085898Z"
    }
   },
   "outputs": [
    {
     "data": {
      "image/png": "[encoded data removed]",
      "text/plain": [
       "<Figure size 1152x288 with 2 Axes>"
      ]
     },
     "metadata": {
      "needs_background": "light"
     },
     "output_type": "display_data"
    }
   ],
   "source": [
    "plot_learning_curve(history4, 'loss', 'accuracy')"
   ]
  },
  {
   "cell_type": "markdown",
   "metadata": {},
   "source": [
    "#### Evaluate the model"
   ]
  },
  {
   "cell_type": "code",
   "execution_count": 50,
   "metadata": {
    "ExecuteTime": {
     "end_time": "2021-01-12T17:04:51.528140Z",
     "start_time": "2021-01-12T17:04:51.519188Z"
    }
   },
   "outputs": [],
   "source": [
    "from seqeval.metrics import f1_score\n",
    "from seqeval.metrics import classification_report\n",
    "\n",
    "def evaluate(model, X_enc, y_enc, size):\n",
    "    def decode(y, dictionnary=idx2tag):\n",
    "        if len(y.shape)==3:\n",
    "            y = np.argmax(y, axis=-1)\n",
    "        return [[dictionnary[i] if dictionnary[i]!=\"PAD\" else \"O\" for i in row] for row in y]\n",
    "\n",
    "    y_pred_enc = model.predict(X_enc)\n",
    "    F1_score = f1_score(y_pred=decode(y_pred_enc), y_true=decode(y_enc))\n",
    "    print(\"F1-score is : {:.1%}\".format(F1_score))\n",
    "    \n",
    "    report = classification_report(y_pred=decode(y_pred_enc), y_true=decode(y_enc))\n",
    "    print(report)"
   ]
  },
  {
   "cell_type": "code",
   "execution_count": 51,
   "metadata": {
    "ExecuteTime": {
     "end_time": "2021-01-12T17:05:05.547536Z",
     "start_time": "2021-01-12T17:04:51.530368Z"
    }
   },
   "outputs": [
    {
     "name": "stdout",
     "output_type": "stream",
     "text": [
      "F1-score is : 67.9%\n"
     ]
    },
    {
     "name": "stderr",
     "output_type": "stream",
     "text": [
      "/home/qlr/anaconda3/lib/python3.8/site-packages/seqeval/metrics/v1.py:57: UndefinedMetricWarning: Precision and F-score are ill-defined and being set to 0.0 in labels with no predicted samples. Use `zero_division` parameter to control this behavior.\n",
      "  _warn_prf(average, modifier, msg_start, len(result))\n"
     ]
    },
    {
     "name": "stdout",
     "output_type": "stream",
     "text": [
      "              precision    recall  f1-score   support\n",
      "\n",
      "         art       0.00      0.00      0.00       117\n",
      "         eve       0.00      0.00      0.00        95\n",
      "         geo       0.75      0.79      0.77     12166\n",
      "         gpe       0.91      0.93      0.92      4738\n",
      "         nat       0.00      0.00      0.00        49\n",
      "         org       0.38      0.36      0.37      6610\n",
      "         per       0.61      0.52      0.56      5645\n",
      "         tim       0.79      0.73      0.76      6632\n",
      "\n",
      "   micro avg       0.69      0.67      0.68     36052\n",
      "   macro avg       0.43      0.42      0.42     36052\n",
      "weighted avg       0.68      0.67      0.67     36052\n",
      "\n"
     ]
    }
   ],
   "source": [
    "evaluate(model, X_test_enc, y_test_enc, LINE_SIZE)"
   ]
  },
  {
   "cell_type": "markdown",
   "metadata": {},
   "source": [
    "### A second model with stacked layers of Bi-LSTM cell\n",
    "\n",
    "Do the same with BI-LSTM cell. Eventually, use more than one Bi-LSTM layers\n",
    "\n",
    "![image](https://www.researchgate.net/profile/Robert_Gao/publication/325564535/figure/fig2/AS:690279778615307@1541586932678/Diagram-of-a-two-layer-bi-directional-LSTM-network.png)"
   ]
  },
  {
   "cell_type": "markdown",
   "metadata": {},
   "source": [
    "#### Build the network"
   ]
  },
  {
   "cell_type": "code",
   "execution_count": 52,
   "metadata": {},
   "outputs": [
    {
     "name": "stdout",
     "output_type": "stream",
     "text": [
      "Model: \"model_4\"\n",
      "_________________________________________________________________\n",
      "Layer (type)                 Output Shape              Param #   \n",
      "=================================================================\n",
      "input_5 (InputLayer)         [(None, 10)]              0         \n",
      "_________________________________________________________________\n",
      "embedding_4 (Embedding)      (None, 10, 50)            917100    \n",
      "_________________________________________________________________\n",
      "bidirectional_1 (Bidirection (None, 10, 50)            15200     \n",
      "_________________________________________________________________\n",
      "bidirectional_2 (Bidirection (None, 10, 50)            15200     \n",
      "_________________________________________________________________\n",
      "dense_8 (Dense)              (None, 10, 50)            2550      \n",
      "_________________________________________________________________\n",
      "dense_9 (Dense)              (None, 10, 12)            612       \n",
      "_________________________________________________________________\n",
      "dense_10 (Dense)             (None, 10, 18)            234       \n",
      "=================================================================\n",
      "Total params: 950,896\n",
      "Trainable params: 950,896\n",
      "Non-trainable params: 0\n",
      "_________________________________________________________________\n"
     ]
    }
   ],
   "source": [
    "def build_network(input_size, nb_classes,\n",
    "                  EMBEDDING_SIZE=50, \n",
    "                  RNN_SIZE=25, \n",
    "                  DENSE_SIZE=50, \n",
    "                  DROPOUT = 0.2):\n",
    "    inputs = tf.keras.layers.Input(shape=(input_size,))\n",
    "    embed = tf.keras.layers.Embedding(input_dim=vocab_size, output_dim=EMBEDDING_SIZE, input_length=input_size, mask_zero=True)(inputs)\n",
    "    lstm1 = tf.keras.layers.Bidirectional(\n",
    "        tf.keras.layers.LSTM(units=RNN_SIZE, return_sequences=True, recurrent_dropout=DROPOUT),\n",
    "        merge_mode=\"concat\"\n",
    "    )(embed)\n",
    "    lstm2 = tf.keras.layers.Bidirectional(\n",
    "        tf.keras.layers.LSTM(units=RNN_SIZE, return_sequences=True, recurrent_dropout=DROPOUT),\n",
    "        merge_mode=\"concat\"\n",
    "    )(lstm1)\n",
    "    dense = tf.keras.layers.Dense(DENSE_SIZE, activation='relu')(lstm2)\n",
    "    dense = tf.keras.layers.Dense(DENSE_SIZE//4, activation='relu')(dense)\n",
    "    output = tf.keras.layers.Dense(nb_classes, activation='softmax')(dense)\n",
    "    return tf.keras.models.Model(inputs, output)\n",
    "\n",
    "model = build_network(LINE_SIZE, nb_classes)\n",
    "model.summary()"
   ]
  },
  {
   "cell_type": "markdown",
   "metadata": {},
   "source": [
    "#### Fit the network"
   ]
  },
  {
   "cell_type": "code",
   "execution_count": 53,
   "metadata": {},
   "outputs": [
    {
     "name": "stdout",
     "output_type": "stream",
     "text": [
      "Epoch 1/10\n",
      "2221/2221 [==============================] - 51s 20ms/step - loss: 0.6109 - accuracy: 0.8623 - val_loss: 0.2244 - val_accuracy: 0.9263\n",
      "\n",
      "Epoch 00001: val_accuracy improved from -inf to 0.92629, saving model to best_model_lstm.h5\n",
      "Epoch 2/10\n",
      "2221/2221 [==============================] - 43s 19ms/step - loss: 0.1804 - accuracy: 0.9395 - val_loss: 0.1798 - val_accuracy: 0.9380\n",
      "\n",
      "Epoch 00002: val_accuracy improved from 0.92629 to 0.93805, saving model to best_model_lstm.h5\n",
      "Epoch 3/10\n",
      "2221/2221 [==============================] - 43s 20ms/step - loss: 0.1181 - accuracy: 0.9599 - val_loss: 0.1618 - val_accuracy: 0.9445\n",
      "\n",
      "Epoch 00003: val_accuracy improved from 0.93805 to 0.94453, saving model to best_model_lstm.h5\n",
      "Epoch 4/10\n",
      "2221/2221 [==============================] - 43s 20ms/step - loss: 0.0934 - accuracy: 0.9672 - val_loss: 0.1566 - val_accuracy: 0.9499\n",
      "\n",
      "Epoch 00004: val_accuracy improved from 0.94453 to 0.94989, saving model to best_model_lstm.h5\n",
      "Epoch 5/10\n",
      "2221/2221 [==============================] - 48s 22ms/step - loss: 0.0788 - accuracy: 0.9718 - val_loss: 0.1544 - val_accuracy: 0.9505\n",
      "\n",
      "Epoch 00005: val_accuracy improved from 0.94989 to 0.95050, saving model to best_model_lstm.h5\n",
      "Epoch 6/10\n",
      "2221/2221 [==============================] - 44s 20ms/step - loss: 0.0690 - accuracy: 0.9748 - val_loss: 0.1685 - val_accuracy: 0.9494\n",
      "\n",
      "Epoch 00006: val_accuracy did not improve from 0.95050\n",
      "Epoch 7/10\n",
      "2221/2221 [==============================] - 44s 20ms/step - loss: 0.0583 - accuracy: 0.9790 - val_loss: 0.1783 - val_accuracy: 0.9447\n",
      "\n",
      "Epoch 00007: val_accuracy did not improve from 0.95050\n",
      "Epoch 8/10\n",
      "2221/2221 [==============================] - 42s 19ms/step - loss: 0.0524 - accuracy: 0.9806 - val_loss: 0.1849 - val_accuracy: 0.9449\n",
      "\n",
      "Epoch 00008: val_accuracy did not improve from 0.95050\n",
      "Epoch 9/10\n",
      "2221/2221 [==============================] - 48s 21ms/step - loss: 0.0442 - accuracy: 0.9837 - val_loss: 0.1953 - val_accuracy: 0.9456\n",
      "\n",
      "Epoch 00009: val_accuracy did not improve from 0.95050\n",
      "Epoch 10/10\n",
      "2221/2221 [==============================] - 52s 23ms/step - loss: 0.0390 - accuracy: 0.9854 - val_loss: 0.2044 - val_accuracy: 0.9444\n",
      "\n",
      "Epoch 00010: val_accuracy did not improve from 0.95050\n",
      "Restoring model weights from the end of the best epoch.\n",
      "Epoch 00010: early stopping\n"
     ]
    }
   ],
   "source": [
    "BATCH_SIZE = 16\n",
    "\n",
    "history5 = fit_network(model,\n",
    "                      X_train_enc, y_train_enc,\n",
    "                      BATCH_SIZE,\n",
    "                      tf.keras.backend.sparse_categorical_crossentropy,\n",
    "                      ['accuracy'])"
   ]
  },
  {
   "cell_type": "markdown",
   "metadata": {},
   "source": [
    "#### Evaluate the model"
   ]
  },
  {
   "cell_type": "code",
   "execution_count": 54,
   "metadata": {},
   "outputs": [
    {
     "name": "stdout",
     "output_type": "stream",
     "text": [
      "F1-score is : 73.2%\n",
      "              precision    recall  f1-score   support\n",
      "\n",
      "         art       0.00      0.00      0.00       117\n",
      "         eve       0.00      0.00      0.00        95\n",
      "         geo       0.82      0.79      0.80     12166\n",
      "         gpe       0.95      0.92      0.93      4738\n",
      "         nat       0.00      0.00      0.00        49\n",
      "         org       0.47      0.46      0.47      6610\n",
      "         per       0.65      0.64      0.64      5645\n",
      "         tim       0.86      0.79      0.82      6632\n",
      "\n",
      "   micro avg       0.75      0.72      0.73     36052\n",
      "   macro avg       0.47      0.45      0.46     36052\n",
      "weighted avg       0.75      0.72      0.73     36052\n",
      "\n"
     ]
    }
   ],
   "source": [
    "evaluate(model, X_test_enc, y_test_enc, LINE_SIZE)"
   ]
  },
  {
   "cell_type": "markdown",
   "metadata": {},
   "source": [
    "### Conclusion about RNN approach for NER"
   ]
  },
  {
   "cell_type": "code",
   "execution_count": 55,
   "metadata": {},
   "outputs": [],
   "source": [
    "def plot_compare(history1, history2):\n",
    "    fig = plt.figure(figsize = (16, 4))\n",
    "\n",
    "    plt.subplot(121)\n",
    "    plt.plot(history1.history['val_loss'], label='Validation Loss for unidirectional RNN on NER')\n",
    "    plt.plot(history2.history['val_loss'], label='Validation Loss for bidirectional 2-layer RNN on NER')\n",
    "    plt.title('Validation losses of the two RNN implementations')\n",
    "    plt.legend()\n",
    "\n",
    "    plt.subplot(122)\n",
    "    plt.plot(history1.history['val_accuracy'], label='Validation Accuracy for unidirectional RNN on NER')\n",
    "    plt.plot(history2.history['val_accuracy'], label='Validation Accuracy for 2-layer bidirectional RNN on NER')\n",
    "    plt.title('Training and validation accuracy')\n",
    "    plt.legend()\n",
    "\n",
    "    plt.show()"
   ]
  },
  {
   "cell_type": "code",
   "execution_count": 56,
   "metadata": {},
   "outputs": [
    {
     "data": {
      "image/png": "[encoded data removed]",
      "text/plain": [
       "<Figure size 1152x288 with 2 Axes>"
      ]
     },
     "metadata": {
      "needs_background": "light"
     },
     "output_type": "display_data"
    }
   ],
   "source": [
    "plot_compare(history4, history5)"
   ]
  },
  {
   "cell_type": "raw",
   "metadata": {},
   "source": [
    "Though the two-layer bidirectional model above reaches a better validation accuracy, its classification report shows a lower F1 score, driven by a much lower precision than the simple LSTM one. Its higher recall is not compensated. \n",
    "\n",
    "The conclusion we will draw from this depends on the goal at hand. If pure precision is looked for, then we would be more interested in choosing the simpler model. However, if our goal implies reducing the amount of false negative (while caring less about false negative) then we would choose the second model.\n",
    "\n",
    "As a reminder: \n",
    "\n",
    "- recall = TP/(TP+FN)\n",
    "- precision = TP/(TP+FP)"
   ]
  },
  {
   "cell_type": "markdown",
   "metadata": {
    "ExecuteTime": {
     "end_time": "2021-01-08T09:27:40.122430Z",
     "start_time": "2021-01-08T09:27:40.118797Z"
    }
   },
   "source": [
    "## Come back to your favourite sentence...\n",
    "\n",
    "Can you build the embedding of your 5 sentences with a pre-trained embedding using a RNN approach and see if the result is more relevant than before?"
   ]
  },
  {
   "cell_type": "code",
   "execution_count": 57,
   "metadata": {},
   "outputs": [],
   "source": [
    "from tensorflow.keras.preprocessing.text import Tokenizer\n",
    "from tensorflow.keras.preprocessing.sequence import pad_sequences\n",
    "\n",
    "import numpy as np\n",
    "import matplotlib\n",
    "import matplotlib.pyplot as plt\n",
    "%matplotlib inline\n",
    "from sklearn.metrics.pairwise import cosine_similarity\n",
    "\n",
    "import nltk\n",
    "# nltk.download()\n",
    "\n",
    "from sklearn.feature_extraction.text import CountVectorizer\n",
    "from nltk.tokenize import sent_tokenize, word_tokenize"
   ]
  },
  {
   "cell_type": "code",
   "execution_count": 58,
   "metadata": {},
   "outputs": [],
   "source": [
    "# We reuse our sentence from lecture 1, lab2, ML Algos\n",
    "\n",
    "tolkien_sentences = [\n",
    "    \"In a hole in the ground there lived a hobbit.\",\n",
    "    \"A hobbit lived in a hole in the ground there.\",\n",
    "    \"A hobbit lived in a hollow in the ground there.\",\n",
    "    \"There lived a hobbit in a pit in the earth.\",\n",
    "    \"A hobbit didn't live in a hole in the ground there.\",\n",
    "    \"A hobbit does not live in a hollow in the ground there.\",\n",
    "    \"There lived a hobbit in a pit in the earth.\",\n",
    "    \"There lived a hobbit in a hole in the ground.\",\n",
    "    \"a hobbit dwelled in a ground hole there.\"\n",
    "]\n",
    "\n",
    "# sentences for pretraining our RNN encoder (source: NER)\n",
    "pretraining_sentences = [\" \".join(seq) for seq in X_train]"
   ]
  },
  {
   "cell_type": "code",
   "execution_count": 59,
   "metadata": {},
   "outputs": [],
   "source": [
    "# RNN hyperparameters declaration\n",
    "num_words = 200\n",
    "maxlen = 15\n",
    "embed_dim = 16\n",
    "batch_size = 16"
   ]
  },
  {
   "cell_type": "code",
   "execution_count": 60,
   "metadata": {},
   "outputs": [],
   "source": [
    "# Tokenizing and Padding of the sentences selected for pre_training\n",
    "tokenizer = Tokenizer(num_words = num_words, split=' ')\n",
    "tokenizer.fit_on_texts(pretraining_sentences)\n",
    "seqs = tokenizer.texts_to_sequences(pretraining_sentences)\n",
    "pad_seqs = pad_sequences(seqs, maxlen)"
   ]
  },
  {
   "cell_type": "code",
   "execution_count": 61,
   "metadata": {},
   "outputs": [],
   "source": [
    "# RNN Model: bidirectional LSTM\n",
    "\n",
    "# Input layer\n",
    "encoder_inputs = Input(shape=(maxlen,))\n",
    "# embedding layer\n",
    "emb_layer = Embedding(num_words, embed_dim,input_length = maxlen)\n",
    "x = emb_layer(encoder_inputs)\n",
    "state_h = Bidirectional(LSTM(128, activation='relu'))(x)\n",
    "# encoder layer\n",
    "encoder_model = Model(inputs=encoder_inputs, outputs=state_h)\n",
    "# output layer\n",
    "seq2seq_encoder_out = encoder_model(encoder_inputs)"
   ]
  },
  {
   "cell_type": "code",
   "execution_count": 62,
   "metadata": {},
   "outputs": [],
   "source": [
    "# We encode our Tolkien sentences based on our pretrained LSTM model\n",
    "\n",
    "seq = tokenizer.texts_to_sequences(tolkien_sentences)\n",
    "pad_seq = pad_sequences(seq, maxlen)\n",
    "sentence_vec = encoder_model.predict(pad_seq)"
   ]
  },
  {
   "cell_type": "code",
   "execution_count": 63,
   "metadata": {
    "scrolled": true
   },
   "outputs": [
    {
     "data": {
      "text/plain": [
       "array([[0.00080874, 0.00627127, 0.00350141, ..., 0.00039136, 0.00516449,\n",
       "        0.00052146],\n",
       "       [0.00114554, 0.00839773, 0.00313309, ..., 0.00037452, 0.00512875,\n",
       "        0.00054176],\n",
       "       [0.00114554, 0.00839773, 0.00313309, ..., 0.00037452, 0.00512875,\n",
       "        0.00054176],\n",
       "       ...,\n",
       "       [0.00020988, 0.00675099, 0.00307141, ..., 0.00034296, 0.00531254,\n",
       "        0.00038959],\n",
       "       [0.00020988, 0.00675099, 0.00307141, ..., 0.00034296, 0.00531254,\n",
       "        0.00038959],\n",
       "       [0.00122307, 0.00585836, 0.00295777, ..., 0.000181  , 0.00501172,\n",
       "        0.00019966]], dtype=float32)"
      ]
     },
     "execution_count": 63,
     "metadata": {},
     "output_type": "execute_result"
    }
   ],
   "source": [
    "sentence_vec"
   ]
  },
  {
   "cell_type": "markdown",
   "metadata": {},
   "source": [
    "<hr>\n",
    "\n",
    "**We reuse the code from lab 1**"
   ]
  },
  {
   "cell_type": "code",
   "execution_count": 64,
   "metadata": {},
   "outputs": [],
   "source": [
    "# Calculate similarities for a list of embeddings\n",
    "def calculate_similarities(embeddings_list):\n",
    "    similarities = np.zeros((len(embeddings_list[0]), len(embeddings_list)))\n",
    "    for i, embeddings in enumerate(embeddings_list):\n",
    "        similarities[:,i] = cosine_similarity([embeddings[0]], embeddings)\n",
    "    return similarities"
   ]
  },
  {
   "cell_type": "code",
   "execution_count": 65,
   "metadata": {},
   "outputs": [],
   "source": [
    "# For plotting similarities\n",
    "# from: https://matplotlib.org/3.1.1/gallery/images_contours_and_fields/image_annotated_heatmap.html\n",
    "def heatmap(data, row_labels, col_labels, ax=None,\n",
    "            cbar_kw={}, cbarlabel=\"\", **kwargs):\n",
    "    \"\"\"\n",
    "    Create a heatmap from a numpy array and two lists of labels.\n",
    "\n",
    "    Parameters\n",
    "    ----------\n",
    "    data\n",
    "        A 2D numpy array of shape (N, M).\n",
    "    row_labels\n",
    "        A list or array of length N with the labels for the rows.\n",
    "    col_labels\n",
    "        A list or array of length M with the labels for the columns.\n",
    "    ax\n",
    "        A `matplotlib.axes.Axes` instance to which the heatmap is plotted.  If\n",
    "        not provided, use current axes or create a new one.  Optional.\n",
    "    cbar_kw\n",
    "        A dictionary with arguments to `matplotlib.Figure.colorbar`.  Optional.\n",
    "    cbarlabel\n",
    "        The label for the colorbar.  Optional.\n",
    "    **kwargs\n",
    "        All other arguments are forwarded to `imshow`.\n",
    "    \"\"\"\n",
    "\n",
    "    if not ax:\n",
    "        ax = plt.gca()\n",
    "\n",
    "    # Plot the heatmap\n",
    "    im = ax.imshow(data, **kwargs)\n",
    "\n",
    "    # Create colorbar\n",
    "    cbar = ax.figure.colorbar(im, ax=ax, **cbar_kw)\n",
    "    cbar.ax.set_ylabel(cbarlabel, rotation=-90, va=\"bottom\")\n",
    "\n",
    "    # We want to show all ticks...\n",
    "    ax.set_xticks(np.arange(data.shape[1]))\n",
    "    ax.set_yticks(np.arange(data.shape[0]))\n",
    "    # ... and label them with the respective list entries.\n",
    "    ax.set_xticklabels(col_labels)\n",
    "    ax.set_yticklabels(row_labels)\n",
    "\n",
    "    # Let the horizontal axes labeling appear on top.\n",
    "    ax.tick_params(top=True, bottom=False,\n",
    "                   labeltop=True, labelbottom=False)\n",
    "\n",
    "    # Rotate the tick labels and set their alignment.\n",
    "    plt.setp(ax.get_xticklabels(), rotation=-30, ha=\"right\",\n",
    "             rotation_mode=\"anchor\")\n",
    "\n",
    "    # Turn spines off and create white grid.\n",
    "    for edge, spine in ax.spines.items():\n",
    "        spine.set_visible(False)\n",
    "\n",
    "    ax.set_xticks(np.arange(data.shape[1]+1)-.5, minor=True)\n",
    "    ax.set_yticks(np.arange(data.shape[0]+1)-.5, minor=True)\n",
    "    ax.grid(which=\"minor\", color=\"w\", linestyle='-', linewidth=3)\n",
    "    ax.tick_params(which=\"minor\", bottom=False, left=False)\n",
    "\n",
    "    return im, cbar\n",
    "\n",
    "\n",
    "def annotate_heatmap(im, data=None, valfmt=\"{x:.2f}\",\n",
    "                     textcolors=[\"black\", \"white\"],\n",
    "                     threshold=None, **textkw):\n",
    "    \"\"\"\n",
    "    A function to annotate a heatmap.\n",
    "\n",
    "    Parameters\n",
    "    ----------\n",
    "    im\n",
    "        The AxesImage to be labeled.\n",
    "    data\n",
    "        Data used to annotate.  If None, the image's data is used.  Optional.\n",
    "    valfmt\n",
    "        The format of the annotations inside the heatmap.  This should either\n",
    "        use the string format method, e.g. \"$ {x:.2f}\", or be a\n",
    "        `matplotlib.ticker.Formatter`.  Optional.\n",
    "    textcolors\n",
    "        A list or array of two color specifications.  The first is used for\n",
    "        values below a threshold, the second for those above.  Optional.\n",
    "    threshold\n",
    "        Value in data units according to which the colors from textcolors are\n",
    "        applied.  If None (the default) uses the middle of the colormap as\n",
    "        separation.  Optional.\n",
    "    **kwargs\n",
    "        All other arguments are forwarded to each call to `text` used to create\n",
    "        the text labels.\n",
    "    \"\"\"\n",
    "\n",
    "    if not isinstance(data, (list, np.ndarray)):\n",
    "        data = im.get_array()\n",
    "\n",
    "    # Normalize the threshold to the images color range.\n",
    "    if threshold is not None:\n",
    "        threshold = im.norm(threshold)\n",
    "    else:\n",
    "        threshold = im.norm(data.max())/2.\n",
    "\n",
    "    # Set default alignment to center, but allow it to be\n",
    "    # overwritten by textkw.\n",
    "    kw = dict(horizontalalignment=\"center\",\n",
    "              verticalalignment=\"center\")\n",
    "    kw.update(textkw)\n",
    "\n",
    "    # Get the formatter in case a string is supplied\n",
    "    if isinstance(valfmt, str):\n",
    "        valfmt = matplotlib.ticker.StrMethodFormatter(valfmt)\n",
    "\n",
    "    # Loop over the data and create a `Text` for each \"pixel\".\n",
    "    # Change the text's color depending on the data.\n",
    "    texts = []\n",
    "    for i in range(data.shape[0]):\n",
    "        for j in range(data.shape[1]):\n",
    "            kw.update(color=textcolors[int(im.norm(data[i, j]) > threshold)])\n",
    "            text = im.axes.text(j, i, valfmt(data[i, j], None), **kw)\n",
    "            texts.append(text)\n",
    "\n",
    "    return texts"
   ]
  },
  {
   "cell_type": "code",
   "execution_count": 66,
   "metadata": {},
   "outputs": [],
   "source": [
    "# remove stop word (https://en.wikipedia.org/wiki/Stop_word)\n",
    "stop_word_list = [\".\", \",\", \"[\", \"]\", \"`\", \"(\", \")\", \"?\", \"'\", \"'s\", \":\"]\n",
    "\n",
    "def remove_stop_word(txt_token, stop_word_list):\n",
    "    return [w for w in txt_token if w not in stop_word_list]\n",
    "\n",
    "# stem your text\n",
    "def stemming(txt_token):\n",
    "    # Creater a stemmer\n",
    "    porter = nltk.PorterStemmer()\n",
    "\n",
    "    return [porter.stem(w) for w in txt_token]\n",
    "\n",
    "# lemmatize your text\n",
    "def lemmatization(txt_token):\n",
    "    # Creater a lemmatizer\n",
    "    #nltk.download('wordnet')\n",
    "    WNlemma = nltk.WordNetLemmatizer()\n",
    "\n",
    "    return [WNlemma.lemmatize(w) for w in txt_token]"
   ]
  },
  {
   "cell_type": "code",
   "execution_count": 67,
   "metadata": {},
   "outputs": [
    {
     "data": {
      "image/png": "[encoded data removed]",
      "text/plain": [
       "<Figure size 2592x648 with 2 Axes>"
      ]
     },
     "metadata": {
      "needs_background": "light"
     },
     "output_type": "display_data"
    }
   ],
   "source": [
    "from sklearn.metrics import mean_absolute_error\n",
    "\n",
    "names = [\"BoW\", \"BoW ng2\",  \"BoW ng3\",\n",
    "         \"BoC\", \"BoC ng2\",  \"BoC ng3\",\n",
    "         \"BoW w/ stem-lem\", \"BoW ng2 w/ stem-lem\", \"BoW ng3 w/ stem-lem\", \n",
    "         \"BoC w/ stem-lem\", \"BoC ng2 w/ stem-lem\", \"BoC ng3 w/ stem-lem\",\n",
    "         \"encoder\"] # We add our encoder embedding\n",
    "\n",
    "# Tokenizes the sentences\n",
    "tokenized_sentences = [word_tokenize(sentence) for sentence in tolkien_sentences]\n",
    "tokenized_sentences = list(map(\" \".join, tokenized_sentences))\n",
    "stemlemtokenized_sentences = [lemmatization(stemming(remove_stop_word(word_tokenize(sentence), \n",
    "                                                           stop_word_list)))\n",
    "                       for sentence in tolkien_sentences]\n",
    "stemlemtokenized_sentences = list(map(\" \".join, stemlemtokenized_sentences))\n",
    "\n",
    "# Vectorizes the tokens using CountVectorizer\n",
    "vectors = []\n",
    "for idx, analyzer in enumerate([\"word\", \"char\", \"word\", \"char\"]):\n",
    "    for ngram in [(1,1), (2,2), (3,3)]:\n",
    "        cv = CountVectorizer(binary=True, \n",
    "                             analyzer=analyzer, \n",
    "                             ngram_range=ngram, \n",
    "                             stop_words=\"english\")\n",
    "        if idx < 2: bag = cv.fit_transform(tokenized_sentences)\n",
    "        else: bag = cv.fit_transform(stemlemtokenized_sentences)\n",
    "        vectors.append(bag.toarray())\n",
    "\n",
    "vectors.append(sentence_vec) # We add our encoder embedding\n",
    "        \n",
    "# Calculates the similarities between sentence vectors within the same bundle\n",
    "similarities = calculate_similarities(vectors)\n",
    "\n",
    "# Plots the embedding heatmap, showing similarities when the value tends toward 1\n",
    "fig, ax = plt.subplots(figsize=(10+2*similarities.shape[1],similarities.shape[0]))\n",
    "im, cbar = heatmap(similarities, tokenized_sentences, names, ax=ax,\n",
    "                   cmap=\"YlGn\", cbarlabel=\"Similarities\")\n",
    "texts = annotate_heatmap(im, valfmt=\"{x:.1f}\")\n",
    "fig.tight_layout()\n",
    "plt.show()"
   ]
  },
  {
   "cell_type": "markdown",
   "metadata": {},
   "source": [
    "**Conclusion**:\n",
    "\n",
    "Using a RNN Encoder yield a better encoding, we see that the similarities are 1 or close to 1, performing better than the Bag of Character encoding (with and without stemming and lemming)."
   ]
  }
 ],
 "metadata": {
  "kernelspec": {
   "display_name": "Python 3",
   "language": "python",
   "name": "python3"
  },
  "language_info": {
   "codemirror_mode": {
    "name": "ipython",
    "version": 3
   },
   "file_extension": ".py",
   "mimetype": "text/x-python",
   "name": "python",
   "nbconvert_exporter": "python",
   "pygments_lexer": "ipython3",
   "version": "3.8.5"
  },
  "latex_envs": {
   "LaTeX_envs_menu_present": true,
   "autoclose": true,
   "autocomplete": true,
   "bibliofile": "biblio.bib",
   "cite_by": "apalike",
   "current_citInitial": 1,
   "eqLabelWithNumbers": true,
   "eqNumInitial": 1,
   "hotkeys": {
    "equation": "Ctrl-E",
    "itemize": "Ctrl-I"
   },
   "labels_anchors": false,
   "latex_user_defs": false,
   "report_style_numbering": false,
   "user_envs_cfg": false
  },
  "nbTranslate": {
   "displayLangs": [
    "*"
   ],
   "hotkey": "alt-t",
   "langInMainMenu": true,
   "sourceLang": "en",
   "targetLang": "fr",
   "useGoogleTranslate": true
  },
  "toc": {
   "base_numbering": 1,
   "nav_menu": {},
   "number_sections": true,
   "sideBar": true,
   "skip_h1_title": true,
   "title_cell": "Table of Contents",
   "title_sidebar": "Contents",
   "toc_cell": true,
   "toc_position": {},
   "toc_section_display": true,
   "toc_window_display": false
  }
 },
 "nbformat": 4,
 "nbformat_minor": 2
}
