{
 "cells": [
  {
   "cell_type": "markdown",
   "metadata": {},
   "source": [
    "# Lecture 1"
   ]
  },
  {
   "cell_type": "markdown",
   "metadata": {},
   "source": [
    "## Introduction to parallel and distributed systems\n",
    "\n",
    "**Sequential execution**: one or more tasks (set of operations) that are executed one after the other. It is the usual mode of execution of most programs.\n",
    "\n",
    "**Parallel execution**: one or more tasks are executed simultaneously. This is usually done at the hardware level.\n",
    "\n",
    "**Concurrent execution** (less strict than parallel execution): One or more tasks are in progress at the same time (They don't necessarily execute at the same time). This is usually done at the programming level.\n",
    "\n",
    "Parallelism is useful for going faster (straightforward application of the definitions, speed-up the execution) and larger (manage much larger datasets)\n",
    "\n",
    "### Flynn's Taxonomy (1966)\n",
    "\n",
    "Based on the 2 objectives of parallelism. From a computer/program PoV, what does faster or larger mean?\n",
    "\n",
    "- **Faster**: more instructions per unit of time\n",
    "- **Larger**: processing more data per unit of time\n",
    "\n",
    "There are 4 types of parallel machines.\n",
    "\n",
    "| | Single Instruction | Multiple Instructions | \n",
    "|---|---|---|\n",
    "| Single Data | SISD | MISD |\n",
    "| Multiple Data | SIMD | MIMD |\n",
    "\n",
    "**Single Instruction, Single Data**: Takes 1 instruction from memory and 1 data (variable, memory address), Executes, Then does it again (example: a mono-core processor) -- *Not a parallel machine*\n",
    "\n",
    "**Single Instruction, Multiple Data**: Takes 1 instruction from memory and multiple data. The benefits are that the instruction is decoded only once, the data can be organized nicely in memory and loaded at once, and is overall cache-friendly (examples: vector processors, vector instructions in processors) -- *Process each data with a different processing unit*\n",
    "\n",
    "**Multiple Instructions, Single Data**: Takes 1 data from memory and applies multiples instructions on it. The data 'travels' from one instruction to another. It is represented as a pipeline (example\"any modern processor has a pipeline for instruction: Fetch-Decode-Execute-Write) -- *as soon as an instruction is finished, load next data*\n",
    "\n",
    "**Multiple Instructions, Multiple Data**: Basically multiple programs working on different data (examples: multiple processors, computers, cores) -- *Naturally parallel*\n",
    "\n",
    "### Other taxonomy\n",
    "\n",
    "Based on how memory is shared among processing units:\n",
    "\n",
    "- Shared memory (All processing units can access the same memory, e.g. RAM)\n",
    "- Private memory i.e. Distributed Systems (Each processing unit has some private memoryt invisible to others)\n",
    "\n",
    "### Inside Processors\n",
    "\n",
    "Processors are complex and not monolithic. Many different functional units (integer computation, floating point computation, etc.)\n",
    "\n",
    "Complex memory hierarchy (different cache levels L1, L2, L3). Fast caches are small.\n",
    "\n",
    "### CUDA Cores\n",
    "\n",
    "SIMD cores."
   ]
  },
  {
   "cell_type": "markdown",
   "metadata": {},
   "source": [
    "## Software Support\n",
    "\n",
    "A process is a program being executed. They are created by the operating system (OS). A process contains all the necessary information for a program to execute (all the memory addresses used, open files, current instructions). It also provides **isolation** (a process cannot see the memory of another process. Sharing info between processes is a service of the OS.\n",
    "\n",
    "### Multi-Tasking\n",
    "\n",
    "Processes share the CPU and are running concurrently. Each process is gien a timeslice (5-15ms, maximum duration on a CPU). A process loses the CPU if it runs for the whole timeslice (Waiting), it doesn an I/O (blocked). The OS replaces the process on the CPU (decides which process to run next [scheduling], use of a queue with priority).\n",
    "\n",
    "### Race Conditions\n",
    "\n",
    "Data can be shared between processes (IPC) or threads. What could go wrong?\n",
    "\n",
    "2 threads using the same variable. 1 thread increases it, the other decreases it.\n",
    "\n",
    "### Deadlocks\n",
    "\n",
    "2 or more processes/threads which cannot process because they are waiting on each other.\n",
    "\n",
    "### Scalability\n",
    "\n",
    "Capacity of a system to manage varying load through adaptation (add resp. remove resource when load increases resp. decreases.\n",
    "\n",
    "Scaling up (resp. down): increase the resources of a single machine (add memory, increase CPU frequency), limited and complicated but transparent to the application. \n",
    "\n",
    "Scaling out (resp. in): add more machines. Easy if the application is stateless."
   ]
  },
  {
   "cell_type": "markdown",
   "metadata": {},
   "source": [
    "## Storing Big Data\n",
    "\n",
    "### NoSQL\n",
    "\n",
    "### Distributed FileSystems"
   ]
  },
  {
   "cell_type": "markdown",
   "metadata": {},
   "source": [
    "## Processing Big Data\n",
    "\n",
    "### MapReduce\n",
    "\n",
    "### Advanced Programming Models\n",
    "\n",
    "### Case Study Hadoop & Spark"
   ]
  },
  {
   "cell_type": "markdown",
   "metadata": {},
   "source": [
    "## Managing Fast DAta\n",
    "\n",
    "### Introduction to data-streams processing\n",
    "\n",
    "### Case study: Spark Streaming & Kafka"
   ]
  },
  {
   "cell_type": "code",
   "execution_count": null,
   "metadata": {},
   "outputs": [],
   "source": []
  }
 ],
 "metadata": {
  "kernelspec": {
   "display_name": "Python 3",
   "language": "python",
   "name": "python3"
  },
  "language_info": {
   "codemirror_mode": {
    "name": "ipython",
    "version": 3
   },
   "file_extension": ".py",
   "mimetype": "text/x-python",
   "name": "python",
   "nbconvert_exporter": "python",
   "pygments_lexer": "ipython3",
   "version": "3.8.3"
  }
 },
 "nbformat": 4,
 "nbformat_minor": 4
}
