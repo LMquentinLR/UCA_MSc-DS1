{
 "cells": [
  {
   "cell_type": "markdown",
   "metadata": {},
   "source": [
    "# Getting data from Google Cloud Storage\n",
    "\n",
    "First, you need to use a `gsutil` command (which is usually pre-installed on machines created in Google Cloud).\n",
    "\n",
    "Second, you need an address of a bucket (where data is stores) and path to the file you need in that bucket (usually you receive them when the owner of the data gives you permissions).\n",
    "\n",
    "Third, you need need permissions to this particular bucket (or even this particular object if the access to bucket is fine-grained).\n",
    "\n",
    "Disclaimer. Downloading large amounts of data can take time:)"
   ]
  },
  {
   "cell_type": "code",
   "execution_count": 8,
   "metadata": {},
   "outputs": [
    {
     "name": "stdout",
     "output_type": "stream",
     "text": [
      "mkdir: cannot create directory ‘/home/user/Downloads’: File exists\r\n"
     ]
    }
   ],
   "source": [
    "!mkdir /home/user/Downloads"
   ]
  },
  {
   "cell_type": "code",
   "execution_count": 2,
   "metadata": {},
   "outputs": [],
   "source": [
    "!ls /home/user/Downloads"
   ]
  },
  {
   "cell_type": "code",
   "execution_count": 10,
   "metadata": {},
   "outputs": [
    {
     "name": "stdout",
     "output_type": "stream",
     "text": [
      "Copying gs://yelp-dataset-bucket/yelp_academic_dataset_review.json...\n",
      "- [1 files][  5.9 GiB/  5.9 GiB]   49.2 MiB/s                                   \n",
      "Operation completed over 1 objects/5.9 GiB.                                      \n"
     ]
    }
   ],
   "source": [
    "!gsutil cp gs://yelp-dataset-bucket/yelp_academic_dataset_review.json /home/user/Downloads"
   ]
  },
  {
   "cell_type": "code",
   "execution_count": 12,
   "metadata": {},
   "outputs": [
    {
     "name": "stdout",
     "output_type": "stream",
     "text": [
      "Copying gs://yelp-dataset-bucket/data-munging.ipynb...\n",
      "Copying gs://yelp-dataset-bucket/getting-data.ipynb...                          \n",
      "Copying gs://yelp-dataset-bucket/map-reduce.ipynb...                            \n",
      "Copying gs://yelp-dataset-bucket/spark-ml.ipynb...                              \n",
      "\\ [4 files][ 35.1 KiB/ 35.1 KiB]                                                \n",
      "==> NOTE: You are performing a sequence of gsutil operations that may\n",
      "run significantly faster if you instead use gsutil -m cp ... Please\n",
      "see the -m section under \"gsutil help options\" for further information\n",
      "about when gsutil -m can be advantageous.\n",
      "\n",
      "Copying gs://yelp-dataset-bucket/working-with-hdfs.ipynb...\n",
      "\\ [5 files][ 43.3 KiB/ 43.3 KiB]                                                \n",
      "Operation completed over 5 objects/43.3 KiB.                                     \n"
     ]
    }
   ],
   "source": [
    "!gsutil cp gs://yelp-dataset-bucket/*.ipynb /home/user/Downloads"
   ]
  }
 ],
 "metadata": {
  "kernelspec": {
   "display_name": "Python 3",
   "language": "python",
   "name": "python3"
  },
  "language_info": {
   "codemirror_mode": {
    "name": "ipython",
    "version": 3
   },
   "file_extension": ".py",
   "mimetype": "text/x-python",
   "name": "python",
   "nbconvert_exporter": "python",
   "pygments_lexer": "ipython3",
   "version": "3.8.5"
  }
 },
 "nbformat": 4,
 "nbformat_minor": 2
}
