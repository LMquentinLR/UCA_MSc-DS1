{
 "cells": [
  {
   "cell_type": "markdown",
   "metadata": {},
   "source": [
    "# Getting data from Google Cloud Storage\n",
    "\n",
    "First, you need to use a `gsutil` command (which is usually pre-installed on machines created in Google Cloud).\n",
    "\n",
    "Second, you need an address of a bucket (where data is stores) and path to the file you need in that bucket (usually you receive them when the owner of the data gives you permissions).\n",
    "\n",
    "Third, you need need permissions to this particular bucket (or even this particular object if the access to bucket is fine-grained).\n",
    "\n",
    "Disclaimer. Downloading large amounts of data can take time:)"
   ]
  },
  {
   "cell_type": "code",
   "execution_count": 1,
   "metadata": {},
   "outputs": [],
   "source": [
    "!mkdir /home/borisshminke/Downloads"
   ]
  },
  {
   "cell_type": "code",
   "execution_count": 2,
   "metadata": {},
   "outputs": [],
   "source": [
    "!ls /home/borisshminke/Downloads"
   ]
  },
  {
   "cell_type": "code",
   "execution_count": 3,
   "metadata": {},
   "outputs": [
    {
     "name": "stdout",
     "output_type": "stream",
     "text": [
      "Copying gs://yelp-dataset-bucket/yelp_academic_dataset_review.json...\n",
      "- [1 files][  5.9 GiB/  5.9 GiB]   46.3 MiB/s                                   \n",
      "Operation completed over 1 objects/5.9 GiB.                                      \n"
     ]
    }
   ],
   "source": [
    "!gsutil cp \\\n",
    "    gs://yelp-dataset-bucket/yelp_academic_dataset_review.json \\\n",
    "    /home/borisshminke/Downloads"
   ]
  },
  {
   "cell_type": "markdown",
   "metadata": {},
   "source": [
    "We also will download example notebooks from the cloud storage"
   ]
  },
  {
   "cell_type": "code",
   "execution_count": null,
   "metadata": {},
   "outputs": [],
   "source": [
    "!gsutil cp gs://yelp-dataset-bucket/working-with-hdfs.ipynb /home/borisshminke/Downloads\n",
    "!gsutil cp gs://yelp-dataset-bucket/map-reduce.ipynb /home/borisshminke/Downloads\n",
    "!gsutil cp gs://yelp-dataset-bucket/mapper.py /home/borisshminke/Downloads\n",
    "!gsutil cp gs://yelp-dataset-bucket/reducer.py /home/borisshminke/Downloads"
   ]
  },
  {
   "cell_type": "code",
   "execution_count": null,
   "metadata": {},
   "outputs": [],
   "source": []
  }
 ],
 "metadata": {
  "kernelspec": {
   "display_name": "Python 2",
   "language": "python",
   "name": "python2"
  },
  "language_info": {
   "codemirror_mode": {
    "name": "ipython",
    "version": 2
   },
   "file_extension": ".py",
   "mimetype": "text/x-python",
   "name": "python",
   "nbconvert_exporter": "python",
   "pygments_lexer": "ipython2",
   "version": "2.7.14"
  }
 },
 "nbformat": 4,
 "nbformat_minor": 2
}
