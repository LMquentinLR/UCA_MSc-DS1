{
 "cells": [
  {
   "cell_type": "markdown",
   "metadata": {},
   "source": [
    "# Introduction to Privacy and Course Organization"
   ]
  },
  {
   "cell_type": "markdown",
   "metadata": {},
   "source": [
    "**To be confirmed**: working on a *privacy policy* project in groups (3-4 people). To be presented during the last session of the class.\n",
    "\n",
    "**Teacher**: Nataliia Bielova\n",
    "\n",
    "**Email**: nataliia.bielova@inria.fr\n",
    "\n",
    "<u>Submit project as such:</u>\n",
    "\n",
    "**Subject**: [PrivacyDS2020] NAME SURNAME"
   ]
  },
  {
   "cell_type": "code",
   "execution_count": 1,
   "metadata": {},
   "outputs": [],
   "source": [
    "from IPython.display import Image #Image(\"pictures/GDPR.png\", width=800)"
   ]
  },
  {
   "cell_type": "markdown",
   "metadata": {},
   "source": [
    "<hr>\n",
    "\n",
    "## Web Tracking Technologies"
   ]
  },
  {
   "cell_type": "markdown",
   "metadata": {},
   "source": [
    "### Business Model of the Web\n",
    "\n",
    "**Web developers** offer free websites to **users**, while including **third-party** content (e.g. tracking and ad companies) that can broadcast content but also collect information on the users to better target them.\n",
    "\n",
    "This workflow is impacted by **Eu Data protection regulations** such as **GDPR** and **ePrivacy Regulations** (information stored on/retrieved from devices). \n",
    "\n",
    "### Web Tracking\n",
    "\n",
    "Websites and tracking companies build bigger broqwmsing profiles from the info collected from the users.\n",
    "\n",
    "The collections of our data is performed without our knowledge (on sensitive websites) and constructions of collections of our browsing patterns, pereferences and tastes, even moods can be achieved. Sometimes, our data can even be used for manipulations.\n",
    "\n",
    "The core business of the plaintiff is to deliver ads to its visitors. Journalistic content is just a vehicle to get reaers to view the ads.\n",
    "\n",
    "### Two mechanisms are required by trackers:\n",
    "\n",
    "1. ability to store/create user identity in the browser: cookies, headers, storages, fingerprinting\n",
    "2. ability to communicate user identity back to tracker: http requests by the browser, javascript\n",
    "\n",
    "Third-party cookies are used to **track users across sites** and collect their browsing history. "
   ]
  },
  {
   "cell_type": "code",
   "execution_count": null,
   "metadata": {},
   "outputs": [],
   "source": []
  }
 ],
 "metadata": {
  "kernelspec": {
   "display_name": "Python 3",
   "language": "python",
   "name": "python3"
  },
  "language_info": {
   "codemirror_mode": {
    "name": "ipython",
    "version": 3
   },
   "file_extension": ".py",
   "mimetype": "text/x-python",
   "name": "python",
   "nbconvert_exporter": "python",
   "pygments_lexer": "ipython3",
   "version": "3.8.3"
  }
 },
 "nbformat": 4,
 "nbformat_minor": 4
}
