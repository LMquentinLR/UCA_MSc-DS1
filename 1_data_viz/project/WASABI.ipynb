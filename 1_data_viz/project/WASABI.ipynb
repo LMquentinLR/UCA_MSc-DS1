{
  "nbformat": 4,
  "nbformat_minor": 0,
  "metadata": {
    "kernelspec": {
      "display_name": "Python 3",
      "language": "python",
      "name": "python3"
    },
    "language_info": {
      "codemirror_mode": {
        "name": "ipython",
        "version": 3
      },
      "file_extension": ".py",
      "mimetype": "text/x-python",
      "name": "python",
      "nbconvert_exporter": "python",
      "pygments_lexer": "ipython3",
      "version": "3.8.3"
    },
    "colab": {
      "name": "WASABI.ipynb",
      "provenance": [],
      "collapsed_sections": []
    }
  },
  "cells": [
    {
      "cell_type": "markdown",
      "metadata": {
        "id": "GAVLgaQ-LikY"
      },
      "source": [
        "# Data Visualization Project: WASABI"
      ]
    },
    {
      "cell_type": "markdown",
      "metadata": {
        "id": "BrsalJdpLikd"
      },
      "source": [
        "# Project Description\n",
        "\n",
        "## 1. User Description (1 paragraph)\n",
        "\n",
        "Potential users of a music-related app will likely show interest in in-depth information related to music genres, their prevalence, spread, etc. across time and countries. As such, users might want access to the following:\n",
        "\n",
        "- A Sankey diagram showing how artists' genre evolves over time, the relationship between genres and the weight of each genre. (e.g. An artist's career starts on Soul and moves to Pop and Neon Soul in posterior years) \n",
        "\n",
        "- A data visualization tool that showcases the prevalence of a music genre within a country and within a time period (e.g. Heavy Metal is *heavily* represented in the Nordics since the 1980s). A choropleth would allow a user to select a genre and a time period and see the ratio of bands in that genre divided by the total population number (a density representation used in music-specialized magazines).\n",
        "\n",
        "## 2. Visual Tasks To Implement\n",
        "\n",
        "- **Historical Evolution of the artists' genres**: A sankey diagram having on the horizontal axis different periods on time (specifically quinquenniums), and nodes in each quinquenium denoting the genre. The thickness of the bands from one node to the other will be determined by the quantity of albums.  \n",
        "\n",
        "- **Music Genre Prevalence by Country**: A (zoomable?) world choropleth map where each country is colored as a heatmap based on the ratio of bands playing a specific genre during a specific decade *per capita*. Hovering over a country would open a tooltip box that would provide more information (e.g. absolute number of bands, total population of the country, etc.)\n",
        "  - See ``## 7`` for proof of concept picture.\n",
        "\n",
        "## 3. Name of visualization technique and the name of the member of the group who is going to implement it\n",
        "\n",
        "- **Sankey**: Mariana\n",
        "\n",
        "- **Choropleth**: Quentin\n",
        "\n",
        "## 4. Needed attributes from the WASABI dataset\n",
        "\n",
        "- **Sankey**: \n",
        "    - Needed fields from the [Album] table: X_id *(unique identifier of the album), genre, id_artist (unique identifier of the artist), publicationDate (year when the album was published), title. \n",
        "    - Needed fields from the [Artist] table: X_id (unique identifier of the artist), name_accent_fold (artist's name without special caracters)\n",
        "\n",
        "- **Choropleth**:\n",
        "    - Needed fields from the [Album] table: id_artist (unique identifier of the artist to perform a join with the [Artist] table), genre, dateRelease\n",
        "    - Needed fields from the [Artist] table: id_artist (unique identifier of the artist to perform a join with the [Album] table), country (unique identifier of the country to perform a join with the [Country] table), ended, begin, end\n",
        "    - Needed fields from the [Country] table (available on github [here](https://github.com/datasets/population/blob/master/data/population.csv)): id_artist country (unique identifier of the country to perform a join with the [Artist] table), year, value\n",
        "\n",
        "## 5. Informal description of the data processing of the row data\n",
        "\n",
        "- **Sankey**: \n",
        "    - Parse JSON\n",
        "    - Variable selection\n",
        "    - Transform blank spaces into NA \n",
        "    - Clean the genre variable \n",
        "    - Filter for only those observations that have information about the artist, the year of publication of the album and genre \n",
        "    - Since the analysis is at quinquennium level, filter of only those artists who have been active for at least 5 years and create quinquennium variable. \n",
        "    - Join the artist and albums datasets.\n",
        "    - Group the number of albums by artist, genre, and quinquennium. \n",
        "    - Change from long format to ‘source and target’ format required for the Sankey diagram (most important step)\n",
        "\n",
        "- **Choropleth**: \n",
        "    - Parse JSON\n",
        "    - Variable selection\n",
        "    - Transform blank spaces into NA\n",
        "    - Standardize the variables (e.g. genre variable: ``Gothic Rock&#x200F;&#x200E;`` -> ``Gothic Rock``)\n",
        "    - Filter out unusable rows from both Albums and Artist datasets (e.g. missing genre or missing country or artist_id)\n",
        "    - Perform a join between both datasets on the id_artist key\n",
        "    - Group and format the data based on a selected JSON structure\n",
        "    - Save the JSON file into a workable file for D3.js\n",
        "\n",
        "### Example of code for variable selection:\n",
        "\n",
        "  ```r\n",
        "  sankey_var_albums <- c('_id', \"id_artist\", \"genre\", \"publicationDate\", \"title\")\n",
        "  sankey_var_artists <- c('_id', \"nameVariations_fold\")\n",
        "\n",
        "  choro_var_albums <- c(\"id_artist\", \"genre\", \"dateRelease\")\n",
        "  choro_var_artists <- c('_id',\"location.country\", \"members.XX.ended\", \"members.XX.begin\", \"members.XX.end\")\n",
        "\n",
        "  albums <- read_csv(\"wasabi_albums.csv\")\n",
        "  albums_lite_sankey <- albums %>% select(sankey_var_albums)\n",
        "  albums_lite_choro <- albums %>% select(choro_var_albums)\n",
        "  rm(albums)\n",
        "\n",
        "  artists <- read_csv(\"wasabi_artists.csv\")\n",
        "  artists_lite_sankey <- artists %>% select(sankey_var_artists)\n",
        "  artists_lite_choro <- artists %>% select(choro_var_artists)\n",
        "  rm(artists)\n",
        "  ```\n",
        "\n",
        "## 6. Visual mapping of variables available in your data set\n",
        "\n",
        "- **Sankey**: [data visualization catalogue page for Sankey 1](https://datavizcatalogue.com/methods/sankey_diagram.html), [data visualization catalogue page for Sankey 2](https://www.d3-graph-gallery.com/sankey.html)\n",
        "\n",
        "| artist | source genre | target genre | quinquennium | value |\n",
        "| --- | --- | --- | --- | --- |\n",
        "| Artist name | Source node of genre | Target node of genre | year when the quinquennium starts | number of albums from the source to the target |  \n",
        "\n",
        "- **Choropleth**: [data visualization catalogue page for Choropleth 1](https://datavizcatalogue.com/methods/choropleth.html), [data visualization catalogue page for Choropleth 2](https://www.d3-graph-gallery.com/choropleth)\n",
        "\n",
        "1. <u>Albums data:</u>\n",
        "    \n",
        "| id_artist | genre | dateRelease |\n",
        "| --- | --- | --- |\n",
        "| **test** | **String** | **String** | \n",
        "| Unique Id of the artist | Album genre | Album publicationDate |\n",
        "\n",
        "2. <u>Artists data:</u>\n",
        "    \n",
        "| id_artist | country | ended | begin | end |\n",
        "| --- | --- | --- | --- | --- |\n",
        "| **test** | **String** | **String** | **Boolean** | **String** | **String** |\n",
        "| Unique Id of the artist | The artist's genres. It can be null | This represents the country of the birth of artist or group | If artist's carriere or groupe is stopped or not | Date of the birth of artist or group | Date of the end of activity |\n",
        "\n",
        "2. <u>Country data:</u>\n",
        "    \n",
        "| country | year | value |\n",
        "| --- | --- | --- |\n",
        "| **String** | **String** | **String** |\n",
        "| Country name | Year of Data | Population total |\n",
        "\n",
        "<span style=\"color:red\">We could perform a join between the three sets of data via the Artist's **name**</span>.\n",
        "\n",
        "## 7 Example of visualization\n",
        "\n",
        "**choropleth:**\n",
        "\n",
        "![img](https://i.imgur.com/n4wOCye.png)"
      ]
    },
    {
      "cell_type": "markdown",
      "metadata": {
        "id": "b6B92n4YLike"
      },
      "source": [
        "### WASABI API Documentation\n",
        "\n",
        "The documentation and the data fields can be found [here](https://wasabi.i3s.unice.fr/apidoc/).\n",
        "The github information can be found [here](https://github.com/micbuffa/WasabiDataset)."
      ]
    },
    {
      "cell_type": "markdown",
      "metadata": {
        "id": "8_V3-RaUfSth"
      },
      "source": [
        "### Country Population Data\n",
        "\n",
        "The population data is available on github [here](https://github.com/datasets/population/blob/master/data/population.csv)."
      ]
    }
  ]
}