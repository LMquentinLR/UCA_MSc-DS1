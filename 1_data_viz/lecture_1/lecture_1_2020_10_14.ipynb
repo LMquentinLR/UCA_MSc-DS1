{
 "cells": [
  {
   "cell_type": "markdown",
   "metadata": {},
   "source": [
    "# Lecture 1 - Data Visualization - Proinciple and Practice"
   ]
  },
  {
   "cell_type": "markdown",
   "metadata": {},
   "source": [
    "1. raw data -> Import\n",
    "2. Imported dataset -> Filter\n",
    "3. Enriched dataset -> Map\n",
    "4. 2D/3D shape -> render\n",
    "5. Final image"
   ]
  },
  {
   "cell_type": "markdown",
   "metadata": {},
   "source": [
    "<u>Principles of data visualization</u>\n",
    " \n",
    "- Characterizing data (Scientific data: information associated with positions/regions of a space; abstract data: information associated to an entity of an application domain which is not necessarily)\n",
    "- User perception\n",
    "- User task and interaction"
   ]
  },
  {
   "cell_type": "markdown",
   "metadata": {},
   "source": [
    "<u>Types of datasets</u>\n",
    "\n",
    "- Tables (items, attributes)\n",
    "- Networks and Trees (items [nodes], links, attributes)\n",
    "- Fields (grids, positions, attributes)\n",
    "- Geometry (items, attributes)\n",
    "- Clusters, lists, sets (items, attributes)"
   ]
  },
  {
   "cell_type": "markdown",
   "metadata": {},
   "source": [
    "<u>Model of human processing</u>\n",
    "\n",
    "- Perceptive (every sense)\n",
    "\n",
    "Representation of non-interpreted inputs; Information persistency = 200ms for the visual memory; Capacity of storage; Type of information; Cycle time\n",
    "\n",
    "- Cognitive (memory + processing)\n",
    "- Motor (movements, ex. Fitts' Law)\n",
    "\n",
    "Movements are not continuous but a repetition of discreet micro-movements. The movement corresponds to user interaction with physical devices (time of micro-movement: 70ms; time of selection of graphical element)."
   ]
  },
  {
   "cell_type": "markdown",
   "metadata": {},
   "source": [
    "**Exercise**\n",
    "\n",
    "- <u>Variable perceptive</u>: colors (red [loss], orange [tie], green [win], black \\& white [points], grey [neutral color]).\n",
    "\n",
    "- **attributes**: name_visitor, name_local, score_visitor, score_local, round\n",
    "\n",
    "- **dataset**: table\n",
    "\n",
    "| name_visitor | name_local | score_visitor | score_local | date |\n",
    "| --- | --- | --- | --- | --- | \n",
    "| [a-zA-Z] | [a-zA-Z] | [0-9] | [0-9] | [1-38] |"
   ]
  },
  {
   "cell_type": "markdown",
   "metadata": {},
   "source": [
    "Teams: \n",
    "- nb_match_played (calc) - size of bar\n",
    "- name (lit) - text\n",
    "- rank/nb points (calc) - size of bar\n",
    "- score frequence (calc) - color\n",
    "\n",
    "Matches:\n",
    "- name_visitor () position x\n",
    "- name_local () position y\n",
    "- score_visitor () size\n",
    "- scorelocal () size\n",
    "- outcome () color\n",
    "- date\n",
    "\n",
    "Structure of the data:"
   ]
  },
  {
   "cell_type": "code",
   "execution_count": null,
   "metadata": {},
   "outputs": [],
   "source": []
  }
 ],
 "metadata": {
  "kernelspec": {
   "display_name": "Python 3",
   "language": "python",
   "name": "python3"
  },
  "language_info": {
   "codemirror_mode": {
    "name": "ipython",
    "version": 3
   },
   "file_extension": ".py",
   "mimetype": "text/x-python",
   "name": "python",
   "nbconvert_exporter": "python",
   "pygments_lexer": "ipython3",
   "version": "3.8.3"
  }
 },
 "nbformat": 4,
 "nbformat_minor": 4
}
