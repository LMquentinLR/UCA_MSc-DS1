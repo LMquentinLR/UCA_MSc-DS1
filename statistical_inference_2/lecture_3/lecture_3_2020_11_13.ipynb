{
 "cells": [
  {
   "cell_type": "markdown",
   "metadata": {},
   "source": [
    "# COURSE 3 - Statistical Inference 2"
   ]
  },
  {
   "cell_type": "markdown",
   "metadata": {},
   "source": [
    "*November 13th, 2020*\n",
    "\n",
    "**Teacher**: Marco Corneli\n",
    "\n",
    "<hr>\n",
    "\n",
    "**Note**: Bishop book?"
   ]
  },
  {
   "cell_type": "code",
   "execution_count": 1,
   "metadata": {},
   "outputs": [],
   "source": [
    "from IPython.display import Image #Image(\"pictures/.png\")"
   ]
  },
  {
   "cell_type": "markdown",
   "metadata": {},
   "source": [
    "# Plug-In Estimator\n",
    "\n",
    "LEt $X_1, ..., X_n \\overset{IID}{\\sim} F$. We introduce a new **discrete random variable** $\\mathbb{Z}$ which satisfies:\n",
    "\n",
    "$$P(\\mathbb{Z}=X_i)=\\frac{1}{n}$$\n",
    "\n",
    "We call the **sorted sample** of the observations $X_1, ..., X_n$ the values: $S_1, ..., S_n$ (smallest to largest observations). \n",
    "\n",
    "If we consider $u\\in[S_{j-1}, S_j[$ then:\n",
    "\n",
    "$$P(\\mathbb{Z}\\le u)=\\underset{k=1}{\\overset{j-1}{\\sum}}P(\\mathbb{Z}=S_k) = \\frac{j-1}{n} = \\frac{1}{n}.\\underset{i=1}{\\overset{n}{\\sum}}\\mathbb{1}_{]-\\infty,u]}(X_i) = \\hat{F}_n(u)$$\n",
    "\n",
    "A plug-in estimator is an estimator that estimates the quantity we are interested in by replacing the data by $\\mathbb{Z}$\n",
    "\n",
    "<u>example 1:</u> Median $m$ such that $F^{-1}(1/2)=m$. It is the number such that the probability $P(X\\le m)=\\frac{1}{2}$. We want to estimate the median.\n",
    "\n",
    "$$F(m) = P(X\\le m)=\\frac{1}{2}$$\n",
    "\n",
    "$$P(\\mathbb{Z}\\le m) = \\hat{F}_n(M)=\\frac{1}{2}$$\n",
    "\n",
    "$$\\hat{m} = \\hat{F}^{-1}_m(\\frac{1}{2})$$\n",
    "\n",
    "<u>example 2:</u> Mean $\\mu = \\mathbb{E}(x)$. We plug in the estimator $\\hat{\\mu} = \\mathbb{E}(\\mathbb{Z})$ with:\n",
    "\n",
    "$$\\mathbb{E}(\\mathbb{Z})=\\underset{i=1}{\\overset{n}{\\sum}}X_i.P(\\mathbb{Z}=X_i)$$\n",
    "\n",
    "$$\\mathbb{E}(\\mathbb{Z})=\\underset{i=1}{\\overset{n}{\\sum}}X_i.\\frac{1}{n}$$\n",
    "\n",
    "$$\\mathbb{E}(\\mathbb{Z})=\\frac{1}{n}.\\underset{i=1}{\\overset{n}{\\sum}}X_i = \\bar{X}_n$$\n",
    "\n",
    "We found the empirical mean.\n",
    "\n",
    "<u>example 3:</u> Variance $\\sigma^2=\\mathbb{V}[x]$. We estimate $\\hat{\\sigma}^2=\\mathbb{V}[\\mathbb{Z}]$ such that:\n",
    "\n",
    "$$\\mathbb{V}[\\mathbb{Z}]=\\underset{i=1}{\\overset{n}{\\sum}}(X_i-\\mathbb{E}[\\mathbb{Z}])^2.P(\\mathbb{Z}=X_i)$$\n",
    "\n",
    "$$\\mathbb{V}[\\mathbb{Z}]=\\frac{1}{n}.\\underset{i=1}{\\overset{n}{\\sum}}(X_i-\\bar{X})^2$$\n",
    "\n",
    "<u>example 4:</u> Skewness. The skewness is defined as:\n",
    "$$s = SK(X)=\\frac{(\\mathbb{E}[X-\\mathbb{E}[X]])^3}{\\sigma^3}$$\n",
    "Our quantity estimate $\\hat{s}$ is:\n",
    "\n",
    "$$\\hat{s}=\\frac{(\\mathbb{E}[\\mathbb{Z}-\\mathbb{E}[\\mathbb{Z}]])^3}{\\hat{\\sigma}^3}$$\n",
    "\n",
    "$$\\hat{s}=\\frac{1}{n}.\\frac{\\underset{i=1}{\\overset{n}{\\sum}}(X_i-\\bar{X})^3}{\\hat{\\sigma}^3}$$"
   ]
  },
  {
   "cell_type": "markdown",
   "metadata": {},
   "source": [
    "# Resampling/Bootstrapping\n",
    "\n",
    "Everytime we wanted to calculate a sample interval for our data, we've used the Central Limit Theorem to obtain an asymptotic confidence interval for our estimator. **But sometimes the CLT cannot be applied**.\n",
    "\n",
    "I want to estimate a quantity I have an estimator for, based on some information that I have. We can use an empirical distribution function to understand the distribution of our estimator. But in the real world, it is not possible because we always have one sample with observations.\n",
    "\n",
    "What can we do to fabricate other samples? The idea is to **resample our observations with a 1/n probability**. We resample n-times. "
   ]
  },
  {
   "cell_type": "markdown",
   "metadata": {},
   "source": []
  }
 ],
 "metadata": {
  "kernelspec": {
   "display_name": "Python 3",
   "language": "python",
   "name": "python3"
  },
  "language_info": {
   "codemirror_mode": {
    "name": "ipython",
    "version": 3
   },
   "file_extension": ".py",
   "mimetype": "text/x-python",
   "name": "python",
   "nbconvert_exporter": "python",
   "pygments_lexer": "ipython3",
   "version": "3.8.3"
  }
 },
 "nbformat": 4,
 "nbformat_minor": 4
}
