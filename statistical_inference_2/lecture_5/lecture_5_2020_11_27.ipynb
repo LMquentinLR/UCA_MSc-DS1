{
 "cells": [
  {
   "cell_type": "markdown",
   "metadata": {},
   "source": [
    "# COURSE 5 - Statistical Inference 2"
   ]
  },
  {
   "cell_type": "markdown",
   "metadata": {},
   "source": [
    "*November 27th, 2020*\n",
    "\n",
    "**Teacher**: Marco Corneli"
   ]
  },
  {
   "cell_type": "code",
   "execution_count": 1,
   "metadata": {},
   "outputs": [],
   "source": [
    "from IPython.display import Image #Image(\"pictures/.png\")"
   ]
  },
  {
   "cell_type": "markdown",
   "metadata": {},
   "source": [
    "# Exercises\n",
    "\n",
    "### Exercise 1 - Exponential RVs\n",
    "\n",
    "1) Consider two independent exponential random variables $X$ and $Y$ of parameter $\\lambda$\\.\n",
    "\n",
    "- Compute the probability density function (pdf) of $Z=X+Y$\n",
    "- Compute the pdf of $U=X−Y$. \n",
    "\n",
    "2) We now focus on a sample of $X_1,...,X_n$ IID  exponential random variables of parameter $lambda$ with $\\lambda\\gt0$ namely:\n",
    "$$f_\\lambda(x) =\\frac{1}{λ}e^{-\\frac{x}{\\lambda}}.\\mathbb{1}_{\\mathbb{R}+}(x)$$\n",
    "\n",
    "- Compute the Maximum Likelihood (ML) estimator $\\hat{\\lambda}$ of $\\lambda$\n",
    "- Relying on the CLT, provide a confidence interval of level $\\alpha$ of $\\lambda$\n",
    "- Application:  we observe the lifetime of 100 electric bulbs, whose pdf is $f_\\lambdaλ(·)$. The mean lifetime is 1000 hours.  Provide a confidenceinterval of level $0.9$ for $\\lambda$."
   ]
  },
  {
   "cell_type": "markdown",
   "metadata": {},
   "source": [
    "***1.a***\n",
    "\n",
    "$Z=X+Y \\Rightarrow Y = Z-X \\Rightarrow P(Z=z|_{X=x})=Pf_Y(z-x)$ <span style=\"color:red\">replace P with $f_X$</span>\n",
    "\n",
    "$P(Z=z) = \\underset{x}{\\sum}P(Z=z|_{X=x}).P(X=x)=\\underset{x}{\\sum}P(Y=z-x).P(X=x)$\n",
    "\n",
    "If we set $f_X(x) = P(X=x)$, we have:\n",
    "\n",
    "$$f_Z(z) = \\underset{-\\infty}{\\overset{+\\infty}{\\int}}f_X(x).f_Y(z-x).dx$$\n",
    "$$f_Z(z) = \\underset{0}{\\overset{z}{\\int}}f_X(x).f_Y(z-x). dx$$\n",
    "$$f_Z(z) = \\underset{0}{\\overset{z}{\\int}}λ.e^{-\\lambda.x}.λ.e^{-\\lambda.(z-x)}.dx$$\n",
    "$$f_Z(z) = \\underset{0}{\\overset{z}{\\int}}λ^2.e^{-\\lambda.z}.dx$$\n",
    "<span style=\"color:green\">$$f_Z(z) = \\lambda^2 z.e^{-\\lambda.z}$$</span>\n",
    "\n",
    "***1.b***\n",
    "\n",
    "$U=X-Y \\Rightarrow X = U+Y \\Rightarrow P(U=u|_{Y=y})=P(X=u+y)$\n",
    "\n",
    "$P(U=u) = \\underset{x}{\\sum}P(U=u|_{Y=y}).P(Y=y)=\\underset{x}{\\sum}P(X=u+y).P(Y=y)$\n",
    "\n",
    "If we set $f_X(x) = P(X=x)$, we have:\n",
    "\n",
    "$$f_U(u) = \\underset{-\\infty}{\\overset{+\\infty}{\\int}}f_Y(y).f_X(u+y).dy$$\n",
    "$$f_U(u) = \\underset{-\\infty}{\\overset{+\\infty}{\\int}}\\lambda.e^{-\\lambda.y}.\\lambda.e^{-\\lambda.(u+y)}.dy$$\n",
    "$$f_U(u) = \\underset{-\\infty}{\\overset{+\\infty}{\\int}}\\lambda^2.e^{-2.\\lambda.y-\\lambda.u}.dy$$\n",
    "$$f_U(u) = \\lambda^2.e^{-\\lambda.u}.\\underset{-\\infty}{\\overset{+\\infty}{\\int}}e^{-2.\\lambda.y}.dy$$\n",
    "$$f_U(u) = \\lambda^2.e^{-\\lambda.u}.\\underset{0}{\\overset{+\\infty}{\\int}}e^{-2.\\lambda.y}.dy$$\n",
    "$$f_U(u) = \\lambda^2.e^{-\\lambda.u}.[-\\frac{1}{2.\\lambda}.e^{-2.\\lambda.y}]^{+\\infty}_0$$\n",
    "$$f_U(u) = \\lambda^2.e^{-\\lambda.u}.\\frac{1}{2.\\lambda}$$\n",
    "<span style=\"color:green\">$$f_U(u) = \\frac{\\lambda}{2}.e^{-\\lambda.u}$$</span>"
   ]
  },
  {
   "cell_type": "markdown",
   "metadata": {},
   "source": [
    "If we assume all x>0 "
   ]
  },
  {
   "cell_type": "markdown",
   "metadata": {},
   "source": [
    "***2.a***\n",
    "\n",
    "The likelihood function of the exponential function is $L(\\lambda; x_1, ..., x_n)=\\underset{i=1}{\\overset{n}{\\prod}}f_X(x_i;\\lambda)$ with $f_X(x_i;\\lambda)\\rightarrow\\mathcal{E}(\\lambda)$\n",
    "\n",
    "$$L(\\lambda; x_1, ..., x_n)=\\underset{i=1}{\\overset{n}{\\prod}}f_X(x_i;\\lambda)$$\n",
    "$$L(\\lambda; x_1, ..., x_n)=\\underset{i=1}{\\overset{n}{\\prod}}\\lambda.e^{-\\lambda.x_i}.\\mathbb{1}_{[0,+\\infty]}$$\n",
    "$$L(\\lambda; x_1, ..., x_n)=\\lambda^n.e^{-\\lambda.\\underset{i=1}{\\overset{n}{\\sum}}x_i}$$\n",
    "\n",
    "We find the log-likelihood function $l(\\lambda; x_1, ..., x_n)=ln(\\lambda^n.e^{-\\lambda.\\underset{i=1}{\\overset{n}{\\sum}}x_i})=ln(\\lambda^n)+ln(e^{-\\lambda.\\underset{i=1}{\\overset{n}{\\sum}}x_i})$\n",
    "\n",
    "$$l(\\lambda; x_1, ..., x_n)=n.ln(\\lambda)-\\lambda.\\underset{i=1}{\\overset{n}{\\sum}}x_i$$\n",
    "\n",
    "We set the maximum likelihood estimator of $\\lambda$ denoted $\\hat{\\lambda}_n$ are looking to maximize the function $l(\\hat{\\lambda}_n; x_1, ..., x_n)$. As such with $l'(\\hat{\\lambda}_n; x_1, ..., x_n) = \\frac{n}{\\hat{\\lambda}_n}-\\underset{i=1}{\\overset{n}{\\sum}}x_i$, we're looking for:\n",
    "\n",
    "$$l'(\\hat{\\lambda}_n; x_1, ..., x_n) = 0$$\n",
    "$$\\Rightarrow \\frac{n}{\\hat{\\lambda}_n}-\\underset{i=1}{\\overset{n}{\\sum}}x_i = 0$$\n",
    "$$\\Rightarrow \\frac{n}{\\hat{\\lambda}_n}=\\underset{i=1}{\\overset{n}{\\sum}}x_i$$\n",
    "$$\\Rightarrow \\frac{\\hat{\\lambda}_n}{n}=\\frac{1}{\\underset{i=1}{\\overset{n}{\\sum}}x_i}$$\n",
    "$$\\Rightarrow \\hat{\\lambda}_n = \\frac{n}{\\underset{i=1}{\\overset{n}{\\sum}}x_i}$$\n",
    "<span style=\"color:green\">$$\\Rightarrow \\hat{\\lambda}_n = \\bar{X_n}^{-1}$$</span>\n",
    "\n",
    "Since our parameter is $\\frac{1}{\\lambda}$, our actual parameter $\\frac{1}{\\hat{\\lambda}_n}=\\bar{X_n}$"
   ]
  },
  {
   "cell_type": "markdown",
   "metadata": {},
   "source": [
    "***2.b*** Confidence interval for $\\frac{1}{\\lambda}$\n",
    "\n",
    "The central limit theorem says: Let $X_1, ..., X_n$ be IID random variables with mean $\\mu$ and variance $\\sigma^2$. Let $\\bar{X}_n=n^{-1}.\\underset{i=1}{\\overset{n}{\\sum}}X_i.$ Then:\n",
    "\n",
    "$$Z_n=\\frac{\\bar{X}_n-\\mu}{\\sqrt{\\mathbb{V}(\\bar{X}_n)}} = \\frac{\\sqrt{n}.(\\bar{X}_n-\\mu)}{\\sigma}\\sim \\mathcal{Z}$$\n",
    "\n",
    "From there we can provide a confidence interval for $\\bar{X}_n$ which is:\n",
    "\n",
    "$$ CI = \\bar{X}_n \\pm Z_{\\alpha/2}*\\frac{\\sigma}{\\sqrt{n}}$$\n",
    "i.e.\n",
    "The confidence interval for $\\bar{X}_n$ at a ``(1-alpha)*100%`` level is: $[\\bar{X}_n - Z_{\\alpha/2}*\\frac{\\sigma}{\\sqrt{n}}\\quad;\\quad\\bar{X}_n + Z_{\\alpha/2}*\\frac{\\sigma}{\\sqrt{n}}]$"
   ]
  },
  {
   "cell_type": "code",
   "execution_count": null,
   "metadata": {},
   "outputs": [],
   "source": []
  }
 ],
 "metadata": {
  "kernelspec": {
   "display_name": "Python 3",
   "language": "python",
   "name": "python3"
  },
  "language_info": {
   "codemirror_mode": {
    "name": "ipython",
    "version": 3
   },
   "file_extension": ".py",
   "mimetype": "text/x-python",
   "name": "python",
   "nbconvert_exporter": "python",
   "pygments_lexer": "ipython3",
   "version": "3.8.3"
  }
 },
 "nbformat": 4,
 "nbformat_minor": 4
}
