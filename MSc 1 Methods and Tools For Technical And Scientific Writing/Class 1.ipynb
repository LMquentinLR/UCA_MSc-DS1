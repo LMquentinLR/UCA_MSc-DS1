{
 "cells": [
  {
   "cell_type": "markdown",
   "metadata": {},
   "source": [
    "# COURSE 1 - MSc Scientific Writing"
   ]
  },
  {
   "cell_type": "markdown",
   "metadata": {},
   "source": [
    "*September 14th, 2020*\n",
    "\n",
    "**Teacher**: Marco Winckler"
   ]
  },
  {
   "cell_type": "markdown",
   "metadata": {},
   "source": [
    "## Why Conduct Research?\n",
    "\n",
    "To develop:\n",
    "\n",
    "1. develop knowledge for professions\n",
    "2. develop effective policies \n",
    "2. solve practical problems \n",
    "4. make informed decisions \n",
    "5. increase knowledge base of larger society\n",
    "\n",
    "Huge amounts of daily life and experiences in our society are based on what we have elarned using the logic and evidence involved in scientific research."
   ]
  },
  {
   "cell_type": "markdown",
   "metadata": {},
   "source": [
    "## Reproducibility\n",
    "\n",
    "Reproducibility is an important part of scientific writing.\n",
    "\n",
    "**Ex**. using a termomether in a repeated, testable way in orer to measure the sun's impact on daily temperature."
   ]
  },
  {
   "cell_type": "markdown",
   "metadata": {},
   "source": [
    "## BRETAM Model\n",
    "\n",
    "**Further Readings**: Gaines, B.: Modeling And Forecasting The Information Sciences. Inf Sci 57/58 (19999) 13-22.\n",
    "\n",
    "See attached file:\n",
    "> Gaines-BRETAM99.pdf\n",
    "\n",
    "1. **Breakthrough**: where you discover a phenomenon\n",
    "2. **Replicator**: where you can replicate the phenomenon\n",
    "3. **Empiricism**: where you start making claims\n",
    "4. **Theory**: where you make a theory explaining the phenomenon and claim\n",
    "5. **Automation**: if the phenomenon can be made into a process, where you can automate it \n",
    "6. **Maturity**: when automation is achieved, implemented and it needs to be supported (innovation can exist but it is not the main part of the work anymore)\n",
    "\n",
    "Innovation is 1 and 2 (in the context of BRETAM, discovery and innovation is similar), science is 3 and 4, engineering is 5 and 6."
   ]
  },
  {
   "cell_type": "markdown",
   "metadata": {},
   "source": [
    "#### Process Ladder\n",
    "\n",
    "| Tag | Tag | Tag | Tag | Tag | Tag | Tag | Type of Product     |\n",
    "|  -: |  -: | :-: |  :- |  -: | :-: | :-  |  -:                 |\n",
    "| --- | --- | --- | --- | --- | B   | R   | Invention           |\n",
    "| --- | --- | --- | --- | B   | R   | E   | Research            |\n",
    "| --- | --- | --- | B   | R   | E   | T   | Product innovation  |\n",
    "| --- | --- | B   | R   | E   | T   | A   | Product Lines       |\n",
    "| --- | B   | R   | E   | T   | A   | M   | Low-cost Products   |\n",
    "| B   | R   | E   | T   | A   | M   | *M* | Throw-away products |"
   ]
  },
  {
   "cell_type": "markdown",
   "metadata": {},
   "source": [
    "## Anatomy of a Scientific Paper\n",
    "\n",
    "1. Title and Authors\n",
    "2. Abstract/Summary\n",
    "3. Introduction\n",
    "4. Materials and Methods\n",
    "5. Results\n",
    "6. Discussion\n",
    "7. Acknowledgements\n",
    "8. References\n",
    "9. Figures/Tables\n",
    "\n",
    "#### How to Check an Author\n",
    "\n",
    "1. Frequency of publication, and place of publication\n",
    "2. Google Scholar\n",
    "3. **Indicators**: h and i-index (*personal note*: have a slight bias towards Humanities [e.g. Psychology] as citations are more common)\n",
    "3. DBLP database (CompSci)\n",
    "4. PubMed (Medecine)\n",
    "5. Check conference publications"
   ]
  },
  {
   "cell_type": "code",
   "execution_count": null,
   "metadata": {},
   "outputs": [],
   "source": []
  }
 ],
 "metadata": {
  "kernelspec": {
   "display_name": "Python 3",
   "language": "python",
   "name": "python3"
  },
  "language_info": {
   "codemirror_mode": {
    "name": "ipython",
    "version": 3
   },
   "file_extension": ".py",
   "mimetype": "text/x-python",
   "name": "python",
   "nbconvert_exporter": "python",
   "pygments_lexer": "ipython3",
   "version": "3.8.3"
  }
 },
 "nbformat": 4,
 "nbformat_minor": 4
}
