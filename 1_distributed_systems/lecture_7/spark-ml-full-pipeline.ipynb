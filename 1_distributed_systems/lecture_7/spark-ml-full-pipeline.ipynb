{
 "cells": [
  {
   "cell_type": "code",
   "execution_count": 1,
   "metadata": {},
   "outputs": [],
   "source": [
    "#!gsutil cp gs://yelp-dataset-bucket/* ."
   ]
  },
  {
   "cell_type": "raw",
   "metadata": {},
   "source": [
    "!wget\n",
    "pip install kaggle"
   ]
  },
  {
   "cell_type": "code",
   "execution_count": 2,
   "metadata": {},
   "outputs": [],
   "source": [
    "#!hdfs dfs -put yelp_academic_dataset_review.json /user/"
   ]
  },
  {
   "cell_type": "code",
   "execution_count": null,
   "metadata": {},
   "outputs": [],
   "source": [
    "from pyspark.ml.pipeline import Pipeline\n",
    "from pyspark.ml.feature import Tokenizer, HashingTF, IDF\n",
    "from pyspark.ml.regression import LinearRegression\n",
    "from pyspark.ml.tuning import TrainValidationSplit\n",
    "from pyspark.ml.evaluation import RegressionEvaluator"
   ]
  },
  {
   "cell_type": "code",
   "execution_count": 3,
   "metadata": {},
   "outputs": [],
   "source": [
    "data = (\n",
    "    spark.read\n",
    "    .json(\"/user/yelp_academic_dataset_review.json\")\n",
    ")"
   ]
  },
  {
   "cell_type": "code",
   "execution_count": 4,
   "metadata": {},
   "outputs": [],
   "source": [
    "pipeline = Pipeline(stages=[\n",
    "    Tokenizer(inputCol=\"text\", outputCol=\"words\"),\n",
    "    HashingTF(inputCol=\"words\", outputCol=\"term_frequency\"),\n",
    "    IDF(inputCol=\"term_frequency\", outputCol=\"features\"),\n",
    "    LinearRegression(labelCol=\"stars\")\n",
    "])"
   ]
  },
  {
   "cell_type": "code",
   "execution_count": 5,
   "metadata": {},
   "outputs": [],
   "source": [
    "from pyspark.ml.tuning import ParamGridBuilder\n",
    "\n",
    "param_grid = (\n",
    "    ParamGridBuilder()\n",
    "    .addGrid(\"regParam\", [0])\n",
    "    .build()\n",
    ")"
   ]
  },
  {
   "cell_type": "code",
   "execution_count": 6,
   "metadata": {},
   "outputs": [],
   "source": [
    "debug_data = data.sample(0.01).cache()"
   ]
  },
  {
   "cell_type": "code",
   "execution_count": 7,
   "metadata": {},
   "outputs": [],
   "source": [
    "models = TrainValidationSplit(\n",
    "    estimator=pipeline,\n",
    "    estimatorParamMaps=param_grid,\n",
    "    evaluator=RegressionEvaluator(labelCol=\"stars\")\n",
    ").fit(debug_data)"
   ]
  },
  {
   "cell_type": "code",
   "execution_count": 8,
   "metadata": {},
   "outputs": [
    {
     "data": {
      "text/plain": [
       "[2.278652871361633]"
      ]
     },
     "execution_count": 8,
     "metadata": {},
     "output_type": "execute_result"
    }
   ],
   "source": [
    "models.validationMetrics"
   ]
  },
  {
   "cell_type": "code",
   "execution_count": 9,
   "metadata": {},
   "outputs": [
    {
     "data": {
      "text/plain": [
       "'rmse'"
      ]
     },
     "execution_count": 9,
     "metadata": {},
     "output_type": "execute_result"
    }
   ],
   "source": [
    "models.getEvaluator().getMetricName()"
   ]
  },
  {
   "cell_type": "raw",
   "metadata": {},
   "source": [
    "models.bestModel.transform()"
   ]
  },
  {
   "cell_type": "code",
   "execution_count": 10,
   "metadata": {},
   "outputs": [],
   "source": [
    "some_model = pipeline.fit(debug_data)"
   ]
  },
  {
   "cell_type": "code",
   "execution_count": 11,
   "metadata": {},
   "outputs": [
    {
     "data": {
      "text/plain": [
       "0.21572674528694322"
      ]
     },
     "execution_count": 11,
     "metadata": {},
     "output_type": "execute_result"
    }
   ],
   "source": [
    "RegressionEvaluator(labelCol=\"stars\").evaluate(\n",
    "    some_model.transform(debug_data) #some_predictions = some_model.transform(debug_data)\n",
    ")"
   ]
  },
  {
   "cell_type": "code",
   "execution_count": 20,
   "metadata": {
    "scrolled": false
   },
   "outputs": [],
   "source": [
    "some_model.save(\"/user/some.model\")"
   ]
  },
  {
   "cell_type": "code",
   "execution_count": 16,
   "metadata": {},
   "outputs": [
    {
     "name": "stdout",
     "output_type": "stream",
     "text": [
      "Found 11 items\r\n",
      "drwxrwxrwt   - hdfs hadoop          0 2020-12-17 13:17 /user/hbase\r\n",
      "drwxrwxrwt   - hdfs hadoop          0 2020-12-17 13:17 /user/hdfs\r\n",
      "drwxrwxrwt   - hdfs hadoop          0 2020-12-17 13:17 /user/hive\r\n",
      "drwxrwxrwt   - hdfs hadoop          0 2020-12-17 13:17 /user/mapred\r\n",
      "drwxrwxrwt   - hdfs hadoop          0 2020-12-17 13:17 /user/pig\r\n",
      "-rw-r--r--   2 root hadoop 6325565224 2020-12-17 13:23 /user/qlr\r\n",
      "drwxr-xr-x   - root hadoop          0 2020-12-17 13:20 /user/root\r\n",
      "drwxrwxrwt   - hdfs hadoop          0 2020-12-17 13:17 /user/spark\r\n",
      "drwxrwxrwt   - hdfs hadoop          0 2020-12-17 13:17 /user/yarn\r\n",
      "-rw-r--r--   2 root hadoop 6325565224 2020-12-17 13:27 /user/yelp_academic_dataset_review.json\r\n",
      "drwxrwxrwt   - hdfs hadoop          0 2020-12-17 13:17 /user/zookeeper\r\n"
     ]
    }
   ],
   "source": [
    "!hdfs dfs -ls /user"
   ]
  },
  {
   "cell_type": "code",
   "execution_count": 17,
   "metadata": {},
   "outputs": [
    {
     "name": "stdout",
     "output_type": "stream",
     "text": [
      "-rw-r--r--   2 root hadoop 6325565224 2020-12-17 13:23 /user/qlr\r\n"
     ]
    }
   ],
   "source": [
    "!hdfs dfs -ls /user/qlr"
   ]
  },
  {
   "cell_type": "code",
   "execution_count": 18,
   "metadata": {},
   "outputs": [
    {
     "name": "stdout",
     "output_type": "stream",
     "text": [
      "Found 1 items\r\n",
      "drwxr-xr-x   - root hadoop          0 2020-12-17 14:00 /user/root/.sparkStaging\r\n"
     ]
    }
   ],
   "source": [
    "!hdfs dfs -ls /user/root"
   ]
  },
  {
   "cell_type": "code",
   "execution_count": 28,
   "metadata": {},
   "outputs": [
    {
     "name": "stdout",
     "output_type": "stream",
     "text": [
      "/\r\n"
     ]
    }
   ],
   "source": [
    "!pwd"
   ]
  },
  {
   "cell_type": "code",
   "execution_count": 29,
   "metadata": {},
   "outputs": [],
   "source": [
    "!rm /home/qlr/some_model\n",
    "!hdfs dfs -get /user/some.model /home/qlr/some_model"
   ]
  },
  {
   "cell_type": "code",
   "execution_count": null,
   "metadata": {},
   "outputs": [],
   "source": [
    "!gsutils cp -r "
   ]
  }
 ],
 "metadata": {
  "kernelspec": {
   "display_name": "Python 3",
   "language": "python",
   "name": "python3"
  },
  "language_info": {
   "codemirror_mode": {
    "name": "ipython",
    "version": 3
   },
   "file_extension": ".py",
   "mimetype": "text/x-python",
   "name": "python",
   "nbconvert_exporter": "python",
   "pygments_lexer": "ipython3",
   "version": "3.8.5"
  }
 },
 "nbformat": 4,
 "nbformat_minor": 2
}
