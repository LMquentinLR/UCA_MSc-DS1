{
 "cells": [
  {
   "cell_type": "markdown",
   "metadata": {},
   "source": [
    "# Managing Fast Data\n",
    "\n",
    "<u>example case:</u> there is no notion of whole dataset, new data is created all the time.\n",
    "\n",
    "### Data Streaming\n",
    "\n",
    "- A **stream** is an unbounded sequence of elements (No end to a stream, new data become available over time, some might become unavailable or outdated). \n",
    "- Elements of a stream have **timestamps** (generation time as measured by the souce, arrival in the system, as measured by the system).\n",
    "- Elements are produced by **external sources** (no control on the volume and the arrival rate)\n",
    "- Systems specialize in stream-processing and are called **Data Stream Processing** (DSP) systems or **Stream Processing Engines** (SPE)\n",
    "\n",
    "### 8 requirements of Real-Time Stream Processing\n",
    "\n",
    "1. Keep the data moving (data should not be stored for processing)\n",
    "2. Support a high-level, stream-oriented language (need for adapted primitives nd operators)\n",
    "3. PRovide resilience against streams imperfections (missing or out of order data)\n",
    "4. Be deterministic (otucome should be predicatble and repeatable)\n",
    "5. Have an efficeint way to store, access, or modify state information (this information can represent results on past events, allows processing new data with past information, should not add latency -- no complex or remote database access)\n",
    "6. Ensure availability and data integrity (use high availability solutions like master with failover, no data should be lost)\n",
    "7. the system should be scalable (distributed with automatic horizontal scaling)\n",
    "8. Process data immediately (low overhead and low latency)"
   ]
  },
  {
   "cell_type": "markdown",
   "metadata": {},
   "source": [
    "### Processing models\n",
    "\n",
    "- **batch processing** (wait for all data before processing, high latency but high efficiency): **Hadoop-like**\n",
    "- **Event-based processing** (process each new data as they arrive, low latency byt high overhead): **Storm**\n",
    "- **Micro-batching** (process new data in small batches, try to balance latency and overhead): **Spark streaming**\n",
    "\n",
    "### Programming model\n",
    "\n",
    "- Dataflow (or datastream) programming (program is a directed acyclic graph or DAG, usually called a topology)\n",
    "- Each vertex is an operator (data flow through edges)\n",
    "- Data usually have: timestamp, key-value format, sometimes called tuples\n",
    "\n",
    "- Assume a shared nothging architecture (operators can have internal state, work on separate streams/partitions)\n",
    "- Easy parallelism and distribution (split data maong operators, scaling-out operators)"
   ]
  },
  {
   "cell_type": "markdown",
   "metadata": {},
   "source": [
    "### Execution Model\n",
    "\n",
    "- Exactly one (each data is preocessed exactly once, intuitive model but hard to enforce)\n",
    "- At least once (all data will be processed once, some might be processed muyltiple times -- in case of failures)\n",
    "\n",
    "### Common operators \n",
    "\n",
    "- Some operators appear often in apps/papers\n",
    "- stateless operators (map, filter)\n",
    "\n",
    "- stateful operators:\n",
    "    - work on multiple data, including previous\n",
    "    - sum, count, min, max, average\n",
    "    \n",
    "### Windowing\n",
    "\n",
    "- Sometimes need to process elements in group (but a datastream is unbounded, need to artificially create groups)\n",
    "- Window (A finite set of elements to be processed together, can cover multiple micro-batches)\n",
    "- Elements can be grouped by timestamps, count, other criteria\n",
    "\n",
    "### Metrics\n",
    "\n",
    "- Processing time (measure at each operator)\n",
    "- Latency (duration between arrival of dat and its processing, can be measured at various points, end-to-end latency indicates - how reactive the system is)\n",
    "- Throughput (number of tuples processed per time-unit)\n",
    "- Latency and throughput can change independently"
   ]
  },
  {
   "cell_type": "markdown",
   "metadata": {},
   "source": [
    "## Maintaining state\n",
    "\n",
    "It's possible to maintain a state.\n",
    "\n",
    "Need to defined your state and its initial value"
   ]
  },
  {
   "cell_type": "markdown",
   "metadata": {},
   "source": []
  },
  {
   "cell_type": "markdown",
   "metadata": {},
   "source": []
  },
  {
   "cell_type": "markdown",
   "metadata": {},
   "source": []
  }
 ],
 "metadata": {
  "kernelspec": {
   "display_name": "Python 3",
   "language": "python",
   "name": "python3"
  },
  "language_info": {
   "codemirror_mode": {
    "name": "ipython",
    "version": 3
   },
   "file_extension": ".py",
   "mimetype": "text/x-python",
   "name": "python",
   "nbconvert_exporter": "python",
   "pygments_lexer": "ipython3",
   "version": "3.8.5"
  }
 },
 "nbformat": 4,
 "nbformat_minor": 4
}
