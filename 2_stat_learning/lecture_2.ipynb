{
 "cells": [
  {
   "cell_type": "markdown",
   "metadata": {},
   "source": [
    "# Statistical Learning - lecture 2"
   ]
  },
  {
   "cell_type": "markdown",
   "metadata": {},
   "source": [
    "One **solution to overfitting**:\n",
    "\n",
    "> reduce the hypothesis class\n",
    "\n",
    "In advance, choose a restricted $H$ to solve:\n",
    "\n",
    "> $h\\in \\underset{h\\in H}{argmin} \\hat{R}_S(h)$\n",
    ">\n",
    "> We *bias* the predictor\n",
    "\n",
    "### Finite hypothesis class\n",
    "\n",
    "**Assumption** (of *realizability*): There exists $h^* \\in H$ such that $R_{D,f}(h^*)=0$\n",
    "\n",
    "i.e. in the noiseless setting, $\\hat{R}_S(h^*)=0$ with probability $1$ over the sampling of S, and therefore $\\hat{R}_S(h_S)=0$.\n",
    "\n",
    "$\\exists\\, h^*\\in H\\quad s.t.\\quad R_{D,f}(h^*)=0$\n",
    "\n",
    "$R(h^*(x)\\neq f(x))=0 \\Rightarrow h^*(x)=f(x)$ almost surely\n",
    "\n",
    "$h^*(x_i)=f(x_i) = y_i \\forall i$\n",
    "\n",
    "$\\frac{1}{n}\\sum\\mathbb{1}_{h^*(x_i) \\neq f(x_i)}=0$\n",
    "\n",
    "$\\Rightarrow \\hat{R}_S(h^*) = 0$\n",
    "\n",
    "$h_S$ minimizes $\\hat{R}_S(h)$ for $h\\in H$ \n",
    "\n",
    "$\\exists h^* \\in H\\quad s.t.\\quad \\hat{R}_S(H^*)=0$\n",
    "\n",
    "$\\hat{R}_S(h_S) \\le \\hat{R}_S(h^*)$\n",
    "\n",
    "> $h^*$ is one element of $H$\n",
    "> \n",
    "> $h_S$ is another element of $H$ that is chosen for the solution (it yields the best solution $\\hat{R}_S(h_S)$"
   ]
  },
  {
   "cell_type": "markdown",
   "metadata": {},
   "source": []
  },
  {
   "cell_type": "markdown",
   "metadata": {},
   "source": []
  },
  {
   "cell_type": "markdown",
   "metadata": {},
   "source": []
  },
  {
   "cell_type": "markdown",
   "metadata": {},
   "source": []
  },
  {
   "cell_type": "markdown",
   "metadata": {},
   "source": []
  },
  {
   "cell_type": "markdown",
   "metadata": {},
   "source": []
  },
  {
   "cell_type": "markdown",
   "metadata": {},
   "source": []
  },
  {
   "cell_type": "markdown",
   "metadata": {},
   "source": []
  },
  {
   "cell_type": "markdown",
   "metadata": {},
   "source": []
  },
  {
   "cell_type": "markdown",
   "metadata": {},
   "source": []
  },
  {
   "cell_type": "markdown",
   "metadata": {},
   "source": []
  },
  {
   "cell_type": "markdown",
   "metadata": {},
   "source": []
  }
 ],
 "metadata": {
  "kernelspec": {
   "display_name": "Python 3",
   "language": "python",
   "name": "python3"
  },
  "language_info": {
   "codemirror_mode": {
    "name": "ipython",
    "version": 3
   },
   "file_extension": ".py",
   "mimetype": "text/x-python",
   "name": "python",
   "nbconvert_exporter": "python",
   "pygments_lexer": "ipython3",
   "version": "3.8.5"
  }
 },
 "nbformat": 4,
 "nbformat_minor": 4
}
