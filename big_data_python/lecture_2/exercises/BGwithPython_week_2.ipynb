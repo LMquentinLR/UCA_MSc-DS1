{
 "cells": [
  {
   "cell_type": "markdown",
   "metadata": {},
   "source": [
    "# Lecture 2 - Big Data with Python\n",
    "\n",
    "Coursework page: https://marcomilanesio.github.io/teaching.html"
   ]
  },
  {
   "cell_type": "markdown",
   "metadata": {},
   "source": [
    "## 1. Concurrency\n",
    "\n",
    "Ability to perform multiple things at a time.\n",
    "\n",
    "**single threading**: ACCEPT $\\rightarrow$ BIND $\\rightarrow$ RECEIVE $\\rightarrow$ SEND $\\rightarrow$ *loops to RECEIVE*\n",
    "\n",
    "**multi-threading**: \n",
    "\n",
    "- ACCEPT $\\rightarrow$ BIND $\\rightarrow$ RECEIVE $\\rightarrow$ SEND $\\rightarrow$ *loops to RECEIVE* [**THREAD 1**]\n",
    "\n",
    "- <span style=\"color:white\">ACCEPT $\\rightarrow$ BIND</span> $\\rightarrow$ ACCEPT \n",
    "\n",
    "- <span style=\"color:white\">ACCEPT $\\rightarrow$ BIND $\\rightarrow$ ACCEPT</span> $\\rightarrow$ BIND $\\rightarrow$ RECEIVE $\\rightarrow$ SEND $\\rightarrow$ *loops to RECEIVE*  [**THREAD 2**]"
   ]
  },
  {
   "cell_type": "markdown",
   "metadata": {},
   "source": [
    "### Example: Fibonnacci"
   ]
  },
  {
   "cell_type": "code",
   "execution_count": 1,
   "metadata": {},
   "outputs": [],
   "source": [
    "def fib(n):\n",
    "    \"\"\"Time complexity: 2^n\"\"\"\n",
    "    if n <= 2:\n",
    "        return 1\n",
    "    else:\n",
    "        return fib(n-2)+fib(n-1)"
   ]
  },
  {
   "cell_type": "code",
   "execution_count": 9,
   "metadata": {},
   "outputs": [
    {
     "name": "stdout",
     "output_type": "stream",
     "text": [
      "94.8 ns ± 2.34 ns per loop (mean ± std. dev. of 7 runs, 10000000 loops each)\n"
     ]
    }
   ],
   "source": [
    "%timeit fib(1)"
   ]
  },
  {
   "cell_type": "code",
   "execution_count": 10,
   "metadata": {},
   "outputs": [
    {
     "name": "stdout",
     "output_type": "stream",
     "text": [
      "11.8 µs ± 360 ns per loop (mean ± std. dev. of 7 runs, 100000 loops each)\n"
     ]
    }
   ],
   "source": [
    "%timeit fib(10)"
   ]
  },
  {
   "cell_type": "code",
   "execution_count": 11,
   "metadata": {},
   "outputs": [
    {
     "name": "stdout",
     "output_type": "stream",
     "text": [
      "21.8 s ± 105 ms per loop (mean ± std. dev. of 7 runs, 1 loop each)\n"
     ]
    }
   ],
   "source": [
    "%timeit fib(40)"
   ]
  }
 ],
 "metadata": {
  "kernelspec": {
   "display_name": "Python 3",
   "language": "python",
   "name": "python3"
  },
  "language_info": {
   "codemirror_mode": {
    "name": "ipython",
    "version": 3
   },
   "file_extension": ".py",
   "mimetype": "text/x-python",
   "name": "python",
   "nbconvert_exporter": "python",
   "pygments_lexer": "ipython3",
   "version": "3.8.3"
  }
 },
 "nbformat": 4,
 "nbformat_minor": 4
}
