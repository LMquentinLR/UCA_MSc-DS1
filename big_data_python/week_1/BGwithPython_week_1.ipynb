{
 "cells": [
  {
   "cell_type": "markdown",
   "metadata": {},
   "source": [
    "# Week 1 - Big Data with Python\n",
    "\n",
    "Coursework page: https://marcomilanesio.github.io/teaching.html\n",
    "\n",
    "## 1. Named Tuples"
   ]
  },
  {
   "cell_type": "code",
   "execution_count": 7,
   "metadata": {},
   "outputs": [],
   "source": [
    "from collections import namedtuple"
   ]
  },
  {
   "cell_type": "code",
   "execution_count": 12,
   "metadata": {},
   "outputs": [
    {
     "data": {
      "text/plain": [
       "'Marco'"
      ]
     },
     "execution_count": 12,
     "metadata": {},
     "output_type": "execute_result"
    }
   ],
   "source": [
    "Person = namedtuple('Person',['name','surname','affiliation'])\n",
    "example = Person('Marco','Milanesio','UCA')\n",
    "\n",
    "example.name"
   ]
  },
  {
   "cell_type": "code",
   "execution_count": 15,
   "metadata": {},
   "outputs": [
    {
     "data": {
      "text/plain": [
       "('Marco', 'Milanesio', 'UCA')"
      ]
     },
     "execution_count": 15,
     "metadata": {},
     "output_type": "execute_result"
    }
   ],
   "source": [
    "tup_example = ('Marco','Milanesio','UCA')\n",
    "tup_example"
   ]
  },
  {
   "cell_type": "code",
   "execution_count": 22,
   "metadata": {},
   "outputs": [
    {
     "ename": "TypeError",
     "evalue": "'tuple' object does not support item assignment",
     "output_type": "error",
     "traceback": [
      "\u001b[0;31m---------------------------------------------------------------------------\u001b[0m",
      "\u001b[0;31mTypeError\u001b[0m                                 Traceback (most recent call last)",
      "\u001b[0;32m<ipython-input-22-5ab739938392>\u001b[0m in \u001b[0;36m<module>\u001b[0;34m\u001b[0m\n\u001b[1;32m      1\u001b[0m \u001b[0;31m# immutable\u001b[0m\u001b[0;34m\u001b[0m\u001b[0;34m\u001b[0m\u001b[0;34m\u001b[0m\u001b[0m\n\u001b[0;32m----> 2\u001b[0;31m \u001b[0mtup_example\u001b[0m\u001b[0;34m[\u001b[0m\u001b[0;36m1\u001b[0m\u001b[0;34m]\u001b[0m \u001b[0;34m=\u001b[0m \u001b[0;36m2\u001b[0m\u001b[0;34m\u001b[0m\u001b[0;34m\u001b[0m\u001b[0m\n\u001b[0m",
      "\u001b[0;31mTypeError\u001b[0m: 'tuple' object does not support item assignment"
     ]
    }
   ],
   "source": [
    "# immutable\n",
    "tup_example[1] = 2"
   ]
  },
  {
   "cell_type": "code",
   "execution_count": 18,
   "metadata": {},
   "outputs": [],
   "source": [
    "#record = (val1, val2, val3)\n",
    "#a, b, c = record\n",
    "#val = record[0]"
   ]
  },
  {
   "cell_type": "markdown",
   "metadata": {},
   "source": [
    "## 2. List"
   ]
  },
  {
   "cell_type": "code",
   "execution_count": 19,
   "metadata": {},
   "outputs": [
    {
     "data": {
      "text/plain": [
       "4"
      ]
     },
     "execution_count": 19,
     "metadata": {},
     "output_type": "execute_result"
    }
   ],
   "source": [
    "l = [1,2,3,\"aaaah\"]\n",
    "len(l)"
   ]
  },
  {
   "cell_type": "code",
   "execution_count": 20,
   "metadata": {
    "scrolled": true
   },
   "outputs": [
    {
     "data": {
      "text/plain": [
       "[1, 2, 3, 'aaaah', 5]"
      ]
     },
     "execution_count": 20,
     "metadata": {},
     "output_type": "execute_result"
    }
   ],
   "source": [
    "l.append(5)\n",
    "l"
   ]
  },
  {
   "cell_type": "code",
   "execution_count": 24,
   "metadata": {},
   "outputs": [
    {
     "data": {
      "text/plain": [
       "[1, 'oooooh', 3, 'aaaah', 5]"
      ]
     },
     "execution_count": 24,
     "metadata": {},
     "output_type": "execute_result"
    }
   ],
   "source": [
    "# mutable\n",
    "l[1] = \"oooooh\"\n",
    "l"
   ]
  },
  {
   "cell_type": "markdown",
   "metadata": {},
   "source": [
    "## 3. Set"
   ]
  },
  {
   "cell_type": "code",
   "execution_count": 25,
   "metadata": {},
   "outputs": [
    {
     "data": {
      "text/plain": [
       "{1, 2, 3, 4, 5, 23, 53}"
      ]
     },
     "execution_count": 25,
     "metadata": {},
     "output_type": "execute_result"
    }
   ],
   "source": [
    "l = {1,2,3,4,53,3,23,3,3,3,3,4,5}\n",
    "l"
   ]
  },
  {
   "cell_type": "markdown",
   "metadata": {},
   "source": [
    "## 4. Dictionary"
   ]
  },
  {
   "cell_type": "code",
   "execution_count": 26,
   "metadata": {},
   "outputs": [
    {
     "data": {
      "text/plain": [
       "False"
      ]
     },
     "execution_count": 26,
     "metadata": {},
     "output_type": "execute_result"
    }
   ],
   "source": [
    "d = {\"one\": 1, \"two\":2, \"three\":3}\n",
    "val = d[\"two\"]\n",
    "d[\"three\"] = val\n",
    "del d[\"two\"]\n",
    "\"two\" in d"
   ]
  },
  {
   "cell_type": "code",
   "execution_count": 27,
   "metadata": {},
   "outputs": [
    {
     "data": {
      "text/plain": [
       "dict_items([('one', 1), ('three', 2)])"
      ]
     },
     "execution_count": 27,
     "metadata": {},
     "output_type": "execute_result"
    }
   ],
   "source": [
    "d.items()"
   ]
  },
  {
   "cell_type": "code",
   "execution_count": 28,
   "metadata": {},
   "outputs": [
    {
     "data": {
      "text/plain": [
       "dict_keys(['one', 'three'])"
      ]
     },
     "execution_count": 28,
     "metadata": {},
     "output_type": "execute_result"
    }
   ],
   "source": [
    "d.keys()"
   ]
  },
  {
   "cell_type": "code",
   "execution_count": 29,
   "metadata": {},
   "outputs": [
    {
     "data": {
      "text/plain": [
       "dict_values([1, 2])"
      ]
     },
     "execution_count": 29,
     "metadata": {},
     "output_type": "execute_result"
    }
   ],
   "source": [
    "d.values()"
   ]
  },
  {
   "cell_type": "markdown",
   "metadata": {},
   "source": [
    "## 5. Default Dictionnary"
   ]
  },
  {
   "cell_type": "code",
   "execution_count": 30,
   "metadata": {},
   "outputs": [],
   "source": [
    "from collections import defaultdict"
   ]
  },
  {
   "cell_type": "markdown",
   "metadata": {},
   "source": [
    "```python\n",
    "d = defaultdict(list)\n",
    "d[key].append(value)\n",
    "values = d[key]\n",
    "d = defaultdict(set)\n",
    "d[key].add(value)\n",
    "unique_values = d[key]\n",
    "```"
   ]
  },
  {
   "cell_type": "markdown",
   "metadata": {},
   "source": [
    "## 6. Counter"
   ]
  },
  {
   "cell_type": "code",
   "execution_count": 31,
   "metadata": {},
   "outputs": [],
   "source": [
    "from collections import Counter"
   ]
  },
  {
   "cell_type": "code",
   "execution_count": 35,
   "metadata": {},
   "outputs": [
    {
     "data": {
      "text/plain": [
       "Counter({'H': 1,\n",
       "         'e': 1,\n",
       "         'l': 3,\n",
       "         'o': 2,\n",
       "         ' ': 1,\n",
       "         'w': 1,\n",
       "         'r': 1,\n",
       "         'd': 1,\n",
       "         '!': 1})"
      ]
     },
     "execution_count": 35,
     "metadata": {},
     "output_type": "execute_result"
    }
   ],
   "source": [
    "c = Counter(\"Hello world!\")\n",
    "c"
   ]
  },
  {
   "cell_type": "code",
   "execution_count": 36,
   "metadata": {},
   "outputs": [
    {
     "data": {
      "text/plain": [
       "3"
      ]
     },
     "execution_count": 36,
     "metadata": {},
     "output_type": "execute_result"
    }
   ],
   "source": [
    "c['l']"
   ]
  },
  {
   "cell_type": "code",
   "execution_count": 37,
   "metadata": {},
   "outputs": [
    {
     "data": {
      "text/plain": [
       "[('l', 3), ('o', 2)]"
      ]
     },
     "execution_count": 37,
     "metadata": {},
     "output_type": "execute_result"
    }
   ],
   "source": [
    "c.most_common(2)"
   ]
  },
  {
   "cell_type": "markdown",
   "metadata": {},
   "source": [
    "## 7. Comprehension"
   ]
  },
  {
   "cell_type": "code",
   "execution_count": 42,
   "metadata": {},
   "outputs": [
    {
     "data": {
      "text/plain": [
       "[0, 1, 4, 9, 16, 25, 36, 49, 64, 81]"
      ]
     },
     "execution_count": 42,
     "metadata": {},
     "output_type": "execute_result"
    }
   ],
   "source": [
    "l = list(range(10))\n",
    "comp = [x**2 for x in l]\n",
    "comp"
   ]
  },
  {
   "cell_type": "markdown",
   "metadata": {},
   "source": [
    "## 8. Generator"
   ]
  },
  {
   "cell_type": "code",
   "execution_count": 38,
   "metadata": {},
   "outputs": [],
   "source": [
    "g = (a for a in [1,2,3,4,5,6,7])"
   ]
  },
  {
   "cell_type": "code",
   "execution_count": 40,
   "metadata": {},
   "outputs": [
    {
     "data": {
      "text/plain": [
       "2"
      ]
     },
     "execution_count": 40,
     "metadata": {},
     "output_type": "execute_result"
    }
   ],
   "source": [
    "next(g)"
   ]
  },
  {
   "cell_type": "markdown",
   "metadata": {},
   "source": [
    "# 9. Food Ratings Exercise"
   ]
  },
  {
   "cell_type": "code",
   "execution_count": 54,
   "metadata": {},
   "outputs": [],
   "source": [
    "import pandas as pd\n",
    "import csv"
   ]
  },
  {
   "cell_type": "code",
   "execution_count": 55,
   "metadata": {},
   "outputs": [],
   "source": [
    "food_inspections = pd.read_csv(\"Food_Inspections.csv\")"
   ]
  },
  {
   "cell_type": "code",
   "execution_count": 56,
   "metadata": {},
   "outputs": [],
   "source": [
    "food = list(csv.DictReader(open(\"Food_Inspections.csv\")))"
   ]
  },
  {
   "cell_type": "code",
   "execution_count": 57,
   "metadata": {},
   "outputs": [
    {
     "data": {
      "text/plain": [
       "211348"
      ]
     },
     "execution_count": 57,
     "metadata": {},
     "output_type": "execute_result"
    }
   ],
   "source": [
    "len(food)"
   ]
  },
  {
   "cell_type": "code",
   "execution_count": 59,
   "metadata": {},
   "outputs": [
    {
     "data": {
      "text/plain": [
       "{'Business Not Located',\n",
       " 'Fail',\n",
       " 'No Entry',\n",
       " 'Not Ready',\n",
       " 'Out of Business',\n",
       " 'Pass',\n",
       " 'Pass w/ Conditions'}"
      ]
     },
     "execution_count": 59,
     "metadata": {},
     "output_type": "execute_result"
    }
   ],
   "source": [
    "results = {row['Results'] for row in food}\n",
    "results"
   ]
  },
  {
   "cell_type": "code",
   "execution_count": 62,
   "metadata": {},
   "outputs": [
    {
     "data": {
      "text/plain": [
       "{'Inspection ID': '2373427',\n",
       " 'DBA Name': 'THE BUNKER',\n",
       " 'AKA Name': 'THE BUNKER',\n",
       " 'License #': '2718517',\n",
       " 'Facility Type': 'Restaurant',\n",
       " 'Risk': 'Risk 3 (Low)',\n",
       " 'Address': '1515 W MONROE ST ',\n",
       " 'City': 'CHICAGO',\n",
       " 'State': 'IL',\n",
       " 'Zip': '60607',\n",
       " 'Inspection Date': '06/09/2020',\n",
       " 'Inspection Type': 'License',\n",
       " 'Results': 'Fail',\n",
       " 'Violations': '',\n",
       " 'Latitude': '41.88008566659281',\n",
       " 'Longitude': '-87.66505441566734',\n",
       " 'Location': '(-87.66505441566734, 41.88008566659281)'}"
      ]
     },
     "execution_count": 62,
     "metadata": {},
     "output_type": "execute_result"
    }
   ],
   "source": [
    "fails = [row for row in food if row['Results']=='Fail']\n",
    "fails[0]"
   ]
  },
  {
   "cell_type": "code",
   "execution_count": 65,
   "metadata": {},
   "outputs": [
    {
     "data": {
      "text/plain": [
       "{'Inspection ID': '2360021',\n",
       " 'DBA Name': 'I LOVE SUSHI',\n",
       " 'AKA Name': 'I LOVE SUSHI',\n",
       " 'License #': '2594986',\n",
       " 'Facility Type': 'Restaurant',\n",
       " 'Risk': 'Risk 1 (High)',\n",
       " 'Address': '233 N MICHIGAN AVE ',\n",
       " 'City': 'CHICAGO',\n",
       " 'State': 'IL',\n",
       " 'Zip': '60601',\n",
       " 'Inspection Date': '02/06/2020',\n",
       " 'Inspection Type': 'Canvass',\n",
       " 'Results': 'Fail',\n",
       " 'Violations': \"10. ADEQUATE HANDWASHING SINKS PROPERLY SUPPLIED AND ACCESSIBLE - Comments: FOUND NO HANDWASHING SIGNAGE AT HAND SINK, INSTRUCTED TO POST HANDWASHING SIGNAGE AND MAINTAIN.  | 23. PROPER DATE MARKING AND DISPOSITION - Comments: FOUND READY-TO-EAT, TIME/TEMPERATURE CONTROL FOR SAFETY (TCS) FOODS (EX. CRAB MEAT) NOT DATE MARKED TO INDICATE THE PRODUCT'S NAME AND DATE IN WHICH THE FOOD MUST BE SOLD, DISCARDED OR CONSUMED WITHIN 7 DAYS. INSTRUCTED TO PROVIDE PROPER LABELS FOR DATE MARKING AND DISCARD DATE FOR REFRIGERATED, READY-TO-EAT, TCS FOODS HELD OVER 24HRS PLACED IN ALL COLD-HOLDING UNITS. PRIORITY FOUNDATION VIOLATION 7-38-005. CITATION ISSUED. | 25. CONSUMER ADVISORY PROVIDED FOR RAW/UNDERCOOKED FOOD - Comments: MUST PROVIDE A DISCLOSURE AND REMINDER STATEMENT ON MENU BOARD AND PAPER MENUS, REGARDING RAW SUSHI. INSTRUCTED TO MAINTAIN. (REFER TO CONSUMER ADVISORY HANDOUT) PRIORITY FOUNDATION VIOLATION 7-38-005. CITATION ISSUED | 37. FOOD PROPERLY LABELED; ORIGINAL CONTAINER - Comments: FOUND GRAB & GO FOOD ITEMS (SEAWEED AND SUSHI) ON DISPLAY NOT PROPERLY LABELED. INSTRUCTED PERSON IN CHARGE TO PROPERLY LABEL ALL PACKAGED FOOD ITEMS WITH IDENTITY, NET WEIGHT, INGREDIENTS, LIST MAJOR ALLERGENS, BUSINESS NAME AND ADDRESS WHERE MADE AND PACKAGED. PRIORITY FOUNDATION VIOLATION #7-38-005.  CITATION ISSUED.  | 37. FOOD PROPERLY LABELED; ORIGINAL CONTAINER - Comments: MUST LABEL FOOD STORAGE CONTAINERS WITH COMMON FOOD NAMES; FLOUR, SUGAR, ETC., WHEN FOOD HAS BEEN REMOVED FROM ORIGINAL PACKAGING. INSTRUCTED TO MAINTAIN | 39. CONTAMINATION PREVENTED DURING FOOD PREPARATION, STORAGE & DISPLAY - Comments: FOUND FLOUR AND SUGAR STORED UNDERNEATH STORAGE COUNTER IN PREP AREA NOT COVERED, INSTRUCTED TO COVER FOOD TO PREVENT CONTAMINATION, AND MAINTAIN.  | 41. WIPING CLOTHS: PROPERLY USED & STORED - Comments: FOUND WIPING CLOTHS STORE ON COUNTERS THROUGHOUT PREP AREA, INSTRUCTED TO STORE CLOTHS IN SANITIZER SOLUTION BETWEEN USES TO PREVENT CROSS CONTAMINATION, AND MAINTAIN.  | 49. NON-FOOD/FOOD CONTACT SURFACES CLEAN - Comments: FOUND EXCESSIVE GREASE ACCUMULATION ON EXTERIOR SURFACES OF COOKING EQUIPMENT AND FRYERS. INSTRUCTED TO DEGREASE, CLEAN AND MAINTAIN.  | 49. NON-FOOD/FOOD CONTACT SURFACES CLEAN - Comments: FOUND DRIED FOOD DEBRIS ON INTERIOR CONTACT SURFACES OF 1-DOOR UPRIGHT FREEZER, LOWER SHELVES ON ALL PREP TABLES, AND STORAGE COMPARTMENTS UNDERNEATH STEAM TABLE. INSTRUCTED TO CLEAN AND MAINTAIN.  | 51. PLUMBING INSTALLED; PROPER BACKFLOW DEVICES - Comments: FOUND LEAKY FAUCET BASE ON ON 3-COMP SINK, INSTRUCTED TO REPAIR AND MAINTAIN.  | 55. PHYSICAL FACILITIES INSTALLED, MAINTAINED & CLEAN - Comments: FOUND DRIED FOOD DEBRIS ON FLOORS, FLOOR CORNERS, AND WALLS THROUGHOUT FACILITY, INSTRUCTED TO DETAIL CLEAN AND MAINTAIN.  | 55. PHYSICAL FACILITIES INSTALLED, MAINTAINED & CLEAN - Comments: FOUND MISSING AND DAMAGED FLOOR TILES IN THE REAR PREP AREA. INSTRUCTED TO REPAIR TO CREATE A SMOOTH AND EASILY CLEANABLE SURFACE. MUST MAINTAIN AT ALL TIMES. | 56. ADEQUATE VENTILATION & LIGHTING; DESIGNATED AREAS USED - Comments: FOUND BURNED OUT LIGHT IN HOOD ABOVE COOKING EQUIPMENT, INSTRUCTED TO REPLACE LIGHT AND MAINTAIN.  | 57. ALL FOOD EMPLOYEES HAVE FOOD HANDLER TRAINING - Comments: FOOD HANDLER REQUIREMENTS NOT MET, INFORMATION PROVIDED.  | 58. ALLERGEN TRAINING AS REQUIRED - Comments: SEE VIOLATION #60. | 60. PREVIOUS CORE VIOLATION CORRECTED - Comments: FOUND PREVIOUS CORE VIOLATIONS NOT CORRECTED FOR INSPECTION REPORT DATED 8/26/19. VIOLATION INCLUDES: #58 -OBSERVED NO CERTIFIED FOOD MANAGER WITH ALLERGEN TRAINING. INSTRUCTED ANY PERSONS WITH THE CITY OF CHICAGO FOOD SANITATION CERTIFICATE TO COMPLY WITH COMPLETION OF TRAINING. MUST PROVIDE DOCUMENTATION.  VIOLATION STILL EXISTS. PRIORITY FOUNDATION 7-42-090, CITATION ISSUED.  \",\n",
       " 'Latitude': '41.886567370886944',\n",
       " 'Longitude': '-87.62438467059714',\n",
       " 'Location': '(-87.62438467059714, 41.886567370886944)'}"
      ]
     },
     "execution_count": 65,
     "metadata": {},
     "output_type": "execute_result"
    }
   ],
   "source": [
    "violations = [row for row in food if row['Violations']!='']\n",
    "violations[0]"
   ]
  },
  {
   "cell_type": "code",
   "execution_count": 69,
   "metadata": {},
   "outputs": [
    {
     "data": {
      "text/plain": [
       "[('SUBWAY', 365),\n",
       " ('DUNKIN DONUTS', 226),\n",
       " (\"MCDONALD'S\", 116),\n",
       " ('7-ELEVEN', 66),\n",
       " ('MCDONALDS', 60),\n",
       " ('POTBELLY SANDWICH WORKS LLC', 56),\n",
       " ('CITGO', 55),\n",
       " ('DUNKIN DONUTS/BASKIN ROBBINS', 49),\n",
       " (\"HAROLD'S CHICKEN SHACK\", 49),\n",
       " ('CHIPOTLE MEXICAN GRILL', 48)]"
      ]
     },
     "execution_count": 69,
     "metadata": {},
     "output_type": "execute_result"
    }
   ],
   "source": [
    "worst = Counter(row['DBA Name'] for row in fails)\n",
    "worst.most_common(10)"
   ]
  },
  {
   "cell_type": "code",
   "execution_count": 71,
   "metadata": {},
   "outputs": [
    {
     "data": {
      "text/plain": [
       "28477"
      ]
     },
     "execution_count": 71,
     "metadata": {},
     "output_type": "execute_result"
    }
   ],
   "source": [
    "len(set(row['DBA Name'] for row in food))"
   ]
  },
  {
   "cell_type": "code",
   "execution_count": 73,
   "metadata": {},
   "outputs": [],
   "source": [
    "# We see that there are several possible values for McDonald's\n",
    "\n",
    "fails = [{**row, 'DBA Name': row['DBA Name'].replace(\"'\",\"\")} \n",
    "         for row in fails]"
   ]
  },
  {
   "cell_type": "code",
   "execution_count": 74,
   "metadata": {},
   "outputs": [
    {
     "data": {
      "text/plain": [
       "[('SUBWAY', 365),\n",
       " ('DUNKIN DONUTS', 230),\n",
       " ('MCDONALDS', 176),\n",
       " ('7-ELEVEN', 66),\n",
       " ('JIMMY JOHNS', 60),\n",
       " ('POTBELLY SANDWICH WORKS LLC', 56),\n",
       " ('CITGO', 55),\n",
       " ('DUNKIN DONUTS/BASKIN ROBBINS', 50),\n",
       " ('HAROLDS CHICKEN SHACK', 49),\n",
       " ('CHIPOTLE MEXICAN GRILL', 48)]"
      ]
     },
     "execution_count": 74,
     "metadata": {},
     "output_type": "execute_result"
    }
   ],
   "source": [
    "worst = Counter(row['DBA Name'] for row in fails)\n",
    "worst.most_common(10)"
   ]
  },
  {
   "cell_type": "code",
   "execution_count": 80,
   "metadata": {},
   "outputs": [],
   "source": [
    "ohare = [row for row in fails \n",
    "         if row['Address'].startswith('11601 W TOUHY AVE')] "
   ]
  },
  {
   "cell_type": "code",
   "execution_count": 81,
   "metadata": {},
   "outputs": [
    {
     "data": {
      "text/plain": [
       "347"
      ]
     },
     "execution_count": 81,
     "metadata": {},
     "output_type": "execute_result"
    }
   ],
   "source": [
    "len(ohare)"
   ]
  },
  {
   "cell_type": "code",
   "execution_count": 78,
   "metadata": {},
   "outputs": [],
   "source": [
    "by_year = defaultdict(Counter)                   \n",
    "for row in fails: \n",
    "    by_year[row['Inspection Date'][-4:]][row['Address']]+=1 "
   ]
  },
  {
   "cell_type": "code",
   "execution_count": 79,
   "metadata": {},
   "outputs": [
    {
     "name": "stdout",
     "output_type": "stream",
     "text": [
      "2020 [('11601 W TOUHY AVE ', 7)]\n",
      "2019 [('11601 W TOUHY AVE ', 36)]\n",
      "2018 [('11601 W TOUHY AVE ', 46)]\n",
      "2017 [('11601 W TOUHY AVE ', 41)]\n",
      "2016 [('11601 W TOUHY AVE ', 51)]\n",
      "2015 [('11601 W TOUHY AVE ', 39)]\n",
      "2013 [('11601 W TOUHY AVE ', 37)]\n",
      "2014 [('11601 W TOUHY AVE ', 32)]\n",
      "2012 [('11601 W TOUHY AVE ', 18)]\n",
      "2011 [('333 W 35TH ST ', 26)]\n",
      "2010 [('11601 W TOUHY AVE ', 18)]\n"
     ]
    }
   ],
   "source": [
    "for key in by_year.keys(): \n",
    "    print(key, by_year[key].most_common(1)) "
   ]
  },
  {
   "cell_type": "code",
   "execution_count": 83,
   "metadata": {},
   "outputs": [
    {
     "data": {
      "text/plain": [
       "\"3. MANAGEMENT, FOOD EMPLOYEE AND CONDITIONAL EMPLOYEE; KNOWLEDGE, RESPONSIBILITIES AND REPORTING - Comments: OBSERVED NO WRITTEN EMPLOYEE HEALTH POLICY ON THE PREMISES. MANAGEMENT INSTRUCTED TO PROVIDE A SIGNED EMPLOYEE HEALTH POLICY FOR EACH EMPLOYEE. PRIORITY FOUNDATION 7-38-010,NO CITATION ISSUED. - | 5. PROCEDURES FOR RESPONDING TO VOMITING AND DIARRHEAL EVENTS - Comments: OBSERVED NO CLEAN UP PROCEDURE ON THE PREMISES FOR VOMIT AND DIARRHEAL EVENTS. MANAGEMENT INSTRUCTED TO PROVIDE A CLEAN UP PROCEDURE AND SUPPLIES. PRIORITY FOUNDATION 7-38-005, NO CITATION ISSUED. - | 10. ADEQUATE HANDWASHING SINKS PROPERLY SUPPLIED AND ACCESSIBLE - Comments: AT TIME OF INSPECTION, THE REAR PREP/DISHWASHING AREA HANDWASHING SINK WAS BLOCKED A LARGE KITCHEN STORAGE SHELF WITH KITCHEN MULTI-USE SHEET PANS AND CONTAINERS AND SOME KITCHEN MULTI-USE CONTAINERS WERE ALSO,HANGING OUT FROM SHELVING OBSTRUCTING SAID HANDWASHING SINK. INSTRUCTED TO MOVE SAID SHELVING UNIT AND MAINTAIN HANDWASHING SINK (ACCESSIBLE) FOR HANDWASHING AND MAINTAIN AT ALL TIMES. PRIORITY FOUNDATION VIOLATION 7-38-030(C),CITATION ISSUED. - COS.  | 16. FOOD-CONTACT SURFACES: CLEANED & SANITIZED - Comments: OBSERVED BLACK SLIMY SUBSTANCES ON INTERIOR WATER COMPONENTS OF THE ICE MACHINE,DRIPPING INTO ICE 'ICE IS USED FOR HUMAN CONSUMPTION'. MANAGEMENT WAS INSTRUCTED TO TURN OFF MACHINE, REMOVE ICE AND HAVE INTERIOR OF ICE MACHINE CLEANED AND SANITIZED AND MAINTAIN. PRIORITY FOUNDATION VIOLATION 7-38-005,CITATION ISSUED.  | 29. COMPLIANCE WITH VARIANCE/SPECIALIZED PROCESS/HACCP - Comments: OBSERVED OUTDATED SUSHI RICE LAB RESULTS FROM (3.30.12).INSTRUCTED TO PROVIDE UPDATED LAB LETTER FOR SUSHI RICE AND MAINTAIN THE PH METER ON SITE AT ALL TIMES. PRIORITY FOUNDATION VIOLATION 7-38-005,NO CITATION ISSUED. | 47. FOOD & NON-FOOD CONTACT SURFACES CLEANABLE, PROPERLY DESIGNED, CONSTRUCTED & USED - Comments: OBSERVED BLUE COLORED CODED CUTTING BOARD WITH DEEP CUTS/STAINS AND LONG CUTTING BOARDS AT PREP LINE COOLERS.INSTRUCTED TO REPLACE AND TO MAINTAIN. | 47. FOOD & NON-FOOD CONTACT SURFACES CLEANABLE, PROPERLY DESIGNED, CONSTRUCTED & USED - Comments: OBSERVED TORN GASKET AT BOTTOM OF DOOR FOR WALK-IN-COOLER.INSTRUCTED TO REPLACE TORN GASKET AND MAINTAIN.  | 49. NON-FOOD/FOOD CONTACT SURFACES CLEAN - Comments: INSTRUCTED TO DETAIL CLEAN AND MAINTAIN INTERIORS OF REFRIGERATION UNITS,EXTERIOR OF DISHMACHINE,SIDES OF HOT COOKING EQUIPMENTS (STEAMER,OVEN) WITH BUILD-UP OF SPLASHED FOOD DEBRIS,BAR GUNS AND HOUSINGS ATTACHED,FOOD PREP DRY GOODS STORAGE SHELVINGS,MANUAL CAN OPENER AT REAR FOOD PREP TABLE WITH FOOD DEBRIS.  | 51. PLUMBING INSTALLED; PROPER BACKFLOW DEVICES - Comments: BACKFLOW PREVENTER NOT LOCATED AT ICE MACHINE IN FOOD PREP AREA.INSTRUCTED TO INSTALL SO THAT IT CAN BE LOCATED TO BE SERVICED AND MAINTAINED. - | 55. PHYSICAL FACILITIES INSTALLED, MAINTAINED & CLEAN - Comments: INSTRUCTED TO REPLACE DAMAGED CEILING TILES IN FOOD PREP AREA WHERE NOTED TO MANAGER AND MAINTAIN TO SMOOTH,EASILY CLEANABLE SURFACES. | 55. PHYSICAL FACILITIES INSTALLED, MAINTAINED & CLEAN - Comments: INSTRUCTED TO DETAIL CLEAN AND ORGANIZE CLUTTERED CORNER AT REAR UNDERNEATH OVEN FOOD PREP/DISHWASHING AREA AND REMOVE UNNECESSARY ARTICLES DUE TO POTENTIAL PEST HARBORAGE AND PROPERLY STORE AND ELEVATE AND MAINTAIN AT LEAST 6' INCHES OFF FLOOR FOR BROOMS AND CLEANING FLOOR EQUIPMENTS. | 56. ADEQUATE VENTILATION & LIGHTING; DESIGNATED AREAS USED - Comments: INSTRUCTED TO DETAIL CLEAN INTERIOR HOOD ABOVE THE DISHMACHINE TO REMOVE ACCUMULATIONS OF DUSTS AND TO MAINTAIN. | 58. ALLERGEN TRAINING AS REQUIRED - Comments: ALL PERSON(S) THAT HAVE A CITY OF CHICAGO FOOD SANITATION CERTIFICATE MUST HAVE ALLERGEN TRAINING/CERTIFICATE AS REQUIRED\""
      ]
     },
     "execution_count": 83,
     "metadata": {},
     "output_type": "execute_result"
    }
   ],
   "source": [
    "ohare[0]['Violations']"
   ]
  },
  {
   "cell_type": "code",
   "execution_count": 84,
   "metadata": {},
   "outputs": [
    {
     "data": {
      "text/plain": [
       "[('MACARONI GRILL (T3-K2)', 12),\n",
       " ('ARGO TEA  (T3 ROTUNDA)', 9),\n",
       " (\"CHILI'S TOO (T2  F4)\", 8),\n",
       " ('TOCCO (T5 M-07)', 7),\n",
       " ('ARGO TEA (T2/E5)', 7),\n",
       " (\"CHILI'S  TOO (T3-H2)\", 7),\n",
       " (\"HILTON O'HARE & ANDIAMO\", 7),\n",
       " ('United Employee Cafeteria (T1 C LL)', 6),\n",
       " (\"REGGIO'S PIZZA EXPRESS (T3 G8)\", 5),\n",
       " ('GARRETT POPCORN SHOPS (T3 H2)', 5)]"
      ]
     },
     "execution_count": 84,
     "metadata": {},
     "output_type": "execute_result"
    }
   ],
   "source": [
    "c=Counter(row['AKA Name'] for row in ohare)\n",
    "c.most_common(10)"
   ]
  },
  {
   "cell_type": "code",
   "execution_count": 88,
   "metadata": {},
   "outputs": [
    {
     "data": {
      "text/plain": [
       "dict_keys(['2192977', '34173', '2463991', '2289527', '1069382', '34192', '2708730', '2308566', '34139', '2232034', '2192968', '2363771', '2487938', '2428079', '1947515', '2109577', '34190', '34220', '2464515', '2583234', '2192971', '2647047', '34222', '2192963', '34159', '2487933', '1898214', '2560546', '2069938', '2289515', '1898075', '1942304', '34154', '34199', '2363763', '1140128', '1909532', '2535609', '2464518', '1356711', '2308553', '1042895', '2487943', '2304183', '2488186', '1884293', '1879164', '34236', '2464526', '51206', '2487937', '2487932', '1884292', '64032', '2516647', '1140745', '1909522', '1909539', '1879167', '2299087', '1909523', '34142', '64540', '15531', '2487934', '2535610', '2535613', '2535615', '1954648', '34217', '34215', '2535614', '1916161', '1381615', '2517808', '34146', '2517809', '1141457', '2363760', '2492748', '2492747', '2284294', '2016729', '2009092', '2013208', '1888807', '2141979', '1974743', '34219', '2487848', '2363766', '2492753', '2487849', '34235', '2146327', '1621425', '1878675', '2492754', '34210', '2013206', '2428080', '1885160', '1333235', '2451545', '2447055', '1916219', '0', '56366', '56367', '2289084', '2363762', '2016727', '1333098', '1333242', '34234', '2184012', '1142116', '34167', '1120626', '1879166', '34205', '34212', '34169', '34183', '1927556', '2284027', '1675026', '2289524', '2289531', '2289511', '2192969', '2289495', '2289520', '34203', '2289525', '2277363', '2261733', '1141505', '2277391', '2261728', '1224624', '2232035', '1926528', '2204037', '29570', '85188', '2125489', '2016732', '2124567', '2125246', '2124574', '1333092', '2103989', '2114331', '23894', '37170', '34211', '34224', '34229', '1069379', '34201', '1718776', '2009095', '2017724', '2021757'])"
      ]
     },
     "execution_count": 88,
     "metadata": {},
     "output_type": "execute_result"
    }
   ],
   "source": [
    "inspections = defaultdict(list)\n",
    "for row in ohare:\n",
    "    inspections[row['License #']].append(row)\n",
    "    \n",
    "type(inspections)\n",
    "inspections.keys()"
   ]
  },
  {
   "cell_type": "code",
   "execution_count": 90,
   "metadata": {},
   "outputs": [
    {
     "data": {
      "text/plain": [
       "3"
      ]
     },
     "execution_count": 90,
     "metadata": {},
     "output_type": "execute_result"
    }
   ],
   "source": [
    "len(inspections['1621425'])"
   ]
  },
  {
   "cell_type": "code",
   "execution_count": 91,
   "metadata": {},
   "outputs": [
    {
     "data": {
      "text/plain": [
       "['01/10/2017', '11/17/2015', '05/29/2015']"
      ]
     },
     "execution_count": 91,
     "metadata": {},
     "output_type": "execute_result"
    }
   ],
   "source": [
    "[row['Inspection Date'] for row in inspections['2363760']]"
   ]
  },
  {
   "cell_type": "code",
   "execution_count": 95,
   "metadata": {},
   "outputs": [],
   "source": [
    "violations = ohare[1]['Violations'].split('|')"
   ]
  },
  {
   "cell_type": "code",
   "execution_count": 96,
   "metadata": {},
   "outputs": [
    {
     "data": {
      "text/plain": [
       "['2. FACILITIES TO MAINTAIN PROPER TEMPERATURE - Comments: FACILITIES DO NOT MAINTAIN PROPER TEMPERATURE. OBSERVED (1) 4 DOOR PREP COOLER AT COOKLINE WITH AN AIR TEMPERATURE OF 49.0F. THE COOLER WAS USED TO STORE POTENTIALLY HAZARDOUS FOODS SUCH AS FRESH CUT FRENCH FRIES,LETTUCE,POTATOES AND FISH. UNIT TAGGED HELD FOR INSPECTION. MUST EMPTY THE UNIT AND HAVE IT REPAIRED SO THAT IT MAINTAINS AN AIR TEMPERATURE BELOW 40F. CRITICAL VIOLATION 7-38-005A.',\n",
       " ' 3. POTENTIALLY HAZARDOUS FOOD MEETS TEMPERATURE REQUIREMENT DURING STORAGE, PREPARATION DISPLAY AND SERVICE - Comments: POTENTIALLY HAZARDOUS FOODS STORED AT IMPROPER TEMPERATURES. OBSERVED SMOKED SALMON AT 45.5F,DELI MEAT AT 49.0F,CHEESE AT 50.1F,POTATOES AT 44.7F,HAMBURGERS AT 45.1F,FISH AT 45.5F, GUACAMOLE AT 44.7F.INSTRUCTED TO MONITOR AND MAINTAIN ALL COLD FOODS AT 40F OR BELOW AND ALL HOT FOODS AT 140F OR ABOVE AT ALL TIMES.  CRITICAL VIOLATION 7-38-005(A). ',\n",
       " ' 8. SANITIZING RINSE FOR EQUIPMENT AND UTENSILS:  CLEAN, PROPER TEMPERATURE, CONCENTRATION, EXPOSURE TIME - Comments: LOW TEMPERATURE DISH MACHINE NOT ADEQUATELY SANITIZING FOOD EQUIPMENT AND UTENSILS, CHEMICAL PPM 0. INSTRUCTED MANAGER TO REPAIR DISH MACHINE AND MAINTAIN SANITIZER AT 100 PPM. DISH MACHINE IS TAGGED HELD FOR INSPECTION AND MUST NOT BE USED UNTIL RE-INSPECTED BY CHICAGO DEPARTMENT OF HEALTH. INSTRUCTED MANAGER TO USE THREE COMPARTMENT SINK TO PROPERLY WASH, RINSE, AND SANITIZE FOOD EQUIPMENT AND UTENSILS. CRITICAL VIOLATION 7-38-030',\n",
       " ' 16. FOOD PROTECTED DURING STORAGE, PREPARATION, DISPLAY, SERVICE AND TRANSPORTATION - Comments: OBSERVED CONTAINERS OF SLICED BREAD AND GLASSWARE BEING STORED ON COUNTERS ALONG THE FRONT CUSTOMER SEATING AREAS.INSTRUCTED TO REMOVE SAID ITEMS OR PROVIDE A BARRIER/SNEEZEGUARD SUCH THAT IT PROTECTS SAID AREAS FROM PUBLIC CONTAMINATION AND MAINTAIN AT ALL TIMES. SERIOUS VIOLATION 7-38-005(A).',\n",
       " ' 18. NO EVIDENCE OF RODENT OR INSECT OUTER OPENINGS PROTECTED/RODENT PROOFED, A WRITTEN LOG SHALL BE MAINTAINED AVAILABLE TO THE INSPECTORS - Comments: OBSERVED LIVE FRUIT FLIES IN THE DISHWASHING AREAS PREP AREAS AND BAR AREAS. APPROXIMATELY 40 LIVE FRUIT FLIES WERE OBSERVED ON THE WALLS, CEILING AND CEILING TILES, AND EQUIPMENT IN THESE AREAS. ADDITIONAL PEST CONTROL SERVICE IS NEEDED TO MINIMIZE OR ELIMINATE THE PEST ACTIVITY. SERIOUS VIOLATION 7-38-020. ',\n",
       " ' 32. FOOD AND NON-FOOD CONTACT SURFACES PROPERLY DESIGNED, CONSTRUCTED AND MAINTAINED - Comments: OBSERVED TORN GASKETS AT THE 4 DOOR COOKLINE COOLERS.INSTRUCTED TO REPLACEA AND MAINTAIN. OBSERVED WORNED-OUT CUTTING BOARDS WITH DARK STAINS.INSTRUCTED TO REAPLACE AND MAINTAIN. ',\n",
       " ' 34. FLOORS: CONSTRUCTED PER CODE, CLEANED, GOOD REPAIR, COVING INSTALLED, DUST-LESS CLEANING METHODS USED - Comments: FLOORS ALONG WALLS AND IN ALL CORNERS OF KITCHEN PREP AREAS AND DISHWASHING AREAS BEHIND AND AROUND KITCHEN EQUIPMENTS AND FLOOR DRAINS REQUIRE A DETAIL CLEANING AND MAINTAIN.',\n",
       " ' 35. WALLS, CEILINGS, ATTACHED EQUIPMENT CONSTRUCTED PER CODE: GOOD REPAIR, SURFACES CLEAN AND DUST-LESS CLEANING METHODS - Comments: OBSERVED SPLASHED FOOD DEBRIS ON WALLS THROUGHOUT THE DISHWASHING AND PREP AREAS.INSTRUCTED TO CLEAN WALLS IN DETAIL AND MAINTAIN.',\n",
       " ' 42. APPROPRIATE METHOD OF HANDLING OF FOOD (ICE) HAIR RESTRAINTS AND CLEAN APPAREL WORN - Comments: OBSERVED SOME FOOD HANDLERS WITH LONG BEARDS.INSTRUCTED TO PROVIDE AND MAINTAIN BEARDNETS WHEN WORKING AROUND OPEN FOODS']"
      ]
     },
     "execution_count": 96,
     "metadata": {},
     "output_type": "execute_result"
    }
   ],
   "source": [
    "[v[:v.find(' - comments:')] for v in violations]"
   ]
  },
  {
   "cell_type": "code",
   "execution_count": 98,
   "metadata": {},
   "outputs": [],
   "source": [
    "all_violations=[row['Violations'].split('|') for row in ohare]"
   ]
  },
  {
   "cell_type": "code",
   "execution_count": 99,
   "metadata": {},
   "outputs": [
    {
     "data": {
      "text/plain": [
       "347"
      ]
     },
     "execution_count": 99,
     "metadata": {},
     "output_type": "execute_result"
    }
   ],
   "source": [
    "len(all_violations)"
   ]
  },
  {
   "cell_type": "code",
   "execution_count": 102,
   "metadata": {},
   "outputs": [],
   "source": [
    "c = Counter()\n",
    "for violation in all_violations:\n",
    "    for v in violation:\n",
    "        c[v[:v.find(' - Comments:')].strip()] += 1"
   ]
  },
  {
   "cell_type": "code",
   "execution_count": 104,
   "metadata": {},
   "outputs": [
    {
     "data": {
      "text/plain": [
       "[('34. FLOORS: CONSTRUCTED PER CODE, CLEANED, GOOD REPAIR, COVING INSTALLED, DUST-LESS CLEANING METHODS USED',\n",
       "  166),\n",
       " ('33. FOOD AND NON-FOOD CONTACT EQUIPMENT UTENSILS CLEAN, FREE OF ABRASIVE DETERGENTS',\n",
       "  158),\n",
       " ('35. WALLS, CEILINGS, ATTACHED EQUIPMENT CONSTRUCTED PER CODE: GOOD REPAIR, SURFACES CLEAN AND DUST-LESS CLEANING METHODS',\n",
       "  139),\n",
       " ('18. NO EVIDENCE OF RODENT OR INSECT OUTER OPENINGS PROTECTED/RODENT PROOFED, A WRITTEN LOG SHALL BE MAINTAINED AVAILABLE TO THE INSPECTORS',\n",
       "  118),\n",
       " ('32. FOOD AND NON-FOOD CONTACT SURFACES PROPERLY DESIGNED, CONSTRUCTED AND MAINTAINED',\n",
       "  114)]"
      ]
     },
     "execution_count": 104,
     "metadata": {},
     "output_type": "execute_result"
    }
   ],
   "source": [
    "c.most_common(5)"
   ]
  },
  {
   "cell_type": "markdown",
   "metadata": {},
   "source": [
    "## Others. "
   ]
  },
  {
   "cell_type": "code",
   "execution_count": 1,
   "metadata": {},
   "outputs": [],
   "source": [
    "def curryPartial(f, *args):\n",
    "    if not callable(f): return f\n",
    "    if f.__code__.co_argcount > len(args):\n",
    "        return lambda *a: curryPartial(f, *(args + a))\n",
    "    return f(*args[:f.__code__.co_argcount or None])\n",
    "\n",
    "class CurryPartialClass:\n",
    "    def __init__(self, func, *args):\n",
    "        self.func = func\n",
    "        self.args = args\n",
    "    \n",
    "    def __call__(self, *args):\n",
    "        return CurryPartial(self.func, *(self.args + args))\n",
    "    \n",
    "    def __eq__(self, other):\n",
    "        try:\n",
    "            return self.func(*self.args) == other\n",
    "        except TypeError:\n",
    "            return CurryPartial(self.func, *self.args[:-1]) == other\n",
    "\n",
    "def curry_partial(f,*initial_args):\n",
    "    \"\"\"\n",
    "    Curries and partially applies the initial arguments to the function\n",
    "    \"\"\"\n",
    "    return CurryPartialClass(f, *initial_args)"
   ]
  },
  {
   "cell_type": "code",
   "execution_count": 4,
   "metadata": {},
   "outputs": [],
   "source": [
    "def f(x,y,z):\n",
    "    return x + y + z\n",
    "\n",
    "val = curryPartial(f, 2)"
   ]
  },
  {
   "cell_type": "code",
   "execution_count": 5,
   "metadata": {},
   "outputs": [
    {
     "data": {
      "text/plain": [
       "7"
      ]
     },
     "execution_count": 5,
     "metadata": {},
     "output_type": "execute_result"
    }
   ],
   "source": [
    "val(2,3)"
   ]
  }
 ],
 "metadata": {
  "kernelspec": {
   "display_name": "Python 3",
   "language": "python",
   "name": "python3"
  },
  "language_info": {
   "codemirror_mode": {
    "name": "ipython",
    "version": 3
   },
   "file_extension": ".py",
   "mimetype": "text/x-python",
   "name": "python",
   "nbconvert_exporter": "python",
   "pygments_lexer": "ipython3",
   "version": "3.8.3"
  }
 },
 "nbformat": 4,
 "nbformat_minor": 4
}
