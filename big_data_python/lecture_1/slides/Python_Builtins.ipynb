{
 "cells": [
  {
   "cell_type": "markdown",
   "metadata": {},
   "source": [
    "## Data analysis with python3 builtins\n",
    "\n",
    "The goal of this notebook is to provide an overview of what can be achieve in terms of data analysis with the use of core features of the Python language only. **NO USE** of additional library required."
   ]
  },
  {
   "cell_type": "code",
   "execution_count": 1,
   "metadata": {},
   "outputs": [],
   "source": [
    "import csv\n",
    "\n",
    "# first way: use ContextManager to work with the file\n",
    "with open('Food_Inspections.csv', 'r') as csvfile:\n",
    "    reader = csv.DictReader(csvfile)\n",
    "    food = [row for row in reader]\n",
    "\n",
    "# alternative way (one-liner)\n",
    "# food = list(csv.DictReader(open('Food_Inspections.csv')))"
   ]
  },
  {
   "cell_type": "code",
   "execution_count": 2,
   "metadata": {},
   "outputs": [
    {
     "data": {
      "text/plain": [
       "OrderedDict([('Inspection ID', '2401393'),\n",
       "             ('DBA Name', 'WILD HARE'),\n",
       "             ('AKA Name', 'WILD HARE'),\n",
       "             ('License #', '2133895'),\n",
       "             ('Facility Type', 'Restaurant'),\n",
       "             ('Risk', 'Risk 1 (High)'),\n",
       "             ('Address', '2610 N HALSTED ST '),\n",
       "             ('City', 'CHICAGO'),\n",
       "             ('State', 'IL'),\n",
       "             ('Zip', '60614'),\n",
       "             ('Inspection Date', '09/18/2020'),\n",
       "             ('Inspection Type', 'Canvass'),\n",
       "             ('Results', 'No Entry'),\n",
       "             ('Violations', ''),\n",
       "             ('Latitude', '41.929462059691446'),\n",
       "             ('Longitude', '-87.64904947805883'),\n",
       "             ('Location', '(-87.64904947805883, 41.929462059691446)')])"
      ]
     },
     "execution_count": 2,
     "metadata": {},
     "output_type": "execute_result"
    }
   ],
   "source": [
    "food[0]"
   ]
  },
  {
   "cell_type": "code",
   "execution_count": 3,
   "metadata": {},
   "outputs": [
    {
     "data": {
      "text/plain": [
       "collections.OrderedDict"
      ]
     },
     "execution_count": 3,
     "metadata": {},
     "output_type": "execute_result"
    }
   ],
   "source": [
    "type(food[0])"
   ]
  },
  {
   "cell_type": "code",
   "execution_count": 4,
   "metadata": {},
   "outputs": [
    {
     "data": {
      "text/plain": [
       "{'Business Not Located',\n",
       " 'Fail',\n",
       " 'No Entry',\n",
       " 'Not Ready',\n",
       " 'Out of Business',\n",
       " 'Pass',\n",
       " 'Pass w/ Conditions'}"
      ]
     },
     "execution_count": 4,
     "metadata": {},
     "output_type": "execute_result"
    }
   ],
   "source": [
    "# use set comprehension to check all possible Results\n",
    "# set comprehension grants uniqueness of items\n",
    "{ row['Results'] for row in food }"
   ]
  },
  {
   "cell_type": "code",
   "execution_count": 5,
   "metadata": {},
   "outputs": [
    {
     "data": {
      "text/plain": [
       "40848"
      ]
     },
     "execution_count": 5,
     "metadata": {},
     "output_type": "execute_result"
    }
   ],
   "source": [
    "# let's get only the failed restaurants\n",
    "fail = [ row for row in food if row['Results'] == 'Fail' ]\n",
    "len(fail)"
   ]
  },
  {
   "cell_type": "code",
   "execution_count": 6,
   "metadata": {},
   "outputs": [
    {
     "data": {
      "text/plain": [
       "[('SUBWAY', 365),\n",
       " ('DUNKIN DONUTS', 226),\n",
       " (\"MCDONALD'S\", 116),\n",
       " ('7-ELEVEN', 66),\n",
       " ('MCDONALDS', 60)]"
      ]
     },
     "execution_count": 6,
     "metadata": {},
     "output_type": "execute_result"
    }
   ],
   "source": [
    "from collections import Counter\n",
    "worst = Counter(row['DBA Name'] for row in fail)\n",
    "worst.most_common(5)"
   ]
  },
  {
   "cell_type": "code",
   "execution_count": 10,
   "metadata": {},
   "outputs": [],
   "source": [
    "# Let's fix this McDonald's spelling\n",
    "\n",
    "# we use a dict comprehension to create a dict on the run while maintaing the list data structure of `fail`\n",
    "# the ** operator take the whole dictionary into a temporary object to be managed\n",
    "\n",
    "fail = [ { **row, 'DBA Name': row['DBA Name'].replace(\"'\", '').upper() }\n",
    "          for row in fail ]"
   ]
  },
  {
   "cell_type": "code",
   "execution_count": 11,
   "metadata": {},
   "outputs": [
    {
     "data": {
      "text/plain": [
       "[('SUBWAY', 393),\n",
       " ('DUNKIN DONUTS', 245),\n",
       " ('MCDONALDS', 228),\n",
       " ('7-ELEVEN', 74),\n",
       " ('CHIPOTLE MEXICAN GRILL', 69)]"
      ]
     },
     "execution_count": 11,
     "metadata": {},
     "output_type": "execute_result"
    }
   ],
   "source": [
    "worst = Counter(row['DBA Name'] for row in fail)\n",
    "worst.most_common(5)"
   ]
  },
  {
   "cell_type": "code",
   "execution_count": 12,
   "metadata": {},
   "outputs": [
    {
     "data": {
      "text/plain": [
       "[('11601 W TOUHY AVE ', 346),\n",
       " ('2300 S THROOP ST ', 107),\n",
       " ('324 N LEAVITT ST ', 88),\n",
       " ('500 W MADISON ST ', 82),\n",
       " ('5700 S CICERO AVE ', 64)]"
      ]
     },
     "execution_count": 12,
     "metadata": {},
     "output_type": "execute_result"
    }
   ],
   "source": [
    "# let's dive into the addresses\n",
    "bad = Counter(row['Address'] for row in fail)\n",
    "bad.most_common(5)"
   ]
  },
  {
   "cell_type": "code",
   "execution_count": 13,
   "metadata": {},
   "outputs": [
    {
     "data": {
      "text/plain": [
       "[('11601 W TOUHY AVE ', 39),\n",
       " ('500 W MADISON ST ', 13),\n",
       " ('307 S KEDZIE AVE ', 9),\n",
       " ('324 N LEAVITT ST ', 9),\n",
       " ('12 S MICHIGAN AVE ', 8)]"
      ]
     },
     "execution_count": 13,
     "metadata": {},
     "output_type": "execute_result"
    }
   ],
   "source": [
    "# Looks interesting. Let's tabulate the data by year.\n",
    "# we create a default dictionary of Counter objects, and for every year we increment the Counter key\n",
    "# related to a specific address every time we encounter it\n",
    "from collections import defaultdict\n",
    "by_year = defaultdict(Counter)\n",
    "for row in fail:\n",
    "    by_year[row['Inspection Date'][-4:]][row['Address']] += 1\n",
    "by_year['2015'].most_common(5)"
   ]
  },
  {
   "cell_type": "code",
   "execution_count": 14,
   "metadata": {},
   "outputs": [
    {
     "data": {
      "text/plain": [
       "'2020'"
      ]
     },
     "execution_count": 14,
     "metadata": {},
     "output_type": "execute_result"
    }
   ],
   "source": [
    "# concerning the string slicing: each string is a list of characters...\n",
    "'09/18/2020'[-4:]"
   ]
  },
  {
   "cell_type": "code",
   "execution_count": 15,
   "metadata": {},
   "outputs": [],
   "source": [
    "# '11601 W TOUHY AVE ' is the Chicago airport :)\n",
    "ohare = [ row for row in fail if row['Address'].startswith('11601 W TOUHY')]"
   ]
  },
  {
   "cell_type": "code",
   "execution_count": 16,
   "metadata": {},
   "outputs": [
    {
     "data": {
      "text/plain": [
       "347"
      ]
     },
     "execution_count": 16,
     "metadata": {},
     "output_type": "execute_result"
    }
   ],
   "source": [
    "len(ohare)"
   ]
  },
  {
   "cell_type": "code",
   "execution_count": 17,
   "metadata": {},
   "outputs": [
    {
     "data": {
      "text/plain": [
       "346"
      ]
     },
     "execution_count": 17,
     "metadata": {},
     "output_type": "execute_result"
    }
   ],
   "source": [
    "bad['11601 W TOUHY AVE ']"
   ]
  },
  {
   "cell_type": "code",
   "execution_count": 18,
   "metadata": {},
   "outputs": [
    {
     "data": {
      "text/plain": [
       "{'11601 W TOUHY AVE ', '11601 W TOUHY AVE T2 F12'}"
      ]
     },
     "execution_count": 18,
     "metadata": {},
     "output_type": "execute_result"
    }
   ],
   "source": [
    "# what??\n",
    "{row['Address'] for row in ohare }  # I'm not fixing this"
   ]
  },
  {
   "cell_type": "code",
   "execution_count": 19,
   "metadata": {},
   "outputs": [
    {
     "data": {
      "text/plain": [
       "[('MACARONI GRILL (T3-K2)', 12),\n",
       " ('ARGO TEA  (T3 ROTUNDA)', 9),\n",
       " (\"CHILI'S TOO (T2  F4)\", 8),\n",
       " ('TOCCO (T5 M-07)', 7),\n",
       " ('ARGO TEA (T2/E5)', 7)]"
      ]
     },
     "execution_count": 19,
     "metadata": {},
     "output_type": "execute_result"
    }
   ],
   "source": [
    "# information on the location within the airport maybe in the Also Known Name of the restaurant\n",
    "c = Counter(row['AKA Name'] for row in ohare)\n",
    "c.most_common(5)"
   ]
  },
  {
   "cell_type": "code",
   "execution_count": 20,
   "metadata": {},
   "outputs": [],
   "source": [
    "# Let's find out how many time a single restaurant has failed\n",
    "inspections = defaultdict(list)\n",
    "for row in ohare:\n",
    "    inspections[row['License #']].append(row)"
   ]
  },
  {
   "cell_type": "code",
   "execution_count": 21,
   "metadata": {},
   "outputs": [
    {
     "data": {
      "text/plain": [
       "['03/20/2020',\n",
       " '09/14/2018',\n",
       " '05/31/2018',\n",
       " '02/16/2017',\n",
       " '04/07/2016',\n",
       " '09/04/2014',\n",
       " '09/20/2011',\n",
       " '01/26/2010']"
      ]
     },
     "execution_count": 21,
     "metadata": {},
     "output_type": "execute_result"
    }
   ],
   "source": [
    "# e.g. Restaurant with License # = '34192'\n",
    "[row['Inspection Date'] for row in inspections['34192']]"
   ]
  },
  {
   "cell_type": "code",
   "execution_count": 24,
   "metadata": {},
   "outputs": [
    {
     "data": {
      "text/plain": [
       "'2. FACILITIES TO MAINTAIN PROPER TEMPERATURE - Comments: FACILITIES DO NOT MAINTAIN PROPER TEMPERATURE. OBSERVED (1) 4 DOOR PREP COOLER AT COOKLINE WITH AN AIR TEMPERATURE OF 49.0F. THE COOLER WAS USED TO STORE POTENTIALLY HAZARDOUS FOODS SUCH AS FRESH CUT FRENCH FRIES,LETTUCE,POTATOES AND FISH. UNIT TAGGED HELD FOR INSPECTION. MUST EMPTY THE UNIT AND HAVE IT REPAIRED SO THAT IT MAINTAINS AN AIR TEMPERATURE BELOW 40F. CRITICAL VIOLATION 7-38-005A. | 3. POTENTIALLY HAZARDOUS FOOD MEETS TEMPERATURE REQUIREMENT DURING STORAGE, PREPARATION DISPLAY AND SERVICE - Comments: POTENTIALLY HAZARDOUS FOODS STORED AT IMPROPER TEMPERATURES. OBSERVED SMOKED SALMON AT 45.5F,DELI MEAT AT 49.0F,CHEESE AT 50.1F,POTATOES AT 44.7F,HAMBURGERS AT 45.1F,FISH AT 45.5F, GUACAMOLE AT 44.7F.INSTRUCTED TO MONITOR AND MAINTAIN ALL COLD FOODS AT 40F OR BELOW AND ALL HOT FOODS AT 140F OR ABOVE AT ALL TIMES.  CRITICAL VIOLATION 7-38-005(A).  | 8. SANITIZING RINSE FOR EQUIPMENT AND UTENSILS:  CLEAN, PROPER TEMPERATURE, CONCENTRATION, EXPOSURE TIME - Comments: LOW TEMPERATURE DISH MACHINE NOT ADEQUATELY SANITIZING FOOD EQUIPMENT AND UTENSILS, CHEMICAL PPM 0. INSTRUCTED MANAGER TO REPAIR DISH MACHINE AND MAINTAIN SANITIZER AT 100 PPM. DISH MACHINE IS TAGGED HELD FOR INSPECTION AND MUST NOT BE USED UNTIL RE-INSPECTED BY CHICAGO DEPARTMENT OF HEALTH. INSTRUCTED MANAGER TO USE THREE COMPARTMENT SINK TO PROPERLY WASH, RINSE, AND SANITIZE FOOD EQUIPMENT AND UTENSILS. CRITICAL VIOLATION 7-38-030 | 16. FOOD PROTECTED DURING STORAGE, PREPARATION, DISPLAY, SERVICE AND TRANSPORTATION - Comments: OBSERVED CONTAINERS OF SLICED BREAD AND GLASSWARE BEING STORED ON COUNTERS ALONG THE FRONT CUSTOMER SEATING AREAS.INSTRUCTED TO REMOVE SAID ITEMS OR PROVIDE A BARRIER/SNEEZEGUARD SUCH THAT IT PROTECTS SAID AREAS FROM PUBLIC CONTAMINATION AND MAINTAIN AT ALL TIMES. SERIOUS VIOLATION 7-38-005(A). | 18. NO EVIDENCE OF RODENT OR INSECT OUTER OPENINGS PROTECTED/RODENT PROOFED, A WRITTEN LOG SHALL BE MAINTAINED AVAILABLE TO THE INSPECTORS - Comments: OBSERVED LIVE FRUIT FLIES IN THE DISHWASHING AREAS PREP AREAS AND BAR AREAS. APPROXIMATELY 40 LIVE FRUIT FLIES WERE OBSERVED ON THE WALLS, CEILING AND CEILING TILES, AND EQUIPMENT IN THESE AREAS. ADDITIONAL PEST CONTROL SERVICE IS NEEDED TO MINIMIZE OR ELIMINATE THE PEST ACTIVITY. SERIOUS VIOLATION 7-38-020.  | 32. FOOD AND NON-FOOD CONTACT SURFACES PROPERLY DESIGNED, CONSTRUCTED AND MAINTAINED - Comments: OBSERVED TORN GASKETS AT THE 4 DOOR COOKLINE COOLERS.INSTRUCTED TO REPLACEA AND MAINTAIN. OBSERVED WORNED-OUT CUTTING BOARDS WITH DARK STAINS.INSTRUCTED TO REAPLACE AND MAINTAIN.  | 34. FLOORS: CONSTRUCTED PER CODE, CLEANED, GOOD REPAIR, COVING INSTALLED, DUST-LESS CLEANING METHODS USED - Comments: FLOORS ALONG WALLS AND IN ALL CORNERS OF KITCHEN PREP AREAS AND DISHWASHING AREAS BEHIND AND AROUND KITCHEN EQUIPMENTS AND FLOOR DRAINS REQUIRE A DETAIL CLEANING AND MAINTAIN. | 35. WALLS, CEILINGS, ATTACHED EQUIPMENT CONSTRUCTED PER CODE: GOOD REPAIR, SURFACES CLEAN AND DUST-LESS CLEANING METHODS - Comments: OBSERVED SPLASHED FOOD DEBRIS ON WALLS THROUGHOUT THE DISHWASHING AND PREP AREAS.INSTRUCTED TO CLEAN WALLS IN DETAIL AND MAINTAIN. | 42. APPROPRIATE METHOD OF HANDLING OF FOOD (ICE) HAIR RESTRAINTS AND CLEAN APPAREL WORN - Comments: OBSERVED SOME FOOD HANDLERS WITH LONG BEARDS.INSTRUCTED TO PROVIDE AND MAINTAIN BEARDNETS WHEN WORKING AROUND OPEN FOODS.'"
      ]
     },
     "execution_count": 24,
     "metadata": {},
     "output_type": "execute_result"
    }
   ],
   "source": [
    "# Let's focus on the Violations attribute\n",
    "ohare[1]['Violations']"
   ]
  },
  {
   "cell_type": "code",
   "execution_count": 23,
   "metadata": {},
   "outputs": [],
   "source": [
    "# There is structure. Let's exploit this to rank the most frequent violation in the failed restaurants\n",
    "all_violations = [row['Violations'].split('|') for row in ohare]"
   ]
  },
  {
   "cell_type": "code",
   "execution_count": 25,
   "metadata": {},
   "outputs": [
    {
     "data": {
      "text/plain": [
       "[('34. FLOORS: CONSTRUCTED PER CODE, CLEANED, GOOD REPAIR, COVING INSTALLED, DUST-LESS CLEANING METHODS USED',\n",
       "  166),\n",
       " ('33. FOOD AND NON-FOOD CONTACT EQUIPMENT UTENSILS CLEAN, FREE OF ABRASIVE DETERGENTS',\n",
       "  158),\n",
       " ('35. WALLS, CEILINGS, ATTACHED EQUIPMENT CONSTRUCTED PER CODE: GOOD REPAIR, SURFACES CLEAN AND DUST-LESS CLEANING METHODS',\n",
       "  139),\n",
       " ('18. NO EVIDENCE OF RODENT OR INSECT OUTER OPENINGS PROTECTED/RODENT PROOFED, A WRITTEN LOG SHALL BE MAINTAINED AVAILABLE TO THE INSPECTORS',\n",
       "  118),\n",
       " ('32. FOOD AND NON-FOOD CONTACT SURFACES PROPERLY DESIGNED, CONSTRUCTED AND MAINTAINED',\n",
       "  114)]"
      ]
     },
     "execution_count": 25,
     "metadata": {},
     "output_type": "execute_result"
    }
   ],
   "source": [
    "c = Counter()\n",
    "for violations in all_violations:\n",
    "    for v in violations:\n",
    "        c[v[:v.find('- Comments:')].strip()] += 1\n",
    "c.most_common(5)"
   ]
  },
  {
   "cell_type": "code",
   "execution_count": null,
   "metadata": {},
   "outputs": [],
   "source": []
  }
 ],
 "metadata": {
  "kernelspec": {
   "display_name": "Python 3",
   "language": "python",
   "name": "python3"
  },
  "language_info": {
   "codemirror_mode": {
    "name": "ipython",
    "version": 3
   },
   "file_extension": ".py",
   "mimetype": "text/x-python",
   "name": "python",
   "nbconvert_exporter": "python",
   "pygments_lexer": "ipython3",
   "version": "3.7.7"
  }
 },
 "nbformat": 4,
 "nbformat_minor": 4
}
