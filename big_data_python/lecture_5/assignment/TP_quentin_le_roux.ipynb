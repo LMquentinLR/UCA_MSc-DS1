{
 "cells": [
  {
   "cell_type": "markdown",
   "metadata": {},
   "source": [
    "# TP, Quentin Le Roux, MSc Data Science 1\n",
    "\n",
    "The goal of this exercise is to build a classifier for a public [dataset](https://archive.ics.uci.edu/ml/datasets/car+evaluation) (Click for info and details).\n",
    "\n",
    "### Instructions\n",
    "   * Download the dataset from [here]() (csv file) and place it in the same folder of this notebook\n",
    "   * Read carefully the text\n",
    "   * Carry on the analysis as requested by each section\n",
    "      * Section marked `bis` are already done\n",
    "   * For each section, use as many cells as you want.\n",
    "   * If possible, try to insert comments (`# this is a comment`) in your code cells explaining your ideas or create some text cells (`markdown`)\n",
    "   * Run every cell!\n",
    "   * Save the notebook \n",
    "   * Rename the notebook with your surname and send it via email to marco.milanesio@univ-cotedazur.fr\n",
    "   * **DEADLINE: TODAY AT 12h30** Emails arrived past this time will not be considered.\n",
    "\n",
    "### Useful links\n",
    "   * [Sklearn classifiers](https://scikit-learn.org/stable/auto_examples/classification/plot_classifier_comparison.html) \n",
    "   * [Pandas dataframe](https://pandas.pydata.org/pandas-docs/stable/reference/api/pandas.DataFrame.html)"
   ]
  },
  {
   "cell_type": "markdown",
   "metadata": {},
   "source": [
    "## Section 0: WARM UP\n",
    "\n",
    "Run the following cells.\n",
    "\n",
    "The first will install an optional library that will be used later in the notebook. If you can't install it via the `magic function` (`!` operator), then you have to close the notebook and install it from you environment (as you did for `sklearn`)"
   ]
  },
  {
   "cell_type": "raw",
   "metadata": {},
   "source": [
    "# Switched cell to Raw NBConvert\n",
    "\n",
    "!python -m pip install category_encoders"
   ]
  },
  {
   "cell_type": "markdown",
   "metadata": {},
   "source": [
    "This will import everything you'll need in this notebook."
   ]
  },
  {
   "cell_type": "code",
   "execution_count": 1,
   "metadata": {},
   "outputs": [],
   "source": [
    "import pandas as pd\n",
    "import matplotlib.pyplot as plt\n",
    "%matplotlib inline\n",
    "import numpy as np\n",
    "\n",
    "import category_encoders as ce  # provided that the cell before worked properly or that you have it installed in other way\n",
    "\n",
    "from sklearn import tree\n",
    "from sklearn.metrics import accuracy_score\n",
    "from sklearn.metrics import classification_report, confusion_matrix\n",
    "from sklearn.metrics import plot_confusion_matrix # additional import\n",
    "from sklearn.model_selection import train_test_split\n",
    "from sklearn.tree import DecisionTreeClassifier"
   ]
  },
  {
   "cell_type": "markdown",
   "metadata": {},
   "source": [
    "## SECTION 1: LOADING\n",
    "\n",
    "   * Load the data into a `pandas` dataframe\n",
    "   * Inspect some of the features of the loaded data (shape, types, unique values, etc...)"
   ]
  },
  {
   "cell_type": "raw",
   "metadata": {},
   "source": [
    "# Switched cell to Raw NBConvert\n",
    "\n",
    "# This will show the first line of the file\n",
    "!head cars.csv # does not work on Windows"
   ]
  },
  {
   "cell_type": "markdown",
   "metadata": {},
   "source": [
    "Must specify that no header is given when loading. \n",
    "\n",
    "As for the column names, use the following: \n",
    "```\n",
    "names=['buying', 'maint', 'doors', 'persons', 'lug_boot', 'safety', 'class']\n",
    "```"
   ]
  },
  {
   "cell_type": "code",
   "execution_count": 2,
   "metadata": {},
   "outputs": [],
   "source": [
    "names=['buying', 'maint', 'doors', 'persons', 'lug_boot', 'safety', 'class']\n",
    "name_features=['buying', 'maint', 'doors', 'persons', 'lug_boot', 'safety']"
   ]
  },
  {
   "cell_type": "code",
   "execution_count": 3,
   "metadata": {},
   "outputs": [],
   "source": [
    "# Load the data into a pandas dataframe\n",
    "\n",
    "data = pd.read_csv(\"cars.csv\", \n",
    "                   header=None, \n",
    "                   names=names)"
   ]
  },
  {
   "cell_type": "code",
   "execution_count": 4,
   "metadata": {},
   "outputs": [
    {
     "name": "stdout",
     "output_type": "stream",
     "text": [
      "(1728, 7)\n"
     ]
    },
    {
     "data": {
      "text/html": [
       "<div>\n",
       "<style scoped>\n",
       "    .dataframe tbody tr th:only-of-type {\n",
       "        vertical-align: middle;\n",
       "    }\n",
       "\n",
       "    .dataframe tbody tr th {\n",
       "        vertical-align: top;\n",
       "    }\n",
       "\n",
       "    .dataframe thead th {\n",
       "        text-align: right;\n",
       "    }\n",
       "</style>\n",
       "<table border=\"1\" class=\"dataframe\">\n",
       "  <thead>\n",
       "    <tr style=\"text-align: right;\">\n",
       "      <th></th>\n",
       "      <th>buying</th>\n",
       "      <th>maint</th>\n",
       "      <th>doors</th>\n",
       "      <th>persons</th>\n",
       "      <th>lug_boot</th>\n",
       "      <th>safety</th>\n",
       "      <th>class</th>\n",
       "    </tr>\n",
       "  </thead>\n",
       "  <tbody>\n",
       "    <tr>\n",
       "      <th>0</th>\n",
       "      <td>vhigh</td>\n",
       "      <td>vhigh</td>\n",
       "      <td>2</td>\n",
       "      <td>2</td>\n",
       "      <td>small</td>\n",
       "      <td>low</td>\n",
       "      <td>unacc</td>\n",
       "    </tr>\n",
       "    <tr>\n",
       "      <th>1</th>\n",
       "      <td>vhigh</td>\n",
       "      <td>vhigh</td>\n",
       "      <td>2</td>\n",
       "      <td>2</td>\n",
       "      <td>small</td>\n",
       "      <td>med</td>\n",
       "      <td>unacc</td>\n",
       "    </tr>\n",
       "  </tbody>\n",
       "</table>\n",
       "</div>"
      ],
      "text/plain": [
       "  buying  maint doors persons lug_boot safety  class\n",
       "0  vhigh  vhigh     2       2    small    low  unacc\n",
       "1  vhigh  vhigh     2       2    small    med  unacc"
      ]
     },
     "execution_count": 4,
     "metadata": {},
     "output_type": "execute_result"
    }
   ],
   "source": [
    "# Inspect some of the features of the loaded data (shape, types, unique values, etc...)\n",
    "\n",
    "print(data.shape) # prints the shapes of the data to get: nrows, ncols\n",
    "data.head(2) # prints the first two lines of the dataset"
   ]
  },
  {
   "cell_type": "code",
   "execution_count": 5,
   "metadata": {},
   "outputs": [
    {
     "name": "stdout",
     "output_type": "stream",
     "text": [
      "med      432\n",
      "high     432\n",
      "low      432\n",
      "vhigh    432\n",
      "Name: buying, dtype: int64 \n",
      "\n",
      "med      432\n",
      "high     432\n",
      "low      432\n",
      "vhigh    432\n",
      "Name: maint, dtype: int64 \n",
      "\n",
      "2        432\n",
      "4        432\n",
      "5more    432\n",
      "3        432\n",
      "Name: doors, dtype: int64 \n",
      "\n",
      "more    576\n",
      "2       576\n",
      "4       576\n",
      "Name: persons, dtype: int64 \n",
      "\n",
      "med      576\n",
      "big      576\n",
      "small    576\n",
      "Name: lug_boot, dtype: int64 \n",
      "\n",
      "med     576\n",
      "high    576\n",
      "low     576\n",
      "Name: safety, dtype: int64 \n",
      "\n"
     ]
    }
   ],
   "source": [
    "for name in name_features:\n",
    "    print(data[name].value_counts(),\"\\n\") #prints a summary of unique values and their total number"
   ]
  },
  {
   "cell_type": "markdown",
   "metadata": {},
   "source": [
    "## SECTION 2: MODELLING (part I)\n",
    "\n",
    "The `class` attribute is the target variable that we want to model/forecast.\n",
    "  * Count the different number of values in the `class` attribute\n",
    "  * Create a new dataframe `X` with the `class` column dropped\n",
    "  * Create a Series `y` with values from the attribute `class`\n",
    "  * Split the `X` and `y` into `training` and `testing` set.\n",
    "      * Call the splits `X_train`, `X_test`, `y_train` and `y_test`\n",
    "  * What are the sizes of `X` and `y`?\n",
    "\n",
    "#### OPTIONAL\n",
    "you can influence the ratio of the sizes of `training` and `testing` by using the name parameter `test_size` in the `train_test_split` method. More info [here](https://scikit-learn.org/stable/modules/generated/sklearn.model_selection.train_test_split.html).  "
   ]
  },
  {
   "cell_type": "code",
   "execution_count": 6,
   "metadata": {},
   "outputs": [
    {
     "name": "stdout",
     "output_type": "stream",
     "text": [
      "There are 4 unique values: ['unacc' 'acc' 'vgood' 'good'] with the following count:\n"
     ]
    },
    {
     "data": {
      "text/plain": [
       "unacc    1210\n",
       "acc       384\n",
       "good       69\n",
       "vgood      65\n",
       "Name: class, dtype: int64"
      ]
     },
     "execution_count": 6,
     "metadata": {},
     "output_type": "execute_result"
    }
   ],
   "source": [
    "# Count the different number of values in the class attribute\n",
    "\n",
    "unique_values = data[\"class\"].unique()\n",
    "\n",
    "print(f\"There are {len(unique_values)} unique values: {unique_values} with the following count:\")\n",
    "data[\"class\"].value_counts()"
   ]
  },
  {
   "cell_type": "code",
   "execution_count": 7,
   "metadata": {
    "scrolled": true
   },
   "outputs": [
    {
     "name": "stdout",
     "output_type": "stream",
     "text": [
      "<class 'pandas.core.frame.DataFrame'>\n"
     ]
    },
    {
     "data": {
      "text/html": [
       "<div>\n",
       "<style scoped>\n",
       "    .dataframe tbody tr th:only-of-type {\n",
       "        vertical-align: middle;\n",
       "    }\n",
       "\n",
       "    .dataframe tbody tr th {\n",
       "        vertical-align: top;\n",
       "    }\n",
       "\n",
       "    .dataframe thead th {\n",
       "        text-align: right;\n",
       "    }\n",
       "</style>\n",
       "<table border=\"1\" class=\"dataframe\">\n",
       "  <thead>\n",
       "    <tr style=\"text-align: right;\">\n",
       "      <th></th>\n",
       "      <th>buying</th>\n",
       "      <th>maint</th>\n",
       "      <th>doors</th>\n",
       "      <th>persons</th>\n",
       "      <th>lug_boot</th>\n",
       "      <th>safety</th>\n",
       "    </tr>\n",
       "  </thead>\n",
       "  <tbody>\n",
       "    <tr>\n",
       "      <th>0</th>\n",
       "      <td>vhigh</td>\n",
       "      <td>vhigh</td>\n",
       "      <td>2</td>\n",
       "      <td>2</td>\n",
       "      <td>small</td>\n",
       "      <td>low</td>\n",
       "    </tr>\n",
       "    <tr>\n",
       "      <th>1</th>\n",
       "      <td>vhigh</td>\n",
       "      <td>vhigh</td>\n",
       "      <td>2</td>\n",
       "      <td>2</td>\n",
       "      <td>small</td>\n",
       "      <td>med</td>\n",
       "    </tr>\n",
       "  </tbody>\n",
       "</table>\n",
       "</div>"
      ],
      "text/plain": [
       "  buying  maint doors persons lug_boot safety\n",
       "0  vhigh  vhigh     2       2    small    low\n",
       "1  vhigh  vhigh     2       2    small    med"
      ]
     },
     "execution_count": 7,
     "metadata": {},
     "output_type": "execute_result"
    }
   ],
   "source": [
    "# Create a new dataframe X with the class column dropped\n",
    "\n",
    "X = data.drop(['class'], axis=1)\n",
    "\n",
    "print(type(X))\n",
    "X.head(2)"
   ]
  },
  {
   "cell_type": "code",
   "execution_count": 8,
   "metadata": {},
   "outputs": [
    {
     "name": "stdout",
     "output_type": "stream",
     "text": [
      "<class 'pandas.core.series.Series'>\n"
     ]
    },
    {
     "data": {
      "text/plain": [
       "0    unacc\n",
       "1    unacc\n",
       "Name: class, dtype: object"
      ]
     },
     "execution_count": 8,
     "metadata": {},
     "output_type": "execute_result"
    }
   ],
   "source": [
    "# Create a Series y with values from the attribute class\n",
    "\n",
    "y = data['class'].squeeze()\n",
    "\n",
    "print(type(y))\n",
    "y.head(2)"
   ]
  },
  {
   "cell_type": "code",
   "execution_count": 9,
   "metadata": {},
   "outputs": [],
   "source": [
    "# Split the X and y into training and testing set\n",
    "\n",
    "# Lowered the test_size from the default 0.25 to 0.2 (we have a train/test split of 0.8/0.2 going forward)\n",
    "X_train, X_test, y_train, y_test = train_test_split(X, y, test_size=0.2, random_state=0)"
   ]
  },
  {
   "cell_type": "code",
   "execution_count": 10,
   "metadata": {},
   "outputs": [
    {
     "name": "stdout",
     "output_type": "stream",
     "text": [
      "Size of dataframe X: 10368 (rows times columns), given its shape (1728, 6)\n",
      "Size of series y: 1728 (number of rows), given its shape: (1728,)\n"
     ]
    }
   ],
   "source": [
    "# What are the sizes of X and y?\n",
    "\n",
    "print(f\"Size of dataframe X: {X.size} (rows times columns), given its shape {X.shape}\",\n",
    "      f\"Size of series y: {y.size} (number of rows), given its shape: {y.shape}\",\n",
    "     sep=\"\\n\")"
   ]
  },
  {
   "cell_type": "markdown",
   "metadata": {},
   "source": [
    "## SECTION 2bis: ENCODING\n",
    "\n",
    "When dealing with categorical variables, like in this case, you need to **encode** them in a numerical format. \n",
    "Run the following cell to see it in action."
   ]
  },
  {
   "cell_type": "code",
   "execution_count": 11,
   "metadata": {},
   "outputs": [
    {
     "data": {
      "text/html": [
       "<div>\n",
       "<style scoped>\n",
       "    .dataframe tbody tr th:only-of-type {\n",
       "        vertical-align: middle;\n",
       "    }\n",
       "\n",
       "    .dataframe tbody tr th {\n",
       "        vertical-align: top;\n",
       "    }\n",
       "\n",
       "    .dataframe thead th {\n",
       "        text-align: right;\n",
       "    }\n",
       "</style>\n",
       "<table border=\"1\" class=\"dataframe\">\n",
       "  <thead>\n",
       "    <tr style=\"text-align: right;\">\n",
       "      <th></th>\n",
       "      <th>buying</th>\n",
       "      <th>maint</th>\n",
       "      <th>doors</th>\n",
       "      <th>persons</th>\n",
       "      <th>lug_boot</th>\n",
       "      <th>safety</th>\n",
       "    </tr>\n",
       "  </thead>\n",
       "  <tbody>\n",
       "    <tr>\n",
       "      <th>1649</th>\n",
       "      <td>1</td>\n",
       "      <td>1</td>\n",
       "      <td>1</td>\n",
       "      <td>1</td>\n",
       "      <td>1</td>\n",
       "      <td>1</td>\n",
       "    </tr>\n",
       "    <tr>\n",
       "      <th>1465</th>\n",
       "      <td>1</td>\n",
       "      <td>2</td>\n",
       "      <td>2</td>\n",
       "      <td>1</td>\n",
       "      <td>2</td>\n",
       "      <td>2</td>\n",
       "    </tr>\n",
       "    <tr>\n",
       "      <th>361</th>\n",
       "      <td>2</td>\n",
       "      <td>1</td>\n",
       "      <td>1</td>\n",
       "      <td>2</td>\n",
       "      <td>1</td>\n",
       "      <td>2</td>\n",
       "    </tr>\n",
       "    <tr>\n",
       "      <th>315</th>\n",
       "      <td>2</td>\n",
       "      <td>3</td>\n",
       "      <td>3</td>\n",
       "      <td>3</td>\n",
       "      <td>1</td>\n",
       "      <td>3</td>\n",
       "    </tr>\n",
       "    <tr>\n",
       "      <th>1372</th>\n",
       "      <td>1</td>\n",
       "      <td>4</td>\n",
       "      <td>2</td>\n",
       "      <td>3</td>\n",
       "      <td>3</td>\n",
       "      <td>2</td>\n",
       "    </tr>\n",
       "  </tbody>\n",
       "</table>\n",
       "</div>"
      ],
      "text/plain": [
       "      buying  maint  doors  persons  lug_boot  safety\n",
       "1649       1      1      1        1         1       1\n",
       "1465       1      2      2        1         2       2\n",
       "361        2      1      1        2         1       2\n",
       "315        2      3      3        3         1       3\n",
       "1372       1      4      2        3         3       2"
      ]
     },
     "execution_count": 11,
     "metadata": {},
     "output_type": "execute_result"
    }
   ],
   "source": [
    "encoder = ce.OrdinalEncoder(cols=['buying', 'maint', 'doors', 'persons', 'lug_boot', 'safety'])\n",
    "\n",
    "X_train = encoder.fit_transform(X_train)\n",
    "X_test = encoder.transform(X_test)\n",
    "\n",
    "X_train.head()"
   ]
  },
  {
   "cell_type": "markdown",
   "metadata": {},
   "source": [
    "Now we can use the categorical variables as numerical!! `OrdinalEncoder` translate the variables into `integers`. Many other encoders exist. We will see a couple of them in the next lectures."
   ]
  },
  {
   "cell_type": "markdown",
   "metadata": {},
   "source": [
    "## SECTION 3: MODELLING (part II)\n",
    "\n",
    "For this particular task we will use a `DecisionTreeClassifier`.\n",
    "  * Fit the training data\n",
    "  * Calculate the score on the `training` and `testing` set\n",
    "  * Predict the `y_test` values and calculate the corresponding accuracy score\n",
    " \n",
    "### HINT\n",
    "  * Use the default criterion: `clf = DecisionTreeClassifier(max_depth=3, random_state=0)`\n"
   ]
  },
  {
   "cell_type": "code",
   "execution_count": 12,
   "metadata": {},
   "outputs": [],
   "source": [
    "def decision_tree(features, labels, depth=None, criterion=\"gini\"):\n",
    "    \"\"\"\n",
    "    Fit feature data to some class labels (e.g., unacc)\n",
    "    Arguments:\n",
    "        - features: features of the data to fit.\n",
    "        - labels: labels of the data to fit.\n",
    "        - depth: The maximum depth of the tree. Default:None.\n",
    "        - criterion: The function to measure the quality of a split. Default: gini.\n",
    "    \"\"\"\n",
    "    tree = DecisionTreeClassifier(criterion=criterion, max_depth=depth, random_state=0)\n",
    "    tree.fit(features, labels)\n",
    "    return tree\n",
    "\n",
    "def score(features, labels, model, data_type):\n",
    "    \"\"\"\n",
    "    Calculate the score/mean accuracy of the given data and labels.\n",
    "    \"\"\"\n",
    "    score = model.score(features, labels)\n",
    "    print(f\"The score/mean accuracy on the {data_type} data for the decision tree with max_depth 3 is {round(score*100, 2)}%\")\n",
    "    \n",
    "def accuracy(features, true_labels, model, data_type):\n",
    "    \"\"\"\n",
    "    Calculates the accuracy of a model given some features and labels.\n",
    "    \"\"\"\n",
    "    pred = model.predict(features)\n",
    "    acc = accuracy_score(true_labels, pred)\n",
    "    print(f\"The accuracy score on the {data_type} data for the decision tree with max_depth 3 is {round(acc*100, 2)}%\")"
   ]
  },
  {
   "cell_type": "code",
   "execution_count": 13,
   "metadata": {},
   "outputs": [],
   "source": [
    "# Fit the training data\n",
    "\n",
    "model = decision_tree(X_train, y_train, 3)"
   ]
  },
  {
   "cell_type": "code",
   "execution_count": 14,
   "metadata": {},
   "outputs": [
    {
     "name": "stdout",
     "output_type": "stream",
     "text": [
      "The score/mean accuracy on the training data for the decision tree with max_depth 3 is 81.04%\n",
      "The score/mean accuracy on the testing data for the decision tree with max_depth 3 is 78.61%\n"
     ]
    }
   ],
   "source": [
    "# Calculate the score on the training and testing set\n",
    "\n",
    "score(X_train, y_train, model, \"training\")\n",
    "score(X_test, y_test, model, \"testing\")"
   ]
  },
  {
   "cell_type": "code",
   "execution_count": 15,
   "metadata": {},
   "outputs": [
    {
     "name": "stdout",
     "output_type": "stream",
     "text": [
      "The accuracy score on the testing data for the decision tree with max_depth 3 is 78.61%\n"
     ]
    }
   ],
   "source": [
    "# Predict the y_test values and calculate the corresponding accuracy score\n",
    "\n",
    "#accuracy(X_train, y_train, model, \"training\")\n",
    "accuracy(X_test, y_test, model, \"testing\")"
   ]
  },
  {
   "cell_type": "markdown",
   "metadata": {},
   "source": [
    "The score and accuracy score on the testing data are the same."
   ]
  },
  {
   "cell_type": "markdown",
   "metadata": {},
   "source": [
    "## SECTION 3bis: VISUALIZATION\n",
    "\n",
    "You can visualize the result of the classifier by plotting the tree.\n",
    "Run the followin cell"
   ]
  },
  {
   "cell_type": "code",
   "execution_count": 16,
   "metadata": {
    "scrolled": false
   },
   "outputs": [
    {
     "data": {
      "text/plain": [
       "[Text(401.76000000000005, 380.52, 'safety <= 2.5\\ngini = 0.456\\nsamples = 1382\\nvalue = [305, 52, 970, 55]'),\n",
       " Text(267.84000000000003, 271.8, 'persons <= 1.5\\ngini = 0.581\\nsamples = 912\\nvalue = [305, 52, 500, 55]'),\n",
       " Text(133.92000000000002, 163.07999999999998, 'gini = 0.0\\nsamples = 308\\nvalue = [0, 0, 308, 0]'),\n",
       " Text(401.76000000000005, 163.07999999999998, 'maint <= 3.5\\ngini = 0.628\\nsamples = 604\\nvalue = [305, 52, 192, 55]'),\n",
       " Text(267.84000000000003, 54.360000000000014, 'gini = 0.625\\nsamples = 467\\nvalue = [255, 52, 105, 55]'),\n",
       " Text(535.6800000000001, 54.360000000000014, 'gini = 0.464\\nsamples = 137\\nvalue = [50, 0, 87, 0]'),\n",
       " Text(535.6800000000001, 271.8, 'gini = 0.0\\nsamples = 470\\nvalue = [0, 0, 470, 0]')]"
      ]
     },
     "execution_count": 16,
     "metadata": {},
     "output_type": "execute_result"
    },
    {
     "data": {
      "image/png": "[encoded data removed]",
      "text/plain": [
       "<Figure size 864x576 with 1 Axes>"
      ]
     },
     "metadata": {
      "needs_background": "light"
     },
     "output_type": "display_data"
    }
   ],
   "source": [
    "plt.figure(figsize=(12,8))\n",
    "\n",
    "tree.plot_tree(model, feature_names=name_features) "
   ]
  },
  {
   "cell_type": "markdown",
   "metadata": {},
   "source": [
    "## SECTION 4: EVALUATION\n",
    "\n",
    "  * Print the confusion matrix of the model\n",
    "  * Print the classification report of the model\n"
   ]
  },
  {
   "cell_type": "code",
   "execution_count": 17,
   "metadata": {},
   "outputs": [
    {
     "name": "stdout",
     "output_type": "stream",
     "text": [
      "[[ 57   0  22   0]\n",
      " [ 17   0   0   0]\n",
      " [ 25   0 215   0]\n",
      " [ 10   0   0   0]]\n"
     ]
    },
    {
     "data": {
      "text/plain": [
       "<sklearn.metrics._plot.confusion_matrix.ConfusionMatrixDisplay at 0x18839e33af0>"
      ]
     },
     "execution_count": 17,
     "metadata": {},
     "output_type": "execute_result"
    },
    {
     "data": {
      "image/png": "[encoded data removed]",
      "text/plain": [
       "<Figure size 432x288 with 2 Axes>"
      ]
     },
     "metadata": {
      "needs_background": "light"
     },
     "output_type": "display_data"
    }
   ],
   "source": [
    "# Print the confusion matrix of the model\n",
    "\n",
    "y_pred = model.predict(X_test)\n",
    "print(confusion_matrix(y_test, y_pred))\n",
    "\n",
    "# we can also plot the confusion matrix\n",
    "plot_confusion_matrix(model, X_test, y_test)"
   ]
  },
  {
   "cell_type": "code",
   "execution_count": 18,
   "metadata": {},
   "outputs": [
    {
     "name": "stdout",
     "output_type": "stream",
     "text": [
      "              precision    recall  f1-score   support\n",
      "\n",
      "       unacc       0.52      0.72      0.61        79\n",
      "         acc       0.00      0.00      0.00        17\n",
      "       vgood       0.91      0.90      0.90       240\n",
      "        good       0.00      0.00      0.00        10\n",
      "\n",
      "    accuracy                           0.79       346\n",
      "   macro avg       0.36      0.40      0.38       346\n",
      "weighted avg       0.75      0.79      0.76       346\n",
      "\n"
     ]
    },
    {
     "name": "stderr",
     "output_type": "stream",
     "text": [
      "C:\\ProgramData\\Anaconda3\\lib\\site-packages\\sklearn\\metrics\\_classification.py:1221: UndefinedMetricWarning: Precision and F-score are ill-defined and being set to 0.0 in labels with no predicted samples. Use `zero_division` parameter to control this behavior.\n",
      "  _warn_prf(average, modifier, msg_start, len(result))\n"
     ]
    }
   ],
   "source": [
    "# Print the classification report of the model\n",
    "\n",
    "print(classification_report(y_test, y_pred, target_names=unique_values))"
   ]
  },
  {
   "cell_type": "markdown",
   "metadata": {},
   "source": [
    "## SECTION 5: OPTIONAL\n",
    "\n",
    "  * Redo the analysis using the `entropy` criterion: `DecisionTreeClassifier(criterion='entropy', ...)`\n",
    "  * How do the results change?\n",
    "  * Can you tell what is best?"
   ]
  },
  {
   "cell_type": "markdown",
   "metadata": {},
   "source": [
    "<hr>\n",
    "\n",
    "### 1. Model using entropy Entropy"
   ]
  },
  {
   "cell_type": "code",
   "execution_count": 19,
   "metadata": {},
   "outputs": [],
   "source": [
    "# Redo the analysis using the entropy criterion: DecisionTreeClassifier(criterion='entropy', ...)\n",
    "\n",
    "model_entropy = decision_tree(X_train, y_train, 3, \"entropy\")"
   ]
  },
  {
   "cell_type": "code",
   "execution_count": 20,
   "metadata": {
    "scrolled": true
   },
   "outputs": [
    {
     "name": "stdout",
     "output_type": "stream",
     "text": [
      "The score/mean accuracy on the training data for the decision tree with max_depth 3 is 78.36%\n",
      "The accuracy score on the testing data for the decision tree with max_depth 3 is 75.43%\n"
     ]
    }
   ],
   "source": [
    "# How do the results change?\n",
    "\n",
    "score(X_train, y_train, model_entropy, \"training\")\n",
    "accuracy(X_test, y_test, model_entropy, \"testing\")"
   ]
  },
  {
   "cell_type": "markdown",
   "metadata": {},
   "source": [
    "We recall the score/mean accuracy on the training data using the criterion 'gini' was 81.04%, while the accuracy score on the testing data using the same criterion was 78.61%. \n",
    "\n",
    "**Using the entropy criterion, the results/accuracy has slightly worsened**."
   ]
  },
  {
   "cell_type": "code",
   "execution_count": 21,
   "metadata": {},
   "outputs": [],
   "source": [
    "# Can you tell what is best?"
   ]
  },
  {
   "cell_type": "markdown",
   "metadata": {},
   "source": [
    "Based on those preliminary results, **it seems that using the criterion 'gini' is the best way forward as using entropy does not seem to change the result in a positive manner**. However, since many other attributes for the decision tree classifier exist, limiting ourselves only to the criterion attribute might not be a best practice.\n",
    "\n",
    "<hr>\n",
    "\n",
    "<hr>\n",
    "\n",
    "<hr>\n",
    "\n",
    "### 2. Increasing max-depth\n",
    "\n",
    "As such, **another way of achieving better results could be to vary other attributes** such as the **max depth** of the decision tree."
   ]
  },
  {
   "cell_type": "code",
   "execution_count": 22,
   "metadata": {},
   "outputs": [],
   "source": [
    "# example of modifying the max depth.\n",
    "\n",
    "score = []\n",
    "acc = []\n",
    "for depth in range(4,10):\n",
    "    model = decision_tree(X_train, y_train, depth)\n",
    "    y_pred = model.predict(X_test)\n",
    "    score.append(model.score(X_train, y_train))\n",
    "    acc.append(accuracy_score(y_test, y_pred))\n",
    "    if depth == 7: \n",
    "        saved_model=model # we save the model at max_depth=7 to plot and print an example confusion matrix and class. report"
   ]
  },
  {
   "cell_type": "code",
   "execution_count": 23,
   "metadata": {},
   "outputs": [
    {
     "data": {
      "image/png": "[encoded data removed]",
      "text/plain": [
       "<Figure size 432x288 with 1 Axes>"
      ]
     },
     "metadata": {
      "needs_background": "light"
     },
     "output_type": "display_data"
    }
   ],
   "source": [
    "x = list(range(4,10))\n",
    "plt.plot(x, score, label = \"Training Score\")\n",
    "plt.plot(x, acc, label = \"Testing Accuracy\")\n",
    "plt.xlabel('Max-depth of tree')\n",
    "plt.ylabel('Accuracy')\n",
    "plt.title('Training Score and Testing Accuracy\\nDepending on Max-Depth of Decision Tree')\n",
    "plt.legend()\n",
    "plt.show()"
   ]
  },
  {
   "cell_type": "code",
   "execution_count": 24,
   "metadata": {
    "scrolled": true
   },
   "outputs": [
    {
     "name": "stdout",
     "output_type": "stream",
     "text": [
      "We plot the confusion matrix for the model with max-depth 7:\n"
     ]
    },
    {
     "data": {
      "text/plain": [
       "<sklearn.metrics._plot.confusion_matrix.ConfusionMatrixDisplay at 0x1883a55eb20>"
      ]
     },
     "execution_count": 24,
     "metadata": {},
     "output_type": "execute_result"
    },
    {
     "data": {
      "image/png": "[encoded data removed]",
      "text/plain": [
       "<Figure size 432x288 with 2 Axes>"
      ]
     },
     "metadata": {
      "needs_background": "light"
     },
     "output_type": "display_data"
    }
   ],
   "source": [
    "print(\"We plot the confusion matrix for the model with max-depth 7:\")\n",
    "plot_confusion_matrix(saved_model, X_test, y_test)"
   ]
  },
  {
   "cell_type": "code",
   "execution_count": 25,
   "metadata": {},
   "outputs": [
    {
     "name": "stdout",
     "output_type": "stream",
     "text": [
      "              precision    recall  f1-score   support\n",
      "\n",
      "       unacc       0.73      0.94      0.82        79\n",
      "         acc       0.64      0.53      0.58        17\n",
      "       vgood       0.99      0.92      0.95       240\n",
      "        good       0.75      0.60      0.67        10\n",
      "\n",
      "    accuracy                           0.89       346\n",
      "   macro avg       0.78      0.75      0.75       346\n",
      "weighted avg       0.91      0.89      0.90       346\n",
      "\n"
     ]
    }
   ],
   "source": [
    "print(classification_report(y_test, saved_model.predict(X_test), target_names=unique_values))"
   ]
  },
  {
   "cell_type": "markdown",
   "metadata": {},
   "source": [
    "We see that the predictions have improved on the class items ``acc`` and ``good``, which were problematic in our first run."
   ]
  },
  {
   "cell_type": "markdown",
   "metadata": {},
   "source": [
    "<hr>\n",
    "\n",
    "### 3. Model setting max-depth to default, i.e. None\n",
    "\n",
    "We want to test the results were we to remove any boundary on the max_depth of the tree."
   ]
  },
  {
   "cell_type": "code",
   "execution_count": 26,
   "metadata": {},
   "outputs": [
    {
     "name": "stdout",
     "output_type": "stream",
     "text": [
      "The score on the train data with no set max depth is 100.0%\n",
      "The accuracy score on the test data with no set max depth is 95.09%\n"
     ]
    }
   ],
   "source": [
    "model_no_max_depth = decision_tree(X_train, y_train)\n",
    "y_pred = model_no_max_depth.predict(X_test)\n",
    "print(f\"The score on the train data with no set max depth is {round(100*model_no_max_depth.score(X_train, y_train),2)}%\")\n",
    "print(f\"The accuracy score on the test data with no set max depth is {round(100*accuracy_score(y_test, y_pred),2)}%\")"
   ]
  },
  {
   "cell_type": "code",
   "execution_count": 27,
   "metadata": {
    "scrolled": false
   },
   "outputs": [
    {
     "data": {
      "text/plain": [
       "[Text(429.7165540540541, 420.384, 'safety <= 2.5\\ngini = 0.456\\nsamples = 1382\\nvalue = [305, 52, 970, 55]'),\n",
       " Text(423.68412162162167, 391.392, 'persons <= 1.5\\ngini = 0.581\\nsamples = 912\\nvalue = [305, 52, 500, 55]'),\n",
       " Text(417.65168918918926, 362.4, 'gini = 0.0\\nsamples = 308\\nvalue = [0, 0, 308, 0]'),\n",
       " Text(429.7165540540541, 362.4, 'maint <= 3.5\\ngini = 0.628\\nsamples = 604\\nvalue = [305, 52, 192, 55]'),\n",
       " Text(241.1087837837838, 333.408, 'buying <= 1.5\\ngini = 0.625\\nsamples = 467\\nvalue = [255, 52, 105, 55]'),\n",
       " Text(103.30540540540541, 304.416, 'safety <= 1.5\\ngini = 0.691\\nsamples = 119\\nvalue = [45, 35, 6, 33]'),\n",
       " Text(64.84864864864865, 275.424, 'lug_boot <= 1.5\\ngini = 0.61\\nsamples = 60\\nvalue = [9, 15, 3, 33]'),\n",
       " Text(39.21081081081081, 246.432, 'maint <= 2.5\\ngini = 0.585\\nsamples = 20\\nvalue = [6, 11, 3, 0]'),\n",
       " Text(24.129729729729732, 217.44, 'maint <= 1.5\\ngini = 0.615\\nsamples = 13\\nvalue = [6, 5, 2, 0]'),\n",
       " Text(12.064864864864866, 188.44799999999998, 'doors <= 3.5\\ngini = 0.278\\nsamples = 6\\nvalue = [0, 5, 1, 0]'),\n",
       " Text(6.032432432432433, 159.45599999999996, 'gini = 0.0\\nsamples = 4\\nvalue = [0, 4, 0, 0]'),\n",
       " Text(18.0972972972973, 159.45599999999996, 'persons <= 2.5\\ngini = 0.5\\nsamples = 2\\nvalue = [0, 1, 1, 0]'),\n",
       " Text(12.064864864864866, 130.464, 'gini = 0.0\\nsamples = 1\\nvalue = [0, 1, 0, 0]'),\n",
       " Text(24.129729729729732, 130.464, 'gini = 0.0\\nsamples = 1\\nvalue = [0, 0, 1, 0]'),\n",
       " Text(36.1945945945946, 188.44799999999998, 'doors <= 3.5\\ngini = 0.245\\nsamples = 7\\nvalue = [6, 0, 1, 0]'),\n",
       " Text(30.162162162162165, 159.45599999999996, 'gini = 0.0\\nsamples = 5\\nvalue = [5, 0, 0, 0]'),\n",
       " Text(42.227027027027034, 159.45599999999996, 'persons <= 2.5\\ngini = 0.5\\nsamples = 2\\nvalue = [1, 0, 1, 0]'),\n",
       " Text(36.1945945945946, 130.464, 'gini = 0.0\\nsamples = 1\\nvalue = [1, 0, 0, 0]'),\n",
       " Text(48.259459459459464, 130.464, 'gini = 0.0\\nsamples = 1\\nvalue = [0, 0, 1, 0]'),\n",
       " Text(54.29189189189189, 217.44, 'doors <= 3.5\\ngini = 0.245\\nsamples = 7\\nvalue = [0, 6, 1, 0]'),\n",
       " Text(48.259459459459464, 188.44799999999998, 'gini = 0.0\\nsamples = 5\\nvalue = [0, 5, 0, 0]'),\n",
       " Text(60.32432432432433, 188.44799999999998, 'persons <= 2.5\\ngini = 0.5\\nsamples = 2\\nvalue = [0, 1, 1, 0]'),\n",
       " Text(54.29189189189189, 159.45599999999996, 'gini = 0.0\\nsamples = 1\\nvalue = [0, 1, 0, 0]'),\n",
       " Text(66.35675675675677, 159.45599999999996, 'gini = 0.0\\nsamples = 1\\nvalue = [0, 0, 1, 0]'),\n",
       " Text(90.4864864864865, 246.432, 'lug_boot <= 2.5\\ngini = 0.304\\nsamples = 40\\nvalue = [3, 4, 0, 33]'),\n",
       " Text(84.45405405405407, 217.44, 'gini = 0.0\\nsamples = 22\\nvalue = [0, 0, 0, 22]'),\n",
       " Text(96.51891891891893, 217.44, 'doors <= 3.5\\ngini = 0.549\\nsamples = 18\\nvalue = [3, 4, 0, 11]'),\n",
       " Text(84.45405405405407, 188.44799999999998, 'doors <= 1.5\\ngini = 0.357\\nsamples = 14\\nvalue = [1, 2, 0, 11]'),\n",
       " Text(78.42162162162163, 159.45599999999996, 'persons <= 2.5\\ngini = 0.64\\nsamples = 5\\nvalue = [1, 2, 0, 2]'),\n",
       " Text(72.3891891891892, 130.464, 'maint <= 1.5\\ngini = 0.444\\nsamples = 3\\nvalue = [1, 2, 0, 0]'),\n",
       " Text(66.35675675675677, 101.47199999999998, 'gini = 0.0\\nsamples = 1\\nvalue = [0, 1, 0, 0]'),\n",
       " Text(78.42162162162163, 101.47199999999998, 'maint <= 2.5\\ngini = 0.5\\nsamples = 2\\nvalue = [1, 1, 0, 0]'),\n",
       " Text(72.3891891891892, 72.47999999999996, 'gini = 0.0\\nsamples = 1\\nvalue = [1, 0, 0, 0]'),\n",
       " Text(84.45405405405407, 72.47999999999996, 'gini = 0.0\\nsamples = 1\\nvalue = [0, 1, 0, 0]'),\n",
       " Text(84.45405405405407, 130.464, 'gini = 0.0\\nsamples = 2\\nvalue = [0, 0, 0, 2]'),\n",
       " Text(90.4864864864865, 159.45599999999996, 'gini = 0.0\\nsamples = 9\\nvalue = [0, 0, 0, 9]'),\n",
       " Text(108.58378378378379, 188.44799999999998, 'maint <= 2.5\\ngini = 0.5\\nsamples = 4\\nvalue = [2, 2, 0, 0]'),\n",
       " Text(102.55135135135136, 159.45599999999996, 'gini = 0.0\\nsamples = 2\\nvalue = [2, 0, 0, 0]'),\n",
       " Text(114.61621621621623, 159.45599999999996, 'gini = 0.0\\nsamples = 2\\nvalue = [0, 2, 0, 0]'),\n",
       " Text(141.76216216216218, 275.424, 'lug_boot <= 1.5\\ngini = 0.51\\nsamples = 59\\nvalue = [36, 20, 3, 0]'),\n",
       " Text(120.64864864864866, 246.432, 'doors <= 3.5\\ngini = 0.255\\nsamples = 20\\nvalue = [17, 0, 3, 0]'),\n",
       " Text(114.61621621621623, 217.44, 'gini = 0.0\\nsamples = 14\\nvalue = [14, 0, 0, 0]'),\n",
       " Text(126.68108108108109, 217.44, 'persons <= 2.5\\ngini = 0.5\\nsamples = 6\\nvalue = [3, 0, 3, 0]'),\n",
       " Text(120.64864864864866, 188.44799999999998, 'gini = 0.0\\nsamples = 3\\nvalue = [3, 0, 0, 0]'),\n",
       " Text(132.71351351351353, 188.44799999999998, 'gini = 0.0\\nsamples = 3\\nvalue = [0, 0, 3, 0]'),\n",
       " Text(162.8756756756757, 246.432, 'maint <= 1.5\\ngini = 0.5\\nsamples = 39\\nvalue = [19, 20, 0, 0]'),\n",
       " Text(150.81081081081084, 217.44, 'doors <= 1.5\\ngini = 0.165\\nsamples = 11\\nvalue = [1, 10, 0, 0]'),\n",
       " Text(144.7783783783784, 188.44799999999998, 'persons <= 2.5\\ngini = 0.444\\nsamples = 3\\nvalue = [1, 2, 0, 0]'),\n",
       " Text(138.74594594594595, 159.45599999999996, 'gini = 0.0\\nsamples = 1\\nvalue = [1, 0, 0, 0]'),\n",
       " Text(150.81081081081084, 159.45599999999996, 'gini = 0.0\\nsamples = 2\\nvalue = [0, 2, 0, 0]'),\n",
       " Text(156.84324324324325, 188.44799999999998, 'gini = 0.0\\nsamples = 8\\nvalue = [0, 8, 0, 0]'),\n",
       " Text(174.94054054054055, 217.44, 'maint <= 2.5\\ngini = 0.459\\nsamples = 28\\nvalue = [18, 10, 0, 0]'),\n",
       " Text(168.90810810810814, 188.44799999999998, 'gini = 0.0\\nsamples = 16\\nvalue = [16, 0, 0, 0]'),\n",
       " Text(180.972972972973, 188.44799999999998, 'lug_boot <= 2.5\\ngini = 0.278\\nsamples = 12\\nvalue = [2, 10, 0, 0]'),\n",
       " Text(174.94054054054055, 159.45599999999996, 'gini = 0.0\\nsamples = 6\\nvalue = [0, 6, 0, 0]'),\n",
       " Text(187.0054054054054, 159.45599999999996, 'doors <= 3.5\\ngini = 0.444\\nsamples = 6\\nvalue = [2, 4, 0, 0]'),\n",
       " Text(180.972972972973, 130.464, 'doors <= 1.5\\ngini = 0.32\\nsamples = 5\\nvalue = [1, 4, 0, 0]'),\n",
       " Text(174.94054054054055, 101.47199999999998, 'persons <= 2.5\\ngini = 0.5\\nsamples = 2\\nvalue = [1, 1, 0, 0]'),\n",
       " Text(168.90810810810814, 72.47999999999996, 'gini = 0.0\\nsamples = 1\\nvalue = [1, 0, 0, 0]'),\n",
       " Text(180.972972972973, 72.47999999999996, 'gini = 0.0\\nsamples = 1\\nvalue = [0, 1, 0, 0]'),\n",
       " Text(187.0054054054054, 101.47199999999998, 'gini = 0.0\\nsamples = 3\\nvalue = [0, 3, 0, 0]'),\n",
       " Text(193.03783783783786, 130.464, 'gini = 0.0\\nsamples = 1\\nvalue = [1, 0, 0, 0]'),\n",
       " Text(378.9121621621622, 304.416, 'lug_boot <= 1.5\\ngini = 0.549\\nsamples = 348\\nvalue = [210, 17, 99, 22]'),\n",
       " Text(279.0, 275.424, 'safety <= 1.5\\ngini = 0.542\\nsamples = 118\\nvalue = [50, 6, 62, 0]'),\n",
       " Text(250.34594594594597, 246.432, 'doors <= 3.5\\ngini = 0.521\\nsamples = 57\\nvalue = [36, 6, 15, 0]'),\n",
       " Text(223.20000000000002, 217.44, 'buying <= 2.5\\ngini = 0.406\\nsamples = 40\\nvalue = [30, 5, 5, 0]'),\n",
       " Text(205.10270270270271, 188.44799999999998, 'maint <= 1.5\\ngini = 0.473\\nsamples = 13\\nvalue = [8, 0, 5, 0]'),\n",
       " Text(199.0702702702703, 159.45599999999996, 'gini = 0.0\\nsamples = 5\\nvalue = [5, 0, 0, 0]'),\n",
       " Text(211.13513513513516, 159.45599999999996, 'maint <= 2.5\\ngini = 0.469\\nsamples = 8\\nvalue = [3, 0, 5, 0]'),\n",
       " Text(205.10270270270271, 130.464, 'gini = 0.0\\nsamples = 5\\nvalue = [0, 0, 5, 0]'),\n",
       " Text(217.16756756756757, 130.464, 'gini = 0.0\\nsamples = 3\\nvalue = [3, 0, 0, 0]'),\n",
       " Text(241.29729729729732, 188.44799999999998, 'maint <= 1.5\\ngini = 0.302\\nsamples = 27\\nvalue = [22, 5, 0, 0]'),\n",
       " Text(235.26486486486488, 159.45599999999996, 'buying <= 3.5\\ngini = 0.496\\nsamples = 11\\nvalue = [6, 5, 0, 0]'),\n",
       " Text(229.23243243243246, 130.464, 'gini = 0.0\\nsamples = 6\\nvalue = [6, 0, 0, 0]'),\n",
       " Text(241.29729729729732, 130.464, 'gini = 0.0\\nsamples = 5\\nvalue = [0, 5, 0, 0]'),\n",
       " Text(247.32972972972976, 159.45599999999996, 'gini = 0.0\\nsamples = 16\\nvalue = [16, 0, 0, 0]'),\n",
       " Text(277.4918918918919, 217.44, 'persons <= 2.5\\ngini = 0.526\\nsamples = 17\\nvalue = [6, 1, 10, 0]'),\n",
       " Text(271.4594594594595, 188.44799999999998, 'buying <= 2.5\\ngini = 0.406\\nsamples = 8\\nvalue = [6, 1, 1, 0]'),\n",
       " Text(259.3945945945946, 159.45599999999996, 'maint <= 1.5\\ngini = 0.5\\nsamples = 2\\nvalue = [1, 0, 1, 0]'),\n",
       " Text(253.36216216216218, 130.464, 'gini = 0.0\\nsamples = 1\\nvalue = [1, 0, 0, 0]'),\n",
       " Text(265.42702702702707, 130.464, 'gini = 0.0\\nsamples = 1\\nvalue = [0, 0, 1, 0]'),\n",
       " Text(283.52432432432437, 159.45599999999996, 'maint <= 1.5\\ngini = 0.278\\nsamples = 6\\nvalue = [5, 1, 0, 0]'),\n",
       " Text(277.4918918918919, 130.464, 'buying <= 3.5\\ngini = 0.5\\nsamples = 2\\nvalue = [1, 1, 0, 0]'),\n",
       " Text(271.4594594594595, 101.47199999999998, 'gini = 0.0\\nsamples = 1\\nvalue = [1, 0, 0, 0]'),\n",
       " Text(283.52432432432437, 101.47199999999998, 'gini = 0.0\\nsamples = 1\\nvalue = [0, 1, 0, 0]'),\n",
       " Text(289.5567567567568, 130.464, 'gini = 0.0\\nsamples = 4\\nvalue = [4, 0, 0, 0]'),\n",
       " Text(283.52432432432437, 188.44799999999998, 'gini = 0.0\\nsamples = 9\\nvalue = [0, 0, 9, 0]'),\n",
       " Text(307.6540540540541, 246.432, 'buying <= 3.5\\ngini = 0.354\\nsamples = 61\\nvalue = [14, 0, 47, 0]'),\n",
       " Text(301.62162162162167, 217.44, 'gini = 0.0\\nsamples = 39\\nvalue = [0, 0, 39, 0]'),\n",
       " Text(313.6864864864865, 217.44, 'maint <= 1.5\\ngini = 0.463\\nsamples = 22\\nvalue = [14, 0, 8, 0]'),\n",
       " Text(301.62162162162167, 188.44799999999998, 'doors <= 3.5\\ngini = 0.219\\nsamples = 8\\nvalue = [7, 0, 1, 0]'),\n",
       " Text(295.5891891891892, 159.45599999999996, 'gini = 0.0\\nsamples = 6\\nvalue = [6, 0, 0, 0]'),\n",
       " Text(307.6540540540541, 159.45599999999996, 'persons <= 2.5\\ngini = 0.5\\nsamples = 2\\nvalue = [1, 0, 1, 0]'),\n",
       " Text(301.62162162162167, 130.464, 'gini = 0.0\\nsamples = 1\\nvalue = [1, 0, 0, 0]'),\n",
       " Text(313.6864864864865, 130.464, 'gini = 0.0\\nsamples = 1\\nvalue = [0, 0, 1, 0]'),\n",
       " Text(325.7513513513514, 188.44799999999998, 'maint <= 2.5\\ngini = 0.5\\nsamples = 14\\nvalue = [7, 0, 7, 0]'),\n",
       " Text(319.718918918919, 159.45599999999996, 'gini = 0.0\\nsamples = 6\\nvalue = [0, 0, 6, 0]'),\n",
       " Text(331.7837837837838, 159.45599999999996, 'doors <= 3.5\\ngini = 0.219\\nsamples = 8\\nvalue = [7, 0, 1, 0]'),\n",
       " Text(325.7513513513514, 130.464, 'gini = 0.0\\nsamples = 6\\nvalue = [6, 0, 0, 0]'),\n",
       " Text(337.8162162162163, 130.464, 'persons <= 2.5\\ngini = 0.5\\nsamples = 2\\nvalue = [1, 0, 1, 0]'),\n",
       " Text(331.7837837837838, 101.47199999999998, 'gini = 0.0\\nsamples = 1\\nvalue = [1, 0, 0, 0]'),\n",
       " Text(343.8486486486487, 101.47199999999998, 'gini = 0.0\\nsamples = 1\\nvalue = [0, 0, 1, 0]'),\n",
       " Text(478.8243243243244, 275.424, 'buying <= 3.5\\ngini = 0.479\\nsamples = 230\\nvalue = [160, 11, 37, 22]'),\n",
       " Text(420.7621621621622, 246.432, 'buying <= 2.5\\ngini = 0.35\\nsamples = 159\\nvalue = [123, 0, 36, 0]'),\n",
       " Text(383.0594594594595, 217.44, 'maint <= 1.5\\ngini = 0.46\\nsamples = 78\\nvalue = [50, 0, 28, 0]'),\n",
       " Text(367.9783783783784, 188.44799999999998, 'lug_boot <= 2.5\\ngini = 0.18\\nsamples = 30\\nvalue = [27, 0, 3, 0]'),\n",
       " Text(361.945945945946, 159.45599999999996, 'gini = 0.0\\nsamples = 16\\nvalue = [16, 0, 0, 0]'),\n",
       " Text(374.0108108108108, 159.45599999999996, 'doors <= 3.5\\ngini = 0.337\\nsamples = 14\\nvalue = [11, 0, 3, 0]'),\n",
       " Text(361.945945945946, 130.464, 'doors <= 1.5\\ngini = 0.165\\nsamples = 11\\nvalue = [10, 0, 1, 0]'),\n",
       " Text(355.9135135135135, 101.47199999999998, 'safety <= 1.5\\ngini = 0.375\\nsamples = 4\\nvalue = [3, 0, 1, 0]'),\n",
       " Text(349.8810810810811, 72.47999999999996, 'gini = 0.0\\nsamples = 2\\nvalue = [2, 0, 0, 0]'),\n",
       " Text(361.945945945946, 72.47999999999996, 'persons <= 2.5\\ngini = 0.5\\nsamples = 2\\nvalue = [1, 0, 1, 0]'),\n",
       " Text(355.9135135135135, 43.488, 'gini = 0.0\\nsamples = 1\\nvalue = [0, 0, 1, 0]'),\n",
       " Text(367.9783783783784, 43.488, 'gini = 0.0\\nsamples = 1\\nvalue = [1, 0, 0, 0]'),\n",
       " Text(367.9783783783784, 101.47199999999998, 'gini = 0.0\\nsamples = 7\\nvalue = [7, 0, 0, 0]'),\n",
       " Text(386.0756756756757, 130.464, 'safety <= 1.5\\ngini = 0.444\\nsamples = 3\\nvalue = [1, 0, 2, 0]'),\n",
       " Text(380.0432432432433, 101.47199999999998, 'gini = 0.0\\nsamples = 1\\nvalue = [1, 0, 0, 0]'),\n",
       " Text(392.1081081081081, 101.47199999999998, 'gini = 0.0\\nsamples = 2\\nvalue = [0, 0, 2, 0]'),\n",
       " Text(398.1405405405406, 188.44799999999998, 'maint <= 2.5\\ngini = 0.499\\nsamples = 48\\nvalue = [23, 0, 25, 0]'),\n",
       " Text(392.1081081081081, 159.45599999999996, 'gini = 0.0\\nsamples = 23\\nvalue = [0, 0, 23, 0]'),\n",
       " Text(404.172972972973, 159.45599999999996, 'safety <= 1.5\\ngini = 0.147\\nsamples = 25\\nvalue = [23, 0, 2, 0]'),\n",
       " Text(398.1405405405406, 130.464, 'gini = 0.0\\nsamples = 14\\nvalue = [14, 0, 0, 0]'),\n",
       " Text(410.20540540540543, 130.464, 'lug_boot <= 2.5\\ngini = 0.298\\nsamples = 11\\nvalue = [9, 0, 2, 0]'),\n",
       " Text(404.172972972973, 101.47199999999998, 'gini = 0.0\\nsamples = 5\\nvalue = [5, 0, 0, 0]'),\n",
       " Text(416.2378378378379, 101.47199999999998, 'doors <= 3.5\\ngini = 0.444\\nsamples = 6\\nvalue = [4, 0, 2, 0]'),\n",
       " Text(410.20540540540543, 72.47999999999996, 'doors <= 1.5\\ngini = 0.32\\nsamples = 5\\nvalue = [4, 0, 1, 0]'),\n",
       " Text(404.172972972973, 43.488, 'persons <= 2.5\\ngini = 0.5\\nsamples = 2\\nvalue = [1, 0, 1, 0]'),\n",
       " Text(398.1405405405406, 14.495999999999981, 'gini = 0.0\\nsamples = 1\\nvalue = [0, 0, 1, 0]'),\n",
       " Text(410.20540540540543, 14.495999999999981, 'gini = 0.0\\nsamples = 1\\nvalue = [1, 0, 0, 0]'),\n",
       " Text(416.2378378378379, 43.488, 'gini = 0.0\\nsamples = 3\\nvalue = [3, 0, 0, 0]'),\n",
       " Text(422.2702702702703, 72.47999999999996, 'gini = 0.0\\nsamples = 1\\nvalue = [0, 0, 1, 0]'),\n",
       " Text(458.4648648648649, 217.44, 'doors <= 3.5\\ngini = 0.178\\nsamples = 81\\nvalue = [73, 0, 8, 0]'),\n",
       " Text(446.40000000000003, 188.44799999999998, 'doors <= 1.5\\ngini = 0.091\\nsamples = 63\\nvalue = [60, 0, 3, 0]'),\n",
       " Text(440.3675675675676, 159.45599999999996, 'persons <= 2.5\\ngini = 0.255\\nsamples = 20\\nvalue = [17, 0, 3, 0]'),\n",
       " Text(434.33513513513515, 130.464, 'lug_boot <= 2.5\\ngini = 0.444\\nsamples = 9\\nvalue = [6, 0, 3, 0]'),\n",
       " Text(428.30270270270273, 101.47199999999998, 'gini = 0.0\\nsamples = 5\\nvalue = [5, 0, 0, 0]'),\n",
       " Text(440.3675675675676, 101.47199999999998, 'safety <= 1.5\\ngini = 0.375\\nsamples = 4\\nvalue = [1, 0, 3, 0]'),\n",
       " Text(434.33513513513515, 72.47999999999996, 'gini = 0.0\\nsamples = 1\\nvalue = [1, 0, 0, 0]'),\n",
       " Text(446.40000000000003, 72.47999999999996, 'gini = 0.0\\nsamples = 3\\nvalue = [0, 0, 3, 0]'),\n",
       " Text(446.40000000000003, 130.464, 'gini = 0.0\\nsamples = 11\\nvalue = [11, 0, 0, 0]'),\n",
       " Text(452.43243243243245, 159.45599999999996, 'gini = 0.0\\nsamples = 43\\nvalue = [43, 0, 0, 0]'),\n",
       " Text(470.52972972972975, 188.44799999999998, 'lug_boot <= 2.5\\ngini = 0.401\\nsamples = 18\\nvalue = [13, 0, 5, 0]'),\n",
       " Text(464.49729729729734, 159.45599999999996, 'gini = 0.0\\nsamples = 9\\nvalue = [9, 0, 0, 0]'),\n",
       " Text(476.5621621621622, 159.45599999999996, 'safety <= 1.5\\ngini = 0.494\\nsamples = 9\\nvalue = [4, 0, 5, 0]'),\n",
       " Text(470.52972972972975, 130.464, 'gini = 0.0\\nsamples = 4\\nvalue = [4, 0, 0, 0]'),\n",
       " Text(482.59459459459464, 130.464, 'gini = 0.0\\nsamples = 5\\nvalue = [0, 0, 5, 0]'),\n",
       " Text(536.8864864864865, 246.432, 'maint <= 1.5\\ngini = 0.608\\nsamples = 71\\nvalue = [37, 11, 1, 22]'),\n",
       " Text(506.72432432432436, 217.44, 'safety <= 1.5\\ngini = 0.573\\nsamples = 24\\nvalue = [2, 11, 0, 11]'),\n",
       " Text(494.6594594594595, 188.44799999999998, 'doors <= 3.5\\ngini = 0.153\\nsamples = 12\\nvalue = [0, 1, 0, 11]'),\n",
       " Text(488.62702702702705, 159.45599999999996, 'gini = 0.0\\nsamples = 9\\nvalue = [0, 0, 0, 9]'),\n",
       " Text(500.69189189189194, 159.45599999999996, 'lug_boot <= 2.5\\ngini = 0.444\\nsamples = 3\\nvalue = [0, 1, 0, 2]'),\n",
       " Text(494.6594594594595, 130.464, 'gini = 0.0\\nsamples = 2\\nvalue = [0, 0, 0, 2]'),\n",
       " Text(506.72432432432436, 130.464, 'gini = 0.0\\nsamples = 1\\nvalue = [0, 1, 0, 0]'),\n",
       " Text(518.7891891891892, 188.44799999999998, 'doors <= 3.5\\ngini = 0.278\\nsamples = 12\\nvalue = [2, 10, 0, 0]'),\n",
       " Text(512.7567567567568, 159.45599999999996, 'gini = 0.0\\nsamples = 9\\nvalue = [0, 9, 0, 0]'),\n",
       " Text(524.8216216216217, 159.45599999999996, 'lug_boot <= 2.5\\ngini = 0.444\\nsamples = 3\\nvalue = [2, 1, 0, 0]'),\n",
       " Text(518.7891891891892, 130.464, 'gini = 0.0\\nsamples = 1\\nvalue = [0, 1, 0, 0]'),\n",
       " Text(530.8540540540541, 130.464, 'gini = 0.0\\nsamples = 2\\nvalue = [2, 0, 0, 0]'),\n",
       " Text(567.0486486486487, 217.44, 'maint <= 2.5\\ngini = 0.39\\nsamples = 47\\nvalue = [35, 0, 1, 11]'),\n",
       " Text(554.9837837837838, 188.44799999999998, 'doors <= 1.5\\ngini = 0.077\\nsamples = 25\\nvalue = [24, 0, 1, 0]'),\n",
       " Text(548.9513513513514, 159.45599999999996, 'safety <= 1.5\\ngini = 0.278\\nsamples = 6\\nvalue = [5, 0, 1, 0]'),\n",
       " Text(542.918918918919, 130.464, 'gini = 0.0\\nsamples = 3\\nvalue = [3, 0, 0, 0]'),\n",
       " Text(554.9837837837838, 130.464, 'lug_boot <= 2.5\\ngini = 0.444\\nsamples = 3\\nvalue = [2, 0, 1, 0]'),\n",
       " Text(548.9513513513514, 101.47199999999998, 'gini = 0.0\\nsamples = 2\\nvalue = [2, 0, 0, 0]'),\n",
       " Text(561.0162162162163, 101.47199999999998, 'gini = 0.0\\nsamples = 1\\nvalue = [0, 0, 1, 0]'),\n",
       " Text(561.0162162162163, 159.45599999999996, 'gini = 0.0\\nsamples = 19\\nvalue = [19, 0, 0, 0]'),\n",
       " Text(579.1135135135136, 188.44799999999998, 'safety <= 1.5\\ngini = 0.5\\nsamples = 22\\nvalue = [11, 0, 0, 11]'),\n",
       " Text(573.0810810810812, 159.45599999999996, 'doors <= 3.5\\ngini = 0.26\\nsamples = 13\\nvalue = [2, 0, 0, 11]'),\n",
       " Text(567.0486486486487, 130.464, 'gini = 0.0\\nsamples = 9\\nvalue = [0, 0, 0, 9]'),\n",
       " Text(579.1135135135136, 130.464, 'lug_boot <= 2.5\\ngini = 0.5\\nsamples = 4\\nvalue = [2, 0, 0, 2]'),\n",
       " Text(573.0810810810812, 101.47199999999998, 'gini = 0.0\\nsamples = 2\\nvalue = [0, 0, 0, 2]'),\n",
       " Text(585.145945945946, 101.47199999999998, 'gini = 0.0\\nsamples = 2\\nvalue = [2, 0, 0, 0]'),\n",
       " Text(585.145945945946, 159.45599999999996, 'gini = 0.0\\nsamples = 9\\nvalue = [9, 0, 0, 0]'),\n",
       " Text(618.3243243243244, 333.408, 'buying <= 1.5\\ngini = 0.464\\nsamples = 137\\nvalue = [50, 0, 87, 0]'),\n",
       " Text(603.2432432432433, 304.416, 'lug_boot <= 1.5\\ngini = 0.32\\nsamples = 30\\nvalue = [24, 0, 6, 0]'),\n",
       " Text(591.1783783783784, 275.424, 'safety <= 1.5\\ngini = 0.469\\nsamples = 8\\nvalue = [3, 0, 5, 0]'),\n",
       " Text(585.145945945946, 246.432, 'doors <= 3.5\\ngini = 0.375\\nsamples = 4\\nvalue = [3, 0, 1, 0]'),\n",
       " Text(579.1135135135136, 217.44, 'gini = 0.0\\nsamples = 3\\nvalue = [3, 0, 0, 0]'),\n",
       " Text(591.1783783783784, 217.44, 'gini = 0.0\\nsamples = 1\\nvalue = [0, 0, 1, 0]'),\n",
       " Text(597.2108108108108, 246.432, 'gini = 0.0\\nsamples = 4\\nvalue = [0, 0, 4, 0]'),\n",
       " Text(615.3081081081082, 275.424, 'doors <= 1.5\\ngini = 0.087\\nsamples = 22\\nvalue = [21, 0, 1, 0]'),\n",
       " Text(609.2756756756758, 246.432, 'safety <= 1.5\\ngini = 0.245\\nsamples = 7\\nvalue = [6, 0, 1, 0]'),\n",
       " Text(603.2432432432433, 217.44, 'gini = 0.0\\nsamples = 3\\nvalue = [3, 0, 0, 0]'),\n",
       " Text(615.3081081081082, 217.44, 'lug_boot <= 2.5\\ngini = 0.375\\nsamples = 4\\nvalue = [3, 0, 1, 0]'),\n",
       " Text(609.2756756756758, 188.44799999999998, 'gini = 0.0\\nsamples = 2\\nvalue = [2, 0, 0, 0]'),\n",
       " Text(621.3405405405406, 188.44799999999998, 'persons <= 2.5\\ngini = 0.5\\nsamples = 2\\nvalue = [1, 0, 1, 0]'),\n",
       " Text(615.3081081081082, 159.45599999999996, 'gini = 0.0\\nsamples = 1\\nvalue = [0, 0, 1, 0]'),\n",
       " Text(627.372972972973, 159.45599999999996, 'gini = 0.0\\nsamples = 1\\nvalue = [1, 0, 0, 0]'),\n",
       " Text(621.3405405405406, 246.432, 'gini = 0.0\\nsamples = 15\\nvalue = [15, 0, 0, 0]'),\n",
       " Text(633.4054054054054, 304.416, 'buying <= 3.5\\ngini = 0.368\\nsamples = 107\\nvalue = [26, 0, 81, 0]'),\n",
       " Text(627.372972972973, 275.424, 'gini = 0.0\\nsamples = 71\\nvalue = [0, 0, 71, 0]'),\n",
       " Text(639.437837837838, 275.424, 'safety <= 1.5\\ngini = 0.401\\nsamples = 36\\nvalue = [26, 0, 10, 0]'),\n",
       " Text(633.4054054054054, 246.432, 'gini = 0.0\\nsamples = 18\\nvalue = [18, 0, 0, 0]'),\n",
       " Text(645.4702702702704, 246.432, 'lug_boot <= 1.5\\ngini = 0.494\\nsamples = 18\\nvalue = [8, 0, 10, 0]'),\n",
       " Text(639.437837837838, 217.44, 'gini = 0.0\\nsamples = 8\\nvalue = [0, 0, 8, 0]'),\n",
       " Text(651.5027027027028, 217.44, 'doors <= 3.5\\ngini = 0.32\\nsamples = 10\\nvalue = [8, 0, 2, 0]'),\n",
       " Text(645.4702702702704, 188.44799999999998, 'gini = 0.0\\nsamples = 6\\nvalue = [6, 0, 0, 0]'),\n",
       " Text(657.5351351351352, 188.44799999999998, 'lug_boot <= 2.5\\ngini = 0.5\\nsamples = 4\\nvalue = [2, 0, 2, 0]'),\n",
       " Text(651.5027027027028, 159.45599999999996, 'gini = 0.0\\nsamples = 2\\nvalue = [2, 0, 0, 0]'),\n",
       " Text(663.5675675675676, 159.45599999999996, 'gini = 0.0\\nsamples = 2\\nvalue = [0, 0, 2, 0]'),\n",
       " Text(435.7489864864865, 391.392, 'gini = 0.0\\nsamples = 470\\nvalue = [0, 0, 470, 0]')]"
      ]
     },
     "execution_count": 27,
     "metadata": {},
     "output_type": "execute_result"
    },
    {
     "data": {
      "image/png": "[encoded data removed]",
      "text/plain": [
       "<Figure size 864x576 with 1 Axes>"
      ]
     },
     "metadata": {
      "needs_background": "light"
     },
     "output_type": "display_data"
    }
   ],
   "source": [
    "plt.figure(figsize=(12,8))\n",
    "\n",
    "tree.plot_tree(model_no_max_depth, feature_names=name_features) "
   ]
  },
  {
   "cell_type": "markdown",
   "metadata": {},
   "source": [
    "This is not very readable. Though the test accuracy is high, the trade-off is that setting max_depth to none is definitely **not scalable** if we were to increase the size of the dataset."
   ]
  }
 ],
 "metadata": {
  "kernelspec": {
   "display_name": "Python 3",
   "language": "python",
   "name": "python3"
  },
  "language_info": {
   "codemirror_mode": {
    "name": "ipython",
    "version": 3
   },
   "file_extension": ".py",
   "mimetype": "text/x-python",
   "name": "python",
   "nbconvert_exporter": "python",
   "pygments_lexer": "ipython3",
   "version": "3.8.3"
  }
 },
 "nbformat": 4,
 "nbformat_minor": 4
}
