{
 "cells": [
  {
   "cell_type": "markdown",
   "metadata": {},
   "source": [
    "# Assignment: regression\n",
    "\n",
    "Regression is a predictive modeling task that involves predicting a numerical output given some input. It is different from classification tasks that involve predicting a class label.\n",
    "\n",
    "Typically, a regression task involves predicting a single numeric value. Although, some tasks require predicting more than one numeric value. These tasks are referred to as multiple-output regression, or multi-output regression for short.\n",
    "\n",
    "In multi-output regression, two or more outputs are required for each input sample, and the outputs are required simultaneously. The assumption is that the outputs are a function of the inputs.\n",
    "\n"
   ]
  },
  {
   "cell_type": "markdown",
   "metadata": {
    "toc": true
   },
   "source": [
    "<h1>Table of Contents<span class=\"tocSkip\"></span></h1>\n",
    "<div class=\"toc\"><ul class=\"toc-item\"><li><span><a href=\"#Create-a-dataset\" data-toc-modified-id=\"Create-a-dataset-1\"><span class=\"toc-item-num\">1&nbsp;&nbsp;</span>Create a dataset</a></span></li><li><span><a href=\"#Buid-a-neuronal-network-for-multiple-ouput\" data-toc-modified-id=\"Buid-a-neuronal-network-for-multiple-ouput-2\"><span class=\"toc-item-num\">2&nbsp;&nbsp;</span>Buid a neuronal network for multiple ouput</a></span></li><li><span><a href=\"#Fit-the-model-and-plot-learning-curve\" data-toc-modified-id=\"Fit-the-model-and-plot-learning-curve-3\"><span class=\"toc-item-num\">3&nbsp;&nbsp;</span>Fit the model and plot learning curve</a></span></li><li><span><a href=\"#Evaluate-your-model\" data-toc-modified-id=\"Evaluate-your-model-4\"><span class=\"toc-item-num\">4&nbsp;&nbsp;</span>Evaluate your model</a></span></li><li><span><a href=\"#To-train-with-a-real-dataset\" data-toc-modified-id=\"To-train-with-a-real-dataset-5\"><span class=\"toc-item-num\">5&nbsp;&nbsp;</span>To train with a real dataset</a></span><ul class=\"toc-item\"><li><span><a href=\"#Preprocess-the-data-(outlier-?-missing-value-?)\" data-toc-modified-id=\"Preprocess-the-data-(outlier-?-missing-value-?)-5.1\"><span class=\"toc-item-num\">5.1&nbsp;&nbsp;</span>Preprocess the data (outlier ? missing value ?)</a></span></li><li><span><a href=\"#Build-and-fit-the-model\" data-toc-modified-id=\"Build-and-fit-the-model-5.2\"><span class=\"toc-item-num\">5.2&nbsp;&nbsp;</span>Build and fit the model</a></span></li><li><span><a href=\"#Predict-insurance-charge-on-new-data\" data-toc-modified-id=\"Predict-insurance-charge-on-new-data-5.3\"><span class=\"toc-item-num\">5.3&nbsp;&nbsp;</span>Predict insurance charge on new data</a></span></li></ul></li></ul></div>"
   ]
  },
  {
   "cell_type": "markdown",
   "metadata": {},
   "source": [
    "## Create a dataset\n",
    "\n",
    "Using make_regression() function from the scikit-learn library create a data set that will have 1000 sample, 10 input features and two numeric outputs for each sample"
   ]
  },
  {
   "cell_type": "code",
   "execution_count": 1,
   "metadata": {
    "ExecuteTime": {
     "end_time": "2020-11-29T12:23:23.165523Z",
     "start_time": "2020-11-29T12:23:22.767516Z"
    }
   },
   "outputs": [
    {
     "name": "stdout",
     "output_type": "stream",
     "text": [
      "(1000, 10) (1000, 2)\n"
     ]
    }
   ],
   "source": [
    "''' Create the dataset '''\n",
    "from sklearn.datasets import make_regression\n",
    "\n",
    "N_items = 1000\n",
    "N_features = 10\n",
    "N_targets = 2\n",
    "\n",
    "# create dataset\n",
    "X, y = make_regression(n_samples=N_items, n_features=N_features, n_targets=N_targets, random_state=0)\n",
    "\n",
    "# summarize shape\n",
    "print(X.shape, y.shape)"
   ]
  },
  {
   "cell_type": "code",
   "execution_count": 2,
   "metadata": {
    "ExecuteTime": {
     "end_time": "2020-11-29T12:23:23.189952Z",
     "start_time": "2020-11-29T12:23:23.186041Z"
    }
   },
   "outputs": [],
   "source": [
    "from sklearn.preprocessing import MinMaxScaler\n",
    "\n",
    "''' Normalize train and test part '''\n",
    "# Normalize features\n",
    "scalarX = MinMaxScaler()\n",
    "scalarX.fit(X)\n",
    "X = scalarX.transform(X)\n",
    "\n",
    "# Normalize target value\n",
    "scalarY = MinMaxScaler()\n",
    "scalarY.fit(y.reshape(N_items,2))\n",
    "y = scalarY.transform(y.reshape(N_items,2))"
   ]
  },
  {
   "cell_type": "code",
   "execution_count": 3,
   "metadata": {
    "ExecuteTime": {
     "end_time": "2020-11-29T12:23:23.184217Z",
     "start_time": "2020-11-29T12:23:23.167111Z"
    }
   },
   "outputs": [
    {
     "data": {
      "text/plain": [
       "((800, 10), (800, 2))"
      ]
     },
     "execution_count": 3,
     "metadata": {},
     "output_type": "execute_result"
    }
   ],
   "source": [
    "from sklearn.model_selection import train_test_split\n",
    "\n",
    "''' Split the dataset between train and test'''\n",
    "# Split dataset into train and test part\n",
    "X_train, X_test, y_train, y_test = train_test_split(X, y, test_size=0.2)\n",
    "\n",
    "# summarize train shape\n",
    "X_train.shape, y_train.shape"
   ]
  },
  {
   "cell_type": "markdown",
   "metadata": {},
   "source": [
    "## Buid a neuronal network for multiple ouput\n",
    "\n",
    "Neural network models also support multi-output regression and have the benefit of learning a continuous function that can model a more graceful relationship between changes in input and output.\n",
    "\n",
    "Multi-output regression can be supported directly by neural networks simply by specifying the number of target variables there are in the problem as the number of nodes in the output layer. For example, a task that has three output variables will require a neural network output layer with three nodes in the output layer, each with the linear (default) activation function.\n",
    "\n",
    "Use:\n",
    "* adam as optimizer\n",
    "* mean_squared_error as loss\n",
    "* root_mean_squared_error as metrics"
   ]
  },
  {
   "cell_type": "code",
   "execution_count": 4,
   "metadata": {
    "ExecuteTime": {
     "end_time": "2020-11-29T12:23:24.890260Z",
     "start_time": "2020-11-29T12:23:23.191485Z"
    }
   },
   "outputs": [
    {
     "name": "stdout",
     "output_type": "stream",
     "text": [
      "Model: \"functional_1\"\n",
      "_________________________________________________________________\n",
      "Layer (type)                 Output Shape              Param #   \n",
      "=================================================================\n",
      "input_1 (InputLayer)         [(None, 10)]              0         \n",
      "_________________________________________________________________\n",
      "dense (Dense)                (None, 8)                 88        \n",
      "_________________________________________________________________\n",
      "dense_1 (Dense)              (None, 16)                144       \n",
      "_________________________________________________________________\n",
      "dense_2 (Dense)              (None, 2)                 34        \n",
      "=================================================================\n",
      "Total params: 266\n",
      "Trainable params: 266\n",
      "Non-trainable params: 0\n",
      "_________________________________________________________________\n"
     ]
    }
   ],
   "source": [
    "''' define and compile the model '''\n",
    "import tensorflow as tf\n",
    "from tensorflow import keras\n",
    "from keras.models import Model\n",
    "from keras.layers import Input, Dense\n",
    "from keras.metrics import RootMeanSquaredError\n",
    "physical_devices = tf.config.list_physical_devices('GPU') \n",
    "tf.config.experimental.set_memory_growth(physical_devices[0], True)\n",
    "\n",
    "optimizer = tf.keras.optimizers.Adam(learning_rate=0.03)\n",
    "loss = \"mean_squared_error\"\n",
    "metrics = [RootMeanSquaredError()]\n",
    "\n",
    "# This returns a tensor\n",
    "inputs = Input(shape=(N_features,))\n",
    "\n",
    "# a layer instance is callable on a tensor, and returns a tensor\n",
    "output_1 = Dense(8, activation='relu')(inputs)\n",
    "output_2 = Dense(16, activation='relu')(output_1)\n",
    "predictions = Dense(2, activation='linear')(output_2)\n",
    "\n",
    "# This creates a model that includes\n",
    "# the Input layer and three Dense layers\n",
    "model = Model(inputs=inputs, outputs=predictions)\n",
    "\n",
    "model.compile(optimizer=optimizer, loss=loss, metrics=metrics)\n",
    "\n",
    "model.summary()"
   ]
  },
  {
   "cell_type": "markdown",
   "metadata": {},
   "source": [
    "## Fit the model and plot learning curve\n",
    "\n",
    "Use:\n",
    "* as many epochs as necessary\n",
    "* validation split: 10 %"
   ]
  },
  {
   "cell_type": "code",
   "execution_count": 5,
   "metadata": {
    "ExecuteTime": {
     "end_time": "2020-11-29T12:23:26.080321Z",
     "start_time": "2020-11-29T12:23:24.892086Z"
    }
   },
   "outputs": [
    {
     "name": "stdout",
     "output_type": "stream",
     "text": [
      "Epoch 1/25\n",
      "23/23 - 0s - loss: 0.0645 - root_mean_squared_error: 0.2540 - val_loss: 0.0134 - val_root_mean_squared_error: 0.1158\n",
      "Epoch 2/25\n",
      "23/23 - 0s - loss: 0.0168 - root_mean_squared_error: 0.1297 - val_loss: 0.0103 - val_root_mean_squared_error: 0.1013\n",
      "Epoch 3/25\n",
      "23/23 - 0s - loss: 0.0117 - root_mean_squared_error: 0.1084 - val_loss: 0.0062 - val_root_mean_squared_error: 0.0786\n",
      "Epoch 4/25\n",
      "23/23 - 0s - loss: 0.0075 - root_mean_squared_error: 0.0864 - val_loss: 0.0042 - val_root_mean_squared_error: 0.0648\n",
      "Epoch 5/25\n",
      "23/23 - 0s - loss: 0.0042 - root_mean_squared_error: 0.0649 - val_loss: 0.0023 - val_root_mean_squared_error: 0.0478\n",
      "Epoch 6/25\n",
      "23/23 - 0s - loss: 0.0025 - root_mean_squared_error: 0.0503 - val_loss: 0.0014 - val_root_mean_squared_error: 0.0368\n",
      "Epoch 7/25\n",
      "23/23 - 0s - loss: 0.0013 - root_mean_squared_error: 0.0366 - val_loss: 8.1429e-04 - val_root_mean_squared_error: 0.0285\n",
      "Epoch 8/25\n",
      "23/23 - 0s - loss: 7.0602e-04 - root_mean_squared_error: 0.0266 - val_loss: 5.1773e-04 - val_root_mean_squared_error: 0.0228\n",
      "Epoch 9/25\n",
      "23/23 - 0s - loss: 4.8654e-04 - root_mean_squared_error: 0.0221 - val_loss: 3.7622e-04 - val_root_mean_squared_error: 0.0194\n",
      "Epoch 10/25\n",
      "23/23 - 0s - loss: 3.5282e-04 - root_mean_squared_error: 0.0188 - val_loss: 2.3534e-04 - val_root_mean_squared_error: 0.0153\n",
      "Epoch 11/25\n",
      "23/23 - 0s - loss: 2.3021e-04 - root_mean_squared_error: 0.0152 - val_loss: 1.5968e-04 - val_root_mean_squared_error: 0.0126\n",
      "Epoch 12/25\n",
      "23/23 - 0s - loss: 1.5992e-04 - root_mean_squared_error: 0.0126 - val_loss: 1.0656e-04 - val_root_mean_squared_error: 0.0103\n",
      "Epoch 13/25\n",
      "23/23 - 0s - loss: 9.5167e-05 - root_mean_squared_error: 0.0098 - val_loss: 7.1240e-05 - val_root_mean_squared_error: 0.0084\n",
      "Epoch 14/25\n",
      "23/23 - 0s - loss: 6.3503e-05 - root_mean_squared_error: 0.0080 - val_loss: 6.8010e-05 - val_root_mean_squared_error: 0.0082\n",
      "Epoch 15/25\n",
      "23/23 - 0s - loss: 4.4009e-05 - root_mean_squared_error: 0.0066 - val_loss: 3.0814e-05 - val_root_mean_squared_error: 0.0056\n",
      "Epoch 16/25\n",
      "23/23 - 0s - loss: 2.3401e-05 - root_mean_squared_error: 0.0048 - val_loss: 2.0754e-05 - val_root_mean_squared_error: 0.0046\n",
      "Epoch 17/25\n",
      "23/23 - 0s - loss: 1.2941e-05 - root_mean_squared_error: 0.0036 - val_loss: 1.3955e-05 - val_root_mean_squared_error: 0.0037\n",
      "Epoch 18/25\n",
      "23/23 - 0s - loss: 8.7724e-06 - root_mean_squared_error: 0.0030 - val_loss: 1.0359e-05 - val_root_mean_squared_error: 0.0032\n",
      "Epoch 19/25\n",
      "23/23 - 0s - loss: 4.8571e-06 - root_mean_squared_error: 0.0022 - val_loss: 8.0929e-06 - val_root_mean_squared_error: 0.0028\n",
      "Epoch 20/25\n",
      "23/23 - 0s - loss: 3.3515e-06 - root_mean_squared_error: 0.0018 - val_loss: 6.8065e-06 - val_root_mean_squared_error: 0.0026\n",
      "Epoch 21/25\n",
      "23/23 - 0s - loss: 2.3418e-06 - root_mean_squared_error: 0.0015 - val_loss: 6.5038e-06 - val_root_mean_squared_error: 0.0026\n",
      "Epoch 22/25\n",
      "23/23 - 0s - loss: 2.3241e-06 - root_mean_squared_error: 0.0015 - val_loss: 6.1574e-06 - val_root_mean_squared_error: 0.0025\n",
      "Epoch 23/25\n",
      "23/23 - 0s - loss: 2.3132e-06 - root_mean_squared_error: 0.0015 - val_loss: 5.6286e-06 - val_root_mean_squared_error: 0.0024\n",
      "Epoch 24/25\n",
      "23/23 - 0s - loss: 1.5510e-06 - root_mean_squared_error: 0.0012 - val_loss: 4.7830e-06 - val_root_mean_squared_error: 0.0022\n",
      "Epoch 25/25\n",
      "23/23 - 0s - loss: 1.3255e-06 - root_mean_squared_error: 0.0012 - val_loss: 4.3416e-06 - val_root_mean_squared_error: 0.0021\n"
     ]
    }
   ],
   "source": [
    "N_epochs = 25\n",
    "validation_split = 0.1\n",
    "\n",
    "history = model.fit(X_train, y_train, epochs=N_epochs, validation_split=validation_split, verbose=2)"
   ]
  },
  {
   "cell_type": "code",
   "execution_count": 6,
   "metadata": {
    "ExecuteTime": {
     "end_time": "2020-11-29T12:23:26.228721Z",
     "start_time": "2020-11-29T12:23:26.082205Z"
    }
   },
   "outputs": [
    {
     "name": "stdout",
     "output_type": "stream",
     "text": [
      "dict_keys(['loss', 'root_mean_squared_error', 'val_loss', 'val_root_mean_squared_error'])\n"
     ]
    },
    {
     "data": {
      "image/png": "[encoded data removed]",
      "text/plain": [
       "<Figure size 432x288 with 1 Axes>"
      ]
     },
     "metadata": {
      "needs_background": "light"
     },
     "output_type": "display_data"
    }
   ],
   "source": [
    "import matplotlib.pyplot as plt\n",
    "%matplotlib inline\n",
    "\n",
    "# plot history\n",
    "# list all data in history\n",
    "print(history.history.keys())\n",
    "# summarize history for loss\n",
    "plt.plot(history.history['loss'])\n",
    "plt.plot(history.history['val_loss'])\n",
    "plt.title('model loss')\n",
    "plt.ylabel('loss')\n",
    "plt.xlabel('epoch')\n",
    "plt.legend(['loss train', 'loss val'], loc='upper left')\n",
    "plt.show()"
   ]
  },
  {
   "cell_type": "markdown",
   "metadata": {},
   "source": [
    "## Evaluate your model\n",
    "\n",
    "Report the RMSE given by our model"
   ]
  },
  {
   "cell_type": "code",
   "execution_count": 7,
   "metadata": {
    "ExecuteTime": {
     "end_time": "2020-11-29T12:23:26.234279Z",
     "start_time": "2020-11-29T12:23:26.230809Z"
    }
   },
   "outputs": [
    {
     "data": {
      "text/plain": [
       "['loss', 'root_mean_squared_error']"
      ]
     },
     "execution_count": 7,
     "metadata": {},
     "output_type": "execute_result"
    }
   ],
   "source": [
    "model.metrics_names"
   ]
  },
  {
   "cell_type": "code",
   "execution_count": 8,
   "metadata": {
    "ExecuteTime": {
     "end_time": "2020-11-29T12:23:26.305295Z",
     "start_time": "2020-11-29T12:23:26.236207Z"
    }
   },
   "outputs": [
    {
     "name": "stdout",
     "output_type": "stream",
     "text": [
      "7/7 [==============================] - 0s 3ms/step - loss: 5.6223e-08 - root_mean_squared_error: 2.3711e-04\n",
      "[5.622252174930509e-08, 0.00023711289395578206]\n"
     ]
    }
   ],
   "source": [
    "# Evaluate the model\n",
    "RMSE = model.evaluate(X_test, y_test)\n",
    "\n",
    "# summarize performance\n",
    "print(RMSE)"
   ]
  },
  {
   "cell_type": "markdown",
   "metadata": {},
   "source": [
    "## To train with a real dataset\n",
    "\n",
    "Understanding the data\n",
    "* Age: insurance contractor age, years\n",
    "* Sex: insurance contractor gender, [female, male]\n",
    "* BMI: Body mass index, providing an understanding of body, weights that are relatively high or low relative to height, objective index of body weight (kg / m ^ 2) using the ratio of height to weight, ideally 18.5 to 24.9\n",
    "* Children: number of children covered by health insurance / Number of dependents\n",
    "* Smoker: smoking, [yes, no]\n",
    "* Region: the beneficiary’s residential area in the US, [northeast, southeast, southwest, northwest]\n",
    "\n",
    "You have to predict the charges\n",
    "* Charges: Individual medical costs billed by health insurance, $ #predicted value"
   ]
  },
  {
   "cell_type": "code",
   "execution_count": 9,
   "metadata": {
    "ExecuteTime": {
     "end_time": "2020-11-29T12:51:15.839883Z",
     "start_time": "2020-11-29T12:51:15.653277Z"
    }
   },
   "outputs": [
    {
     "data": {
      "text/html": [
       "<div>\n",
       "<style scoped>\n",
       "    .dataframe tbody tr th:only-of-type {\n",
       "        vertical-align: middle;\n",
       "    }\n",
       "\n",
       "    .dataframe tbody tr th {\n",
       "        vertical-align: top;\n",
       "    }\n",
       "\n",
       "    .dataframe thead th {\n",
       "        text-align: right;\n",
       "    }\n",
       "</style>\n",
       "<table border=\"1\" class=\"dataframe\">\n",
       "  <thead>\n",
       "    <tr style=\"text-align: right;\">\n",
       "      <th></th>\n",
       "      <th>age</th>\n",
       "      <th>sex</th>\n",
       "      <th>bmi</th>\n",
       "      <th>children</th>\n",
       "      <th>smoker</th>\n",
       "      <th>region</th>\n",
       "      <th>charges</th>\n",
       "    </tr>\n",
       "  </thead>\n",
       "  <tbody>\n",
       "    <tr>\n",
       "      <th>0</th>\n",
       "      <td>19</td>\n",
       "      <td>female</td>\n",
       "      <td>27.900</td>\n",
       "      <td>0</td>\n",
       "      <td>yes</td>\n",
       "      <td>southwest</td>\n",
       "      <td>16884.92400</td>\n",
       "    </tr>\n",
       "    <tr>\n",
       "      <th>1</th>\n",
       "      <td>18</td>\n",
       "      <td>male</td>\n",
       "      <td>33.770</td>\n",
       "      <td>1</td>\n",
       "      <td>no</td>\n",
       "      <td>southeast</td>\n",
       "      <td>1725.55230</td>\n",
       "    </tr>\n",
       "    <tr>\n",
       "      <th>2</th>\n",
       "      <td>28</td>\n",
       "      <td>male</td>\n",
       "      <td>33.000</td>\n",
       "      <td>3</td>\n",
       "      <td>no</td>\n",
       "      <td>southeast</td>\n",
       "      <td>4449.46200</td>\n",
       "    </tr>\n",
       "    <tr>\n",
       "      <th>3</th>\n",
       "      <td>33</td>\n",
       "      <td>male</td>\n",
       "      <td>22.705</td>\n",
       "      <td>0</td>\n",
       "      <td>no</td>\n",
       "      <td>northwest</td>\n",
       "      <td>21984.47061</td>\n",
       "    </tr>\n",
       "    <tr>\n",
       "      <th>4</th>\n",
       "      <td>32</td>\n",
       "      <td>male</td>\n",
       "      <td>28.880</td>\n",
       "      <td>0</td>\n",
       "      <td>no</td>\n",
       "      <td>northwest</td>\n",
       "      <td>3866.85520</td>\n",
       "    </tr>\n",
       "  </tbody>\n",
       "</table>\n",
       "</div>"
      ],
      "text/plain": [
       "   age     sex     bmi  children smoker     region      charges\n",
       "0   19  female  27.900         0    yes  southwest  16884.92400\n",
       "1   18    male  33.770         1     no  southeast   1725.55230\n",
       "2   28    male  33.000         3     no  southeast   4449.46200\n",
       "3   33    male  22.705         0     no  northwest  21984.47061\n",
       "4   32    male  28.880         0     no  northwest   3866.85520"
      ]
     },
     "execution_count": 9,
     "metadata": {},
     "output_type": "execute_result"
    }
   ],
   "source": [
    "import pandas as pd\n",
    "\n",
    "df = pd.read_csv(\"http://www.i3s.unice.fr/~riveill/dataset/insurance.csv\")\n",
    "df.head()"
   ]
  },
  {
   "cell_type": "markdown",
   "metadata": {},
   "source": [
    "### Preprocess the data (outlier ? missing value ?)"
   ]
  },
  {
   "cell_type": "code",
   "execution_count": 10,
   "metadata": {
    "ExecuteTime": {
     "end_time": "2020-11-29T13:03:34.056069Z",
     "start_time": "2020-11-29T13:03:34.025692Z"
    },
    "scrolled": true
   },
   "outputs": [
    {
     "data": {
      "text/html": [
       "<div>\n",
       "<style scoped>\n",
       "    .dataframe tbody tr th:only-of-type {\n",
       "        vertical-align: middle;\n",
       "    }\n",
       "\n",
       "    .dataframe tbody tr th {\n",
       "        vertical-align: top;\n",
       "    }\n",
       "\n",
       "    .dataframe thead th {\n",
       "        text-align: right;\n",
       "    }\n",
       "</style>\n",
       "<table border=\"1\" class=\"dataframe\">\n",
       "  <thead>\n",
       "    <tr style=\"text-align: right;\">\n",
       "      <th></th>\n",
       "      <th>age</th>\n",
       "      <th>bmi</th>\n",
       "      <th>children</th>\n",
       "      <th>charges</th>\n",
       "    </tr>\n",
       "  </thead>\n",
       "  <tbody>\n",
       "    <tr>\n",
       "      <th>count</th>\n",
       "      <td>1338.000000</td>\n",
       "      <td>1338.000000</td>\n",
       "      <td>1338.000000</td>\n",
       "      <td>1338.000000</td>\n",
       "    </tr>\n",
       "    <tr>\n",
       "      <th>mean</th>\n",
       "      <td>39.207025</td>\n",
       "      <td>30.663397</td>\n",
       "      <td>1.094918</td>\n",
       "      <td>13270.422265</td>\n",
       "    </tr>\n",
       "    <tr>\n",
       "      <th>std</th>\n",
       "      <td>14.049960</td>\n",
       "      <td>6.098187</td>\n",
       "      <td>1.205493</td>\n",
       "      <td>12110.011237</td>\n",
       "    </tr>\n",
       "    <tr>\n",
       "      <th>min</th>\n",
       "      <td>18.000000</td>\n",
       "      <td>15.960000</td>\n",
       "      <td>0.000000</td>\n",
       "      <td>1121.873900</td>\n",
       "    </tr>\n",
       "    <tr>\n",
       "      <th>25%</th>\n",
       "      <td>27.000000</td>\n",
       "      <td>26.296250</td>\n",
       "      <td>0.000000</td>\n",
       "      <td>4740.287150</td>\n",
       "    </tr>\n",
       "    <tr>\n",
       "      <th>50%</th>\n",
       "      <td>39.000000</td>\n",
       "      <td>30.400000</td>\n",
       "      <td>1.000000</td>\n",
       "      <td>9382.033000</td>\n",
       "    </tr>\n",
       "    <tr>\n",
       "      <th>75%</th>\n",
       "      <td>51.000000</td>\n",
       "      <td>34.693750</td>\n",
       "      <td>2.000000</td>\n",
       "      <td>16639.912515</td>\n",
       "    </tr>\n",
       "    <tr>\n",
       "      <th>max</th>\n",
       "      <td>64.000000</td>\n",
       "      <td>53.130000</td>\n",
       "      <td>5.000000</td>\n",
       "      <td>63770.428010</td>\n",
       "    </tr>\n",
       "  </tbody>\n",
       "</table>\n",
       "</div>"
      ],
      "text/plain": [
       "               age          bmi     children       charges\n",
       "count  1338.000000  1338.000000  1338.000000   1338.000000\n",
       "mean     39.207025    30.663397     1.094918  13270.422265\n",
       "std      14.049960     6.098187     1.205493  12110.011237\n",
       "min      18.000000    15.960000     0.000000   1121.873900\n",
       "25%      27.000000    26.296250     0.000000   4740.287150\n",
       "50%      39.000000    30.400000     1.000000   9382.033000\n",
       "75%      51.000000    34.693750     2.000000  16639.912515\n",
       "max      64.000000    53.130000     5.000000  63770.428010"
      ]
     },
     "execution_count": 10,
     "metadata": {},
     "output_type": "execute_result"
    }
   ],
   "source": [
    "df.describe()"
   ]
  },
  {
   "cell_type": "markdown",
   "metadata": {},
   "source": [
    "### Build and fit the model"
   ]
  },
  {
   "cell_type": "code",
   "execution_count": 11,
   "metadata": {},
   "outputs": [],
   "source": [
    "for col in [\"sex\", \"smoker\", \"region\"]:\n",
    "    new_cols = pd.get_dummies(df[col], prefix=col)\n",
    "    df = pd.concat([df,new_cols],axis=1)\n",
    "    df.drop([col],axis=1, inplace=True)\n",
    "\n",
    "X = df.drop([\"charges\"], axis=1)\n",
    "y = df[\"charges\"]"
   ]
  },
  {
   "cell_type": "code",
   "execution_count": 12,
   "metadata": {},
   "outputs": [
    {
     "data": {
      "text/html": [
       "<div>\n",
       "<style scoped>\n",
       "    .dataframe tbody tr th:only-of-type {\n",
       "        vertical-align: middle;\n",
       "    }\n",
       "\n",
       "    .dataframe tbody tr th {\n",
       "        vertical-align: top;\n",
       "    }\n",
       "\n",
       "    .dataframe thead th {\n",
       "        text-align: right;\n",
       "    }\n",
       "</style>\n",
       "<table border=\"1\" class=\"dataframe\">\n",
       "  <thead>\n",
       "    <tr style=\"text-align: right;\">\n",
       "      <th></th>\n",
       "      <th>age</th>\n",
       "      <th>bmi</th>\n",
       "      <th>children</th>\n",
       "      <th>charges</th>\n",
       "      <th>sex_female</th>\n",
       "      <th>sex_male</th>\n",
       "      <th>smoker_no</th>\n",
       "      <th>smoker_yes</th>\n",
       "      <th>region_northeast</th>\n",
       "      <th>region_northwest</th>\n",
       "      <th>region_southeast</th>\n",
       "      <th>region_southwest</th>\n",
       "    </tr>\n",
       "  </thead>\n",
       "  <tbody>\n",
       "    <tr>\n",
       "      <th>0</th>\n",
       "      <td>19</td>\n",
       "      <td>27.900</td>\n",
       "      <td>0</td>\n",
       "      <td>16884.92400</td>\n",
       "      <td>1</td>\n",
       "      <td>0</td>\n",
       "      <td>0</td>\n",
       "      <td>1</td>\n",
       "      <td>0</td>\n",
       "      <td>0</td>\n",
       "      <td>0</td>\n",
       "      <td>1</td>\n",
       "    </tr>\n",
       "    <tr>\n",
       "      <th>1</th>\n",
       "      <td>18</td>\n",
       "      <td>33.770</td>\n",
       "      <td>1</td>\n",
       "      <td>1725.55230</td>\n",
       "      <td>0</td>\n",
       "      <td>1</td>\n",
       "      <td>1</td>\n",
       "      <td>0</td>\n",
       "      <td>0</td>\n",
       "      <td>0</td>\n",
       "      <td>1</td>\n",
       "      <td>0</td>\n",
       "    </tr>\n",
       "    <tr>\n",
       "      <th>2</th>\n",
       "      <td>28</td>\n",
       "      <td>33.000</td>\n",
       "      <td>3</td>\n",
       "      <td>4449.46200</td>\n",
       "      <td>0</td>\n",
       "      <td>1</td>\n",
       "      <td>1</td>\n",
       "      <td>0</td>\n",
       "      <td>0</td>\n",
       "      <td>0</td>\n",
       "      <td>1</td>\n",
       "      <td>0</td>\n",
       "    </tr>\n",
       "    <tr>\n",
       "      <th>3</th>\n",
       "      <td>33</td>\n",
       "      <td>22.705</td>\n",
       "      <td>0</td>\n",
       "      <td>21984.47061</td>\n",
       "      <td>0</td>\n",
       "      <td>1</td>\n",
       "      <td>1</td>\n",
       "      <td>0</td>\n",
       "      <td>0</td>\n",
       "      <td>1</td>\n",
       "      <td>0</td>\n",
       "      <td>0</td>\n",
       "    </tr>\n",
       "    <tr>\n",
       "      <th>4</th>\n",
       "      <td>32</td>\n",
       "      <td>28.880</td>\n",
       "      <td>0</td>\n",
       "      <td>3866.85520</td>\n",
       "      <td>0</td>\n",
       "      <td>1</td>\n",
       "      <td>1</td>\n",
       "      <td>0</td>\n",
       "      <td>0</td>\n",
       "      <td>1</td>\n",
       "      <td>0</td>\n",
       "      <td>0</td>\n",
       "    </tr>\n",
       "    <tr>\n",
       "      <th>...</th>\n",
       "      <td>...</td>\n",
       "      <td>...</td>\n",
       "      <td>...</td>\n",
       "      <td>...</td>\n",
       "      <td>...</td>\n",
       "      <td>...</td>\n",
       "      <td>...</td>\n",
       "      <td>...</td>\n",
       "      <td>...</td>\n",
       "      <td>...</td>\n",
       "      <td>...</td>\n",
       "      <td>...</td>\n",
       "    </tr>\n",
       "    <tr>\n",
       "      <th>1333</th>\n",
       "      <td>50</td>\n",
       "      <td>30.970</td>\n",
       "      <td>3</td>\n",
       "      <td>10600.54830</td>\n",
       "      <td>0</td>\n",
       "      <td>1</td>\n",
       "      <td>1</td>\n",
       "      <td>0</td>\n",
       "      <td>0</td>\n",
       "      <td>1</td>\n",
       "      <td>0</td>\n",
       "      <td>0</td>\n",
       "    </tr>\n",
       "    <tr>\n",
       "      <th>1334</th>\n",
       "      <td>18</td>\n",
       "      <td>31.920</td>\n",
       "      <td>0</td>\n",
       "      <td>2205.98080</td>\n",
       "      <td>1</td>\n",
       "      <td>0</td>\n",
       "      <td>1</td>\n",
       "      <td>0</td>\n",
       "      <td>1</td>\n",
       "      <td>0</td>\n",
       "      <td>0</td>\n",
       "      <td>0</td>\n",
       "    </tr>\n",
       "    <tr>\n",
       "      <th>1335</th>\n",
       "      <td>18</td>\n",
       "      <td>36.850</td>\n",
       "      <td>0</td>\n",
       "      <td>1629.83350</td>\n",
       "      <td>1</td>\n",
       "      <td>0</td>\n",
       "      <td>1</td>\n",
       "      <td>0</td>\n",
       "      <td>0</td>\n",
       "      <td>0</td>\n",
       "      <td>1</td>\n",
       "      <td>0</td>\n",
       "    </tr>\n",
       "    <tr>\n",
       "      <th>1336</th>\n",
       "      <td>21</td>\n",
       "      <td>25.800</td>\n",
       "      <td>0</td>\n",
       "      <td>2007.94500</td>\n",
       "      <td>1</td>\n",
       "      <td>0</td>\n",
       "      <td>1</td>\n",
       "      <td>0</td>\n",
       "      <td>0</td>\n",
       "      <td>0</td>\n",
       "      <td>0</td>\n",
       "      <td>1</td>\n",
       "    </tr>\n",
       "    <tr>\n",
       "      <th>1337</th>\n",
       "      <td>61</td>\n",
       "      <td>29.070</td>\n",
       "      <td>0</td>\n",
       "      <td>29141.36030</td>\n",
       "      <td>1</td>\n",
       "      <td>0</td>\n",
       "      <td>0</td>\n",
       "      <td>1</td>\n",
       "      <td>0</td>\n",
       "      <td>1</td>\n",
       "      <td>0</td>\n",
       "      <td>0</td>\n",
       "    </tr>\n",
       "  </tbody>\n",
       "</table>\n",
       "<p>1338 rows × 12 columns</p>\n",
       "</div>"
      ],
      "text/plain": [
       "      age     bmi  children      charges  sex_female  sex_male  smoker_no  \\\n",
       "0      19  27.900         0  16884.92400           1         0          0   \n",
       "1      18  33.770         1   1725.55230           0         1          1   \n",
       "2      28  33.000         3   4449.46200           0         1          1   \n",
       "3      33  22.705         0  21984.47061           0         1          1   \n",
       "4      32  28.880         0   3866.85520           0         1          1   \n",
       "...   ...     ...       ...          ...         ...       ...        ...   \n",
       "1333   50  30.970         3  10600.54830           0         1          1   \n",
       "1334   18  31.920         0   2205.98080           1         0          1   \n",
       "1335   18  36.850         0   1629.83350           1         0          1   \n",
       "1336   21  25.800         0   2007.94500           1         0          1   \n",
       "1337   61  29.070         0  29141.36030           1         0          0   \n",
       "\n",
       "      smoker_yes  region_northeast  region_northwest  region_southeast  \\\n",
       "0              1                 0                 0                 0   \n",
       "1              0                 0                 0                 1   \n",
       "2              0                 0                 0                 1   \n",
       "3              0                 0                 1                 0   \n",
       "4              0                 0                 1                 0   \n",
       "...          ...               ...               ...               ...   \n",
       "1333           0                 0                 1                 0   \n",
       "1334           0                 1                 0                 0   \n",
       "1335           0                 0                 0                 1   \n",
       "1336           0                 0                 0                 0   \n",
       "1337           1                 0                 1                 0   \n",
       "\n",
       "      region_southwest  \n",
       "0                    1  \n",
       "1                    0  \n",
       "2                    0  \n",
       "3                    0  \n",
       "4                    0  \n",
       "...                ...  \n",
       "1333                 0  \n",
       "1334                 0  \n",
       "1335                 0  \n",
       "1336                 1  \n",
       "1337                 0  \n",
       "\n",
       "[1338 rows x 12 columns]"
      ]
     },
     "execution_count": 12,
     "metadata": {},
     "output_type": "execute_result"
    }
   ],
   "source": [
    "df"
   ]
  },
  {
   "cell_type": "code",
   "execution_count": 13,
   "metadata": {},
   "outputs": [
    {
     "data": {
      "text/plain": [
       "(1338, 11)"
      ]
     },
     "execution_count": 13,
     "metadata": {},
     "output_type": "execute_result"
    }
   ],
   "source": [
    "X.shape"
   ]
  },
  {
   "cell_type": "code",
   "execution_count": 14,
   "metadata": {},
   "outputs": [
    {
     "data": {
      "text/plain": [
       "(1338, 1)"
      ]
     },
     "execution_count": 14,
     "metadata": {},
     "output_type": "execute_result"
    }
   ],
   "source": [
    "y = y.values.reshape((len(y),1))\n",
    "y.shape"
   ]
  },
  {
   "cell_type": "code",
   "execution_count": 15,
   "metadata": {},
   "outputs": [],
   "source": [
    "''' Normalize train and test part '''\n",
    "# Normalize features\n",
    "scalarX = MinMaxScaler()\n",
    "scalarX.fit(X)\n",
    "X = scalarX.transform(X)\n",
    "\n",
    "# Normalize target value\n",
    "scalarY = MinMaxScaler()\n",
    "scalarY.fit(y)\n",
    "y = scalarY.transform(y)"
   ]
  },
  {
   "cell_type": "code",
   "execution_count": 16,
   "metadata": {},
   "outputs": [],
   "source": [
    "X_train, X_test, y_train, y_test = train_test_split(X, y, test_size=0.2)"
   ]
  },
  {
   "cell_type": "code",
   "execution_count": 17,
   "metadata": {},
   "outputs": [
    {
     "data": {
      "text/plain": [
       "((1070, 11), (1070, 1))"
      ]
     },
     "execution_count": 17,
     "metadata": {},
     "output_type": "execute_result"
    }
   ],
   "source": [
    "X_train.shape, y_train.shape"
   ]
  },
  {
   "cell_type": "code",
   "execution_count": 27,
   "metadata": {},
   "outputs": [
    {
     "name": "stdout",
     "output_type": "stream",
     "text": [
      "Model: \"functional_5\"\n",
      "_________________________________________________________________\n",
      "Layer (type)                 Output Shape              Param #   \n",
      "=================================================================\n",
      "input_3 (InputLayer)         [(None, 11)]              0         \n",
      "_________________________________________________________________\n",
      "dense_7 (Dense)              (None, 32)                384       \n",
      "_________________________________________________________________\n",
      "dense_8 (Dense)              (None, 16)                528       \n",
      "_________________________________________________________________\n",
      "dense_9 (Dense)              (None, 8)                 136       \n",
      "_________________________________________________________________\n",
      "dense_10 (Dense)             (None, 1)                 9         \n",
      "=================================================================\n",
      "Total params: 1,057\n",
      "Trainable params: 1,057\n",
      "Non-trainable params: 0\n",
      "_________________________________________________________________\n"
     ]
    }
   ],
   "source": [
    "# This returns a tensor\n",
    "inputs = Input(shape=(11,))\n",
    "\n",
    "# a layer instance is callable on a tensor, and returns a tensor\n",
    "output_1 = Dense(32, activation='relu')(inputs)\n",
    "output_2 = Dense(16, activation='relu')(output_1)\n",
    "output_3 = Dense(8, activation='relu')(output_2)\n",
    "predictions = Dense(1)(output_3)\n",
    "\n",
    "# This creates a model that includes\n",
    "# the Input layer and three Dense layers\n",
    "model = Model(inputs=inputs, outputs=predictions)\n",
    "\n",
    "model.compile(optimizer=\"rmsprop\",\n",
    "              loss='mse',\n",
    "              metrics=[\"mae\"])\n",
    "\n",
    "model.summary()"
   ]
  },
  {
   "cell_type": "code",
   "execution_count": 28,
   "metadata": {},
   "outputs": [
    {
     "name": "stdout",
     "output_type": "stream",
     "text": [
      "Epoch 1/25\n",
      "34/34 [==============================] - 0s 3ms/step - loss: 0.0770 - mae: 0.1846\n",
      "Epoch 2/25\n",
      "34/34 [==============================] - 0s 3ms/step - loss: 0.0288 - mae: 0.1108\n",
      "Epoch 3/25\n",
      "34/34 [==============================] - 0s 4ms/step - loss: 0.0140 - mae: 0.0787\n",
      "Epoch 4/25\n",
      "34/34 [==============================] - 0s 4ms/step - loss: 0.0109 - mae: 0.0706\n",
      "Epoch 5/25\n",
      "34/34 [==============================] - 0s 4ms/step - loss: 0.0100 - mae: 0.0673\n",
      "Epoch 6/25\n",
      "34/34 [==============================] - 0s 4ms/step - loss: 0.0097 - mae: 0.0654\n",
      "Epoch 7/25\n",
      "34/34 [==============================] - 0s 4ms/step - loss: 0.0089 - mae: 0.0623\n",
      "Epoch 8/25\n",
      "34/34 [==============================] - 0s 4ms/step - loss: 0.0087 - mae: 0.0625\n",
      "Epoch 9/25\n",
      "34/34 [==============================] - 0s 4ms/step - loss: 0.0081 - mae: 0.0600\n",
      "Epoch 10/25\n",
      "34/34 [==============================] - 0s 4ms/step - loss: 0.0079 - mae: 0.0581\n",
      "Epoch 11/25\n",
      "34/34 [==============================] - 0s 3ms/step - loss: 0.0074 - mae: 0.0559\n",
      "Epoch 12/25\n",
      "34/34 [==============================] - 0s 3ms/step - loss: 0.0073 - mae: 0.0547\n",
      "Epoch 13/25\n",
      "34/34 [==============================] - 0s 3ms/step - loss: 0.0071 - mae: 0.0553\n",
      "Epoch 14/25\n",
      "34/34 [==============================] - 0s 4ms/step - loss: 0.0071 - mae: 0.0542\n",
      "Epoch 15/25\n",
      "34/34 [==============================] - 0s 4ms/step - loss: 0.0071 - mae: 0.0535\n",
      "Epoch 16/25\n",
      "34/34 [==============================] - 0s 3ms/step - loss: 0.0070 - mae: 0.0535\n",
      "Epoch 17/25\n",
      "34/34 [==============================] - 0s 4ms/step - loss: 0.0068 - mae: 0.0519\n",
      "Epoch 18/25\n",
      "34/34 [==============================] - 0s 3ms/step - loss: 0.0067 - mae: 0.0524\n",
      "Epoch 19/25\n",
      "34/34 [==============================] - 0s 3ms/step - loss: 0.0066 - mae: 0.0515\n",
      "Epoch 20/25\n",
      "34/34 [==============================] - 0s 3ms/step - loss: 0.0065 - mae: 0.0515\n",
      "Epoch 21/25\n",
      "34/34 [==============================] - 0s 3ms/step - loss: 0.0063 - mae: 0.0504\n",
      "Epoch 22/25\n",
      "34/34 [==============================] - 0s 4ms/step - loss: 0.0065 - mae: 0.0510\n",
      "Epoch 23/25\n",
      "34/34 [==============================] - 0s 4ms/step - loss: 0.0065 - mae: 0.0512\n",
      "Epoch 24/25\n",
      "34/34 [==============================] - 0s 5ms/step - loss: 0.0063 - mae: 0.0497\n",
      "Epoch 25/25\n",
      "34/34 [==============================] - 0s 4ms/step - loss: 0.0063 - mae: 0.0501\n"
     ]
    }
   ],
   "source": [
    "# fit the model\n",
    "history = model.fit(X_train, y_train, epochs=25)"
   ]
  },
  {
   "cell_type": "code",
   "execution_count": 29,
   "metadata": {},
   "outputs": [
    {
     "name": "stdout",
     "output_type": "stream",
     "text": [
      "dict_keys(['loss', 'mae'])\n"
     ]
    },
    {
     "data": {
      "image/png": "[encoded data removed]",
      "text/plain": [
       "<Figure size 432x288 with 1 Axes>"
      ]
     },
     "metadata": {
      "needs_background": "light"
     },
     "output_type": "display_data"
    }
   ],
   "source": [
    "''' Plot learning curve '''\n",
    "import matplotlib.pyplot as plt\n",
    "%matplotlib inline\n",
    "\n",
    "# list all data in history\n",
    "print(history.history.keys())\n",
    "\n",
    "# summarize history for loss\n",
    "plt.plot(history.history['loss'])\n",
    "plt.plot(history.history['mae'])\n",
    "plt.title('model loss')\n",
    "plt.ylabel('loss')\n",
    "plt.xlabel('epoch')\n",
    "plt.legend(['loss', 'mae'], loc='upper left')\n",
    "plt.show()"
   ]
  },
  {
   "cell_type": "markdown",
   "metadata": {},
   "source": [
    "### Predict insurance charge on new data\n",
    "\n",
    "Let’s imagine 3 different people and see what charges on health care will be for them.\n",
    "\n",
    "* Bob: 19 years old, BMI 27.9, has no children, smokes, from northwest region.\n",
    "* Lisa: 40 years old, BMI 50, 2 children, doesn’t smoke, from southeast region.\n",
    "* John: 30 years old. BMI 31.2, no children, doesn’t smoke, from northeast region."
   ]
  },
  {
   "cell_type": "code",
   "execution_count": 30,
   "metadata": {},
   "outputs": [
    {
     "name": "stdout",
     "output_type": "stream",
     "text": [
      "9/9 [==============================] - 0s 2ms/step - loss: 0.0070 - mae: 0.0430\n"
     ]
    },
    {
     "data": {
      "text/plain": [
       "[0.006984034553170204, 0.0430191308259964]"
      ]
     },
     "execution_count": 30,
     "metadata": {},
     "output_type": "execute_result"
    }
   ],
   "source": [
    "model.evaluate(X_test, y_test)"
   ]
  },
  {
   "cell_type": "code",
   "execution_count": 31,
   "metadata": {},
   "outputs": [
    {
     "data": {
      "text/html": [
       "<div>\n",
       "<style scoped>\n",
       "    .dataframe tbody tr th:only-of-type {\n",
       "        vertical-align: middle;\n",
       "    }\n",
       "\n",
       "    .dataframe tbody tr th {\n",
       "        vertical-align: top;\n",
       "    }\n",
       "\n",
       "    .dataframe thead th {\n",
       "        text-align: right;\n",
       "    }\n",
       "</style>\n",
       "<table border=\"1\" class=\"dataframe\">\n",
       "  <thead>\n",
       "    <tr style=\"text-align: right;\">\n",
       "      <th></th>\n",
       "      <th>age</th>\n",
       "      <th>sex</th>\n",
       "      <th>bmi</th>\n",
       "      <th>children</th>\n",
       "      <th>smoker</th>\n",
       "      <th>region</th>\n",
       "    </tr>\n",
       "  </thead>\n",
       "  <tbody>\n",
       "    <tr>\n",
       "      <th>0</th>\n",
       "      <td>19</td>\n",
       "      <td>male</td>\n",
       "      <td>27.9</td>\n",
       "      <td>0</td>\n",
       "      <td>yes</td>\n",
       "      <td>northwest</td>\n",
       "    </tr>\n",
       "    <tr>\n",
       "      <th>1</th>\n",
       "      <td>40</td>\n",
       "      <td>female</td>\n",
       "      <td>50.0</td>\n",
       "      <td>2</td>\n",
       "      <td>no</td>\n",
       "      <td>southeast</td>\n",
       "    </tr>\n",
       "    <tr>\n",
       "      <th>2</th>\n",
       "      <td>30</td>\n",
       "      <td>male</td>\n",
       "      <td>31.2</td>\n",
       "      <td>0</td>\n",
       "      <td>yes</td>\n",
       "      <td>northeast</td>\n",
       "    </tr>\n",
       "  </tbody>\n",
       "</table>\n",
       "</div>"
      ],
      "text/plain": [
       "   age     sex   bmi  children smoker     region\n",
       "0   19    male  27.9         0    yes  northwest\n",
       "1   40  female  50.0         2     no  southeast\n",
       "2   30    male  31.2         0    yes  northeast"
      ]
     },
     "execution_count": 31,
     "metadata": {},
     "output_type": "execute_result"
    }
   ],
   "source": [
    "data = {\"age\": [19, 40, 30],\n",
    "        \"sex\": [\"male\", \"female\", \"male\"],\n",
    "        \"bmi\": [27.9, 50., 31.2],\n",
    "        \"children\": [0, 2, 0],\n",
    "        \"smoker\": [\"yes\", \"no\", \"yes\"],\n",
    "        \"region\": [\"northwest\", \"southeast\", \"northeast\"]}\n",
    "\n",
    "test_df = pd.DataFrame(data)\n",
    "test_df"
   ]
  },
  {
   "cell_type": "code",
   "execution_count": 32,
   "metadata": {},
   "outputs": [],
   "source": [
    "for col in [\"sex\", \"smoker\", \"region\"]:\n",
    "    new_cols = pd.get_dummies(test_df[col], prefix=col)\n",
    "    test_df = pd.concat([test_df,new_cols],axis=1)\n",
    "    test_df.drop([col],axis=1, inplace=True)"
   ]
  },
  {
   "cell_type": "code",
   "execution_count": 33,
   "metadata": {},
   "outputs": [
    {
     "data": {
      "text/html": [
       "<div>\n",
       "<style scoped>\n",
       "    .dataframe tbody tr th:only-of-type {\n",
       "        vertical-align: middle;\n",
       "    }\n",
       "\n",
       "    .dataframe tbody tr th {\n",
       "        vertical-align: top;\n",
       "    }\n",
       "\n",
       "    .dataframe thead th {\n",
       "        text-align: right;\n",
       "    }\n",
       "</style>\n",
       "<table border=\"1\" class=\"dataframe\">\n",
       "  <thead>\n",
       "    <tr style=\"text-align: right;\">\n",
       "      <th></th>\n",
       "      <th>age</th>\n",
       "      <th>bmi</th>\n",
       "      <th>children</th>\n",
       "      <th>sex_female</th>\n",
       "      <th>sex_male</th>\n",
       "      <th>smoker_no</th>\n",
       "      <th>smoker_yes</th>\n",
       "      <th>region_northeast</th>\n",
       "      <th>region_northwest</th>\n",
       "      <th>region_southeast</th>\n",
       "      <th>region_soutwest</th>\n",
       "    </tr>\n",
       "  </thead>\n",
       "  <tbody>\n",
       "    <tr>\n",
       "      <th>0</th>\n",
       "      <td>19</td>\n",
       "      <td>27.9</td>\n",
       "      <td>0</td>\n",
       "      <td>0</td>\n",
       "      <td>1</td>\n",
       "      <td>0</td>\n",
       "      <td>1</td>\n",
       "      <td>0</td>\n",
       "      <td>1</td>\n",
       "      <td>0</td>\n",
       "      <td>0</td>\n",
       "    </tr>\n",
       "    <tr>\n",
       "      <th>1</th>\n",
       "      <td>40</td>\n",
       "      <td>50.0</td>\n",
       "      <td>2</td>\n",
       "      <td>1</td>\n",
       "      <td>0</td>\n",
       "      <td>1</td>\n",
       "      <td>0</td>\n",
       "      <td>0</td>\n",
       "      <td>0</td>\n",
       "      <td>1</td>\n",
       "      <td>0</td>\n",
       "    </tr>\n",
       "    <tr>\n",
       "      <th>2</th>\n",
       "      <td>30</td>\n",
       "      <td>31.2</td>\n",
       "      <td>0</td>\n",
       "      <td>0</td>\n",
       "      <td>1</td>\n",
       "      <td>0</td>\n",
       "      <td>1</td>\n",
       "      <td>1</td>\n",
       "      <td>0</td>\n",
       "      <td>0</td>\n",
       "      <td>0</td>\n",
       "    </tr>\n",
       "  </tbody>\n",
       "</table>\n",
       "</div>"
      ],
      "text/plain": [
       "   age   bmi  children  sex_female  sex_male  smoker_no  smoker_yes  \\\n",
       "0   19  27.9         0           0         1          0           1   \n",
       "1   40  50.0         2           1         0          1           0   \n",
       "2   30  31.2         0           0         1          0           1   \n",
       "\n",
       "   region_northeast  region_northwest  region_southeast  region_soutwest  \n",
       "0                 0                 1                 0                0  \n",
       "1                 0                 0                 1                0  \n",
       "2                 1                 0                 0                0  "
      ]
     },
     "execution_count": 33,
     "metadata": {},
     "output_type": "execute_result"
    }
   ],
   "source": [
    "test_df[\"region_soutwest\"]=[0,0,0]\n",
    "test_df"
   ]
  },
  {
   "cell_type": "code",
   "execution_count": 34,
   "metadata": {},
   "outputs": [],
   "source": [
    "ypred = model.predict(scalarX.transform(test_df))"
   ]
  },
  {
   "cell_type": "code",
   "execution_count": 35,
   "metadata": {},
   "outputs": [
    {
     "data": {
      "text/plain": [
       "array([[19715.87  ],\n",
       "       [ 8019.0415],\n",
       "       [29310.006 ]], dtype=float32)"
      ]
     },
     "execution_count": 35,
     "metadata": {},
     "output_type": "execute_result"
    }
   ],
   "source": [
    "scalarY.inverse_transform(ypred)"
   ]
  },
  {
   "cell_type": "code",
   "execution_count": null,
   "metadata": {},
   "outputs": [],
   "source": []
  }
 ],
 "metadata": {
  "kernelspec": {
   "display_name": "Python 3",
   "language": "python",
   "name": "python3"
  },
  "language_info": {
   "codemirror_mode": {
    "name": "ipython",
    "version": 3
   },
   "file_extension": ".py",
   "mimetype": "text/x-python",
   "name": "python",
   "nbconvert_exporter": "python",
   "pygments_lexer": "ipython3",
   "version": "3.8.3"
  },
  "latex_envs": {
   "LaTeX_envs_menu_present": true,
   "autoclose": true,
   "autocomplete": true,
   "bibliofile": "biblio.bib",
   "cite_by": "apalike",
   "current_citInitial": 1,
   "eqLabelWithNumbers": true,
   "eqNumInitial": 1,
   "hotkeys": {
    "equation": "Ctrl-E",
    "itemize": "Ctrl-I"
   },
   "labels_anchors": false,
   "latex_user_defs": false,
   "report_style_numbering": false,
   "user_envs_cfg": false
  },
  "nbTranslate": {
   "displayLangs": [
    "*"
   ],
   "hotkey": "alt-t",
   "langInMainMenu": true,
   "sourceLang": "en",
   "targetLang": "fr",
   "useGoogleTranslate": true
  },
  "toc": {
   "base_numbering": 1,
   "nav_menu": {},
   "number_sections": true,
   "sideBar": true,
   "skip_h1_title": true,
   "title_cell": "Table of Contents",
   "title_sidebar": "Contents",
   "toc_cell": true,
   "toc_position": {},
   "toc_section_display": true,
   "toc_window_display": false
  }
 },
 "nbformat": 4,
 "nbformat_minor": 2
}
