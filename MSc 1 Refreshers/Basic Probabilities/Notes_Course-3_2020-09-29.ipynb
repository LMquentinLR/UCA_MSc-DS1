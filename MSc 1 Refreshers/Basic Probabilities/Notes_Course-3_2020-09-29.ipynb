{
 "cells": [
  {
   "cell_type": "markdown",
   "metadata": {},
   "source": [
    "# COURSE 3 - Basic Probabilities"
   ]
  },
  {
   "cell_type": "markdown",
   "metadata": {},
   "source": [
    "*September 29th, 2020*\n",
    "\n",
    "**Teacher**: Christine Malot"
   ]
  },
  {
   "cell_type": "code",
   "execution_count": 2,
   "metadata": {},
   "outputs": [],
   "source": [
    "from IPython.display import Image"
   ]
  },
  {
   "cell_type": "markdown",
   "metadata": {},
   "source": [
    "**Remark**: When using capital letters, it references a Random Variable. When using a small cap letter, it references an observation."
   ]
  },
  {
   "cell_type": "markdown",
   "metadata": {},
   "source": [
    "## Conditional Distribution"
   ]
  },
  {
   "cell_type": "markdown",
   "metadata": {},
   "source": [
    "Let $\\begin{pmatrix}X \\\\ Y\\end{pmatrix}$ a random vector, we can define some conditional distribution.\n",
    "\n",
    "### Discrete Case\n",
    "\n",
    "The distribution of $X$ given $(Y=k)$ is defined by$X_{|Y=k}(\\Omega)$: the set of possible values for $X$ when $Y=k$.\n",
    "\n",
    "> $\\forall a \\in X_{|Y=k}(\\Omega): P(X=a_{|Y=k}) = \\frac{P(X=a, Y=k)}{P(Y=k)}$\n",
    "\n",
    "This expression only exists if $P(Y=k) > 0$\n",
    "\n",
    "### Continuous Case\n",
    "The distribution of $X$ given $(Y=k)$ is defined by its density function $f_{X_{Y=k}}$ where:\n",
    "\n",
    "> $f_{X_{Y=k}}(x) = \\frac{f_{x,y}(x,k)}{f_y(k)}$ with the density vector $\\begin{pmatrix}X \\\\ Y\\end{pmatrix}$ and $f_y = MD_y$\n",
    "\n",
    "This expression only exists if $f_y(k) \\neq 0$"
   ]
  },
  {
   "cell_type": "markdown",
   "metadata": {},
   "source": [
    "## Characterization of a random variable X\n",
    "\n",
    "Several possibilities are available to characterize a random variable X:\n",
    "\n",
    "1. Compute the **distribution function** $f_X$\n",
    "\n",
    "2. Compute the **cumulative distribution function** $F_X$\n",
    "\n",
    "3. Compute the **characteristic function** $\\phi_X$\n",
    "\n",
    "4. Compute the **generative function** $G_x$"
   ]
  },
  {
   "cell_type": "markdown",
   "metadata": {},
   "source": [
    "### 2. Cumulative distribution function\n",
    "\n",
    "> $\\forall rv. X$, $F_x(t) = P(X\\le t)$ with $t \\in \\mathbb{R}$\n",
    ">\n",
    "> For $\\begin{pmatrix}X \\\\ Y\\end{pmatrix}$, the cumulative distribution function is $F_{X,Y}(x,y)$\n",
    "\n",
    "__Properties__\n",
    "\n",
    "1. $F_x$ is an increasing function (not strictly)\n",
    "\n",
    "2. $lim_{t\\rightarrow\\inf}F_x(t) = 1$\n",
    "\n",
    "3. __discrete case__. $F_x$ piecewise constant function, right continuous\n",
    "\n",
    "4. __continuous case__. $F_x$ continuous\n",
    "\n",
    "__Theorem__: if $\\forall t \\in \\mathbb{R}$, $F_x(t)=F_y(t)$ then X and Y have the same distribution (but not equal)\n"
   ]
  },
  {
   "cell_type": "markdown",
   "metadata": {},
   "source": [
    "### 3. Characteristic function $\\phi_x$\n",
    "\n",
    "> $\\forall rv. X$ of dimension d, $\\phi_x(t) = E[e^{i*<t,X>}]$ with $t \\in \\mathbb{R}^t$\n",
    ">\n",
    "> $e^{i*\\theta} = cos \\theta + i*sin\\theta$\n",
    ">\n",
    "> X is a d-random vector, $\\forall t \\in \\mathbb{R}^t$, $<x,t>$ = $t_1*X_1 + t_2*X_2 + ... + t_d*X_d$\n",
    "\n",
    "$||e^{i*\\theta}|| = \\sqrt{cos^2\\theta + sin^2\\theta}$\n",
    "\n",
    "$a+i*b=\\delta*e^{i*\\theta}$ with $\\delta = ||a+i*b|| = \\sqrt{a^2+b^2}$\n",
    "\n",
    "> $\\theta$ is such that $cos \\theta = \\frac{a}{\\delta}$ and $sin \\theta = \\frac{b}{\\delta}$\n",
    "\n",
    "__Properties__\n",
    "\n",
    "1. $\\forall t \\in \\mathbb{R}^d, ||\\phi_X(t)||\\le1$ if X is an rv., then $t \\rightarrow \\phi_X(t)$ is continuous and its value at $t=0\\Rightarrow\\phi_X(0)=1$\n",
    "\n",
    "2. if $X \\in L^1$ then $t\\rightarrow\\phi_X(t)$ is continuous ($C^1$) and $\\phi_X'(0)=i*E[X]$\n",
    "\n",
    "3. if $X \\rightarrow N(0,1) \\Rightarrow \\forall t \\in \\mathbb{R}$, $\\phi_X(t) = E[e^{i.t.x}] = \\int_{-\\infty}^{\\infty}\\frac{e^{itx}}{\\sqrt{2.\\pi}}.e-\\frac{x^2}{2}dx$\n",
    "\n",
    "More generally, \n",
    "\n",
    "> if $E[||X||^m]\\lt\\inf\\Rightarrow \\phi_X \\in C^m$ and $\\phi_x^{(m)}(0) = i^m*E[X^m]$\n",
    "> \n",
    "> $\\phi_X(t) = 1 + \\sum_{k=1}^m\\frac{(i*t)^m}{k!}*E[X^k]+\\omicron(t^m)$ with $R(t)$ negligeable with respect to $t^m$ \n",
    "\n",
    "$lim_{t\\rightarrow+\\inf}\\frac{\\phi_X(t)}{t^m}=0$\n",
    "\n",
    "$f(t) = f(a) + \\sum_{k=1}^{m}\\frac{f^k(a)*t^k}{k!}+R(t)=\\omicron(t^m)$\n",
    "\n",
    "__Theorem__: if $\\forall t \\in \\mathbb{R}^d$, $\\phi_X(t) = \\phi_Y(t) \\Rightarrow$ X and Y have the same distribution.\n",
    "\n",
    "__to remember__: $\\phi_X(t) = E[g(x)]$ with $g(x) = e^{itx} = e^{i.<t,x>}$"
   ]
  },
  {
   "cell_type": "markdown",
   "metadata": {},
   "source": [
    "### 4. Generative function $G-x$\n",
    "\n",
    "> $\\forall rv. X$ discrete, $G_x(t) = E[t^x]$ with $G_x$ defined at least on $]-1;1[$\n",
    ">\n",
    "> __rk__. $G_x(t) = \\sum_{a\\in X(\\Omega)}t^k.P(X=k)$\n",
    "\n",
    "__Properties__\n",
    "\n",
    "1 if $X \\in L^1 \\Rightarrow E[X] = G_x(1)$, if $X \\in L^2 \\rightarrow V[X] = G_x''(1)+G_x'(1)-(G_x(1))^2$\n",
    "\n",
    "2. Let $X, Y$; 2 rv. If $X \\perp Y \\rightarrow G_{X+Y}(t)=G_x(t)*G_Y(t)$ we cant say the inverse is true\n",
    "\n",
    "__Theorem__: $\\forall t \\in ]-1;1[, G_X(t) = G_Y(t)$ then X and Y have the same distribution"
   ]
  },
  {
   "cell_type": "code",
   "execution_count": null,
   "metadata": {},
   "outputs": [],
   "source": []
  }
 ],
 "metadata": {
  "kernelspec": {
   "display_name": "Python 3",
   "language": "python",
   "name": "python3"
  },
  "language_info": {
   "codemirror_mode": {
    "name": "ipython",
    "version": 3
   },
   "file_extension": ".py",
   "mimetype": "text/x-python",
   "name": "python",
   "nbconvert_exporter": "python",
   "pygments_lexer": "ipython3",
   "version": "3.8.3"
  }
 },
 "nbformat": 4,
 "nbformat_minor": 4
}
