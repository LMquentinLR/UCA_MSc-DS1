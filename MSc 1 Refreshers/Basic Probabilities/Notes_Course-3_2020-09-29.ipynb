{
 "cells": [
  {
   "cell_type": "markdown",
   "metadata": {},
   "source": [
    "# COURSE 3 - Basic Probabilities"
   ]
  },
  {
   "cell_type": "markdown",
   "metadata": {},
   "source": [
    "*September 29th, 2020*\n",
    "\n",
    "**Teacher**: Christine Malot"
   ]
  },
  {
   "cell_type": "code",
   "execution_count": 2,
   "metadata": {},
   "outputs": [],
   "source": [
    "from IPython.display import Image"
   ]
  },
  {
   "cell_type": "markdown",
   "metadata": {},
   "source": [
    "**Remark**: When using capital letters, it references a Random Variable. When using a small cap letter, it references an observation."
   ]
  },
  {
   "cell_type": "markdown",
   "metadata": {},
   "source": [
    "## Conditional Distribution"
   ]
  },
  {
   "cell_type": "markdown",
   "metadata": {},
   "source": [
    "Let $\\begin{pmatrix}X \\\\ Y\\end{pmatrix}$ a random vector, we can define some conditional distribution.\n",
    "\n",
    "### Discrete Case\n",
    "\n",
    "The distribution of $X$ given $(Y=k)$ is defined by$X_{|Y=k}(\\Omega)$: the set of possible values for $X$ when $Y=k$.\n",
    "\n",
    "> $\\forall a \\in X_{|Y=k}(\\Omega): P(X=a_{|Y=k}) = \\frac{P(X=a, Y=k)}{P(Y=k)}$\n",
    "\n",
    "This expression only exists if $P(Y=k) > 0$\n",
    "\n",
    "### Continuous Case\n",
    "The distribution of $X$ given $(Y=k)$ is defined by its density function $f_{X_{Y=k}}$ where:\n",
    "\n",
    "> $f_{X_{Y=k}}(x) = \\frac{f_{x,y}(x,k)}{f_y(k)}$ with the density vector $\\begin{pmatrix}X \\\\ Y\\end{pmatrix}$ and $f_y = MD_y$\n",
    "\n",
    "This expression only exists if $f_y(k) \\neq 0$"
   ]
  },
  {
   "cell_type": "markdown",
   "metadata": {},
   "source": [
    "## Characterization of a random variable X\n",
    "\n",
    "Several possibilities are available to characterize a random variable X:\n",
    "\n",
    "1. Compute the **distribution function** $f_X$\n",
    "\n",
    "2. Compute the **cumulative distribution function** $F_X$\n",
    "\n",
    "3. Compute the **characteristic function** $\\phi_X$\n",
    "\n",
    "4. Compute the **generative function** $G_x$"
   ]
  },
  {
   "cell_type": "markdown",
   "metadata": {},
   "source": [
    "### distribution function"
   ]
  },
  {
   "cell_type": "code",
   "execution_count": null,
   "metadata": {},
   "outputs": [],
   "source": []
  }
 ],
 "metadata": {
  "kernelspec": {
   "display_name": "Python 3",
   "language": "python",
   "name": "python3"
  },
  "language_info": {
   "codemirror_mode": {
    "name": "ipython",
    "version": 3
   },
   "file_extension": ".py",
   "mimetype": "text/x-python",
   "name": "python",
   "nbconvert_exporter": "python",
   "pygments_lexer": "ipython3",
   "version": "3.8.3"
  }
 },
 "nbformat": 4,
 "nbformat_minor": 4
}
