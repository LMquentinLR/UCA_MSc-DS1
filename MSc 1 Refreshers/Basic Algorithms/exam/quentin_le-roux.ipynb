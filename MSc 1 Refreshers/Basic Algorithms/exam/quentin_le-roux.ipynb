{
 "cells": [
  {
   "cell_type": "markdown",
   "metadata": {
    "id": "UDWGPeBEMR3d"
   },
   "source": [
    "# Exam\n",
    "\n",
    "0- Start by renaming the notebook with your name. When you finish the exercises please send them to : \n",
    "\n",
    "**hind.dadoun@inria.fr**"
   ]
  },
  {
   "cell_type": "markdown",
   "metadata": {},
   "source": [
    "## Library imports"
   ]
  },
  {
   "cell_type": "code",
   "execution_count": 1,
   "metadata": {},
   "outputs": [],
   "source": [
    "from collections import Counter\n",
    "\n",
    "import functools\n",
    "import numpy as np"
   ]
  },
  {
   "cell_type": "markdown",
   "metadata": {
    "id": "CfV8u2hdMPaY"
   },
   "source": [
    "### Question 1\n",
    "Write a program which will find all such numbers which are divisible by 7 but are not a multiple of 5,\n",
    "between 2000 and 3200 (both included).\n",
    "The numbers obtained should be printed in a comma-separated sequence on a single line."
   ]
  },
  {
   "cell_type": "code",
   "execution_count": 2,
   "metadata": {},
   "outputs": [
    {
     "name": "stdout",
     "output_type": "stream",
     "text": [
      "2002,2009,2016,2023,2037,2044,2051,2058,2072,2079,2086,2093,2107,2114,2121,2128,2142,2149,2156,2163,2177,2184,2191,2198,2212,2219,2226,2233,2247,2254,2261,2268,2282,2289,2296,2303,2317,2324,2331,2338,2352,2359,2366,2373,2387,2394,2401,2408,2422,2429,2436,2443,2457,2464,2471,2478,2492,2499,2506,2513,2527,2534,2541,2548,2562,2569,2576,2583,2597,2604,2611,2618,2632,2639,2646,2653,2667,2674,2681,2688,2702,2709,2716,2723,2737,2744,2751,2758,2772,2779,2786,2793,2807,2814,2821,2828,2842,2849,2856,2863,2877,2884,2891,2898,2912,2919,2926,2933,2947,2954,2961,2968,2982,2989,2996,3003,3017,3024,3031,3038,3052,3059,3066,3073,3087,3094,3101,3108,3122,3129,3136,3143,3157,3164,3171,3178,3192,3199\n"
     ]
    }
   ],
   "source": [
    "def divmult_checker(value):\n",
    "    \"\"\"\n",
    "    Checks if a value is divisible by 7 and is a multiple of 5.\n",
    "    \"\"\"\n",
    "    try:\n",
    "        if value % 7 == 0 and value % 5 != 0:\n",
    "            return True\n",
    "        else:\n",
    "            return False\n",
    "    except:\n",
    "        return \"ERROR\"\n",
    "\n",
    "def sequence_maker(filter_function):\n",
    "    \"\"\"\n",
    "    Filter a list from 2000 to 3200 (included) given a filter function argument.\n",
    "    \"\"\"\n",
    "    rng = list(range(2000,3201))\n",
    "    values = filter(filter_function, rng)\n",
    "    str_values = list(map(str, values))\n",
    "    sequence_values = \",\".join(str_values)\n",
    "    print(sequence_values) # prints inside program as requested\n",
    "    return sequence_values\n",
    "\n",
    "seq = sequence_maker(divmult_checker)"
   ]
  },
  {
   "cell_type": "markdown",
   "metadata": {},
   "source": [
    "### Question 2\n",
    "Write a program which can compute the factorial of a given numbers.\n",
    "Suppose the following input is supplied to the program:\n",
    "\n",
    "> 8\n",
    "\n",
    "Then, the output should be:\n",
    "\n",
    "> 40320"
   ]
  },
  {
   "cell_type": "code",
   "execution_count": 3,
   "metadata": {},
   "outputs": [
    {
     "name": "stdout",
     "output_type": "stream",
     "text": [
      "40320\n"
     ]
    }
   ],
   "source": [
    "given_number = 8\n",
    "\n",
    "def factorial(value):\n",
    "    \"\"\"\n",
    "    Computes the factorial of a given value.\n",
    "    \"\"\"\n",
    "    try:\n",
    "        if int(value) <= 0: raise\n",
    "        if int(value) == 1: return 1\n",
    "        else: return value * factorial(int(value)-1)\n",
    "    except:\n",
    "        return \"ERROR\"\n",
    "    \n",
    "fact = factorial(given_number)\n",
    "print(fact)"
   ]
  },
  {
   "cell_type": "markdown",
   "metadata": {},
   "source": [
    "### Question 3\n",
    "Write a program that accepts a comma separated sequence of words as input and prints the words in a comma-separated sequence after sorting them alphabetically.\n",
    "Suppose the following input is supplied to the program:\n",
    "\n",
    "> without,hello,bag,world\n",
    "\n",
    "Then, the output should be:\n",
    "\n",
    "> bag,hello,without,world"
   ]
  },
  {
   "cell_type": "code",
   "execution_count": 4,
   "metadata": {},
   "outputs": [
    {
     "name": "stdout",
     "output_type": "stream",
     "text": [
      "bag,hello,without,world\n",
      "True\n"
     ]
    }
   ],
   "source": [
    "test_input = \"without,hello,bag,world\"\n",
    "expected_output = \"bag,hello,without,world\"\n",
    "\n",
    "def reformat(sequence):\n",
    "    \"\"\"\n",
    "    Reformats a string by the alphabetical order of the words it contains.\n",
    "    \"\"\"\n",
    "    split_sequence = sequence.split(\",\")\n",
    "    split_sequence.sort()\n",
    "    sequence_reformated = \",\".join(split_sequence)\n",
    "    print(sequence_reformated) # prints inside program as requested\n",
    "    return sequence_reformated\n",
    "    \n",
    "test_output = reformat(test_input)\n",
    "\n",
    "print(test_output == expected_output)"
   ]
  },
  {
   "cell_type": "markdown",
   "metadata": {},
   "source": [
    "## Question 4\n",
    "With a given integral number n, write a program to generate a dictionary that contains (i, i*i) such that is an integral number between 1 and n (both included). and then the program should print the dictionary.\n",
    "Suppose the following input is supplied to the program:\n",
    "8\n",
    "Then, the output should be:\n",
    "```\n",
    "\n",
    "{1: 1, 2: 4, 3: 9, 4: 16, 5: 25, 6: 36, 7: 49, 8: 64}\n",
    "```"
   ]
  },
  {
   "cell_type": "code",
   "execution_count": 5,
   "metadata": {},
   "outputs": [
    {
     "name": "stdout",
     "output_type": "stream",
     "text": [
      "{1: 1, 2: 4, 3: 9, 4: 16, 5: 25, 6: 36, 7: 49, 8: 64}\n"
     ]
    }
   ],
   "source": [
    "given_integral = 8\n",
    "\n",
    "def dict_comprehension(integral):\n",
    "    \"\"\"\n",
    "    Creates a dictionary key:key**2 out of a given integral.\n",
    "    \"\"\"\n",
    "    try:\n",
    "        assert type(integral) == int\n",
    "        dictionary = {i: i**2 for i in range(1, given_integral+1)}\n",
    "        print(dictionary) # prints inside program as requested\n",
    "        return dictionary\n",
    "    except:\n",
    "        return \"ERROR\"\n",
    "    \n",
    "output = dict_comprehension(given_integral)"
   ]
  },
  {
   "cell_type": "markdown",
   "metadata": {},
   "source": [
    "## Question 5 \n",
    "Write a program to compute the frequency of the words from the input. The output should output after sorting the key alphanumerically. \n",
    "Suppose the following input is supplied to the program:\n",
    "\n",
    "**New to Python or choosing between Python 2 and Python 3? Read Python 2 or Python 3.**\n",
    "\n",
    "Then, the output should be:\n",
    "\n",
    "\n",
    "```\n",
    "2:2\n",
    "3.:1\n",
    "3?:1\n",
    "New:1\n",
    "Python:5\n",
    "Read:1\n",
    "and:1\n",
    "between:1\n",
    "choosing:1\n",
    "or:2\n",
    "to:1\n",
    "```"
   ]
  },
  {
   "cell_type": "code",
   "execution_count": 6,
   "metadata": {},
   "outputs": [
    {
     "name": "stdout",
     "output_type": "stream",
     "text": [
      "2: 2\n",
      "3.: 1\n",
      "3?: 1\n",
      "New: 1\n",
      "Python: 5\n",
      "Read: 1\n",
      "and: 1\n",
      "between: 1\n",
      "choosing: 1\n",
      "or: 2\n",
      "to: 1\n"
     ]
    }
   ],
   "source": [
    "input_sequence = \"New to Python or choosing between Python 2 and Python 3? Read Python 2 or Python 3.\"\n",
    "\n",
    "def compute_frequency(sequence):\n",
    "    \"\"\"\n",
    "    Computes the frequency of words inside a string.\n",
    "    \"\"\"\n",
    "    try:\n",
    "        split_sequence = sequence.split(\" \")\n",
    "        dict_input = Counter(split_sequence)\n",
    "        output = []\n",
    "        for item in dict_input:\n",
    "            output.append(f\"{item}: {dict_input[item]}\")\n",
    "        output.sort()\n",
    "        return \"\\n\".join(output)\n",
    "    except:\n",
    "        return \"ERROR\"\n",
    "    \n",
    "output = compute_frequency(input_sequence)\n",
    "print(output)"
   ]
  },
  {
   "cell_type": "markdown",
   "metadata": {},
   "source": [
    "## Question 6\n",
    "Find the closest value (to a given scalar) in a vector, using the library numpy. "
   ]
  },
  {
   "cell_type": "code",
   "execution_count": 7,
   "metadata": {},
   "outputs": [
    {
     "name": "stdout",
     "output_type": "stream",
     "text": [
      "Random scalar: 7.574070634421226\n",
      "random vector: [0 1 2 3 4 5 6 7 8 9]\n",
      "\n",
      "The closest value to 7.574070634421226 in the vector is: 8\n"
     ]
    }
   ],
   "source": [
    "random_vector = np.arange(10)\n",
    "random_scalar = np.random.uniform(10)\n",
    "\n",
    "def find_closest_value(scalar, vector):\n",
    "    \"\"\"\n",
    "    Finds the closest value to a given scalar inside a vector.\n",
    "    \"\"\"\n",
    "    vector_minus_scalar = np.abs(random_vector-random_scalar) #scalar is broadcast to the whole vector\n",
    "    argmin_index = vector_minus_scalar.argmin()\n",
    "    return vector[argmin_index]\n",
    "\n",
    "print(f\"Random scalar: {random_scalar}\")\n",
    "print(f\"random vector: {random_vector}\")\n",
    "\n",
    "closest_value = find_closest_value(random_scalar, random_vector)\n",
    "print(f\"\\nThe closest value to {random_scalar} in the vector is: {closest_value}\")"
   ]
  },
  {
   "cell_type": "markdown",
   "metadata": {},
   "source": [
    "## Question 7\n",
    "Write a function find_longest_word() that takes a list of words and returns the length of the longest one. Use only higher order functions."
   ]
  },
  {
   "cell_type": "code",
   "execution_count": 8,
   "metadata": {},
   "outputs": [
    {
     "name": "stdout",
     "output_type": "stream",
     "text": [
      "11\n",
      "25\n"
     ]
    }
   ],
   "source": [
    "sequence = \"Lorem ipsum dolor sit amet, consectetur adipiscing elit, sed do eiusmod \"+\\\n",
    "           \"tempor incididunt ut labore et dolore magna aliqua.\"\n",
    "input_sequence = sequence.split(\" \")\n",
    "\n",
    "other_sequence = [\"anticonstitutionnellement\",\"is\",\"a\",\"terrible\",\"word\"]\n",
    "\n",
    "#def test_find_longest_word(word_list):\n",
    "#    sorted_list = sorted(word_list, key=len, reverse=True)\n",
    "#    return len(sorted_list[0])\n",
    "\n",
    "def find_longest_word(word_list):\n",
    "    \"\"\"\n",
    "    Finds the length of the longest word inside a sequence/list.\n",
    "    \"\"\"\n",
    "    lambda_max = lambda a,b : a if a > b else b\n",
    "    lengths = map(len, word_list)\n",
    "    length = functools.reduce(lambda_max,lengths)\n",
    "    return length\n",
    "\n",
    "word = find_longest_word(input_sequence)\n",
    "other_word = find_longest_word(other_sequence)\n",
    "\n",
    "print(word)\n",
    "print(other_word)"
   ]
  },
  {
   "cell_type": "markdown",
   "metadata": {},
   "source": [
    "## Question 8\n",
    "Write shell command from your notebook to print your Python version "
   ]
  },
  {
   "cell_type": "code",
   "execution_count": 9,
   "metadata": {},
   "outputs": [
    {
     "name": "stdout",
     "output_type": "stream",
     "text": [
      "Python 3.7.3\r\n"
     ]
    }
   ],
   "source": [
    "!python --version"
   ]
  }
 ],
 "metadata": {
  "colab": {
   "collapsed_sections": [],
   "name": "Exam_basic_algorithm.ipynb",
   "provenance": []
  },
  "kernelspec": {
   "display_name": "Python 3",
   "language": "python",
   "name": "python3"
  },
  "language_info": {
   "codemirror_mode": {
    "name": "ipython",
    "version": 3
   },
   "file_extension": ".py",
   "mimetype": "text/x-python",
   "name": "python",
   "nbconvert_exporter": "python",
   "pygments_lexer": "ipython3",
   "version": "3.7.3"
  }
 },
 "nbformat": 4,
 "nbformat_minor": 1
}
