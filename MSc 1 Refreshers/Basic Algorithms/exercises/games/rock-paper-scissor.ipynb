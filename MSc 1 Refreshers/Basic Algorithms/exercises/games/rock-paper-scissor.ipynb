{
 "cells": [
  {
   "cell_type": "code",
   "execution_count": 1,
   "metadata": {},
   "outputs": [],
   "source": [
    "def check_play(plays):\n",
    "    compare = {\"rock\":\"scissor\",\n",
    "               \"scissor\":\"paper\",\n",
    "               \"paper\":\"rock\"}\n",
    "    if plays[1] == compare[plays[0]]:\n",
    "        print(\"Player 1 won.\")\n",
    "    else:\n",
    "        print(\"Player 2 won.\")\n",
    "\n",
    "def request_player(nb):\n",
    "    print(f\"It's for player {nb} to play. What do you do?\\nExit by typing q\\n\")\n",
    "    inp = 'Start'\n",
    "    while inp.lower() not in [\"q\", \"rock\", \"paper\", \"scissor\"]:\n",
    "        if inp!='Start': print(\"Sorry, your input is not valid.\")\n",
    "        inp = input()\n",
    "    return inp.lower()\n",
    "    \n",
    "def play_RPS():\n",
    "    print(\"Welcome to a 2-player Rock Paper Scissor game.\")\n",
    "    nb = 1\n",
    "    plays = [None, None]\n",
    "    \n",
    "    while True:\n",
    "        inp = request_player(nb)\n",
    "        if inp == \"q\": break\n",
    "        if nb == 2:\n",
    "            plays[1] = inp\n",
    "            if plays[0]==plays[1]:\n",
    "                print(\"You've drawn. Try again.\")\n",
    "                nb -= 1\n",
    "            else:\n",
    "                check_play(plays)\n",
    "                break\n",
    "        else:\n",
    "            plays[0] = inp\n",
    "            nb += 1"
   ]
  },
  {
   "cell_type": "code",
   "execution_count": 2,
   "metadata": {},
   "outputs": [
    {
     "name": "stdout",
     "output_type": "stream",
     "text": [
      "Welcome to a 2-player Rock Paper Scissor game.\n",
      "It's for player 1 to play. What do you do?\n",
      "Exit by typing q\n",
      "\n",
      "rock\n",
      "It's for player 2 to play. What do you do?\n",
      "Exit by typing q\n",
      "\n",
      "scissors\n",
      "Sorry, your input is not valid.\n",
      "scissor\n",
      "Player 1 won.\n"
     ]
    }
   ],
   "source": [
    "play_RPS()"
   ]
  },
  {
   "cell_type": "code",
   "execution_count": null,
   "metadata": {},
   "outputs": [],
   "source": []
  }
 ],
 "metadata": {
  "kernelspec": {
   "display_name": "Python 3",
   "language": "python",
   "name": "python3"
  },
  "language_info": {
   "codemirror_mode": {
    "name": "ipython",
    "version": 3
   },
   "file_extension": ".py",
   "mimetype": "text/x-python",
   "name": "python",
   "nbconvert_exporter": "python",
   "pygments_lexer": "ipython3",
   "version": "3.7.3"
  }
 },
 "nbformat": 4,
 "nbformat_minor": 2
}
