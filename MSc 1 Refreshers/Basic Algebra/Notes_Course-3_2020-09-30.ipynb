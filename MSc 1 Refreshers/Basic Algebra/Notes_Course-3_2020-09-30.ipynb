{
 "cells": [
  {
   "cell_type": "markdown",
   "metadata": {},
   "source": [
    "# COURSE 4 - Basic Algrebra"
   ]
  },
  {
   "cell_type": "markdown",
   "metadata": {},
   "source": [
    "*September 30th, 2020*\n",
    "\n",
    "**Teacher**: Marco Corneli\n",
    "\n",
    "*Contacts on personal website:* https://math.unice.fr/~mcorneli/"
   ]
  },
  {
   "cell_type": "code",
   "execution_count": 2,
   "metadata": {},
   "outputs": [],
   "source": [
    "from IPython.display import Image"
   ]
  },
  {
   "cell_type": "markdown",
   "metadata": {},
   "source": [
    "## Review of Complex Numbers"
   ]
  },
  {
   "cell_type": "markdown",
   "metadata": {},
   "source": [
    "1. $y \\in \\mathbb{C}$, $y = a + i . b$, $\\forall a, b \\in \\mathbb{R}$, $i^2 = -1$\n",
    "\n",
    "2. $\\bar{y}$ = conjugate, $\\bar{y} = a - i.b$\n",
    "\n",
    "3. $y.\\bar{y} = a^2 + b^2$\n",
    "\n",
    "4. $\\bar{x.y} = \\bar{x}.\\bar{y}$\n",
    "\n",
    "5. $y = \\bar{y} \\Leftrightarrow y \\in \\mathbb{R}$ if and only if $b = 0$"
   ]
  },
  {
   "cell_type": "markdown",
   "metadata": {},
   "source": [
    "## Method of PCA"
   ]
  },
  {
   "cell_type": "markdown",
   "metadata": {},
   "source": [
    "$\\lambda_1 \\neq \\lambda_2 \\Rightarrow$ $<v_1, v_2>$ $= 0$ for a symmetric square matrix"
   ]
  },
  {
   "cell_type": "markdown",
   "metadata": {},
   "source": [
    "Usually, PCA uses 1 to 2 eigenvectors to project data into the $\\mathbb{R}^2$ vector space. Usually those eigenvectors have the highest magnitude (i.e. eigenvalues).\n",
    "\n",
    "1. Compute the covariance matrix of dimension $\\mathbb{N}$ x $\\mathbb{N}$\n",
    "\n",
    "2. Compute the eigenvalues and eigenvectors\n",
    "\n",
    "3. Take 2 eigenvectors corresponding to the heighest eigenvalues\n",
    "\n",
    "4. Create a dimension $\\mathbb{N}$x$2$ matrix with the selected eigenvectors as columns\n",
    "\n",
    "5. Multiply the original vectors with the created matrix"
   ]
  }
 ],
 "metadata": {
  "kernelspec": {
   "display_name": "Python 3",
   "language": "python",
   "name": "python3"
  },
  "language_info": {
   "codemirror_mode": {
    "name": "ipython",
    "version": 3
   },
   "file_extension": ".py",
   "mimetype": "text/x-python",
   "name": "python",
   "nbconvert_exporter": "python",
   "pygments_lexer": "ipython3",
   "version": "3.8.3"
  }
 },
 "nbformat": 4,
 "nbformat_minor": 4
}
